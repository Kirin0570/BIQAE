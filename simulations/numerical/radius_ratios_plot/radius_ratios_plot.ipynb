{
 "cells": [
  {
   "cell_type": "code",
   "execution_count": 1,
   "id": "343cd528",
   "metadata": {},
   "outputs": [],
   "source": [
    "import os\n",
    "import dill\n",
    "import numpy as np\n",
    "\n",
    "import matplotlib\n",
    "# Set the matplotlib backend to 'agg' to prevent it from rendering images in the notebook\n",
    "matplotlib.use('agg')\n",
    "import matplotlib.pyplot as plt\n",
    "\n",
    "import sys\n",
    "sys.path.insert(0, '../../../src')\n",
    "\n",
    "from biae import BayesianIQAEResult"
   ]
  },
  {
   "cell_type": "markdown",
   "id": "485e5f4f-8595-4987-9db6-a12b124fd309",
   "metadata": {},
   "source": [
    "## 0 Load the results."
   ]
  },
  {
   "cell_type": "code",
   "execution_count": 2,
   "id": "60154698",
   "metadata": {},
   "outputs": [],
   "source": [
    "thetas = [45] #range(0, 91, 5)\n",
    "epsilon_idx = 7   # 7 for the last epsilon value (1e-8)"
   ]
  },
  {
   "cell_type": "code",
   "execution_count": 3,
   "id": "42d7e5e6",
   "metadata": {},
   "outputs": [],
   "source": [
    "# Load variables\n",
    "all_results = []\n",
    "for theta in thetas:\n",
    "    file_path = os.path.join('../all_angle_results', f'results_{theta}.pkl')\n",
    "    with open(file_path, 'rb') as f:\n",
    "        data_loaded = dill.load(f)\n",
    "        # append 1000 results\n",
    "        all_results.extend(data_loaded['results_bayes'][epsilon_idx]['results'])\n",
    "        del data_loaded"
   ]
  },
  {
   "cell_type": "markdown",
   "id": "19acb81b-c7fe-4815-87ba-4ae66f51fb41",
   "metadata": {},
   "source": [
    "## 1 Compute the ratios"
   ]
  },
  {
   "cell_type": "markdown",
   "id": "8ea33cc9-23ce-469c-a19b-c5b56d93ced8",
   "metadata": {},
   "source": [
    "Function to compute ratios."
   ]
  },
  {
   "cell_type": "code",
   "execution_count": 4,
   "id": "2fc67653-c326-421a-ab8a-ee930a75af3d",
   "metadata": {},
   "outputs": [],
   "source": [
    "def get_ratios(iae_result):\n",
    "    # Filter out and keep only the theta_intervals \n",
    "    # that correspond to the last occurrence of each unique power value in the powers list\n",
    "    ## Find the indices of the last occurrence of each unique power value\n",
    "    unique_powers = list(set(iae_result.powers))\n",
    "    last_indices = [len(iae_result.powers) - 1 - iae_result.powers[::-1].index(power) for power in unique_powers]\n",
    "    \n",
    "    ## Sort the last_indices to preserve the order in powers\n",
    "    last_indices.sort()\n",
    "    \n",
    "    ## Filter the theta_intervals using the last_indices\n",
    "    filtered_theta_intervals = [iae_result.theta_intervals[i] for i in last_indices]\n",
    "    \n",
    "    # Calculate the half-lengths of the filtered intervals\n",
    "    radius = [(np.arcsin(np.sqrt(interval[1])) - np.arcsin(np.sqrt(interval[0]))) / 2 for interval in filtered_theta_intervals]\n",
    "    # Compute the ratios\n",
    "    ratios = [(radius[i-1] / radius[i]) for i in range(1, len(radius))]\n",
    "    \n",
    "    return ratios"
   ]
  },
  {
   "cell_type": "markdown",
   "id": "f361b182-a587-407d-9bbc-642992557285",
   "metadata": {},
   "source": [
    "Compute all ratios."
   ]
  },
  {
   "cell_type": "code",
   "execution_count": 5,
   "id": "f2bb2c76-ebe5-40c1-bd39-32542db03857",
   "metadata": {},
   "outputs": [],
   "source": [
    "all_ratios = []\n",
    "\n",
    "for iae_result in all_results:\n",
    "    # Get the ratios and record them\n",
    "    ratios = get_ratios(iae_result)\n",
    "    all_ratios.append(ratios)\n",
    "\n",
    "# Convert to numpy array for easier analysis\n",
    "all_ratios_array = np.array(all_ratios, dtype=object)  # Using dtype=object to handle lists of different lengths\n"
   ]
  },
  {
   "cell_type": "markdown",
   "id": "73ff0151-8688-4d4f-ab53-4504935d3ff8",
   "metadata": {},
   "source": [
    "## 3 Visualize the ratios"
   ]
  },
  {
   "cell_type": "markdown",
   "id": "942e2a98-c940-4019-9959-eaf90eb2036c",
   "metadata": {},
   "source": [
    "Function to plot the ratios."
   ]
  },
  {
   "cell_type": "markdown",
   "id": "bb1ef986-d6d9-470e-8326-f3d40ebb6756",
   "metadata": {},
   "source": [
    "Plot for each $\\theta$."
   ]
  },
  {
   "cell_type": "code",
   "execution_count": 13,
   "id": "28a3e990-cd7d-4a7e-af23-3bd2ed480898",
   "metadata": {},
   "outputs": [],
   "source": [
    "def plot_error_ratios(all_ratios, theoretical_ratio = None, i = None, percentile_low=5, percentile_high=95):\n",
    "    if i is None:\n",
    "        # Use all rows if i is not provided\n",
    "        selected_data = all_ratios\n",
    "        image_name = f'radius_ratio_all_amps_{epsilon_idx + 1}.png'\n",
    "    else:\n",
    "        # Calculate the start and end indices for the selected rows\n",
    "        start_index = i * 1000\n",
    "        end_index = (i + 1) * 1000\n",
    "        selected_data = all_ratios[start_index:end_index]\n",
    "        image_name = f'radius_ratio_{thetas[i]}_{epsilon_idx + 1}.png'  # Naming the image file based on the index\n",
    "\n",
    "    # Calculate the length of the longest list in selected_data\n",
    "    max_length = max(len(r) for r in selected_data)\n",
    "\n",
    "    # Initialize lists to store the avg, stddev, and selected percentiles for each index\n",
    "    avg_ratios = []\n",
    "    sd_ratios = []\n",
    "    percentile_low_values = []\n",
    "    percentile_high_values = []\n",
    "    \n",
    "\n",
    "    # Calculate the avg, stddev, and selected percentiles for each index\n",
    "    for j in range(max_length):\n",
    "        current_ratios = [r[j] for r in selected_data if len(r) > j]\n",
    "        avg_ratios.append(np.mean(current_ratios))\n",
    "        sd_ratios.append(np.std(current_ratios))\n",
    "        percentile_low_values.append(np.percentile(current_ratios, percentile_low))\n",
    "        percentile_high_values.append(np.percentile(current_ratios, percentile_high))\n",
    "\n",
    "    if i is None:\n",
    "        print(avg_ratios)\n",
    "    # Plotting the results\n",
    "    plt.figure(figsize=(9, 6))\n",
    "    x_values = range(0, len(avg_ratios))\n",
    "\n",
    "    # Plot the average ratios\n",
    "    plt.plot(x_values, [r for r in avg_ratios], 'b-', label='avg.')\n",
    "\n",
    "    # Plot the shaded area for standard deviation\n",
    "    plt.fill_between(x_values, \n",
    "                     (np.array(avg_ratios) - np.array(sd_ratios)), \n",
    "                     (np.array(avg_ratios) + np.array(sd_ratios)), \n",
    "                     color='gray', alpha=0.3, label=r'avg. $\\pm$ stddev.')\n",
    "\n",
    "    # Plot the selected percentiles\n",
    "    plt.plot(x_values, [r for r in percentile_low_values], 'b--', label=f'{percentile_low}th percentile')\n",
    "    plt.plot(x_values, [r for r in percentile_high_values], 'b:', label=f'{percentile_high}th percentile')\n",
    "\n",
    "    # Plot reference lines\n",
    "    if theoretical_ratio is not None:\n",
    "        plt.axhline(y=np.sqrt(1/theoretical_ratio), color='k', linestyle='--', alpha=0.5, label=r'Theoretical Ratio')\n",
    "\n",
    "    # Adding labels and title\n",
    "    plt.xlabel(r't', fontsize=16)\n",
    "    plt.ylabel(r'Interval Radius Ratio ($\\epsilon_{t-1}/\\epsilon_{t}$)', fontsize=16)\n",
    "    plt.ylim(0, 5)\n",
    "    if i is None:\n",
    "        plt.title(r'Interval Radius Ratio Paths for All $\\theta=0^\\circ,5^\\circ,\\dots,90^\\circ$', fontsize=18)\n",
    "    else:\n",
    "        plt.title(r'Interval Radius Ratio Paths for $\\theta= {}^\\circ$'.format(thetas[i]), fontsize=18)\n",
    "    plt.legend(fontsize=16, ncol=2)\n",
    "    plt.grid(True)\n",
    "    \n",
    "    # Increase font size of tick labels\n",
    "    plt.xticks(fontsize=14)\n",
    "    plt.yticks(fontsize=14)\n",
    "\n",
    "    # Create the directory if it doesn't exist\n",
    "    output_dir = 'figs_radius_ratio'\n",
    "    if not os.path.exists(output_dir):\n",
    "        os.makedirs(output_dir)\n",
    "\n",
    "    # Save the figure\n",
    "    plt.savefig(os.path.join(output_dir, image_name), bbox_inches='tight', dpi = 300)\n",
    "    # plt.show()\n",
    "\n",
    "# Example usage:\n",
    "# plot_error_ratios(all_ratios)  # This will plot all rows and save the image as radius_ratio_all_rows_3.png\n",
    "# plot_error_ratios(all_ratios, i=0)  # This will plot the first thousand rows and save the image as radius_ratio_0_3.png\n"
   ]
  },
  {
   "cell_type": "code",
   "execution_count": 14,
   "id": "fdcaa513-0fd2-44a8-a16b-936ce02b04c2",
   "metadata": {},
   "outputs": [],
   "source": [
    "for j in range(len(thetas)):\n",
    "    plot_error_ratios(all_ratios, theoretical_ratio=0.132, i=j)"
   ]
  },
  {
   "cell_type": "markdown",
   "id": "d3074c0e-e567-4da5-a355-c09efc847834",
   "metadata": {},
   "source": [
    "Plot for all $\\theta$."
   ]
  },
  {
   "cell_type": "code",
   "execution_count": 8,
   "id": "4dc8e161-fa72-4137-af77-d703bb3239fa",
   "metadata": {},
   "outputs": [],
   "source": [
    "#plot_error_ratios(all_ratios, 0.132)"
   ]
  }
 ],
 "metadata": {
  "kernelspec": {
   "display_name": "Qiskit",
   "language": "python",
   "name": "python3"
  },
  "language_info": {
   "codemirror_mode": {
    "name": "ipython",
    "version": 3
   },
   "file_extension": ".py",
   "mimetype": "text/x-python",
   "name": "python",
   "nbconvert_exporter": "python",
   "pygments_lexer": "ipython3",
   "version": "3.9.15"
  }
 },
 "nbformat": 4,
 "nbformat_minor": 5
}
