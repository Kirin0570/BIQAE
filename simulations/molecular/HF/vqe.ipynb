{
 "cells": [
  {
   "cell_type": "code",
   "execution_count": 1,
   "id": "a91004bd-003e-48ec-9deb-a4b4712546d4",
   "metadata": {},
   "outputs": [],
   "source": [
    "from qiskit_nature.second_q.formats.molecule_info import MoleculeInfo\n",
    "from qiskit_nature.second_q.drivers import PySCFDriver\n",
    "from qiskit_nature.second_q.transformers import FreezeCoreTransformer\n",
    "from qiskit_nature.second_q.mappers import ParityMapper\n",
    "import dill\n",
    "import numpy as np\n",
    "from qiskit_algorithms.optimizers import SPSA, SLSQP, COBYLA\n",
    "from qiskit_aer.primitives import Estimator\n",
    "from qiskit_nature.second_q.circuit.library import HartreeFock\n",
    "from qiskit.circuit.library import EfficientSU2"
   ]
  },
  {
   "cell_type": "code",
   "execution_count": 2,
   "id": "bfd3f46b-c8ad-478b-a8c3-6169683131c5",
   "metadata": {
    "editable": true,
    "slideshow": {
     "slide_type": ""
    },
    "tags": [
     "parameters"
    ]
   },
   "outputs": [],
   "source": [
    "BL = 0.6"
   ]
  },
  {
   "cell_type": "markdown",
   "id": "9ffc8cb9-ba3d-4fee-a312-3f8fb750c8d0",
   "metadata": {},
   "source": [
    "### 1 Construct the Hamiltonian"
   ]
  },
  {
   "cell_type": "markdown",
   "id": "35e8153b-d82c-4377-81d8-4eb4bd758b04",
   "metadata": {},
   "source": [
    "Helper function to construct the Hamiltonian represented as a Pauli decomposition stored in `qubit_op`, while also returning the `nuclear_repulsion_energy` and `core_electron_energy`."
   ]
  },
  {
   "cell_type": "code",
   "execution_count": 3,
   "id": "9df416a1-f5f5-4093-97ea-339e028187a0",
   "metadata": {
    "editable": true,
    "slideshow": {
     "slide_type": ""
    },
    "tags": []
   },
   "outputs": [],
   "source": [
    "def get_qubit_op(BL):\n",
    "    # Define Molecule\n",
    "    molecule = MoleculeInfo(\n",
    "        # Coordinates in Angstrom\n",
    "        symbols=[\"H\", \"F\"],\n",
    "        coords=([0.0, 0.0, 0.0], [BL, 0.0, 0.0]),\n",
    "        multiplicity=1,  # = 2*spin + 1\n",
    "        charge=0,\n",
    "    )\n",
    "    \n",
    "    # molecule = MoleculeInfo(\n",
    "    #     # Coordinates in Angstrom\n",
    "    #     symbols=[\"Be\", \"H\", \"H\"],  # Beryllium and two hydrogens\n",
    "    #     coords=([0.0, 0.0, 0.0], [BL, 0.0, 0.0], [-BL, 0.0, 0.0]),  # Linear geometry\n",
    "    #     multiplicity=1,  # = 2*spin + 1, for singlet state\n",
    "    #     charge=0,  # Neutral molecule\n",
    "    # )\n",
    "\n",
    "    driver = PySCFDriver.from_molecule(molecule)\n",
    "\n",
    "    # Get properties\n",
    "    properties = driver.run()\n",
    "\n",
    "    # Now you can get the reduced electronic structure problem\n",
    "    problem = FreezeCoreTransformer(\n",
    "        freeze_core=True, remove_orbitals=[-3, -2]\n",
    "    ).transform(properties)\n",
    "    fermionic_op = problem.hamiltonian.second_q_op()\n",
    "    \n",
    "    num_particles = problem.num_particles\n",
    "    num_spatial_orbitals = problem.num_spatial_orbitals\n",
    "\n",
    "    mapper = ParityMapper(num_particles=problem.num_particles)\n",
    "    tapered_mapper = problem.get_tapered_mapper(mapper)\n",
    "    qubit_op = tapered_mapper.map(fermionic_op)\n",
    "\n",
    "    core_electron_energy = problem.hamiltonian.constants['FreezeCoreTransformer']\n",
    "    nuclear_repulsion_energy = problem.nuclear_repulsion_energy\n",
    "    \n",
    "    return qubit_op, num_particles, num_spatial_orbitals, problem, tapered_mapper, nuclear_repulsion_energy, core_electron_energy\n",
    "    "
   ]
  },
  {
   "cell_type": "code",
   "execution_count": 5,
   "id": "8d4f9c50-d5cd-4ccc-8fa8-30dd529576c9",
   "metadata": {},
   "outputs": [
    {
     "data": {
      "text/plain": [
       "SparsePauliOp(['IIIIII', 'IIIIIZ', 'ZIZIZX', 'IIIIIX', 'IIIIXX', 'IIIIYY', 'ZIZIZZ', 'IIIIXZ', 'ZIZIXI', 'IZZIII', 'ZZIIII', 'IIIIZI', 'IIIZII', 'IIZXII', 'IIIXII', 'XXXXII', 'YXXYII', 'IIZZII', 'XXXZII', 'YXYIII', 'ZIIIII', 'ZIZIZI', 'IIIIXI', 'ZIZIXZ', 'IZZIIZ', 'ZZIIIZ', 'IIIIZZ', 'IIIZIZ', 'IIZXIZ', 'IIIXIZ', 'XXXXIZ', 'YXXYIZ', 'IIZZIZ', 'XXXZIZ', 'YXYIIZ', 'ZIIIIZ', 'ZIZIYY', 'ZIZIXX', 'ZZIIZX', 'IZZIIX', 'IZZIZX', 'ZZIIIX', 'ZIZIIX', 'IIIIZX', 'ZIZZZX', 'IIIZIX', 'ZIIXZX', 'ZIZXZX', 'IIZXIX', 'IIIXIX', 'YXYXZX', 'XXYYZX', 'XXXXIX', 'YXXYIX', 'ZIIZZX', 'IIZZIX', 'YXYZZX', 'XXXIZX', 'XXXZIX', 'YXYIIX', 'IIZIZX', 'ZIIIIX', 'IZZIXX', 'IZZIYY', 'ZIXXZX', 'ZZYYZX', 'ZZYXZY', 'ZIXYZY', 'ZIXZZX', 'ZZXIZX', 'ZZYZZY', 'ZIYIZY', 'YYZIZX', 'XXIIZX', 'YXIIZY', 'XYZIZY', 'ZZIIXX', 'ZZIIYY', 'ZXXXZX', 'IYXYZX', 'IYXXZY', 'ZXXYZY', 'ZXXZZX', 'IYYIZX', 'IYXZZY', 'ZXYIZY', 'XZIIZX', 'XIIIZX', 'YIIIZY', 'YZIIZY', 'IIIZXX', 'IIIZYY', 'IIZXXX', 'IIIXXX', 'IIZXYY', 'IIIXYY', 'XXXXXX', 'YXXYXX', 'XXXXYY', 'YXXYYY', 'IIZZXX', 'IIZZYY', 'XXXZXX', 'YXYIXX', 'XXXZYY', 'YXYIYY', 'ZIIIXX', 'ZIIIYY', 'ZZIIZZ', 'IZZIZZ', 'ZIZIIZ', 'ZIZZZZ', 'ZIIXZZ', 'ZIZXZZ', 'YXYXZZ', 'XXYYZZ', 'ZIIZZZ', 'YXYZZZ', 'XXXIZZ', 'IIZIZZ', 'IZZIXZ', 'ZZIIXI', 'ZIXXZZ', 'ZZYYZZ', 'IZXXII', 'IIYYII', 'ZIXZZZ', 'ZZXIZZ', 'IZXZII', 'IIXIII', 'YYZIZZ', 'XXIIZZ', 'XXZIII', 'YYIIII', 'ZZIIXZ', 'IZZIXI', 'ZXXXZZ', 'IYXYZZ', 'ZYYXII', 'IXYYII', 'ZXXZZZ', 'IYYIZZ', 'ZYYZII', 'IXXIII', 'XZIIZZ', 'XIIIZZ', 'XIZIII', 'XZZIII', 'IIIZXZ', 'ZIZZXI', 'IIZXXZ', 'IIIXXZ', 'ZIIXXI', 'ZIZXXI', 'XXXXXZ', 'YXXYXZ', 'YXYXXI', 'XXYYXI', 'IIZZXZ', 'ZIIZXI', 'XXXZXZ', 'YXYIXZ', 'YXYZXI', 'XXXIXI', 'ZIIIXZ', 'IIZIXI', 'ZIZIII', 'IZZIZI', 'IZZZII', 'IZIXII', 'IZZXII', 'XYYXII', 'YYYYII', 'IZIZII', 'XYYZII', 'YYXIII', 'ZZZIII', 'IXIIII', 'ZXZIII', 'ZZYXYI', 'ZIXYYI', 'ZIXXXI', 'ZZYYXI', 'ZZYZYI', 'ZIYIYI', 'ZIXZXI', 'ZZXIXI', 'YXIIYI', 'XYZIYI', 'YYZIXI', 'XXIIXI', 'ZZIIZI', 'ZZIZII', 'ZZZXII', 'ZZIXII', 'YYXXII', 'XYXYII', 'ZZZZII', 'YYXZII', 'XYYIII', 'IZIIII', 'IYXXYI', 'ZXXYYI', 'ZXXXXI', 'IYXYXI', 'IYXZYI', 'ZXYIYI', 'ZXXZXI', 'IYYIXI', 'YIIIYI', 'YZIIYI', 'XZIIXI', 'XIIIXI', 'IIIZZI', 'IIZXZI', 'IIIXZI', 'XXXXZI', 'YXXYZI', 'IIZZZI', 'XXXZZI', 'YXYIZI', 'ZIIIZI', 'IIZIII', 'XXXIII', 'YXYZII', 'ZIIZII', 'XXYYII', 'YXYXII', 'ZIZXII', 'ZIIXII', 'ZIZZII'],\n",
       "              coeffs=[-2.15119662e+01+0.j,  1.86925483e+00+0.j,  5.82943917e-02+0.j,\n",
       " -5.82943917e-02+0.j, -2.29151932e-01+0.j, -2.29151932e-01+0.j,\n",
       "  1.45848820e+00+0.j,  1.80495341e-01+0.j, -1.80495341e-01+0.j,\n",
       "  2.82923576e+00+0.j,  2.82923576e+00+0.j,  6.05420054e-01+0.j,\n",
       "  1.86925483e+00+0.j,  5.82943917e-02+0.j, -5.82943917e-02+0.j,\n",
       " -2.29151932e-01+0.j, -2.29151932e-01+0.j,  1.45848820e+00+0.j,\n",
       "  1.80495341e-01+0.j,  1.80495341e-01+0.j,  6.05420054e-01+0.j,\n",
       "  1.65019936e-01+0.j,  1.59169133e-02+0.j, -1.59169133e-02+0.j,\n",
       "  3.94245159e-01+0.j,  3.94245159e-01+0.j,  1.53998951e-01+0.j,\n",
       "  2.28074581e-01+0.j, -1.54678687e-02+0.j,  1.54678687e-02+0.j,\n",
       " -3.99575446e-02+0.j, -3.99575446e-02+0.j,  1.98037854e-01+0.j,\n",
       "  1.66421712e-02+0.j,  1.66421712e-02+0.j,  1.81526790e-01+0.j,\n",
       "  3.89287652e-02+0.j,  3.89287652e-02+0.j,  1.14608091e-02+0.j,\n",
       " -1.14608091e-02+0.j,  1.14608091e-02+0.j, -1.14608091e-02+0.j,\n",
       " -6.60103014e-03+0.j,  6.60103014e-03+0.j, -1.54678687e-02+0.j,\n",
       "  1.54678687e-02+0.j,  3.30179183e-02+0.j, -3.30179183e-02+0.j,\n",
       " -3.30179183e-02+0.j,  3.30179183e-02+0.j, -7.25257976e-04+0.j,\n",
       "  7.25257976e-04+0.j, -7.25257976e-04+0.j, -7.25257976e-04+0.j,\n",
       "  2.27905765e-02+0.j, -2.27905765e-02+0.j, -1.46721522e-02+0.j,\n",
       " -1.46721522e-02+0.j, -1.46721522e-02+0.j, -1.46721522e-02+0.j,\n",
       " -2.14490353e-02+0.j,  2.14490353e-02+0.j, -7.15689196e-02+0.j,\n",
       " -7.15689196e-02+0.j,  4.18265706e-02+0.j,  4.18265706e-02+0.j,\n",
       "  4.18265706e-02+0.j, -4.18265706e-02+0.j,  1.39133588e-02+0.j,\n",
       " -1.39133588e-02+0.j,  1.39133588e-02+0.j, -1.39133588e-02+0.j,\n",
       "  1.41869981e-02+0.j,  1.41869981e-02+0.j, -1.41869981e-02+0.j,\n",
       "  1.41869981e-02+0.j, -7.15689196e-02+0.j, -7.15689196e-02+0.j,\n",
       "  4.18265706e-02+0.j,  4.18265706e-02+0.j,  4.18265706e-02+0.j,\n",
       " -4.18265706e-02+0.j,  1.39133588e-02+0.j,  1.39133588e-02+0.j,\n",
       "  1.39133588e-02+0.j, -1.39133588e-02+0.j, -1.41869981e-02+0.j,\n",
       "  1.41869981e-02+0.j, -1.41869981e-02+0.j,  1.41869981e-02+0.j,\n",
       " -3.99575446e-02+0.j, -3.99575446e-02+0.j,  7.25257976e-04+0.j,\n",
       " -7.25257976e-04+0.j,  7.25257976e-04+0.j, -7.25257976e-04+0.j,\n",
       "  2.75278384e-02+0.j,  2.75278384e-02+0.j,  2.75278384e-02+0.j,\n",
       "  2.75278384e-02+0.j, -2.42566130e-02+0.j, -2.42566130e-02+0.j,\n",
       " -1.48480052e-02+0.j, -1.48480052e-02+0.j, -1.48480052e-02+0.j,\n",
       " -1.48480052e-02+0.j, -1.71288297e-02+0.j, -1.71288297e-02+0.j,\n",
       "  4.09451589e-01+0.j,  4.09451589e-01+0.j,  1.37385696e-01+0.j,\n",
       "  1.98037854e-01+0.j,  2.27905765e-02+0.j, -2.27905765e-02+0.j,\n",
       "  2.42566130e-02+0.j, -2.42566130e-02+0.j,  2.38746931e-01+0.j,\n",
       " -3.49756459e-02+0.j, -3.49756459e-02+0.j,  1.58721923e-01+0.j,\n",
       "  5.64374204e-02+0.j, -5.64374204e-02+0.j,  1.39133588e-02+0.j,\n",
       "  1.39133588e-02+0.j, -1.39133588e-02+0.j, -1.39133588e-02+0.j,\n",
       "  1.78212337e-02+0.j, -1.78212337e-02+0.j, -1.78212337e-02+0.j,\n",
       "  1.78212337e-02+0.j,  7.26018880e-04+0.j,  7.26018880e-04+0.j,\n",
       "  7.26018880e-04+0.j,  7.26018880e-04+0.j,  5.64374204e-02+0.j,\n",
       " -5.64374204e-02+0.j,  1.39133588e-02+0.j,  1.39133588e-02+0.j,\n",
       "  1.39133588e-02+0.j, -1.39133588e-02+0.j,  1.78212337e-02+0.j,\n",
       "  1.78212337e-02+0.j,  1.78212337e-02+0.j,  1.78212337e-02+0.j,\n",
       " -7.26018880e-04+0.j,  7.26018880e-04+0.j,  7.26018880e-04+0.j,\n",
       " -7.26018880e-04+0.j,  1.66421712e-02+0.j, -1.66421712e-02+0.j,\n",
       "  1.46721522e-02+0.j, -1.46721522e-02+0.j, -1.46721522e-02+0.j,\n",
       "  1.46721522e-02+0.j, -1.48480052e-02+0.j, -1.48480052e-02+0.j,\n",
       " -1.48480052e-02+0.j,  1.48480052e-02+0.j,  3.49756459e-02+0.j,\n",
       " -3.49756459e-02+0.j,  2.13362270e-02+0.j,  2.13362270e-02+0.j,\n",
       "  2.13362270e-02+0.j,  2.13362270e-02+0.j, -8.57700683e-05+0.j,\n",
       "  8.57700683e-05+0.j,  8.63087701e-01+0.j,  3.20227173e-01+0.j,\n",
       "  3.94245159e-01+0.j,  1.14608091e-02+0.j, -1.14608091e-02+0.j,\n",
       "  7.15689196e-02+0.j,  7.15689196e-02+0.j,  4.09451589e-01+0.j,\n",
       " -5.64374204e-02+0.j,  5.64374204e-02+0.j,  3.20227173e-01+0.j,\n",
       "  2.68851850e-02+0.j, -2.68851850e-02+0.j,  1.41869981e-02+0.j,\n",
       " -1.41869981e-02+0.j,  1.41869981e-02+0.j,  1.41869981e-02+0.j,\n",
       "  7.26018880e-04+0.j, -7.26018880e-04+0.j,  7.26018880e-04+0.j,\n",
       " -7.26018880e-04+0.j, -8.83638974e-03+0.j,  8.83638974e-03+0.j,\n",
       "  8.83638974e-03+0.j,  8.83638974e-03+0.j,  3.20227173e-01+0.j,\n",
       "  3.94245159e-01+0.j,  1.14608091e-02+0.j, -1.14608091e-02+0.j,\n",
       "  7.15689196e-02+0.j, -7.15689196e-02+0.j,  4.09451589e-01+0.j,\n",
       " -5.64374204e-02+0.j,  5.64374204e-02+0.j,  3.20227173e-01+0.j,\n",
       "  1.41869981e-02+0.j, -1.41869981e-02+0.j,  1.41869981e-02+0.j,\n",
       "  1.41869981e-02+0.j,  7.26018880e-04+0.j, -7.26018880e-04+0.j,\n",
       "  7.26018880e-04+0.j,  7.26018880e-04+0.j, -8.83638974e-03+0.j,\n",
       "  8.83638974e-03+0.j, -8.83638974e-03+0.j,  8.83638974e-03+0.j,\n",
       "  1.81526790e-01+0.j, -2.14490353e-02+0.j,  2.14490353e-02+0.j,\n",
       " -1.71288297e-02+0.j, -1.71288297e-02+0.j,  1.58721923e-01+0.j,\n",
       " -8.57700683e-05+0.j, -8.57700683e-05+0.j,  1.72181287e-01+0.j,\n",
       "  1.65019936e-01+0.j,  1.59169133e-02+0.j,  1.59169133e-02+0.j,\n",
       "  1.53998951e-01+0.j,  3.89287652e-02+0.j, -3.89287652e-02+0.j,\n",
       " -6.60103014e-03+0.j,  6.60103014e-03+0.j,  1.37385696e-01+0.j])"
      ]
     },
     "execution_count": 5,
     "metadata": {},
     "output_type": "execute_result"
    }
   ],
   "source": [
    "(qubit_op, num_particles, num_spatial_orbitals, problem, mapper,nuclear_repulsion_energy, core_electron_energy) = get_qubit_op(BL)"
   ]
  },
  {
   "cell_type": "code",
   "execution_count": 5,
   "id": "40076bcf-f30d-4de7-a55b-1ab865f084fb",
   "metadata": {},
   "outputs": [],
   "source": [
    "# Extract terms and coefficients\n",
    "pauli_list = list(zip(qubit_op.paulis, qubit_op.coeffs))\n",
    "\n",
    "# Sort terms by absolute coefficient magnitude (largest first)\n",
    "sorted_pauli_list = sorted(pauli_list, key=lambda x: abs(x[1]), reverse=True)\n",
    "\n",
    "# Print sorted terms\n",
    "# for pauli, coef in sorted_pauli_list:\n",
    "#     print(f\"Pauli: {pauli}, Coefficient: {coef}\")\n",
    "\n",
    "# Save the list\n",
    "with open(\"sorted_pauli_list.pkl\", \"wb\") as f:\n",
    "    dill.dump(sorted_pauli_list, f)"
   ]
  },
  {
   "cell_type": "code",
   "execution_count": 6,
   "id": "851f13b2-5ffb-4dcb-91ad-d8a39084227b",
   "metadata": {},
   "outputs": [],
   "source": [
    "dd = np.real(min(np.linalg.eigvals(qubit_op.to_matrix())))"
   ]
  },
  {
   "cell_type": "markdown",
   "id": "3529886c-e59d-4734-a005-ebcc2151d9c2",
   "metadata": {},
   "source": [
    "### 2 Perform VQE"
   ]
  },
  {
   "cell_type": "markdown",
   "id": "9a26e439-1fcb-4e5e-a0f6-dcb73b25a7e9",
   "metadata": {},
   "source": [
    "Define a class to perform VQE."
   ]
  },
  {
   "cell_type": "code",
   "execution_count": 7,
   "id": "86303f16-512b-4947-8dcb-3ddb12dcdf79",
   "metadata": {},
   "outputs": [],
   "source": [
    "# Define the custom VQE\n",
    "class CustomVQE:\n",
    "    def __init__(self, estimator, ansatz, optimizer, qubit_op, dd, NREplusCEE, custom_function, initial_point=None):\n",
    "        self.estimator = estimator\n",
    "        self.ansatz = ansatz\n",
    "        self.optimizer = optimizer\n",
    "        self.qubit_op = qubit_op\n",
    "        self.NREplusCEE = NREplusCEE\n",
    "        self.dd = dd\n",
    "        self.custom_function = custom_function\n",
    "        self.initial_point = initial_point  or [0] * ansatz.num_parameters\n",
    "\n",
    "    def compute_minimum_eigenvalue(self):\n",
    "        # Define the function to minimize\n",
    "        def objective_function(params):\n",
    "            # Evaluate the expectation value of the qubit operator\n",
    "            expectation = self.estimator.run([self.ansatz], [self.qubit_op], [params]).result().values[0]\n",
    "            # Evaluate the custom objective function\n",
    "            return self.custom_function(expectation, params)\n",
    "\n",
    "        # Use the `minimize` method for optimization\n",
    "        opt_result = self.optimizer.minimize(\n",
    "            fun=objective_function,\n",
    "            x0=self.initial_point\n",
    "        )\n",
    "\n",
    "        result = {\n",
    "            'x': [float(value) for value in opt_result.x],\n",
    "            'fun': opt_result.fun,\n",
    "            'dd': self.dd,\n",
    "            'NREplusCEE': self.NREplusCEE\n",
    "        }\n",
    "\n",
    "        \n",
    "        return result\n"
   ]
  },
  {
   "cell_type": "code",
   "execution_count": 8,
   "id": "c171cc3c-701c-4c56-bdbd-4f2090e20e13",
   "metadata": {},
   "outputs": [],
   "source": [
    "# l=12 and maxiter = 200 works for LiH and HF"
   ]
  },
  {
   "cell_type": "code",
   "execution_count": 9,
   "id": "5b37e8b3-a55f-4153-85d3-475522a8210d",
   "metadata": {},
   "outputs": [],
   "source": [
    "optimizer = SLSQP(maxiter=300)\n",
    "noiseless_estimator = Estimator(approximation=True)\n",
    "\n",
    "\n",
    "# Define ansatz\n",
    "var_form = EfficientSU2(qubit_op.num_qubits, reps=12, entanglement='full', skip_unentangled_qubits=False, parameter_prefix='a')\n",
    "\n",
    "\n",
    "# Example Custom Objective Function\n",
    "def custom_objective_function(expectation_value, parameters):\n",
    "    # penalty_term = 0.1 * sum(param**2 for param in parameters)  # Example regularization\n",
    "    return expectation_value \n",
    "\n",
    "\n",
    "# Create an instance of CustomVQE\n",
    "custom_vqe = CustomVQE(\n",
    "    estimator=noiseless_estimator,\n",
    "    ansatz=var_form,\n",
    "    optimizer=optimizer,\n",
    "    qubit_op=qubit_op,\n",
    "    dd = dd,\n",
    "    NREplusCEE = nuclear_repulsion_energy + core_electron_energy,\n",
    "    custom_function=custom_objective_function,\n",
    "    initial_point = list(np.random.uniform(-np.pi, np.pi, var_form.num_parameters))\n",
    ")\n"
   ]
  },
  {
   "cell_type": "code",
   "execution_count": 10,
   "id": "ecc88820-8d40-44ce-84c7-20bd12d28db4",
   "metadata": {},
   "outputs": [],
   "source": [
    "vqe_result = custom_vqe.compute_minimum_eigenvalue()\n"
   ]
  },
  {
   "cell_type": "code",
   "execution_count": 11,
   "id": "4dff00bc-3905-43b7-8f7c-9200e0b73af0",
   "metadata": {},
   "outputs": [
    {
     "data": {
      "text/plain": [
       "156"
      ]
     },
     "execution_count": 11,
     "metadata": {},
     "output_type": "execute_result"
    }
   ],
   "source": [
    "len(vqe_result['x'])"
   ]
  },
  {
   "cell_type": "code",
   "execution_count": 12,
   "id": "09b66dae-9046-4cd5-9bd8-e800a48d0f42",
   "metadata": {},
   "outputs": [
    {
     "name": "stdout",
     "output_type": "stream",
     "text": [
      "6.125364668374544e-06\n"
     ]
    }
   ],
   "source": [
    "print(vqe_result['fun'] - vqe_result['dd'])"
   ]
  },
  {
   "cell_type": "code",
   "execution_count": 13,
   "id": "bb7804b1-5bfe-4442-8a91-49614a312f54",
   "metadata": {},
   "outputs": [],
   "source": [
    "with open(\"vqe_result.pkl\", \"wb\") as f:\n",
    "    dill.dump(vqe_result, f)"
   ]
  }
 ],
 "metadata": {
  "kernelspec": {
   "display_name": "Python 3 (ipykernel)",
   "language": "python",
   "name": "python3"
  },
  "language_info": {
   "codemirror_mode": {
    "name": "ipython",
    "version": 3
   },
   "file_extension": ".py",
   "mimetype": "text/x-python",
   "name": "python",
   "nbconvert_exporter": "python",
   "pygments_lexer": "ipython3",
   "version": "3.10.15"
  }
 },
 "nbformat": 4,
 "nbformat_minor": 5
}
