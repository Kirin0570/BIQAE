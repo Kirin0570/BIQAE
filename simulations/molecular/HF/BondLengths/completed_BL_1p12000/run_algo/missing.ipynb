{
 "cells": [
  {
   "cell_type": "code",
   "execution_count": 1,
   "metadata": {},
   "outputs": [
    {
     "data": {
      "text/plain": [
       "1"
      ]
     },
     "execution_count": 1,
     "metadata": {},
     "output_type": "execute_result"
    }
   ],
   "source": [
    "import os\n",
    "\n",
    "def find_missing_results(num_results, results_dir=\".\", file_prefix=\"results_\", file_suffix=\".pkl\"):\n",
    "    \"\"\"\n",
    "    Traverse the current directory to find which results_i.pkl files are missing.\n",
    "\n",
    "    Args:\n",
    "        num_results (int): The total number of expected results files.\n",
    "        results_dir (str): Directory where results are stored.\n",
    "        file_prefix (str): Prefix of the results files.\n",
    "        file_suffix (str): Suffix of the results files.\n",
    "    \n",
    "    Returns:\n",
    "        List[int]: List of missing result file indices.\n",
    "    \"\"\"\n",
    "    missing_files = []\n",
    "    for i in range(num_results):\n",
    "        file_name = f\"{file_prefix}{i}{file_suffix}\"\n",
    "        if not os.path.exists(os.path.join(results_dir, file_name)):\n",
    "            missing_files.append(i)\n",
    "    return missing_files\n",
    "\n",
    "# Example usage\n",
    "missing_files = find_missing_results(231)\n",
    "len(missing_files)\n",
    "#41\n"
   ]
  },
  {
   "cell_type": "code",
   "execution_count": 2,
   "metadata": {},
   "outputs": [],
   "source": [
    "with open(\"resubmit_missing_jobs.sub\", \"w\") as f:\n",
    "    f.write(\"\"\"# HTCondor resubmit file for missing results\n",
    "container_image = docker://atharvavidwans/qiskit_algo:latest\n",
    "universe = container\n",
    "\n",
    "Executable = submit_run_algo.sh\n",
    "\n",
    "docker_pull_policy = ifnotpresent\n",
    "\n",
    "request_cpus = 1\n",
    "request_memory = 20GB\n",
    "should_transfer_files = YES\n",
    "when_to_transfer_output = ON_EXIT\n",
    "transfer_input_files = ../all_str_A_Q/circuits, run_algo.py\n",
    "request_disk = 20GB\n",
    "\n",
    "# Settings to automatically release held jobs\n",
    "periodic_release = (HoldReasonCode == 35)\n",
    "\"\"\")\n",
    "    for process in missing_files:\n",
    "        f.write(f\"Log = ./log/job_log_{process}.log\\n\")\n",
    "        f.write(f\"Output = ./output/job_output_{process}.txt\\n\")\n",
    "        f.write(f\"Error = ./error/job_error_{process}.txt\\n\")\n",
    "        f.write(f\"arguments = {process}\\n\")\n",
    "        f.write(f\"+LongJob = True\\n\")\n",
    "        f.write(\"queue 1\\n\")\n"
   ]
  },
  {
   "cell_type": "markdown",
   "metadata": {},
   "source": [
    "## Check"
   ]
  },
  {
   "cell_type": "code",
   "execution_count": 3,
   "metadata": {},
   "outputs": [
    {
     "name": "stdout",
     "output_type": "stream",
     "text": [
      "True\n"
     ]
    }
   ],
   "source": [
    "import os\n",
    "import dill\n",
    "\n",
    "all_results = {}\n",
    "\n",
    "file_path = \"../aggregate_results/all_results.pkl\"\n",
    "print(os.path.exists(file_path))\n",
    "if os.path.exists(file_path) and os.path.getsize(file_path) > 0:\n",
    "    with open(file_path, 'rb') as f:\n",
    "        all_results = dill.load(f)\n",
    "else:\n",
    "    print(\"File is empty or does not exist. Initializing all_results as an empty dictionary.\")\n",
    "\n",
    "# Now you can proceed to use all_results\n"
   ]
  },
  {
   "cell_type": "code",
   "execution_count": 4,
   "metadata": {},
   "outputs": [
    {
     "data": {
      "text/plain": [
       "17"
      ]
     },
     "execution_count": 4,
     "metadata": {},
     "output_type": "execute_result"
    }
   ],
   "source": [
    "len(all_results)"
   ]
  },
  {
   "cell_type": "code",
   "execution_count": null,
   "metadata": {},
   "outputs": [],
   "source": []
  }
 ],
 "metadata": {
  "kernelspec": {
   "display_name": "Qiskit",
   "language": "python",
   "name": "python3"
  },
  "language_info": {
   "codemirror_mode": {
    "name": "ipython",
    "version": 3
   },
   "file_extension": ".py",
   "mimetype": "text/x-python",
   "name": "python",
   "nbconvert_exporter": "python",
   "pygments_lexer": "ipython3",
   "version": "3.9.20"
  }
 },
 "nbformat": 4,
 "nbformat_minor": 4
}
