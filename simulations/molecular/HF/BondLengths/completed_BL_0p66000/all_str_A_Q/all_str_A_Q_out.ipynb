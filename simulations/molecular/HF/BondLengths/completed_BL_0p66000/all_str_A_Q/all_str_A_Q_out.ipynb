{
 "cells": [
  {
   "cell_type": "code",
   "execution_count": 1,
   "id": "d911f43c",
   "metadata": {
    "execution": {
     "iopub.execute_input": "2025-01-25T05:42:02.514823Z",
     "iopub.status.busy": "2025-01-25T05:42:02.514092Z",
     "iopub.status.idle": "2025-01-25T05:42:03.597116Z",
     "shell.execute_reply": "2025-01-25T05:42:03.596295Z"
    },
    "papermill": {
     "duration": 1.089907,
     "end_time": "2025-01-25T05:42:03.598815",
     "exception": false,
     "start_time": "2025-01-25T05:42:02.508908",
     "status": "completed"
    },
    "tags": []
   },
   "outputs": [],
   "source": [
    "import sys\n",
    "import os\n",
    "import dill\n",
    "import matplotlib.pyplot as plt\n",
    "\n",
    "from qiskit import transpile\n",
    "from qiskit_aer import AerSimulator\n",
    "from qiskit.qpy import load as qpy_load, dump as qpy_dump\n",
    "\n",
    "# Add the path to the parent of the parent directory\n",
    "sys.path.append(os.path.abspath(os.path.join(os.getcwd(), \"../../\")))\n",
    "\n",
    "# Now you can import your modules\n",
    "from circuit_constructors import construct_A, construct_Q"
   ]
  },
  {
   "cell_type": "markdown",
   "id": "bba6b064",
   "metadata": {
    "papermill": {
     "duration": 0.016267,
     "end_time": "2025-01-25T05:42:03.619794",
     "exception": false,
     "start_time": "2025-01-25T05:42:03.603527",
     "status": "completed"
    },
    "tags": []
   },
   "source": [
    "### 1 Construct A and Q for all Pauli strings"
   ]
  },
  {
   "cell_type": "code",
   "execution_count": 2,
   "id": "741bbc91",
   "metadata": {
    "execution": {
     "iopub.execute_input": "2025-01-25T05:42:03.643379Z",
     "iopub.status.busy": "2025-01-25T05:42:03.642778Z",
     "iopub.status.idle": "2025-01-25T05:42:03.653395Z",
     "shell.execute_reply": "2025-01-25T05:42:03.652380Z"
    },
    "papermill": {
     "duration": 0.022773,
     "end_time": "2025-01-25T05:42:03.655269",
     "exception": false,
     "start_time": "2025-01-25T05:42:03.632496",
     "status": "completed"
    },
    "tags": []
   },
   "outputs": [],
   "source": [
    "# Load decomp and optim_res\n",
    "with open('../sorted_pauli_list.pkl', 'rb') as f:\n",
    "    sorted_pauli_list = dill.load(f)\n",
    "with open('../vqe_result.pkl', 'rb') as f:\n",
    "    vqe_res = dill.load(f)\n"
   ]
  },
  {
   "cell_type": "code",
   "execution_count": 3,
   "id": "fc57e202",
   "metadata": {
    "execution": {
     "iopub.execute_input": "2025-01-25T05:42:03.676812Z",
     "iopub.status.busy": "2025-01-25T05:42:03.676037Z",
     "iopub.status.idle": "2025-01-25T05:42:15.126064Z",
     "shell.execute_reply": "2025-01-25T05:42:15.125341Z"
    },
    "papermill": {
     "duration": 11.467259,
     "end_time": "2025-01-25T05:42:15.127078",
     "exception": false,
     "start_time": "2025-01-25T05:42:03.659819",
     "status": "completed"
    },
    "tags": []
   },
   "outputs": [
    {
     "name": "stdout",
     "output_type": "stream",
     "text": [
      "Processed Pauli string 0: IIIIII\n",
      "Processed Pauli string 1: IZZIII\n",
      "Processed Pauli string 2: ZZIIII\n",
      "Processed Pauli string 3: IIIIIZ\n",
      "Processed Pauli string 4: IIIZII\n"
     ]
    },
    {
     "name": "stdout",
     "output_type": "stream",
     "text": [
      "Processed Pauli string 5: IIZZII\n",
      "Processed Pauli string 6: ZIZIZZ\n",
      "Processed Pauli string 7: ZIZIII\n",
      "Processed Pauli string 8: IIIIZI\n",
      "Processed Pauli string 9: ZIIIII\n"
     ]
    },
    {
     "name": "stdout",
     "output_type": "stream",
     "text": [
      "Processed Pauli string 10: IZZIZZ\n",
      "Processed Pauli string 11: ZZZZII\n",
      "Processed Pauli string 12: ZZIIZZ\n",
      "Processed Pauli string 13: IZIZII\n",
      "Processed Pauli string 14: IZZIIZ\n"
     ]
    },
    {
     "name": "stdout",
     "output_type": "stream",
     "text": [
      "Processed Pauli string 15: ZZIIIZ\n",
      "Processed Pauli string 16: IZZZII\n",
      "Processed Pauli string 17: ZZIZII\n",
      "Processed Pauli string 18: ZZIIZI\n",
      "Processed Pauli string 19: IZIIII\n"
     ]
    },
    {
     "name": "stdout",
     "output_type": "stream",
     "text": [
      "Processed Pauli string 20: IZZIZI\n",
      "Processed Pauli string 21: ZZZIII\n",
      "Processed Pauli string 22: ZIIZZZ\n",
      "Processed Pauli string 23: IIIZIZ\n",
      "Processed Pauli string 24: XXXXII\n"
     ]
    },
    {
     "name": "stdout",
     "output_type": "stream",
     "text": [
      "Processed Pauli string 25: YXXYII\n",
      "Processed Pauli string 26: IIIIXX\n",
      "Processed Pauli string 27: IIIIYY\n",
      "Processed Pauli string 28: XXXZII\n",
      "Processed Pauli string 29: YXYIII\n"
     ]
    },
    {
     "name": "stdout",
     "output_type": "stream",
     "text": [
      "Processed Pauli string 30: IIIIXZ\n",
      "Processed Pauli string 31: ZIZIXI\n",
      "Processed Pauli string 32: IIZZIZ\n",
      "Processed Pauli string 33: ZIZZZZ\n",
      "Processed Pauli string 34: ZIIIIZ\n"
     ]
    },
    {
     "name": "stdout",
     "output_type": "stream",
     "text": [
      "Processed Pauli string 35: IIIZZI\n",
      "Processed Pauli string 36: ZIIIZI\n",
      "Processed Pauli string 37: IIZIZZ\n",
      "Processed Pauli string 38: IIZZZI\n",
      "Processed Pauli string 39: ZIZIZI\n"
     ]
    },
    {
     "name": "stdout",
     "output_type": "stream",
     "text": [
      "Processed Pauli string 40: IIZIII\n",
      "Processed Pauli string 41: IIIIZZ\n",
      "Processed Pauli string 42: ZIIZII\n"
     ]
    },
    {
     "name": "stdout",
     "output_type": "stream",
     "text": [
      "Processed Pauli string 43: ZIZIIZ\n",
      "Processed Pauli string 44: ZIZZII\n",
      "Processed Pauli string 45: ZIZIZX\n",
      "Processed Pauli string 46: IIIIIX\n",
      "Processed Pauli string 47: IIZXII\n"
     ]
    },
    {
     "name": "stdout",
     "output_type": "stream",
     "text": [
      "Processed Pauli string 48: IIIXII\n",
      "Processed Pauli string 49: ZZIIXX\n",
      "Processed Pauli string 50: ZZIIYY\n",
      "Processed Pauli string 51: YYXXII\n",
      "Processed Pauli string 52: XYXYII\n"
     ]
    },
    {
     "name": "stdout",
     "output_type": "stream",
     "text": [
      "Processed Pauli string 53: IZZIXX\n",
      "Processed Pauli string 54: IZZIYY\n",
      "Processed Pauli string 55: XYYXII\n",
      "Processed Pauli string 56: YYYYII\n",
      "Processed Pauli string 57: ZZIIXZ\n"
     ]
    },
    {
     "name": "stdout",
     "output_type": "stream",
     "text": [
      "Processed Pauli string 58: IZZIXI\n",
      "Processed Pauli string 59: YYXZII\n",
      "Processed Pauli string 60: XYYIII\n",
      "Processed Pauli string 61: IZZIXZ\n",
      "Processed Pauli string 62: ZZIIXI\n"
     ]
    },
    {
     "name": "stdout",
     "output_type": "stream",
     "text": [
      "Processed Pauli string 63: XYYZII\n",
      "Processed Pauli string 64: YYXIII\n",
      "Processed Pauli string 65: ZIXXZX\n",
      "Processed Pauli string 66: ZZYYZX\n",
      "Processed Pauli string 67: ZZYXZY\n"
     ]
    },
    {
     "name": "stdout",
     "output_type": "stream",
     "text": [
      "Processed Pauli string 68: ZIXYZY\n",
      "Processed Pauli string 69: ZXXXZX\n",
      "Processed Pauli string 70: IYXYZX\n",
      "Processed Pauli string 71: IYXXZY\n",
      "Processed Pauli string 72: ZXXYZY\n"
     ]
    },
    {
     "name": "stdout",
     "output_type": "stream",
     "text": [
      "Processed Pauli string 73: XXXXIZ\n",
      "Processed Pauli string 74: YXXYIZ\n",
      "Processed Pauli string 75: IIIZXX\n",
      "Processed Pauli string 76: IIIZYY\n",
      "Processed Pauli string 77: ZIZIYY\n"
     ]
    },
    {
     "name": "stdout",
     "output_type": "stream",
     "text": [
      "Processed Pauli string 78: ZIZIXX\n",
      "Processed Pauli string 79: XXYYII\n",
      "Processed Pauli string 80: YXYXII\n",
      "Processed Pauli string 81: YXYZZZ\n",
      "Processed Pauli string 82: XXXIZZ\n"
     ]
    },
    {
     "name": "stdout",
     "output_type": "stream",
     "text": [
      "Processed Pauli string 83: IIZZXZ\n",
      "Processed Pauli string 84: ZIIZXI\n"
     ]
    },
    {
     "name": "stdout",
     "output_type": "stream",
     "text": [
      "Processed Pauli string 85: ZIIXZX\n",
      "Processed Pauli string 86: ZIZXZX\n",
      "Processed Pauli string 87: IIZXIX\n",
      "Processed Pauli string 88: IIIXIX\n",
      "Processed Pauli string 89: XXXXXX\n"
     ]
    },
    {
     "name": "stdout",
     "output_type": "stream",
     "text": [
      "Processed Pauli string 90: YXXYXX\n",
      "Processed Pauli string 91: XXXXYY\n",
      "Processed Pauli string 92: YXXYYY\n",
      "Processed Pauli string 93: IXIIII\n",
      "Processed Pauli string 94: ZXZIII\n"
     ]
    },
    {
     "name": "stdout",
     "output_type": "stream",
     "text": [
      "Processed Pauli string 95: XXXZXZ\n",
      "Processed Pauli string 96: YXYIXZ\n",
      "Processed Pauli string 97: YXYZXI\n",
      "Processed Pauli string 98: XXXIXI\n",
      "Processed Pauli string 99: ZIIZZX\n"
     ]
    },
    {
     "name": "stdout",
     "output_type": "stream",
     "text": [
      "Processed Pauli string 100: IIZZIX\n",
      "Processed Pauli string 101: ZIIXZZ\n",
      "Processed Pauli string 102: ZIZXZZ\n",
      "Processed Pauli string 103: IIZIZX\n",
      "Processed Pauli string 104: ZIIIIX\n"
     ]
    },
    {
     "name": "stdout",
     "output_type": "stream",
     "text": [
      "Processed Pauli string 105: IIZXZI\n",
      "Processed Pauli string 106: IIIXZI\n"
     ]
    },
    {
     "name": "stdout",
     "output_type": "stream",
     "text": [
      "Processed Pauli string 107: IIZZXX\n",
      "Processed Pauli string 108: IIZZYY\n",
      "Processed Pauli string 109: YXYXZZ\n",
      "Processed Pauli string 110: XXYYZZ\n",
      "Processed Pauli string 111: XXXZIZ\n"
     ]
    },
    {
     "name": "stdout",
     "output_type": "stream",
     "text": [
      "Processed Pauli string 112: YXYIIZ\n",
      "Processed Pauli string 113: IIIZXZ\n",
      "Processed Pauli string 114: ZIZZXI\n",
      "Processed Pauli string 115: IIIIXI\n",
      "Processed Pauli string 116: ZIZIXZ\n"
     ]
    },
    {
     "name": "stdout",
     "output_type": "stream",
     "text": [
      "Processed Pauli string 117: XXXIII\n",
      "Processed Pauli string 118: YXYZII\n",
      "Processed Pauli string 119: ZIIIXX\n",
      "Processed Pauli string 120: ZIIIYY\n",
      "Processed Pauli string 121: XXXXZI\n"
     ]
    },
    {
     "name": "stdout",
     "output_type": "stream",
     "text": [
      "Processed Pauli string 122: YXXYZI\n",
      "Processed Pauli string 123: YXYZZX\n",
      "Processed Pauli string 124: XXXIZX\n",
      "Processed Pauli string 125: XXXZIX\n",
      "Processed Pauli string 126: YXYIIX\n"
     ]
    },
    {
     "name": "stdout",
     "output_type": "stream",
     "text": [
      "Processed Pauli string 127: IIZXXZ\n",
      "Processed Pauli string 128: IIIXXZ\n",
      "Processed Pauli string 129: ZIIXXI\n",
      "Processed Pauli string 130: ZIZXXI\n",
      "Processed Pauli string 131: ZIXZZZ\n"
     ]
    },
    {
     "name": "stdout",
     "output_type": "stream",
     "text": [
      "Processed Pauli string 132: ZZXIZZ\n",
      "Processed Pauli string 133: IZXZII\n",
      "Processed Pauli string 134: IIXIII\n",
      "Processed Pauli string 135: ZXXZZZ\n",
      "Processed Pauli string 136: IYYIZZ\n"
     ]
    },
    {
     "name": "stdout",
     "output_type": "stream",
     "text": [
      "Processed Pauli string 137: ZYYZII\n",
      "Processed Pauli string 138: IXXIII\n",
      "Processed Pauli string 139: ZZIIZX\n",
      "Processed Pauli string 140: IZZIIX\n",
      "Processed Pauli string 141: IZIXII\n"
     ]
    },
    {
     "name": "stdout",
     "output_type": "stream",
     "text": [
      "Processed Pauli string 142: IZZXII\n",
      "Processed Pauli string 143: IZZIZX\n",
      "Processed Pauli string 144: ZZIIIX\n",
      "Processed Pauli string 145: ZZZXII\n",
      "Processed Pauli string 146: ZZIXII\n"
     ]
    },
    {
     "name": "stdout",
     "output_type": "stream",
     "text": [
      "Processed Pauli string 147: XXXZXX\n",
      "Processed Pauli string 148: YXYIXX\n"
     ]
    },
    {
     "name": "stdout",
     "output_type": "stream",
     "text": [
      "Processed Pauli string 149: XXXZYY\n",
      "Processed Pauli string 150: YXYIYY\n",
      "Processed Pauli string 151: XXXXXZ\n",
      "Processed Pauli string 152: YXXYXZ\n",
      "Processed Pauli string 153: YXYXXI\n"
     ]
    },
    {
     "name": "stdout",
     "output_type": "stream",
     "text": [
      "Processed Pauli string 154: XXYYXI\n",
      "Processed Pauli string 155: YYZIZX\n",
      "Processed Pauli string 156: XXIIZX\n",
      "Processed Pauli string 157: YXIIZY\n",
      "Processed Pauli string 158: XYZIZY\n"
     ]
    },
    {
     "name": "stdout",
     "output_type": "stream",
     "text": [
      "Processed Pauli string 159: XZIIZX\n",
      "Processed Pauli string 160: XIIIZX\n",
      "Processed Pauli string 161: YIIIZY\n",
      "Processed Pauli string 162: YZIIZY\n",
      "Processed Pauli string 163: ZZYXYI\n"
     ]
    },
    {
     "name": "stdout",
     "output_type": "stream",
     "text": [
      "Processed Pauli string 164: ZIXYYI\n",
      "Processed Pauli string 165: ZIXXXI\n",
      "Processed Pauli string 166: ZZYYXI\n",
      "Processed Pauli string 167: IYXXYI\n",
      "Processed Pauli string 168: ZXXYYI\n"
     ]
    },
    {
     "name": "stdout",
     "output_type": "stream",
     "text": [
      "Processed Pauli string 169: ZXXXXI\n",
      "Processed Pauli string 170: IYXYXI\n"
     ]
    },
    {
     "name": "stdout",
     "output_type": "stream",
     "text": [
      "Processed Pauli string 171: ZIXZZX\n",
      "Processed Pauli string 172: ZZXIZX\n",
      "Processed Pauli string 173: ZZYZZY\n",
      "Processed Pauli string 174: ZIYIZY\n",
      "Processed Pauli string 175: ZXXZZX\n"
     ]
    },
    {
     "name": "stdout",
     "output_type": "stream",
     "text": [
      "Processed Pauli string 176: IYYIZX\n",
      "Processed Pauli string 177: IYXZZY\n",
      "Processed Pauli string 178: ZXYIZY\n",
      "Processed Pauli string 179: ZIXXZZ\n",
      "Processed Pauli string 180: ZZYYZZ\n"
     ]
    },
    {
     "name": "stdout",
     "output_type": "stream",
     "text": [
      "Processed Pauli string 181: IZXXII\n",
      "Processed Pauli string 182: IIYYII\n",
      "Processed Pauli string 183: ZXXXZZ\n",
      "Processed Pauli string 184: IYXYZZ\n",
      "Processed Pauli string 185: ZYYXII\n"
     ]
    },
    {
     "name": "stdout",
     "output_type": "stream",
     "text": [
      "Processed Pauli string 186: IXYYII\n",
      "Processed Pauli string 187: IIZXIZ\n",
      "Processed Pauli string 188: IIIXIZ\n",
      "Processed Pauli string 189: ZIZZZX\n",
      "Processed Pauli string 190: IIIZIX\n"
     ]
    },
    {
     "name": "stdout",
     "output_type": "stream",
     "text": [
      "Processed Pauli string 191: YXIIYI\n",
      "Processed Pauli string 192: XYZIYI\n",
      "Processed Pauli string 193: YYZIXI\n",
      "Processed Pauli string 194: XXIIXI\n",
      "Processed Pauli string 195: YIIIYI\n"
     ]
    },
    {
     "name": "stdout",
     "output_type": "stream",
     "text": [
      "Processed Pauli string 196: YZIIYI\n",
      "Processed Pauli string 197: XZIIXI\n",
      "Processed Pauli string 198: XIIIXI\n",
      "Processed Pauli string 199: ZIZIIX\n",
      "Processed Pauli string 200: IIIIZX\n"
     ]
    },
    {
     "name": "stdout",
     "output_type": "stream",
     "text": [
      "Processed Pauli string 201: ZIZXII\n",
      "Processed Pauli string 202: ZIIXII\n",
      "Processed Pauli string 203: YXYXZX\n",
      "Processed Pauli string 204: XXYYZX\n",
      "Processed Pauli string 205: XXXXIX\n"
     ]
    },
    {
     "name": "stdout",
     "output_type": "stream",
     "text": [
      "Processed Pauli string 206: YXXYIX\n",
      "Processed Pauli string 207: IIZXXX\n",
      "Processed Pauli string 208: IIIXXX\n",
      "Processed Pauli string 209: IIZXYY\n",
      "Processed Pauli string 210: IIIXYY\n"
     ]
    },
    {
     "name": "stdout",
     "output_type": "stream",
     "text": [
      "Processed Pauli string 211: ZIIIXZ\n",
      "Processed Pauli string 212: IIZIXI\n"
     ]
    },
    {
     "name": "stdout",
     "output_type": "stream",
     "text": [
      "Processed Pauli string 213: XXXZZI\n",
      "Processed Pauli string 214: YXYIZI\n",
      "Processed Pauli string 215: YYZIZZ\n",
      "Processed Pauli string 216: XXIIZZ\n",
      "Processed Pauli string 217: XXZIII\n"
     ]
    },
    {
     "name": "stdout",
     "output_type": "stream",
     "text": [
      "Processed Pauli string 218: YYIIII\n",
      "Processed Pauli string 219: ZZYZYI\n",
      "Processed Pauli string 220: ZIYIYI\n",
      "Processed Pauli string 221: ZIXZXI\n",
      "Processed Pauli string 222: ZZXIXI\n"
     ]
    },
    {
     "name": "stdout",
     "output_type": "stream",
     "text": [
      "Processed Pauli string 223: XZIIZZ\n",
      "Processed Pauli string 224: XIIIZZ\n",
      "Processed Pauli string 225: XIZIII\n",
      "Processed Pauli string 226: XZZIII\n",
      "Processed Pauli string 227: IYXZYI\n"
     ]
    },
    {
     "name": "stdout",
     "output_type": "stream",
     "text": [
      "Processed Pauli string 228: ZXYIYI\n",
      "Processed Pauli string 229: ZXXZXI\n",
      "Processed Pauli string 230: IYYIXI\n",
      "All circuits generated and saved.\n"
     ]
    }
   ],
   "source": [
    "# Extract opt_params\n",
    "opt_params = vqe_res['x']\n",
    "\n",
    "# Set l\n",
    "l = 12\n",
    "\n",
    "# Create the main folder if it doesn't exist\n",
    "if not os.path.exists('circuits'):\n",
    "    os.makedirs('circuits')\n",
    "\n",
    "# Traverse the Pauli strings\n",
    "for i, (pauli_string, coeff) in enumerate(sorted_pauli_list):\n",
    "    # Create a folder for this Pauli string\n",
    "    folder_path = os.path.join('circuits', str(i))\n",
    "    if not os.path.exists(folder_path):\n",
    "        os.makedirs(folder_path)\n",
    "    \n",
    "    # Construct A\n",
    "    A = construct_A(l, opt_params, pauli_string)\n",
    "\n",
    "    # Construct Q\n",
    "    Q = construct_Q(A)\n",
    "\n",
    "    # Save A\n",
    "    with open(os.path.join(folder_path, 'circuit_A.qpy'), 'wb') as f:\n",
    "        qpy_dump(A, f)\n",
    "    \n",
    "    # Save Q\n",
    "    with open(os.path.join(folder_path, 'circuit_Q.qpy'), 'wb') as f:\n",
    "        qpy_dump(Q, f)\n",
    "    \n",
    "    print(f\"Processed Pauli string {i}: {pauli_string}\")\n",
    "    \n",
    "print(\"All circuits generated and saved.\")"
   ]
  },
  {
   "cell_type": "markdown",
   "id": "442e5bca",
   "metadata": {
    "papermill": {
     "duration": 0.011139,
     "end_time": "2025-01-25T05:42:15.144995",
     "exception": false,
     "start_time": "2025-01-25T05:42:15.133856",
     "status": "completed"
    },
    "tags": []
   },
   "source": [
    "### 2 Transpilation"
   ]
  },
  {
   "cell_type": "code",
   "execution_count": 4,
   "id": "0324d08e",
   "metadata": {
    "execution": {
     "iopub.execute_input": "2025-01-25T05:42:15.175424Z",
     "iopub.status.busy": "2025-01-25T05:42:15.174889Z",
     "iopub.status.idle": "2025-01-25T05:46:21.815284Z",
     "shell.execute_reply": "2025-01-25T05:46:21.814235Z"
    },
    "papermill": {
     "duration": 246.656767,
     "end_time": "2025-01-25T05:46:21.817158",
     "exception": false,
     "start_time": "2025-01-25T05:42:15.160391",
     "status": "completed"
    },
    "tags": []
   },
   "outputs": [
    {
     "name": "stdout",
     "output_type": "stream",
     "text": [
      "Transpiled and saved: circuits/0/transpiled_circuit_A.qpy\n"
     ]
    },
    {
     "name": "stdout",
     "output_type": "stream",
     "text": [
      "Transpiled and saved: circuits/0/transpiled_circuit_Q.qpy\n"
     ]
    },
    {
     "name": "stdout",
     "output_type": "stream",
     "text": [
      "Transpiled and saved: circuits/1/transpiled_circuit_A.qpy\n"
     ]
    },
    {
     "name": "stdout",
     "output_type": "stream",
     "text": [
      "Transpiled and saved: circuits/1/transpiled_circuit_Q.qpy\n"
     ]
    },
    {
     "name": "stdout",
     "output_type": "stream",
     "text": [
      "Transpiled and saved: circuits/10/transpiled_circuit_A.qpy\n"
     ]
    },
    {
     "name": "stdout",
     "output_type": "stream",
     "text": [
      "Transpiled and saved: circuits/10/transpiled_circuit_Q.qpy\n"
     ]
    },
    {
     "name": "stdout",
     "output_type": "stream",
     "text": [
      "Transpiled and saved: circuits/100/transpiled_circuit_A.qpy\n"
     ]
    },
    {
     "name": "stdout",
     "output_type": "stream",
     "text": [
      "Transpiled and saved: circuits/100/transpiled_circuit_Q.qpy\n"
     ]
    },
    {
     "name": "stdout",
     "output_type": "stream",
     "text": [
      "Transpiled and saved: circuits/101/transpiled_circuit_A.qpy\n"
     ]
    },
    {
     "name": "stdout",
     "output_type": "stream",
     "text": [
      "Transpiled and saved: circuits/101/transpiled_circuit_Q.qpy\n"
     ]
    },
    {
     "name": "stdout",
     "output_type": "stream",
     "text": [
      "Transpiled and saved: circuits/102/transpiled_circuit_A.qpy\n"
     ]
    },
    {
     "name": "stdout",
     "output_type": "stream",
     "text": [
      "Transpiled and saved: circuits/102/transpiled_circuit_Q.qpy\n"
     ]
    },
    {
     "name": "stdout",
     "output_type": "stream",
     "text": [
      "Transpiled and saved: circuits/103/transpiled_circuit_A.qpy\n"
     ]
    },
    {
     "name": "stdout",
     "output_type": "stream",
     "text": [
      "Transpiled and saved: circuits/103/transpiled_circuit_Q.qpy\n"
     ]
    },
    {
     "name": "stdout",
     "output_type": "stream",
     "text": [
      "Transpiled and saved: circuits/104/transpiled_circuit_A.qpy\n"
     ]
    },
    {
     "name": "stdout",
     "output_type": "stream",
     "text": [
      "Transpiled and saved: circuits/104/transpiled_circuit_Q.qpy\n"
     ]
    },
    {
     "name": "stdout",
     "output_type": "stream",
     "text": [
      "Transpiled and saved: circuits/105/transpiled_circuit_A.qpy\n"
     ]
    },
    {
     "name": "stdout",
     "output_type": "stream",
     "text": [
      "Transpiled and saved: circuits/105/transpiled_circuit_Q.qpy\n"
     ]
    },
    {
     "name": "stdout",
     "output_type": "stream",
     "text": [
      "Transpiled and saved: circuits/106/transpiled_circuit_A.qpy\n"
     ]
    },
    {
     "name": "stdout",
     "output_type": "stream",
     "text": [
      "Transpiled and saved: circuits/106/transpiled_circuit_Q.qpy\n"
     ]
    },
    {
     "name": "stdout",
     "output_type": "stream",
     "text": [
      "Transpiled and saved: circuits/107/transpiled_circuit_A.qpy\n"
     ]
    },
    {
     "name": "stdout",
     "output_type": "stream",
     "text": [
      "Transpiled and saved: circuits/107/transpiled_circuit_Q.qpy\n"
     ]
    },
    {
     "name": "stdout",
     "output_type": "stream",
     "text": [
      "Transpiled and saved: circuits/108/transpiled_circuit_A.qpy\n"
     ]
    },
    {
     "name": "stdout",
     "output_type": "stream",
     "text": [
      "Transpiled and saved: circuits/108/transpiled_circuit_Q.qpy\n"
     ]
    },
    {
     "name": "stdout",
     "output_type": "stream",
     "text": [
      "Transpiled and saved: circuits/109/transpiled_circuit_A.qpy\n"
     ]
    },
    {
     "name": "stdout",
     "output_type": "stream",
     "text": [
      "Transpiled and saved: circuits/109/transpiled_circuit_Q.qpy\n"
     ]
    },
    {
     "name": "stdout",
     "output_type": "stream",
     "text": [
      "Transpiled and saved: circuits/11/transpiled_circuit_A.qpy\n"
     ]
    },
    {
     "name": "stdout",
     "output_type": "stream",
     "text": [
      "Transpiled and saved: circuits/11/transpiled_circuit_Q.qpy\n"
     ]
    },
    {
     "name": "stdout",
     "output_type": "stream",
     "text": [
      "Transpiled and saved: circuits/110/transpiled_circuit_A.qpy\n"
     ]
    },
    {
     "name": "stdout",
     "output_type": "stream",
     "text": [
      "Transpiled and saved: circuits/110/transpiled_circuit_Q.qpy\n"
     ]
    },
    {
     "name": "stdout",
     "output_type": "stream",
     "text": [
      "Transpiled and saved: circuits/111/transpiled_circuit_A.qpy\n"
     ]
    },
    {
     "name": "stdout",
     "output_type": "stream",
     "text": [
      "Transpiled and saved: circuits/111/transpiled_circuit_Q.qpy\n"
     ]
    },
    {
     "name": "stdout",
     "output_type": "stream",
     "text": [
      "Transpiled and saved: circuits/112/transpiled_circuit_A.qpy\n"
     ]
    },
    {
     "name": "stdout",
     "output_type": "stream",
     "text": [
      "Transpiled and saved: circuits/112/transpiled_circuit_Q.qpy\n"
     ]
    },
    {
     "name": "stdout",
     "output_type": "stream",
     "text": [
      "Transpiled and saved: circuits/113/transpiled_circuit_A.qpy\n"
     ]
    },
    {
     "name": "stdout",
     "output_type": "stream",
     "text": [
      "Transpiled and saved: circuits/113/transpiled_circuit_Q.qpy\n"
     ]
    },
    {
     "name": "stdout",
     "output_type": "stream",
     "text": [
      "Transpiled and saved: circuits/114/transpiled_circuit_A.qpy\n"
     ]
    },
    {
     "name": "stdout",
     "output_type": "stream",
     "text": [
      "Transpiled and saved: circuits/114/transpiled_circuit_Q.qpy\n"
     ]
    },
    {
     "name": "stdout",
     "output_type": "stream",
     "text": [
      "Transpiled and saved: circuits/115/transpiled_circuit_A.qpy\n"
     ]
    },
    {
     "name": "stdout",
     "output_type": "stream",
     "text": [
      "Transpiled and saved: circuits/115/transpiled_circuit_Q.qpy\n"
     ]
    },
    {
     "name": "stdout",
     "output_type": "stream",
     "text": [
      "Transpiled and saved: circuits/116/transpiled_circuit_A.qpy\n"
     ]
    },
    {
     "name": "stdout",
     "output_type": "stream",
     "text": [
      "Transpiled and saved: circuits/116/transpiled_circuit_Q.qpy\n"
     ]
    },
    {
     "name": "stdout",
     "output_type": "stream",
     "text": [
      "Transpiled and saved: circuits/117/transpiled_circuit_A.qpy\n"
     ]
    },
    {
     "name": "stdout",
     "output_type": "stream",
     "text": [
      "Transpiled and saved: circuits/117/transpiled_circuit_Q.qpy\n"
     ]
    },
    {
     "name": "stdout",
     "output_type": "stream",
     "text": [
      "Transpiled and saved: circuits/118/transpiled_circuit_A.qpy\n"
     ]
    },
    {
     "name": "stdout",
     "output_type": "stream",
     "text": [
      "Transpiled and saved: circuits/118/transpiled_circuit_Q.qpy\n"
     ]
    },
    {
     "name": "stdout",
     "output_type": "stream",
     "text": [
      "Transpiled and saved: circuits/119/transpiled_circuit_A.qpy\n"
     ]
    },
    {
     "name": "stdout",
     "output_type": "stream",
     "text": [
      "Transpiled and saved: circuits/119/transpiled_circuit_Q.qpy\n"
     ]
    },
    {
     "name": "stdout",
     "output_type": "stream",
     "text": [
      "Transpiled and saved: circuits/12/transpiled_circuit_A.qpy\n"
     ]
    },
    {
     "name": "stdout",
     "output_type": "stream",
     "text": [
      "Transpiled and saved: circuits/12/transpiled_circuit_Q.qpy\n"
     ]
    },
    {
     "name": "stdout",
     "output_type": "stream",
     "text": [
      "Transpiled and saved: circuits/120/transpiled_circuit_A.qpy\n"
     ]
    },
    {
     "name": "stdout",
     "output_type": "stream",
     "text": [
      "Transpiled and saved: circuits/120/transpiled_circuit_Q.qpy\n"
     ]
    },
    {
     "name": "stdout",
     "output_type": "stream",
     "text": [
      "Transpiled and saved: circuits/121/transpiled_circuit_A.qpy\n"
     ]
    },
    {
     "name": "stdout",
     "output_type": "stream",
     "text": [
      "Transpiled and saved: circuits/121/transpiled_circuit_Q.qpy\n"
     ]
    },
    {
     "name": "stdout",
     "output_type": "stream",
     "text": [
      "Transpiled and saved: circuits/122/transpiled_circuit_A.qpy\n"
     ]
    },
    {
     "name": "stdout",
     "output_type": "stream",
     "text": [
      "Transpiled and saved: circuits/122/transpiled_circuit_Q.qpy\n"
     ]
    },
    {
     "name": "stdout",
     "output_type": "stream",
     "text": [
      "Transpiled and saved: circuits/123/transpiled_circuit_A.qpy\n"
     ]
    },
    {
     "name": "stdout",
     "output_type": "stream",
     "text": [
      "Transpiled and saved: circuits/123/transpiled_circuit_Q.qpy\n"
     ]
    },
    {
     "name": "stdout",
     "output_type": "stream",
     "text": [
      "Transpiled and saved: circuits/124/transpiled_circuit_A.qpy\n"
     ]
    },
    {
     "name": "stdout",
     "output_type": "stream",
     "text": [
      "Transpiled and saved: circuits/124/transpiled_circuit_Q.qpy\n"
     ]
    },
    {
     "name": "stdout",
     "output_type": "stream",
     "text": [
      "Transpiled and saved: circuits/125/transpiled_circuit_A.qpy\n"
     ]
    },
    {
     "name": "stdout",
     "output_type": "stream",
     "text": [
      "Transpiled and saved: circuits/125/transpiled_circuit_Q.qpy\n"
     ]
    },
    {
     "name": "stdout",
     "output_type": "stream",
     "text": [
      "Transpiled and saved: circuits/126/transpiled_circuit_A.qpy\n"
     ]
    },
    {
     "name": "stdout",
     "output_type": "stream",
     "text": [
      "Transpiled and saved: circuits/126/transpiled_circuit_Q.qpy\n"
     ]
    },
    {
     "name": "stdout",
     "output_type": "stream",
     "text": [
      "Transpiled and saved: circuits/127/transpiled_circuit_A.qpy\n"
     ]
    },
    {
     "name": "stdout",
     "output_type": "stream",
     "text": [
      "Transpiled and saved: circuits/127/transpiled_circuit_Q.qpy\n"
     ]
    },
    {
     "name": "stdout",
     "output_type": "stream",
     "text": [
      "Transpiled and saved: circuits/128/transpiled_circuit_A.qpy\n"
     ]
    },
    {
     "name": "stdout",
     "output_type": "stream",
     "text": [
      "Transpiled and saved: circuits/128/transpiled_circuit_Q.qpy\n"
     ]
    },
    {
     "name": "stdout",
     "output_type": "stream",
     "text": [
      "Transpiled and saved: circuits/129/transpiled_circuit_A.qpy\n"
     ]
    },
    {
     "name": "stdout",
     "output_type": "stream",
     "text": [
      "Transpiled and saved: circuits/129/transpiled_circuit_Q.qpy\n"
     ]
    },
    {
     "name": "stdout",
     "output_type": "stream",
     "text": [
      "Transpiled and saved: circuits/13/transpiled_circuit_A.qpy\n"
     ]
    },
    {
     "name": "stdout",
     "output_type": "stream",
     "text": [
      "Transpiled and saved: circuits/13/transpiled_circuit_Q.qpy\n"
     ]
    },
    {
     "name": "stdout",
     "output_type": "stream",
     "text": [
      "Transpiled and saved: circuits/130/transpiled_circuit_A.qpy\n"
     ]
    },
    {
     "name": "stdout",
     "output_type": "stream",
     "text": [
      "Transpiled and saved: circuits/130/transpiled_circuit_Q.qpy\n"
     ]
    },
    {
     "name": "stdout",
     "output_type": "stream",
     "text": [
      "Transpiled and saved: circuits/131/transpiled_circuit_A.qpy\n"
     ]
    },
    {
     "name": "stdout",
     "output_type": "stream",
     "text": [
      "Transpiled and saved: circuits/131/transpiled_circuit_Q.qpy\n"
     ]
    },
    {
     "name": "stdout",
     "output_type": "stream",
     "text": [
      "Transpiled and saved: circuits/132/transpiled_circuit_A.qpy\n"
     ]
    },
    {
     "name": "stdout",
     "output_type": "stream",
     "text": [
      "Transpiled and saved: circuits/132/transpiled_circuit_Q.qpy\n"
     ]
    },
    {
     "name": "stdout",
     "output_type": "stream",
     "text": [
      "Transpiled and saved: circuits/133/transpiled_circuit_A.qpy\n"
     ]
    },
    {
     "name": "stdout",
     "output_type": "stream",
     "text": [
      "Transpiled and saved: circuits/133/transpiled_circuit_Q.qpy\n"
     ]
    },
    {
     "name": "stdout",
     "output_type": "stream",
     "text": [
      "Transpiled and saved: circuits/134/transpiled_circuit_A.qpy\n"
     ]
    },
    {
     "name": "stdout",
     "output_type": "stream",
     "text": [
      "Transpiled and saved: circuits/134/transpiled_circuit_Q.qpy\n"
     ]
    },
    {
     "name": "stdout",
     "output_type": "stream",
     "text": [
      "Transpiled and saved: circuits/135/transpiled_circuit_A.qpy\n"
     ]
    },
    {
     "name": "stdout",
     "output_type": "stream",
     "text": [
      "Transpiled and saved: circuits/135/transpiled_circuit_Q.qpy\n"
     ]
    },
    {
     "name": "stdout",
     "output_type": "stream",
     "text": [
      "Transpiled and saved: circuits/136/transpiled_circuit_A.qpy\n"
     ]
    },
    {
     "name": "stdout",
     "output_type": "stream",
     "text": [
      "Transpiled and saved: circuits/136/transpiled_circuit_Q.qpy\n"
     ]
    },
    {
     "name": "stdout",
     "output_type": "stream",
     "text": [
      "Transpiled and saved: circuits/137/transpiled_circuit_A.qpy\n"
     ]
    },
    {
     "name": "stdout",
     "output_type": "stream",
     "text": [
      "Transpiled and saved: circuits/137/transpiled_circuit_Q.qpy\n"
     ]
    },
    {
     "name": "stdout",
     "output_type": "stream",
     "text": [
      "Transpiled and saved: circuits/138/transpiled_circuit_A.qpy\n"
     ]
    },
    {
     "name": "stdout",
     "output_type": "stream",
     "text": [
      "Transpiled and saved: circuits/138/transpiled_circuit_Q.qpy\n"
     ]
    },
    {
     "name": "stdout",
     "output_type": "stream",
     "text": [
      "Transpiled and saved: circuits/139/transpiled_circuit_A.qpy\n"
     ]
    },
    {
     "name": "stdout",
     "output_type": "stream",
     "text": [
      "Transpiled and saved: circuits/139/transpiled_circuit_Q.qpy\n"
     ]
    },
    {
     "name": "stdout",
     "output_type": "stream",
     "text": [
      "Transpiled and saved: circuits/14/transpiled_circuit_A.qpy\n"
     ]
    },
    {
     "name": "stdout",
     "output_type": "stream",
     "text": [
      "Transpiled and saved: circuits/14/transpiled_circuit_Q.qpy\n"
     ]
    },
    {
     "name": "stdout",
     "output_type": "stream",
     "text": [
      "Transpiled and saved: circuits/140/transpiled_circuit_A.qpy\n"
     ]
    },
    {
     "name": "stdout",
     "output_type": "stream",
     "text": [
      "Transpiled and saved: circuits/140/transpiled_circuit_Q.qpy\n"
     ]
    },
    {
     "name": "stdout",
     "output_type": "stream",
     "text": [
      "Transpiled and saved: circuits/141/transpiled_circuit_A.qpy\n"
     ]
    },
    {
     "name": "stdout",
     "output_type": "stream",
     "text": [
      "Transpiled and saved: circuits/141/transpiled_circuit_Q.qpy\n"
     ]
    },
    {
     "name": "stdout",
     "output_type": "stream",
     "text": [
      "Transpiled and saved: circuits/142/transpiled_circuit_A.qpy\n"
     ]
    },
    {
     "name": "stdout",
     "output_type": "stream",
     "text": [
      "Transpiled and saved: circuits/142/transpiled_circuit_Q.qpy\n"
     ]
    },
    {
     "name": "stdout",
     "output_type": "stream",
     "text": [
      "Transpiled and saved: circuits/143/transpiled_circuit_A.qpy\n"
     ]
    },
    {
     "name": "stdout",
     "output_type": "stream",
     "text": [
      "Transpiled and saved: circuits/143/transpiled_circuit_Q.qpy\n"
     ]
    },
    {
     "name": "stdout",
     "output_type": "stream",
     "text": [
      "Transpiled and saved: circuits/144/transpiled_circuit_A.qpy\n"
     ]
    },
    {
     "name": "stdout",
     "output_type": "stream",
     "text": [
      "Transpiled and saved: circuits/144/transpiled_circuit_Q.qpy\n"
     ]
    },
    {
     "name": "stdout",
     "output_type": "stream",
     "text": [
      "Transpiled and saved: circuits/145/transpiled_circuit_A.qpy\n"
     ]
    },
    {
     "name": "stdout",
     "output_type": "stream",
     "text": [
      "Transpiled and saved: circuits/145/transpiled_circuit_Q.qpy\n"
     ]
    },
    {
     "name": "stdout",
     "output_type": "stream",
     "text": [
      "Transpiled and saved: circuits/146/transpiled_circuit_A.qpy\n"
     ]
    },
    {
     "name": "stdout",
     "output_type": "stream",
     "text": [
      "Transpiled and saved: circuits/146/transpiled_circuit_Q.qpy\n"
     ]
    },
    {
     "name": "stdout",
     "output_type": "stream",
     "text": [
      "Transpiled and saved: circuits/147/transpiled_circuit_A.qpy\n"
     ]
    },
    {
     "name": "stdout",
     "output_type": "stream",
     "text": [
      "Transpiled and saved: circuits/147/transpiled_circuit_Q.qpy\n"
     ]
    },
    {
     "name": "stdout",
     "output_type": "stream",
     "text": [
      "Transpiled and saved: circuits/148/transpiled_circuit_A.qpy\n"
     ]
    },
    {
     "name": "stdout",
     "output_type": "stream",
     "text": [
      "Transpiled and saved: circuits/148/transpiled_circuit_Q.qpy\n"
     ]
    },
    {
     "name": "stdout",
     "output_type": "stream",
     "text": [
      "Transpiled and saved: circuits/149/transpiled_circuit_A.qpy\n"
     ]
    },
    {
     "name": "stdout",
     "output_type": "stream",
     "text": [
      "Transpiled and saved: circuits/149/transpiled_circuit_Q.qpy\n"
     ]
    },
    {
     "name": "stdout",
     "output_type": "stream",
     "text": [
      "Transpiled and saved: circuits/15/transpiled_circuit_A.qpy\n"
     ]
    },
    {
     "name": "stdout",
     "output_type": "stream",
     "text": [
      "Transpiled and saved: circuits/15/transpiled_circuit_Q.qpy\n"
     ]
    },
    {
     "name": "stdout",
     "output_type": "stream",
     "text": [
      "Transpiled and saved: circuits/150/transpiled_circuit_A.qpy\n"
     ]
    },
    {
     "name": "stdout",
     "output_type": "stream",
     "text": [
      "Transpiled and saved: circuits/150/transpiled_circuit_Q.qpy\n"
     ]
    },
    {
     "name": "stdout",
     "output_type": "stream",
     "text": [
      "Transpiled and saved: circuits/151/transpiled_circuit_A.qpy\n"
     ]
    },
    {
     "name": "stdout",
     "output_type": "stream",
     "text": [
      "Transpiled and saved: circuits/151/transpiled_circuit_Q.qpy\n"
     ]
    },
    {
     "name": "stdout",
     "output_type": "stream",
     "text": [
      "Transpiled and saved: circuits/152/transpiled_circuit_A.qpy\n"
     ]
    },
    {
     "name": "stdout",
     "output_type": "stream",
     "text": [
      "Transpiled and saved: circuits/152/transpiled_circuit_Q.qpy\n"
     ]
    },
    {
     "name": "stdout",
     "output_type": "stream",
     "text": [
      "Transpiled and saved: circuits/153/transpiled_circuit_A.qpy\n"
     ]
    },
    {
     "name": "stdout",
     "output_type": "stream",
     "text": [
      "Transpiled and saved: circuits/153/transpiled_circuit_Q.qpy\n"
     ]
    },
    {
     "name": "stdout",
     "output_type": "stream",
     "text": [
      "Transpiled and saved: circuits/154/transpiled_circuit_A.qpy\n"
     ]
    },
    {
     "name": "stdout",
     "output_type": "stream",
     "text": [
      "Transpiled and saved: circuits/154/transpiled_circuit_Q.qpy\n"
     ]
    },
    {
     "name": "stdout",
     "output_type": "stream",
     "text": [
      "Transpiled and saved: circuits/155/transpiled_circuit_A.qpy\n"
     ]
    },
    {
     "name": "stdout",
     "output_type": "stream",
     "text": [
      "Transpiled and saved: circuits/155/transpiled_circuit_Q.qpy\n"
     ]
    },
    {
     "name": "stdout",
     "output_type": "stream",
     "text": [
      "Transpiled and saved: circuits/156/transpiled_circuit_A.qpy\n"
     ]
    },
    {
     "name": "stdout",
     "output_type": "stream",
     "text": [
      "Transpiled and saved: circuits/156/transpiled_circuit_Q.qpy\n"
     ]
    },
    {
     "name": "stdout",
     "output_type": "stream",
     "text": [
      "Transpiled and saved: circuits/157/transpiled_circuit_A.qpy\n"
     ]
    },
    {
     "name": "stdout",
     "output_type": "stream",
     "text": [
      "Transpiled and saved: circuits/157/transpiled_circuit_Q.qpy\n"
     ]
    },
    {
     "name": "stdout",
     "output_type": "stream",
     "text": [
      "Transpiled and saved: circuits/158/transpiled_circuit_A.qpy\n"
     ]
    },
    {
     "name": "stdout",
     "output_type": "stream",
     "text": [
      "Transpiled and saved: circuits/158/transpiled_circuit_Q.qpy\n"
     ]
    },
    {
     "name": "stdout",
     "output_type": "stream",
     "text": [
      "Transpiled and saved: circuits/159/transpiled_circuit_A.qpy\n"
     ]
    },
    {
     "name": "stdout",
     "output_type": "stream",
     "text": [
      "Transpiled and saved: circuits/159/transpiled_circuit_Q.qpy\n"
     ]
    },
    {
     "name": "stdout",
     "output_type": "stream",
     "text": [
      "Transpiled and saved: circuits/16/transpiled_circuit_A.qpy\n"
     ]
    },
    {
     "name": "stdout",
     "output_type": "stream",
     "text": [
      "Transpiled and saved: circuits/16/transpiled_circuit_Q.qpy\n"
     ]
    },
    {
     "name": "stdout",
     "output_type": "stream",
     "text": [
      "Transpiled and saved: circuits/160/transpiled_circuit_A.qpy\n"
     ]
    },
    {
     "name": "stdout",
     "output_type": "stream",
     "text": [
      "Transpiled and saved: circuits/160/transpiled_circuit_Q.qpy\n"
     ]
    },
    {
     "name": "stdout",
     "output_type": "stream",
     "text": [
      "Transpiled and saved: circuits/161/transpiled_circuit_A.qpy\n"
     ]
    },
    {
     "name": "stdout",
     "output_type": "stream",
     "text": [
      "Transpiled and saved: circuits/161/transpiled_circuit_Q.qpy\n"
     ]
    },
    {
     "name": "stdout",
     "output_type": "stream",
     "text": [
      "Transpiled and saved: circuits/162/transpiled_circuit_A.qpy\n"
     ]
    },
    {
     "name": "stdout",
     "output_type": "stream",
     "text": [
      "Transpiled and saved: circuits/162/transpiled_circuit_Q.qpy\n"
     ]
    },
    {
     "name": "stdout",
     "output_type": "stream",
     "text": [
      "Transpiled and saved: circuits/163/transpiled_circuit_A.qpy\n"
     ]
    },
    {
     "name": "stdout",
     "output_type": "stream",
     "text": [
      "Transpiled and saved: circuits/163/transpiled_circuit_Q.qpy\n"
     ]
    },
    {
     "name": "stdout",
     "output_type": "stream",
     "text": [
      "Transpiled and saved: circuits/164/transpiled_circuit_A.qpy\n"
     ]
    },
    {
     "name": "stdout",
     "output_type": "stream",
     "text": [
      "Transpiled and saved: circuits/164/transpiled_circuit_Q.qpy\n"
     ]
    },
    {
     "name": "stdout",
     "output_type": "stream",
     "text": [
      "Transpiled and saved: circuits/165/transpiled_circuit_A.qpy\n"
     ]
    },
    {
     "name": "stdout",
     "output_type": "stream",
     "text": [
      "Transpiled and saved: circuits/165/transpiled_circuit_Q.qpy\n"
     ]
    },
    {
     "name": "stdout",
     "output_type": "stream",
     "text": [
      "Transpiled and saved: circuits/166/transpiled_circuit_A.qpy\n"
     ]
    },
    {
     "name": "stdout",
     "output_type": "stream",
     "text": [
      "Transpiled and saved: circuits/166/transpiled_circuit_Q.qpy\n"
     ]
    },
    {
     "name": "stdout",
     "output_type": "stream",
     "text": [
      "Transpiled and saved: circuits/167/transpiled_circuit_A.qpy\n"
     ]
    },
    {
     "name": "stdout",
     "output_type": "stream",
     "text": [
      "Transpiled and saved: circuits/167/transpiled_circuit_Q.qpy\n"
     ]
    },
    {
     "name": "stdout",
     "output_type": "stream",
     "text": [
      "Transpiled and saved: circuits/168/transpiled_circuit_A.qpy\n"
     ]
    },
    {
     "name": "stdout",
     "output_type": "stream",
     "text": [
      "Transpiled and saved: circuits/168/transpiled_circuit_Q.qpy\n"
     ]
    },
    {
     "name": "stdout",
     "output_type": "stream",
     "text": [
      "Transpiled and saved: circuits/169/transpiled_circuit_A.qpy\n"
     ]
    },
    {
     "name": "stdout",
     "output_type": "stream",
     "text": [
      "Transpiled and saved: circuits/169/transpiled_circuit_Q.qpy\n"
     ]
    },
    {
     "name": "stdout",
     "output_type": "stream",
     "text": [
      "Transpiled and saved: circuits/17/transpiled_circuit_A.qpy\n"
     ]
    },
    {
     "name": "stdout",
     "output_type": "stream",
     "text": [
      "Transpiled and saved: circuits/17/transpiled_circuit_Q.qpy\n"
     ]
    },
    {
     "name": "stdout",
     "output_type": "stream",
     "text": [
      "Transpiled and saved: circuits/170/transpiled_circuit_A.qpy\n"
     ]
    },
    {
     "name": "stdout",
     "output_type": "stream",
     "text": [
      "Transpiled and saved: circuits/170/transpiled_circuit_Q.qpy\n"
     ]
    },
    {
     "name": "stdout",
     "output_type": "stream",
     "text": [
      "Transpiled and saved: circuits/171/transpiled_circuit_A.qpy\n"
     ]
    },
    {
     "name": "stdout",
     "output_type": "stream",
     "text": [
      "Transpiled and saved: circuits/171/transpiled_circuit_Q.qpy\n"
     ]
    },
    {
     "name": "stdout",
     "output_type": "stream",
     "text": [
      "Transpiled and saved: circuits/172/transpiled_circuit_A.qpy\n"
     ]
    },
    {
     "name": "stdout",
     "output_type": "stream",
     "text": [
      "Transpiled and saved: circuits/172/transpiled_circuit_Q.qpy\n"
     ]
    },
    {
     "name": "stdout",
     "output_type": "stream",
     "text": [
      "Transpiled and saved: circuits/173/transpiled_circuit_A.qpy\n"
     ]
    },
    {
     "name": "stdout",
     "output_type": "stream",
     "text": [
      "Transpiled and saved: circuits/173/transpiled_circuit_Q.qpy\n"
     ]
    },
    {
     "name": "stdout",
     "output_type": "stream",
     "text": [
      "Transpiled and saved: circuits/174/transpiled_circuit_A.qpy\n"
     ]
    },
    {
     "name": "stdout",
     "output_type": "stream",
     "text": [
      "Transpiled and saved: circuits/174/transpiled_circuit_Q.qpy\n"
     ]
    },
    {
     "name": "stdout",
     "output_type": "stream",
     "text": [
      "Transpiled and saved: circuits/175/transpiled_circuit_A.qpy\n"
     ]
    },
    {
     "name": "stdout",
     "output_type": "stream",
     "text": [
      "Transpiled and saved: circuits/175/transpiled_circuit_Q.qpy\n"
     ]
    },
    {
     "name": "stdout",
     "output_type": "stream",
     "text": [
      "Transpiled and saved: circuits/176/transpiled_circuit_A.qpy\n"
     ]
    },
    {
     "name": "stdout",
     "output_type": "stream",
     "text": [
      "Transpiled and saved: circuits/176/transpiled_circuit_Q.qpy\n"
     ]
    },
    {
     "name": "stdout",
     "output_type": "stream",
     "text": [
      "Transpiled and saved: circuits/177/transpiled_circuit_A.qpy\n"
     ]
    },
    {
     "name": "stdout",
     "output_type": "stream",
     "text": [
      "Transpiled and saved: circuits/177/transpiled_circuit_Q.qpy\n"
     ]
    },
    {
     "name": "stdout",
     "output_type": "stream",
     "text": [
      "Transpiled and saved: circuits/178/transpiled_circuit_A.qpy\n"
     ]
    },
    {
     "name": "stdout",
     "output_type": "stream",
     "text": [
      "Transpiled and saved: circuits/178/transpiled_circuit_Q.qpy\n"
     ]
    },
    {
     "name": "stdout",
     "output_type": "stream",
     "text": [
      "Transpiled and saved: circuits/179/transpiled_circuit_A.qpy\n"
     ]
    },
    {
     "name": "stdout",
     "output_type": "stream",
     "text": [
      "Transpiled and saved: circuits/179/transpiled_circuit_Q.qpy\n"
     ]
    },
    {
     "name": "stdout",
     "output_type": "stream",
     "text": [
      "Transpiled and saved: circuits/18/transpiled_circuit_A.qpy\n"
     ]
    },
    {
     "name": "stdout",
     "output_type": "stream",
     "text": [
      "Transpiled and saved: circuits/18/transpiled_circuit_Q.qpy\n"
     ]
    },
    {
     "name": "stdout",
     "output_type": "stream",
     "text": [
      "Transpiled and saved: circuits/180/transpiled_circuit_A.qpy\n"
     ]
    },
    {
     "name": "stdout",
     "output_type": "stream",
     "text": [
      "Transpiled and saved: circuits/180/transpiled_circuit_Q.qpy\n"
     ]
    },
    {
     "name": "stdout",
     "output_type": "stream",
     "text": [
      "Transpiled and saved: circuits/181/transpiled_circuit_A.qpy\n"
     ]
    },
    {
     "name": "stdout",
     "output_type": "stream",
     "text": [
      "Transpiled and saved: circuits/181/transpiled_circuit_Q.qpy\n"
     ]
    },
    {
     "name": "stdout",
     "output_type": "stream",
     "text": [
      "Transpiled and saved: circuits/182/transpiled_circuit_A.qpy\n"
     ]
    },
    {
     "name": "stdout",
     "output_type": "stream",
     "text": [
      "Transpiled and saved: circuits/182/transpiled_circuit_Q.qpy\n"
     ]
    },
    {
     "name": "stdout",
     "output_type": "stream",
     "text": [
      "Transpiled and saved: circuits/183/transpiled_circuit_A.qpy\n"
     ]
    },
    {
     "name": "stdout",
     "output_type": "stream",
     "text": [
      "Transpiled and saved: circuits/183/transpiled_circuit_Q.qpy\n"
     ]
    },
    {
     "name": "stdout",
     "output_type": "stream",
     "text": [
      "Transpiled and saved: circuits/184/transpiled_circuit_A.qpy\n"
     ]
    },
    {
     "name": "stdout",
     "output_type": "stream",
     "text": [
      "Transpiled and saved: circuits/184/transpiled_circuit_Q.qpy\n"
     ]
    },
    {
     "name": "stdout",
     "output_type": "stream",
     "text": [
      "Transpiled and saved: circuits/185/transpiled_circuit_A.qpy\n"
     ]
    },
    {
     "name": "stdout",
     "output_type": "stream",
     "text": [
      "Transpiled and saved: circuits/185/transpiled_circuit_Q.qpy\n"
     ]
    },
    {
     "name": "stdout",
     "output_type": "stream",
     "text": [
      "Transpiled and saved: circuits/186/transpiled_circuit_A.qpy\n"
     ]
    },
    {
     "name": "stdout",
     "output_type": "stream",
     "text": [
      "Transpiled and saved: circuits/186/transpiled_circuit_Q.qpy\n"
     ]
    },
    {
     "name": "stdout",
     "output_type": "stream",
     "text": [
      "Transpiled and saved: circuits/187/transpiled_circuit_A.qpy\n"
     ]
    },
    {
     "name": "stdout",
     "output_type": "stream",
     "text": [
      "Transpiled and saved: circuits/187/transpiled_circuit_Q.qpy\n"
     ]
    },
    {
     "name": "stdout",
     "output_type": "stream",
     "text": [
      "Transpiled and saved: circuits/188/transpiled_circuit_A.qpy\n"
     ]
    },
    {
     "name": "stdout",
     "output_type": "stream",
     "text": [
      "Transpiled and saved: circuits/188/transpiled_circuit_Q.qpy\n"
     ]
    },
    {
     "name": "stdout",
     "output_type": "stream",
     "text": [
      "Transpiled and saved: circuits/189/transpiled_circuit_A.qpy\n"
     ]
    },
    {
     "name": "stdout",
     "output_type": "stream",
     "text": [
      "Transpiled and saved: circuits/189/transpiled_circuit_Q.qpy\n"
     ]
    },
    {
     "name": "stdout",
     "output_type": "stream",
     "text": [
      "Transpiled and saved: circuits/19/transpiled_circuit_A.qpy\n"
     ]
    },
    {
     "name": "stdout",
     "output_type": "stream",
     "text": [
      "Transpiled and saved: circuits/19/transpiled_circuit_Q.qpy\n"
     ]
    },
    {
     "name": "stdout",
     "output_type": "stream",
     "text": [
      "Transpiled and saved: circuits/190/transpiled_circuit_A.qpy\n"
     ]
    },
    {
     "name": "stdout",
     "output_type": "stream",
     "text": [
      "Transpiled and saved: circuits/190/transpiled_circuit_Q.qpy\n"
     ]
    },
    {
     "name": "stdout",
     "output_type": "stream",
     "text": [
      "Transpiled and saved: circuits/191/transpiled_circuit_A.qpy\n"
     ]
    },
    {
     "name": "stdout",
     "output_type": "stream",
     "text": [
      "Transpiled and saved: circuits/191/transpiled_circuit_Q.qpy\n"
     ]
    },
    {
     "name": "stdout",
     "output_type": "stream",
     "text": [
      "Transpiled and saved: circuits/192/transpiled_circuit_A.qpy\n"
     ]
    },
    {
     "name": "stdout",
     "output_type": "stream",
     "text": [
      "Transpiled and saved: circuits/192/transpiled_circuit_Q.qpy\n"
     ]
    },
    {
     "name": "stdout",
     "output_type": "stream",
     "text": [
      "Transpiled and saved: circuits/193/transpiled_circuit_A.qpy\n"
     ]
    },
    {
     "name": "stdout",
     "output_type": "stream",
     "text": [
      "Transpiled and saved: circuits/193/transpiled_circuit_Q.qpy\n"
     ]
    },
    {
     "name": "stdout",
     "output_type": "stream",
     "text": [
      "Transpiled and saved: circuits/194/transpiled_circuit_A.qpy\n"
     ]
    },
    {
     "name": "stdout",
     "output_type": "stream",
     "text": [
      "Transpiled and saved: circuits/194/transpiled_circuit_Q.qpy\n"
     ]
    },
    {
     "name": "stdout",
     "output_type": "stream",
     "text": [
      "Transpiled and saved: circuits/195/transpiled_circuit_A.qpy\n"
     ]
    },
    {
     "name": "stdout",
     "output_type": "stream",
     "text": [
      "Transpiled and saved: circuits/195/transpiled_circuit_Q.qpy\n"
     ]
    },
    {
     "name": "stdout",
     "output_type": "stream",
     "text": [
      "Transpiled and saved: circuits/196/transpiled_circuit_A.qpy\n"
     ]
    },
    {
     "name": "stdout",
     "output_type": "stream",
     "text": [
      "Transpiled and saved: circuits/196/transpiled_circuit_Q.qpy\n"
     ]
    },
    {
     "name": "stdout",
     "output_type": "stream",
     "text": [
      "Transpiled and saved: circuits/197/transpiled_circuit_A.qpy\n"
     ]
    },
    {
     "name": "stdout",
     "output_type": "stream",
     "text": [
      "Transpiled and saved: circuits/197/transpiled_circuit_Q.qpy\n"
     ]
    },
    {
     "name": "stdout",
     "output_type": "stream",
     "text": [
      "Transpiled and saved: circuits/198/transpiled_circuit_A.qpy\n"
     ]
    },
    {
     "name": "stdout",
     "output_type": "stream",
     "text": [
      "Transpiled and saved: circuits/198/transpiled_circuit_Q.qpy\n"
     ]
    },
    {
     "name": "stdout",
     "output_type": "stream",
     "text": [
      "Transpiled and saved: circuits/199/transpiled_circuit_A.qpy\n"
     ]
    },
    {
     "name": "stdout",
     "output_type": "stream",
     "text": [
      "Transpiled and saved: circuits/199/transpiled_circuit_Q.qpy\n"
     ]
    },
    {
     "name": "stdout",
     "output_type": "stream",
     "text": [
      "Transpiled and saved: circuits/2/transpiled_circuit_A.qpy\n"
     ]
    },
    {
     "name": "stdout",
     "output_type": "stream",
     "text": [
      "Transpiled and saved: circuits/2/transpiled_circuit_Q.qpy\n"
     ]
    },
    {
     "name": "stdout",
     "output_type": "stream",
     "text": [
      "Transpiled and saved: circuits/20/transpiled_circuit_A.qpy\n"
     ]
    },
    {
     "name": "stdout",
     "output_type": "stream",
     "text": [
      "Transpiled and saved: circuits/20/transpiled_circuit_Q.qpy\n"
     ]
    },
    {
     "name": "stdout",
     "output_type": "stream",
     "text": [
      "Transpiled and saved: circuits/200/transpiled_circuit_A.qpy\n"
     ]
    },
    {
     "name": "stdout",
     "output_type": "stream",
     "text": [
      "Transpiled and saved: circuits/200/transpiled_circuit_Q.qpy\n"
     ]
    },
    {
     "name": "stdout",
     "output_type": "stream",
     "text": [
      "Transpiled and saved: circuits/201/transpiled_circuit_A.qpy\n"
     ]
    },
    {
     "name": "stdout",
     "output_type": "stream",
     "text": [
      "Transpiled and saved: circuits/201/transpiled_circuit_Q.qpy\n"
     ]
    },
    {
     "name": "stdout",
     "output_type": "stream",
     "text": [
      "Transpiled and saved: circuits/202/transpiled_circuit_A.qpy\n"
     ]
    },
    {
     "name": "stdout",
     "output_type": "stream",
     "text": [
      "Transpiled and saved: circuits/202/transpiled_circuit_Q.qpy\n"
     ]
    },
    {
     "name": "stdout",
     "output_type": "stream",
     "text": [
      "Transpiled and saved: circuits/203/transpiled_circuit_A.qpy\n"
     ]
    },
    {
     "name": "stdout",
     "output_type": "stream",
     "text": [
      "Transpiled and saved: circuits/203/transpiled_circuit_Q.qpy\n"
     ]
    },
    {
     "name": "stdout",
     "output_type": "stream",
     "text": [
      "Transpiled and saved: circuits/204/transpiled_circuit_A.qpy\n"
     ]
    },
    {
     "name": "stdout",
     "output_type": "stream",
     "text": [
      "Transpiled and saved: circuits/204/transpiled_circuit_Q.qpy\n"
     ]
    },
    {
     "name": "stdout",
     "output_type": "stream",
     "text": [
      "Transpiled and saved: circuits/205/transpiled_circuit_A.qpy\n"
     ]
    },
    {
     "name": "stdout",
     "output_type": "stream",
     "text": [
      "Transpiled and saved: circuits/205/transpiled_circuit_Q.qpy\n"
     ]
    },
    {
     "name": "stdout",
     "output_type": "stream",
     "text": [
      "Transpiled and saved: circuits/206/transpiled_circuit_A.qpy\n"
     ]
    },
    {
     "name": "stdout",
     "output_type": "stream",
     "text": [
      "Transpiled and saved: circuits/206/transpiled_circuit_Q.qpy\n"
     ]
    },
    {
     "name": "stdout",
     "output_type": "stream",
     "text": [
      "Transpiled and saved: circuits/207/transpiled_circuit_A.qpy\n"
     ]
    },
    {
     "name": "stdout",
     "output_type": "stream",
     "text": [
      "Transpiled and saved: circuits/207/transpiled_circuit_Q.qpy\n"
     ]
    },
    {
     "name": "stdout",
     "output_type": "stream",
     "text": [
      "Transpiled and saved: circuits/208/transpiled_circuit_A.qpy\n"
     ]
    },
    {
     "name": "stdout",
     "output_type": "stream",
     "text": [
      "Transpiled and saved: circuits/208/transpiled_circuit_Q.qpy\n"
     ]
    },
    {
     "name": "stdout",
     "output_type": "stream",
     "text": [
      "Transpiled and saved: circuits/209/transpiled_circuit_A.qpy\n"
     ]
    },
    {
     "name": "stdout",
     "output_type": "stream",
     "text": [
      "Transpiled and saved: circuits/209/transpiled_circuit_Q.qpy\n"
     ]
    },
    {
     "name": "stdout",
     "output_type": "stream",
     "text": [
      "Transpiled and saved: circuits/21/transpiled_circuit_A.qpy\n"
     ]
    },
    {
     "name": "stdout",
     "output_type": "stream",
     "text": [
      "Transpiled and saved: circuits/21/transpiled_circuit_Q.qpy\n"
     ]
    },
    {
     "name": "stdout",
     "output_type": "stream",
     "text": [
      "Transpiled and saved: circuits/210/transpiled_circuit_A.qpy\n"
     ]
    },
    {
     "name": "stdout",
     "output_type": "stream",
     "text": [
      "Transpiled and saved: circuits/210/transpiled_circuit_Q.qpy\n"
     ]
    },
    {
     "name": "stdout",
     "output_type": "stream",
     "text": [
      "Transpiled and saved: circuits/211/transpiled_circuit_A.qpy\n"
     ]
    },
    {
     "name": "stdout",
     "output_type": "stream",
     "text": [
      "Transpiled and saved: circuits/211/transpiled_circuit_Q.qpy\n"
     ]
    },
    {
     "name": "stdout",
     "output_type": "stream",
     "text": [
      "Transpiled and saved: circuits/212/transpiled_circuit_A.qpy\n"
     ]
    },
    {
     "name": "stdout",
     "output_type": "stream",
     "text": [
      "Transpiled and saved: circuits/212/transpiled_circuit_Q.qpy\n"
     ]
    },
    {
     "name": "stdout",
     "output_type": "stream",
     "text": [
      "Transpiled and saved: circuits/213/transpiled_circuit_A.qpy\n"
     ]
    },
    {
     "name": "stdout",
     "output_type": "stream",
     "text": [
      "Transpiled and saved: circuits/213/transpiled_circuit_Q.qpy\n"
     ]
    },
    {
     "name": "stdout",
     "output_type": "stream",
     "text": [
      "Transpiled and saved: circuits/214/transpiled_circuit_A.qpy\n"
     ]
    },
    {
     "name": "stdout",
     "output_type": "stream",
     "text": [
      "Transpiled and saved: circuits/214/transpiled_circuit_Q.qpy\n"
     ]
    },
    {
     "name": "stdout",
     "output_type": "stream",
     "text": [
      "Transpiled and saved: circuits/215/transpiled_circuit_A.qpy\n"
     ]
    },
    {
     "name": "stdout",
     "output_type": "stream",
     "text": [
      "Transpiled and saved: circuits/215/transpiled_circuit_Q.qpy\n"
     ]
    },
    {
     "name": "stdout",
     "output_type": "stream",
     "text": [
      "Transpiled and saved: circuits/216/transpiled_circuit_A.qpy\n"
     ]
    },
    {
     "name": "stdout",
     "output_type": "stream",
     "text": [
      "Transpiled and saved: circuits/216/transpiled_circuit_Q.qpy\n"
     ]
    },
    {
     "name": "stdout",
     "output_type": "stream",
     "text": [
      "Transpiled and saved: circuits/217/transpiled_circuit_A.qpy\n"
     ]
    },
    {
     "name": "stdout",
     "output_type": "stream",
     "text": [
      "Transpiled and saved: circuits/217/transpiled_circuit_Q.qpy\n"
     ]
    },
    {
     "name": "stdout",
     "output_type": "stream",
     "text": [
      "Transpiled and saved: circuits/218/transpiled_circuit_A.qpy\n"
     ]
    },
    {
     "name": "stdout",
     "output_type": "stream",
     "text": [
      "Transpiled and saved: circuits/218/transpiled_circuit_Q.qpy\n"
     ]
    },
    {
     "name": "stdout",
     "output_type": "stream",
     "text": [
      "Transpiled and saved: circuits/219/transpiled_circuit_A.qpy\n"
     ]
    },
    {
     "name": "stdout",
     "output_type": "stream",
     "text": [
      "Transpiled and saved: circuits/219/transpiled_circuit_Q.qpy\n"
     ]
    },
    {
     "name": "stdout",
     "output_type": "stream",
     "text": [
      "Transpiled and saved: circuits/22/transpiled_circuit_A.qpy\n"
     ]
    },
    {
     "name": "stdout",
     "output_type": "stream",
     "text": [
      "Transpiled and saved: circuits/22/transpiled_circuit_Q.qpy\n"
     ]
    },
    {
     "name": "stdout",
     "output_type": "stream",
     "text": [
      "Transpiled and saved: circuits/220/transpiled_circuit_A.qpy\n"
     ]
    },
    {
     "name": "stdout",
     "output_type": "stream",
     "text": [
      "Transpiled and saved: circuits/220/transpiled_circuit_Q.qpy\n"
     ]
    },
    {
     "name": "stdout",
     "output_type": "stream",
     "text": [
      "Transpiled and saved: circuits/221/transpiled_circuit_A.qpy\n"
     ]
    },
    {
     "name": "stdout",
     "output_type": "stream",
     "text": [
      "Transpiled and saved: circuits/221/transpiled_circuit_Q.qpy\n"
     ]
    },
    {
     "name": "stdout",
     "output_type": "stream",
     "text": [
      "Transpiled and saved: circuits/222/transpiled_circuit_A.qpy\n"
     ]
    },
    {
     "name": "stdout",
     "output_type": "stream",
     "text": [
      "Transpiled and saved: circuits/222/transpiled_circuit_Q.qpy\n"
     ]
    },
    {
     "name": "stdout",
     "output_type": "stream",
     "text": [
      "Transpiled and saved: circuits/223/transpiled_circuit_A.qpy\n"
     ]
    },
    {
     "name": "stdout",
     "output_type": "stream",
     "text": [
      "Transpiled and saved: circuits/223/transpiled_circuit_Q.qpy\n"
     ]
    },
    {
     "name": "stdout",
     "output_type": "stream",
     "text": [
      "Transpiled and saved: circuits/224/transpiled_circuit_A.qpy\n"
     ]
    },
    {
     "name": "stdout",
     "output_type": "stream",
     "text": [
      "Transpiled and saved: circuits/224/transpiled_circuit_Q.qpy\n"
     ]
    },
    {
     "name": "stdout",
     "output_type": "stream",
     "text": [
      "Transpiled and saved: circuits/225/transpiled_circuit_A.qpy\n"
     ]
    },
    {
     "name": "stdout",
     "output_type": "stream",
     "text": [
      "Transpiled and saved: circuits/225/transpiled_circuit_Q.qpy\n"
     ]
    },
    {
     "name": "stdout",
     "output_type": "stream",
     "text": [
      "Transpiled and saved: circuits/226/transpiled_circuit_A.qpy\n"
     ]
    },
    {
     "name": "stdout",
     "output_type": "stream",
     "text": [
      "Transpiled and saved: circuits/226/transpiled_circuit_Q.qpy\n"
     ]
    },
    {
     "name": "stdout",
     "output_type": "stream",
     "text": [
      "Transpiled and saved: circuits/227/transpiled_circuit_A.qpy\n"
     ]
    },
    {
     "name": "stdout",
     "output_type": "stream",
     "text": [
      "Transpiled and saved: circuits/227/transpiled_circuit_Q.qpy\n"
     ]
    },
    {
     "name": "stdout",
     "output_type": "stream",
     "text": [
      "Transpiled and saved: circuits/228/transpiled_circuit_A.qpy\n"
     ]
    },
    {
     "name": "stdout",
     "output_type": "stream",
     "text": [
      "Transpiled and saved: circuits/228/transpiled_circuit_Q.qpy\n"
     ]
    },
    {
     "name": "stdout",
     "output_type": "stream",
     "text": [
      "Transpiled and saved: circuits/229/transpiled_circuit_A.qpy\n"
     ]
    },
    {
     "name": "stdout",
     "output_type": "stream",
     "text": [
      "Transpiled and saved: circuits/229/transpiled_circuit_Q.qpy\n"
     ]
    },
    {
     "name": "stdout",
     "output_type": "stream",
     "text": [
      "Transpiled and saved: circuits/23/transpiled_circuit_A.qpy\n"
     ]
    },
    {
     "name": "stdout",
     "output_type": "stream",
     "text": [
      "Transpiled and saved: circuits/23/transpiled_circuit_Q.qpy\n"
     ]
    },
    {
     "name": "stdout",
     "output_type": "stream",
     "text": [
      "Transpiled and saved: circuits/230/transpiled_circuit_A.qpy\n"
     ]
    },
    {
     "name": "stdout",
     "output_type": "stream",
     "text": [
      "Transpiled and saved: circuits/230/transpiled_circuit_Q.qpy\n"
     ]
    },
    {
     "name": "stdout",
     "output_type": "stream",
     "text": [
      "Transpiled and saved: circuits/24/transpiled_circuit_A.qpy\n"
     ]
    },
    {
     "name": "stdout",
     "output_type": "stream",
     "text": [
      "Transpiled and saved: circuits/24/transpiled_circuit_Q.qpy\n"
     ]
    },
    {
     "name": "stdout",
     "output_type": "stream",
     "text": [
      "Transpiled and saved: circuits/25/transpiled_circuit_A.qpy\n"
     ]
    },
    {
     "name": "stdout",
     "output_type": "stream",
     "text": [
      "Transpiled and saved: circuits/25/transpiled_circuit_Q.qpy\n"
     ]
    },
    {
     "name": "stdout",
     "output_type": "stream",
     "text": [
      "Transpiled and saved: circuits/26/transpiled_circuit_A.qpy\n"
     ]
    },
    {
     "name": "stdout",
     "output_type": "stream",
     "text": [
      "Transpiled and saved: circuits/26/transpiled_circuit_Q.qpy\n"
     ]
    },
    {
     "name": "stdout",
     "output_type": "stream",
     "text": [
      "Transpiled and saved: circuits/27/transpiled_circuit_A.qpy\n"
     ]
    },
    {
     "name": "stdout",
     "output_type": "stream",
     "text": [
      "Transpiled and saved: circuits/27/transpiled_circuit_Q.qpy\n"
     ]
    },
    {
     "name": "stdout",
     "output_type": "stream",
     "text": [
      "Transpiled and saved: circuits/28/transpiled_circuit_A.qpy\n"
     ]
    },
    {
     "name": "stdout",
     "output_type": "stream",
     "text": [
      "Transpiled and saved: circuits/28/transpiled_circuit_Q.qpy\n"
     ]
    },
    {
     "name": "stdout",
     "output_type": "stream",
     "text": [
      "Transpiled and saved: circuits/29/transpiled_circuit_A.qpy\n"
     ]
    },
    {
     "name": "stdout",
     "output_type": "stream",
     "text": [
      "Transpiled and saved: circuits/29/transpiled_circuit_Q.qpy\n"
     ]
    },
    {
     "name": "stdout",
     "output_type": "stream",
     "text": [
      "Transpiled and saved: circuits/3/transpiled_circuit_A.qpy\n"
     ]
    },
    {
     "name": "stdout",
     "output_type": "stream",
     "text": [
      "Transpiled and saved: circuits/3/transpiled_circuit_Q.qpy\n"
     ]
    },
    {
     "name": "stdout",
     "output_type": "stream",
     "text": [
      "Transpiled and saved: circuits/30/transpiled_circuit_A.qpy\n"
     ]
    },
    {
     "name": "stdout",
     "output_type": "stream",
     "text": [
      "Transpiled and saved: circuits/30/transpiled_circuit_Q.qpy\n"
     ]
    },
    {
     "name": "stdout",
     "output_type": "stream",
     "text": [
      "Transpiled and saved: circuits/31/transpiled_circuit_A.qpy\n"
     ]
    },
    {
     "name": "stdout",
     "output_type": "stream",
     "text": [
      "Transpiled and saved: circuits/31/transpiled_circuit_Q.qpy\n"
     ]
    },
    {
     "name": "stdout",
     "output_type": "stream",
     "text": [
      "Transpiled and saved: circuits/32/transpiled_circuit_A.qpy\n"
     ]
    },
    {
     "name": "stdout",
     "output_type": "stream",
     "text": [
      "Transpiled and saved: circuits/32/transpiled_circuit_Q.qpy\n"
     ]
    },
    {
     "name": "stdout",
     "output_type": "stream",
     "text": [
      "Transpiled and saved: circuits/33/transpiled_circuit_A.qpy\n"
     ]
    },
    {
     "name": "stdout",
     "output_type": "stream",
     "text": [
      "Transpiled and saved: circuits/33/transpiled_circuit_Q.qpy\n"
     ]
    },
    {
     "name": "stdout",
     "output_type": "stream",
     "text": [
      "Transpiled and saved: circuits/34/transpiled_circuit_A.qpy\n"
     ]
    },
    {
     "name": "stdout",
     "output_type": "stream",
     "text": [
      "Transpiled and saved: circuits/34/transpiled_circuit_Q.qpy\n"
     ]
    },
    {
     "name": "stdout",
     "output_type": "stream",
     "text": [
      "Transpiled and saved: circuits/35/transpiled_circuit_A.qpy\n"
     ]
    },
    {
     "name": "stdout",
     "output_type": "stream",
     "text": [
      "Transpiled and saved: circuits/35/transpiled_circuit_Q.qpy\n"
     ]
    },
    {
     "name": "stdout",
     "output_type": "stream",
     "text": [
      "Transpiled and saved: circuits/36/transpiled_circuit_A.qpy\n"
     ]
    },
    {
     "name": "stdout",
     "output_type": "stream",
     "text": [
      "Transpiled and saved: circuits/36/transpiled_circuit_Q.qpy\n"
     ]
    },
    {
     "name": "stdout",
     "output_type": "stream",
     "text": [
      "Transpiled and saved: circuits/37/transpiled_circuit_A.qpy\n"
     ]
    },
    {
     "name": "stdout",
     "output_type": "stream",
     "text": [
      "Transpiled and saved: circuits/37/transpiled_circuit_Q.qpy\n"
     ]
    },
    {
     "name": "stdout",
     "output_type": "stream",
     "text": [
      "Transpiled and saved: circuits/38/transpiled_circuit_A.qpy\n"
     ]
    },
    {
     "name": "stdout",
     "output_type": "stream",
     "text": [
      "Transpiled and saved: circuits/38/transpiled_circuit_Q.qpy\n"
     ]
    },
    {
     "name": "stdout",
     "output_type": "stream",
     "text": [
      "Transpiled and saved: circuits/39/transpiled_circuit_A.qpy\n"
     ]
    },
    {
     "name": "stdout",
     "output_type": "stream",
     "text": [
      "Transpiled and saved: circuits/39/transpiled_circuit_Q.qpy\n"
     ]
    },
    {
     "name": "stdout",
     "output_type": "stream",
     "text": [
      "Transpiled and saved: circuits/4/transpiled_circuit_A.qpy\n"
     ]
    },
    {
     "name": "stdout",
     "output_type": "stream",
     "text": [
      "Transpiled and saved: circuits/4/transpiled_circuit_Q.qpy\n"
     ]
    },
    {
     "name": "stdout",
     "output_type": "stream",
     "text": [
      "Transpiled and saved: circuits/40/transpiled_circuit_A.qpy\n"
     ]
    },
    {
     "name": "stdout",
     "output_type": "stream",
     "text": [
      "Transpiled and saved: circuits/40/transpiled_circuit_Q.qpy\n"
     ]
    },
    {
     "name": "stdout",
     "output_type": "stream",
     "text": [
      "Transpiled and saved: circuits/41/transpiled_circuit_A.qpy\n"
     ]
    },
    {
     "name": "stdout",
     "output_type": "stream",
     "text": [
      "Transpiled and saved: circuits/41/transpiled_circuit_Q.qpy\n"
     ]
    },
    {
     "name": "stdout",
     "output_type": "stream",
     "text": [
      "Transpiled and saved: circuits/42/transpiled_circuit_A.qpy\n"
     ]
    },
    {
     "name": "stdout",
     "output_type": "stream",
     "text": [
      "Transpiled and saved: circuits/42/transpiled_circuit_Q.qpy\n"
     ]
    },
    {
     "name": "stdout",
     "output_type": "stream",
     "text": [
      "Transpiled and saved: circuits/43/transpiled_circuit_A.qpy\n"
     ]
    },
    {
     "name": "stdout",
     "output_type": "stream",
     "text": [
      "Transpiled and saved: circuits/43/transpiled_circuit_Q.qpy\n"
     ]
    },
    {
     "name": "stdout",
     "output_type": "stream",
     "text": [
      "Transpiled and saved: circuits/44/transpiled_circuit_A.qpy\n"
     ]
    },
    {
     "name": "stdout",
     "output_type": "stream",
     "text": [
      "Transpiled and saved: circuits/44/transpiled_circuit_Q.qpy\n"
     ]
    },
    {
     "name": "stdout",
     "output_type": "stream",
     "text": [
      "Transpiled and saved: circuits/45/transpiled_circuit_A.qpy\n"
     ]
    },
    {
     "name": "stdout",
     "output_type": "stream",
     "text": [
      "Transpiled and saved: circuits/45/transpiled_circuit_Q.qpy\n"
     ]
    },
    {
     "name": "stdout",
     "output_type": "stream",
     "text": [
      "Transpiled and saved: circuits/46/transpiled_circuit_A.qpy\n"
     ]
    },
    {
     "name": "stdout",
     "output_type": "stream",
     "text": [
      "Transpiled and saved: circuits/46/transpiled_circuit_Q.qpy\n"
     ]
    },
    {
     "name": "stdout",
     "output_type": "stream",
     "text": [
      "Transpiled and saved: circuits/47/transpiled_circuit_A.qpy\n"
     ]
    },
    {
     "name": "stdout",
     "output_type": "stream",
     "text": [
      "Transpiled and saved: circuits/47/transpiled_circuit_Q.qpy\n"
     ]
    },
    {
     "name": "stdout",
     "output_type": "stream",
     "text": [
      "Transpiled and saved: circuits/48/transpiled_circuit_A.qpy\n"
     ]
    },
    {
     "name": "stdout",
     "output_type": "stream",
     "text": [
      "Transpiled and saved: circuits/48/transpiled_circuit_Q.qpy\n"
     ]
    },
    {
     "name": "stdout",
     "output_type": "stream",
     "text": [
      "Transpiled and saved: circuits/49/transpiled_circuit_A.qpy\n"
     ]
    },
    {
     "name": "stdout",
     "output_type": "stream",
     "text": [
      "Transpiled and saved: circuits/49/transpiled_circuit_Q.qpy\n"
     ]
    },
    {
     "name": "stdout",
     "output_type": "stream",
     "text": [
      "Transpiled and saved: circuits/5/transpiled_circuit_A.qpy\n"
     ]
    },
    {
     "name": "stdout",
     "output_type": "stream",
     "text": [
      "Transpiled and saved: circuits/5/transpiled_circuit_Q.qpy\n"
     ]
    },
    {
     "name": "stdout",
     "output_type": "stream",
     "text": [
      "Transpiled and saved: circuits/50/transpiled_circuit_A.qpy\n"
     ]
    },
    {
     "name": "stdout",
     "output_type": "stream",
     "text": [
      "Transpiled and saved: circuits/50/transpiled_circuit_Q.qpy\n"
     ]
    },
    {
     "name": "stdout",
     "output_type": "stream",
     "text": [
      "Transpiled and saved: circuits/51/transpiled_circuit_A.qpy\n"
     ]
    },
    {
     "name": "stdout",
     "output_type": "stream",
     "text": [
      "Transpiled and saved: circuits/51/transpiled_circuit_Q.qpy\n"
     ]
    },
    {
     "name": "stdout",
     "output_type": "stream",
     "text": [
      "Transpiled and saved: circuits/52/transpiled_circuit_A.qpy\n"
     ]
    },
    {
     "name": "stdout",
     "output_type": "stream",
     "text": [
      "Transpiled and saved: circuits/52/transpiled_circuit_Q.qpy\n"
     ]
    },
    {
     "name": "stdout",
     "output_type": "stream",
     "text": [
      "Transpiled and saved: circuits/53/transpiled_circuit_A.qpy\n"
     ]
    },
    {
     "name": "stdout",
     "output_type": "stream",
     "text": [
      "Transpiled and saved: circuits/53/transpiled_circuit_Q.qpy\n"
     ]
    },
    {
     "name": "stdout",
     "output_type": "stream",
     "text": [
      "Transpiled and saved: circuits/54/transpiled_circuit_A.qpy\n"
     ]
    },
    {
     "name": "stdout",
     "output_type": "stream",
     "text": [
      "Transpiled and saved: circuits/54/transpiled_circuit_Q.qpy\n"
     ]
    },
    {
     "name": "stdout",
     "output_type": "stream",
     "text": [
      "Transpiled and saved: circuits/55/transpiled_circuit_A.qpy\n"
     ]
    },
    {
     "name": "stdout",
     "output_type": "stream",
     "text": [
      "Transpiled and saved: circuits/55/transpiled_circuit_Q.qpy\n"
     ]
    },
    {
     "name": "stdout",
     "output_type": "stream",
     "text": [
      "Transpiled and saved: circuits/56/transpiled_circuit_A.qpy\n"
     ]
    },
    {
     "name": "stdout",
     "output_type": "stream",
     "text": [
      "Transpiled and saved: circuits/56/transpiled_circuit_Q.qpy\n"
     ]
    },
    {
     "name": "stdout",
     "output_type": "stream",
     "text": [
      "Transpiled and saved: circuits/57/transpiled_circuit_A.qpy\n"
     ]
    },
    {
     "name": "stdout",
     "output_type": "stream",
     "text": [
      "Transpiled and saved: circuits/57/transpiled_circuit_Q.qpy\n"
     ]
    },
    {
     "name": "stdout",
     "output_type": "stream",
     "text": [
      "Transpiled and saved: circuits/58/transpiled_circuit_A.qpy\n"
     ]
    },
    {
     "name": "stdout",
     "output_type": "stream",
     "text": [
      "Transpiled and saved: circuits/58/transpiled_circuit_Q.qpy\n"
     ]
    },
    {
     "name": "stdout",
     "output_type": "stream",
     "text": [
      "Transpiled and saved: circuits/59/transpiled_circuit_A.qpy\n"
     ]
    },
    {
     "name": "stdout",
     "output_type": "stream",
     "text": [
      "Transpiled and saved: circuits/59/transpiled_circuit_Q.qpy\n"
     ]
    },
    {
     "name": "stdout",
     "output_type": "stream",
     "text": [
      "Transpiled and saved: circuits/6/transpiled_circuit_A.qpy\n"
     ]
    },
    {
     "name": "stdout",
     "output_type": "stream",
     "text": [
      "Transpiled and saved: circuits/6/transpiled_circuit_Q.qpy\n"
     ]
    },
    {
     "name": "stdout",
     "output_type": "stream",
     "text": [
      "Transpiled and saved: circuits/60/transpiled_circuit_A.qpy\n"
     ]
    },
    {
     "name": "stdout",
     "output_type": "stream",
     "text": [
      "Transpiled and saved: circuits/60/transpiled_circuit_Q.qpy\n"
     ]
    },
    {
     "name": "stdout",
     "output_type": "stream",
     "text": [
      "Transpiled and saved: circuits/61/transpiled_circuit_A.qpy\n"
     ]
    },
    {
     "name": "stdout",
     "output_type": "stream",
     "text": [
      "Transpiled and saved: circuits/61/transpiled_circuit_Q.qpy\n"
     ]
    },
    {
     "name": "stdout",
     "output_type": "stream",
     "text": [
      "Transpiled and saved: circuits/62/transpiled_circuit_A.qpy\n"
     ]
    },
    {
     "name": "stdout",
     "output_type": "stream",
     "text": [
      "Transpiled and saved: circuits/62/transpiled_circuit_Q.qpy\n"
     ]
    },
    {
     "name": "stdout",
     "output_type": "stream",
     "text": [
      "Transpiled and saved: circuits/63/transpiled_circuit_A.qpy\n"
     ]
    },
    {
     "name": "stdout",
     "output_type": "stream",
     "text": [
      "Transpiled and saved: circuits/63/transpiled_circuit_Q.qpy\n"
     ]
    },
    {
     "name": "stdout",
     "output_type": "stream",
     "text": [
      "Transpiled and saved: circuits/64/transpiled_circuit_A.qpy\n"
     ]
    },
    {
     "name": "stdout",
     "output_type": "stream",
     "text": [
      "Transpiled and saved: circuits/64/transpiled_circuit_Q.qpy\n"
     ]
    },
    {
     "name": "stdout",
     "output_type": "stream",
     "text": [
      "Transpiled and saved: circuits/65/transpiled_circuit_A.qpy\n"
     ]
    },
    {
     "name": "stdout",
     "output_type": "stream",
     "text": [
      "Transpiled and saved: circuits/65/transpiled_circuit_Q.qpy\n"
     ]
    },
    {
     "name": "stdout",
     "output_type": "stream",
     "text": [
      "Transpiled and saved: circuits/66/transpiled_circuit_A.qpy\n"
     ]
    },
    {
     "name": "stdout",
     "output_type": "stream",
     "text": [
      "Transpiled and saved: circuits/66/transpiled_circuit_Q.qpy\n"
     ]
    },
    {
     "name": "stdout",
     "output_type": "stream",
     "text": [
      "Transpiled and saved: circuits/67/transpiled_circuit_A.qpy\n"
     ]
    },
    {
     "name": "stdout",
     "output_type": "stream",
     "text": [
      "Transpiled and saved: circuits/67/transpiled_circuit_Q.qpy\n"
     ]
    },
    {
     "name": "stdout",
     "output_type": "stream",
     "text": [
      "Transpiled and saved: circuits/68/transpiled_circuit_A.qpy\n"
     ]
    },
    {
     "name": "stdout",
     "output_type": "stream",
     "text": [
      "Transpiled and saved: circuits/68/transpiled_circuit_Q.qpy\n"
     ]
    },
    {
     "name": "stdout",
     "output_type": "stream",
     "text": [
      "Transpiled and saved: circuits/69/transpiled_circuit_A.qpy\n"
     ]
    },
    {
     "name": "stdout",
     "output_type": "stream",
     "text": [
      "Transpiled and saved: circuits/69/transpiled_circuit_Q.qpy\n"
     ]
    },
    {
     "name": "stdout",
     "output_type": "stream",
     "text": [
      "Transpiled and saved: circuits/7/transpiled_circuit_A.qpy\n"
     ]
    },
    {
     "name": "stdout",
     "output_type": "stream",
     "text": [
      "Transpiled and saved: circuits/7/transpiled_circuit_Q.qpy\n"
     ]
    },
    {
     "name": "stdout",
     "output_type": "stream",
     "text": [
      "Transpiled and saved: circuits/70/transpiled_circuit_A.qpy\n"
     ]
    },
    {
     "name": "stdout",
     "output_type": "stream",
     "text": [
      "Transpiled and saved: circuits/70/transpiled_circuit_Q.qpy\n"
     ]
    },
    {
     "name": "stdout",
     "output_type": "stream",
     "text": [
      "Transpiled and saved: circuits/71/transpiled_circuit_A.qpy\n"
     ]
    },
    {
     "name": "stdout",
     "output_type": "stream",
     "text": [
      "Transpiled and saved: circuits/71/transpiled_circuit_Q.qpy\n"
     ]
    },
    {
     "name": "stdout",
     "output_type": "stream",
     "text": [
      "Transpiled and saved: circuits/72/transpiled_circuit_A.qpy\n"
     ]
    },
    {
     "name": "stdout",
     "output_type": "stream",
     "text": [
      "Transpiled and saved: circuits/72/transpiled_circuit_Q.qpy\n"
     ]
    },
    {
     "name": "stdout",
     "output_type": "stream",
     "text": [
      "Transpiled and saved: circuits/73/transpiled_circuit_A.qpy\n"
     ]
    },
    {
     "name": "stdout",
     "output_type": "stream",
     "text": [
      "Transpiled and saved: circuits/73/transpiled_circuit_Q.qpy\n"
     ]
    },
    {
     "name": "stdout",
     "output_type": "stream",
     "text": [
      "Transpiled and saved: circuits/74/transpiled_circuit_A.qpy\n"
     ]
    },
    {
     "name": "stdout",
     "output_type": "stream",
     "text": [
      "Transpiled and saved: circuits/74/transpiled_circuit_Q.qpy\n"
     ]
    },
    {
     "name": "stdout",
     "output_type": "stream",
     "text": [
      "Transpiled and saved: circuits/75/transpiled_circuit_A.qpy\n"
     ]
    },
    {
     "name": "stdout",
     "output_type": "stream",
     "text": [
      "Transpiled and saved: circuits/75/transpiled_circuit_Q.qpy\n"
     ]
    },
    {
     "name": "stdout",
     "output_type": "stream",
     "text": [
      "Transpiled and saved: circuits/76/transpiled_circuit_A.qpy\n"
     ]
    },
    {
     "name": "stdout",
     "output_type": "stream",
     "text": [
      "Transpiled and saved: circuits/76/transpiled_circuit_Q.qpy\n"
     ]
    },
    {
     "name": "stdout",
     "output_type": "stream",
     "text": [
      "Transpiled and saved: circuits/77/transpiled_circuit_A.qpy\n"
     ]
    },
    {
     "name": "stdout",
     "output_type": "stream",
     "text": [
      "Transpiled and saved: circuits/77/transpiled_circuit_Q.qpy\n"
     ]
    },
    {
     "name": "stdout",
     "output_type": "stream",
     "text": [
      "Transpiled and saved: circuits/78/transpiled_circuit_A.qpy\n"
     ]
    },
    {
     "name": "stdout",
     "output_type": "stream",
     "text": [
      "Transpiled and saved: circuits/78/transpiled_circuit_Q.qpy\n"
     ]
    },
    {
     "name": "stdout",
     "output_type": "stream",
     "text": [
      "Transpiled and saved: circuits/79/transpiled_circuit_A.qpy\n"
     ]
    },
    {
     "name": "stdout",
     "output_type": "stream",
     "text": [
      "Transpiled and saved: circuits/79/transpiled_circuit_Q.qpy\n"
     ]
    },
    {
     "name": "stdout",
     "output_type": "stream",
     "text": [
      "Transpiled and saved: circuits/8/transpiled_circuit_A.qpy\n"
     ]
    },
    {
     "name": "stdout",
     "output_type": "stream",
     "text": [
      "Transpiled and saved: circuits/8/transpiled_circuit_Q.qpy\n"
     ]
    },
    {
     "name": "stdout",
     "output_type": "stream",
     "text": [
      "Transpiled and saved: circuits/80/transpiled_circuit_A.qpy\n"
     ]
    },
    {
     "name": "stdout",
     "output_type": "stream",
     "text": [
      "Transpiled and saved: circuits/80/transpiled_circuit_Q.qpy\n"
     ]
    },
    {
     "name": "stdout",
     "output_type": "stream",
     "text": [
      "Transpiled and saved: circuits/81/transpiled_circuit_A.qpy\n"
     ]
    },
    {
     "name": "stdout",
     "output_type": "stream",
     "text": [
      "Transpiled and saved: circuits/81/transpiled_circuit_Q.qpy\n"
     ]
    },
    {
     "name": "stdout",
     "output_type": "stream",
     "text": [
      "Transpiled and saved: circuits/82/transpiled_circuit_A.qpy\n"
     ]
    },
    {
     "name": "stdout",
     "output_type": "stream",
     "text": [
      "Transpiled and saved: circuits/82/transpiled_circuit_Q.qpy\n"
     ]
    },
    {
     "name": "stdout",
     "output_type": "stream",
     "text": [
      "Transpiled and saved: circuits/83/transpiled_circuit_A.qpy\n"
     ]
    },
    {
     "name": "stdout",
     "output_type": "stream",
     "text": [
      "Transpiled and saved: circuits/83/transpiled_circuit_Q.qpy\n"
     ]
    },
    {
     "name": "stdout",
     "output_type": "stream",
     "text": [
      "Transpiled and saved: circuits/84/transpiled_circuit_A.qpy\n"
     ]
    },
    {
     "name": "stdout",
     "output_type": "stream",
     "text": [
      "Transpiled and saved: circuits/84/transpiled_circuit_Q.qpy\n"
     ]
    },
    {
     "name": "stdout",
     "output_type": "stream",
     "text": [
      "Transpiled and saved: circuits/85/transpiled_circuit_A.qpy\n"
     ]
    },
    {
     "name": "stdout",
     "output_type": "stream",
     "text": [
      "Transpiled and saved: circuits/85/transpiled_circuit_Q.qpy\n"
     ]
    },
    {
     "name": "stdout",
     "output_type": "stream",
     "text": [
      "Transpiled and saved: circuits/86/transpiled_circuit_A.qpy\n"
     ]
    },
    {
     "name": "stdout",
     "output_type": "stream",
     "text": [
      "Transpiled and saved: circuits/86/transpiled_circuit_Q.qpy\n"
     ]
    },
    {
     "name": "stdout",
     "output_type": "stream",
     "text": [
      "Transpiled and saved: circuits/87/transpiled_circuit_A.qpy\n"
     ]
    },
    {
     "name": "stdout",
     "output_type": "stream",
     "text": [
      "Transpiled and saved: circuits/87/transpiled_circuit_Q.qpy\n"
     ]
    },
    {
     "name": "stdout",
     "output_type": "stream",
     "text": [
      "Transpiled and saved: circuits/88/transpiled_circuit_A.qpy\n"
     ]
    },
    {
     "name": "stdout",
     "output_type": "stream",
     "text": [
      "Transpiled and saved: circuits/88/transpiled_circuit_Q.qpy\n"
     ]
    },
    {
     "name": "stdout",
     "output_type": "stream",
     "text": [
      "Transpiled and saved: circuits/89/transpiled_circuit_A.qpy\n"
     ]
    },
    {
     "name": "stdout",
     "output_type": "stream",
     "text": [
      "Transpiled and saved: circuits/89/transpiled_circuit_Q.qpy\n"
     ]
    },
    {
     "name": "stdout",
     "output_type": "stream",
     "text": [
      "Transpiled and saved: circuits/9/transpiled_circuit_A.qpy\n"
     ]
    },
    {
     "name": "stdout",
     "output_type": "stream",
     "text": [
      "Transpiled and saved: circuits/9/transpiled_circuit_Q.qpy\n"
     ]
    },
    {
     "name": "stdout",
     "output_type": "stream",
     "text": [
      "Transpiled and saved: circuits/90/transpiled_circuit_A.qpy\n"
     ]
    },
    {
     "name": "stdout",
     "output_type": "stream",
     "text": [
      "Transpiled and saved: circuits/90/transpiled_circuit_Q.qpy\n"
     ]
    },
    {
     "name": "stdout",
     "output_type": "stream",
     "text": [
      "Transpiled and saved: circuits/91/transpiled_circuit_A.qpy\n"
     ]
    },
    {
     "name": "stdout",
     "output_type": "stream",
     "text": [
      "Transpiled and saved: circuits/91/transpiled_circuit_Q.qpy\n"
     ]
    },
    {
     "name": "stdout",
     "output_type": "stream",
     "text": [
      "Transpiled and saved: circuits/92/transpiled_circuit_A.qpy\n"
     ]
    },
    {
     "name": "stdout",
     "output_type": "stream",
     "text": [
      "Transpiled and saved: circuits/92/transpiled_circuit_Q.qpy\n"
     ]
    },
    {
     "name": "stdout",
     "output_type": "stream",
     "text": [
      "Transpiled and saved: circuits/93/transpiled_circuit_A.qpy\n"
     ]
    },
    {
     "name": "stdout",
     "output_type": "stream",
     "text": [
      "Transpiled and saved: circuits/93/transpiled_circuit_Q.qpy\n"
     ]
    },
    {
     "name": "stdout",
     "output_type": "stream",
     "text": [
      "Transpiled and saved: circuits/94/transpiled_circuit_A.qpy\n"
     ]
    },
    {
     "name": "stdout",
     "output_type": "stream",
     "text": [
      "Transpiled and saved: circuits/94/transpiled_circuit_Q.qpy\n"
     ]
    },
    {
     "name": "stdout",
     "output_type": "stream",
     "text": [
      "Transpiled and saved: circuits/95/transpiled_circuit_A.qpy\n"
     ]
    },
    {
     "name": "stdout",
     "output_type": "stream",
     "text": [
      "Transpiled and saved: circuits/95/transpiled_circuit_Q.qpy\n"
     ]
    },
    {
     "name": "stdout",
     "output_type": "stream",
     "text": [
      "Transpiled and saved: circuits/96/transpiled_circuit_A.qpy\n"
     ]
    },
    {
     "name": "stdout",
     "output_type": "stream",
     "text": [
      "Transpiled and saved: circuits/96/transpiled_circuit_Q.qpy\n"
     ]
    },
    {
     "name": "stdout",
     "output_type": "stream",
     "text": [
      "Transpiled and saved: circuits/97/transpiled_circuit_A.qpy\n"
     ]
    },
    {
     "name": "stdout",
     "output_type": "stream",
     "text": [
      "Transpiled and saved: circuits/97/transpiled_circuit_Q.qpy\n"
     ]
    },
    {
     "name": "stdout",
     "output_type": "stream",
     "text": [
      "Transpiled and saved: circuits/98/transpiled_circuit_A.qpy\n"
     ]
    },
    {
     "name": "stdout",
     "output_type": "stream",
     "text": [
      "Transpiled and saved: circuits/98/transpiled_circuit_Q.qpy\n"
     ]
    },
    {
     "name": "stdout",
     "output_type": "stream",
     "text": [
      "Transpiled and saved: circuits/99/transpiled_circuit_A.qpy\n"
     ]
    },
    {
     "name": "stdout",
     "output_type": "stream",
     "text": [
      "Transpiled and saved: circuits/99/transpiled_circuit_Q.qpy\n",
      "All circuits have been transpiled and saved.\n"
     ]
    },
    {
     "name": "stdout",
     "output_type": "stream",
     "text": [
      "For the 1th Pauli string:\n",
      "  The depth of circuit A is 88\n",
      "  The depth of circuit Q is 177\n",
      "For the 2th Pauli string:\n",
      "  The depth of circuit A is 90\n",
      "  The depth of circuit Q is 182\n",
      "For the 3th Pauli string:\n",
      "  The depth of circuit A is 91\n",
      "  The depth of circuit Q is 183\n",
      "For the 4th Pauli string:\n",
      "  The depth of circuit A is 88\n",
      "  The depth of circuit Q is 177\n",
      "For the 5th Pauli string:\n",
      "  The depth of circuit A is 88\n",
      "  The depth of circuit Q is 177\n",
      "For the 6th Pauli string:\n",
      "  The depth of circuit A is 89\n",
      "  The depth of circuit Q is 180\n",
      "For the 7th Pauli string:\n",
      "  The depth of circuit A is 90\n",
      "  The depth of circuit Q is 184\n",
      "For the 8th Pauli string:\n",
      "  The depth of circuit A is 90\n",
      "  The depth of circuit Q is 182\n",
      "For the 9th Pauli string:\n",
      "  The depth of circuit A is 88\n",
      "  The depth of circuit Q is 177\n",
      "For the 10th Pauli string:\n",
      "  The depth of circuit A is 90\n",
      "  The depth of circuit Q is 181\n",
      "For the 11th Pauli string:\n",
      "  The depth of circuit A is 90\n",
      "  The depth of circuit Q is 184\n",
      "For the 12th Pauli string:\n",
      "  The depth of circuit A is 91\n",
      "  The depth of circuit Q is 185\n",
      "For the 13th Pauli string:\n",
      "  The depth of circuit A is 91\n",
      "  The depth of circuit Q is 185\n",
      "For the 14th Pauli string:\n",
      "  The depth of circuit A is 90\n",
      "  The depth of circuit Q is 182\n",
      "For the 15th Pauli string:\n",
      "  The depth of circuit A is 90\n",
      "  The depth of circuit Q is 183\n",
      "For the 16th Pauli string:\n",
      "  The depth of circuit A is 91\n",
      "  The depth of circuit Q is 184\n",
      "For the 17th Pauli string:\n",
      "  The depth of circuit A is 90\n",
      "  The depth of circuit Q is 183\n",
      "For the 18th Pauli string:\n",
      "  The depth of circuit A is 91\n",
      "  The depth of circuit Q is 184\n",
      "For the 19th Pauli string:\n",
      "  The depth of circuit A is 91\n",
      "  The depth of circuit Q is 184\n",
      "For the 20th Pauli string:\n",
      "  The depth of circuit A is 90\n",
      "  The depth of circuit Q is 181\n",
      "For the 21th Pauli string:\n",
      "  The depth of circuit A is 90\n",
      "  The depth of circuit Q is 183\n",
      "For the 22th Pauli string:\n",
      "  The depth of circuit A is 91\n",
      "  The depth of circuit Q is 184\n",
      "For the 23th Pauli string:\n",
      "  The depth of circuit A is 90\n",
      "  The depth of circuit Q is 184\n",
      "For the 24th Pauli string:\n",
      "  The depth of circuit A is 88\n",
      "  The depth of circuit Q is 178\n",
      "For the 25th Pauli string:\n",
      "  The depth of circuit A is 91\n",
      "  The depth of circuit Q is 185\n",
      "For the 26th Pauli string:\n",
      "  The depth of circuit A is 91\n",
      "  The depth of circuit Q is 185\n",
      "For the 27th Pauli string:\n",
      "  The depth of circuit A is 88\n",
      "  The depth of circuit Q is 177\n",
      "For the 28th Pauli string:\n",
      "  The depth of circuit A is 88\n",
      "  The depth of circuit Q is 177\n",
      "For the 29th Pauli string:\n",
      "  The depth of circuit A is 91\n",
      "  The depth of circuit Q is 185\n",
      "For the 30th Pauli string:\n",
      "  The depth of circuit A is 91\n",
      "  The depth of circuit Q is 184\n",
      "For the 31th Pauli string:\n",
      "  The depth of circuit A is 88\n",
      "  The depth of circuit Q is 177\n",
      "For the 32th Pauli string:\n",
      "  The depth of circuit A is 90\n",
      "  The depth of circuit Q is 183\n",
      "For the 33th Pauli string:\n",
      "  The depth of circuit A is 89\n",
      "  The depth of circuit Q is 181\n",
      "For the 34th Pauli string:\n",
      "  The depth of circuit A is 90\n",
      "  The depth of circuit Q is 185\n",
      "For the 35th Pauli string:\n",
      "  The depth of circuit A is 90\n",
      "  The depth of circuit Q is 182\n",
      "For the 36th Pauli string:\n",
      "  The depth of circuit A is 88\n",
      "  The depth of circuit Q is 178\n",
      "For the 37th Pauli string:\n",
      "  The depth of circuit A is 90\n",
      "  The depth of circuit Q is 182\n",
      "For the 38th Pauli string:\n",
      "  The depth of circuit A is 89\n",
      "  The depth of circuit Q is 181\n",
      "For the 39th Pauli string:\n",
      "  The depth of circuit A is 89\n",
      "  The depth of circuit Q is 181\n",
      "For the 40th Pauli string:\n",
      "  The depth of circuit A is 90\n",
      "  The depth of circuit Q is 183\n",
      "For the 41th Pauli string:\n",
      "  The depth of circuit A is 89\n",
      "  The depth of circuit Q is 179\n",
      "For the 42th Pauli string:\n",
      "  The depth of circuit A is 88\n",
      "  The depth of circuit Q is 177\n",
      "For the 43th Pauli string:\n",
      "  The depth of circuit A is 90\n",
      "  The depth of circuit Q is 182\n",
      "For the 44th Pauli string:\n",
      "  The depth of circuit A is 90\n",
      "  The depth of circuit Q is 183\n",
      "For the 45th Pauli string:\n",
      "  The depth of circuit A is 90\n",
      "  The depth of circuit Q is 183\n",
      "For the 46th Pauli string:\n",
      "  The depth of circuit A is 90\n",
      "  The depth of circuit Q is 184\n",
      "For the 47th Pauli string:\n",
      "  The depth of circuit A is 88\n",
      "  The depth of circuit Q is 177\n",
      "For the 48th Pauli string:\n",
      "  The depth of circuit A is 89\n",
      "  The depth of circuit Q is 180\n",
      "For the 49th Pauli string:\n",
      "  The depth of circuit A is 88\n",
      "  The depth of circuit Q is 177\n",
      "For the 50th Pauli string:\n",
      "  The depth of circuit A is 91\n",
      "  The depth of circuit Q is 185\n",
      "For the 51th Pauli string:\n",
      "  The depth of circuit A is 91\n",
      "  The depth of circuit Q is 185\n",
      "For the 52th Pauli string:\n",
      "  The depth of circuit A is 91\n",
      "  The depth of circuit Q is 185\n",
      "For the 53th Pauli string:\n",
      "  The depth of circuit A is 91\n",
      "  The depth of circuit Q is 185\n",
      "For the 54th Pauli string:\n",
      "  The depth of circuit A is 90\n",
      "  The depth of circuit Q is 184\n",
      "For the 55th Pauli string:\n",
      "  The depth of circuit A is 90\n",
      "  The depth of circuit Q is 184\n",
      "For the 56th Pauli string:\n",
      "  The depth of circuit A is 91\n",
      "  The depth of circuit Q is 185\n",
      "For the 57th Pauli string:\n",
      "  The depth of circuit A is 91\n",
      "  The depth of circuit Q is 185\n",
      "For the 58th Pauli string:\n",
      "  The depth of circuit A is 91\n",
      "  The depth of circuit Q is 185\n",
      "For the 59th Pauli string:\n",
      "  The depth of circuit A is 90\n",
      "  The depth of circuit Q is 183\n",
      "For the 60th Pauli string:\n",
      "  The depth of circuit A is 91\n",
      "  The depth of circuit Q is 185\n",
      "For the 61th Pauli string:\n",
      "  The depth of circuit A is 91\n",
      "  The depth of circuit Q is 184\n",
      "For the 62th Pauli string:\n",
      "  The depth of circuit A is 90\n",
      "  The depth of circuit Q is 184\n",
      "For the 63th Pauli string:\n",
      "  The depth of circuit A is 91\n",
      "  The depth of circuit Q is 184\n",
      "For the 64th Pauli string:\n",
      "  The depth of circuit A is 91\n",
      "  The depth of circuit Q is 185\n",
      "For the 65th Pauli string:\n",
      "  The depth of circuit A is 91\n",
      "  The depth of circuit Q is 184\n",
      "For the 66th Pauli string:\n",
      "  The depth of circuit A is 90\n",
      "  The depth of circuit Q is 185\n",
      "For the 67th Pauli string:\n",
      "  The depth of circuit A is 91\n",
      "  The depth of circuit Q is 187\n",
      "For the 68th Pauli string:\n",
      "  The depth of circuit A is 91\n",
      "  The depth of circuit Q is 187\n",
      "For the 69th Pauli string:\n",
      "  The depth of circuit A is 90\n",
      "  The depth of circuit Q is 185\n",
      "For the 70th Pauli string:\n",
      "  The depth of circuit A is 91\n",
      "  The depth of circuit Q is 187\n",
      "For the 71th Pauli string:\n",
      "  The depth of circuit A is 90\n",
      "  The depth of circuit Q is 185\n",
      "For the 72th Pauli string:\n",
      "  The depth of circuit A is 90\n",
      "  The depth of circuit Q is 185\n",
      "For the 73th Pauli string:\n",
      "  The depth of circuit A is 91\n",
      "  The depth of circuit Q is 187\n",
      "For the 74th Pauli string:\n",
      "  The depth of circuit A is 91\n",
      "  The depth of circuit Q is 186\n",
      "For the 75th Pauli string:\n",
      "  The depth of circuit A is 91\n",
      "  The depth of circuit Q is 186\n",
      "For the 76th Pauli string:\n",
      "  The depth of circuit A is 88\n",
      "  The depth of circuit Q is 179\n",
      "For the 77th Pauli string:\n",
      "  The depth of circuit A is 88\n",
      "  The depth of circuit Q is 179\n",
      "For the 78th Pauli string:\n",
      "  The depth of circuit A is 90\n",
      "  The depth of circuit Q is 184\n",
      "For the 79th Pauli string:\n",
      "  The depth of circuit A is 90\n",
      "  The depth of circuit Q is 184\n",
      "For the 80th Pauli string:\n",
      "  The depth of circuit A is 91\n",
      "  The depth of circuit Q is 185\n",
      "For the 81th Pauli string:\n",
      "  The depth of circuit A is 91\n",
      "  The depth of circuit Q is 185\n",
      "For the 82th Pauli string:\n",
      "  The depth of circuit A is 91\n",
      "  The depth of circuit Q is 187\n",
      "For the 83th Pauli string:\n",
      "  The depth of circuit A is 91\n",
      "  The depth of circuit Q is 186\n",
      "For the 84th Pauli string:\n",
      "  The depth of circuit A is 89\n",
      "  The depth of circuit Q is 182\n",
      "For the 85th Pauli string:\n",
      "  The depth of circuit A is 90\n",
      "  The depth of circuit Q is 183\n",
      "For the 86th Pauli string:\n",
      "  The depth of circuit A is 90\n",
      "  The depth of circuit Q is 184\n",
      "For the 87th Pauli string:\n",
      "  The depth of circuit A is 90\n",
      "  The depth of circuit Q is 185\n",
      "For the 88th Pauli string:\n",
      "  The depth of circuit A is 89\n",
      "  The depth of circuit Q is 181\n",
      "For the 89th Pauli string:\n",
      "  The depth of circuit A is 88\n",
      "  The depth of circuit Q is 178\n",
      "For the 90th Pauli string:\n",
      "  The depth of circuit A is 91\n",
      "  The depth of circuit Q is 187\n",
      "For the 91th Pauli string:\n",
      "  The depth of circuit A is 91\n",
      "  The depth of circuit Q is 187\n",
      "For the 92th Pauli string:\n",
      "  The depth of circuit A is 91\n",
      "  The depth of circuit Q is 187\n",
      "For the 93th Pauli string:\n",
      "  The depth of circuit A is 91\n",
      "  The depth of circuit Q is 187\n",
      "For the 94th Pauli string:\n",
      "  The depth of circuit A is 90\n",
      "  The depth of circuit Q is 181\n",
      "For the 95th Pauli string:\n",
      "  The depth of circuit A is 91\n",
      "  The depth of circuit Q is 184\n",
      "For the 96th Pauli string:\n",
      "  The depth of circuit A is 91\n",
      "  The depth of circuit Q is 187\n",
      "For the 97th Pauli string:\n",
      "  The depth of circuit A is 91\n",
      "  The depth of circuit Q is 186\n",
      "For the 98th Pauli string:\n",
      "  The depth of circuit A is 91\n",
      "  The depth of circuit Q is 186\n",
      "For the 99th Pauli string:\n",
      "  The depth of circuit A is 91\n",
      "  The depth of circuit Q is 185\n",
      "For the 100th Pauli string:\n",
      "  The depth of circuit A is 90\n",
      "  The depth of circuit Q is 184\n",
      "For the 101th Pauli string:\n",
      "  The depth of circuit A is 89\n",
      "  The depth of circuit Q is 181\n",
      "For the 102th Pauli string:\n",
      "  The depth of circuit A is 90\n",
      "  The depth of circuit Q is 184\n",
      "For the 103th Pauli string:\n",
      "  The depth of circuit A is 90\n",
      "  The depth of circuit Q is 185\n",
      "For the 104th Pauli string:\n",
      "  The depth of circuit A is 89\n",
      "  The depth of circuit Q is 181\n",
      "For the 105th Pauli string:\n",
      "  The depth of circuit A is 90\n",
      "  The depth of circuit Q is 182\n",
      "For the 106th Pauli string:\n",
      "  The depth of circuit A is 89\n",
      "  The depth of circuit Q is 181\n",
      "For the 107th Pauli string:\n",
      "  The depth of circuit A is 88\n",
      "  The depth of circuit Q is 178\n",
      "For the 108th Pauli string:\n",
      "  The depth of circuit A is 89\n",
      "  The depth of circuit Q is 182\n",
      "For the 109th Pauli string:\n",
      "  The depth of circuit A is 89\n",
      "  The depth of circuit Q is 182\n",
      "For the 110th Pauli string:\n",
      "  The depth of circuit A is 91\n",
      "  The depth of circuit Q is 187\n",
      "For the 111th Pauli string:\n",
      "  The depth of circuit A is 91\n",
      "  The depth of circuit Q is 187\n",
      "For the 112th Pauli string:\n",
      "  The depth of circuit A is 91\n",
      "  The depth of circuit Q is 186\n",
      "For the 113th Pauli string:\n",
      "  The depth of circuit A is 91\n",
      "  The depth of circuit Q is 185\n",
      "For the 114th Pauli string:\n",
      "  The depth of circuit A is 88\n",
      "  The depth of circuit Q is 179\n",
      "For the 115th Pauli string:\n",
      "  The depth of circuit A is 90\n",
      "  The depth of circuit Q is 184\n",
      "For the 116th Pauli string:\n",
      "  The depth of circuit A is 88\n",
      "  The depth of circuit Q is 177\n",
      "For the 117th Pauli string:\n",
      "  The depth of circuit A is 90\n",
      "  The depth of circuit Q is 184\n",
      "For the 118th Pauli string:\n",
      "  The depth of circuit A is 91\n",
      "  The depth of circuit Q is 184\n",
      "For the 119th Pauli string:\n",
      "  The depth of circuit A is 91\n",
      "  The depth of circuit Q is 185\n",
      "For the 120th Pauli string:\n",
      "  The depth of circuit A is 90\n",
      "  The depth of circuit Q is 183\n",
      "For the 121th Pauli string:\n",
      "  The depth of circuit A is 90\n",
      "  The depth of circuit Q is 183\n",
      "For the 122th Pauli string:\n",
      "  The depth of circuit A is 91\n",
      "  The depth of circuit Q is 186\n",
      "For the 123th Pauli string:\n",
      "  The depth of circuit A is 91\n",
      "  The depth of circuit Q is 186\n",
      "For the 124th Pauli string:\n",
      "  The depth of circuit A is 91\n",
      "  The depth of circuit Q is 187\n",
      "For the 125th Pauli string:\n",
      "  The depth of circuit A is 91\n",
      "  The depth of circuit Q is 186\n",
      "For the 126th Pauli string:\n",
      "  The depth of circuit A is 91\n",
      "  The depth of circuit Q is 186\n",
      "For the 127th Pauli string:\n",
      "  The depth of circuit A is 91\n",
      "  The depth of circuit Q is 185\n",
      "For the 128th Pauli string:\n",
      "  The depth of circuit A is 89\n",
      "  The depth of circuit Q is 182\n",
      "For the 129th Pauli string:\n",
      "  The depth of circuit A is 88\n",
      "  The depth of circuit Q is 179\n",
      "For the 130th Pauli string:\n",
      "  The depth of circuit A is 90\n",
      "  The depth of circuit Q is 183\n",
      "For the 131th Pauli string:\n",
      "  The depth of circuit A is 90\n",
      "  The depth of circuit Q is 184\n",
      "For the 132th Pauli string:\n",
      "  The depth of circuit A is 90\n",
      "  The depth of circuit Q is 185\n",
      "For the 133th Pauli string:\n",
      "  The depth of circuit A is 91\n",
      "  The depth of circuit Q is 186\n",
      "For the 134th Pauli string:\n",
      "  The depth of circuit A is 90\n",
      "  The depth of circuit Q is 183\n",
      "For the 135th Pauli string:\n",
      "  The depth of circuit A is 89\n",
      "  The depth of circuit Q is 179\n",
      "For the 136th Pauli string:\n",
      "  The depth of circuit A is 91\n",
      "  The depth of circuit Q is 187\n",
      "For the 137th Pauli string:\n",
      "  The depth of circuit A is 90\n",
      "  The depth of circuit Q is 184\n",
      "For the 138th Pauli string:\n",
      "  The depth of circuit A is 91\n",
      "  The depth of circuit Q is 185\n",
      "For the 139th Pauli string:\n",
      "  The depth of circuit A is 90\n",
      "  The depth of circuit Q is 182\n",
      "For the 140th Pauli string:\n",
      "  The depth of circuit A is 91\n",
      "  The depth of circuit Q is 185\n",
      "For the 141th Pauli string:\n",
      "  The depth of circuit A is 90\n",
      "  The depth of circuit Q is 183\n",
      "For the 142th Pauli string:\n",
      "  The depth of circuit A is 90\n",
      "  The depth of circuit Q is 182\n",
      "For the 143th Pauli string:\n",
      "  The depth of circuit A is 90\n",
      "  The depth of circuit Q is 183\n",
      "For the 144th Pauli string:\n",
      "  The depth of circuit A is 90\n",
      "  The depth of circuit Q is 184\n",
      "For the 145th Pauli string:\n",
      "  The depth of circuit A is 91\n",
      "  The depth of circuit Q is 184\n",
      "For the 146th Pauli string:\n",
      "  The depth of circuit A is 91\n",
      "  The depth of circuit Q is 185\n",
      "For the 147th Pauli string:\n",
      "  The depth of circuit A is 91\n",
      "  The depth of circuit Q is 184\n",
      "For the 148th Pauli string:\n",
      "  The depth of circuit A is 91\n",
      "  The depth of circuit Q is 187\n",
      "For the 149th Pauli string:\n",
      "  The depth of circuit A is 91\n",
      "  The depth of circuit Q is 186\n",
      "For the 150th Pauli string:\n",
      "  The depth of circuit A is 91\n",
      "  The depth of circuit Q is 187\n",
      "For the 151th Pauli string:\n",
      "  The depth of circuit A is 91\n",
      "  The depth of circuit Q is 186\n",
      "For the 152th Pauli string:\n",
      "  The depth of circuit A is 91\n",
      "  The depth of circuit Q is 187\n",
      "For the 153th Pauli string:\n",
      "  The depth of circuit A is 91\n",
      "  The depth of circuit Q is 187\n",
      "For the 154th Pauli string:\n",
      "  The depth of circuit A is 91\n",
      "  The depth of circuit Q is 186\n",
      "For the 155th Pauli string:\n",
      "  The depth of circuit A is 91\n",
      "  The depth of circuit Q is 186\n",
      "For the 156th Pauli string:\n",
      "  The depth of circuit A is 91\n",
      "  The depth of circuit Q is 186\n",
      "For the 157th Pauli string:\n",
      "  The depth of circuit A is 91\n",
      "  The depth of circuit Q is 185\n",
      "For the 158th Pauli string:\n",
      "  The depth of circuit A is 91\n",
      "  The depth of circuit Q is 185\n",
      "For the 159th Pauli string:\n",
      "  The depth of circuit A is 91\n",
      "  The depth of circuit Q is 186\n",
      "For the 160th Pauli string:\n",
      "  The depth of circuit A is 91\n",
      "  The depth of circuit Q is 185\n",
      "For the 161th Pauli string:\n",
      "  The depth of circuit A is 90\n",
      "  The depth of circuit Q is 183\n",
      "For the 162th Pauli string:\n",
      "  The depth of circuit A is 90\n",
      "  The depth of circuit Q is 183\n",
      "For the 163th Pauli string:\n",
      "  The depth of circuit A is 91\n",
      "  The depth of circuit Q is 185\n",
      "For the 164th Pauli string:\n",
      "  The depth of circuit A is 91\n",
      "  The depth of circuit Q is 186\n",
      "For the 165th Pauli string:\n",
      "  The depth of circuit A is 90\n",
      "  The depth of circuit Q is 184\n",
      "For the 166th Pauli string:\n",
      "  The depth of circuit A is 90\n",
      "  The depth of circuit Q is 184\n",
      "For the 167th Pauli string:\n",
      "  The depth of circuit A is 91\n",
      "  The depth of circuit Q is 186\n",
      "For the 168th Pauli string:\n",
      "  The depth of circuit A is 90\n",
      "  The depth of circuit Q is 184\n",
      "For the 169th Pauli string:\n",
      "  The depth of circuit A is 91\n",
      "  The depth of circuit Q is 186\n",
      "For the 170th Pauli string:\n",
      "  The depth of circuit A is 91\n",
      "  The depth of circuit Q is 186\n",
      "For the 171th Pauli string:\n",
      "  The depth of circuit A is 90\n",
      "  The depth of circuit Q is 184\n",
      "For the 172th Pauli string:\n",
      "  The depth of circuit A is 90\n",
      "  The depth of circuit Q is 185\n",
      "For the 173th Pauli string:\n",
      "  The depth of circuit A is 91\n",
      "  The depth of circuit Q is 186\n",
      "For the 174th Pauli string:\n",
      "  The depth of circuit A is 91\n",
      "  The depth of circuit Q is 187\n",
      "For the 175th Pauli string:\n",
      "  The depth of circuit A is 90\n",
      "  The depth of circuit Q is 184\n",
      "For the 176th Pauli string:\n",
      "  The depth of circuit A is 91\n",
      "  The depth of circuit Q is 187\n",
      "For the 177th Pauli string:\n",
      "  The depth of circuit A is 90\n",
      "  The depth of circuit Q is 184\n",
      "For the 178th Pauli string:\n",
      "  The depth of circuit A is 90\n",
      "  The depth of circuit Q is 185\n",
      "For the 179th Pauli string:\n",
      "  The depth of circuit A is 91\n",
      "  The depth of circuit Q is 186\n",
      "For the 180th Pauli string:\n",
      "  The depth of circuit A is 90\n",
      "  The depth of circuit Q is 185\n",
      "For the 181th Pauli string:\n",
      "  The depth of circuit A is 91\n",
      "  The depth of circuit Q is 187\n",
      "For the 182th Pauli string:\n",
      "  The depth of circuit A is 90\n",
      "  The depth of circuit Q is 183\n",
      "For the 183th Pauli string:\n",
      "  The depth of circuit A is 89\n",
      "  The depth of circuit Q is 180\n",
      "For the 184th Pauli string:\n",
      "  The depth of circuit A is 91\n",
      "  The depth of circuit Q is 187\n",
      "For the 185th Pauli string:\n",
      "  The depth of circuit A is 90\n",
      "  The depth of circuit Q is 185\n",
      "For the 186th Pauli string:\n",
      "  The depth of circuit A is 91\n",
      "  The depth of circuit Q is 185\n",
      "For the 187th Pauli string:\n",
      "  The depth of circuit A is 90\n",
      "  The depth of circuit Q is 183\n",
      "For the 188th Pauli string:\n",
      "  The depth of circuit A is 89\n",
      "  The depth of circuit Q is 181\n",
      "For the 189th Pauli string:\n",
      "  The depth of circuit A is 88\n",
      "  The depth of circuit Q is 178\n",
      "For the 190th Pauli string:\n",
      "  The depth of circuit A is 90\n",
      "  The depth of circuit Q is 185\n",
      "For the 191th Pauli string:\n",
      "  The depth of circuit A is 88\n",
      "  The depth of circuit Q is 178\n",
      "For the 192th Pauli string:\n",
      "  The depth of circuit A is 91\n",
      "  The depth of circuit Q is 184\n",
      "For the 193th Pauli string:\n",
      "  The depth of circuit A is 91\n",
      "  The depth of circuit Q is 185\n",
      "For the 194th Pauli string:\n",
      "  The depth of circuit A is 91\n",
      "  The depth of circuit Q is 185\n",
      "For the 195th Pauli string:\n",
      "  The depth of circuit A is 91\n",
      "  The depth of circuit Q is 184\n",
      "For the 196th Pauli string:\n",
      "  The depth of circuit A is 90\n",
      "  The depth of circuit Q is 182\n",
      "For the 197th Pauli string:\n",
      "  The depth of circuit A is 91\n",
      "  The depth of circuit Q is 184\n",
      "For the 198th Pauli string:\n",
      "  The depth of circuit A is 91\n",
      "  The depth of circuit Q is 184\n",
      "For the 199th Pauli string:\n",
      "  The depth of circuit A is 90\n",
      "  The depth of circuit Q is 182\n",
      "For the 200th Pauli string:\n",
      "  The depth of circuit A is 90\n",
      "  The depth of circuit Q is 183\n",
      "For the 201th Pauli string:\n",
      "  The depth of circuit A is 88\n",
      "  The depth of circuit Q is 177\n",
      "For the 202th Pauli string:\n",
      "  The depth of circuit A is 90\n",
      "  The depth of circuit Q is 183\n",
      "For the 203th Pauli string:\n",
      "  The depth of circuit A is 90\n",
      "  The depth of circuit Q is 182\n",
      "For the 204th Pauli string:\n",
      "  The depth of circuit A is 91\n",
      "  The depth of circuit Q is 187\n",
      "For the 205th Pauli string:\n",
      "  The depth of circuit A is 91\n",
      "  The depth of circuit Q is 187\n",
      "For the 206th Pauli string:\n",
      "  The depth of circuit A is 91\n",
      "  The depth of circuit Q is 186\n",
      "For the 207th Pauli string:\n",
      "  The depth of circuit A is 91\n",
      "  The depth of circuit Q is 186\n",
      "For the 208th Pauli string:\n",
      "  The depth of circuit A is 89\n",
      "  The depth of circuit Q is 182\n",
      "For the 209th Pauli string:\n",
      "  The depth of circuit A is 88\n",
      "  The depth of circuit Q is 179\n",
      "For the 210th Pauli string:\n",
      "  The depth of circuit A is 89\n",
      "  The depth of circuit Q is 182\n",
      "For the 211th Pauli string:\n",
      "  The depth of circuit A is 88\n",
      "  The depth of circuit Q is 179\n",
      "For the 212th Pauli string:\n",
      "  The depth of circuit A is 90\n",
      "  The depth of circuit Q is 183\n",
      "For the 213th Pauli string:\n",
      "  The depth of circuit A is 89\n",
      "  The depth of circuit Q is 180\n",
      "For the 214th Pauli string:\n",
      "  The depth of circuit A is 91\n",
      "  The depth of circuit Q is 186\n",
      "For the 215th Pauli string:\n",
      "  The depth of circuit A is 91\n",
      "  The depth of circuit Q is 185\n",
      "For the 216th Pauli string:\n",
      "  The depth of circuit A is 91\n",
      "  The depth of circuit Q is 186\n",
      "For the 217th Pauli string:\n",
      "  The depth of circuit A is 91\n",
      "  The depth of circuit Q is 185\n",
      "For the 218th Pauli string:\n",
      "  The depth of circuit A is 91\n",
      "  The depth of circuit Q is 184\n",
      "For the 219th Pauli string:\n",
      "  The depth of circuit A is 91\n",
      "  The depth of circuit Q is 183\n",
      "For the 220th Pauli string:\n",
      "  The depth of circuit A is 91\n",
      "  The depth of circuit Q is 186\n",
      "For the 221th Pauli string:\n",
      "  The depth of circuit A is 90\n",
      "  The depth of circuit Q is 183\n",
      "For the 222th Pauli string:\n",
      "  The depth of circuit A is 90\n",
      "  The depth of circuit Q is 184\n",
      "For the 223th Pauli string:\n",
      "  The depth of circuit A is 91\n",
      "  The depth of circuit Q is 185\n",
      "For the 224th Pauli string:\n",
      "  The depth of circuit A is 91\n",
      "  The depth of circuit Q is 185\n",
      "For the 225th Pauli string:\n",
      "  The depth of circuit A is 90\n",
      "  The depth of circuit Q is 183\n",
      "For the 226th Pauli string:\n",
      "  The depth of circuit A is 90\n",
      "  The depth of circuit Q is 182\n",
      "For the 227th Pauli string:\n",
      "  The depth of circuit A is 91\n",
      "  The depth of circuit Q is 184\n",
      "For the 228th Pauli string:\n",
      "  The depth of circuit A is 90\n",
      "  The depth of circuit Q is 184\n",
      "For the 229th Pauli string:\n",
      "  The depth of circuit A is 91\n",
      "  The depth of circuit Q is 185\n",
      "For the 230th Pauli string:\n",
      "  The depth of circuit A is 91\n",
      "  The depth of circuit Q is 186\n",
      "For the 231th Pauli string:\n",
      "  The depth of circuit A is 90\n",
      "  The depth of circuit Q is 183\n"
     ]
    }
   ],
   "source": [
    "# Create an instance of the AerSimulator\n",
    "aer_sim = AerSimulator()\n",
    "\n",
    "# Dictionary to store depths of transpiled circuits\n",
    "transpiled_depths = {}\n",
    "\n",
    "# Walk through the numbered folders in circuits\n",
    "for folder in os.listdir('circuits'):\n",
    "    folder_path = os.path.join('circuits', folder)\n",
    "    if os.path.isdir(folder_path):\n",
    "        # Process circuit_A.qpy and circuit_Q.qpy\n",
    "        for circuit_file in ['circuit_A.qpy', 'circuit_Q.qpy']:\n",
    "            input_path = os.path.join(folder_path, circuit_file)\n",
    "            if os.path.exists(input_path):\n",
    "                # Load the circuit\n",
    "                with open(input_path, 'rb') as f:\n",
    "                    circuit = qpy_load(f)[0]\n",
    "                \n",
    "                # Transpile the circuit\n",
    "                transpiled_circuit = transpile(circuit, backend=aer_sim, optimization_level=3)\n",
    "                \n",
    "                # Save the transpiled circuit\n",
    "                transpiled_output_path = os.path.join(folder_path, f'transpiled_{circuit_file}')\n",
    "                \n",
    "                with open(transpiled_output_path, 'wb') as f:\n",
    "                    qpy_dump(transpiled_circuit, f)\n",
    "                \n",
    "                print(f\"Transpiled and saved: {transpiled_output_path}\")\n",
    "                \n",
    "                # Store the depth of the transpiled circuit\n",
    "                circuit_key = f\"{folder}_{circuit_file.split('.')[0]}\"\n",
    "                transpiled_depths[circuit_key] = transpiled_circuit.depth()\n",
    "    \n",
    "print(\"All circuits have been transpiled and saved.\")\n",
    "\n",
    "# Print depths for both circuit A and Q\n",
    "for folder in sorted([d for d in os.listdir('circuits') if os.path.isdir(os.path.join('circuits', d))], key=int):\n",
    "    circuit_A_key = f\"{folder}_circuit_A\"\n",
    "    circuit_Q_key = f\"{folder}_circuit_Q\"\n",
    "    if circuit_A_key in transpiled_depths and circuit_Q_key in transpiled_depths:\n",
    "        print(f\"For the {int(folder) + 1}th Pauli string:\")\n",
    "        print(f\"  The depth of circuit A is {transpiled_depths[circuit_A_key]}\")\n",
    "        print(f\"  The depth of circuit Q is {transpiled_depths[circuit_Q_key]}\")\n",
    "\n"
   ]
  },
  {
   "cell_type": "markdown",
   "id": "6a81035c",
   "metadata": {
    "papermill": {
     "duration": 0.03888,
     "end_time": "2025-01-25T05:46:21.940609",
     "exception": false,
     "start_time": "2025-01-25T05:46:21.901729",
     "status": "completed"
    },
    "tags": []
   },
   "source": [
    "### 3 Plot all circuits"
   ]
  },
  {
   "cell_type": "code",
   "execution_count": 5,
   "id": "255d5c28",
   "metadata": {
    "execution": {
     "iopub.execute_input": "2025-01-25T05:46:22.011391Z",
     "iopub.status.busy": "2025-01-25T05:46:22.010575Z",
     "iopub.status.idle": "2025-01-25T05:46:22.015867Z",
     "shell.execute_reply": "2025-01-25T05:46:22.014850Z"
    },
    "papermill": {
     "duration": 0.043197,
     "end_time": "2025-01-25T05:46:22.017075",
     "exception": false,
     "start_time": "2025-01-25T05:46:21.973878",
     "status": "completed"
    },
    "tags": []
   },
   "outputs": [],
   "source": [
    "# # Walk through the numbered folders in circuits\n",
    "# for folder in os.listdir('circuits'):\n",
    "#     folder_path = os.path.join('circuits', folder)\n",
    "#     if os.path.isdir(folder_path):\n",
    "#         # Process all circuit files in the folder\n",
    "#         for circuit_file in os.listdir(folder_path):\n",
    "#             if circuit_file.endswith('.qpy'):\n",
    "#                 input_path = os.path.join(folder_path, circuit_file)\n",
    "                \n",
    "#                 # Load the circuit\n",
    "#                 with open(input_path, 'rb') as f:\n",
    "#                     circuit = qpy_load(f)[0]\n",
    "                \n",
    "#                 # Draw the circuit\n",
    "#                 circuit_img = circuit.draw(output='mpl', style={\n",
    "#                     'dpi': 150,\n",
    "#                     'font_size': 20,\n",
    "#                     'backgroundcolor': '#EEEEEE'\n",
    "#                 })\n",
    "#                 circuit_img.figure.set_size_inches(30, 15)\n",
    "                \n",
    "#                 # Save the plot\n",
    "#                 output_filename = f\"{os.path.splitext(circuit_file)[0]}.png\"\n",
    "#                 output_path = os.path.join(folder_path, output_filename)\n",
    "#                 circuit_img.figure.savefig(output_path, dpi=300, bbox_inches='tight')\n",
    "#                 plt.close(circuit_img.figure)\n",
    "                \n",
    "#                 print(f\"Saved circuit plot: {output_path}\")\n",
    "\n",
    "# print(\"All circuit plots have been generated and saved.\")"
   ]
  },
  {
   "cell_type": "code",
   "execution_count": null,
   "id": "8c69dfe3",
   "metadata": {
    "papermill": {
     "duration": 0.036891,
     "end_time": "2025-01-25T05:46:22.087171",
     "exception": false,
     "start_time": "2025-01-25T05:46:22.050280",
     "status": "completed"
    },
    "tags": []
   },
   "outputs": [],
   "source": []
  }
 ],
 "metadata": {
  "kernelspec": {
   "display_name": "Python 3 (ipykernel)",
   "language": "python",
   "name": "python3"
  },
  "language_info": {
   "codemirror_mode": {
    "name": "ipython",
    "version": 3
   },
   "file_extension": ".py",
   "mimetype": "text/x-python",
   "name": "python",
   "nbconvert_exporter": "python",
   "pygments_lexer": "ipython3",
   "version": "3.10.15"
  },
  "papermill": {
   "default_parameters": {},
   "duration": 261.30149,
   "end_time": "2025-01-25T05:46:22.941243",
   "environment_variables": {},
   "exception": null,
   "input_path": "all_str_A_Q.ipynb",
   "output_path": "/usr/src/app/SoleyGroup/lab_data/Notebooks/Statistics/Corrected_plots/corrected_HF/BondLengths/processing_BL_0p66000/all_str_A_Q/all_str_A_Q_out.ipynb",
   "parameters": {},
   "start_time": "2025-01-25T05:42:01.639753",
   "version": "2.6.0"
  }
 },
 "nbformat": 4,
 "nbformat_minor": 5
}