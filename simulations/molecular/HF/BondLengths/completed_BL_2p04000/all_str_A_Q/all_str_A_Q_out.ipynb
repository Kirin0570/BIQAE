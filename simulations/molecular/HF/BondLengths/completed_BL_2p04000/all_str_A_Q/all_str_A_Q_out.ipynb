{
 "cells": [
  {
   "cell_type": "code",
   "execution_count": 1,
   "id": "8e3cd84a",
   "metadata": {
    "execution": {
     "iopub.execute_input": "2025-01-25T05:59:01.318546Z",
     "iopub.status.busy": "2025-01-25T05:59:01.318197Z",
     "iopub.status.idle": "2025-01-25T05:59:02.756205Z",
     "shell.execute_reply": "2025-01-25T05:59:02.754738Z"
    },
    "papermill": {
     "duration": 1.448552,
     "end_time": "2025-01-25T05:59:02.758141",
     "exception": false,
     "start_time": "2025-01-25T05:59:01.309589",
     "status": "completed"
    },
    "tags": []
   },
   "outputs": [],
   "source": [
    "import sys\n",
    "import os\n",
    "import dill\n",
    "import matplotlib.pyplot as plt\n",
    "\n",
    "from qiskit import transpile\n",
    "from qiskit_aer import AerSimulator\n",
    "from qiskit.qpy import load as qpy_load, dump as qpy_dump\n",
    "\n",
    "# Add the path to the parent of the parent directory\n",
    "sys.path.append(os.path.abspath(os.path.join(os.getcwd(), \"../../\")))\n",
    "\n",
    "# Now you can import your modules\n",
    "from circuit_constructors import construct_A, construct_Q"
   ]
  },
  {
   "cell_type": "markdown",
   "id": "cc1c7e96",
   "metadata": {
    "papermill": {
     "duration": 0.014696,
     "end_time": "2025-01-25T05:59:02.780067",
     "exception": false,
     "start_time": "2025-01-25T05:59:02.765371",
     "status": "completed"
    },
    "tags": []
   },
   "source": [
    "### 1 Construct A and Q for all Pauli strings"
   ]
  },
  {
   "cell_type": "code",
   "execution_count": 2,
   "id": "e88827ef",
   "metadata": {
    "execution": {
     "iopub.execute_input": "2025-01-25T05:59:02.804844Z",
     "iopub.status.busy": "2025-01-25T05:59:02.804232Z",
     "iopub.status.idle": "2025-01-25T05:59:02.841262Z",
     "shell.execute_reply": "2025-01-25T05:59:02.840383Z"
    },
    "papermill": {
     "duration": 0.051963,
     "end_time": "2025-01-25T05:59:02.843539",
     "exception": false,
     "start_time": "2025-01-25T05:59:02.791576",
     "status": "completed"
    },
    "tags": []
   },
   "outputs": [],
   "source": [
    "# Load decomp and optim_res\n",
    "with open('../sorted_pauli_list.pkl', 'rb') as f:\n",
    "    sorted_pauli_list = dill.load(f)\n",
    "with open('../vqe_result.pkl', 'rb') as f:\n",
    "    vqe_res = dill.load(f)\n"
   ]
  },
  {
   "cell_type": "code",
   "execution_count": 3,
   "id": "dd640c68",
   "metadata": {
    "execution": {
     "iopub.execute_input": "2025-01-25T05:59:02.863854Z",
     "iopub.status.busy": "2025-01-25T05:59:02.863503Z",
     "iopub.status.idle": "2025-01-25T05:59:18.487333Z",
     "shell.execute_reply": "2025-01-25T05:59:18.486537Z"
    },
    "papermill": {
     "duration": 15.639963,
     "end_time": "2025-01-25T05:59:18.488615",
     "exception": false,
     "start_time": "2025-01-25T05:59:02.848652",
     "status": "completed"
    },
    "tags": []
   },
   "outputs": [
    {
     "name": "stdout",
     "output_type": "stream",
     "text": [
      "Processed Pauli string 0: IIIIII\n",
      "Processed Pauli string 1: IIZZII\n",
      "Processed Pauli string 2: IZZIII\n",
      "Processed Pauli string 3: IZIZIZ\n"
     ]
    },
    {
     "name": "stdout",
     "output_type": "stream",
     "text": [
      "Processed Pauli string 4: IIIZII\n",
      "Processed Pauli string 5: IIIIZZ\n",
      "Processed Pauli string 6: ZZIIII\n",
      "Processed Pauli string 7: IZIZII\n"
     ]
    },
    {
     "name": "stdout",
     "output_type": "stream",
     "text": [
      "Processed Pauli string 8: IIIIZI\n",
      "Processed Pauli string 9: ZIIIII\n",
      "Processed Pauli string 10: IIIIXZ\n"
     ]
    },
    {
     "name": "stdout",
     "output_type": "stream",
     "text": [
      "Processed Pauli string 11: IIIIXI\n",
      "Processed Pauli string 12: XZIIII\n",
      "Processed Pauli string 13: XIIIII\n"
     ]
    },
    {
     "name": "stdout",
     "output_type": "stream",
     "text": [
      "Processed Pauli string 14: IZZIIZ\n",
      "Processed Pauli string 15: IIZZIZ\n",
      "Processed Pauli string 16: IIZIII\n",
      "Processed Pauli string 17: IZZZII\n"
     ]
    },
    {
     "name": "stdout",
     "output_type": "stream",
     "text": [
      "Processed Pauli string 18: IIZZZZ\n",
      "Processed Pauli string 19: ZZZZII\n"
     ]
    },
    {
     "name": "stdout",
     "output_type": "stream",
     "text": [
      "Processed Pauli string 20: IZZIZZ\n",
      "Processed Pauli string 21: ZIZIII\n",
      "Processed Pauli string 22: IZZIZI\n",
      "Processed Pauli string 23: ZZZIII\n"
     ]
    },
    {
     "name": "stdout",
     "output_type": "stream",
     "text": [
      "Processed Pauli string 24: IIZZZI\n",
      "Processed Pauli string 25: ZIZZII\n",
      "Processed Pauli string 26: IZIIIZ\n",
      "Processed Pauli string 27: IZZIXZ\n"
     ]
    },
    {
     "name": "stdout",
     "output_type": "stream",
     "text": [
      "Processed Pauli string 28: IZZIXI\n",
      "Processed Pauli string 29: XIZIII\n",
      "Processed Pauli string 30: XZZIII\n",
      "Processed Pauli string 31: IIZZXZ\n"
     ]
    },
    {
     "name": "stdout",
     "output_type": "stream",
     "text": [
      "Processed Pauli string 32: IIZZXI\n",
      "Processed Pauli string 33: XZZZII\n",
      "Processed Pauli string 34: XIZZII\n",
      "Processed Pauli string 35: ZIIZIZ\n"
     ]
    },
    {
     "name": "stdout",
     "output_type": "stream",
     "text": [
      "Processed Pauli string 36: IIIZZZ\n",
      "Processed Pauli string 37: ZIIIZI\n",
      "Processed Pauli string 38: ZZIIZZ\n",
      "Processed Pauli string 39: ZIIIZZ\n"
     ]
    },
    {
     "name": "stdout",
     "output_type": "stream",
     "text": [
      "Processed Pauli string 40: ZZIIZI\n",
      "Processed Pauli string 41: ZZIZIZ\n"
     ]
    },
    {
     "name": "stdout",
     "output_type": "stream",
     "text": [
      "Processed Pauli string 42: IIIZZI\n",
      "Processed Pauli string 43: IZIZZI\n",
      "Processed Pauli string 44: ZZIZII\n",
      "Processed Pauli string 45: IZIZZZ\n"
     ]
    },
    {
     "name": "stdout",
     "output_type": "stream",
     "text": [
      "Processed Pauli string 46: ZIIZII\n",
      "Processed Pauli string 47: XIIZIZ\n",
      "Processed Pauli string 48: XZIZIZ\n",
      "Processed Pauli string 49: IIIZXZ\n"
     ]
    },
    {
     "name": "stdout",
     "output_type": "stream",
     "text": [
      "Processed Pauli string 50: IIIZXI\n",
      "Processed Pauli string 51: XZIIXZ\n",
      "Processed Pauli string 52: XIIIXZ\n",
      "Processed Pauli string 53: XZIIXI\n"
     ]
    },
    {
     "name": "stdout",
     "output_type": "stream",
     "text": [
      "Processed Pauli string 54: XIIIXI\n",
      "Processed Pauli string 55: IIIIIZ\n",
      "Processed Pauli string 56: IZIIII\n",
      "Processed Pauli string 57: IZIZXI\n"
     ]
    },
    {
     "name": "stdout",
     "output_type": "stream",
     "text": [
      "Processed Pauli string 58: IZIZXZ\n",
      "Processed Pauli string 59: XZIZII\n",
      "Processed Pauli string 60: XIIZII\n",
      "Processed Pauli string 61: IZIXIZ\n"
     ]
    },
    {
     "name": "stdout",
     "output_type": "stream",
     "text": [
      "Processed Pauli string 62: IZZXIZ\n",
      "Processed Pauli string 63: IIZXII\n"
     ]
    },
    {
     "name": "stdout",
     "output_type": "stream",
     "text": [
      "Processed Pauli string 64: IIIXII\n",
      "Processed Pauli string 65: IZXXIZ\n",
      "Processed Pauli string 66: IIYYIZ\n",
      "Processed Pauli string 67: IZYYII\n"
     ]
    },
    {
     "name": "stdout",
     "output_type": "stream",
     "text": [
      "Processed Pauli string 68: IIXXII\n",
      "Processed Pauli string 69: XXXXII\n",
      "Processed Pauli string 70: YXXYII\n",
      "Processed Pauli string 71: IIIIXX\n"
     ]
    },
    {
     "name": "stdout",
     "output_type": "stream",
     "text": [
      "Processed Pauli string 72: IZIZYY\n",
      "Processed Pauli string 73: ZXXXII\n",
      "Processed Pauli string 74: IYXYII\n",
      "Processed Pauli string 75: IIIIZX\n"
     ]
    },
    {
     "name": "stdout",
     "output_type": "stream",
     "text": [
      "Processed Pauli string 76: IZIZIX\n",
      "Processed Pauli string 77: IIXIII\n",
      "Processed Pauli string 78: IZXZII\n",
      "Processed Pauli string 79: ZXXXZX\n"
     ]
    },
    {
     "name": "stdout",
     "output_type": "stream",
     "text": [
      "Processed Pauli string 80: IYXYZX\n",
      "Processed Pauli string 81: ZYXYIX\n",
      "Processed Pauli string 82: IXXXIX\n",
      "Processed Pauli string 83: XXXXZX\n"
     ]
    },
    {
     "name": "stdout",
     "output_type": "stream",
     "text": [
      "Processed Pauli string 84: YXXYZX\n"
     ]
    },
    {
     "name": "stdout",
     "output_type": "stream",
     "text": [
      "Processed Pauli string 85: XYXYIX\n",
      "Processed Pauli string 86: YYXXIX\n",
      "Processed Pauli string 87: ZXXXXX\n"
     ]
    },
    {
     "name": "stdout",
     "output_type": "stream",
     "text": [
      "Processed Pauli string 88: IYXYXX\n",
      "Processed Pauli string 89: ZYXYYY\n",
      "Processed Pauli string 90: IXXXYY\n",
      "Processed Pauli string 91: XXXXXX\n"
     ]
    },
    {
     "name": "stdout",
     "output_type": "stream",
     "text": [
      "Processed Pauli string 92: YXXYXX\n",
      "Processed Pauli string 93: XYXYYY\n",
      "Processed Pauli string 94: YYXXYY\n"
     ]
    },
    {
     "name": "stdout",
     "output_type": "stream",
     "text": [
      "Processed Pauli string 95: XZIIZZ\n",
      "Processed Pauli string 96: XIIIZZ\n",
      "Processed Pauli string 97: ZZIIXZ\n",
      "Processed Pauli string 98: ZZIIXI\n"
     ]
    },
    {
     "name": "stdout",
     "output_type": "stream",
     "text": [
      "Processed Pauli string 99: IIIIYY\n",
      "Processed Pauli string 100: IZIZXX\n",
      "Processed Pauli string 101: YYXXII\n",
      "Processed Pauli string 102: XYXYII\n"
     ]
    },
    {
     "name": "stdout",
     "output_type": "stream",
     "text": [
      "Processed Pauli string 103: IIZZXX\n",
      "Processed Pauli string 104: IZZIYY\n",
      "Processed Pauli string 105: IZZIXX\n"
     ]
    },
    {
     "name": "stdout",
     "output_type": "stream",
     "text": [
      "Processed Pauli string 106: IIZZYY\n",
      "Processed Pauli string 107: XXYYII\n",
      "Processed Pauli string 108: YXYXII\n",
      "Processed Pauli string 109: XYYXII\n"
     ]
    },
    {
     "name": "stdout",
     "output_type": "stream",
     "text": [
      "Processed Pauli string 110: YYYYII\n",
      "Processed Pauli string 111: IIZZZX\n",
      "Processed Pauli string 112: IZZIIX\n",
      "Processed Pauli string 113: IZZIZX\n"
     ]
    },
    {
     "name": "stdout",
     "output_type": "stream",
     "text": [
      "Processed Pauli string 114: IIZZIX\n",
      "Processed Pauli string 115: ZXYYII\n",
      "Processed Pauli string 116: IYYXII\n",
      "Processed Pauli string 117: ZYYXII\n"
     ]
    },
    {
     "name": "stdout",
     "output_type": "stream",
     "text": [
      "Processed Pauli string 118: IXYYII\n",
      "Processed Pauli string 119: ZIIIXZ\n",
      "Processed Pauli string 120: ZIIIXI\n",
      "Processed Pauli string 121: XZIIZI\n"
     ]
    },
    {
     "name": "stdout",
     "output_type": "stream",
     "text": [
      "Processed Pauli string 122: XIIIZI\n",
      "Processed Pauli string 123: XZIIZX\n",
      "Processed Pauli string 124: XIIIZX\n",
      "Processed Pauli string 125: XIIZIX\n",
      "Processed Pauli string 126: XZIZIX\n"
     ]
    },
    {
     "name": "stdout",
     "output_type": "stream",
     "text": [
      "Processed Pauli string 127: ZXXXXZ\n",
      "Processed Pauli string 128: IYXYXZ\n",
      "Processed Pauli string 129: ZXXXXI\n",
      "Processed Pauli string 130: IYXYXI\n"
     ]
    },
    {
     "name": "stdout",
     "output_type": "stream",
     "text": [
      "Processed Pauli string 131: ZYXIZY\n",
      "Processed Pauli string 132: IXYZZY\n",
      "Processed Pauli string 133: ZYYZIX\n",
      "Processed Pauli string 134: IXXIIX\n"
     ]
    },
    {
     "name": "stdout",
     "output_type": "stream",
     "text": [
      "Processed Pauli string 135: ZYIIZY\n",
      "Processed Pauli string 136: IYZIZY\n",
      "Processed Pauli string 137: ZXZIIX\n"
     ]
    },
    {
     "name": "stdout",
     "output_type": "stream",
     "text": [
      "Processed Pauli string 138: IXIIIX\n",
      "Processed Pauli string 139: XYXIZY\n",
      "Processed Pauli string 140: YYYZZY\n"
     ]
    },
    {
     "name": "stdout",
     "output_type": "stream",
     "text": [
      "Processed Pauli string 141: XYYZIX\n",
      "Processed Pauli string 142: YYXIIX\n",
      "Processed Pauli string 143: ZYXIXY\n",
      "Processed Pauli string 144: IXYZXY\n"
     ]
    },
    {
     "name": "stdout",
     "output_type": "stream",
     "text": [
      "Processed Pauli string 145: ZYYZYY\n",
      "Processed Pauli string 146: IXXIYY\n",
      "Processed Pauli string 147: XYIIZY\n"
     ]
    },
    {
     "name": "stdout",
     "output_type": "stream",
     "text": [
      "Processed Pauli string 148: YXZIZY\n",
      "Processed Pauli string 149: XXZIIX\n",
      "Processed Pauli string 150: YYIIIX\n",
      "Processed Pauli string 151: ZYIIXY\n"
     ]
    },
    {
     "name": "stdout",
     "output_type": "stream",
     "text": [
      "Processed Pauli string 152: IYZIXY\n",
      "Processed Pauli string 153: ZXZIYY\n",
      "Processed Pauli string 154: IXIIYY\n"
     ]
    },
    {
     "name": "stdout",
     "output_type": "stream",
     "text": [
      "Processed Pauli string 155: XYXIXY\n",
      "Processed Pauli string 156: YYYZXY\n",
      "Processed Pauli string 157: XYYZYY\n"
     ]
    },
    {
     "name": "stdout",
     "output_type": "stream",
     "text": [
      "Processed Pauli string 158: YYXIYY\n",
      "Processed Pauli string 159: XYIIXY\n",
      "Processed Pauli string 160: YXZIXY\n"
     ]
    },
    {
     "name": "stdout",
     "output_type": "stream",
     "text": [
      "Processed Pauli string 161: XXZIYY\n",
      "Processed Pauli string 162: YYIIYY\n",
      "Processed Pauli string 163: XYXYIZ\n"
     ]
    },
    {
     "name": "stdout",
     "output_type": "stream",
     "text": [
      "Processed Pauli string 164: YYXXIZ\n",
      "Processed Pauli string 165: IIIZXX\n",
      "Processed Pauli string 166: IZIIYY\n",
      "Processed Pauli string 167: ZIIIXX\n"
     ]
    },
    {
     "name": "stdout",
     "output_type": "stream",
     "text": [
      "Processed Pauli string 168: ZZIZYY\n"
     ]
    },
    {
     "name": "stdout",
     "output_type": "stream",
     "text": [
      "Processed Pauli string 169: XXXXZI\n",
      "Processed Pauli string 170: YXXYZI\n",
      "Processed Pauli string 171: ZYXYIZ\n",
      "Processed Pauli string 172: IXXXIZ\n"
     ]
    },
    {
     "name": "stdout",
     "output_type": "stream",
     "text": [
      "Processed Pauli string 173: IIIZZX\n",
      "Processed Pauli string 174: IZIIIX\n",
      "Processed Pauli string 175: ZIIIZX\n",
      "Processed Pauli string 176: ZZIZIX\n"
     ]
    },
    {
     "name": "stdout",
     "output_type": "stream",
     "text": [
      "Processed Pauli string 177: ZXXXZI\n",
      "Processed Pauli string 178: IYXYZI\n",
      "Processed Pauli string 179: ZZIIXX\n",
      "Processed Pauli string 180: ZIIZYY\n"
     ]
    },
    {
     "name": "stdout",
     "output_type": "stream",
     "text": [
      "Processed Pauli string 181: XXXXZZ\n",
      "Processed Pauli string 182: YXXYZZ\n",
      "Processed Pauli string 183: IIIIIX\n"
     ]
    },
    {
     "name": "stdout",
     "output_type": "stream",
     "text": [
      "Processed Pauli string 184: IZIZZX\n",
      "Processed Pauli string 185: IXXXII\n",
      "Processed Pauli string 186: ZYXYII\n",
      "Processed Pauli string 187: XYYZIZ\n"
     ]
    },
    {
     "name": "stdout",
     "output_type": "stream",
     "text": [
      "Processed Pauli string 188: YYXIIZ\n",
      "Processed Pauli string 189: XXXZII\n"
     ]
    },
    {
     "name": "stdout",
     "output_type": "stream",
     "text": [
      "Processed Pauli string 190: YXYIII\n",
      "Processed Pauli string 191: XXZIIZ\n",
      "Processed Pauli string 192: YYIIIZ\n",
      "Processed Pauli string 193: XXIZII\n"
     ]
    },
    {
     "name": "stdout",
     "output_type": "stream",
     "text": [
      "Processed Pauli string 194: YYZZII\n",
      "Processed Pauli string 195: IZZYXY\n",
      "Processed Pauli string 196: IZIYXY\n",
      "Processed Pauli string 197: IZIXYY\n"
     ]
    },
    {
     "name": "stdout",
     "output_type": "stream",
     "text": [
      "Processed Pauli string 198: IZZXYY\n",
      "Processed Pauli string 199: IIYXXY\n",
      "Processed Pauli string 200: IZXYXY\n",
      "Processed Pauli string 201: IZXXYY\n"
     ]
    },
    {
     "name": "stdout",
     "output_type": "stream",
     "text": [
      "Processed Pauli string 202: IIYYYY\n",
      "Processed Pauli string 203: ZYYZIZ\n",
      "Processed Pauli string 204: IXXIIZ\n",
      "Processed Pauli string 205: ZXXZII\n"
     ]
    },
    {
     "name": "stdout",
     "output_type": "stream",
     "text": [
      "Processed Pauli string 206: IYYIII\n",
      "Processed Pauli string 207: ZXZIIZ\n",
      "Processed Pauli string 208: IXIIIZ\n",
      "Processed Pauli string 209: ZXIZII\n"
     ]
    },
    {
     "name": "stdout",
     "output_type": "stream",
     "text": [
      "Processed Pauli string 210: IXZZII\n",
      "Processed Pauli string 211: IZZYZY\n"
     ]
    },
    {
     "name": "stdout",
     "output_type": "stream",
     "text": [
      "Processed Pauli string 212: IZIYZY\n",
      "Processed Pauli string 213: IZIXIX\n",
      "Processed Pauli string 214: IZZXIX\n",
      "Processed Pauli string 215: IIYXZY\n"
     ]
    },
    {
     "name": "stdout",
     "output_type": "stream",
     "text": [
      "Processed Pauli string 216: IZXYZY\n",
      "Processed Pauli string 217: IZXXIX\n",
      "Processed Pauli string 218: IIYYIX\n",
      "Processed Pauli string 219: XZIIXX\n"
     ]
    },
    {
     "name": "stdout",
     "output_type": "stream",
     "text": [
      "Processed Pauli string 220: XIIIXX\n",
      "Processed Pauli string 221: XIIZYY\n",
      "Processed Pauli string 222: XZIZYY\n",
      "Processed Pauli string 223: XXXXXZ\n"
     ]
    },
    {
     "name": "stdout",
     "output_type": "stream",
     "text": [
      "Processed Pauli string 224: YXXYXZ\n",
      "Processed Pauli string 225: XXXXXI\n",
      "Processed Pauli string 226: YXXYXI\n",
      "Processed Pauli string 227: ZZIIZX\n"
     ]
    },
    {
     "name": "stdout",
     "output_type": "stream",
     "text": [
      "Processed Pauli string 228: ZIIZIX\n",
      "Processed Pauli string 229: ZXXXZZ\n",
      "Processed Pauli string 230: IYXYZZ\n",
      "All circuits generated and saved.\n"
     ]
    }
   ],
   "source": [
    "# Extract opt_params\n",
    "opt_params = vqe_res['x']\n",
    "\n",
    "# Set l\n",
    "l = 12\n",
    "\n",
    "# Create the main folder if it doesn't exist\n",
    "if not os.path.exists('circuits'):\n",
    "    os.makedirs('circuits')\n",
    "\n",
    "# Traverse the Pauli strings\n",
    "for i, (pauli_string, coeff) in enumerate(sorted_pauli_list):\n",
    "    # Create a folder for this Pauli string\n",
    "    folder_path = os.path.join('circuits', str(i))\n",
    "    if not os.path.exists(folder_path):\n",
    "        os.makedirs(folder_path)\n",
    "    \n",
    "    # Construct A\n",
    "    A = construct_A(l, opt_params, pauli_string)\n",
    "\n",
    "    # Construct Q\n",
    "    Q = construct_Q(A)\n",
    "\n",
    "    # Save A\n",
    "    with open(os.path.join(folder_path, 'circuit_A.qpy'), 'wb') as f:\n",
    "        qpy_dump(A, f)\n",
    "    \n",
    "    # Save Q\n",
    "    with open(os.path.join(folder_path, 'circuit_Q.qpy'), 'wb') as f:\n",
    "        qpy_dump(Q, f)\n",
    "    \n",
    "    print(f\"Processed Pauli string {i}: {pauli_string}\")\n",
    "    \n",
    "print(\"All circuits generated and saved.\")"
   ]
  },
  {
   "cell_type": "markdown",
   "id": "9cbd8cf2",
   "metadata": {
    "papermill": {
     "duration": 0.015291,
     "end_time": "2025-01-25T05:59:18.514365",
     "exception": false,
     "start_time": "2025-01-25T05:59:18.499074",
     "status": "completed"
    },
    "tags": []
   },
   "source": [
    "### 2 Transpilation"
   ]
  },
  {
   "cell_type": "code",
   "execution_count": 4,
   "id": "e3372e34",
   "metadata": {
    "execution": {
     "iopub.execute_input": "2025-01-25T05:59:18.542547Z",
     "iopub.status.busy": "2025-01-25T05:59:18.541790Z",
     "iopub.status.idle": "2025-01-25T06:01:17.298122Z",
     "shell.execute_reply": "2025-01-25T06:01:17.297380Z"
    },
    "papermill": {
     "duration": 118.771655,
     "end_time": "2025-01-25T06:01:17.299982",
     "exception": false,
     "start_time": "2025-01-25T05:59:18.528327",
     "status": "completed"
    },
    "tags": []
   },
   "outputs": [
    {
     "name": "stdout",
     "output_type": "stream",
     "text": [
      "Transpiled and saved: circuits/0/transpiled_circuit_A.qpy\n"
     ]
    },
    {
     "name": "stdout",
     "output_type": "stream",
     "text": [
      "Transpiled and saved: circuits/0/transpiled_circuit_Q.qpy\n"
     ]
    },
    {
     "name": "stdout",
     "output_type": "stream",
     "text": [
      "Transpiled and saved: circuits/1/transpiled_circuit_A.qpy\n"
     ]
    },
    {
     "name": "stdout",
     "output_type": "stream",
     "text": [
      "Transpiled and saved: circuits/1/transpiled_circuit_Q.qpy\n"
     ]
    },
    {
     "name": "stdout",
     "output_type": "stream",
     "text": [
      "Transpiled and saved: circuits/10/transpiled_circuit_A.qpy\n"
     ]
    },
    {
     "name": "stdout",
     "output_type": "stream",
     "text": [
      "Transpiled and saved: circuits/10/transpiled_circuit_Q.qpy\n"
     ]
    },
    {
     "name": "stdout",
     "output_type": "stream",
     "text": [
      "Transpiled and saved: circuits/100/transpiled_circuit_A.qpy\n"
     ]
    },
    {
     "name": "stdout",
     "output_type": "stream",
     "text": [
      "Transpiled and saved: circuits/100/transpiled_circuit_Q.qpy\n",
      "Transpiled and saved: circuits/101/transpiled_circuit_A.qpy\n"
     ]
    },
    {
     "name": "stdout",
     "output_type": "stream",
     "text": [
      "Transpiled and saved: circuits/101/transpiled_circuit_Q.qpy\n",
      "Transpiled and saved: circuits/102/transpiled_circuit_A.qpy\n"
     ]
    },
    {
     "name": "stdout",
     "output_type": "stream",
     "text": [
      "Transpiled and saved: circuits/102/transpiled_circuit_Q.qpy\n",
      "Transpiled and saved: circuits/103/transpiled_circuit_A.qpy\n"
     ]
    },
    {
     "name": "stdout",
     "output_type": "stream",
     "text": [
      "Transpiled and saved: circuits/103/transpiled_circuit_Q.qpy\n",
      "Transpiled and saved: circuits/104/transpiled_circuit_A.qpy\n"
     ]
    },
    {
     "name": "stdout",
     "output_type": "stream",
     "text": [
      "Transpiled and saved: circuits/104/transpiled_circuit_Q.qpy\n"
     ]
    },
    {
     "name": "stdout",
     "output_type": "stream",
     "text": [
      "Transpiled and saved: circuits/105/transpiled_circuit_A.qpy\n"
     ]
    },
    {
     "name": "stdout",
     "output_type": "stream",
     "text": [
      "Transpiled and saved: circuits/105/transpiled_circuit_Q.qpy\n",
      "Transpiled and saved: circuits/106/transpiled_circuit_A.qpy\n"
     ]
    },
    {
     "name": "stdout",
     "output_type": "stream",
     "text": [
      "Transpiled and saved: circuits/106/transpiled_circuit_Q.qpy\n",
      "Transpiled and saved: circuits/107/transpiled_circuit_A.qpy\n"
     ]
    },
    {
     "name": "stdout",
     "output_type": "stream",
     "text": [
      "Transpiled and saved: circuits/107/transpiled_circuit_Q.qpy\n",
      "Transpiled and saved: circuits/108/transpiled_circuit_A.qpy\n"
     ]
    },
    {
     "name": "stdout",
     "output_type": "stream",
     "text": [
      "Transpiled and saved: circuits/108/transpiled_circuit_Q.qpy\n",
      "Transpiled and saved: circuits/109/transpiled_circuit_A.qpy\n"
     ]
    },
    {
     "name": "stdout",
     "output_type": "stream",
     "text": [
      "Transpiled and saved: circuits/109/transpiled_circuit_Q.qpy\n"
     ]
    },
    {
     "name": "stdout",
     "output_type": "stream",
     "text": [
      "Transpiled and saved: circuits/11/transpiled_circuit_A.qpy\n"
     ]
    },
    {
     "name": "stdout",
     "output_type": "stream",
     "text": [
      "Transpiled and saved: circuits/11/transpiled_circuit_Q.qpy\n",
      "Transpiled and saved: circuits/110/transpiled_circuit_A.qpy\n"
     ]
    },
    {
     "name": "stdout",
     "output_type": "stream",
     "text": [
      "Transpiled and saved: circuits/110/transpiled_circuit_Q.qpy\n",
      "Transpiled and saved: circuits/111/transpiled_circuit_A.qpy\n"
     ]
    },
    {
     "name": "stdout",
     "output_type": "stream",
     "text": [
      "Transpiled and saved: circuits/111/transpiled_circuit_Q.qpy\n",
      "Transpiled and saved: circuits/112/transpiled_circuit_A.qpy\n"
     ]
    },
    {
     "name": "stdout",
     "output_type": "stream",
     "text": [
      "Transpiled and saved: circuits/112/transpiled_circuit_Q.qpy\n",
      "Transpiled and saved: circuits/113/transpiled_circuit_A.qpy\n"
     ]
    },
    {
     "name": "stdout",
     "output_type": "stream",
     "text": [
      "Transpiled and saved: circuits/113/transpiled_circuit_Q.qpy\n",
      "Transpiled and saved: circuits/114/transpiled_circuit_A.qpy\n"
     ]
    },
    {
     "name": "stdout",
     "output_type": "stream",
     "text": [
      "Transpiled and saved: circuits/114/transpiled_circuit_Q.qpy\n",
      "Transpiled and saved: circuits/115/transpiled_circuit_A.qpy\n"
     ]
    },
    {
     "name": "stdout",
     "output_type": "stream",
     "text": [
      "Transpiled and saved: circuits/115/transpiled_circuit_Q.qpy\n",
      "Transpiled and saved: circuits/116/transpiled_circuit_A.qpy\n"
     ]
    },
    {
     "name": "stdout",
     "output_type": "stream",
     "text": [
      "Transpiled and saved: circuits/116/transpiled_circuit_Q.qpy\n"
     ]
    },
    {
     "name": "stdout",
     "output_type": "stream",
     "text": [
      "Transpiled and saved: circuits/117/transpiled_circuit_A.qpy\n"
     ]
    },
    {
     "name": "stdout",
     "output_type": "stream",
     "text": [
      "Transpiled and saved: circuits/117/transpiled_circuit_Q.qpy\n",
      "Transpiled and saved: circuits/118/transpiled_circuit_A.qpy\n"
     ]
    },
    {
     "name": "stdout",
     "output_type": "stream",
     "text": [
      "Transpiled and saved: circuits/118/transpiled_circuit_Q.qpy\n",
      "Transpiled and saved: circuits/119/transpiled_circuit_A.qpy\n"
     ]
    },
    {
     "name": "stdout",
     "output_type": "stream",
     "text": [
      "Transpiled and saved: circuits/119/transpiled_circuit_Q.qpy\n",
      "Transpiled and saved: circuits/12/transpiled_circuit_A.qpy\n"
     ]
    },
    {
     "name": "stdout",
     "output_type": "stream",
     "text": [
      "Transpiled and saved: circuits/12/transpiled_circuit_Q.qpy\n",
      "Transpiled and saved: circuits/120/transpiled_circuit_A.qpy\n"
     ]
    },
    {
     "name": "stdout",
     "output_type": "stream",
     "text": [
      "Transpiled and saved: circuits/120/transpiled_circuit_Q.qpy\n"
     ]
    },
    {
     "name": "stdout",
     "output_type": "stream",
     "text": [
      "Transpiled and saved: circuits/121/transpiled_circuit_A.qpy\n"
     ]
    },
    {
     "name": "stdout",
     "output_type": "stream",
     "text": [
      "Transpiled and saved: circuits/121/transpiled_circuit_Q.qpy\n"
     ]
    },
    {
     "name": "stdout",
     "output_type": "stream",
     "text": [
      "Transpiled and saved: circuits/122/transpiled_circuit_A.qpy\n"
     ]
    },
    {
     "name": "stdout",
     "output_type": "stream",
     "text": [
      "Transpiled and saved: circuits/122/transpiled_circuit_Q.qpy\n"
     ]
    },
    {
     "name": "stdout",
     "output_type": "stream",
     "text": [
      "Transpiled and saved: circuits/123/transpiled_circuit_A.qpy\n"
     ]
    },
    {
     "name": "stdout",
     "output_type": "stream",
     "text": [
      "Transpiled and saved: circuits/123/transpiled_circuit_Q.qpy\n",
      "Transpiled and saved: circuits/124/transpiled_circuit_A.qpy\n"
     ]
    },
    {
     "name": "stdout",
     "output_type": "stream",
     "text": [
      "Transpiled and saved: circuits/124/transpiled_circuit_Q.qpy\n",
      "Transpiled and saved: circuits/125/transpiled_circuit_A.qpy\n"
     ]
    },
    {
     "name": "stdout",
     "output_type": "stream",
     "text": [
      "Transpiled and saved: circuits/125/transpiled_circuit_Q.qpy\n"
     ]
    },
    {
     "name": "stdout",
     "output_type": "stream",
     "text": [
      "Transpiled and saved: circuits/126/transpiled_circuit_A.qpy\n"
     ]
    },
    {
     "name": "stdout",
     "output_type": "stream",
     "text": [
      "Transpiled and saved: circuits/126/transpiled_circuit_Q.qpy\n",
      "Transpiled and saved: circuits/127/transpiled_circuit_A.qpy\n"
     ]
    },
    {
     "name": "stdout",
     "output_type": "stream",
     "text": [
      "Transpiled and saved: circuits/127/transpiled_circuit_Q.qpy\n",
      "Transpiled and saved: circuits/128/transpiled_circuit_A.qpy\n"
     ]
    },
    {
     "name": "stdout",
     "output_type": "stream",
     "text": [
      "Transpiled and saved: circuits/128/transpiled_circuit_Q.qpy\n",
      "Transpiled and saved: circuits/129/transpiled_circuit_A.qpy\n"
     ]
    },
    {
     "name": "stdout",
     "output_type": "stream",
     "text": [
      "Transpiled and saved: circuits/129/transpiled_circuit_Q.qpy\n",
      "Transpiled and saved: circuits/13/transpiled_circuit_A.qpy\n"
     ]
    },
    {
     "name": "stdout",
     "output_type": "stream",
     "text": [
      "Transpiled and saved: circuits/13/transpiled_circuit_Q.qpy\n",
      "Transpiled and saved: circuits/130/transpiled_circuit_A.qpy\n"
     ]
    },
    {
     "name": "stdout",
     "output_type": "stream",
     "text": [
      "Transpiled and saved: circuits/130/transpiled_circuit_Q.qpy\n",
      "Transpiled and saved: circuits/131/transpiled_circuit_A.qpy\n"
     ]
    },
    {
     "name": "stdout",
     "output_type": "stream",
     "text": [
      "Transpiled and saved: circuits/131/transpiled_circuit_Q.qpy\n",
      "Transpiled and saved: circuits/132/transpiled_circuit_A.qpy\n"
     ]
    },
    {
     "name": "stdout",
     "output_type": "stream",
     "text": [
      "Transpiled and saved: circuits/132/transpiled_circuit_Q.qpy\n",
      "Transpiled and saved: circuits/133/transpiled_circuit_A.qpy\n"
     ]
    },
    {
     "name": "stdout",
     "output_type": "stream",
     "text": [
      "Transpiled and saved: circuits/133/transpiled_circuit_Q.qpy\n"
     ]
    },
    {
     "name": "stdout",
     "output_type": "stream",
     "text": [
      "Transpiled and saved: circuits/134/transpiled_circuit_A.qpy\n"
     ]
    },
    {
     "name": "stdout",
     "output_type": "stream",
     "text": [
      "Transpiled and saved: circuits/134/transpiled_circuit_Q.qpy\n"
     ]
    },
    {
     "name": "stdout",
     "output_type": "stream",
     "text": [
      "Transpiled and saved: circuits/135/transpiled_circuit_A.qpy\n"
     ]
    },
    {
     "name": "stdout",
     "output_type": "stream",
     "text": [
      "Transpiled and saved: circuits/135/transpiled_circuit_Q.qpy\n",
      "Transpiled and saved: circuits/136/transpiled_circuit_A.qpy\n"
     ]
    },
    {
     "name": "stdout",
     "output_type": "stream",
     "text": [
      "Transpiled and saved: circuits/136/transpiled_circuit_Q.qpy\n",
      "Transpiled and saved: circuits/137/transpiled_circuit_A.qpy\n"
     ]
    },
    {
     "name": "stdout",
     "output_type": "stream",
     "text": [
      "Transpiled and saved: circuits/137/transpiled_circuit_Q.qpy\n",
      "Transpiled and saved: circuits/138/transpiled_circuit_A.qpy\n"
     ]
    },
    {
     "name": "stdout",
     "output_type": "stream",
     "text": [
      "Transpiled and saved: circuits/138/transpiled_circuit_Q.qpy\n",
      "Transpiled and saved: circuits/139/transpiled_circuit_A.qpy\n"
     ]
    },
    {
     "name": "stdout",
     "output_type": "stream",
     "text": [
      "Transpiled and saved: circuits/139/transpiled_circuit_Q.qpy\n",
      "Transpiled and saved: circuits/14/transpiled_circuit_A.qpy\n"
     ]
    },
    {
     "name": "stdout",
     "output_type": "stream",
     "text": [
      "Transpiled and saved: circuits/14/transpiled_circuit_Q.qpy\n"
     ]
    },
    {
     "name": "stdout",
     "output_type": "stream",
     "text": [
      "Transpiled and saved: circuits/140/transpiled_circuit_A.qpy\n"
     ]
    },
    {
     "name": "stdout",
     "output_type": "stream",
     "text": [
      "Transpiled and saved: circuits/140/transpiled_circuit_Q.qpy\n",
      "Transpiled and saved: circuits/141/transpiled_circuit_A.qpy\n"
     ]
    },
    {
     "name": "stdout",
     "output_type": "stream",
     "text": [
      "Transpiled and saved: circuits/141/transpiled_circuit_Q.qpy\n",
      "Transpiled and saved: circuits/142/transpiled_circuit_A.qpy\n"
     ]
    },
    {
     "name": "stdout",
     "output_type": "stream",
     "text": [
      "Transpiled and saved: circuits/142/transpiled_circuit_Q.qpy\n",
      "Transpiled and saved: circuits/143/transpiled_circuit_A.qpy\n"
     ]
    },
    {
     "name": "stdout",
     "output_type": "stream",
     "text": [
      "Transpiled and saved: circuits/143/transpiled_circuit_Q.qpy\n",
      "Transpiled and saved: circuits/144/transpiled_circuit_A.qpy\n"
     ]
    },
    {
     "name": "stdout",
     "output_type": "stream",
     "text": [
      "Transpiled and saved: circuits/144/transpiled_circuit_Q.qpy\n",
      "Transpiled and saved: circuits/145/transpiled_circuit_A.qpy\n"
     ]
    },
    {
     "name": "stdout",
     "output_type": "stream",
     "text": [
      "Transpiled and saved: circuits/145/transpiled_circuit_Q.qpy\n",
      "Transpiled and saved: circuits/146/transpiled_circuit_A.qpy\n"
     ]
    },
    {
     "name": "stdout",
     "output_type": "stream",
     "text": [
      "Transpiled and saved: circuits/146/transpiled_circuit_Q.qpy\n",
      "Transpiled and saved: circuits/147/transpiled_circuit_A.qpy\n"
     ]
    },
    {
     "name": "stdout",
     "output_type": "stream",
     "text": [
      "Transpiled and saved: circuits/147/transpiled_circuit_Q.qpy\n",
      "Transpiled and saved: circuits/148/transpiled_circuit_A.qpy\n"
     ]
    },
    {
     "name": "stdout",
     "output_type": "stream",
     "text": [
      "Transpiled and saved: circuits/148/transpiled_circuit_Q.qpy\n",
      "Transpiled and saved: circuits/149/transpiled_circuit_A.qpy\n"
     ]
    },
    {
     "name": "stdout",
     "output_type": "stream",
     "text": [
      "Transpiled and saved: circuits/149/transpiled_circuit_Q.qpy\n",
      "Transpiled and saved: circuits/15/transpiled_circuit_A.qpy\n"
     ]
    },
    {
     "name": "stdout",
     "output_type": "stream",
     "text": [
      "Transpiled and saved: circuits/15/transpiled_circuit_Q.qpy\n",
      "Transpiled and saved: circuits/150/transpiled_circuit_A.qpy\n"
     ]
    },
    {
     "name": "stdout",
     "output_type": "stream",
     "text": [
      "Transpiled and saved: circuits/150/transpiled_circuit_Q.qpy\n",
      "Transpiled and saved: circuits/151/transpiled_circuit_A.qpy\n"
     ]
    },
    {
     "name": "stdout",
     "output_type": "stream",
     "text": [
      "Transpiled and saved: circuits/151/transpiled_circuit_Q.qpy\n"
     ]
    },
    {
     "name": "stdout",
     "output_type": "stream",
     "text": [
      "Transpiled and saved: circuits/152/transpiled_circuit_A.qpy\n"
     ]
    },
    {
     "name": "stdout",
     "output_type": "stream",
     "text": [
      "Transpiled and saved: circuits/152/transpiled_circuit_Q.qpy\n",
      "Transpiled and saved: circuits/153/transpiled_circuit_A.qpy\n"
     ]
    },
    {
     "name": "stdout",
     "output_type": "stream",
     "text": [
      "Transpiled and saved: circuits/153/transpiled_circuit_Q.qpy\n",
      "Transpiled and saved: circuits/154/transpiled_circuit_A.qpy\n"
     ]
    },
    {
     "name": "stdout",
     "output_type": "stream",
     "text": [
      "Transpiled and saved: circuits/154/transpiled_circuit_Q.qpy\n",
      "Transpiled and saved: circuits/155/transpiled_circuit_A.qpy\n"
     ]
    },
    {
     "name": "stdout",
     "output_type": "stream",
     "text": [
      "Transpiled and saved: circuits/155/transpiled_circuit_Q.qpy\n",
      "Transpiled and saved: circuits/156/transpiled_circuit_A.qpy\n"
     ]
    },
    {
     "name": "stdout",
     "output_type": "stream",
     "text": [
      "Transpiled and saved: circuits/156/transpiled_circuit_Q.qpy\n",
      "Transpiled and saved: circuits/157/transpiled_circuit_A.qpy\n"
     ]
    },
    {
     "name": "stdout",
     "output_type": "stream",
     "text": [
      "Transpiled and saved: circuits/157/transpiled_circuit_Q.qpy\n",
      "Transpiled and saved: circuits/158/transpiled_circuit_A.qpy\n"
     ]
    },
    {
     "name": "stdout",
     "output_type": "stream",
     "text": [
      "Transpiled and saved: circuits/158/transpiled_circuit_Q.qpy\n"
     ]
    },
    {
     "name": "stdout",
     "output_type": "stream",
     "text": [
      "Transpiled and saved: circuits/159/transpiled_circuit_A.qpy\n"
     ]
    },
    {
     "name": "stdout",
     "output_type": "stream",
     "text": [
      "Transpiled and saved: circuits/159/transpiled_circuit_Q.qpy\n",
      "Transpiled and saved: circuits/16/transpiled_circuit_A.qpy\n"
     ]
    },
    {
     "name": "stdout",
     "output_type": "stream",
     "text": [
      "Transpiled and saved: circuits/16/transpiled_circuit_Q.qpy\n"
     ]
    },
    {
     "name": "stdout",
     "output_type": "stream",
     "text": [
      "Transpiled and saved: circuits/160/transpiled_circuit_A.qpy\n"
     ]
    },
    {
     "name": "stdout",
     "output_type": "stream",
     "text": [
      "Transpiled and saved: circuits/160/transpiled_circuit_Q.qpy\n",
      "Transpiled and saved: circuits/161/transpiled_circuit_A.qpy\n"
     ]
    },
    {
     "name": "stdout",
     "output_type": "stream",
     "text": [
      "Transpiled and saved: circuits/161/transpiled_circuit_Q.qpy\n",
      "Transpiled and saved: circuits/162/transpiled_circuit_A.qpy\n"
     ]
    },
    {
     "name": "stdout",
     "output_type": "stream",
     "text": [
      "Transpiled and saved: circuits/162/transpiled_circuit_Q.qpy\n",
      "Transpiled and saved: circuits/163/transpiled_circuit_A.qpy\n"
     ]
    },
    {
     "name": "stdout",
     "output_type": "stream",
     "text": [
      "Transpiled and saved: circuits/163/transpiled_circuit_Q.qpy\n",
      "Transpiled and saved: circuits/164/transpiled_circuit_A.qpy\n"
     ]
    },
    {
     "name": "stdout",
     "output_type": "stream",
     "text": [
      "Transpiled and saved: circuits/164/transpiled_circuit_Q.qpy\n",
      "Transpiled and saved: circuits/165/transpiled_circuit_A.qpy\n"
     ]
    },
    {
     "name": "stdout",
     "output_type": "stream",
     "text": [
      "Transpiled and saved: circuits/165/transpiled_circuit_Q.qpy\n",
      "Transpiled and saved: circuits/166/transpiled_circuit_A.qpy\n"
     ]
    },
    {
     "name": "stdout",
     "output_type": "stream",
     "text": [
      "Transpiled and saved: circuits/166/transpiled_circuit_Q.qpy\n",
      "Transpiled and saved: circuits/167/transpiled_circuit_A.qpy\n"
     ]
    },
    {
     "name": "stdout",
     "output_type": "stream",
     "text": [
      "Transpiled and saved: circuits/167/transpiled_circuit_Q.qpy\n",
      "Transpiled and saved: circuits/168/transpiled_circuit_A.qpy\n"
     ]
    },
    {
     "name": "stdout",
     "output_type": "stream",
     "text": [
      "Transpiled and saved: circuits/168/transpiled_circuit_Q.qpy\n",
      "Transpiled and saved: circuits/169/transpiled_circuit_A.qpy\n"
     ]
    },
    {
     "name": "stdout",
     "output_type": "stream",
     "text": [
      "Transpiled and saved: circuits/169/transpiled_circuit_Q.qpy\n",
      "Transpiled and saved: circuits/17/transpiled_circuit_A.qpy\n"
     ]
    },
    {
     "name": "stdout",
     "output_type": "stream",
     "text": [
      "Transpiled and saved: circuits/17/transpiled_circuit_Q.qpy\n"
     ]
    },
    {
     "name": "stdout",
     "output_type": "stream",
     "text": [
      "Transpiled and saved: circuits/170/transpiled_circuit_A.qpy\n"
     ]
    },
    {
     "name": "stdout",
     "output_type": "stream",
     "text": [
      "Transpiled and saved: circuits/170/transpiled_circuit_Q.qpy\n",
      "Transpiled and saved: circuits/171/transpiled_circuit_A.qpy\n"
     ]
    },
    {
     "name": "stdout",
     "output_type": "stream",
     "text": [
      "Transpiled and saved: circuits/171/transpiled_circuit_Q.qpy\n",
      "Transpiled and saved: circuits/172/transpiled_circuit_A.qpy\n"
     ]
    },
    {
     "name": "stdout",
     "output_type": "stream",
     "text": [
      "Transpiled and saved: circuits/172/transpiled_circuit_Q.qpy\n",
      "Transpiled and saved: circuits/173/transpiled_circuit_A.qpy\n"
     ]
    },
    {
     "name": "stdout",
     "output_type": "stream",
     "text": [
      "Transpiled and saved: circuits/173/transpiled_circuit_Q.qpy\n",
      "Transpiled and saved: circuits/174/transpiled_circuit_A.qpy\n"
     ]
    },
    {
     "name": "stdout",
     "output_type": "stream",
     "text": [
      "Transpiled and saved: circuits/174/transpiled_circuit_Q.qpy\n",
      "Transpiled and saved: circuits/175/transpiled_circuit_A.qpy\n"
     ]
    },
    {
     "name": "stdout",
     "output_type": "stream",
     "text": [
      "Transpiled and saved: circuits/175/transpiled_circuit_Q.qpy\n"
     ]
    },
    {
     "name": "stdout",
     "output_type": "stream",
     "text": [
      "Transpiled and saved: circuits/176/transpiled_circuit_A.qpy\n"
     ]
    },
    {
     "name": "stdout",
     "output_type": "stream",
     "text": [
      "Transpiled and saved: circuits/176/transpiled_circuit_Q.qpy\n"
     ]
    },
    {
     "name": "stdout",
     "output_type": "stream",
     "text": [
      "Transpiled and saved: circuits/177/transpiled_circuit_A.qpy\n"
     ]
    },
    {
     "name": "stdout",
     "output_type": "stream",
     "text": [
      "Transpiled and saved: circuits/177/transpiled_circuit_Q.qpy\n",
      "Transpiled and saved: circuits/178/transpiled_circuit_A.qpy\n"
     ]
    },
    {
     "name": "stdout",
     "output_type": "stream",
     "text": [
      "Transpiled and saved: circuits/178/transpiled_circuit_Q.qpy\n",
      "Transpiled and saved: circuits/179/transpiled_circuit_A.qpy\n"
     ]
    },
    {
     "name": "stdout",
     "output_type": "stream",
     "text": [
      "Transpiled and saved: circuits/179/transpiled_circuit_Q.qpy\n",
      "Transpiled and saved: circuits/18/transpiled_circuit_A.qpy\n"
     ]
    },
    {
     "name": "stdout",
     "output_type": "stream",
     "text": [
      "Transpiled and saved: circuits/18/transpiled_circuit_Q.qpy\n",
      "Transpiled and saved: circuits/180/transpiled_circuit_A.qpy\n"
     ]
    },
    {
     "name": "stdout",
     "output_type": "stream",
     "text": [
      "Transpiled and saved: circuits/180/transpiled_circuit_Q.qpy\n",
      "Transpiled and saved: circuits/181/transpiled_circuit_A.qpy\n"
     ]
    },
    {
     "name": "stdout",
     "output_type": "stream",
     "text": [
      "Transpiled and saved: circuits/181/transpiled_circuit_Q.qpy\n",
      "Transpiled and saved: circuits/182/transpiled_circuit_A.qpy\n"
     ]
    },
    {
     "name": "stdout",
     "output_type": "stream",
     "text": [
      "Transpiled and saved: circuits/182/transpiled_circuit_Q.qpy\n",
      "Transpiled and saved: circuits/183/transpiled_circuit_A.qpy\n"
     ]
    },
    {
     "name": "stdout",
     "output_type": "stream",
     "text": [
      "Transpiled and saved: circuits/183/transpiled_circuit_Q.qpy\n",
      "Transpiled and saved: circuits/184/transpiled_circuit_A.qpy\n"
     ]
    },
    {
     "name": "stdout",
     "output_type": "stream",
     "text": [
      "Transpiled and saved: circuits/184/transpiled_circuit_Q.qpy\n",
      "Transpiled and saved: circuits/185/transpiled_circuit_A.qpy\n"
     ]
    },
    {
     "name": "stdout",
     "output_type": "stream",
     "text": [
      "Transpiled and saved: circuits/185/transpiled_circuit_Q.qpy\n",
      "Transpiled and saved: circuits/186/transpiled_circuit_A.qpy\n"
     ]
    },
    {
     "name": "stdout",
     "output_type": "stream",
     "text": [
      "Transpiled and saved: circuits/186/transpiled_circuit_Q.qpy\n",
      "Transpiled and saved: circuits/187/transpiled_circuit_A.qpy\n"
     ]
    },
    {
     "name": "stdout",
     "output_type": "stream",
     "text": [
      "Transpiled and saved: circuits/187/transpiled_circuit_Q.qpy\n"
     ]
    },
    {
     "name": "stdout",
     "output_type": "stream",
     "text": [
      "Transpiled and saved: circuits/188/transpiled_circuit_A.qpy\n"
     ]
    },
    {
     "name": "stdout",
     "output_type": "stream",
     "text": [
      "Transpiled and saved: circuits/188/transpiled_circuit_Q.qpy\n"
     ]
    },
    {
     "name": "stdout",
     "output_type": "stream",
     "text": [
      "Transpiled and saved: circuits/189/transpiled_circuit_A.qpy\n"
     ]
    },
    {
     "name": "stdout",
     "output_type": "stream",
     "text": [
      "Transpiled and saved: circuits/189/transpiled_circuit_Q.qpy\n",
      "Transpiled and saved: circuits/19/transpiled_circuit_A.qpy\n"
     ]
    },
    {
     "name": "stdout",
     "output_type": "stream",
     "text": [
      "Transpiled and saved: circuits/19/transpiled_circuit_Q.qpy\n",
      "Transpiled and saved: circuits/190/transpiled_circuit_A.qpy\n"
     ]
    },
    {
     "name": "stdout",
     "output_type": "stream",
     "text": [
      "Transpiled and saved: circuits/190/transpiled_circuit_Q.qpy\n",
      "Transpiled and saved: circuits/191/transpiled_circuit_A.qpy\n"
     ]
    },
    {
     "name": "stdout",
     "output_type": "stream",
     "text": [
      "Transpiled and saved: circuits/191/transpiled_circuit_Q.qpy\n",
      "Transpiled and saved: circuits/192/transpiled_circuit_A.qpy\n"
     ]
    },
    {
     "name": "stdout",
     "output_type": "stream",
     "text": [
      "Transpiled and saved: circuits/192/transpiled_circuit_Q.qpy\n",
      "Transpiled and saved: circuits/193/transpiled_circuit_A.qpy\n"
     ]
    },
    {
     "name": "stdout",
     "output_type": "stream",
     "text": [
      "Transpiled and saved: circuits/193/transpiled_circuit_Q.qpy\n"
     ]
    },
    {
     "name": "stdout",
     "output_type": "stream",
     "text": [
      "Transpiled and saved: circuits/194/transpiled_circuit_A.qpy\n"
     ]
    },
    {
     "name": "stdout",
     "output_type": "stream",
     "text": [
      "Transpiled and saved: circuits/194/transpiled_circuit_Q.qpy\n",
      "Transpiled and saved: circuits/195/transpiled_circuit_A.qpy\n"
     ]
    },
    {
     "name": "stdout",
     "output_type": "stream",
     "text": [
      "Transpiled and saved: circuits/195/transpiled_circuit_Q.qpy\n",
      "Transpiled and saved: circuits/196/transpiled_circuit_A.qpy\n"
     ]
    },
    {
     "name": "stdout",
     "output_type": "stream",
     "text": [
      "Transpiled and saved: circuits/196/transpiled_circuit_Q.qpy\n"
     ]
    },
    {
     "name": "stdout",
     "output_type": "stream",
     "text": [
      "Transpiled and saved: circuits/197/transpiled_circuit_A.qpy\n"
     ]
    },
    {
     "name": "stdout",
     "output_type": "stream",
     "text": [
      "Transpiled and saved: circuits/197/transpiled_circuit_Q.qpy\n",
      "Transpiled and saved: circuits/198/transpiled_circuit_A.qpy\n"
     ]
    },
    {
     "name": "stdout",
     "output_type": "stream",
     "text": [
      "Transpiled and saved: circuits/198/transpiled_circuit_Q.qpy\n",
      "Transpiled and saved: circuits/199/transpiled_circuit_A.qpy\n"
     ]
    },
    {
     "name": "stdout",
     "output_type": "stream",
     "text": [
      "Transpiled and saved: circuits/199/transpiled_circuit_Q.qpy\n",
      "Transpiled and saved: circuits/2/transpiled_circuit_A.qpy\n"
     ]
    },
    {
     "name": "stdout",
     "output_type": "stream",
     "text": [
      "Transpiled and saved: circuits/2/transpiled_circuit_Q.qpy\n",
      "Transpiled and saved: circuits/20/transpiled_circuit_A.qpy\n"
     ]
    },
    {
     "name": "stdout",
     "output_type": "stream",
     "text": [
      "Transpiled and saved: circuits/20/transpiled_circuit_Q.qpy\n",
      "Transpiled and saved: circuits/200/transpiled_circuit_A.qpy\n"
     ]
    },
    {
     "name": "stdout",
     "output_type": "stream",
     "text": [
      "Transpiled and saved: circuits/200/transpiled_circuit_Q.qpy\n",
      "Transpiled and saved: circuits/201/transpiled_circuit_A.qpy\n"
     ]
    },
    {
     "name": "stdout",
     "output_type": "stream",
     "text": [
      "Transpiled and saved: circuits/201/transpiled_circuit_Q.qpy\n",
      "Transpiled and saved: circuits/202/transpiled_circuit_A.qpy\n"
     ]
    },
    {
     "name": "stdout",
     "output_type": "stream",
     "text": [
      "Transpiled and saved: circuits/202/transpiled_circuit_Q.qpy\n"
     ]
    },
    {
     "name": "stdout",
     "output_type": "stream",
     "text": [
      "Transpiled and saved: circuits/203/transpiled_circuit_A.qpy\n"
     ]
    },
    {
     "name": "stdout",
     "output_type": "stream",
     "text": [
      "Transpiled and saved: circuits/203/transpiled_circuit_Q.qpy\n"
     ]
    },
    {
     "name": "stdout",
     "output_type": "stream",
     "text": [
      "Transpiled and saved: circuits/204/transpiled_circuit_A.qpy\n"
     ]
    },
    {
     "name": "stdout",
     "output_type": "stream",
     "text": [
      "Transpiled and saved: circuits/204/transpiled_circuit_Q.qpy\n"
     ]
    },
    {
     "name": "stdout",
     "output_type": "stream",
     "text": [
      "Transpiled and saved: circuits/205/transpiled_circuit_A.qpy\n"
     ]
    },
    {
     "name": "stdout",
     "output_type": "stream",
     "text": [
      "Transpiled and saved: circuits/205/transpiled_circuit_Q.qpy\n",
      "Transpiled and saved: circuits/206/transpiled_circuit_A.qpy\n"
     ]
    },
    {
     "name": "stdout",
     "output_type": "stream",
     "text": [
      "Transpiled and saved: circuits/206/transpiled_circuit_Q.qpy\n",
      "Transpiled and saved: circuits/207/transpiled_circuit_A.qpy\n"
     ]
    },
    {
     "name": "stdout",
     "output_type": "stream",
     "text": [
      "Transpiled and saved: circuits/207/transpiled_circuit_Q.qpy\n",
      "Transpiled and saved: circuits/208/transpiled_circuit_A.qpy\n"
     ]
    },
    {
     "name": "stdout",
     "output_type": "stream",
     "text": [
      "Transpiled and saved: circuits/208/transpiled_circuit_Q.qpy\n",
      "Transpiled and saved: circuits/209/transpiled_circuit_A.qpy\n"
     ]
    },
    {
     "name": "stdout",
     "output_type": "stream",
     "text": [
      "Transpiled and saved: circuits/209/transpiled_circuit_Q.qpy\n",
      "Transpiled and saved: circuits/21/transpiled_circuit_A.qpy\n"
     ]
    },
    {
     "name": "stdout",
     "output_type": "stream",
     "text": [
      "Transpiled and saved: circuits/21/transpiled_circuit_Q.qpy\n"
     ]
    },
    {
     "name": "stdout",
     "output_type": "stream",
     "text": [
      "Transpiled and saved: circuits/210/transpiled_circuit_A.qpy\n"
     ]
    },
    {
     "name": "stdout",
     "output_type": "stream",
     "text": [
      "Transpiled and saved: circuits/210/transpiled_circuit_Q.qpy\n"
     ]
    },
    {
     "name": "stdout",
     "output_type": "stream",
     "text": [
      "Transpiled and saved: circuits/211/transpiled_circuit_A.qpy\n"
     ]
    },
    {
     "name": "stdout",
     "output_type": "stream",
     "text": [
      "Transpiled and saved: circuits/211/transpiled_circuit_Q.qpy\n",
      "Transpiled and saved: circuits/212/transpiled_circuit_A.qpy\n"
     ]
    },
    {
     "name": "stdout",
     "output_type": "stream",
     "text": [
      "Transpiled and saved: circuits/212/transpiled_circuit_Q.qpy\n",
      "Transpiled and saved: circuits/213/transpiled_circuit_A.qpy\n"
     ]
    },
    {
     "name": "stdout",
     "output_type": "stream",
     "text": [
      "Transpiled and saved: circuits/213/transpiled_circuit_Q.qpy\n"
     ]
    },
    {
     "name": "stdout",
     "output_type": "stream",
     "text": [
      "Transpiled and saved: circuits/214/transpiled_circuit_A.qpy\n"
     ]
    },
    {
     "name": "stdout",
     "output_type": "stream",
     "text": [
      "Transpiled and saved: circuits/214/transpiled_circuit_Q.qpy\n",
      "Transpiled and saved: circuits/215/transpiled_circuit_A.qpy\n"
     ]
    },
    {
     "name": "stdout",
     "output_type": "stream",
     "text": [
      "Transpiled and saved: circuits/215/transpiled_circuit_Q.qpy\n",
      "Transpiled and saved: circuits/216/transpiled_circuit_A.qpy\n"
     ]
    },
    {
     "name": "stdout",
     "output_type": "stream",
     "text": [
      "Transpiled and saved: circuits/216/transpiled_circuit_Q.qpy\n"
     ]
    },
    {
     "name": "stdout",
     "output_type": "stream",
     "text": [
      "Transpiled and saved: circuits/217/transpiled_circuit_A.qpy\n"
     ]
    },
    {
     "name": "stdout",
     "output_type": "stream",
     "text": [
      "Transpiled and saved: circuits/217/transpiled_circuit_Q.qpy\n",
      "Transpiled and saved: circuits/218/transpiled_circuit_A.qpy\n"
     ]
    },
    {
     "name": "stdout",
     "output_type": "stream",
     "text": [
      "Transpiled and saved: circuits/218/transpiled_circuit_Q.qpy\n",
      "Transpiled and saved: circuits/219/transpiled_circuit_A.qpy\n"
     ]
    },
    {
     "name": "stdout",
     "output_type": "stream",
     "text": [
      "Transpiled and saved: circuits/219/transpiled_circuit_Q.qpy\n",
      "Transpiled and saved: circuits/22/transpiled_circuit_A.qpy\n"
     ]
    },
    {
     "name": "stdout",
     "output_type": "stream",
     "text": [
      "Transpiled and saved: circuits/22/transpiled_circuit_Q.qpy\n",
      "Transpiled and saved: circuits/220/transpiled_circuit_A.qpy\n"
     ]
    },
    {
     "name": "stdout",
     "output_type": "stream",
     "text": [
      "Transpiled and saved: circuits/220/transpiled_circuit_Q.qpy\n",
      "Transpiled and saved: circuits/221/transpiled_circuit_A.qpy\n"
     ]
    },
    {
     "name": "stdout",
     "output_type": "stream",
     "text": [
      "Transpiled and saved: circuits/221/transpiled_circuit_Q.qpy\n"
     ]
    },
    {
     "name": "stdout",
     "output_type": "stream",
     "text": [
      "Transpiled and saved: circuits/222/transpiled_circuit_A.qpy\n"
     ]
    },
    {
     "name": "stdout",
     "output_type": "stream",
     "text": [
      "Transpiled and saved: circuits/222/transpiled_circuit_Q.qpy\n"
     ]
    },
    {
     "name": "stdout",
     "output_type": "stream",
     "text": [
      "Transpiled and saved: circuits/223/transpiled_circuit_A.qpy\n"
     ]
    },
    {
     "name": "stdout",
     "output_type": "stream",
     "text": [
      "Transpiled and saved: circuits/223/transpiled_circuit_Q.qpy\n",
      "Transpiled and saved: circuits/224/transpiled_circuit_A.qpy\n"
     ]
    },
    {
     "name": "stdout",
     "output_type": "stream",
     "text": [
      "Transpiled and saved: circuits/224/transpiled_circuit_Q.qpy\n",
      "Transpiled and saved: circuits/225/transpiled_circuit_A.qpy\n"
     ]
    },
    {
     "name": "stdout",
     "output_type": "stream",
     "text": [
      "Transpiled and saved: circuits/225/transpiled_circuit_Q.qpy\n",
      "Transpiled and saved: circuits/226/transpiled_circuit_A.qpy\n"
     ]
    },
    {
     "name": "stdout",
     "output_type": "stream",
     "text": [
      "Transpiled and saved: circuits/226/transpiled_circuit_Q.qpy\n",
      "Transpiled and saved: circuits/227/transpiled_circuit_A.qpy\n"
     ]
    },
    {
     "name": "stdout",
     "output_type": "stream",
     "text": [
      "Transpiled and saved: circuits/227/transpiled_circuit_Q.qpy\n",
      "Transpiled and saved: circuits/228/transpiled_circuit_A.qpy\n"
     ]
    },
    {
     "name": "stdout",
     "output_type": "stream",
     "text": [
      "Transpiled and saved: circuits/228/transpiled_circuit_Q.qpy\n"
     ]
    },
    {
     "name": "stdout",
     "output_type": "stream",
     "text": [
      "Transpiled and saved: circuits/229/transpiled_circuit_A.qpy\n"
     ]
    },
    {
     "name": "stdout",
     "output_type": "stream",
     "text": [
      "Transpiled and saved: circuits/229/transpiled_circuit_Q.qpy\n",
      "Transpiled and saved: circuits/23/transpiled_circuit_A.qpy\n"
     ]
    },
    {
     "name": "stdout",
     "output_type": "stream",
     "text": [
      "Transpiled and saved: circuits/23/transpiled_circuit_Q.qpy\n",
      "Transpiled and saved: circuits/230/transpiled_circuit_A.qpy\n"
     ]
    },
    {
     "name": "stdout",
     "output_type": "stream",
     "text": [
      "Transpiled and saved: circuits/230/transpiled_circuit_Q.qpy\n",
      "Transpiled and saved: circuits/24/transpiled_circuit_A.qpy\n"
     ]
    },
    {
     "name": "stdout",
     "output_type": "stream",
     "text": [
      "Transpiled and saved: circuits/24/transpiled_circuit_Q.qpy\n",
      "Transpiled and saved: circuits/25/transpiled_circuit_A.qpy\n"
     ]
    },
    {
     "name": "stdout",
     "output_type": "stream",
     "text": [
      "Transpiled and saved: circuits/25/transpiled_circuit_Q.qpy\n",
      "Transpiled and saved: circuits/26/transpiled_circuit_A.qpy\n"
     ]
    },
    {
     "name": "stdout",
     "output_type": "stream",
     "text": [
      "Transpiled and saved: circuits/26/transpiled_circuit_Q.qpy\n",
      "Transpiled and saved: circuits/27/transpiled_circuit_A.qpy\n"
     ]
    },
    {
     "name": "stdout",
     "output_type": "stream",
     "text": [
      "Transpiled and saved: circuits/27/transpiled_circuit_Q.qpy\n",
      "Transpiled and saved: circuits/28/transpiled_circuit_A.qpy\n"
     ]
    },
    {
     "name": "stdout",
     "output_type": "stream",
     "text": [
      "Transpiled and saved: circuits/28/transpiled_circuit_Q.qpy\n",
      "Transpiled and saved: circuits/29/transpiled_circuit_A.qpy\n"
     ]
    },
    {
     "name": "stdout",
     "output_type": "stream",
     "text": [
      "Transpiled and saved: circuits/29/transpiled_circuit_Q.qpy\n",
      "Transpiled and saved: circuits/3/transpiled_circuit_A.qpy\n"
     ]
    },
    {
     "name": "stdout",
     "output_type": "stream",
     "text": [
      "Transpiled and saved: circuits/3/transpiled_circuit_Q.qpy\n",
      "Transpiled and saved: circuits/30/transpiled_circuit_A.qpy\n"
     ]
    },
    {
     "name": "stdout",
     "output_type": "stream",
     "text": [
      "Transpiled and saved: circuits/30/transpiled_circuit_Q.qpy\n",
      "Transpiled and saved: circuits/31/transpiled_circuit_A.qpy\n"
     ]
    },
    {
     "name": "stdout",
     "output_type": "stream",
     "text": [
      "Transpiled and saved: circuits/31/transpiled_circuit_Q.qpy\n",
      "Transpiled and saved: circuits/32/transpiled_circuit_A.qpy\n"
     ]
    },
    {
     "name": "stdout",
     "output_type": "stream",
     "text": [
      "Transpiled and saved: circuits/32/transpiled_circuit_Q.qpy\n",
      "Transpiled and saved: circuits/33/transpiled_circuit_A.qpy\n"
     ]
    },
    {
     "name": "stdout",
     "output_type": "stream",
     "text": [
      "Transpiled and saved: circuits/33/transpiled_circuit_Q.qpy\n",
      "Transpiled and saved: circuits/34/transpiled_circuit_A.qpy\n"
     ]
    },
    {
     "name": "stdout",
     "output_type": "stream",
     "text": [
      "Transpiled and saved: circuits/34/transpiled_circuit_Q.qpy\n",
      "Transpiled and saved: circuits/35/transpiled_circuit_A.qpy\n"
     ]
    },
    {
     "name": "stdout",
     "output_type": "stream",
     "text": [
      "Transpiled and saved: circuits/35/transpiled_circuit_Q.qpy\n",
      "Transpiled and saved: circuits/36/transpiled_circuit_A.qpy\n"
     ]
    },
    {
     "name": "stdout",
     "output_type": "stream",
     "text": [
      "Transpiled and saved: circuits/36/transpiled_circuit_Q.qpy\n",
      "Transpiled and saved: circuits/37/transpiled_circuit_A.qpy\n"
     ]
    },
    {
     "name": "stdout",
     "output_type": "stream",
     "text": [
      "Transpiled and saved: circuits/37/transpiled_circuit_Q.qpy\n",
      "Transpiled and saved: circuits/38/transpiled_circuit_A.qpy\n"
     ]
    },
    {
     "name": "stdout",
     "output_type": "stream",
     "text": [
      "Transpiled and saved: circuits/38/transpiled_circuit_Q.qpy\n",
      "Transpiled and saved: circuits/39/transpiled_circuit_A.qpy\n"
     ]
    },
    {
     "name": "stdout",
     "output_type": "stream",
     "text": [
      "Transpiled and saved: circuits/39/transpiled_circuit_Q.qpy\n"
     ]
    },
    {
     "name": "stdout",
     "output_type": "stream",
     "text": [
      "Transpiled and saved: circuits/4/transpiled_circuit_A.qpy\n"
     ]
    },
    {
     "name": "stdout",
     "output_type": "stream",
     "text": [
      "Transpiled and saved: circuits/4/transpiled_circuit_Q.qpy\n",
      "Transpiled and saved: circuits/40/transpiled_circuit_A.qpy\n"
     ]
    },
    {
     "name": "stdout",
     "output_type": "stream",
     "text": [
      "Transpiled and saved: circuits/40/transpiled_circuit_Q.qpy\n",
      "Transpiled and saved: circuits/41/transpiled_circuit_A.qpy\n"
     ]
    },
    {
     "name": "stdout",
     "output_type": "stream",
     "text": [
      "Transpiled and saved: circuits/41/transpiled_circuit_Q.qpy\n",
      "Transpiled and saved: circuits/42/transpiled_circuit_A.qpy\n"
     ]
    },
    {
     "name": "stdout",
     "output_type": "stream",
     "text": [
      "Transpiled and saved: circuits/42/transpiled_circuit_Q.qpy\n",
      "Transpiled and saved: circuits/43/transpiled_circuit_A.qpy\n"
     ]
    },
    {
     "name": "stdout",
     "output_type": "stream",
     "text": [
      "Transpiled and saved: circuits/43/transpiled_circuit_Q.qpy\n",
      "Transpiled and saved: circuits/44/transpiled_circuit_A.qpy\n"
     ]
    },
    {
     "name": "stdout",
     "output_type": "stream",
     "text": [
      "Transpiled and saved: circuits/44/transpiled_circuit_Q.qpy\n",
      "Transpiled and saved: circuits/45/transpiled_circuit_A.qpy\n"
     ]
    },
    {
     "name": "stdout",
     "output_type": "stream",
     "text": [
      "Transpiled and saved: circuits/45/transpiled_circuit_Q.qpy\n",
      "Transpiled and saved: circuits/46/transpiled_circuit_A.qpy\n"
     ]
    },
    {
     "name": "stdout",
     "output_type": "stream",
     "text": [
      "Transpiled and saved: circuits/46/transpiled_circuit_Q.qpy\n",
      "Transpiled and saved: circuits/47/transpiled_circuit_A.qpy\n"
     ]
    },
    {
     "name": "stdout",
     "output_type": "stream",
     "text": [
      "Transpiled and saved: circuits/47/transpiled_circuit_Q.qpy\n",
      "Transpiled and saved: circuits/48/transpiled_circuit_A.qpy\n"
     ]
    },
    {
     "name": "stdout",
     "output_type": "stream",
     "text": [
      "Transpiled and saved: circuits/48/transpiled_circuit_Q.qpy\n",
      "Transpiled and saved: circuits/49/transpiled_circuit_A.qpy\n"
     ]
    },
    {
     "name": "stdout",
     "output_type": "stream",
     "text": [
      "Transpiled and saved: circuits/49/transpiled_circuit_Q.qpy\n",
      "Transpiled and saved: circuits/5/transpiled_circuit_A.qpy\n"
     ]
    },
    {
     "name": "stdout",
     "output_type": "stream",
     "text": [
      "Transpiled and saved: circuits/5/transpiled_circuit_Q.qpy\n",
      "Transpiled and saved: circuits/50/transpiled_circuit_A.qpy\n"
     ]
    },
    {
     "name": "stdout",
     "output_type": "stream",
     "text": [
      "Transpiled and saved: circuits/50/transpiled_circuit_Q.qpy\n"
     ]
    },
    {
     "name": "stdout",
     "output_type": "stream",
     "text": [
      "Transpiled and saved: circuits/51/transpiled_circuit_A.qpy\n"
     ]
    },
    {
     "name": "stdout",
     "output_type": "stream",
     "text": [
      "Transpiled and saved: circuits/51/transpiled_circuit_Q.qpy\n",
      "Transpiled and saved: circuits/52/transpiled_circuit_A.qpy\n"
     ]
    },
    {
     "name": "stdout",
     "output_type": "stream",
     "text": [
      "Transpiled and saved: circuits/52/transpiled_circuit_Q.qpy\n",
      "Transpiled and saved: circuits/53/transpiled_circuit_A.qpy\n"
     ]
    },
    {
     "name": "stdout",
     "output_type": "stream",
     "text": [
      "Transpiled and saved: circuits/53/transpiled_circuit_Q.qpy\n",
      "Transpiled and saved: circuits/54/transpiled_circuit_A.qpy\n"
     ]
    },
    {
     "name": "stdout",
     "output_type": "stream",
     "text": [
      "Transpiled and saved: circuits/54/transpiled_circuit_Q.qpy\n"
     ]
    },
    {
     "name": "stdout",
     "output_type": "stream",
     "text": [
      "Transpiled and saved: circuits/55/transpiled_circuit_A.qpy\n"
     ]
    },
    {
     "name": "stdout",
     "output_type": "stream",
     "text": [
      "Transpiled and saved: circuits/55/transpiled_circuit_Q.qpy\n",
      "Transpiled and saved: circuits/56/transpiled_circuit_A.qpy\n"
     ]
    },
    {
     "name": "stdout",
     "output_type": "stream",
     "text": [
      "Transpiled and saved: circuits/56/transpiled_circuit_Q.qpy\n"
     ]
    },
    {
     "name": "stdout",
     "output_type": "stream",
     "text": [
      "Transpiled and saved: circuits/57/transpiled_circuit_A.qpy\n"
     ]
    },
    {
     "name": "stdout",
     "output_type": "stream",
     "text": [
      "Transpiled and saved: circuits/57/transpiled_circuit_Q.qpy\n"
     ]
    },
    {
     "name": "stdout",
     "output_type": "stream",
     "text": [
      "Transpiled and saved: circuits/58/transpiled_circuit_A.qpy\n"
     ]
    },
    {
     "name": "stdout",
     "output_type": "stream",
     "text": [
      "Transpiled and saved: circuits/58/transpiled_circuit_Q.qpy\n",
      "Transpiled and saved: circuits/59/transpiled_circuit_A.qpy\n"
     ]
    },
    {
     "name": "stdout",
     "output_type": "stream",
     "text": [
      "Transpiled and saved: circuits/59/transpiled_circuit_Q.qpy\n",
      "Transpiled and saved: circuits/6/transpiled_circuit_A.qpy\n"
     ]
    },
    {
     "name": "stdout",
     "output_type": "stream",
     "text": [
      "Transpiled and saved: circuits/6/transpiled_circuit_Q.qpy\n",
      "Transpiled and saved: circuits/60/transpiled_circuit_A.qpy\n"
     ]
    },
    {
     "name": "stdout",
     "output_type": "stream",
     "text": [
      "Transpiled and saved: circuits/60/transpiled_circuit_Q.qpy\n",
      "Transpiled and saved: circuits/61/transpiled_circuit_A.qpy\n"
     ]
    },
    {
     "name": "stdout",
     "output_type": "stream",
     "text": [
      "Transpiled and saved: circuits/61/transpiled_circuit_Q.qpy\n",
      "Transpiled and saved: circuits/62/transpiled_circuit_A.qpy\n"
     ]
    },
    {
     "name": "stdout",
     "output_type": "stream",
     "text": [
      "Transpiled and saved: circuits/62/transpiled_circuit_Q.qpy\n",
      "Transpiled and saved: circuits/63/transpiled_circuit_A.qpy\n"
     ]
    },
    {
     "name": "stdout",
     "output_type": "stream",
     "text": [
      "Transpiled and saved: circuits/63/transpiled_circuit_Q.qpy\n",
      "Transpiled and saved: circuits/64/transpiled_circuit_A.qpy\n"
     ]
    },
    {
     "name": "stdout",
     "output_type": "stream",
     "text": [
      "Transpiled and saved: circuits/64/transpiled_circuit_Q.qpy\n",
      "Transpiled and saved: circuits/65/transpiled_circuit_A.qpy\n"
     ]
    },
    {
     "name": "stdout",
     "output_type": "stream",
     "text": [
      "Transpiled and saved: circuits/65/transpiled_circuit_Q.qpy\n",
      "Transpiled and saved: circuits/66/transpiled_circuit_A.qpy\n"
     ]
    },
    {
     "name": "stdout",
     "output_type": "stream",
     "text": [
      "Transpiled and saved: circuits/66/transpiled_circuit_Q.qpy\n",
      "Transpiled and saved: circuits/67/transpiled_circuit_A.qpy\n"
     ]
    },
    {
     "name": "stdout",
     "output_type": "stream",
     "text": [
      "Transpiled and saved: circuits/67/transpiled_circuit_Q.qpy\n",
      "Transpiled and saved: circuits/68/transpiled_circuit_A.qpy\n"
     ]
    },
    {
     "name": "stdout",
     "output_type": "stream",
     "text": [
      "Transpiled and saved: circuits/68/transpiled_circuit_Q.qpy\n"
     ]
    },
    {
     "name": "stdout",
     "output_type": "stream",
     "text": [
      "Transpiled and saved: circuits/69/transpiled_circuit_A.qpy\n"
     ]
    },
    {
     "name": "stdout",
     "output_type": "stream",
     "text": [
      "Transpiled and saved: circuits/69/transpiled_circuit_Q.qpy\n"
     ]
    },
    {
     "name": "stdout",
     "output_type": "stream",
     "text": [
      "Transpiled and saved: circuits/7/transpiled_circuit_A.qpy\n"
     ]
    },
    {
     "name": "stdout",
     "output_type": "stream",
     "text": [
      "Transpiled and saved: circuits/7/transpiled_circuit_Q.qpy\n",
      "Transpiled and saved: circuits/70/transpiled_circuit_A.qpy\n"
     ]
    },
    {
     "name": "stdout",
     "output_type": "stream",
     "text": [
      "Transpiled and saved: circuits/70/transpiled_circuit_Q.qpy\n",
      "Transpiled and saved: circuits/71/transpiled_circuit_A.qpy\n"
     ]
    },
    {
     "name": "stdout",
     "output_type": "stream",
     "text": [
      "Transpiled and saved: circuits/71/transpiled_circuit_Q.qpy\n",
      "Transpiled and saved: circuits/72/transpiled_circuit_A.qpy\n"
     ]
    },
    {
     "name": "stdout",
     "output_type": "stream",
     "text": [
      "Transpiled and saved: circuits/72/transpiled_circuit_Q.qpy\n",
      "Transpiled and saved: circuits/73/transpiled_circuit_A.qpy\n"
     ]
    },
    {
     "name": "stdout",
     "output_type": "stream",
     "text": [
      "Transpiled and saved: circuits/73/transpiled_circuit_Q.qpy\n",
      "Transpiled and saved: circuits/74/transpiled_circuit_A.qpy\n"
     ]
    },
    {
     "name": "stdout",
     "output_type": "stream",
     "text": [
      "Transpiled and saved: circuits/74/transpiled_circuit_Q.qpy\n"
     ]
    },
    {
     "name": "stdout",
     "output_type": "stream",
     "text": [
      "Transpiled and saved: circuits/75/transpiled_circuit_A.qpy\n"
     ]
    },
    {
     "name": "stdout",
     "output_type": "stream",
     "text": [
      "Transpiled and saved: circuits/75/transpiled_circuit_Q.qpy\n",
      "Transpiled and saved: circuits/76/transpiled_circuit_A.qpy\n"
     ]
    },
    {
     "name": "stdout",
     "output_type": "stream",
     "text": [
      "Transpiled and saved: circuits/76/transpiled_circuit_Q.qpy\n",
      "Transpiled and saved: circuits/77/transpiled_circuit_A.qpy\n"
     ]
    },
    {
     "name": "stdout",
     "output_type": "stream",
     "text": [
      "Transpiled and saved: circuits/77/transpiled_circuit_Q.qpy\n",
      "Transpiled and saved: circuits/78/transpiled_circuit_A.qpy\n"
     ]
    },
    {
     "name": "stdout",
     "output_type": "stream",
     "text": [
      "Transpiled and saved: circuits/78/transpiled_circuit_Q.qpy\n",
      "Transpiled and saved: circuits/79/transpiled_circuit_A.qpy\n"
     ]
    },
    {
     "name": "stdout",
     "output_type": "stream",
     "text": [
      "Transpiled and saved: circuits/79/transpiled_circuit_Q.qpy\n",
      "Transpiled and saved: circuits/8/transpiled_circuit_A.qpy\n"
     ]
    },
    {
     "name": "stdout",
     "output_type": "stream",
     "text": [
      "Transpiled and saved: circuits/8/transpiled_circuit_Q.qpy\n",
      "Transpiled and saved: circuits/80/transpiled_circuit_A.qpy\n"
     ]
    },
    {
     "name": "stdout",
     "output_type": "stream",
     "text": [
      "Transpiled and saved: circuits/80/transpiled_circuit_Q.qpy\n",
      "Transpiled and saved: circuits/81/transpiled_circuit_A.qpy\n"
     ]
    },
    {
     "name": "stdout",
     "output_type": "stream",
     "text": [
      "Transpiled and saved: circuits/81/transpiled_circuit_Q.qpy\n",
      "Transpiled and saved: circuits/82/transpiled_circuit_A.qpy\n"
     ]
    },
    {
     "name": "stdout",
     "output_type": "stream",
     "text": [
      "Transpiled and saved: circuits/82/transpiled_circuit_Q.qpy\n",
      "Transpiled and saved: circuits/83/transpiled_circuit_A.qpy\n"
     ]
    },
    {
     "name": "stdout",
     "output_type": "stream",
     "text": [
      "Transpiled and saved: circuits/83/transpiled_circuit_Q.qpy\n",
      "Transpiled and saved: circuits/84/transpiled_circuit_A.qpy\n"
     ]
    },
    {
     "name": "stdout",
     "output_type": "stream",
     "text": [
      "Transpiled and saved: circuits/84/transpiled_circuit_Q.qpy\n",
      "Transpiled and saved: circuits/85/transpiled_circuit_A.qpy\n"
     ]
    },
    {
     "name": "stdout",
     "output_type": "stream",
     "text": [
      "Transpiled and saved: circuits/85/transpiled_circuit_Q.qpy\n",
      "Transpiled and saved: circuits/86/transpiled_circuit_A.qpy\n"
     ]
    },
    {
     "name": "stdout",
     "output_type": "stream",
     "text": [
      "Transpiled and saved: circuits/86/transpiled_circuit_Q.qpy\n"
     ]
    },
    {
     "name": "stdout",
     "output_type": "stream",
     "text": [
      "Transpiled and saved: circuits/87/transpiled_circuit_A.qpy\n"
     ]
    },
    {
     "name": "stdout",
     "output_type": "stream",
     "text": [
      "Transpiled and saved: circuits/87/transpiled_circuit_Q.qpy\n",
      "Transpiled and saved: circuits/88/transpiled_circuit_A.qpy\n"
     ]
    },
    {
     "name": "stdout",
     "output_type": "stream",
     "text": [
      "Transpiled and saved: circuits/88/transpiled_circuit_Q.qpy\n",
      "Transpiled and saved: circuits/89/transpiled_circuit_A.qpy\n"
     ]
    },
    {
     "name": "stdout",
     "output_type": "stream",
     "text": [
      "Transpiled and saved: circuits/89/transpiled_circuit_Q.qpy\n",
      "Transpiled and saved: circuits/9/transpiled_circuit_A.qpy\n"
     ]
    },
    {
     "name": "stdout",
     "output_type": "stream",
     "text": [
      "Transpiled and saved: circuits/9/transpiled_circuit_Q.qpy\n",
      "Transpiled and saved: circuits/90/transpiled_circuit_A.qpy\n"
     ]
    },
    {
     "name": "stdout",
     "output_type": "stream",
     "text": [
      "Transpiled and saved: circuits/90/transpiled_circuit_Q.qpy\n",
      "Transpiled and saved: circuits/91/transpiled_circuit_A.qpy\n"
     ]
    },
    {
     "name": "stdout",
     "output_type": "stream",
     "text": [
      "Transpiled and saved: circuits/91/transpiled_circuit_Q.qpy\n",
      "Transpiled and saved: circuits/92/transpiled_circuit_A.qpy\n"
     ]
    },
    {
     "name": "stdout",
     "output_type": "stream",
     "text": [
      "Transpiled and saved: circuits/92/transpiled_circuit_Q.qpy\n"
     ]
    },
    {
     "name": "stdout",
     "output_type": "stream",
     "text": [
      "Transpiled and saved: circuits/93/transpiled_circuit_A.qpy\n"
     ]
    },
    {
     "name": "stdout",
     "output_type": "stream",
     "text": [
      "Transpiled and saved: circuits/93/transpiled_circuit_Q.qpy\n",
      "Transpiled and saved: circuits/94/transpiled_circuit_A.qpy\n"
     ]
    },
    {
     "name": "stdout",
     "output_type": "stream",
     "text": [
      "Transpiled and saved: circuits/94/transpiled_circuit_Q.qpy\n",
      "Transpiled and saved: circuits/95/transpiled_circuit_A.qpy\n"
     ]
    },
    {
     "name": "stdout",
     "output_type": "stream",
     "text": [
      "Transpiled and saved: circuits/95/transpiled_circuit_Q.qpy\n",
      "Transpiled and saved: circuits/96/transpiled_circuit_A.qpy\n"
     ]
    },
    {
     "name": "stdout",
     "output_type": "stream",
     "text": [
      "Transpiled and saved: circuits/96/transpiled_circuit_Q.qpy\n",
      "Transpiled and saved: circuits/97/transpiled_circuit_A.qpy\n"
     ]
    },
    {
     "name": "stdout",
     "output_type": "stream",
     "text": [
      "Transpiled and saved: circuits/97/transpiled_circuit_Q.qpy\n",
      "Transpiled and saved: circuits/98/transpiled_circuit_A.qpy\n"
     ]
    },
    {
     "name": "stdout",
     "output_type": "stream",
     "text": [
      "Transpiled and saved: circuits/98/transpiled_circuit_Q.qpy\n",
      "Transpiled and saved: circuits/99/transpiled_circuit_A.qpy\n"
     ]
    },
    {
     "name": "stdout",
     "output_type": "stream",
     "text": [
      "Transpiled and saved: circuits/99/transpiled_circuit_Q.qpy\n",
      "All circuits have been transpiled and saved.\n",
      "For the 1th Pauli string:\n",
      "  The depth of circuit A is 88\n",
      "  The depth of circuit Q is 177\n",
      "For the 2th Pauli string:\n",
      "  The depth of circuit A is 89\n",
      "  The depth of circuit Q is 180\n",
      "For the 3th Pauli string:\n",
      "  The depth of circuit A is 90\n",
      "  The depth of circuit Q is 182\n",
      "For the 4th Pauli string:\n",
      "  The depth of circuit A is 90\n",
      "  The depth of circuit Q is 183\n",
      "For the 5th Pauli string:\n",
      "  The depth of circuit A is 88\n",
      "  The depth of circuit Q is 177\n",
      "For the 6th Pauli string:\n",
      "  The depth of circuit A is 88\n",
      "  The depth of circuit Q is 177\n",
      "For the 7th Pauli string:\n",
      "  The depth of circuit A is 91\n",
      "  The depth of circuit Q is 183\n",
      "For the 8th Pauli string:\n",
      "  The depth of circuit A is 90\n",
      "  The depth of circuit Q is 182\n",
      "For the 9th Pauli string:\n",
      "  The depth of circuit A is 88\n",
      "  The depth of circuit Q is 177\n",
      "For the 10th Pauli string:\n",
      "  The depth of circuit A is 90\n",
      "  The depth of circuit Q is 181\n",
      "For the 11th Pauli string:\n",
      "  The depth of circuit A is 88\n",
      "  The depth of circuit Q is 177\n",
      "For the 12th Pauli string:\n",
      "  The depth of circuit A is 88\n",
      "  The depth of circuit Q is 177\n",
      "For the 13th Pauli string:\n",
      "  The depth of circuit A is 91\n",
      "  The depth of circuit Q is 183\n",
      "For the 14th Pauli string:\n",
      "  The depth of circuit A is 90\n",
      "  The depth of circuit Q is 181\n",
      "For the 15th Pauli string:\n",
      "  The depth of circuit A is 90\n",
      "  The depth of circuit Q is 183\n",
      "For the 16th Pauli string:\n",
      "  The depth of circuit A is 89\n",
      "  The depth of circuit Q is 181\n",
      "For the 17th Pauli string:\n",
      "  The depth of circuit A is 89\n",
      "  The depth of circuit Q is 179\n",
      "For the 18th Pauli string:\n",
      "  The depth of circuit A is 90\n",
      "  The depth of circuit Q is 183\n",
      "For the 19th Pauli string:\n",
      "  The depth of circuit A is 89\n",
      "  The depth of circuit Q is 182\n",
      "For the 20th Pauli string:\n",
      "  The depth of circuit A is 91\n",
      "  The depth of circuit Q is 185\n",
      "For the 21th Pauli string:\n",
      "  The depth of circuit A is 90\n",
      "  The depth of circuit Q is 184\n",
      "For the 22th Pauli string:\n",
      "  The depth of circuit A is 90\n",
      "  The depth of circuit Q is 182\n",
      "For the 23th Pauli string:\n",
      "  The depth of circuit A is 90\n",
      "  The depth of circuit Q is 183\n",
      "For the 24th Pauli string:\n",
      "  The depth of circuit A is 91\n",
      "  The depth of circuit Q is 184\n",
      "For the 25th Pauli string:\n",
      "  The depth of circuit A is 89\n",
      "  The depth of circuit Q is 181\n",
      "For the 26th Pauli string:\n",
      "  The depth of circuit A is 90\n",
      "  The depth of circuit Q is 183\n",
      "For the 27th Pauli string:\n",
      "  The depth of circuit A is 90\n",
      "  The depth of circuit Q is 182\n",
      "For the 28th Pauli string:\n",
      "  The depth of circuit A is 90\n",
      "  The depth of circuit Q is 184\n",
      "For the 29th Pauli string:\n",
      "  The depth of circuit A is 90\n",
      "  The depth of circuit Q is 183\n",
      "For the 30th Pauli string:\n",
      "  The depth of circuit A is 90\n",
      "  The depth of circuit Q is 182\n",
      "For the 31th Pauli string:\n",
      "  The depth of circuit A is 91\n",
      "  The depth of circuit Q is 184\n",
      "For the 32th Pauli string:\n",
      "  The depth of circuit A is 89\n",
      "  The depth of circuit Q is 182\n",
      "For the 33th Pauli string:\n",
      "  The depth of circuit A is 89\n",
      "  The depth of circuit Q is 181\n",
      "For the 34th Pauli string:\n",
      "  The depth of circuit A is 91\n",
      "  The depth of circuit Q is 185\n",
      "For the 35th Pauli string:\n",
      "  The depth of circuit A is 90\n",
      "  The depth of circuit Q is 183\n",
      "For the 36th Pauli string:\n",
      "  The depth of circuit A is 90\n",
      "  The depth of circuit Q is 183\n",
      "For the 37th Pauli string:\n",
      "  The depth of circuit A is 88\n",
      "  The depth of circuit Q is 179\n",
      "For the 38th Pauli string:\n",
      "  The depth of circuit A is 90\n",
      "  The depth of circuit Q is 182\n",
      "For the 39th Pauli string:\n",
      "  The depth of circuit A is 91\n",
      "  The depth of circuit Q is 185\n",
      "For the 40th Pauli string:\n",
      "  The depth of circuit A is 90\n",
      "  The depth of circuit Q is 183\n",
      "For the 41th Pauli string:\n",
      "  The depth of circuit A is 91\n",
      "  The depth of circuit Q is 184\n",
      "For the 42th Pauli string:\n",
      "  The depth of circuit A is 91\n",
      "  The depth of circuit Q is 185\n",
      "For the 43th Pauli string:\n",
      "  The depth of circuit A is 88\n",
      "  The depth of circuit Q is 178\n",
      "For the 44th Pauli string:\n",
      "  The depth of circuit A is 90\n",
      "  The depth of circuit Q is 183\n",
      "For the 45th Pauli string:\n",
      "  The depth of circuit A is 91\n",
      "  The depth of circuit Q is 184\n",
      "For the 46th Pauli string:\n",
      "  The depth of circuit A is 90\n",
      "  The depth of circuit Q is 184\n",
      "For the 47th Pauli string:\n",
      "  The depth of circuit A is 90\n",
      "  The depth of circuit Q is 182\n",
      "For the 48th Pauli string:\n",
      "  The depth of circuit A is 90\n",
      "  The depth of circuit Q is 183\n",
      "For the 49th Pauli string:\n",
      "  The depth of circuit A is 91\n",
      "  The depth of circuit Q is 185\n",
      "For the 50th Pauli string:\n",
      "  The depth of circuit A is 88\n",
      "  The depth of circuit Q is 179\n",
      "For the 51th Pauli string:\n",
      "  The depth of circuit A is 88\n",
      "  The depth of circuit Q is 178\n",
      "For the 52th Pauli string:\n",
      "  The depth of circuit A is 91\n",
      "  The depth of circuit Q is 185\n",
      "For the 53th Pauli string:\n",
      "  The depth of circuit A is 90\n",
      "  The depth of circuit Q is 183\n",
      "For the 54th Pauli string:\n",
      "  The depth of circuit A is 91\n",
      "  The depth of circuit Q is 184\n",
      "For the 55th Pauli string:\n",
      "  The depth of circuit A is 90\n",
      "  The depth of circuit Q is 182\n",
      "For the 56th Pauli string:\n",
      "  The depth of circuit A is 88\n",
      "  The depth of circuit Q is 177\n",
      "For the 57th Pauli string:\n",
      "  The depth of circuit A is 90\n",
      "  The depth of circuit Q is 181\n",
      "For the 58th Pauli string:\n",
      "  The depth of circuit A is 90\n",
      "  The depth of circuit Q is 183\n",
      "For the 59th Pauli string:\n",
      "  The depth of circuit A is 90\n",
      "  The depth of circuit Q is 184\n",
      "For the 60th Pauli string:\n",
      "  The depth of circuit A is 91\n",
      "  The depth of circuit Q is 184\n",
      "For the 61th Pauli string:\n",
      "  The depth of circuit A is 90\n",
      "  The depth of circuit Q is 182\n",
      "For the 62th Pauli string:\n",
      "  The depth of circuit A is 90\n",
      "  The depth of circuit Q is 183\n",
      "For the 63th Pauli string:\n",
      "  The depth of circuit A is 90\n",
      "  The depth of circuit Q is 184\n",
      "For the 64th Pauli string:\n",
      "  The depth of circuit A is 89\n",
      "  The depth of circuit Q is 180\n",
      "For the 65th Pauli string:\n",
      "  The depth of circuit A is 88\n",
      "  The depth of circuit Q is 177\n",
      "For the 66th Pauli string:\n",
      "  The depth of circuit A is 90\n",
      "  The depth of circuit Q is 184\n",
      "For the 67th Pauli string:\n",
      "  The depth of circuit A is 89\n",
      "  The depth of circuit Q is 181\n",
      "For the 68th Pauli string:\n",
      "  The depth of circuit A is 90\n",
      "  The depth of circuit Q is 183\n",
      "For the 69th Pauli string:\n",
      "  The depth of circuit A is 89\n",
      "  The depth of circuit Q is 180\n",
      "For the 70th Pauli string:\n",
      "  The depth of circuit A is 91\n",
      "  The depth of circuit Q is 185\n",
      "For the 71th Pauli string:\n",
      "  The depth of circuit A is 91\n",
      "  The depth of circuit Q is 185\n",
      "For the 72th Pauli string:\n",
      "  The depth of circuit A is 88\n",
      "  The depth of circuit Q is 177\n",
      "For the 73th Pauli string:\n",
      "  The depth of circuit A is 90\n",
      "  The depth of circuit Q is 184\n",
      "For the 74th Pauli string:\n",
      "  The depth of circuit A is 91\n",
      "  The depth of circuit Q is 185\n",
      "For the 75th Pauli string:\n",
      "  The depth of circuit A is 90\n",
      "  The depth of circuit Q is 183\n",
      "For the 76th Pauli string:\n",
      "  The depth of circuit A is 88\n",
      "  The depth of circuit Q is 177\n",
      "For the 77th Pauli string:\n",
      "  The depth of circuit A is 90\n",
      "  The depth of circuit Q is 183\n",
      "For the 78th Pauli string:\n",
      "  The depth of circuit A is 89\n",
      "  The depth of circuit Q is 179\n",
      "For the 79th Pauli string:\n",
      "  The depth of circuit A is 90\n",
      "  The depth of circuit Q is 183\n",
      "For the 80th Pauli string:\n",
      "  The depth of circuit A is 91\n",
      "  The depth of circuit Q is 187\n",
      "For the 81th Pauli string:\n",
      "  The depth of circuit A is 90\n",
      "  The depth of circuit Q is 185\n",
      "For the 82th Pauli string:\n",
      "  The depth of circuit A is 91\n",
      "  The depth of circuit Q is 186\n",
      "For the 83th Pauli string:\n",
      "  The depth of circuit A is 90\n",
      "  The depth of circuit Q is 184\n",
      "For the 84th Pauli string:\n",
      "  The depth of circuit A is 91\n",
      "  The depth of circuit Q is 187\n",
      "For the 85th Pauli string:\n",
      "  The depth of circuit A is 91\n",
      "  The depth of circuit Q is 187\n",
      "For the 86th Pauli string:\n",
      "  The depth of circuit A is 91\n",
      "  The depth of circuit Q is 186\n",
      "For the 87th Pauli string:\n",
      "  The depth of circuit A is 91\n",
      "  The depth of circuit Q is 186\n",
      "For the 88th Pauli string:\n",
      "  The depth of circuit A is 91\n",
      "  The depth of circuit Q is 187\n",
      "For the 89th Pauli string:\n",
      "  The depth of circuit A is 90\n",
      "  The depth of circuit Q is 185\n",
      "For the 90th Pauli string:\n",
      "  The depth of circuit A is 91\n",
      "  The depth of circuit Q is 187\n",
      "For the 91th Pauli string:\n",
      "  The depth of circuit A is 90\n",
      "  The depth of circuit Q is 185\n",
      "For the 92th Pauli string:\n",
      "  The depth of circuit A is 91\n",
      "  The depth of circuit Q is 187\n",
      "For the 93th Pauli string:\n",
      "  The depth of circuit A is 91\n",
      "  The depth of circuit Q is 187\n",
      "For the 94th Pauli string:\n",
      "  The depth of circuit A is 91\n",
      "  The depth of circuit Q is 187\n",
      "For the 95th Pauli string:\n",
      "  The depth of circuit A is 91\n",
      "  The depth of circuit Q is 187\n",
      "For the 96th Pauli string:\n",
      "  The depth of circuit A is 91\n",
      "  The depth of circuit Q is 185\n",
      "For the 97th Pauli string:\n",
      "  The depth of circuit A is 90\n",
      "  The depth of circuit Q is 183\n",
      "For the 98th Pauli string:\n",
      "  The depth of circuit A is 91\n",
      "  The depth of circuit Q is 185\n",
      "For the 99th Pauli string:\n",
      "  The depth of circuit A is 91\n",
      "  The depth of circuit Q is 184\n",
      "For the 100th Pauli string:\n",
      "  The depth of circuit A is 88\n",
      "  The depth of circuit Q is 177\n",
      "For the 101th Pauli string:\n",
      "  The depth of circuit A is 90\n",
      "  The depth of circuit Q is 184\n",
      "For the 102th Pauli string:\n",
      "  The depth of circuit A is 91\n",
      "  The depth of circuit Q is 185\n",
      "For the 103th Pauli string:\n",
      "  The depth of circuit A is 91\n",
      "  The depth of circuit Q is 185\n",
      "For the 104th Pauli string:\n",
      "  The depth of circuit A is 89\n",
      "  The depth of circuit Q is 182\n",
      "For the 105th Pauli string:\n",
      "  The depth of circuit A is 90\n",
      "  The depth of circuit Q is 184\n",
      "For the 106th Pauli string:\n",
      "  The depth of circuit A is 90\n",
      "  The depth of circuit Q is 184\n",
      "For the 107th Pauli string:\n",
      "  The depth of circuit A is 89\n",
      "  The depth of circuit Q is 182\n",
      "For the 108th Pauli string:\n",
      "  The depth of circuit A is 91\n",
      "  The depth of circuit Q is 185\n",
      "For the 109th Pauli string:\n",
      "  The depth of circuit A is 91\n",
      "  The depth of circuit Q is 185\n",
      "For the 110th Pauli string:\n",
      "  The depth of circuit A is 91\n",
      "  The depth of circuit Q is 185\n",
      "For the 111th Pauli string:\n",
      "  The depth of circuit A is 91\n",
      "  The depth of circuit Q is 185\n",
      "For the 112th Pauli string:\n",
      "  The depth of circuit A is 89\n",
      "  The depth of circuit Q is 182\n",
      "For the 113th Pauli string:\n",
      "  The depth of circuit A is 90\n",
      "  The depth of circuit Q is 183\n",
      "For the 114th Pauli string:\n",
      "  The depth of circuit A is 90\n",
      "  The depth of circuit Q is 184\n",
      "For the 115th Pauli string:\n",
      "  The depth of circuit A is 89\n",
      "  The depth of circuit Q is 181\n",
      "For the 116th Pauli string:\n",
      "  The depth of circuit A is 91\n",
      "  The depth of circuit Q is 185\n",
      "For the 117th Pauli string:\n",
      "  The depth of circuit A is 90\n",
      "  The depth of circuit Q is 183\n",
      "For the 118th Pauli string:\n",
      "  The depth of circuit A is 91\n",
      "  The depth of circuit Q is 185\n",
      "For the 119th Pauli string:\n",
      "  The depth of circuit A is 90\n",
      "  The depth of circuit Q is 183\n",
      "For the 120th Pauli string:\n",
      "  The depth of circuit A is 90\n",
      "  The depth of circuit Q is 183\n",
      "For the 121th Pauli string:\n",
      "  The depth of circuit A is 90\n",
      "  The depth of circuit Q is 182\n",
      "For the 122th Pauli string:\n",
      "  The depth of circuit A is 91\n",
      "  The depth of circuit Q is 184\n",
      "For the 123th Pauli string:\n",
      "  The depth of circuit A is 90\n",
      "  The depth of circuit Q is 182\n",
      "For the 124th Pauli string:\n",
      "  The depth of circuit A is 91\n",
      "  The depth of circuit Q is 185\n",
      "For the 125th Pauli string:\n",
      "  The depth of circuit A is 90\n",
      "  The depth of circuit Q is 183\n",
      "For the 126th Pauli string:\n",
      "  The depth of circuit A is 90\n",
      "  The depth of circuit Q is 183\n",
      "For the 127th Pauli string:\n",
      "  The depth of circuit A is 91\n",
      "  The depth of circuit Q is 185\n",
      "For the 128th Pauli string:\n",
      "  The depth of circuit A is 91\n",
      "  The depth of circuit Q is 187\n",
      "For the 129th Pauli string:\n",
      "  The depth of circuit A is 90\n",
      "  The depth of circuit Q is 185\n",
      "For the 130th Pauli string:\n",
      "  The depth of circuit A is 91\n",
      "  The depth of circuit Q is 186\n",
      "For the 131th Pauli string:\n",
      "  The depth of circuit A is 90\n",
      "  The depth of circuit Q is 184\n",
      "For the 132th Pauli string:\n",
      "  The depth of circuit A is 91\n",
      "  The depth of circuit Q is 186\n",
      "For the 133th Pauli string:\n",
      "  The depth of circuit A is 90\n",
      "  The depth of circuit Q is 185\n",
      "For the 134th Pauli string:\n",
      "  The depth of circuit A is 91\n",
      "  The depth of circuit Q is 186\n",
      "For the 135th Pauli string:\n",
      "  The depth of circuit A is 90\n",
      "  The depth of circuit Q is 183\n",
      "For the 136th Pauli string:\n",
      "  The depth of circuit A is 91\n",
      "  The depth of circuit Q is 185\n",
      "For the 137th Pauli string:\n",
      "  The depth of circuit A is 90\n",
      "  The depth of circuit Q is 184\n",
      "For the 138th Pauli string:\n",
      "  The depth of circuit A is 91\n",
      "  The depth of circuit Q is 185\n",
      "For the 139th Pauli string:\n",
      "  The depth of circuit A is 90\n",
      "  The depth of circuit Q is 182\n",
      "For the 140th Pauli string:\n",
      "  The depth of circuit A is 91\n",
      "  The depth of circuit Q is 186\n",
      "For the 141th Pauli string:\n",
      "  The depth of circuit A is 91\n",
      "  The depth of circuit Q is 187\n",
      "For the 142th Pauli string:\n",
      "  The depth of circuit A is 91\n",
      "  The depth of circuit Q is 186\n",
      "For the 143th Pauli string:\n",
      "  The depth of circuit A is 91\n",
      "  The depth of circuit Q is 185\n",
      "For the 144th Pauli string:\n",
      "  The depth of circuit A is 91\n",
      "  The depth of circuit Q is 186\n",
      "For the 145th Pauli string:\n",
      "  The depth of circuit A is 90\n",
      "  The depth of circuit Q is 185\n",
      "For the 146th Pauli string:\n",
      "  The depth of circuit A is 91\n",
      "  The depth of circuit Q is 187\n",
      "For the 147th Pauli string:\n",
      "  The depth of circuit A is 90\n",
      "  The depth of circuit Q is 184\n",
      "For the 148th Pauli string:\n",
      "  The depth of circuit A is 91\n",
      "  The depth of circuit Q is 185\n",
      "For the 149th Pauli string:\n",
      "  The depth of circuit A is 91\n",
      "  The depth of circuit Q is 186\n",
      "For the 150th Pauli string:\n",
      "  The depth of circuit A is 91\n",
      "  The depth of circuit Q is 185\n",
      "For the 151th Pauli string:\n",
      "  The depth of circuit A is 91\n",
      "  The depth of circuit Q is 184\n",
      "For the 152th Pauli string:\n",
      "  The depth of circuit A is 91\n",
      "  The depth of circuit Q is 185\n",
      "For the 153th Pauli string:\n",
      "  The depth of circuit A is 90\n",
      "  The depth of circuit Q is 184\n",
      "For the 154th Pauli string:\n",
      "  The depth of circuit A is 91\n",
      "  The depth of circuit Q is 186\n",
      "For the 155th Pauli string:\n",
      "  The depth of circuit A is 90\n",
      "  The depth of circuit Q is 183\n",
      "For the 156th Pauli string:\n",
      "  The depth of circuit A is 91\n",
      "  The depth of circuit Q is 186\n",
      "For the 157th Pauli string:\n",
      "  The depth of circuit A is 91\n",
      "  The depth of circuit Q is 187\n",
      "For the 158th Pauli string:\n",
      "  The depth of circuit A is 91\n",
      "  The depth of circuit Q is 187\n",
      "For the 159th Pauli string:\n",
      "  The depth of circuit A is 91\n",
      "  The depth of circuit Q is 186\n",
      "For the 160th Pauli string:\n",
      "  The depth of circuit A is 91\n",
      "  The depth of circuit Q is 185\n",
      "For the 161th Pauli string:\n",
      "  The depth of circuit A is 91\n",
      "  The depth of circuit Q is 186\n",
      "For the 162th Pauli string:\n",
      "  The depth of circuit A is 91\n",
      "  The depth of circuit Q is 186\n",
      "For the 163th Pauli string:\n",
      "  The depth of circuit A is 91\n",
      "  The depth of circuit Q is 185\n",
      "For the 164th Pauli string:\n",
      "  The depth of circuit A is 91\n",
      "  The depth of circuit Q is 186\n",
      "For the 165th Pauli string:\n",
      "  The depth of circuit A is 91\n",
      "  The depth of circuit Q is 186\n",
      "For the 166th Pauli string:\n",
      "  The depth of circuit A is 88\n",
      "  The depth of circuit Q is 179\n",
      "For the 167th Pauli string:\n",
      "  The depth of circuit A is 90\n",
      "  The depth of circuit Q is 183\n",
      "For the 168th Pauli string:\n",
      "  The depth of circuit A is 90\n",
      "  The depth of circuit Q is 183\n",
      "For the 169th Pauli string:\n",
      "  The depth of circuit A is 91\n",
      "  The depth of circuit Q is 186\n",
      "For the 170th Pauli string:\n",
      "  The depth of circuit A is 91\n",
      "  The depth of circuit Q is 186\n",
      "For the 171th Pauli string:\n",
      "  The depth of circuit A is 91\n",
      "  The depth of circuit Q is 186\n",
      "For the 172th Pauli string:\n",
      "  The depth of circuit A is 91\n",
      "  The depth of circuit Q is 186\n",
      "For the 173th Pauli string:\n",
      "  The depth of circuit A is 90\n",
      "  The depth of circuit Q is 184\n",
      "For the 174th Pauli string:\n",
      "  The depth of circuit A is 88\n",
      "  The depth of circuit Q is 179\n",
      "For the 175th Pauli string:\n",
      "  The depth of circuit A is 90\n",
      "  The depth of circuit Q is 182\n",
      "For the 176th Pauli string:\n",
      "  The depth of circuit A is 90\n",
      "  The depth of circuit Q is 183\n",
      "For the 177th Pauli string:\n",
      "  The depth of circuit A is 91\n",
      "  The depth of circuit Q is 185\n",
      "For the 178th Pauli string:\n",
      "  The depth of circuit A is 91\n",
      "  The depth of circuit Q is 186\n",
      "For the 179th Pauli string:\n",
      "  The depth of circuit A is 90\n",
      "  The depth of circuit Q is 184\n",
      "For the 180th Pauli string:\n",
      "  The depth of circuit A is 91\n",
      "  The depth of circuit Q is 185\n",
      "For the 181th Pauli string:\n",
      "  The depth of circuit A is 90\n",
      "  The depth of circuit Q is 184\n",
      "For the 182th Pauli string:\n",
      "  The depth of circuit A is 91\n",
      "  The depth of circuit Q is 187\n",
      "For the 183th Pauli string:\n",
      "  The depth of circuit A is 91\n",
      "  The depth of circuit Q is 187\n",
      "For the 184th Pauli string:\n",
      "  The depth of circuit A is 88\n",
      "  The depth of circuit Q is 177\n",
      "For the 185th Pauli string:\n",
      "  The depth of circuit A is 90\n",
      "  The depth of circuit Q is 184\n",
      "For the 186th Pauli string:\n",
      "  The depth of circuit A is 90\n",
      "  The depth of circuit Q is 183\n",
      "For the 187th Pauli string:\n",
      "  The depth of circuit A is 91\n",
      "  The depth of circuit Q is 185\n",
      "For the 188th Pauli string:\n",
      "  The depth of circuit A is 91\n",
      "  The depth of circuit Q is 186\n",
      "For the 189th Pauli string:\n",
      "  The depth of circuit A is 91\n",
      "  The depth of circuit Q is 185\n",
      "For the 190th Pauli string:\n",
      "  The depth of circuit A is 91\n",
      "  The depth of circuit Q is 185\n",
      "For the 191th Pauli string:\n",
      "  The depth of circuit A is 91\n",
      "  The depth of circuit Q is 184\n",
      "For the 192th Pauli string:\n",
      "  The depth of circuit A is 91\n",
      "  The depth of circuit Q is 185\n",
      "For the 193th Pauli string:\n",
      "  The depth of circuit A is 91\n",
      "  The depth of circuit Q is 184\n",
      "For the 194th Pauli string:\n",
      "  The depth of circuit A is 91\n",
      "  The depth of circuit Q is 184\n",
      "For the 195th Pauli string:\n",
      "  The depth of circuit A is 91\n",
      "  The depth of circuit Q is 185\n",
      "For the 196th Pauli string:\n",
      "  The depth of circuit A is 90\n",
      "  The depth of circuit Q is 185\n",
      "For the 197th Pauli string:\n",
      "  The depth of circuit A is 90\n",
      "  The depth of circuit Q is 184\n",
      "For the 198th Pauli string:\n",
      "  The depth of circuit A is 90\n",
      "  The depth of circuit Q is 184\n",
      "For the 199th Pauli string:\n",
      "  The depth of circuit A is 90\n",
      "  The depth of circuit Q is 185\n",
      "For the 200th Pauli string:\n",
      "  The depth of circuit A is 89\n",
      "  The depth of circuit Q is 182\n",
      "For the 201th Pauli string:\n",
      "  The depth of circuit A is 90\n",
      "  The depth of circuit Q is 185\n",
      "For the 202th Pauli string:\n",
      "  The depth of circuit A is 90\n",
      "  The depth of circuit Q is 185\n",
      "For the 203th Pauli string:\n",
      "  The depth of circuit A is 89\n",
      "  The depth of circuit Q is 182\n",
      "For the 204th Pauli string:\n",
      "  The depth of circuit A is 91\n",
      "  The depth of circuit Q is 186\n",
      "For the 205th Pauli string:\n",
      "  The depth of circuit A is 90\n",
      "  The depth of circuit Q is 183\n",
      "For the 206th Pauli string:\n",
      "  The depth of circuit A is 91\n",
      "  The depth of circuit Q is 185\n",
      "For the 207th Pauli string:\n",
      "  The depth of circuit A is 90\n",
      "  The depth of circuit Q is 182\n",
      "For the 208th Pauli string:\n",
      "  The depth of circuit A is 91\n",
      "  The depth of circuit Q is 185\n",
      "For the 209th Pauli string:\n",
      "  The depth of circuit A is 90\n",
      "  The depth of circuit Q is 182\n",
      "For the 210th Pauli string:\n",
      "  The depth of circuit A is 91\n",
      "  The depth of circuit Q is 184\n",
      "For the 211th Pauli string:\n",
      "  The depth of circuit A is 90\n",
      "  The depth of circuit Q is 183\n",
      "For the 212th Pauli string:\n",
      "  The depth of circuit A is 90\n",
      "  The depth of circuit Q is 185\n",
      "For the 213th Pauli string:\n",
      "  The depth of circuit A is 90\n",
      "  The depth of circuit Q is 184\n",
      "For the 214th Pauli string:\n",
      "  The depth of circuit A is 90\n",
      "  The depth of circuit Q is 183\n",
      "For the 215th Pauli string:\n",
      "  The depth of circuit A is 90\n",
      "  The depth of circuit Q is 184\n",
      "For the 216th Pauli string:\n",
      "  The depth of circuit A is 89\n",
      "  The depth of circuit Q is 182\n",
      "For the 217th Pauli string:\n",
      "  The depth of circuit A is 90\n",
      "  The depth of circuit Q is 185\n",
      "For the 218th Pauli string:\n",
      "  The depth of circuit A is 90\n",
      "  The depth of circuit Q is 184\n",
      "For the 219th Pauli string:\n",
      "  The depth of circuit A is 89\n",
      "  The depth of circuit Q is 181\n",
      "For the 220th Pauli string:\n",
      "  The depth of circuit A is 91\n",
      "  The depth of circuit Q is 185\n",
      "For the 221th Pauli string:\n",
      "  The depth of circuit A is 90\n",
      "  The depth of circuit Q is 183\n",
      "For the 222th Pauli string:\n",
      "  The depth of circuit A is 90\n",
      "  The depth of circuit Q is 184\n",
      "For the 223th Pauli string:\n",
      "  The depth of circuit A is 91\n",
      "  The depth of circuit Q is 186\n",
      "For the 224th Pauli string:\n",
      "  The depth of circuit A is 91\n",
      "  The depth of circuit Q is 187\n",
      "For the 225th Pauli string:\n",
      "  The depth of circuit A is 91\n",
      "  The depth of circuit Q is 187\n",
      "For the 226th Pauli string:\n",
      "  The depth of circuit A is 91\n",
      "  The depth of circuit Q is 186\n",
      "For the 227th Pauli string:\n",
      "  The depth of circuit A is 91\n",
      "  The depth of circuit Q is 186\n",
      "For the 228th Pauli string:\n",
      "  The depth of circuit A is 91\n",
      "  The depth of circuit Q is 185\n",
      "For the 229th Pauli string:\n",
      "  The depth of circuit A is 90\n",
      "  The depth of circuit Q is 183\n",
      "For the 230th Pauli string:\n",
      "  The depth of circuit A is 91\n",
      "  The depth of circuit Q is 187\n",
      "For the 231th Pauli string:\n",
      "  The depth of circuit A is 90\n",
      "  The depth of circuit Q is 185\n"
     ]
    }
   ],
   "source": [
    "# Create an instance of the AerSimulator\n",
    "aer_sim = AerSimulator()\n",
    "\n",
    "# Dictionary to store depths of transpiled circuits\n",
    "transpiled_depths = {}\n",
    "\n",
    "# Walk through the numbered folders in circuits\n",
    "for folder in os.listdir('circuits'):\n",
    "    folder_path = os.path.join('circuits', folder)\n",
    "    if os.path.isdir(folder_path):\n",
    "        # Process circuit_A.qpy and circuit_Q.qpy\n",
    "        for circuit_file in ['circuit_A.qpy', 'circuit_Q.qpy']:\n",
    "            input_path = os.path.join(folder_path, circuit_file)\n",
    "            if os.path.exists(input_path):\n",
    "                # Load the circuit\n",
    "                with open(input_path, 'rb') as f:\n",
    "                    circuit = qpy_load(f)[0]\n",
    "                \n",
    "                # Transpile the circuit\n",
    "                transpiled_circuit = transpile(circuit, backend=aer_sim, optimization_level=3)\n",
    "                \n",
    "                # Save the transpiled circuit\n",
    "                transpiled_output_path = os.path.join(folder_path, f'transpiled_{circuit_file}')\n",
    "                \n",
    "                with open(transpiled_output_path, 'wb') as f:\n",
    "                    qpy_dump(transpiled_circuit, f)\n",
    "                \n",
    "                print(f\"Transpiled and saved: {transpiled_output_path}\")\n",
    "                \n",
    "                # Store the depth of the transpiled circuit\n",
    "                circuit_key = f\"{folder}_{circuit_file.split('.')[0]}\"\n",
    "                transpiled_depths[circuit_key] = transpiled_circuit.depth()\n",
    "    \n",
    "print(\"All circuits have been transpiled and saved.\")\n",
    "\n",
    "# Print depths for both circuit A and Q\n",
    "for folder in sorted([d for d in os.listdir('circuits') if os.path.isdir(os.path.join('circuits', d))], key=int):\n",
    "    circuit_A_key = f\"{folder}_circuit_A\"\n",
    "    circuit_Q_key = f\"{folder}_circuit_Q\"\n",
    "    if circuit_A_key in transpiled_depths and circuit_Q_key in transpiled_depths:\n",
    "        print(f\"For the {int(folder) + 1}th Pauli string:\")\n",
    "        print(f\"  The depth of circuit A is {transpiled_depths[circuit_A_key]}\")\n",
    "        print(f\"  The depth of circuit Q is {transpiled_depths[circuit_Q_key]}\")\n",
    "\n"
   ]
  },
  {
   "cell_type": "markdown",
   "id": "9ed2d98b",
   "metadata": {
    "papermill": {
     "duration": 0.030689,
     "end_time": "2025-01-25T06:01:17.354556",
     "exception": false,
     "start_time": "2025-01-25T06:01:17.323867",
     "status": "completed"
    },
    "tags": []
   },
   "source": [
    "### 3 Plot all circuits"
   ]
  },
  {
   "cell_type": "code",
   "execution_count": 5,
   "id": "b9fe90e5",
   "metadata": {
    "execution": {
     "iopub.execute_input": "2025-01-25T06:01:17.404355Z",
     "iopub.status.busy": "2025-01-25T06:01:17.403894Z",
     "iopub.status.idle": "2025-01-25T06:01:17.408875Z",
     "shell.execute_reply": "2025-01-25T06:01:17.407981Z"
    },
    "papermill": {
     "duration": 0.032086,
     "end_time": "2025-01-25T06:01:17.410238",
     "exception": false,
     "start_time": "2025-01-25T06:01:17.378152",
     "status": "completed"
    },
    "tags": []
   },
   "outputs": [],
   "source": [
    "# # Walk through the numbered folders in circuits\n",
    "# for folder in os.listdir('circuits'):\n",
    "#     folder_path = os.path.join('circuits', folder)\n",
    "#     if os.path.isdir(folder_path):\n",
    "#         # Process all circuit files in the folder\n",
    "#         for circuit_file in os.listdir(folder_path):\n",
    "#             if circuit_file.endswith('.qpy'):\n",
    "#                 input_path = os.path.join(folder_path, circuit_file)\n",
    "                \n",
    "#                 # Load the circuit\n",
    "#                 with open(input_path, 'rb') as f:\n",
    "#                     circuit = qpy_load(f)[0]\n",
    "                \n",
    "#                 # Draw the circuit\n",
    "#                 circuit_img = circuit.draw(output='mpl', style={\n",
    "#                     'dpi': 150,\n",
    "#                     'font_size': 20,\n",
    "#                     'backgroundcolor': '#EEEEEE'\n",
    "#                 })\n",
    "#                 circuit_img.figure.set_size_inches(30, 15)\n",
    "                \n",
    "#                 # Save the plot\n",
    "#                 output_filename = f\"{os.path.splitext(circuit_file)[0]}.png\"\n",
    "#                 output_path = os.path.join(folder_path, output_filename)\n",
    "#                 circuit_img.figure.savefig(output_path, dpi=300, bbox_inches='tight')\n",
    "#                 plt.close(circuit_img.figure)\n",
    "                \n",
    "#                 print(f\"Saved circuit plot: {output_path}\")\n",
    "\n",
    "# print(\"All circuit plots have been generated and saved.\")"
   ]
  },
  {
   "cell_type": "code",
   "execution_count": null,
   "id": "8a7e555c",
   "metadata": {
    "papermill": {
     "duration": 0.028116,
     "end_time": "2025-01-25T06:01:17.462587",
     "exception": false,
     "start_time": "2025-01-25T06:01:17.434471",
     "status": "completed"
    },
    "tags": []
   },
   "outputs": [],
   "source": []
  }
 ],
 "metadata": {
  "kernelspec": {
   "display_name": "Python 3 (ipykernel)",
   "language": "python",
   "name": "python3"
  },
  "language_info": {
   "codemirror_mode": {
    "name": "ipython",
    "version": 3
   },
   "file_extension": ".py",
   "mimetype": "text/x-python",
   "name": "python",
   "nbconvert_exporter": "python",
   "pygments_lexer": "ipython3",
   "version": "3.10.15"
  },
  "papermill": {
   "default_parameters": {},
   "duration": 137.582728,
   "end_time": "2025-01-25T06:01:18.214095",
   "environment_variables": {},
   "exception": null,
   "input_path": "all_str_A_Q.ipynb",
   "output_path": "/usr/src/app/SoleyGroup/lab_data/Notebooks/Statistics/Corrected_plots/corrected_HF/BondLengths/processing_BL_2p04000/all_str_A_Q/all_str_A_Q_out.ipynb",
   "parameters": {},
   "start_time": "2025-01-25T05:59:00.631367",
   "version": "2.6.0"
  }
 },
 "nbformat": 4,
 "nbformat_minor": 5
}