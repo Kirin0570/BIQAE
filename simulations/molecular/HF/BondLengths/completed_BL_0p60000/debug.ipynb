{
 "cells": [
  {
   "cell_type": "code",
   "execution_count": 4,
   "id": "d3fa12fb-77c4-4bd3-9ecf-5f3f92349c8b",
   "metadata": {},
   "outputs": [],
   "source": [
    "import dill"
   ]
  },
  {
   "cell_type": "code",
   "execution_count": 10,
   "id": "9852bb20-1507-40e9-8b59-cc07bb92813c",
   "metadata": {},
   "outputs": [],
   "source": [
    "file = './aggregate_results/all_results.pkl'\n",
    "with open(file, 'rb') as f:\n",
    "    results = dill.load(f)"
   ]
  },
  {
   "cell_type": "code",
   "execution_count": 11,
   "id": "27c67916-aec6-47b3-895a-f348b58e2aa7",
   "metadata": {},
   "outputs": [
    {
     "ename": "KeyError",
     "evalue": "'23'",
     "output_type": "error",
     "traceback": [
      "\u001b[0;31m---------------------------------------------------------------------------\u001b[0m",
      "\u001b[0;31mKeyError\u001b[0m                                  Traceback (most recent call last)",
      "Cell \u001b[0;32mIn[11], line 1\u001b[0m\n\u001b[0;32m----> 1\u001b[0m \u001b[43mresults\u001b[49m\u001b[43m[\u001b[49m\u001b[38;5;124;43m'\u001b[39;49m\u001b[38;5;124;43m23\u001b[39;49m\u001b[38;5;124;43m'\u001b[39;49m\u001b[43m]\u001b[49m\n",
      "\u001b[0;31mKeyError\u001b[0m: '23'"
     ]
    }
   ],
   "source": [
    "results['23']"
   ]
  },
  {
   "cell_type": "code",
   "execution_count": null,
   "id": "e37a13fd-230a-447e-9ad9-b0c6d69f788e",
   "metadata": {},
   "outputs": [],
   "source": []
  }
 ],
 "metadata": {
  "kernelspec": {
   "display_name": "Python 3 (ipykernel)",
   "language": "python",
   "name": "python3"
  },
  "language_info": {
   "codemirror_mode": {
    "name": "ipython",
    "version": 3
   },
   "file_extension": ".py",
   "mimetype": "text/x-python",
   "name": "python",
   "nbconvert_exporter": "python",
   "pygments_lexer": "ipython3",
   "version": "3.10.15"
  }
 },
 "nbformat": 4,
 "nbformat_minor": 5
}
