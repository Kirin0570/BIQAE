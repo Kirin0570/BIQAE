{
 "cells": [
  {
   "cell_type": "code",
   "execution_count": 1,
   "id": "0a2ba924",
   "metadata": {
    "execution": {
     "iopub.execute_input": "2025-07-31T01:13:02.501497Z",
     "iopub.status.busy": "2025-07-31T01:13:02.500678Z",
     "iopub.status.idle": "2025-07-31T01:13:04.171866Z",
     "shell.execute_reply": "2025-07-31T01:13:04.170671Z"
    },
    "papermill": {
     "duration": 1.683551,
     "end_time": "2025-07-31T01:13:04.173536",
     "exception": false,
     "start_time": "2025-07-31T01:13:02.489985",
     "status": "completed"
    },
    "tags": []
   },
   "outputs": [],
   "source": [
    "from qiskit_nature.second_q.formats.molecule_info import MoleculeInfo\n",
    "from qiskit_nature.second_q.drivers import PySCFDriver\n",
    "from qiskit_nature.second_q.transformers import FreezeCoreTransformer\n",
    "from qiskit_nature.second_q.mappers import ParityMapper, JordanWignerMapper\n",
    "import dill\n",
    "import numpy as np\n",
    "from qiskit_algorithms.optimizers import SPSA, SLSQP, COBYLA\n",
    "from qiskit_aer.primitives import Estimator\n",
    "from qiskit_nature.second_q.circuit.library import HartreeFock\n",
    "from qiskit.circuit.library import EfficientSU2"
   ]
  },
  {
   "cell_type": "code",
   "execution_count": 2,
   "id": "4e5b37cf-6138-4a82-be63-c7d8cc2eaad4",
   "metadata": {
    "execution": {
     "iopub.execute_input": "2025-07-31T01:13:04.202266Z",
     "iopub.status.busy": "2025-07-31T01:13:04.201182Z",
     "iopub.status.idle": "2025-07-31T01:13:04.210593Z",
     "shell.execute_reply": "2025-07-31T01:13:04.209536Z"
    },
    "papermill": {
     "duration": 0.032315,
     "end_time": "2025-07-31T01:13:04.212170",
     "exception": false,
     "start_time": "2025-07-31T01:13:04.179855",
     "status": "completed"
    },
    "tags": []
   },
   "outputs": [
    {
     "data": {
      "text/plain": [
       "'0.7.2'"
      ]
     },
     "execution_count": 2,
     "metadata": {},
     "output_type": "execute_result"
    }
   ],
   "source": [
    "import qiskit_nature\n",
    "qiskit_nature.__version__"
   ]
  },
  {
   "cell_type": "code",
   "execution_count": 3,
   "id": "ba910acd",
   "metadata": {
    "execution": {
     "iopub.execute_input": "2025-07-31T01:13:04.240612Z",
     "iopub.status.busy": "2025-07-31T01:13:04.239457Z",
     "iopub.status.idle": "2025-07-31T01:13:04.244429Z",
     "shell.execute_reply": "2025-07-31T01:13:04.243572Z"
    },
    "papermill": {
     "duration": 0.02789,
     "end_time": "2025-07-31T01:13:04.245762",
     "exception": false,
     "start_time": "2025-07-31T01:13:04.217872",
     "status": "completed"
    },
    "slideshow": {
     "slide_type": ""
    },
    "tags": [
     "parameters"
    ]
   },
   "outputs": [],
   "source": [
    "BL = 0.6"
   ]
  },
  {
   "cell_type": "code",
   "execution_count": 4,
   "id": "952e69a1",
   "metadata": {
    "execution": {
     "iopub.execute_input": "2025-07-31T01:13:04.277435Z",
     "iopub.status.busy": "2025-07-31T01:13:04.276888Z",
     "iopub.status.idle": "2025-07-31T01:13:04.281067Z",
     "shell.execute_reply": "2025-07-31T01:13:04.279941Z"
    },
    "papermill": {
     "duration": 0.02582,
     "end_time": "2025-07-31T01:13:04.282488",
     "exception": false,
     "start_time": "2025-07-31T01:13:04.256668",
     "status": "completed"
    },
    "tags": [
     "injected-parameters"
    ]
   },
   "outputs": [],
   "source": [
    "# Parameters\n",
    "BL = 0.25\n"
   ]
  },
  {
   "cell_type": "markdown",
   "id": "7e24e37e",
   "metadata": {
    "papermill": {
     "duration": 0.020891,
     "end_time": "2025-07-31T01:13:04.315266",
     "exception": false,
     "start_time": "2025-07-31T01:13:04.294375",
     "status": "completed"
    },
    "tags": []
   },
   "source": [
    "### 1 Construct the Hamiltonian"
   ]
  },
  {
   "cell_type": "markdown",
   "id": "7b0ce8eb",
   "metadata": {
    "papermill": {
     "duration": 0.01683,
     "end_time": "2025-07-31T01:13:04.355334",
     "exception": false,
     "start_time": "2025-07-31T01:13:04.338504",
     "status": "completed"
    },
    "tags": []
   },
   "source": [
    "Helper function to construct the Hamiltonian represented as a Pauli decomposition stored in `qubit_op`, while also returning the `nuclear_repulsion_energy` and `core_electron_energy`."
   ]
  },
  {
   "cell_type": "code",
   "execution_count": 5,
   "id": "abd75003",
   "metadata": {
    "execution": {
     "iopub.execute_input": "2025-07-31T01:13:04.394398Z",
     "iopub.status.busy": "2025-07-31T01:13:04.393586Z",
     "iopub.status.idle": "2025-07-31T01:13:04.400694Z",
     "shell.execute_reply": "2025-07-31T01:13:04.399821Z"
    },
    "papermill": {
     "duration": 0.029229,
     "end_time": "2025-07-31T01:13:04.402094",
     "exception": false,
     "start_time": "2025-07-31T01:13:04.372865",
     "status": "completed"
    },
    "slideshow": {
     "slide_type": ""
    },
    "tags": []
   },
   "outputs": [],
   "source": [
    "def get_qubit_op(BL):\n",
    "    molecule = MoleculeInfo(\n",
    "        symbols=[\"H\", \"H\"],\n",
    "        coords=([0.0, 0.0, 0.0], [BL, 0.0, 0.0]),\n",
    "        multiplicity=1,\n",
    "        charge=0,\n",
    "    )\n",
    "\n",
    "    driver = PySCFDriver.from_molecule(molecule)\n",
    "    properties = driver.run()\n",
    "\n",
    "    problem = FreezeCoreTransformer(\n",
    "        freeze_core=True, remove_orbitals=[-3, -2]\n",
    "    ).transform(properties)\n",
    "\n",
    "    # Get the fermionic Hamiltonian (first element)\n",
    "    fermionic_op, _ = problem.second_q_ops()\n",
    "\n",
    "    num_particles = problem.num_particles\n",
    "    num_spatial_orbitals = problem.num_spatial_orbitals\n",
    "\n",
    "    # Use Jordan-Wigner (no tapering)\n",
    "    mapper = JordanWignerMapper()\n",
    "    qubit_op = mapper.map(fermionic_op)\n",
    "    # converter = QubitConverter(mapper=mapper)\n",
    "    # qubit_op = converter.convert(fermionic_op, num_particles=num_particles)\n",
    "\n",
    "    core_electron_energy = problem.hamiltonian.constants[\"FreezeCoreTransformer\"]\n",
    "    nuclear_repulsion_energy = problem.nuclear_repulsion_energy\n",
    "\n",
    "    return (\n",
    "        qubit_op,\n",
    "        num_particles,\n",
    "        num_spatial_orbitals,\n",
    "        problem,\n",
    "        mapper,\n",
    "        nuclear_repulsion_energy,\n",
    "        core_electron_energy,\n",
    "    )\n"
   ]
  },
  {
   "cell_type": "code",
   "execution_count": 6,
   "id": "7caf8b94",
   "metadata": {
    "execution": {
     "iopub.execute_input": "2025-07-31T01:13:04.430332Z",
     "iopub.status.busy": "2025-07-31T01:13:04.429597Z",
     "iopub.status.idle": "2025-07-31T01:13:04.623872Z",
     "shell.execute_reply": "2025-07-31T01:13:04.622886Z"
    },
    "papermill": {
     "duration": 0.214128,
     "end_time": "2025-07-31T01:13:04.626110",
     "exception": false,
     "start_time": "2025-07-31T01:13:04.411982",
     "status": "completed"
    },
    "tags": []
   },
   "outputs": [],
   "source": [
    "(qubit_op, num_particles, num_spatial_orbitals, problem, mapper,nuclear_repulsion_energy, core_electron_energy) = get_qubit_op(BL)"
   ]
  },
  {
   "cell_type": "code",
   "execution_count": 7,
   "id": "8e954660",
   "metadata": {
    "execution": {
     "iopub.execute_input": "2025-07-31T01:13:04.653398Z",
     "iopub.status.busy": "2025-07-31T01:13:04.652896Z",
     "iopub.status.idle": "2025-07-31T01:13:04.660506Z",
     "shell.execute_reply": "2025-07-31T01:13:04.659658Z"
    },
    "papermill": {
     "duration": 0.02958,
     "end_time": "2025-07-31T01:13:04.662057",
     "exception": false,
     "start_time": "2025-07-31T01:13:04.632477",
     "status": "completed"
    },
    "tags": []
   },
   "outputs": [
    {
     "data": {
      "text/plain": [
       "SparsePauliOp(['IIII', 'IIIZ', 'IIZI', 'IIZZ', 'IZII', 'IZIZ', 'ZIII', 'ZIIZ', 'YYYY', 'XXYY', 'YYXX', 'XXXX', 'IZZI', 'ZIZI', 'ZZII'],\n",
       "              coeffs=[-0.39894551+0.j,  0.27067276+0.j, -0.5999732 +0.j,  0.14746772+0.j,\n",
       "  0.27067276+0.j,  0.18962478+0.j, -0.5999732 +0.j,  0.18728687+0.j,\n",
       "  0.03981915+0.j,  0.03981915+0.j,  0.03981915+0.j,  0.03981915+0.j,\n",
       "  0.18728687+0.j,  0.19841244+0.j,  0.14746772+0.j])"
      ]
     },
     "execution_count": 7,
     "metadata": {},
     "output_type": "execute_result"
    }
   ],
   "source": [
    "qubit_op"
   ]
  },
  {
   "cell_type": "code",
   "execution_count": 8,
   "id": "8e03d926",
   "metadata": {
    "execution": {
     "iopub.execute_input": "2025-07-31T01:13:04.687616Z",
     "iopub.status.busy": "2025-07-31T01:13:04.687034Z",
     "iopub.status.idle": "2025-07-31T01:13:04.700772Z",
     "shell.execute_reply": "2025-07-31T01:13:04.699751Z"
    },
    "papermill": {
     "duration": 0.032176,
     "end_time": "2025-07-31T01:13:04.702698",
     "exception": false,
     "start_time": "2025-07-31T01:13:04.670522",
     "status": "completed"
    },
    "tags": []
   },
   "outputs": [],
   "source": [
    "# Extract terms and coefficients\n",
    "pauli_list = list(zip(qubit_op.paulis, qubit_op.coeffs))\n",
    "\n",
    "# Sort terms by absolute coefficient magnitude (largest first)\n",
    "sorted_pauli_list = sorted(pauli_list, key=lambda x: abs(x[1]), reverse=True)\n",
    "\n",
    "# Print sorted terms\n",
    "# for pauli, coef in sorted_pauli_list:\n",
    "#     print(f\"Pauli: {pauli}, Coefficient: {coef}\")\n",
    "\n",
    "# Save the list\n",
    "with open(\"sorted_pauli_list.pkl\", \"wb\") as f:\n",
    "    dill.dump(sorted_pauli_list, f)"
   ]
  },
  {
   "cell_type": "code",
   "execution_count": 9,
   "id": "09a22634",
   "metadata": {
    "execution": {
     "iopub.execute_input": "2025-07-31T01:13:04.725372Z",
     "iopub.status.busy": "2025-07-31T01:13:04.724865Z",
     "iopub.status.idle": "2025-07-31T01:13:04.734727Z",
     "shell.execute_reply": "2025-07-31T01:13:04.733733Z"
    },
    "papermill": {
     "duration": 0.027114,
     "end_time": "2025-07-31T01:13:04.737473",
     "exception": false,
     "start_time": "2025-07-31T01:13:04.710359",
     "status": "completed"
    },
    "tags": []
   },
   "outputs": [],
   "source": [
    "dd = np.real(min(np.linalg.eigvals(qubit_op.to_matrix())))"
   ]
  },
  {
   "cell_type": "markdown",
   "id": "a33105fe",
   "metadata": {
    "papermill": {
     "duration": 0.016266,
     "end_time": "2025-07-31T01:13:04.762738",
     "exception": false,
     "start_time": "2025-07-31T01:13:04.746472",
     "status": "completed"
    },
    "tags": []
   },
   "source": [
    "### 2 Perform VQE"
   ]
  },
  {
   "cell_type": "markdown",
   "id": "f6c1ff85",
   "metadata": {
    "papermill": {
     "duration": 0.017985,
     "end_time": "2025-07-31T01:13:04.797966",
     "exception": false,
     "start_time": "2025-07-31T01:13:04.779981",
     "status": "completed"
    },
    "tags": []
   },
   "source": [
    "Define a class to perform VQE."
   ]
  },
  {
   "cell_type": "code",
   "execution_count": 10,
   "id": "7f12ba1d",
   "metadata": {
    "execution": {
     "iopub.execute_input": "2025-07-31T01:13:04.839692Z",
     "iopub.status.busy": "2025-07-31T01:13:04.838977Z",
     "iopub.status.idle": "2025-07-31T01:13:04.847149Z",
     "shell.execute_reply": "2025-07-31T01:13:04.845882Z"
    },
    "papermill": {
     "duration": 0.029075,
     "end_time": "2025-07-31T01:13:04.848802",
     "exception": false,
     "start_time": "2025-07-31T01:13:04.819727",
     "status": "completed"
    },
    "tags": []
   },
   "outputs": [],
   "source": [
    "# Define the custom VQE\n",
    "class CustomVQE:\n",
    "    def __init__(self, estimator, ansatz, optimizer, qubit_op, dd, NREplusCEE, custom_function, initial_point=None):\n",
    "        self.estimator = estimator\n",
    "        self.ansatz = ansatz\n",
    "        self.optimizer = optimizer\n",
    "        self.qubit_op = qubit_op\n",
    "        self.NREplusCEE = NREplusCEE\n",
    "        self.dd = dd\n",
    "        self.custom_function = custom_function\n",
    "        self.initial_point = initial_point  or [0] * ansatz.num_parameters\n",
    "\n",
    "    def compute_minimum_eigenvalue(self):\n",
    "        # Define the function to minimize\n",
    "        def objective_function(params):\n",
    "            # Evaluate the expectation value of the qubit operator\n",
    "            expectation = self.estimator.run([self.ansatz], [self.qubit_op], [params]).result().values[0]\n",
    "            # Evaluate the custom objective function\n",
    "            return self.custom_function(expectation, params)\n",
    "\n",
    "        # Use the `minimize` method for optimization\n",
    "        opt_result = self.optimizer.minimize(\n",
    "            fun=objective_function,\n",
    "            x0=self.initial_point\n",
    "        )\n",
    "\n",
    "        result = {\n",
    "            'x': [float(value) for value in opt_result.x],\n",
    "            'fun': opt_result.fun,\n",
    "            'dd': self.dd,\n",
    "            'NREplusCEE': self.NREplusCEE\n",
    "        }\n",
    "\n",
    "        \n",
    "        return result\n"
   ]
  },
  {
   "cell_type": "code",
   "execution_count": 11,
   "id": "d499d53b",
   "metadata": {
    "execution": {
     "iopub.execute_input": "2025-07-31T01:13:04.872636Z",
     "iopub.status.busy": "2025-07-31T01:13:04.872122Z",
     "iopub.status.idle": "2025-07-31T01:13:04.876531Z",
     "shell.execute_reply": "2025-07-31T01:13:04.875572Z"
    },
    "papermill": {
     "duration": 0.02345,
     "end_time": "2025-07-31T01:13:04.878508",
     "exception": false,
     "start_time": "2025-07-31T01:13:04.855058",
     "status": "completed"
    },
    "tags": []
   },
   "outputs": [],
   "source": [
    "# l=12 and maxiter = 200 works for LiH and HF"
   ]
  },
  {
   "cell_type": "code",
   "execution_count": 12,
   "id": "868ad712",
   "metadata": {
    "execution": {
     "iopub.execute_input": "2025-07-31T01:13:04.907691Z",
     "iopub.status.busy": "2025-07-31T01:13:04.907002Z",
     "iopub.status.idle": "2025-07-31T01:13:04.921049Z",
     "shell.execute_reply": "2025-07-31T01:13:04.919969Z"
    },
    "papermill": {
     "duration": 0.036423,
     "end_time": "2025-07-31T01:13:04.923213",
     "exception": false,
     "start_time": "2025-07-31T01:13:04.886790",
     "status": "completed"
    },
    "tags": []
   },
   "outputs": [],
   "source": [
    "optimizer = SLSQP(maxiter=300)\n",
    "noiseless_estimator = Estimator(approximation=True)\n",
    "\n",
    "\n",
    "# Define ansatz\n",
    "var_form = EfficientSU2(qubit_op.num_qubits, reps=12, entanglement='full', skip_unentangled_qubits=False, parameter_prefix='a')\n",
    "\n",
    "\n",
    "# Example Custom Objective Function\n",
    "def custom_objective_function(expectation_value, parameters):\n",
    "    # penalty_term = 0.1 * sum(param**2 for param in parameters)  # Example regularization\n",
    "    return expectation_value \n",
    "\n",
    "\n",
    "# Create an instance of CustomVQE\n",
    "custom_vqe = CustomVQE(\n",
    "    estimator=noiseless_estimator,\n",
    "    ansatz=var_form,\n",
    "    optimizer=optimizer,\n",
    "    qubit_op=qubit_op,\n",
    "    dd = dd,\n",
    "    NREplusCEE = nuclear_repulsion_energy + core_electron_energy,\n",
    "    custom_function=custom_objective_function,\n",
    "    initial_point = list(np.random.uniform(-np.pi, np.pi, var_form.num_parameters))\n",
    ")\n"
   ]
  },
  {
   "cell_type": "code",
   "execution_count": 13,
   "id": "a23a50b5",
   "metadata": {
    "execution": {
     "iopub.execute_input": "2025-07-31T01:13:04.950273Z",
     "iopub.status.busy": "2025-07-31T01:13:04.949467Z",
     "iopub.status.idle": "2025-07-31T01:13:21.347211Z",
     "shell.execute_reply": "2025-07-31T01:13:21.346087Z"
    },
    "papermill": {
     "duration": 16.418294,
     "end_time": "2025-07-31T01:13:21.348789",
     "exception": false,
     "start_time": "2025-07-31T01:13:04.930495",
     "status": "completed"
    },
    "tags": []
   },
   "outputs": [],
   "source": [
    "vqe_result = custom_vqe.compute_minimum_eigenvalue()"
   ]
  },
  {
   "cell_type": "code",
   "execution_count": 14,
   "id": "c35ff26f-7516-49ca-a32d-dffdbcea7725",
   "metadata": {
    "execution": {
     "iopub.execute_input": "2025-07-31T01:13:21.378807Z",
     "iopub.status.busy": "2025-07-31T01:13:21.377702Z",
     "iopub.status.idle": "2025-07-31T01:13:21.386151Z",
     "shell.execute_reply": "2025-07-31T01:13:21.385213Z"
    },
    "papermill": {
     "duration": 0.030442,
     "end_time": "2025-07-31T01:13:21.387621",
     "exception": false,
     "start_time": "2025-07-31T01:13:21.357179",
     "status": "completed"
    },
    "tags": []
   },
   "outputs": [
    {
     "data": {
      "text/plain": [
       "{'x': [1.7394557026466764,\n",
       "  -0.04873998019747262,\n",
       "  2.8779957123972366,\n",
       "  3.0554502796185536,\n",
       "  -2.2926068201957626,\n",
       "  -2.686663854539159,\n",
       "  -0.8096151746760432,\n",
       "  -1.3557582536081119,\n",
       "  1.690645275407675,\n",
       "  -2.965059234732119,\n",
       "  0.9866313092426681,\n",
       "  -3.201085368742268,\n",
       "  -0.8351879862537858,\n",
       "  -1.7038301087604808,\n",
       "  0.7611189292067028,\n",
       "  -0.14577181115029003,\n",
       "  -1.9663843736257989,\n",
       "  -0.8527865451902885,\n",
       "  1.0579377604555171,\n",
       "  -1.619606424259443,\n",
       "  1.9898868966913867,\n",
       "  -0.08694098347126485,\n",
       "  0.9350562546538136,\n",
       "  -1.5050207389235826,\n",
       "  -2.8951719744516202,\n",
       "  -0.31183290640175976,\n",
       "  1.7213298525352956,\n",
       "  -2.8415798130537615,\n",
       "  0.9618734089192005,\n",
       "  -2.1122986126989702,\n",
       "  2.826533564735946,\n",
       "  -1.4958510648463168,\n",
       "  1.0239242600457397,\n",
       "  3.07159208693857,\n",
       "  -2.2501754095139326,\n",
       "  1.1884190871895557,\n",
       "  -2.548899308392827,\n",
       "  0.6156177891918634,\n",
       "  -0.41815753920364457,\n",
       "  2.852006546320787,\n",
       "  -2.270715712650323,\n",
       "  0.9791603757080525,\n",
       "  -0.6694277893084618,\n",
       "  0.2505748740118822,\n",
       "  0.45327795351185546,\n",
       "  1.096169200360299,\n",
       "  1.1045174968162033,\n",
       "  0.5041556412230223,\n",
       "  -0.5340036233798898,\n",
       "  -1.8935510796309762,\n",
       "  2.6645686811029448,\n",
       "  -0.4798520192770404,\n",
       "  0.9708200952572765,\n",
       "  -2.584827427755491,\n",
       "  1.222849411217054,\n",
       "  -0.9365632951312166,\n",
       "  0.7514146946367615,\n",
       "  -1.9005730002120038,\n",
       "  -0.8887347422410098,\n",
       "  -2.706282860802231,\n",
       "  -1.6030233832998284,\n",
       "  -0.5679674859161349,\n",
       "  -0.9346335130986902,\n",
       "  1.5373232632549898,\n",
       "  1.2171705635233467,\n",
       "  1.733867844387686,\n",
       "  1.2026774806603309,\n",
       "  -0.17778108170371348,\n",
       "  -0.05275883869833174,\n",
       "  0.42674457489948664,\n",
       "  0.8590635267179934,\n",
       "  0.8911917468243978,\n",
       "  0.923273246358138,\n",
       "  0.3884913691541201,\n",
       "  -2.9652304326772283,\n",
       "  1.5566853315349538,\n",
       "  1.8852901264805533,\n",
       "  1.2270284485794274,\n",
       "  -1.176782622543141,\n",
       "  2.612826327217378,\n",
       "  -1.2719387967799347,\n",
       "  0.25273938538716495,\n",
       "  1.8621594303783178,\n",
       "  -0.38366599961696707,\n",
       "  0.8627903404566732,\n",
       "  -0.40692638210632104,\n",
       "  1.2655038389908477,\n",
       "  2.0208019676202897,\n",
       "  -2.6104262619885397,\n",
       "  1.2401931960149968,\n",
       "  -1.99588573294074,\n",
       "  -0.5099892498656736,\n",
       "  0.9629097974665017,\n",
       "  3.194136926672767,\n",
       "  -1.4173237572363648,\n",
       "  1.9852774769051569,\n",
       "  -2.3875925603245105,\n",
       "  2.731248287088601,\n",
       "  -0.48987911878799667,\n",
       "  2.691031668935189,\n",
       "  2.463400305972768,\n",
       "  1.671799523915213,\n",
       "  1.1065448252140586,\n",
       "  -0.14596284268355983],\n",
       " 'fun': np.float64(-2.428978554297964),\n",
       " 'dd': np.float64(-2.4289787463807904),\n",
       " 'NREplusCEE': np.float64(2.11670884368)}"
      ]
     },
     "execution_count": 14,
     "metadata": {},
     "output_type": "execute_result"
    }
   ],
   "source": [
    "vqe_result"
   ]
  },
  {
   "cell_type": "code",
   "execution_count": 15,
   "id": "17f49028",
   "metadata": {
    "execution": {
     "iopub.execute_input": "2025-07-31T01:13:21.417096Z",
     "iopub.status.busy": "2025-07-31T01:13:21.416548Z",
     "iopub.status.idle": "2025-07-31T01:13:21.422051Z",
     "shell.execute_reply": "2025-07-31T01:13:21.420969Z"
    },
    "papermill": {
     "duration": 0.025877,
     "end_time": "2025-07-31T01:13:21.423919",
     "exception": false,
     "start_time": "2025-07-31T01:13:21.398042",
     "status": "completed"
    },
    "tags": []
   },
   "outputs": [
    {
     "data": {
      "text/plain": [
       "104"
      ]
     },
     "execution_count": 15,
     "metadata": {},
     "output_type": "execute_result"
    }
   ],
   "source": [
    "len(vqe_result['x'])"
   ]
  },
  {
   "cell_type": "code",
   "execution_count": 16,
   "id": "9ff78507",
   "metadata": {
    "execution": {
     "iopub.execute_input": "2025-07-31T01:13:21.450524Z",
     "iopub.status.busy": "2025-07-31T01:13:21.450035Z",
     "iopub.status.idle": "2025-07-31T01:13:21.454980Z",
     "shell.execute_reply": "2025-07-31T01:13:21.454150Z"
    },
    "papermill": {
     "duration": 0.024152,
     "end_time": "2025-07-31T01:13:21.456877",
     "exception": false,
     "start_time": "2025-07-31T01:13:21.432725",
     "status": "completed"
    },
    "tags": []
   },
   "outputs": [
    {
     "name": "stdout",
     "output_type": "stream",
     "text": [
      "1.920828265333796e-07\n"
     ]
    }
   ],
   "source": [
    "print(vqe_result['fun'] - vqe_result['dd'])"
   ]
  },
  {
   "cell_type": "code",
   "execution_count": 17,
   "id": "7424dae1",
   "metadata": {
    "execution": {
     "iopub.execute_input": "2025-07-31T01:13:21.487183Z",
     "iopub.status.busy": "2025-07-31T01:13:21.486811Z",
     "iopub.status.idle": "2025-07-31T01:13:21.496085Z",
     "shell.execute_reply": "2025-07-31T01:13:21.495141Z"
    },
    "papermill": {
     "duration": 0.032042,
     "end_time": "2025-07-31T01:13:21.498255",
     "exception": false,
     "start_time": "2025-07-31T01:13:21.466213",
     "status": "completed"
    },
    "tags": []
   },
   "outputs": [],
   "source": [
    "with open(\"vqe_result.pkl\", \"wb\") as f:\n",
    "    dill.dump(vqe_result, f)"
   ]
  }
 ],
 "metadata": {
  "kernelspec": {
   "display_name": "Python 3 (ipykernel)",
   "language": "python",
   "name": "python3"
  },
  "language_info": {
   "codemirror_mode": {
    "name": "ipython",
    "version": 3
   },
   "file_extension": ".py",
   "mimetype": "text/x-python",
   "name": "python",
   "nbconvert_exporter": "python",
   "pygments_lexer": "ipython3",
   "version": "3.10.15"
  },
  "papermill": {
   "default_parameters": {},
   "duration": 20.731117,
   "end_time": "2025-07-31T01:13:22.331297",
   "environment_variables": {},
   "exception": null,
   "input_path": "vqe.ipynb",
   "output_path": "/usr/src/app/SoleyGroup/lab_data/Notebooks/Statistics/Corrected_plots/New_H2/BondLengths/processing_BL_0p25000/vqe.ipynb",
   "parameters": {
    "BL": 0.25
   },
   "start_time": "2025-07-31T01:13:01.600180",
   "version": "2.6.0"
  }
 },
 "nbformat": 4,
 "nbformat_minor": 5
}