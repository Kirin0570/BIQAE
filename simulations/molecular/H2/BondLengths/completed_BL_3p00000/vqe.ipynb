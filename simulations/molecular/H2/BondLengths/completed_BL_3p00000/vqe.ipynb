{
 "cells": [
  {
   "cell_type": "code",
   "execution_count": 1,
   "id": "0a2ba924",
   "metadata": {
    "execution": {
     "iopub.execute_input": "2025-07-31T01:18:49.937324Z",
     "iopub.status.busy": "2025-07-31T01:18:49.936365Z",
     "iopub.status.idle": "2025-07-31T01:18:51.615125Z",
     "shell.execute_reply": "2025-07-31T01:18:51.612563Z"
    },
    "papermill": {
     "duration": 1.690282,
     "end_time": "2025-07-31T01:18:51.618215",
     "exception": false,
     "start_time": "2025-07-31T01:18:49.927933",
     "status": "completed"
    },
    "tags": []
   },
   "outputs": [],
   "source": [
    "from qiskit_nature.second_q.formats.molecule_info import MoleculeInfo\n",
    "from qiskit_nature.second_q.drivers import PySCFDriver\n",
    "from qiskit_nature.second_q.transformers import FreezeCoreTransformer\n",
    "from qiskit_nature.second_q.mappers import ParityMapper, JordanWignerMapper\n",
    "import dill\n",
    "import numpy as np\n",
    "from qiskit_algorithms.optimizers import SPSA, SLSQP, COBYLA\n",
    "from qiskit_aer.primitives import Estimator\n",
    "from qiskit_nature.second_q.circuit.library import HartreeFock\n",
    "from qiskit.circuit.library import EfficientSU2"
   ]
  },
  {
   "cell_type": "code",
   "execution_count": 2,
   "id": "4e5b37cf-6138-4a82-be63-c7d8cc2eaad4",
   "metadata": {
    "execution": {
     "iopub.execute_input": "2025-07-31T01:18:51.650780Z",
     "iopub.status.busy": "2025-07-31T01:18:51.650043Z",
     "iopub.status.idle": "2025-07-31T01:18:51.658401Z",
     "shell.execute_reply": "2025-07-31T01:18:51.657601Z"
    },
    "papermill": {
     "duration": 0.033095,
     "end_time": "2025-07-31T01:18:51.659903",
     "exception": false,
     "start_time": "2025-07-31T01:18:51.626808",
     "status": "completed"
    },
    "tags": []
   },
   "outputs": [
    {
     "data": {
      "text/plain": [
       "'0.7.2'"
      ]
     },
     "execution_count": 2,
     "metadata": {},
     "output_type": "execute_result"
    }
   ],
   "source": [
    "import qiskit_nature\n",
    "qiskit_nature.__version__"
   ]
  },
  {
   "cell_type": "code",
   "execution_count": 3,
   "id": "ba910acd",
   "metadata": {
    "execution": {
     "iopub.execute_input": "2025-07-31T01:18:51.688052Z",
     "iopub.status.busy": "2025-07-31T01:18:51.687541Z",
     "iopub.status.idle": "2025-07-31T01:18:51.691849Z",
     "shell.execute_reply": "2025-07-31T01:18:51.690993Z"
    },
    "papermill": {
     "duration": 0.026334,
     "end_time": "2025-07-31T01:18:51.693174",
     "exception": false,
     "start_time": "2025-07-31T01:18:51.666840",
     "status": "completed"
    },
    "slideshow": {
     "slide_type": ""
    },
    "tags": [
     "parameters"
    ]
   },
   "outputs": [],
   "source": [
    "BL = 0.6"
   ]
  },
  {
   "cell_type": "code",
   "execution_count": 4,
   "id": "16fc41b9",
   "metadata": {
    "execution": {
     "iopub.execute_input": "2025-07-31T01:18:51.727659Z",
     "iopub.status.busy": "2025-07-31T01:18:51.726739Z",
     "iopub.status.idle": "2025-07-31T01:18:51.731682Z",
     "shell.execute_reply": "2025-07-31T01:18:51.730646Z"
    },
    "papermill": {
     "duration": 0.029101,
     "end_time": "2025-07-31T01:18:51.733905",
     "exception": false,
     "start_time": "2025-07-31T01:18:51.704804",
     "status": "completed"
    },
    "tags": [
     "injected-parameters"
    ]
   },
   "outputs": [],
   "source": [
    "# Parameters\n",
    "BL = 3.0\n"
   ]
  },
  {
   "cell_type": "markdown",
   "id": "7e24e37e",
   "metadata": {
    "papermill": {
     "duration": 0.019369,
     "end_time": "2025-07-31T01:18:51.764986",
     "exception": false,
     "start_time": "2025-07-31T01:18:51.745617",
     "status": "completed"
    },
    "tags": []
   },
   "source": [
    "### 1 Construct the Hamiltonian"
   ]
  },
  {
   "cell_type": "markdown",
   "id": "7b0ce8eb",
   "metadata": {
    "papermill": {
     "duration": 0.019624,
     "end_time": "2025-07-31T01:18:51.803390",
     "exception": false,
     "start_time": "2025-07-31T01:18:51.783766",
     "status": "completed"
    },
    "tags": []
   },
   "source": [
    "Helper function to construct the Hamiltonian represented as a Pauli decomposition stored in `qubit_op`, while also returning the `nuclear_repulsion_energy` and `core_electron_energy`."
   ]
  },
  {
   "cell_type": "code",
   "execution_count": 5,
   "id": "abd75003",
   "metadata": {
    "execution": {
     "iopub.execute_input": "2025-07-31T01:18:51.845232Z",
     "iopub.status.busy": "2025-07-31T01:18:51.844564Z",
     "iopub.status.idle": "2025-07-31T01:18:51.851627Z",
     "shell.execute_reply": "2025-07-31T01:18:51.850732Z"
    },
    "papermill": {
     "duration": 0.031232,
     "end_time": "2025-07-31T01:18:51.853192",
     "exception": false,
     "start_time": "2025-07-31T01:18:51.821960",
     "status": "completed"
    },
    "slideshow": {
     "slide_type": ""
    },
    "tags": []
   },
   "outputs": [],
   "source": [
    "def get_qubit_op(BL):\n",
    "    molecule = MoleculeInfo(\n",
    "        symbols=[\"H\", \"H\"],\n",
    "        coords=([0.0, 0.0, 0.0], [BL, 0.0, 0.0]),\n",
    "        multiplicity=1,\n",
    "        charge=0,\n",
    "    )\n",
    "\n",
    "    driver = PySCFDriver.from_molecule(molecule)\n",
    "    properties = driver.run()\n",
    "\n",
    "    problem = FreezeCoreTransformer(\n",
    "        freeze_core=True, remove_orbitals=[-3, -2]\n",
    "    ).transform(properties)\n",
    "\n",
    "    # Get the fermionic Hamiltonian (first element)\n",
    "    fermionic_op, _ = problem.second_q_ops()\n",
    "\n",
    "    num_particles = problem.num_particles\n",
    "    num_spatial_orbitals = problem.num_spatial_orbitals\n",
    "\n",
    "    # Use Jordan-Wigner (no tapering)\n",
    "    mapper = JordanWignerMapper()\n",
    "    qubit_op = mapper.map(fermionic_op)\n",
    "    # converter = QubitConverter(mapper=mapper)\n",
    "    # qubit_op = converter.convert(fermionic_op, num_particles=num_particles)\n",
    "\n",
    "    core_electron_energy = problem.hamiltonian.constants[\"FreezeCoreTransformer\"]\n",
    "    nuclear_repulsion_energy = problem.nuclear_repulsion_energy\n",
    "\n",
    "    return (\n",
    "        qubit_op,\n",
    "        num_particles,\n",
    "        num_spatial_orbitals,\n",
    "        problem,\n",
    "        mapper,\n",
    "        nuclear_repulsion_energy,\n",
    "        core_electron_energy,\n",
    "    )\n"
   ]
  },
  {
   "cell_type": "code",
   "execution_count": 6,
   "id": "7caf8b94",
   "metadata": {
    "execution": {
     "iopub.execute_input": "2025-07-31T01:18:51.882670Z",
     "iopub.status.busy": "2025-07-31T01:18:51.881929Z",
     "iopub.status.idle": "2025-07-31T01:18:52.082346Z",
     "shell.execute_reply": "2025-07-31T01:18:52.080960Z"
    },
    "papermill": {
     "duration": 0.223753,
     "end_time": "2025-07-31T01:18:52.084979",
     "exception": false,
     "start_time": "2025-07-31T01:18:51.861226",
     "status": "completed"
    },
    "tags": []
   },
   "outputs": [],
   "source": [
    "(qubit_op, num_particles, num_spatial_orbitals, problem, mapper,nuclear_repulsion_energy, core_electron_energy) = get_qubit_op(BL)"
   ]
  },
  {
   "cell_type": "code",
   "execution_count": 7,
   "id": "8e954660",
   "metadata": {
    "execution": {
     "iopub.execute_input": "2025-07-31T01:18:52.110862Z",
     "iopub.status.busy": "2025-07-31T01:18:52.110313Z",
     "iopub.status.idle": "2025-07-31T01:18:52.117423Z",
     "shell.execute_reply": "2025-07-31T01:18:52.116406Z"
    },
    "papermill": {
     "duration": 0.025596,
     "end_time": "2025-07-31T01:18:52.118995",
     "exception": false,
     "start_time": "2025-07-31T01:18:52.093399",
     "status": "completed"
    },
    "tags": []
   },
   "outputs": [
    {
     "data": {
      "text/plain": [
       "SparsePauliOp(['IIII', 'IIIZ', 'IIZI', 'IIZZ', 'IZII', 'IZIZ', 'ZIII', 'ZIIZ', 'YYYY', 'XXYY', 'YYXX', 'XXXX', 'IZZI', 'ZIZI', 'ZZII'],\n",
       "              coeffs=[-0.72190012+0.j,  0.04516365+0.j,  0.03392839+0.j,  0.04407181+0.j,\n",
       "  0.04516365+0.j,  0.11784055+0.j,  0.03392839+0.j,  0.1188747 +0.j,\n",
       "  0.07480289+0.j,  0.07480289+0.j,  0.07480289+0.j,  0.07480289+0.j,\n",
       "  0.1188747 +0.j,  0.11998245+0.j,  0.04407181+0.j])"
      ]
     },
     "execution_count": 7,
     "metadata": {},
     "output_type": "execute_result"
    }
   ],
   "source": [
    "qubit_op"
   ]
  },
  {
   "cell_type": "code",
   "execution_count": 8,
   "id": "8e03d926",
   "metadata": {
    "execution": {
     "iopub.execute_input": "2025-07-31T01:18:52.145216Z",
     "iopub.status.busy": "2025-07-31T01:18:52.144327Z",
     "iopub.status.idle": "2025-07-31T01:18:52.161486Z",
     "shell.execute_reply": "2025-07-31T01:18:52.160399Z"
    },
    "papermill": {
     "duration": 0.036108,
     "end_time": "2025-07-31T01:18:52.163170",
     "exception": false,
     "start_time": "2025-07-31T01:18:52.127062",
     "status": "completed"
    },
    "tags": []
   },
   "outputs": [],
   "source": [
    "# Extract terms and coefficients\n",
    "pauli_list = list(zip(qubit_op.paulis, qubit_op.coeffs))\n",
    "\n",
    "# Sort terms by absolute coefficient magnitude (largest first)\n",
    "sorted_pauli_list = sorted(pauli_list, key=lambda x: abs(x[1]), reverse=True)\n",
    "\n",
    "# Print sorted terms\n",
    "# for pauli, coef in sorted_pauli_list:\n",
    "#     print(f\"Pauli: {pauli}, Coefficient: {coef}\")\n",
    "\n",
    "# Save the list\n",
    "with open(\"sorted_pauli_list.pkl\", \"wb\") as f:\n",
    "    dill.dump(sorted_pauli_list, f)"
   ]
  },
  {
   "cell_type": "code",
   "execution_count": 9,
   "id": "09a22634",
   "metadata": {
    "execution": {
     "iopub.execute_input": "2025-07-31T01:18:52.187538Z",
     "iopub.status.busy": "2025-07-31T01:18:52.186794Z",
     "iopub.status.idle": "2025-07-31T01:18:52.197653Z",
     "shell.execute_reply": "2025-07-31T01:18:52.195607Z"
    },
    "papermill": {
     "duration": 0.029928,
     "end_time": "2025-07-31T01:18:52.200691",
     "exception": false,
     "start_time": "2025-07-31T01:18:52.170763",
     "status": "completed"
    },
    "tags": []
   },
   "outputs": [],
   "source": [
    "dd = np.real(min(np.linalg.eigvals(qubit_op.to_matrix())))"
   ]
  },
  {
   "cell_type": "markdown",
   "id": "a33105fe",
   "metadata": {
    "papermill": {
     "duration": 0.01591,
     "end_time": "2025-07-31T01:18:52.223953",
     "exception": false,
     "start_time": "2025-07-31T01:18:52.208043",
     "status": "completed"
    },
    "tags": []
   },
   "source": [
    "### 2 Perform VQE"
   ]
  },
  {
   "cell_type": "markdown",
   "id": "f6c1ff85",
   "metadata": {
    "papermill": {
     "duration": 0.016355,
     "end_time": "2025-07-31T01:18:52.257425",
     "exception": false,
     "start_time": "2025-07-31T01:18:52.241070",
     "status": "completed"
    },
    "tags": []
   },
   "source": [
    "Define a class to perform VQE."
   ]
  },
  {
   "cell_type": "code",
   "execution_count": 10,
   "id": "7f12ba1d",
   "metadata": {
    "execution": {
     "iopub.execute_input": "2025-07-31T01:18:52.291213Z",
     "iopub.status.busy": "2025-07-31T01:18:52.290222Z",
     "iopub.status.idle": "2025-07-31T01:18:52.298950Z",
     "shell.execute_reply": "2025-07-31T01:18:52.298085Z"
    },
    "papermill": {
     "duration": 0.028534,
     "end_time": "2025-07-31T01:18:52.300568",
     "exception": false,
     "start_time": "2025-07-31T01:18:52.272034",
     "status": "completed"
    },
    "tags": []
   },
   "outputs": [],
   "source": [
    "# Define the custom VQE\n",
    "class CustomVQE:\n",
    "    def __init__(self, estimator, ansatz, optimizer, qubit_op, dd, NREplusCEE, custom_function, initial_point=None):\n",
    "        self.estimator = estimator\n",
    "        self.ansatz = ansatz\n",
    "        self.optimizer = optimizer\n",
    "        self.qubit_op = qubit_op\n",
    "        self.NREplusCEE = NREplusCEE\n",
    "        self.dd = dd\n",
    "        self.custom_function = custom_function\n",
    "        self.initial_point = initial_point  or [0] * ansatz.num_parameters\n",
    "\n",
    "    def compute_minimum_eigenvalue(self):\n",
    "        # Define the function to minimize\n",
    "        def objective_function(params):\n",
    "            # Evaluate the expectation value of the qubit operator\n",
    "            expectation = self.estimator.run([self.ansatz], [self.qubit_op], [params]).result().values[0]\n",
    "            # Evaluate the custom objective function\n",
    "            return self.custom_function(expectation, params)\n",
    "\n",
    "        # Use the `minimize` method for optimization\n",
    "        opt_result = self.optimizer.minimize(\n",
    "            fun=objective_function,\n",
    "            x0=self.initial_point\n",
    "        )\n",
    "\n",
    "        result = {\n",
    "            'x': [float(value) for value in opt_result.x],\n",
    "            'fun': opt_result.fun,\n",
    "            'dd': self.dd,\n",
    "            'NREplusCEE': self.NREplusCEE\n",
    "        }\n",
    "\n",
    "        \n",
    "        return result\n"
   ]
  },
  {
   "cell_type": "code",
   "execution_count": 11,
   "id": "d499d53b",
   "metadata": {
    "execution": {
     "iopub.execute_input": "2025-07-31T01:18:52.329312Z",
     "iopub.status.busy": "2025-07-31T01:18:52.328523Z",
     "iopub.status.idle": "2025-07-31T01:18:52.332691Z",
     "shell.execute_reply": "2025-07-31T01:18:52.331836Z"
    },
    "papermill": {
     "duration": 0.026813,
     "end_time": "2025-07-31T01:18:52.334304",
     "exception": false,
     "start_time": "2025-07-31T01:18:52.307491",
     "status": "completed"
    },
    "tags": []
   },
   "outputs": [],
   "source": [
    "# l=12 and maxiter = 200 works for LiH and HF"
   ]
  },
  {
   "cell_type": "code",
   "execution_count": 12,
   "id": "868ad712",
   "metadata": {
    "execution": {
     "iopub.execute_input": "2025-07-31T01:18:52.365847Z",
     "iopub.status.busy": "2025-07-31T01:18:52.364201Z",
     "iopub.status.idle": "2025-07-31T01:18:52.380929Z",
     "shell.execute_reply": "2025-07-31T01:18:52.379782Z"
    },
    "papermill": {
     "duration": 0.03919,
     "end_time": "2025-07-31T01:18:52.382507",
     "exception": false,
     "start_time": "2025-07-31T01:18:52.343317",
     "status": "completed"
    },
    "tags": []
   },
   "outputs": [],
   "source": [
    "optimizer = SLSQP(maxiter=300)\n",
    "noiseless_estimator = Estimator(approximation=True)\n",
    "\n",
    "\n",
    "# Define ansatz\n",
    "var_form = EfficientSU2(qubit_op.num_qubits, reps=12, entanglement='full', skip_unentangled_qubits=False, parameter_prefix='a')\n",
    "\n",
    "\n",
    "# Example Custom Objective Function\n",
    "def custom_objective_function(expectation_value, parameters):\n",
    "    # penalty_term = 0.1 * sum(param**2 for param in parameters)  # Example regularization\n",
    "    return expectation_value \n",
    "\n",
    "\n",
    "# Create an instance of CustomVQE\n",
    "custom_vqe = CustomVQE(\n",
    "    estimator=noiseless_estimator,\n",
    "    ansatz=var_form,\n",
    "    optimizer=optimizer,\n",
    "    qubit_op=qubit_op,\n",
    "    dd = dd,\n",
    "    NREplusCEE = nuclear_repulsion_energy + core_electron_energy,\n",
    "    custom_function=custom_objective_function,\n",
    "    initial_point = list(np.random.uniform(-np.pi, np.pi, var_form.num_parameters))\n",
    ")\n"
   ]
  },
  {
   "cell_type": "code",
   "execution_count": 13,
   "id": "a23a50b5",
   "metadata": {
    "execution": {
     "iopub.execute_input": "2025-07-31T01:18:52.411679Z",
     "iopub.status.busy": "2025-07-31T01:18:52.410361Z",
     "iopub.status.idle": "2025-07-31T01:19:07.827413Z",
     "shell.execute_reply": "2025-07-31T01:19:07.826283Z"
    },
    "papermill": {
     "duration": 15.436648,
     "end_time": "2025-07-31T01:19:07.829391",
     "exception": false,
     "start_time": "2025-07-31T01:18:52.392743",
     "status": "completed"
    },
    "tags": []
   },
   "outputs": [],
   "source": [
    "vqe_result = custom_vqe.compute_minimum_eigenvalue()"
   ]
  },
  {
   "cell_type": "code",
   "execution_count": 14,
   "id": "c35ff26f-7516-49ca-a32d-dffdbcea7725",
   "metadata": {
    "execution": {
     "iopub.execute_input": "2025-07-31T01:19:07.860143Z",
     "iopub.status.busy": "2025-07-31T01:19:07.859226Z",
     "iopub.status.idle": "2025-07-31T01:19:07.866627Z",
     "shell.execute_reply": "2025-07-31T01:19:07.865773Z"
    },
    "papermill": {
     "duration": 0.03091,
     "end_time": "2025-07-31T01:19:07.868840",
     "exception": false,
     "start_time": "2025-07-31T01:19:07.837930",
     "status": "completed"
    },
    "tags": []
   },
   "outputs": [
    {
     "data": {
      "text/plain": [
       "{'x': [2.841552761133338,\n",
       "  0.0966480982350302,\n",
       "  -2.2422373091246817,\n",
       "  -0.7083151122136464,\n",
       "  -1.5550507475713264,\n",
       "  2.3426751895548272,\n",
       "  2.7351764499300844,\n",
       "  -0.14015447963061828,\n",
       "  -2.363433343608333,\n",
       "  -1.5856942954959972,\n",
       "  -0.14714699243307738,\n",
       "  -1.7441499480880946,\n",
       "  -3.236137150452624,\n",
       "  1.0810423105072715,\n",
       "  1.1479333727685799,\n",
       "  1.626939412223977,\n",
       "  2.451972153630861,\n",
       "  0.5453864998777538,\n",
       "  -2.6526231093865427,\n",
       "  -0.5131970737293843,\n",
       "  -2.786127611835622,\n",
       "  2.333515696067754,\n",
       "  -1.8083319158581197,\n",
       "  1.0459564097910874,\n",
       "  -0.1253386655082302,\n",
       "  -1.1206109328001084,\n",
       "  -0.2489500481801051,\n",
       "  -0.9715839873568739,\n",
       "  0.4064080658738802,\n",
       "  2.528286091439033,\n",
       "  1.015666802015797,\n",
       "  -1.679205874625672,\n",
       "  -1.6792059909896433,\n",
       "  -2.4018204333183473,\n",
       "  -3.2588653478777427,\n",
       "  -1.7263409903938491,\n",
       "  2.939004420241926,\n",
       "  -2.1534337636565186,\n",
       "  -0.20606269784053596,\n",
       "  1.8164887010089839,\n",
       "  2.200981626501759,\n",
       "  -0.26084747243529455,\n",
       "  -1.305001858272186,\n",
       "  -2.5593966403672628,\n",
       "  2.547401952187308,\n",
       "  -1.9796222485658443,\n",
       "  -0.293485714656299,\n",
       "  1.2806060947717517,\n",
       "  1.3221316362248956,\n",
       "  0.2505694609545408,\n",
       "  -0.8620508349212977,\n",
       "  -1.5503827883852037,\n",
       "  2.7678927413938985,\n",
       "  -2.4277633902830793,\n",
       "  0.821916707585286,\n",
       "  -0.9757752762728706,\n",
       "  1.978430949799621,\n",
       "  -0.22354730583923282,\n",
       "  0.8343420913198264,\n",
       "  2.8532972493248363,\n",
       "  2.7006725761370913,\n",
       "  0.0221392083773833,\n",
       "  -0.06653507049547983,\n",
       "  -0.3731183048649158,\n",
       "  -0.20605565826393082,\n",
       "  1.6936706624160636,\n",
       "  3.3788571053620817,\n",
       "  -0.7505659834554179,\n",
       "  0.5406702197255462,\n",
       "  1.1117589199998965,\n",
       "  -1.8146413079883361,\n",
       "  -0.37902178167985145,\n",
       "  -0.09856155345371836,\n",
       "  0.04081165669950855,\n",
       "  -2.27154727599761,\n",
       "  -1.3634900723841603,\n",
       "  1.6894881580897805,\n",
       "  -2.375969830926308,\n",
       "  -0.9194702997264401,\n",
       "  -1.9014615496780012,\n",
       "  3.366583499902459,\n",
       "  0.1953759838022842,\n",
       "  -1.668432745726384,\n",
       "  1.9922938853730021,\n",
       "  0.8889624008913364,\n",
       "  -0.44081556931925914,\n",
       "  -1.7010330398068678,\n",
       "  -2.0249839067295277,\n",
       "  1.166238055474099,\n",
       "  -1.6761412670540063,\n",
       "  0.8896207738952977,\n",
       "  2.7791764941112147,\n",
       "  2.8436383172238644,\n",
       "  -1.439729277009646,\n",
       "  -1.2246456119051068,\n",
       "  0.8827756445840383,\n",
       "  1.6687835433177716,\n",
       "  -2.3817513232990035,\n",
       "  2.8054694645164093,\n",
       "  -1.5652238401534126,\n",
       "  -1.113689026960399,\n",
       "  1.1305970962924066,\n",
       "  0.21587446943593808,\n",
       "  2.070470122643735],\n",
       " 'fun': np.float64(-1.1095418057872477),\n",
       " 'dd': np.float64(-1.1100242481984992),\n",
       " 'NREplusCEE': np.float64(0.17639240364)}"
      ]
     },
     "execution_count": 14,
     "metadata": {},
     "output_type": "execute_result"
    }
   ],
   "source": [
    "vqe_result"
   ]
  },
  {
   "cell_type": "code",
   "execution_count": 15,
   "id": "17f49028",
   "metadata": {
    "execution": {
     "iopub.execute_input": "2025-07-31T01:19:07.897355Z",
     "iopub.status.busy": "2025-07-31T01:19:07.896324Z",
     "iopub.status.idle": "2025-07-31T01:19:07.903258Z",
     "shell.execute_reply": "2025-07-31T01:19:07.902328Z"
    },
    "papermill": {
     "duration": 0.026899,
     "end_time": "2025-07-31T01:19:07.904459",
     "exception": false,
     "start_time": "2025-07-31T01:19:07.877560",
     "status": "completed"
    },
    "tags": []
   },
   "outputs": [
    {
     "data": {
      "text/plain": [
       "104"
      ]
     },
     "execution_count": 15,
     "metadata": {},
     "output_type": "execute_result"
    }
   ],
   "source": [
    "len(vqe_result['x'])"
   ]
  },
  {
   "cell_type": "code",
   "execution_count": 16,
   "id": "9ff78507",
   "metadata": {
    "execution": {
     "iopub.execute_input": "2025-07-31T01:19:07.935084Z",
     "iopub.status.busy": "2025-07-31T01:19:07.934332Z",
     "iopub.status.idle": "2025-07-31T01:19:07.939261Z",
     "shell.execute_reply": "2025-07-31T01:19:07.938188Z"
    },
    "papermill": {
     "duration": 0.0286,
     "end_time": "2025-07-31T01:19:07.940625",
     "exception": false,
     "start_time": "2025-07-31T01:19:07.912025",
     "status": "completed"
    },
    "tags": []
   },
   "outputs": [
    {
     "name": "stdout",
     "output_type": "stream",
     "text": [
      "0.00048244241125150467\n"
     ]
    }
   ],
   "source": [
    "print(vqe_result['fun'] - vqe_result['dd'])"
   ]
  },
  {
   "cell_type": "code",
   "execution_count": 17,
   "id": "7424dae1",
   "metadata": {
    "execution": {
     "iopub.execute_input": "2025-07-31T01:19:07.971136Z",
     "iopub.status.busy": "2025-07-31T01:19:07.969864Z",
     "iopub.status.idle": "2025-07-31T01:19:07.980157Z",
     "shell.execute_reply": "2025-07-31T01:19:07.978665Z"
    },
    "papermill": {
     "duration": 0.033287,
     "end_time": "2025-07-31T01:19:07.982338",
     "exception": false,
     "start_time": "2025-07-31T01:19:07.949051",
     "status": "completed"
    },
    "tags": []
   },
   "outputs": [],
   "source": [
    "with open(\"vqe_result.pkl\", \"wb\") as f:\n",
    "    dill.dump(vqe_result, f)"
   ]
  }
 ],
 "metadata": {
  "kernelspec": {
   "display_name": "Python 3 (ipykernel)",
   "language": "python",
   "name": "python3"
  },
  "language_info": {
   "codemirror_mode": {
    "name": "ipython",
    "version": 3
   },
   "file_extension": ".py",
   "mimetype": "text/x-python",
   "name": "python",
   "nbconvert_exporter": "python",
   "pygments_lexer": "ipython3",
   "version": "3.10.15"
  },
  "papermill": {
   "default_parameters": {},
   "duration": 19.571979,
   "end_time": "2025-07-31T01:19:08.713835",
   "environment_variables": {},
   "exception": null,
   "input_path": "vqe.ipynb",
   "output_path": "/usr/src/app/SoleyGroup/lab_data/Notebooks/Statistics/Corrected_plots/New_H2/BondLengths/processing_BL_3p00000/vqe.ipynb",
   "parameters": {
    "BL": 3.0
   },
   "start_time": "2025-07-31T01:18:49.141856",
   "version": "2.6.0"
  }
 },
 "nbformat": 4,
 "nbformat_minor": 5
}