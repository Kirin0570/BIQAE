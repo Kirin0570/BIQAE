{
 "cells": [
  {
   "cell_type": "code",
   "execution_count": 1,
   "id": "c8082698",
   "metadata": {
    "execution": {
     "iopub.execute_input": "2025-03-01T17:08:54.939357Z",
     "iopub.status.busy": "2025-03-01T17:08:54.938865Z",
     "iopub.status.idle": "2025-03-01T17:08:56.048992Z",
     "shell.execute_reply": "2025-03-01T17:08:56.047716Z"
    },
    "papermill": {
     "duration": 1.121832,
     "end_time": "2025-03-01T17:08:56.051515",
     "exception": false,
     "start_time": "2025-03-01T17:08:54.929683",
     "status": "completed"
    },
    "tags": []
   },
   "outputs": [],
   "source": [
    "import sys\n",
    "import os\n",
    "import dill\n",
    "import matplotlib.pyplot as plt\n",
    "\n",
    "from qiskit import transpile\n",
    "from qiskit_aer import AerSimulator\n",
    "from qiskit.qpy import load as qpy_load, dump as qpy_dump\n",
    "\n",
    "# Add the path to the parent of the parent directory\n",
    "sys.path.append(os.path.abspath(os.path.join(os.getcwd(), \"../../\")))\n",
    "\n",
    "# Now you can import your modules\n",
    "from circuit_constructors import construct_A, construct_Q"
   ]
  },
  {
   "cell_type": "markdown",
   "id": "9c73fc26",
   "metadata": {
    "papermill": {
     "duration": 0.015326,
     "end_time": "2025-03-01T17:08:56.074691",
     "exception": false,
     "start_time": "2025-03-01T17:08:56.059365",
     "status": "completed"
    },
    "tags": []
   },
   "source": [
    "### 1 Construct A and Q for all Pauli strings"
   ]
  },
  {
   "cell_type": "code",
   "execution_count": 2,
   "id": "1cf67908",
   "metadata": {
    "execution": {
     "iopub.execute_input": "2025-03-01T17:08:56.104198Z",
     "iopub.status.busy": "2025-03-01T17:08:56.103708Z",
     "iopub.status.idle": "2025-03-01T17:08:56.411452Z",
     "shell.execute_reply": "2025-03-01T17:08:56.409288Z"
    },
    "papermill": {
     "duration": 0.326082,
     "end_time": "2025-03-01T17:08:56.413797",
     "exception": false,
     "start_time": "2025-03-01T17:08:56.087715",
     "status": "completed"
    },
    "tags": []
   },
   "outputs": [],
   "source": [
    "# Load decomp and optim_res\n",
    "with open('../pauli_decomp/sorted_pauli_dict.pkl', 'rb') as f:\n",
    "    sorted_pauli_dict = dill.load(f)\n",
    "with open('../optim/optim_opt_res.pkl', 'rb') as f:\n",
    "    opt_res = dill.load(f)"
   ]
  },
  {
   "cell_type": "code",
   "execution_count": 3,
   "id": "86d838b7",
   "metadata": {
    "execution": {
     "iopub.execute_input": "2025-03-01T17:08:56.439482Z",
     "iopub.status.busy": "2025-03-01T17:08:56.438335Z",
     "iopub.status.idle": "2025-03-01T17:08:57.027025Z",
     "shell.execute_reply": "2025-03-01T17:08:57.025893Z"
    },
    "papermill": {
     "duration": 0.607126,
     "end_time": "2025-03-01T17:08:57.028874",
     "exception": false,
     "start_time": "2025-03-01T17:08:56.421748",
     "status": "completed"
    },
    "tags": []
   },
   "outputs": [
    {
     "name": "stdout",
     "output_type": "stream",
     "text": [
      "Processed Pauli string 0: IIII\n",
      "Processed Pauli string 1: ZIZI\n",
      "Processed Pauli string 2: ZIIZ\n",
      "Processed Pauli string 3: IZZI\n",
      "Processed Pauli string 4: IZIZ\n",
      "Processed Pauli string 5: IIIZ\n"
     ]
    },
    {
     "name": "stdout",
     "output_type": "stream",
     "text": [
      "Processed Pauli string 6: IZII\n",
      "Processed Pauli string 7: ZZII\n",
      "Processed Pauli string 8: IIZZ\n",
      "Processed Pauli string 9: IIZI\n",
      "Processed Pauli string 10: ZIII\n",
      "Processed Pauli string 11: XXXX\n"
     ]
    },
    {
     "name": "stdout",
     "output_type": "stream",
     "text": [
      "Processed Pauli string 12: XXYY\n",
      "Processed Pauli string 13: YYXX\n",
      "Processed Pauli string 14: YYYY\n",
      "All circuits generated and saved.\n"
     ]
    }
   ],
   "source": [
    "# Extract opt_params\n",
    "opt_params = opt_res.x\n",
    "\n",
    "# Set l\n",
    "l = 3\n",
    "\n",
    "# Create the main folder if it doesn't exist\n",
    "if not os.path.exists('circuits'):\n",
    "    os.makedirs('circuits')\n",
    "\n",
    "# Traverse the Pauli strings\n",
    "for i, (pauli_string, coeff) in enumerate(sorted_pauli_dict.items()):\n",
    "    # Create a folder for this Pauli string\n",
    "    folder_path = os.path.join('circuits', str(i))\n",
    "    if not os.path.exists(folder_path):\n",
    "        os.makedirs(folder_path)\n",
    "    \n",
    "    # Construct A\n",
    "    A = construct_A(l, opt_params, pauli_string)\n",
    "    \n",
    "    # Construct Q\n",
    "    Q = construct_Q(A)\n",
    "    \n",
    "    # Save A\n",
    "    with open(os.path.join(folder_path, 'circuit_A.qpy'), 'wb') as f:\n",
    "        qpy_dump(A, f)\n",
    "    \n",
    "    # Save Q\n",
    "    with open(os.path.join(folder_path, 'circuit_Q.qpy'), 'wb') as f:\n",
    "        qpy_dump(Q, f)\n",
    "    \n",
    "    print(f\"Processed Pauli string {i}: {pauli_string}\")\n",
    "\n",
    "print(\"All circuits generated and saved.\")"
   ]
  },
  {
   "cell_type": "markdown",
   "id": "3ed27a0a",
   "metadata": {
    "papermill": {
     "duration": 0.014147,
     "end_time": "2025-03-01T17:08:57.050536",
     "exception": false,
     "start_time": "2025-03-01T17:08:57.036389",
     "status": "completed"
    },
    "tags": []
   },
   "source": [
    "### 2 Transpilation"
   ]
  },
  {
   "cell_type": "code",
   "execution_count": 4,
   "id": "b842660d",
   "metadata": {
    "execution": {
     "iopub.execute_input": "2025-03-01T17:08:57.081780Z",
     "iopub.status.busy": "2025-03-01T17:08:57.081360Z",
     "iopub.status.idle": "2025-03-01T17:09:05.145125Z",
     "shell.execute_reply": "2025-03-01T17:09:05.143973Z"
    },
    "papermill": {
     "duration": 8.083283,
     "end_time": "2025-03-01T17:09:05.146905",
     "exception": false,
     "start_time": "2025-03-01T17:08:57.063622",
     "status": "completed"
    },
    "tags": []
   },
   "outputs": [
    {
     "name": "stdout",
     "output_type": "stream",
     "text": [
      "Transpiled and saved: circuits/0/transpiled_circuit_A.qpy\n"
     ]
    },
    {
     "name": "stdout",
     "output_type": "stream",
     "text": [
      "Transpiled and saved: circuits/0/transpiled_circuit_Q.qpy\n"
     ]
    },
    {
     "name": "stdout",
     "output_type": "stream",
     "text": [
      "Transpiled and saved: circuits/1/transpiled_circuit_A.qpy\n"
     ]
    },
    {
     "name": "stdout",
     "output_type": "stream",
     "text": [
      "Transpiled and saved: circuits/1/transpiled_circuit_Q.qpy\n"
     ]
    },
    {
     "name": "stdout",
     "output_type": "stream",
     "text": [
      "Transpiled and saved: circuits/10/transpiled_circuit_A.qpy\n"
     ]
    },
    {
     "name": "stdout",
     "output_type": "stream",
     "text": [
      "Transpiled and saved: circuits/10/transpiled_circuit_Q.qpy\n",
      "Transpiled and saved: circuits/11/transpiled_circuit_A.qpy\n"
     ]
    },
    {
     "name": "stdout",
     "output_type": "stream",
     "text": [
      "Transpiled and saved: circuits/11/transpiled_circuit_Q.qpy\n"
     ]
    },
    {
     "name": "stdout",
     "output_type": "stream",
     "text": [
      "Transpiled and saved: circuits/12/transpiled_circuit_A.qpy\n"
     ]
    },
    {
     "name": "stdout",
     "output_type": "stream",
     "text": [
      "Transpiled and saved: circuits/12/transpiled_circuit_Q.qpy\n",
      "Transpiled and saved: circuits/13/transpiled_circuit_A.qpy\n"
     ]
    },
    {
     "name": "stdout",
     "output_type": "stream",
     "text": [
      "Transpiled and saved: circuits/13/transpiled_circuit_Q.qpy\n",
      "Transpiled and saved: circuits/14/transpiled_circuit_A.qpy\n"
     ]
    },
    {
     "name": "stdout",
     "output_type": "stream",
     "text": [
      "Transpiled and saved: circuits/14/transpiled_circuit_Q.qpy\n",
      "Transpiled and saved: circuits/2/transpiled_circuit_A.qpy\n"
     ]
    },
    {
     "name": "stdout",
     "output_type": "stream",
     "text": [
      "Transpiled and saved: circuits/2/transpiled_circuit_Q.qpy\n",
      "Transpiled and saved: circuits/3/transpiled_circuit_A.qpy\n"
     ]
    },
    {
     "name": "stdout",
     "output_type": "stream",
     "text": [
      "Transpiled and saved: circuits/3/transpiled_circuit_Q.qpy\n",
      "Transpiled and saved: circuits/4/transpiled_circuit_A.qpy\n"
     ]
    },
    {
     "name": "stdout",
     "output_type": "stream",
     "text": [
      "Transpiled and saved: circuits/4/transpiled_circuit_Q.qpy\n",
      "Transpiled and saved: circuits/5/transpiled_circuit_A.qpy\n"
     ]
    },
    {
     "name": "stdout",
     "output_type": "stream",
     "text": [
      "Transpiled and saved: circuits/5/transpiled_circuit_Q.qpy\n",
      "Transpiled and saved: circuits/6/transpiled_circuit_A.qpy\n"
     ]
    },
    {
     "name": "stdout",
     "output_type": "stream",
     "text": [
      "Transpiled and saved: circuits/6/transpiled_circuit_Q.qpy\n",
      "Transpiled and saved: circuits/7/transpiled_circuit_A.qpy\n"
     ]
    },
    {
     "name": "stdout",
     "output_type": "stream",
     "text": [
      "Transpiled and saved: circuits/7/transpiled_circuit_Q.qpy\n"
     ]
    },
    {
     "name": "stdout",
     "output_type": "stream",
     "text": [
      "Transpiled and saved: circuits/8/transpiled_circuit_A.qpy\n"
     ]
    },
    {
     "name": "stdout",
     "output_type": "stream",
     "text": [
      "Transpiled and saved: circuits/8/transpiled_circuit_Q.qpy\n",
      "Transpiled and saved: circuits/9/transpiled_circuit_A.qpy\n"
     ]
    },
    {
     "name": "stdout",
     "output_type": "stream",
     "text": [
      "Transpiled and saved: circuits/9/transpiled_circuit_Q.qpy\n",
      "All circuits have been transpiled and saved.\n",
      "For the 1th Pauli string:\n",
      "  The depth of circuit A is 17\n",
      "  The depth of circuit Q is 35\n",
      "For the 2th Pauli string:\n",
      "  The depth of circuit A is 19\n",
      "  The depth of circuit Q is 40\n",
      "For the 3th Pauli string:\n",
      "  The depth of circuit A is 19\n",
      "  The depth of circuit Q is 40\n",
      "For the 4th Pauli string:\n",
      "  The depth of circuit A is 19\n",
      "  The depth of circuit Q is 40\n",
      "For the 5th Pauli string:\n",
      "  The depth of circuit A is 19\n",
      "  The depth of circuit Q is 40\n",
      "For the 6th Pauli string:\n",
      "  The depth of circuit A is 19\n",
      "  The depth of circuit Q is 39\n",
      "For the 7th Pauli string:\n",
      "  The depth of circuit A is 18\n",
      "  The depth of circuit Q is 37\n",
      "For the 8th Pauli string:\n",
      "  The depth of circuit A is 18\n",
      "  The depth of circuit Q is 38\n",
      "For the 9th Pauli string:\n",
      "  The depth of circuit A is 20\n",
      "  The depth of circuit Q is 41\n",
      "For the 10th Pauli string:\n",
      "  The depth of circuit A is 19\n",
      "  The depth of circuit Q is 39\n",
      "For the 11th Pauli string:\n",
      "  The depth of circuit A is 17\n",
      "  The depth of circuit Q is 35\n",
      "For the 12th Pauli string:\n",
      "  The depth of circuit A is 20\n",
      "  The depth of circuit Q is 43\n",
      "For the 13th Pauli string:\n",
      "  The depth of circuit A is 20\n",
      "  The depth of circuit Q is 43\n",
      "For the 14th Pauli string:\n",
      "  The depth of circuit A is 20\n",
      "  The depth of circuit Q is 43\n",
      "For the 15th Pauli string:\n",
      "  The depth of circuit A is 20\n",
      "  The depth of circuit Q is 43\n"
     ]
    }
   ],
   "source": [
    "# Create an instance of the AerSimulator\n",
    "aer_sim = AerSimulator()\n",
    "\n",
    "# Dictionary to store depths of transpiled circuits\n",
    "transpiled_depths = {}\n",
    "\n",
    "# Walk through the numbered folders in circuits\n",
    "for folder in os.listdir('circuits'):\n",
    "    folder_path = os.path.join('circuits', folder)\n",
    "    if os.path.isdir(folder_path):\n",
    "        # Process circuit_A.qpy and circuit_Q.qpy\n",
    "        for circuit_file in ['circuit_A.qpy', 'circuit_Q.qpy']:\n",
    "            input_path = os.path.join(folder_path, circuit_file)\n",
    "            if os.path.exists(input_path):\n",
    "                # Load the circuit\n",
    "                with open(input_path, 'rb') as f:\n",
    "                    circuit = qpy_load(f)[0]\n",
    "                \n",
    "                # Transpile the circuit\n",
    "                transpiled_circuit = transpile(circuit, backend=aer_sim, optimization_level=3)\n",
    "                \n",
    "                # Save the transpiled circuit\n",
    "                transpiled_output_path = os.path.join(folder_path, f'transpiled_{circuit_file}')\n",
    "                \n",
    "                with open(transpiled_output_path, 'wb') as f:\n",
    "                    qpy_dump(transpiled_circuit, f)\n",
    "                \n",
    "                print(f\"Transpiled and saved: {transpiled_output_path}\")\n",
    "                \n",
    "                # Store the depth of the transpiled circuit\n",
    "                circuit_key = f\"{folder}_{circuit_file.split('.')[0]}\"\n",
    "                transpiled_depths[circuit_key] = transpiled_circuit.depth()\n",
    "\n",
    "print(\"All circuits have been transpiled and saved.\")\n",
    "\n",
    "# Print depths for both circuit A and Q\n",
    "for folder in sorted([d for d in os.listdir('circuits') if os.path.isdir(os.path.join('circuits', d))], key=int):\n",
    "    circuit_A_key = f\"{folder}_circuit_A\"\n",
    "    circuit_Q_key = f\"{folder}_circuit_Q\"\n",
    "    if circuit_A_key in transpiled_depths and circuit_Q_key in transpiled_depths:\n",
    "        print(f\"For the {int(folder) + 1}th Pauli string:\")\n",
    "        print(f\"  The depth of circuit A is {transpiled_depths[circuit_A_key]}\")\n",
    "        print(f\"  The depth of circuit Q is {transpiled_depths[circuit_Q_key]}\")\n",
    "\n"
   ]
  },
  {
   "cell_type": "markdown",
   "id": "fcd6952b",
   "metadata": {
    "papermill": {
     "duration": 0.014067,
     "end_time": "2025-03-01T17:09:05.170377",
     "exception": false,
     "start_time": "2025-03-01T17:09:05.156310",
     "status": "completed"
    },
    "tags": []
   },
   "source": [
    "### 3 Plot all circuits"
   ]
  },
  {
   "cell_type": "code",
   "execution_count": 5,
   "id": "dbfb79aa",
   "metadata": {
    "execution": {
     "iopub.execute_input": "2025-03-01T17:09:05.204593Z",
     "iopub.status.busy": "2025-03-01T17:09:05.203955Z",
     "iopub.status.idle": "2025-03-01T17:09:05.210484Z",
     "shell.execute_reply": "2025-03-01T17:09:05.209378Z"
    },
    "papermill": {
     "duration": 0.028464,
     "end_time": "2025-03-01T17:09:05.212286",
     "exception": false,
     "start_time": "2025-03-01T17:09:05.183822",
     "status": "completed"
    },
    "tags": []
   },
   "outputs": [],
   "source": [
    "# # Walk through the numbered folders in circuits\n",
    "# for folder in os.listdir('circuits'):\n",
    "#     folder_path = os.path.join('circuits', folder)\n",
    "#     if os.path.isdir(folder_path):\n",
    "#         # Process all circuit files in the folder\n",
    "#         for circuit_file in os.listdir(folder_path):\n",
    "#             if circuit_file.endswith('.qpy'):\n",
    "#                 input_path = os.path.join(folder_path, circuit_file)\n",
    "                \n",
    "#                 # Load the circuit\n",
    "#                 with open(input_path, 'rb') as f:\n",
    "#                     circuit = qpy_load(f)[0]\n",
    "                \n",
    "#                 # Draw the circuit\n",
    "#                 circuit_img = circuit.draw(output='mpl', style={\n",
    "#                     'dpi': 150,\n",
    "#                     'font_size': 20,\n",
    "#                     'backgroundcolor': '#EEEEEE'\n",
    "#                 })\n",
    "#                 circuit_img.figure.set_size_inches(30, 15)\n",
    "                \n",
    "#                 # Save the plot\n",
    "#                 output_filename = f\"{os.path.splitext(circuit_file)[0]}.png\"\n",
    "#                 output_path = os.path.join(folder_path, output_filename)\n",
    "#                 circuit_img.figure.savefig(output_path, dpi=300, bbox_inches='tight')\n",
    "#                 plt.close(circuit_img.figure)\n",
    "                \n",
    "#                 print(f\"Saved circuit plot: {output_path}\")\n",
    "\n",
    "# print(\"All circuit plots have been generated and saved.\")"
   ]
  }
 ],
 "metadata": {
  "kernelspec": {
   "display_name": "Qiskit",
   "language": "python",
   "name": "python3"
  },
  "language_info": {
   "codemirror_mode": {
    "name": "ipython",
    "version": 3
   },
   "file_extension": ".py",
   "mimetype": "text/x-python",
   "name": "python",
   "nbconvert_exporter": "python",
   "pygments_lexer": "ipython3",
   "version": "3.10.15"
  },
  "papermill": {
   "default_parameters": {},
   "duration": 11.773349,
   "end_time": "2025-03-01T17:09:05.851420",
   "environment_variables": {},
   "exception": null,
   "input_path": "all_str_A_Q.ipynb",
   "output_path": "/usr/src/app/SoleyGroup/lab_data/Notebooks/Statistics/Corrected_plots/corrected_H2/corrected_H2/BondLengths/processing_BL_1p25000/all_str_A_Q/all_str_A_Q_out.ipynb",
   "parameters": {},
   "start_time": "2025-03-01T17:08:54.078071",
   "version": "2.6.0"
  }
 },
 "nbformat": 4,
 "nbformat_minor": 5
}