{
 "cells": [
  {
   "cell_type": "code",
   "execution_count": 1,
   "id": "0a2ba924",
   "metadata": {
    "execution": {
     "iopub.execute_input": "2025-07-31T01:14:47.962171Z",
     "iopub.status.busy": "2025-07-31T01:14:47.961251Z",
     "iopub.status.idle": "2025-07-31T01:14:49.571631Z",
     "shell.execute_reply": "2025-07-31T01:14:49.570570Z"
    },
    "papermill": {
     "duration": 1.622348,
     "end_time": "2025-07-31T01:14:49.573654",
     "exception": false,
     "start_time": "2025-07-31T01:14:47.951306",
     "status": "completed"
    },
    "tags": []
   },
   "outputs": [],
   "source": [
    "from qiskit_nature.second_q.formats.molecule_info import MoleculeInfo\n",
    "from qiskit_nature.second_q.drivers import PySCFDriver\n",
    "from qiskit_nature.second_q.transformers import FreezeCoreTransformer\n",
    "from qiskit_nature.second_q.mappers import ParityMapper, JordanWignerMapper\n",
    "import dill\n",
    "import numpy as np\n",
    "from qiskit_algorithms.optimizers import SPSA, SLSQP, COBYLA\n",
    "from qiskit_aer.primitives import Estimator\n",
    "from qiskit_nature.second_q.circuit.library import HartreeFock\n",
    "from qiskit.circuit.library import EfficientSU2"
   ]
  },
  {
   "cell_type": "code",
   "execution_count": 2,
   "id": "4e5b37cf-6138-4a82-be63-c7d8cc2eaad4",
   "metadata": {
    "execution": {
     "iopub.execute_input": "2025-07-31T01:14:49.604493Z",
     "iopub.status.busy": "2025-07-31T01:14:49.603440Z",
     "iopub.status.idle": "2025-07-31T01:14:49.613553Z",
     "shell.execute_reply": "2025-07-31T01:14:49.612584Z"
    },
    "papermill": {
     "duration": 0.033635,
     "end_time": "2025-07-31T01:14:49.614957",
     "exception": false,
     "start_time": "2025-07-31T01:14:49.581322",
     "status": "completed"
    },
    "tags": []
   },
   "outputs": [
    {
     "data": {
      "text/plain": [
       "'0.7.2'"
      ]
     },
     "execution_count": 2,
     "metadata": {},
     "output_type": "execute_result"
    }
   ],
   "source": [
    "import qiskit_nature\n",
    "qiskit_nature.__version__"
   ]
  },
  {
   "cell_type": "code",
   "execution_count": 3,
   "id": "ba910acd",
   "metadata": {
    "execution": {
     "iopub.execute_input": "2025-07-31T01:14:49.640495Z",
     "iopub.status.busy": "2025-07-31T01:14:49.640077Z",
     "iopub.status.idle": "2025-07-31T01:14:49.644281Z",
     "shell.execute_reply": "2025-07-31T01:14:49.643412Z"
    },
    "papermill": {
     "duration": 0.02407,
     "end_time": "2025-07-31T01:14:49.645542",
     "exception": false,
     "start_time": "2025-07-31T01:14:49.621472",
     "status": "completed"
    },
    "slideshow": {
     "slide_type": ""
    },
    "tags": [
     "parameters"
    ]
   },
   "outputs": [],
   "source": [
    "BL = 0.6"
   ]
  },
  {
   "cell_type": "code",
   "execution_count": 4,
   "id": "24fe5c59",
   "metadata": {
    "execution": {
     "iopub.execute_input": "2025-07-31T01:14:49.681519Z",
     "iopub.status.busy": "2025-07-31T01:14:49.680355Z",
     "iopub.status.idle": "2025-07-31T01:14:49.685548Z",
     "shell.execute_reply": "2025-07-31T01:14:49.684590Z"
    },
    "papermill": {
     "duration": 0.032156,
     "end_time": "2025-07-31T01:14:49.687449",
     "exception": false,
     "start_time": "2025-07-31T01:14:49.655293",
     "status": "completed"
    },
    "tags": [
     "injected-parameters"
    ]
   },
   "outputs": [],
   "source": [
    "# Parameters\n",
    "BL = 1.25\n"
   ]
  },
  {
   "cell_type": "markdown",
   "id": "7e24e37e",
   "metadata": {
    "papermill": {
     "duration": 0.019031,
     "end_time": "2025-07-31T01:14:49.725041",
     "exception": false,
     "start_time": "2025-07-31T01:14:49.706010",
     "status": "completed"
    },
    "tags": []
   },
   "source": [
    "### 1 Construct the Hamiltonian"
   ]
  },
  {
   "cell_type": "markdown",
   "id": "7b0ce8eb",
   "metadata": {
    "papermill": {
     "duration": 0.018332,
     "end_time": "2025-07-31T01:14:49.763423",
     "exception": false,
     "start_time": "2025-07-31T01:14:49.745091",
     "status": "completed"
    },
    "tags": []
   },
   "source": [
    "Helper function to construct the Hamiltonian represented as a Pauli decomposition stored in `qubit_op`, while also returning the `nuclear_repulsion_energy` and `core_electron_energy`."
   ]
  },
  {
   "cell_type": "code",
   "execution_count": 5,
   "id": "abd75003",
   "metadata": {
    "execution": {
     "iopub.execute_input": "2025-07-31T01:14:49.806069Z",
     "iopub.status.busy": "2025-07-31T01:14:49.805301Z",
     "iopub.status.idle": "2025-07-31T01:14:49.812543Z",
     "shell.execute_reply": "2025-07-31T01:14:49.811495Z"
    },
    "papermill": {
     "duration": 0.033351,
     "end_time": "2025-07-31T01:14:49.814592",
     "exception": false,
     "start_time": "2025-07-31T01:14:49.781241",
     "status": "completed"
    },
    "slideshow": {
     "slide_type": ""
    },
    "tags": []
   },
   "outputs": [],
   "source": [
    "def get_qubit_op(BL):\n",
    "    molecule = MoleculeInfo(\n",
    "        symbols=[\"H\", \"H\"],\n",
    "        coords=([0.0, 0.0, 0.0], [BL, 0.0, 0.0]),\n",
    "        multiplicity=1,\n",
    "        charge=0,\n",
    "    )\n",
    "\n",
    "    driver = PySCFDriver.from_molecule(molecule)\n",
    "    properties = driver.run()\n",
    "\n",
    "    problem = FreezeCoreTransformer(\n",
    "        freeze_core=True, remove_orbitals=[-3, -2]\n",
    "    ).transform(properties)\n",
    "\n",
    "    # Get the fermionic Hamiltonian (first element)\n",
    "    fermionic_op, _ = problem.second_q_ops()\n",
    "\n",
    "    num_particles = problem.num_particles\n",
    "    num_spatial_orbitals = problem.num_spatial_orbitals\n",
    "\n",
    "    # Use Jordan-Wigner (no tapering)\n",
    "    mapper = JordanWignerMapper()\n",
    "    qubit_op = mapper.map(fermionic_op)\n",
    "    # converter = QubitConverter(mapper=mapper)\n",
    "    # qubit_op = converter.convert(fermionic_op, num_particles=num_particles)\n",
    "\n",
    "    core_electron_energy = problem.hamiltonian.constants[\"FreezeCoreTransformer\"]\n",
    "    nuclear_repulsion_energy = problem.nuclear_repulsion_energy\n",
    "\n",
    "    return (\n",
    "        qubit_op,\n",
    "        num_particles,\n",
    "        num_spatial_orbitals,\n",
    "        problem,\n",
    "        mapper,\n",
    "        nuclear_repulsion_energy,\n",
    "        core_electron_energy,\n",
    "    )\n"
   ]
  },
  {
   "cell_type": "code",
   "execution_count": 6,
   "id": "7caf8b94",
   "metadata": {
    "execution": {
     "iopub.execute_input": "2025-07-31T01:14:49.844994Z",
     "iopub.status.busy": "2025-07-31T01:14:49.844348Z",
     "iopub.status.idle": "2025-07-31T01:14:50.034242Z",
     "shell.execute_reply": "2025-07-31T01:14:50.032794Z"
    },
    "papermill": {
     "duration": 0.214202,
     "end_time": "2025-07-31T01:14:50.036135",
     "exception": false,
     "start_time": "2025-07-31T01:14:49.821933",
     "status": "completed"
    },
    "tags": []
   },
   "outputs": [],
   "source": [
    "(qubit_op, num_particles, num_spatial_orbitals, problem, mapper,nuclear_repulsion_energy, core_electron_energy) = get_qubit_op(BL)"
   ]
  },
  {
   "cell_type": "code",
   "execution_count": 7,
   "id": "8e954660",
   "metadata": {
    "execution": {
     "iopub.execute_input": "2025-07-31T01:14:50.064021Z",
     "iopub.status.busy": "2025-07-31T01:14:50.063386Z",
     "iopub.status.idle": "2025-07-31T01:14:50.069859Z",
     "shell.execute_reply": "2025-07-31T01:14:50.068986Z"
    },
    "papermill": {
     "duration": 0.02768,
     "end_time": "2025-07-31T01:14:50.071429",
     "exception": false,
     "start_time": "2025-07-31T01:14:50.043749",
     "status": "completed"
    },
    "tags": []
   },
   "outputs": [
    {
     "data": {
      "text/plain": [
       "SparsePauliOp(['IIII', 'IIIZ', 'IIZI', 'IIZZ', 'IZII', 'IZIZ', 'ZIII', 'ZIIZ', 'YYYY', 'XXYY', 'YYXX', 'XXXX', 'IZZI', 'ZIZI', 'ZZII'],\n",
       "              coeffs=[-0.85928918+0.j,  0.11256251+0.j, -0.07361059+0.j,  0.09363789+0.j,\n",
       "  0.11256251+0.j,  0.14637838+0.j, -0.07361059+0.j,  0.14691349+0.j,\n",
       "  0.0532756 +0.j,  0.0532756 +0.j,  0.0532756 +0.j,  0.0532756 +0.j,\n",
       "  0.14691349+0.j,  0.1539042 +0.j,  0.09363789+0.j])"
      ]
     },
     "execution_count": 7,
     "metadata": {},
     "output_type": "execute_result"
    }
   ],
   "source": [
    "qubit_op"
   ]
  },
  {
   "cell_type": "code",
   "execution_count": 8,
   "id": "8e03d926",
   "metadata": {
    "execution": {
     "iopub.execute_input": "2025-07-31T01:14:50.099333Z",
     "iopub.status.busy": "2025-07-31T01:14:50.098696Z",
     "iopub.status.idle": "2025-07-31T01:14:50.113359Z",
     "shell.execute_reply": "2025-07-31T01:14:50.112392Z"
    },
    "papermill": {
     "duration": 0.034416,
     "end_time": "2025-07-31T01:14:50.114898",
     "exception": false,
     "start_time": "2025-07-31T01:14:50.080482",
     "status": "completed"
    },
    "tags": []
   },
   "outputs": [],
   "source": [
    "# Extract terms and coefficients\n",
    "pauli_list = list(zip(qubit_op.paulis, qubit_op.coeffs))\n",
    "\n",
    "# Sort terms by absolute coefficient magnitude (largest first)\n",
    "sorted_pauli_list = sorted(pauli_list, key=lambda x: abs(x[1]), reverse=True)\n",
    "\n",
    "# Print sorted terms\n",
    "# for pauli, coef in sorted_pauli_list:\n",
    "#     print(f\"Pauli: {pauli}, Coefficient: {coef}\")\n",
    "\n",
    "# Save the list\n",
    "with open(\"sorted_pauli_list.pkl\", \"wb\") as f:\n",
    "    dill.dump(sorted_pauli_list, f)"
   ]
  },
  {
   "cell_type": "code",
   "execution_count": 9,
   "id": "09a22634",
   "metadata": {
    "execution": {
     "iopub.execute_input": "2025-07-31T01:14:50.139559Z",
     "iopub.status.busy": "2025-07-31T01:14:50.138862Z",
     "iopub.status.idle": "2025-07-31T01:14:50.147062Z",
     "shell.execute_reply": "2025-07-31T01:14:50.146161Z"
    },
    "papermill": {
     "duration": 0.025679,
     "end_time": "2025-07-31T01:14:50.148886",
     "exception": false,
     "start_time": "2025-07-31T01:14:50.123207",
     "status": "completed"
    },
    "tags": []
   },
   "outputs": [],
   "source": [
    "dd = np.real(min(np.linalg.eigvals(qubit_op.to_matrix())))"
   ]
  },
  {
   "cell_type": "markdown",
   "id": "a33105fe",
   "metadata": {
    "papermill": {
     "duration": 0.014181,
     "end_time": "2025-07-31T01:14:50.170615",
     "exception": false,
     "start_time": "2025-07-31T01:14:50.156434",
     "status": "completed"
    },
    "tags": []
   },
   "source": [
    "### 2 Perform VQE"
   ]
  },
  {
   "cell_type": "markdown",
   "id": "f6c1ff85",
   "metadata": {
    "papermill": {
     "duration": 0.013521,
     "end_time": "2025-07-31T01:14:50.200438",
     "exception": false,
     "start_time": "2025-07-31T01:14:50.186917",
     "status": "completed"
    },
    "tags": []
   },
   "source": [
    "Define a class to perform VQE."
   ]
  },
  {
   "cell_type": "code",
   "execution_count": 10,
   "id": "7f12ba1d",
   "metadata": {
    "execution": {
     "iopub.execute_input": "2025-07-31T01:14:50.230301Z",
     "iopub.status.busy": "2025-07-31T01:14:50.229824Z",
     "iopub.status.idle": "2025-07-31T01:14:50.237700Z",
     "shell.execute_reply": "2025-07-31T01:14:50.236944Z"
    },
    "papermill": {
     "duration": 0.025775,
     "end_time": "2025-07-31T01:14:50.239440",
     "exception": false,
     "start_time": "2025-07-31T01:14:50.213665",
     "status": "completed"
    },
    "tags": []
   },
   "outputs": [],
   "source": [
    "# Define the custom VQE\n",
    "class CustomVQE:\n",
    "    def __init__(self, estimator, ansatz, optimizer, qubit_op, dd, NREplusCEE, custom_function, initial_point=None):\n",
    "        self.estimator = estimator\n",
    "        self.ansatz = ansatz\n",
    "        self.optimizer = optimizer\n",
    "        self.qubit_op = qubit_op\n",
    "        self.NREplusCEE = NREplusCEE\n",
    "        self.dd = dd\n",
    "        self.custom_function = custom_function\n",
    "        self.initial_point = initial_point  or [0] * ansatz.num_parameters\n",
    "\n",
    "    def compute_minimum_eigenvalue(self):\n",
    "        # Define the function to minimize\n",
    "        def objective_function(params):\n",
    "            # Evaluate the expectation value of the qubit operator\n",
    "            expectation = self.estimator.run([self.ansatz], [self.qubit_op], [params]).result().values[0]\n",
    "            # Evaluate the custom objective function\n",
    "            return self.custom_function(expectation, params)\n",
    "\n",
    "        # Use the `minimize` method for optimization\n",
    "        opt_result = self.optimizer.minimize(\n",
    "            fun=objective_function,\n",
    "            x0=self.initial_point\n",
    "        )\n",
    "\n",
    "        result = {\n",
    "            'x': [float(value) for value in opt_result.x],\n",
    "            'fun': opt_result.fun,\n",
    "            'dd': self.dd,\n",
    "            'NREplusCEE': self.NREplusCEE\n",
    "        }\n",
    "\n",
    "        \n",
    "        return result\n"
   ]
  },
  {
   "cell_type": "code",
   "execution_count": 11,
   "id": "d499d53b",
   "metadata": {
    "execution": {
     "iopub.execute_input": "2025-07-31T01:14:50.265412Z",
     "iopub.status.busy": "2025-07-31T01:14:50.264858Z",
     "iopub.status.idle": "2025-07-31T01:14:50.269889Z",
     "shell.execute_reply": "2025-07-31T01:14:50.269053Z"
    },
    "papermill": {
     "duration": 0.024493,
     "end_time": "2025-07-31T01:14:50.271327",
     "exception": false,
     "start_time": "2025-07-31T01:14:50.246834",
     "status": "completed"
    },
    "tags": []
   },
   "outputs": [],
   "source": [
    "# l=12 and maxiter = 200 works for LiH and HF"
   ]
  },
  {
   "cell_type": "code",
   "execution_count": 12,
   "id": "868ad712",
   "metadata": {
    "execution": {
     "iopub.execute_input": "2025-07-31T01:14:50.296519Z",
     "iopub.status.busy": "2025-07-31T01:14:50.295655Z",
     "iopub.status.idle": "2025-07-31T01:14:50.308949Z",
     "shell.execute_reply": "2025-07-31T01:14:50.307948Z"
    },
    "papermill": {
     "duration": 0.032238,
     "end_time": "2025-07-31T01:14:50.310279",
     "exception": false,
     "start_time": "2025-07-31T01:14:50.278041",
     "status": "completed"
    },
    "tags": []
   },
   "outputs": [],
   "source": [
    "optimizer = SLSQP(maxiter=300)\n",
    "noiseless_estimator = Estimator(approximation=True)\n",
    "\n",
    "\n",
    "# Define ansatz\n",
    "var_form = EfficientSU2(qubit_op.num_qubits, reps=12, entanglement='full', skip_unentangled_qubits=False, parameter_prefix='a')\n",
    "\n",
    "\n",
    "# Example Custom Objective Function\n",
    "def custom_objective_function(expectation_value, parameters):\n",
    "    # penalty_term = 0.1 * sum(param**2 for param in parameters)  # Example regularization\n",
    "    return expectation_value \n",
    "\n",
    "\n",
    "# Create an instance of CustomVQE\n",
    "custom_vqe = CustomVQE(\n",
    "    estimator=noiseless_estimator,\n",
    "    ansatz=var_form,\n",
    "    optimizer=optimizer,\n",
    "    qubit_op=qubit_op,\n",
    "    dd = dd,\n",
    "    NREplusCEE = nuclear_repulsion_energy + core_electron_energy,\n",
    "    custom_function=custom_objective_function,\n",
    "    initial_point = list(np.random.uniform(-np.pi, np.pi, var_form.num_parameters))\n",
    ")\n"
   ]
  },
  {
   "cell_type": "code",
   "execution_count": 13,
   "id": "a23a50b5",
   "metadata": {
    "execution": {
     "iopub.execute_input": "2025-07-31T01:14:50.338080Z",
     "iopub.status.busy": "2025-07-31T01:14:50.337387Z",
     "iopub.status.idle": "2025-07-31T01:15:13.303282Z",
     "shell.execute_reply": "2025-07-31T01:15:13.300984Z"
    },
    "papermill": {
     "duration": 22.988425,
     "end_time": "2025-07-31T01:15:13.307245",
     "exception": false,
     "start_time": "2025-07-31T01:14:50.318820",
     "status": "completed"
    },
    "tags": []
   },
   "outputs": [],
   "source": [
    "vqe_result = custom_vqe.compute_minimum_eigenvalue()"
   ]
  },
  {
   "cell_type": "code",
   "execution_count": 14,
   "id": "c35ff26f-7516-49ca-a32d-dffdbcea7725",
   "metadata": {
    "execution": {
     "iopub.execute_input": "2025-07-31T01:15:13.337610Z",
     "iopub.status.busy": "2025-07-31T01:15:13.336149Z",
     "iopub.status.idle": "2025-07-31T01:15:13.345266Z",
     "shell.execute_reply": "2025-07-31T01:15:13.344134Z"
    },
    "papermill": {
     "duration": 0.029841,
     "end_time": "2025-07-31T01:15:13.347997",
     "exception": false,
     "start_time": "2025-07-31T01:15:13.318156",
     "status": "completed"
    },
    "tags": []
   },
   "outputs": [
    {
     "data": {
      "text/plain": [
       "{'x': [-1.3007871001339832,\n",
       "  -0.033172767384230285,\n",
       "  -2.5625566434728455,\n",
       "  2.3858856260255634,\n",
       "  0.863756031405414,\n",
       "  1.807155512592725,\n",
       "  0.6651726223214746,\n",
       "  -0.5481145925973717,\n",
       "  0.7778154359241847,\n",
       "  1.4014144139936255,\n",
       "  -2.3099182503944977,\n",
       "  0.05656117101850171,\n",
       "  -1.6701016528122299,\n",
       "  2.8198405422769937,\n",
       "  -0.9627439294918594,\n",
       "  -2.51174505003982,\n",
       "  -1.14970839097136,\n",
       "  -1.7030386028577624,\n",
       "  1.1266230645360868,\n",
       "  -2.1473012167375805,\n",
       "  -1.2133081052073083,\n",
       "  2.3240376253826933,\n",
       "  1.7846396183131308,\n",
       "  -0.4619221008796706,\n",
       "  -0.5620087450098556,\n",
       "  -2.0806986652805777,\n",
       "  -2.650527093290954,\n",
       "  0.708087861754469,\n",
       "  2.6697389069929707,\n",
       "  0.665506203344192,\n",
       "  -0.37275496836459804,\n",
       "  2.7614179115753137,\n",
       "  2.604500229322609,\n",
       "  -2.173220789443743,\n",
       "  -2.259829535040469,\n",
       "  3.2640717886033634,\n",
       "  2.0066124872012083,\n",
       "  -0.16659883893104085,\n",
       "  -1.2287268155760613,\n",
       "  3.0203928293629274,\n",
       "  0.5195892216900513,\n",
       "  -0.042763434041728346,\n",
       "  -1.2623814773900253,\n",
       "  -2.106296155996706,\n",
       "  0.909379663303193,\n",
       "  0.1868607661037958,\n",
       "  -0.9692185812694534,\n",
       "  -1.8628692472941326,\n",
       "  -1.7309120108285811,\n",
       "  -0.9864353430794474,\n",
       "  1.8110491750736049,\n",
       "  0.6915514988236953,\n",
       "  1.958774121226381,\n",
       "  0.3875793318379822,\n",
       "  3.0519905484464713,\n",
       "  2.605920656156653,\n",
       "  0.3517277860137069,\n",
       "  0.48807639705670564,\n",
       "  1.9705992639263294,\n",
       "  3.149870672844989,\n",
       "  -1.9577102383203073,\n",
       "  1.3293326856654994,\n",
       "  1.0739607834228837,\n",
       "  -2.120728682596976,\n",
       "  -0.47064731403661264,\n",
       "  0.4556745369772606,\n",
       "  -2.6214185879993157,\n",
       "  0.23597375772789575,\n",
       "  0.6377826906460411,\n",
       "  -1.8820269333211157,\n",
       "  -0.052350388262859184,\n",
       "  -0.9630364494410628,\n",
       "  -2.049092727025713,\n",
       "  -2.1592238773050134,\n",
       "  0.8953877236754979,\n",
       "  1.2776142782439337,\n",
       "  2.3712736790790316,\n",
       "  -1.1339322517697048,\n",
       "  1.9358581237419732,\n",
       "  1.0987832509613376,\n",
       "  -1.1290316269360907,\n",
       "  -2.6574785972982298,\n",
       "  -0.35788042028907374,\n",
       "  -2.7048462571776644,\n",
       "  -1.1654069454609453,\n",
       "  -0.09909973423456488,\n",
       "  -3.12376636492517,\n",
       "  1.239463583724819,\n",
       "  -2.5098693374724927,\n",
       "  -1.9078808028224399,\n",
       "  0.47390776241874444,\n",
       "  2.7439944468478705,\n",
       "  -0.2857514648130032,\n",
       "  -0.7673927052736498,\n",
       "  -2.33676559408848,\n",
       "  0.04658445567784627,\n",
       "  1.7834936772891294,\n",
       "  -2.204335264166101,\n",
       "  -1.071691560402563,\n",
       "  1.1226732833650468,\n",
       "  2.1810896170666476,\n",
       "  -1.3304155827580098,\n",
       "  1.3975708858270683,\n",
       "  -0.6468305065660798],\n",
       " 'fun': np.float64(-1.4691241149271934),\n",
       " 'dd': np.float64(-1.469124913285802),\n",
       " 'NREplusCEE': np.float64(0.42334176873600005)}"
      ]
     },
     "execution_count": 14,
     "metadata": {},
     "output_type": "execute_result"
    }
   ],
   "source": [
    "vqe_result"
   ]
  },
  {
   "cell_type": "code",
   "execution_count": 15,
   "id": "17f49028",
   "metadata": {
    "execution": {
     "iopub.execute_input": "2025-07-31T01:15:13.380928Z",
     "iopub.status.busy": "2025-07-31T01:15:13.379658Z",
     "iopub.status.idle": "2025-07-31T01:15:13.386710Z",
     "shell.execute_reply": "2025-07-31T01:15:13.385913Z"
    },
    "papermill": {
     "duration": 0.028543,
     "end_time": "2025-07-31T01:15:13.388190",
     "exception": false,
     "start_time": "2025-07-31T01:15:13.359647",
     "status": "completed"
    },
    "tags": []
   },
   "outputs": [
    {
     "data": {
      "text/plain": [
       "104"
      ]
     },
     "execution_count": 15,
     "metadata": {},
     "output_type": "execute_result"
    }
   ],
   "source": [
    "len(vqe_result['x'])"
   ]
  },
  {
   "cell_type": "code",
   "execution_count": 16,
   "id": "9ff78507",
   "metadata": {
    "execution": {
     "iopub.execute_input": "2025-07-31T01:15:13.416345Z",
     "iopub.status.busy": "2025-07-31T01:15:13.415879Z",
     "iopub.status.idle": "2025-07-31T01:15:13.420859Z",
     "shell.execute_reply": "2025-07-31T01:15:13.419935Z"
    },
    "papermill": {
     "duration": 0.025528,
     "end_time": "2025-07-31T01:15:13.422309",
     "exception": false,
     "start_time": "2025-07-31T01:15:13.396781",
     "status": "completed"
    },
    "tags": []
   },
   "outputs": [
    {
     "name": "stdout",
     "output_type": "stream",
     "text": [
      "7.983586085558159e-07\n"
     ]
    }
   ],
   "source": [
    "print(vqe_result['fun'] - vqe_result['dd'])"
   ]
  },
  {
   "cell_type": "code",
   "execution_count": 17,
   "id": "7424dae1",
   "metadata": {
    "execution": {
     "iopub.execute_input": "2025-07-31T01:15:13.451421Z",
     "iopub.status.busy": "2025-07-31T01:15:13.450374Z",
     "iopub.status.idle": "2025-07-31T01:15:13.461163Z",
     "shell.execute_reply": "2025-07-31T01:15:13.459654Z"
    },
    "papermill": {
     "duration": 0.031061,
     "end_time": "2025-07-31T01:15:13.463567",
     "exception": false,
     "start_time": "2025-07-31T01:15:13.432506",
     "status": "completed"
    },
    "tags": []
   },
   "outputs": [],
   "source": [
    "with open(\"vqe_result.pkl\", \"wb\") as f:\n",
    "    dill.dump(vqe_result, f)"
   ]
  }
 ],
 "metadata": {
  "kernelspec": {
   "display_name": "Python 3 (ipykernel)",
   "language": "python",
   "name": "python3"
  },
  "language_info": {
   "codemirror_mode": {
    "name": "ipython",
    "version": 3
   },
   "file_extension": ".py",
   "mimetype": "text/x-python",
   "name": "python",
   "nbconvert_exporter": "python",
   "pygments_lexer": "ipython3",
   "version": "3.10.15"
  },
  "papermill": {
   "default_parameters": {},
   "duration": 27.159474,
   "end_time": "2025-07-31T01:15:14.297503",
   "environment_variables": {},
   "exception": null,
   "input_path": "vqe.ipynb",
   "output_path": "/usr/src/app/SoleyGroup/lab_data/Notebooks/Statistics/Corrected_plots/New_H2/BondLengths/processing_BL_1p25000/vqe.ipynb",
   "parameters": {
    "BL": 1.25
   },
   "start_time": "2025-07-31T01:14:47.138029",
   "version": "2.6.0"
  }
 },
 "nbformat": 4,
 "nbformat_minor": 5
}