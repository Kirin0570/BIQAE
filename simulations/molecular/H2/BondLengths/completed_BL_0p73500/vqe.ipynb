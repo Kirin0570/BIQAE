{
 "cells": [
  {
   "cell_type": "code",
   "execution_count": 1,
   "id": "0a2ba924",
   "metadata": {
    "execution": {
     "iopub.execute_input": "2025-07-31T01:14:04.700775Z",
     "iopub.status.busy": "2025-07-31T01:14:04.699957Z",
     "iopub.status.idle": "2025-07-31T01:14:06.328915Z",
     "shell.execute_reply": "2025-07-31T01:14:06.327133Z"
    },
    "papermill": {
     "duration": 1.642423,
     "end_time": "2025-07-31T01:14:06.334432",
     "exception": false,
     "start_time": "2025-07-31T01:14:04.692009",
     "status": "completed"
    },
    "tags": []
   },
   "outputs": [],
   "source": [
    "from qiskit_nature.second_q.formats.molecule_info import MoleculeInfo\n",
    "from qiskit_nature.second_q.drivers import PySCFDriver\n",
    "from qiskit_nature.second_q.transformers import FreezeCoreTransformer\n",
    "from qiskit_nature.second_q.mappers import ParityMapper, JordanWignerMapper\n",
    "import dill\n",
    "import numpy as np\n",
    "from qiskit_algorithms.optimizers import SPSA, SLSQP, COBYLA\n",
    "from qiskit_aer.primitives import Estimator\n",
    "from qiskit_nature.second_q.circuit.library import HartreeFock\n",
    "from qiskit.circuit.library import EfficientSU2"
   ]
  },
  {
   "cell_type": "code",
   "execution_count": 2,
   "id": "4e5b37cf-6138-4a82-be63-c7d8cc2eaad4",
   "metadata": {
    "execution": {
     "iopub.execute_input": "2025-07-31T01:14:06.376189Z",
     "iopub.status.busy": "2025-07-31T01:14:06.374698Z",
     "iopub.status.idle": "2025-07-31T01:14:06.387547Z",
     "shell.execute_reply": "2025-07-31T01:14:06.386149Z"
    },
    "papermill": {
     "duration": 0.039628,
     "end_time": "2025-07-31T01:14:06.389623",
     "exception": false,
     "start_time": "2025-07-31T01:14:06.349995",
     "status": "completed"
    },
    "tags": []
   },
   "outputs": [
    {
     "data": {
      "text/plain": [
       "'0.7.2'"
      ]
     },
     "execution_count": 2,
     "metadata": {},
     "output_type": "execute_result"
    }
   ],
   "source": [
    "import qiskit_nature\n",
    "qiskit_nature.__version__"
   ]
  },
  {
   "cell_type": "code",
   "execution_count": 3,
   "id": "ba910acd",
   "metadata": {
    "execution": {
     "iopub.execute_input": "2025-07-31T01:14:06.423761Z",
     "iopub.status.busy": "2025-07-31T01:14:06.422643Z",
     "iopub.status.idle": "2025-07-31T01:14:06.427368Z",
     "shell.execute_reply": "2025-07-31T01:14:06.426518Z"
    },
    "papermill": {
     "duration": 0.031353,
     "end_time": "2025-07-31T01:14:06.428731",
     "exception": false,
     "start_time": "2025-07-31T01:14:06.397378",
     "status": "completed"
    },
    "slideshow": {
     "slide_type": ""
    },
    "tags": [
     "parameters"
    ]
   },
   "outputs": [],
   "source": [
    "BL = 0.6"
   ]
  },
  {
   "cell_type": "code",
   "execution_count": 4,
   "id": "ad5636fd",
   "metadata": {
    "execution": {
     "iopub.execute_input": "2025-07-31T01:14:06.469444Z",
     "iopub.status.busy": "2025-07-31T01:14:06.468550Z",
     "iopub.status.idle": "2025-07-31T01:14:06.473641Z",
     "shell.execute_reply": "2025-07-31T01:14:06.472426Z"
    },
    "papermill": {
     "duration": 0.03491,
     "end_time": "2025-07-31T01:14:06.475876",
     "exception": false,
     "start_time": "2025-07-31T01:14:06.440966",
     "status": "completed"
    },
    "tags": [
     "injected-parameters"
    ]
   },
   "outputs": [],
   "source": [
    "# Parameters\n",
    "BL = 0.735\n"
   ]
  },
  {
   "cell_type": "markdown",
   "id": "7e24e37e",
   "metadata": {
    "papermill": {
     "duration": 0.020984,
     "end_time": "2025-07-31T01:14:06.510420",
     "exception": false,
     "start_time": "2025-07-31T01:14:06.489436",
     "status": "completed"
    },
    "tags": []
   },
   "source": [
    "### 1 Construct the Hamiltonian"
   ]
  },
  {
   "cell_type": "markdown",
   "id": "7b0ce8eb",
   "metadata": {
    "papermill": {
     "duration": 0.019604,
     "end_time": "2025-07-31T01:14:06.550633",
     "exception": false,
     "start_time": "2025-07-31T01:14:06.531029",
     "status": "completed"
    },
    "tags": []
   },
   "source": [
    "Helper function to construct the Hamiltonian represented as a Pauli decomposition stored in `qubit_op`, while also returning the `nuclear_repulsion_energy` and `core_electron_energy`."
   ]
  },
  {
   "cell_type": "code",
   "execution_count": 5,
   "id": "abd75003",
   "metadata": {
    "execution": {
     "iopub.execute_input": "2025-07-31T01:14:06.591877Z",
     "iopub.status.busy": "2025-07-31T01:14:06.590361Z",
     "iopub.status.idle": "2025-07-31T01:14:06.601286Z",
     "shell.execute_reply": "2025-07-31T01:14:06.600043Z"
    },
    "papermill": {
     "duration": 0.031914,
     "end_time": "2025-07-31T01:14:06.602896",
     "exception": false,
     "start_time": "2025-07-31T01:14:06.570982",
     "status": "completed"
    },
    "slideshow": {
     "slide_type": ""
    },
    "tags": []
   },
   "outputs": [],
   "source": [
    "def get_qubit_op(BL):\n",
    "    molecule = MoleculeInfo(\n",
    "        symbols=[\"H\", \"H\"],\n",
    "        coords=([0.0, 0.0, 0.0], [BL, 0.0, 0.0]),\n",
    "        multiplicity=1,\n",
    "        charge=0,\n",
    "    )\n",
    "\n",
    "    driver = PySCFDriver.from_molecule(molecule)\n",
    "    properties = driver.run()\n",
    "\n",
    "    problem = FreezeCoreTransformer(\n",
    "        freeze_core=True, remove_orbitals=[-3, -2]\n",
    "    ).transform(properties)\n",
    "\n",
    "    # Get the fermionic Hamiltonian (first element)\n",
    "    fermionic_op, _ = problem.second_q_ops()\n",
    "\n",
    "    num_particles = problem.num_particles\n",
    "    num_spatial_orbitals = problem.num_spatial_orbitals\n",
    "\n",
    "    # Use Jordan-Wigner (no tapering)\n",
    "    mapper = JordanWignerMapper()\n",
    "    qubit_op = mapper.map(fermionic_op)\n",
    "    # converter = QubitConverter(mapper=mapper)\n",
    "    # qubit_op = converter.convert(fermionic_op, num_particles=num_particles)\n",
    "\n",
    "    core_electron_energy = problem.hamiltonian.constants[\"FreezeCoreTransformer\"]\n",
    "    nuclear_repulsion_energy = problem.nuclear_repulsion_energy\n",
    "\n",
    "    return (\n",
    "        qubit_op,\n",
    "        num_particles,\n",
    "        num_spatial_orbitals,\n",
    "        problem,\n",
    "        mapper,\n",
    "        nuclear_repulsion_energy,\n",
    "        core_electron_energy,\n",
    "    )\n"
   ]
  },
  {
   "cell_type": "code",
   "execution_count": 6,
   "id": "7caf8b94",
   "metadata": {
    "execution": {
     "iopub.execute_input": "2025-07-31T01:14:06.629709Z",
     "iopub.status.busy": "2025-07-31T01:14:06.629289Z",
     "iopub.status.idle": "2025-07-31T01:14:06.829614Z",
     "shell.execute_reply": "2025-07-31T01:14:06.828283Z"
    },
    "papermill": {
     "duration": 0.221772,
     "end_time": "2025-07-31T01:14:06.832277",
     "exception": false,
     "start_time": "2025-07-31T01:14:06.610505",
     "status": "completed"
    },
    "tags": []
   },
   "outputs": [],
   "source": [
    "(qubit_op, num_particles, num_spatial_orbitals, problem, mapper,nuclear_repulsion_energy, core_electron_energy) = get_qubit_op(BL)"
   ]
  },
  {
   "cell_type": "code",
   "execution_count": 7,
   "id": "8e954660",
   "metadata": {
    "execution": {
     "iopub.execute_input": "2025-07-31T01:14:06.857890Z",
     "iopub.status.busy": "2025-07-31T01:14:06.857245Z",
     "iopub.status.idle": "2025-07-31T01:14:06.864310Z",
     "shell.execute_reply": "2025-07-31T01:14:06.863524Z"
    },
    "papermill": {
     "duration": 0.026028,
     "end_time": "2025-07-31T01:14:06.866076",
     "exception": false,
     "start_time": "2025-07-31T01:14:06.840048",
     "status": "completed"
    },
    "tags": []
   },
   "outputs": [
    {
     "data": {
      "text/plain": [
       "SparsePauliOp(['IIII', 'IIIZ', 'IIZI', 'IIZZ', 'IZII', 'IZIZ', 'ZIII', 'ZIIZ', 'YYYY', 'XXYY', 'YYXX', 'XXXX', 'IZZI', 'ZIZI', 'ZZII'],\n",
       "              coeffs=[-0.81054798+0.j,  0.17218393+0.j, -0.22575349+0.j,  0.12091263+0.j,\n",
       "  0.17218393+0.j,  0.16892754+0.j, -0.22575349+0.j,  0.16614543+0.j,\n",
       "  0.0452328 +0.j,  0.0452328 +0.j,  0.0452328 +0.j,  0.0452328 +0.j,\n",
       "  0.16614543+0.j,  0.17464343+0.j,  0.12091263+0.j])"
      ]
     },
     "execution_count": 7,
     "metadata": {},
     "output_type": "execute_result"
    }
   ],
   "source": [
    "qubit_op"
   ]
  },
  {
   "cell_type": "code",
   "execution_count": 8,
   "id": "8e03d926",
   "metadata": {
    "execution": {
     "iopub.execute_input": "2025-07-31T01:14:06.889751Z",
     "iopub.status.busy": "2025-07-31T01:14:06.889136Z",
     "iopub.status.idle": "2025-07-31T01:14:06.903917Z",
     "shell.execute_reply": "2025-07-31T01:14:06.902691Z"
    },
    "papermill": {
     "duration": 0.031179,
     "end_time": "2025-07-31T01:14:06.905796",
     "exception": false,
     "start_time": "2025-07-31T01:14:06.874617",
     "status": "completed"
    },
    "tags": []
   },
   "outputs": [],
   "source": [
    "# Extract terms and coefficients\n",
    "pauli_list = list(zip(qubit_op.paulis, qubit_op.coeffs))\n",
    "\n",
    "# Sort terms by absolute coefficient magnitude (largest first)\n",
    "sorted_pauli_list = sorted(pauli_list, key=lambda x: abs(x[1]), reverse=True)\n",
    "\n",
    "# Print sorted terms\n",
    "# for pauli, coef in sorted_pauli_list:\n",
    "#     print(f\"Pauli: {pauli}, Coefficient: {coef}\")\n",
    "\n",
    "# Save the list\n",
    "with open(\"sorted_pauli_list.pkl\", \"wb\") as f:\n",
    "    dill.dump(sorted_pauli_list, f)"
   ]
  },
  {
   "cell_type": "code",
   "execution_count": 9,
   "id": "09a22634",
   "metadata": {
    "execution": {
     "iopub.execute_input": "2025-07-31T01:14:06.934646Z",
     "iopub.status.busy": "2025-07-31T01:14:06.933859Z",
     "iopub.status.idle": "2025-07-31T01:14:06.942644Z",
     "shell.execute_reply": "2025-07-31T01:14:06.941834Z"
    },
    "papermill": {
     "duration": 0.029123,
     "end_time": "2025-07-31T01:14:06.944305",
     "exception": false,
     "start_time": "2025-07-31T01:14:06.915182",
     "status": "completed"
    },
    "tags": []
   },
   "outputs": [],
   "source": [
    "dd = np.real(min(np.linalg.eigvals(qubit_op.to_matrix())))"
   ]
  },
  {
   "cell_type": "markdown",
   "id": "a33105fe",
   "metadata": {
    "papermill": {
     "duration": 0.015608,
     "end_time": "2025-07-31T01:14:06.967306",
     "exception": false,
     "start_time": "2025-07-31T01:14:06.951698",
     "status": "completed"
    },
    "tags": []
   },
   "source": [
    "### 2 Perform VQE"
   ]
  },
  {
   "cell_type": "markdown",
   "id": "f6c1ff85",
   "metadata": {
    "papermill": {
     "duration": 0.013316,
     "end_time": "2025-07-31T01:14:06.995285",
     "exception": false,
     "start_time": "2025-07-31T01:14:06.981969",
     "status": "completed"
    },
    "tags": []
   },
   "source": [
    "Define a class to perform VQE."
   ]
  },
  {
   "cell_type": "code",
   "execution_count": 10,
   "id": "7f12ba1d",
   "metadata": {
    "execution": {
     "iopub.execute_input": "2025-07-31T01:14:07.024585Z",
     "iopub.status.busy": "2025-07-31T01:14:07.023546Z",
     "iopub.status.idle": "2025-07-31T01:14:07.031343Z",
     "shell.execute_reply": "2025-07-31T01:14:07.030376Z"
    },
    "papermill": {
     "duration": 0.024309,
     "end_time": "2025-07-31T01:14:07.032656",
     "exception": false,
     "start_time": "2025-07-31T01:14:07.008347",
     "status": "completed"
    },
    "tags": []
   },
   "outputs": [],
   "source": [
    "# Define the custom VQE\n",
    "class CustomVQE:\n",
    "    def __init__(self, estimator, ansatz, optimizer, qubit_op, dd, NREplusCEE, custom_function, initial_point=None):\n",
    "        self.estimator = estimator\n",
    "        self.ansatz = ansatz\n",
    "        self.optimizer = optimizer\n",
    "        self.qubit_op = qubit_op\n",
    "        self.NREplusCEE = NREplusCEE\n",
    "        self.dd = dd\n",
    "        self.custom_function = custom_function\n",
    "        self.initial_point = initial_point  or [0] * ansatz.num_parameters\n",
    "\n",
    "    def compute_minimum_eigenvalue(self):\n",
    "        # Define the function to minimize\n",
    "        def objective_function(params):\n",
    "            # Evaluate the expectation value of the qubit operator\n",
    "            expectation = self.estimator.run([self.ansatz], [self.qubit_op], [params]).result().values[0]\n",
    "            # Evaluate the custom objective function\n",
    "            return self.custom_function(expectation, params)\n",
    "\n",
    "        # Use the `minimize` method for optimization\n",
    "        opt_result = self.optimizer.minimize(\n",
    "            fun=objective_function,\n",
    "            x0=self.initial_point\n",
    "        )\n",
    "\n",
    "        result = {\n",
    "            'x': [float(value) for value in opt_result.x],\n",
    "            'fun': opt_result.fun,\n",
    "            'dd': self.dd,\n",
    "            'NREplusCEE': self.NREplusCEE\n",
    "        }\n",
    "\n",
    "        \n",
    "        return result\n"
   ]
  },
  {
   "cell_type": "code",
   "execution_count": 11,
   "id": "d499d53b",
   "metadata": {
    "execution": {
     "iopub.execute_input": "2025-07-31T01:14:07.057087Z",
     "iopub.status.busy": "2025-07-31T01:14:07.056337Z",
     "iopub.status.idle": "2025-07-31T01:14:07.060405Z",
     "shell.execute_reply": "2025-07-31T01:14:07.059458Z"
    },
    "papermill": {
     "duration": 0.021325,
     "end_time": "2025-07-31T01:14:07.061679",
     "exception": false,
     "start_time": "2025-07-31T01:14:07.040354",
     "status": "completed"
    },
    "tags": []
   },
   "outputs": [],
   "source": [
    "# l=12 and maxiter = 200 works for LiH and HF"
   ]
  },
  {
   "cell_type": "code",
   "execution_count": 12,
   "id": "868ad712",
   "metadata": {
    "execution": {
     "iopub.execute_input": "2025-07-31T01:14:07.086885Z",
     "iopub.status.busy": "2025-07-31T01:14:07.086537Z",
     "iopub.status.idle": "2025-07-31T01:14:07.105322Z",
     "shell.execute_reply": "2025-07-31T01:14:07.104007Z"
    },
    "papermill": {
     "duration": 0.037286,
     "end_time": "2025-07-31T01:14:07.107158",
     "exception": false,
     "start_time": "2025-07-31T01:14:07.069872",
     "status": "completed"
    },
    "tags": []
   },
   "outputs": [],
   "source": [
    "optimizer = SLSQP(maxiter=300)\n",
    "noiseless_estimator = Estimator(approximation=True)\n",
    "\n",
    "\n",
    "# Define ansatz\n",
    "var_form = EfficientSU2(qubit_op.num_qubits, reps=12, entanglement='full', skip_unentangled_qubits=False, parameter_prefix='a')\n",
    "\n",
    "\n",
    "# Example Custom Objective Function\n",
    "def custom_objective_function(expectation_value, parameters):\n",
    "    # penalty_term = 0.1 * sum(param**2 for param in parameters)  # Example regularization\n",
    "    return expectation_value \n",
    "\n",
    "\n",
    "# Create an instance of CustomVQE\n",
    "custom_vqe = CustomVQE(\n",
    "    estimator=noiseless_estimator,\n",
    "    ansatz=var_form,\n",
    "    optimizer=optimizer,\n",
    "    qubit_op=qubit_op,\n",
    "    dd = dd,\n",
    "    NREplusCEE = nuclear_repulsion_energy + core_electron_energy,\n",
    "    custom_function=custom_objective_function,\n",
    "    initial_point = list(np.random.uniform(-np.pi, np.pi, var_form.num_parameters))\n",
    ")\n"
   ]
  },
  {
   "cell_type": "code",
   "execution_count": 13,
   "id": "a23a50b5",
   "metadata": {
    "execution": {
     "iopub.execute_input": "2025-07-31T01:14:07.139491Z",
     "iopub.status.busy": "2025-07-31T01:14:07.138963Z",
     "iopub.status.idle": "2025-07-31T01:14:24.084228Z",
     "shell.execute_reply": "2025-07-31T01:14:24.083237Z"
    },
    "papermill": {
     "duration": 16.969831,
     "end_time": "2025-07-31T01:14:24.086339",
     "exception": false,
     "start_time": "2025-07-31T01:14:07.116508",
     "status": "completed"
    },
    "tags": []
   },
   "outputs": [],
   "source": [
    "vqe_result = custom_vqe.compute_minimum_eigenvalue()"
   ]
  },
  {
   "cell_type": "code",
   "execution_count": 14,
   "id": "c35ff26f-7516-49ca-a32d-dffdbcea7725",
   "metadata": {
    "execution": {
     "iopub.execute_input": "2025-07-31T01:14:24.116318Z",
     "iopub.status.busy": "2025-07-31T01:14:24.114359Z",
     "iopub.status.idle": "2025-07-31T01:14:24.124606Z",
     "shell.execute_reply": "2025-07-31T01:14:24.123446Z"
    },
    "papermill": {
     "duration": 0.031991,
     "end_time": "2025-07-31T01:14:24.126410",
     "exception": false,
     "start_time": "2025-07-31T01:14:24.094419",
     "status": "completed"
    },
    "tags": []
   },
   "outputs": [
    {
     "data": {
      "text/plain": [
       "{'x': [2.101969325091228,\n",
       "  3.0103859242682813,\n",
       "  2.0027293734456406,\n",
       "  -0.28632532581219444,\n",
       "  -0.2674478190344841,\n",
       "  -0.39849589121839735,\n",
       "  -1.6709648528934855,\n",
       "  -0.7515808314692628,\n",
       "  0.8129847827202149,\n",
       "  -1.9197938050783852,\n",
       "  -2.4467749940002768,\n",
       "  1.4520193979826326,\n",
       "  -1.770331852391771,\n",
       "  -0.8331845907091453,\n",
       "  -0.600940754774615,\n",
       "  1.0601338845409973,\n",
       "  -2.7124848021302843,\n",
       "  -2.9308770140410703,\n",
       "  0.5225544253925835,\n",
       "  0.4072713415141385,\n",
       "  0.06059637534207662,\n",
       "  3.176780432702309,\n",
       "  1.600456044478242,\n",
       "  -1.2543666133719678,\n",
       "  -2.3844830124014345,\n",
       "  2.5464128439041076,\n",
       "  -1.8288750660400002,\n",
       "  0.6707129205154667,\n",
       "  -0.9188172150140586,\n",
       "  -0.1966245345237361,\n",
       "  -0.43002980125563417,\n",
       "  0.01568111109422216,\n",
       "  0.16316280820227505,\n",
       "  2.7524228861355664,\n",
       "  -0.3599491433747563,\n",
       "  2.3848427216553616,\n",
       "  3.1958736027611065,\n",
       "  -1.728046765235891,\n",
       "  0.16866727250437238,\n",
       "  -0.6877340944892346,\n",
       "  -1.5437185010752144,\n",
       "  -1.2500018459198248,\n",
       "  0.20501412077876272,\n",
       "  0.6131318834700628,\n",
       "  -2.4818553929880482,\n",
       "  1.0685414653359235,\n",
       "  1.1743514785075146,\n",
       "  2.6315176058576086,\n",
       "  -2.431744154902743,\n",
       "  2.1875624972715273,\n",
       "  -1.775790067221049,\n",
       "  0.05613082372160239,\n",
       "  -0.9799816650502814,\n",
       "  -1.05738230330873,\n",
       "  -1.5089487355122109,\n",
       "  -1.3092025952609663,\n",
       "  2.103012979798717,\n",
       "  -2.098631971653614,\n",
       "  -0.18343135594595192,\n",
       "  -3.324910222798274,\n",
       "  -1.8679975291720916,\n",
       "  1.010162265455372,\n",
       "  -1.3044045064885885,\n",
       "  -0.16401493889863902,\n",
       "  0.7564357947975902,\n",
       "  0.44146214936953,\n",
       "  -2.994202291943494,\n",
       "  -1.2018212819468888,\n",
       "  -1.1803026262851914,\n",
       "  -0.8644467468156147,\n",
       "  0.1611173505664643,\n",
       "  -0.7283184562173942,\n",
       "  -0.4237454732908341,\n",
       "  -1.3260610465854512,\n",
       "  -0.7340436542582295,\n",
       "  2.5736510055066923,\n",
       "  2.153914650867527,\n",
       "  -2.9398629418133457,\n",
       "  1.4710541159467148,\n",
       "  2.7068472729970185,\n",
       "  -1.3964643870996896,\n",
       "  -2.4174424153622187,\n",
       "  -1.3129050521577812,\n",
       "  -1.1110377223325114,\n",
       "  -3.3250294178496658,\n",
       "  2.8407211948864752,\n",
       "  -0.7279747717371239,\n",
       "  2.544579903498438,\n",
       "  2.0200537852337717,\n",
       "  -2.595067031562447,\n",
       "  -0.4667644884209664,\n",
       "  1.4347576357942522,\n",
       "  -0.16620948206468217,\n",
       "  -2.135393154448509,\n",
       "  -2.024831984165356,\n",
       "  -2.356393319727396,\n",
       "  -2.8000033173804613,\n",
       "  -2.2343575059408654,\n",
       "  -3.2451235280397,\n",
       "  -0.7111797868722086,\n",
       "  0.9368378763672676,\n",
       "  2.8249539723733,\n",
       "  1.1145938271256124,\n",
       "  -2.47394199674804],\n",
       " 'fun': np.float64(-1.8572746710310086),\n",
       " 'dd': np.float64(-1.85727503020238),\n",
       " 'NREplusCEE': np.float64(0.7199689944489797)}"
      ]
     },
     "execution_count": 14,
     "metadata": {},
     "output_type": "execute_result"
    }
   ],
   "source": [
    "vqe_result"
   ]
  },
  {
   "cell_type": "code",
   "execution_count": 15,
   "id": "17f49028",
   "metadata": {
    "execution": {
     "iopub.execute_input": "2025-07-31T01:14:24.155880Z",
     "iopub.status.busy": "2025-07-31T01:14:24.155271Z",
     "iopub.status.idle": "2025-07-31T01:14:24.160733Z",
     "shell.execute_reply": "2025-07-31T01:14:24.159904Z"
    },
    "papermill": {
     "duration": 0.026905,
     "end_time": "2025-07-31T01:14:24.162139",
     "exception": false,
     "start_time": "2025-07-31T01:14:24.135234",
     "status": "completed"
    },
    "tags": []
   },
   "outputs": [
    {
     "data": {
      "text/plain": [
       "104"
      ]
     },
     "execution_count": 15,
     "metadata": {},
     "output_type": "execute_result"
    }
   ],
   "source": [
    "len(vqe_result['x'])"
   ]
  },
  {
   "cell_type": "code",
   "execution_count": 16,
   "id": "9ff78507",
   "metadata": {
    "execution": {
     "iopub.execute_input": "2025-07-31T01:14:24.193954Z",
     "iopub.status.busy": "2025-07-31T01:14:24.193127Z",
     "iopub.status.idle": "2025-07-31T01:14:24.198606Z",
     "shell.execute_reply": "2025-07-31T01:14:24.197476Z"
    },
    "papermill": {
     "duration": 0.027806,
     "end_time": "2025-07-31T01:14:24.200193",
     "exception": false,
     "start_time": "2025-07-31T01:14:24.172387",
     "status": "completed"
    },
    "tags": []
   },
   "outputs": [
    {
     "name": "stdout",
     "output_type": "stream",
     "text": [
      "3.59171371311362e-07\n"
     ]
    }
   ],
   "source": [
    "print(vqe_result['fun'] - vqe_result['dd'])"
   ]
  },
  {
   "cell_type": "code",
   "execution_count": 17,
   "id": "7424dae1",
   "metadata": {
    "execution": {
     "iopub.execute_input": "2025-07-31T01:14:24.232607Z",
     "iopub.status.busy": "2025-07-31T01:14:24.232000Z",
     "iopub.status.idle": "2025-07-31T01:14:24.240146Z",
     "shell.execute_reply": "2025-07-31T01:14:24.239030Z"
    },
    "papermill": {
     "duration": 0.032724,
     "end_time": "2025-07-31T01:14:24.242120",
     "exception": false,
     "start_time": "2025-07-31T01:14:24.209396",
     "status": "completed"
    },
    "tags": []
   },
   "outputs": [],
   "source": [
    "with open(\"vqe_result.pkl\", \"wb\") as f:\n",
    "    dill.dump(vqe_result, f)"
   ]
  }
 ],
 "metadata": {
  "kernelspec": {
   "display_name": "Python 3 (ipykernel)",
   "language": "python",
   "name": "python3"
  },
  "language_info": {
   "codemirror_mode": {
    "name": "ipython",
    "version": 3
   },
   "file_extension": ".py",
   "mimetype": "text/x-python",
   "name": "python",
   "nbconvert_exporter": "python",
   "pygments_lexer": "ipython3",
   "version": "3.10.15"
  },
  "papermill": {
   "default_parameters": {},
   "duration": 21.1047,
   "end_time": "2025-07-31T01:14:24.978644",
   "environment_variables": {},
   "exception": null,
   "input_path": "vqe.ipynb",
   "output_path": "/usr/src/app/SoleyGroup/lab_data/Notebooks/Statistics/Corrected_plots/New_H2/BondLengths/processing_BL_0p73500/vqe.ipynb",
   "parameters": {
    "BL": 0.735
   },
   "start_time": "2025-07-31T01:14:03.873944",
   "version": "2.6.0"
  }
 },
 "nbformat": 4,
 "nbformat_minor": 5
}