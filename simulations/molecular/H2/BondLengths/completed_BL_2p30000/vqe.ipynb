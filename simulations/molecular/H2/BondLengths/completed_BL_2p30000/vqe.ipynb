{
 "cells": [
  {
   "cell_type": "code",
   "execution_count": 1,
   "id": "0a2ba924",
   "metadata": {
    "execution": {
     "iopub.execute_input": "2025-07-31T01:16:33.343711Z",
     "iopub.status.busy": "2025-07-31T01:16:33.342926Z",
     "iopub.status.idle": "2025-07-31T01:16:35.047752Z",
     "shell.execute_reply": "2025-07-31T01:16:35.046040Z"
    },
    "papermill": {
     "duration": 1.716386,
     "end_time": "2025-07-31T01:16:35.051179",
     "exception": false,
     "start_time": "2025-07-31T01:16:33.334793",
     "status": "completed"
    },
    "tags": []
   },
   "outputs": [],
   "source": [
    "from qiskit_nature.second_q.formats.molecule_info import MoleculeInfo\n",
    "from qiskit_nature.second_q.drivers import PySCFDriver\n",
    "from qiskit_nature.second_q.transformers import FreezeCoreTransformer\n",
    "from qiskit_nature.second_q.mappers import ParityMapper, JordanWignerMapper\n",
    "import dill\n",
    "import numpy as np\n",
    "from qiskit_algorithms.optimizers import SPSA, SLSQP, COBYLA\n",
    "from qiskit_aer.primitives import Estimator\n",
    "from qiskit_nature.second_q.circuit.library import HartreeFock\n",
    "from qiskit.circuit.library import EfficientSU2"
   ]
  },
  {
   "cell_type": "code",
   "execution_count": 2,
   "id": "4e5b37cf-6138-4a82-be63-c7d8cc2eaad4",
   "metadata": {
    "execution": {
     "iopub.execute_input": "2025-07-31T01:16:35.081411Z",
     "iopub.status.busy": "2025-07-31T01:16:35.080443Z",
     "iopub.status.idle": "2025-07-31T01:16:35.092538Z",
     "shell.execute_reply": "2025-07-31T01:16:35.091139Z"
    },
    "papermill": {
     "duration": 0.035412,
     "end_time": "2025-07-31T01:16:35.095068",
     "exception": false,
     "start_time": "2025-07-31T01:16:35.059656",
     "status": "completed"
    },
    "tags": []
   },
   "outputs": [
    {
     "data": {
      "text/plain": [
       "'0.7.2'"
      ]
     },
     "execution_count": 2,
     "metadata": {},
     "output_type": "execute_result"
    }
   ],
   "source": [
    "import qiskit_nature\n",
    "qiskit_nature.__version__"
   ]
  },
  {
   "cell_type": "code",
   "execution_count": 3,
   "id": "ba910acd",
   "metadata": {
    "execution": {
     "iopub.execute_input": "2025-07-31T01:16:35.126620Z",
     "iopub.status.busy": "2025-07-31T01:16:35.125821Z",
     "iopub.status.idle": "2025-07-31T01:16:35.131492Z",
     "shell.execute_reply": "2025-07-31T01:16:35.129737Z"
    },
    "papermill": {
     "duration": 0.031073,
     "end_time": "2025-07-31T01:16:35.133360",
     "exception": false,
     "start_time": "2025-07-31T01:16:35.102287",
     "status": "completed"
    },
    "slideshow": {
     "slide_type": ""
    },
    "tags": [
     "parameters"
    ]
   },
   "outputs": [],
   "source": [
    "BL = 0.6"
   ]
  },
  {
   "cell_type": "code",
   "execution_count": 4,
   "id": "90dfd5bd",
   "metadata": {
    "execution": {
     "iopub.execute_input": "2025-07-31T01:16:35.169248Z",
     "iopub.status.busy": "2025-07-31T01:16:35.168428Z",
     "iopub.status.idle": "2025-07-31T01:16:35.172407Z",
     "shell.execute_reply": "2025-07-31T01:16:35.171577Z"
    },
    "papermill": {
     "duration": 0.02848,
     "end_time": "2025-07-31T01:16:35.173793",
     "exception": false,
     "start_time": "2025-07-31T01:16:35.145313",
     "status": "completed"
    },
    "tags": [
     "injected-parameters"
    ]
   },
   "outputs": [],
   "source": [
    "# Parameters\n",
    "BL = 2.3\n"
   ]
  },
  {
   "cell_type": "markdown",
   "id": "7e24e37e",
   "metadata": {
    "papermill": {
     "duration": 0.018026,
     "end_time": "2025-07-31T01:16:35.202511",
     "exception": false,
     "start_time": "2025-07-31T01:16:35.184485",
     "status": "completed"
    },
    "tags": []
   },
   "source": [
    "### 1 Construct the Hamiltonian"
   ]
  },
  {
   "cell_type": "markdown",
   "id": "7b0ce8eb",
   "metadata": {
    "papermill": {
     "duration": 0.018279,
     "end_time": "2025-07-31T01:16:35.237761",
     "exception": false,
     "start_time": "2025-07-31T01:16:35.219482",
     "status": "completed"
    },
    "tags": []
   },
   "source": [
    "Helper function to construct the Hamiltonian represented as a Pauli decomposition stored in `qubit_op`, while also returning the `nuclear_repulsion_energy` and `core_electron_energy`."
   ]
  },
  {
   "cell_type": "code",
   "execution_count": 5,
   "id": "abd75003",
   "metadata": {
    "execution": {
     "iopub.execute_input": "2025-07-31T01:16:35.275159Z",
     "iopub.status.busy": "2025-07-31T01:16:35.274611Z",
     "iopub.status.idle": "2025-07-31T01:16:35.281415Z",
     "shell.execute_reply": "2025-07-31T01:16:35.280606Z"
    },
    "papermill": {
     "duration": 0.027416,
     "end_time": "2025-07-31T01:16:35.283527",
     "exception": false,
     "start_time": "2025-07-31T01:16:35.256111",
     "status": "completed"
    },
    "slideshow": {
     "slide_type": ""
    },
    "tags": []
   },
   "outputs": [],
   "source": [
    "def get_qubit_op(BL):\n",
    "    molecule = MoleculeInfo(\n",
    "        symbols=[\"H\", \"H\"],\n",
    "        coords=([0.0, 0.0, 0.0], [BL, 0.0, 0.0]),\n",
    "        multiplicity=1,\n",
    "        charge=0,\n",
    "    )\n",
    "\n",
    "    driver = PySCFDriver.from_molecule(molecule)\n",
    "    properties = driver.run()\n",
    "\n",
    "    problem = FreezeCoreTransformer(\n",
    "        freeze_core=True, remove_orbitals=[-3, -2]\n",
    "    ).transform(properties)\n",
    "\n",
    "    # Get the fermionic Hamiltonian (first element)\n",
    "    fermionic_op, _ = problem.second_q_ops()\n",
    "\n",
    "    num_particles = problem.num_particles\n",
    "    num_spatial_orbitals = problem.num_spatial_orbitals\n",
    "\n",
    "    # Use Jordan-Wigner (no tapering)\n",
    "    mapper = JordanWignerMapper()\n",
    "    qubit_op = mapper.map(fermionic_op)\n",
    "    # converter = QubitConverter(mapper=mapper)\n",
    "    # qubit_op = converter.convert(fermionic_op, num_particles=num_particles)\n",
    "\n",
    "    core_electron_energy = problem.hamiltonian.constants[\"FreezeCoreTransformer\"]\n",
    "    nuclear_repulsion_energy = problem.nuclear_repulsion_energy\n",
    "\n",
    "    return (\n",
    "        qubit_op,\n",
    "        num_particles,\n",
    "        num_spatial_orbitals,\n",
    "        problem,\n",
    "        mapper,\n",
    "        nuclear_repulsion_energy,\n",
    "        core_electron_energy,\n",
    "    )\n"
   ]
  },
  {
   "cell_type": "code",
   "execution_count": 6,
   "id": "7caf8b94",
   "metadata": {
    "execution": {
     "iopub.execute_input": "2025-07-31T01:16:35.309679Z",
     "iopub.status.busy": "2025-07-31T01:16:35.309225Z",
     "iopub.status.idle": "2025-07-31T01:16:35.486706Z",
     "shell.execute_reply": "2025-07-31T01:16:35.485821Z"
    },
    "papermill": {
     "duration": 0.196103,
     "end_time": "2025-07-31T01:16:35.488338",
     "exception": false,
     "start_time": "2025-07-31T01:16:35.292235",
     "status": "completed"
    },
    "tags": []
   },
   "outputs": [],
   "source": [
    "(qubit_op, num_particles, num_spatial_orbitals, problem, mapper,nuclear_repulsion_energy, core_electron_energy) = get_qubit_op(BL)"
   ]
  },
  {
   "cell_type": "code",
   "execution_count": 7,
   "id": "8e954660",
   "metadata": {
    "execution": {
     "iopub.execute_input": "2025-07-31T01:16:35.514729Z",
     "iopub.status.busy": "2025-07-31T01:16:35.513780Z",
     "iopub.status.idle": "2025-07-31T01:16:35.520258Z",
     "shell.execute_reply": "2025-07-31T01:16:35.519330Z"
    },
    "papermill": {
     "duration": 0.026184,
     "end_time": "2025-07-31T01:16:35.521505",
     "exception": false,
     "start_time": "2025-07-31T01:16:35.495321",
     "status": "completed"
    },
    "tags": []
   },
   "outputs": [
    {
     "data": {
      "text/plain": [
       "SparsePauliOp(['IIII', 'IIIZ', 'IIZI', 'IZII', 'ZIII', 'IIZZ', 'IZIZ', 'ZIIZ', 'YYYY', 'XXYY', 'YYXX', 'XXXX', 'IZZI', 'ZIZI', 'ZZII'],\n",
       "              coeffs=[-0.77144776+0.j,  0.05742184+0.j,  0.01971784+0.j,  0.05742184+0.j,\n",
       "  0.01971784+0.j,  0.05712012+0.j,  0.12340149+0.j,  0.12556563+0.j,\n",
       "  0.06844551+0.j,  0.06844551+0.j,  0.06844551+0.j,  0.06844551+0.j,\n",
       "  0.12556563+0.j,  0.12839541+0.j,  0.05712012+0.j])"
      ]
     },
     "execution_count": 7,
     "metadata": {},
     "output_type": "execute_result"
    }
   ],
   "source": [
    "qubit_op"
   ]
  },
  {
   "cell_type": "code",
   "execution_count": 8,
   "id": "8e03d926",
   "metadata": {
    "execution": {
     "iopub.execute_input": "2025-07-31T01:16:35.545143Z",
     "iopub.status.busy": "2025-07-31T01:16:35.544573Z",
     "iopub.status.idle": "2025-07-31T01:16:35.561020Z",
     "shell.execute_reply": "2025-07-31T01:16:35.560072Z"
    },
    "papermill": {
     "duration": 0.033649,
     "end_time": "2025-07-31T01:16:35.562738",
     "exception": false,
     "start_time": "2025-07-31T01:16:35.529089",
     "status": "completed"
    },
    "tags": []
   },
   "outputs": [],
   "source": [
    "# Extract terms and coefficients\n",
    "pauli_list = list(zip(qubit_op.paulis, qubit_op.coeffs))\n",
    "\n",
    "# Sort terms by absolute coefficient magnitude (largest first)\n",
    "sorted_pauli_list = sorted(pauli_list, key=lambda x: abs(x[1]), reverse=True)\n",
    "\n",
    "# Print sorted terms\n",
    "# for pauli, coef in sorted_pauli_list:\n",
    "#     print(f\"Pauli: {pauli}, Coefficient: {coef}\")\n",
    "\n",
    "# Save the list\n",
    "with open(\"sorted_pauli_list.pkl\", \"wb\") as f:\n",
    "    dill.dump(sorted_pauli_list, f)"
   ]
  },
  {
   "cell_type": "code",
   "execution_count": 9,
   "id": "09a22634",
   "metadata": {
    "execution": {
     "iopub.execute_input": "2025-07-31T01:16:35.588407Z",
     "iopub.status.busy": "2025-07-31T01:16:35.587022Z",
     "iopub.status.idle": "2025-07-31T01:16:35.595524Z",
     "shell.execute_reply": "2025-07-31T01:16:35.594592Z"
    },
    "papermill": {
     "duration": 0.026021,
     "end_time": "2025-07-31T01:16:35.597214",
     "exception": false,
     "start_time": "2025-07-31T01:16:35.571193",
     "status": "completed"
    },
    "tags": []
   },
   "outputs": [],
   "source": [
    "dd = np.real(min(np.linalg.eigvals(qubit_op.to_matrix())))"
   ]
  },
  {
   "cell_type": "markdown",
   "id": "a33105fe",
   "metadata": {
    "papermill": {
     "duration": 0.014738,
     "end_time": "2025-07-31T01:16:35.618713",
     "exception": false,
     "start_time": "2025-07-31T01:16:35.603975",
     "status": "completed"
    },
    "tags": []
   },
   "source": [
    "### 2 Perform VQE"
   ]
  },
  {
   "cell_type": "markdown",
   "id": "f6c1ff85",
   "metadata": {
    "papermill": {
     "duration": 0.013936,
     "end_time": "2025-07-31T01:16:35.647223",
     "exception": false,
     "start_time": "2025-07-31T01:16:35.633287",
     "status": "completed"
    },
    "tags": []
   },
   "source": [
    "Define a class to perform VQE."
   ]
  },
  {
   "cell_type": "code",
   "execution_count": 10,
   "id": "7f12ba1d",
   "metadata": {
    "execution": {
     "iopub.execute_input": "2025-07-31T01:16:35.677475Z",
     "iopub.status.busy": "2025-07-31T01:16:35.676310Z",
     "iopub.status.idle": "2025-07-31T01:16:35.684227Z",
     "shell.execute_reply": "2025-07-31T01:16:35.683087Z"
    },
    "papermill": {
     "duration": 0.023583,
     "end_time": "2025-07-31T01:16:35.685527",
     "exception": false,
     "start_time": "2025-07-31T01:16:35.661944",
     "status": "completed"
    },
    "tags": []
   },
   "outputs": [],
   "source": [
    "# Define the custom VQE\n",
    "class CustomVQE:\n",
    "    def __init__(self, estimator, ansatz, optimizer, qubit_op, dd, NREplusCEE, custom_function, initial_point=None):\n",
    "        self.estimator = estimator\n",
    "        self.ansatz = ansatz\n",
    "        self.optimizer = optimizer\n",
    "        self.qubit_op = qubit_op\n",
    "        self.NREplusCEE = NREplusCEE\n",
    "        self.dd = dd\n",
    "        self.custom_function = custom_function\n",
    "        self.initial_point = initial_point  or [0] * ansatz.num_parameters\n",
    "\n",
    "    def compute_minimum_eigenvalue(self):\n",
    "        # Define the function to minimize\n",
    "        def objective_function(params):\n",
    "            # Evaluate the expectation value of the qubit operator\n",
    "            expectation = self.estimator.run([self.ansatz], [self.qubit_op], [params]).result().values[0]\n",
    "            # Evaluate the custom objective function\n",
    "            return self.custom_function(expectation, params)\n",
    "\n",
    "        # Use the `minimize` method for optimization\n",
    "        opt_result = self.optimizer.minimize(\n",
    "            fun=objective_function,\n",
    "            x0=self.initial_point\n",
    "        )\n",
    "\n",
    "        result = {\n",
    "            'x': [float(value) for value in opt_result.x],\n",
    "            'fun': opt_result.fun,\n",
    "            'dd': self.dd,\n",
    "            'NREplusCEE': self.NREplusCEE\n",
    "        }\n",
    "\n",
    "        \n",
    "        return result\n"
   ]
  },
  {
   "cell_type": "code",
   "execution_count": 11,
   "id": "d499d53b",
   "metadata": {
    "execution": {
     "iopub.execute_input": "2025-07-31T01:16:35.711862Z",
     "iopub.status.busy": "2025-07-31T01:16:35.711339Z",
     "iopub.status.idle": "2025-07-31T01:16:35.716009Z",
     "shell.execute_reply": "2025-07-31T01:16:35.714568Z"
    },
    "papermill": {
     "duration": 0.023712,
     "end_time": "2025-07-31T01:16:35.717836",
     "exception": false,
     "start_time": "2025-07-31T01:16:35.694124",
     "status": "completed"
    },
    "tags": []
   },
   "outputs": [],
   "source": [
    "# l=12 and maxiter = 200 works for LiH and HF"
   ]
  },
  {
   "cell_type": "code",
   "execution_count": 12,
   "id": "868ad712",
   "metadata": {
    "execution": {
     "iopub.execute_input": "2025-07-31T01:16:35.747106Z",
     "iopub.status.busy": "2025-07-31T01:16:35.746561Z",
     "iopub.status.idle": "2025-07-31T01:16:35.762450Z",
     "shell.execute_reply": "2025-07-31T01:16:35.760849Z"
    },
    "papermill": {
     "duration": 0.040422,
     "end_time": "2025-07-31T01:16:35.765574",
     "exception": false,
     "start_time": "2025-07-31T01:16:35.725152",
     "status": "completed"
    },
    "tags": []
   },
   "outputs": [],
   "source": [
    "optimizer = SLSQP(maxiter=300)\n",
    "noiseless_estimator = Estimator(approximation=True)\n",
    "\n",
    "\n",
    "# Define ansatz\n",
    "var_form = EfficientSU2(qubit_op.num_qubits, reps=12, entanglement='full', skip_unentangled_qubits=False, parameter_prefix='a')\n",
    "\n",
    "\n",
    "# Example Custom Objective Function\n",
    "def custom_objective_function(expectation_value, parameters):\n",
    "    # penalty_term = 0.1 * sum(param**2 for param in parameters)  # Example regularization\n",
    "    return expectation_value \n",
    "\n",
    "\n",
    "# Create an instance of CustomVQE\n",
    "custom_vqe = CustomVQE(\n",
    "    estimator=noiseless_estimator,\n",
    "    ansatz=var_form,\n",
    "    optimizer=optimizer,\n",
    "    qubit_op=qubit_op,\n",
    "    dd = dd,\n",
    "    NREplusCEE = nuclear_repulsion_energy + core_electron_energy,\n",
    "    custom_function=custom_objective_function,\n",
    "    initial_point = list(np.random.uniform(-np.pi, np.pi, var_form.num_parameters))\n",
    ")\n"
   ]
  },
  {
   "cell_type": "code",
   "execution_count": 13,
   "id": "a23a50b5",
   "metadata": {
    "execution": {
     "iopub.execute_input": "2025-07-31T01:16:35.792777Z",
     "iopub.status.busy": "2025-07-31T01:16:35.792120Z",
     "iopub.status.idle": "2025-07-31T01:17:15.981621Z",
     "shell.execute_reply": "2025-07-31T01:17:15.980338Z"
    },
    "papermill": {
     "duration": 40.209075,
     "end_time": "2025-07-31T01:17:15.983715",
     "exception": false,
     "start_time": "2025-07-31T01:16:35.774640",
     "status": "completed"
    },
    "tags": []
   },
   "outputs": [],
   "source": [
    "vqe_result = custom_vqe.compute_minimum_eigenvalue()"
   ]
  },
  {
   "cell_type": "code",
   "execution_count": 14,
   "id": "c35ff26f-7516-49ca-a32d-dffdbcea7725",
   "metadata": {
    "execution": {
     "iopub.execute_input": "2025-07-31T01:17:16.022668Z",
     "iopub.status.busy": "2025-07-31T01:17:16.021497Z",
     "iopub.status.idle": "2025-07-31T01:17:16.031844Z",
     "shell.execute_reply": "2025-07-31T01:17:16.030595Z"
    },
    "papermill": {
     "duration": 0.04017,
     "end_time": "2025-07-31T01:17:16.034608",
     "exception": false,
     "start_time": "2025-07-31T01:17:15.994438",
     "status": "completed"
    },
    "tags": []
   },
   "outputs": [
    {
     "data": {
      "text/plain": [
       "{'x': [2.4494914038017517,\n",
       "  -0.9872449286348716,\n",
       "  -0.19587048228751125,\n",
       "  -0.31298723827227215,\n",
       "  -2.4159194454219617,\n",
       "  2.897066860762631,\n",
       "  3.008806153693453,\n",
       "  2.2560721858003467,\n",
       "  -0.33850444311187733,\n",
       "  -0.19075980129325518,\n",
       "  2.7381680448596657,\n",
       "  0.4044244503941226,\n",
       "  1.0982511007825964,\n",
       "  -2.6472541579604743,\n",
       "  -0.483958660805127,\n",
       "  -0.06224483941344957,\n",
       "  -1.6962063138813634,\n",
       "  -0.02923819660214885,\n",
       "  0.437250537937836,\n",
       "  0.7370048817118632,\n",
       "  -2.906114332884219,\n",
       "  -2.1580095163828985,\n",
       "  1.1004420715781074,\n",
       "  -2.9998189251206724,\n",
       "  -1.6550689926220896,\n",
       "  1.9347840808385475,\n",
       "  1.977273520842925,\n",
       "  1.2564646419247039,\n",
       "  1.1769354175478663,\n",
       "  -2.470864595098285,\n",
       "  -1.8078521040334803,\n",
       "  -2.5356004266014915,\n",
       "  1.6333509792901462,\n",
       "  -1.844585222543885,\n",
       "  3.011079489785946,\n",
       "  1.1147402398037238,\n",
       "  -0.3315982473934225,\n",
       "  -1.9973054496639866,\n",
       "  -1.4300639230978685,\n",
       "  1.2335699126511985,\n",
       "  -1.014240172670687,\n",
       "  0.47433773279507313,\n",
       "  1.3522456263288363,\n",
       "  -1.6758661448668384,\n",
       "  -1.7054059087372515,\n",
       "  2.7000021256801543,\n",
       "  1.1613571439392294,\n",
       "  0.5859410247643521,\n",
       "  1.047138892926718,\n",
       "  -2.227915482243998,\n",
       "  2.6947309507174304,\n",
       "  -2.9430570525436623,\n",
       "  3.1369710203503733,\n",
       "  -0.6859256779029478,\n",
       "  1.0127635725074162,\n",
       "  0.09138184597209154,\n",
       "  -3.2308373875129535,\n",
       "  2.761056209022203,\n",
       "  -2.1531616578311503,\n",
       "  -0.6815436959110356,\n",
       "  -0.1729069953705457,\n",
       "  3.0531589265670394,\n",
       "  -1.8722214098293057,\n",
       "  3.0883115309857265,\n",
       "  2.1506909595841868,\n",
       "  -0.42425938575781286,\n",
       "  -2.559820362127618,\n",
       "  2.1579258384190725,\n",
       "  -0.515054131571068,\n",
       "  0.9309543604860171,\n",
       "  -1.0449628296320053,\n",
       "  1.167251161809324,\n",
       "  -2.563499339365198,\n",
       "  1.061828690527665,\n",
       "  1.0160348248241677,\n",
       "  1.9430625754377877,\n",
       "  -0.708003318125565,\n",
       "  -0.801946845794922,\n",
       "  1.4891684761314832,\n",
       "  0.4747100164244744,\n",
       "  -1.9856002811780664,\n",
       "  -1.625521855202811,\n",
       "  0.6894045388911823,\n",
       "  -1.4193966377442762,\n",
       "  -2.458083212155568,\n",
       "  -1.7993708408432134,\n",
       "  0.413531089742518,\n",
       "  -1.843419777358248,\n",
       "  -1.1889492907587131,\n",
       "  -1.5220757857257623,\n",
       "  1.7303371816273418,\n",
       "  2.192886858332028,\n",
       "  2.9597324284969906,\n",
       "  -2.346008402614445,\n",
       "  1.7445799953468115,\n",
       "  -1.9664410450755239,\n",
       "  2.778549855917852,\n",
       "  2.2771787998138633,\n",
       "  -0.3281237490217904,\n",
       "  0.34724862014850705,\n",
       "  1.7408123982841914,\n",
       "  -2.5727854796620853,\n",
       "  1.1469463730386105,\n",
       "  2.118689117734931],\n",
       " 'fun': np.float64(-1.1689884392232608),\n",
       " 'dd': np.float64(-1.1689994342133618),\n",
       " 'NREplusCEE': np.float64(0.23007704822608702)}"
      ]
     },
     "execution_count": 14,
     "metadata": {},
     "output_type": "execute_result"
    }
   ],
   "source": [
    "vqe_result"
   ]
  },
  {
   "cell_type": "code",
   "execution_count": 15,
   "id": "17f49028",
   "metadata": {
    "execution": {
     "iopub.execute_input": "2025-07-31T01:17:16.061944Z",
     "iopub.status.busy": "2025-07-31T01:17:16.061290Z",
     "iopub.status.idle": "2025-07-31T01:17:16.070840Z",
     "shell.execute_reply": "2025-07-31T01:17:16.069752Z"
    },
    "papermill": {
     "duration": 0.029806,
     "end_time": "2025-07-31T01:17:16.072321",
     "exception": false,
     "start_time": "2025-07-31T01:17:16.042515",
     "status": "completed"
    },
    "tags": []
   },
   "outputs": [
    {
     "data": {
      "text/plain": [
       "104"
      ]
     },
     "execution_count": 15,
     "metadata": {},
     "output_type": "execute_result"
    }
   ],
   "source": [
    "len(vqe_result['x'])"
   ]
  },
  {
   "cell_type": "code",
   "execution_count": 16,
   "id": "9ff78507",
   "metadata": {
    "execution": {
     "iopub.execute_input": "2025-07-31T01:17:16.098989Z",
     "iopub.status.busy": "2025-07-31T01:17:16.098234Z",
     "iopub.status.idle": "2025-07-31T01:17:16.104013Z",
     "shell.execute_reply": "2025-07-31T01:17:16.103029Z"
    },
    "papermill": {
     "duration": 0.025909,
     "end_time": "2025-07-31T01:17:16.105431",
     "exception": false,
     "start_time": "2025-07-31T01:17:16.079522",
     "status": "completed"
    },
    "tags": []
   },
   "outputs": [
    {
     "name": "stdout",
     "output_type": "stream",
     "text": [
      "1.09949901010431e-05\n"
     ]
    }
   ],
   "source": [
    "print(vqe_result['fun'] - vqe_result['dd'])"
   ]
  },
  {
   "cell_type": "code",
   "execution_count": 17,
   "id": "7424dae1",
   "metadata": {
    "execution": {
     "iopub.execute_input": "2025-07-31T01:17:16.134485Z",
     "iopub.status.busy": "2025-07-31T01:17:16.133932Z",
     "iopub.status.idle": "2025-07-31T01:17:16.142194Z",
     "shell.execute_reply": "2025-07-31T01:17:16.141189Z"
    },
    "papermill": {
     "duration": 0.02888,
     "end_time": "2025-07-31T01:17:16.143821",
     "exception": false,
     "start_time": "2025-07-31T01:17:16.114941",
     "status": "completed"
    },
    "tags": []
   },
   "outputs": [],
   "source": [
    "with open(\"vqe_result.pkl\", \"wb\") as f:\n",
    "    dill.dump(vqe_result, f)"
   ]
  }
 ],
 "metadata": {
  "kernelspec": {
   "display_name": "Python 3 (ipykernel)",
   "language": "python",
   "name": "python3"
  },
  "language_info": {
   "codemirror_mode": {
    "name": "ipython",
    "version": 3
   },
   "file_extension": ".py",
   "mimetype": "text/x-python",
   "name": "python",
   "nbconvert_exporter": "python",
   "pygments_lexer": "ipython3",
   "version": "3.10.15"
  },
  "papermill": {
   "default_parameters": {},
   "duration": 44.543245,
   "end_time": "2025-07-31T01:17:17.074759",
   "environment_variables": {},
   "exception": null,
   "input_path": "vqe.ipynb",
   "output_path": "/usr/src/app/SoleyGroup/lab_data/Notebooks/Statistics/Corrected_plots/New_H2/BondLengths/processing_BL_2p30000/vqe.ipynb",
   "parameters": {
    "BL": 2.3
   },
   "start_time": "2025-07-31T01:16:32.531514",
   "version": "2.6.0"
  }
 },
 "nbformat": 4,
 "nbformat_minor": 5
}