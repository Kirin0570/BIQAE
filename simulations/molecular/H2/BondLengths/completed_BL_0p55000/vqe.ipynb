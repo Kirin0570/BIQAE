{
 "cells": [
  {
   "cell_type": "code",
   "execution_count": 1,
   "id": "0a2ba924",
   "metadata": {
    "execution": {
     "iopub.execute_input": "2025-07-31T01:13:43.553606Z",
     "iopub.status.busy": "2025-07-31T01:13:43.553039Z",
     "iopub.status.idle": "2025-07-31T01:13:45.244010Z",
     "shell.execute_reply": "2025-07-31T01:13:45.243174Z"
    },
    "papermill": {
     "duration": 1.701558,
     "end_time": "2025-07-31T01:13:45.245837",
     "exception": false,
     "start_time": "2025-07-31T01:13:43.544279",
     "status": "completed"
    },
    "tags": []
   },
   "outputs": [],
   "source": [
    "from qiskit_nature.second_q.formats.molecule_info import MoleculeInfo\n",
    "from qiskit_nature.second_q.drivers import PySCFDriver\n",
    "from qiskit_nature.second_q.transformers import FreezeCoreTransformer\n",
    "from qiskit_nature.second_q.mappers import ParityMapper, JordanWignerMapper\n",
    "import dill\n",
    "import numpy as np\n",
    "from qiskit_algorithms.optimizers import SPSA, SLSQP, COBYLA\n",
    "from qiskit_aer.primitives import Estimator\n",
    "from qiskit_nature.second_q.circuit.library import HartreeFock\n",
    "from qiskit.circuit.library import EfficientSU2"
   ]
  },
  {
   "cell_type": "code",
   "execution_count": 2,
   "id": "4e5b37cf-6138-4a82-be63-c7d8cc2eaad4",
   "metadata": {
    "execution": {
     "iopub.execute_input": "2025-07-31T01:13:45.278259Z",
     "iopub.status.busy": "2025-07-31T01:13:45.277333Z",
     "iopub.status.idle": "2025-07-31T01:13:45.286367Z",
     "shell.execute_reply": "2025-07-31T01:13:45.285198Z"
    },
    "papermill": {
     "duration": 0.034311,
     "end_time": "2025-07-31T01:13:45.288366",
     "exception": false,
     "start_time": "2025-07-31T01:13:45.254055",
     "status": "completed"
    },
    "tags": []
   },
   "outputs": [
    {
     "data": {
      "text/plain": [
       "'0.7.2'"
      ]
     },
     "execution_count": 2,
     "metadata": {},
     "output_type": "execute_result"
    }
   ],
   "source": [
    "import qiskit_nature\n",
    "qiskit_nature.__version__"
   ]
  },
  {
   "cell_type": "code",
   "execution_count": 3,
   "id": "ba910acd",
   "metadata": {
    "execution": {
     "iopub.execute_input": "2025-07-31T01:13:45.322638Z",
     "iopub.status.busy": "2025-07-31T01:13:45.322104Z",
     "iopub.status.idle": "2025-07-31T01:13:45.327235Z",
     "shell.execute_reply": "2025-07-31T01:13:45.326026Z"
    },
    "papermill": {
     "duration": 0.031225,
     "end_time": "2025-07-31T01:13:45.329065",
     "exception": false,
     "start_time": "2025-07-31T01:13:45.297840",
     "status": "completed"
    },
    "slideshow": {
     "slide_type": ""
    },
    "tags": [
     "parameters"
    ]
   },
   "outputs": [],
   "source": [
    "BL = 0.6"
   ]
  },
  {
   "cell_type": "code",
   "execution_count": 4,
   "id": "c8ba17e2",
   "metadata": {
    "execution": {
     "iopub.execute_input": "2025-07-31T01:13:45.357068Z",
     "iopub.status.busy": "2025-07-31T01:13:45.355985Z",
     "iopub.status.idle": "2025-07-31T01:13:45.361483Z",
     "shell.execute_reply": "2025-07-31T01:13:45.359915Z"
    },
    "papermill": {
     "duration": 0.026916,
     "end_time": "2025-07-31T01:13:45.363755",
     "exception": false,
     "start_time": "2025-07-31T01:13:45.336839",
     "status": "completed"
    },
    "tags": [
     "injected-parameters"
    ]
   },
   "outputs": [],
   "source": [
    "# Parameters\n",
    "BL = 0.55\n"
   ]
  },
  {
   "cell_type": "markdown",
   "id": "7e24e37e",
   "metadata": {
    "papermill": {
     "duration": 0.016477,
     "end_time": "2025-07-31T01:13:45.389833",
     "exception": false,
     "start_time": "2025-07-31T01:13:45.373356",
     "status": "completed"
    },
    "tags": []
   },
   "source": [
    "### 1 Construct the Hamiltonian"
   ]
  },
  {
   "cell_type": "markdown",
   "id": "7b0ce8eb",
   "metadata": {
    "papermill": {
     "duration": 0.014706,
     "end_time": "2025-07-31T01:13:45.423549",
     "exception": false,
     "start_time": "2025-07-31T01:13:45.408843",
     "status": "completed"
    },
    "tags": []
   },
   "source": [
    "Helper function to construct the Hamiltonian represented as a Pauli decomposition stored in `qubit_op`, while also returning the `nuclear_repulsion_energy` and `core_electron_energy`."
   ]
  },
  {
   "cell_type": "code",
   "execution_count": 5,
   "id": "abd75003",
   "metadata": {
    "execution": {
     "iopub.execute_input": "2025-07-31T01:13:45.461767Z",
     "iopub.status.busy": "2025-07-31T01:13:45.461148Z",
     "iopub.status.idle": "2025-07-31T01:13:45.469356Z",
     "shell.execute_reply": "2025-07-31T01:13:45.467406Z"
    },
    "papermill": {
     "duration": 0.032679,
     "end_time": "2025-07-31T01:13:45.471941",
     "exception": false,
     "start_time": "2025-07-31T01:13:45.439262",
     "status": "completed"
    },
    "slideshow": {
     "slide_type": ""
    },
    "tags": []
   },
   "outputs": [],
   "source": [
    "def get_qubit_op(BL):\n",
    "    molecule = MoleculeInfo(\n",
    "        symbols=[\"H\", \"H\"],\n",
    "        coords=([0.0, 0.0, 0.0], [BL, 0.0, 0.0]),\n",
    "        multiplicity=1,\n",
    "        charge=0,\n",
    "    )\n",
    "\n",
    "    driver = PySCFDriver.from_molecule(molecule)\n",
    "    properties = driver.run()\n",
    "\n",
    "    problem = FreezeCoreTransformer(\n",
    "        freeze_core=True, remove_orbitals=[-3, -2]\n",
    "    ).transform(properties)\n",
    "\n",
    "    # Get the fermionic Hamiltonian (first element)\n",
    "    fermionic_op, _ = problem.second_q_ops()\n",
    "\n",
    "    num_particles = problem.num_particles\n",
    "    num_spatial_orbitals = problem.num_spatial_orbitals\n",
    "\n",
    "    # Use Jordan-Wigner (no tapering)\n",
    "    mapper = JordanWignerMapper()\n",
    "    qubit_op = mapper.map(fermionic_op)\n",
    "    # converter = QubitConverter(mapper=mapper)\n",
    "    # qubit_op = converter.convert(fermionic_op, num_particles=num_particles)\n",
    "\n",
    "    core_electron_energy = problem.hamiltonian.constants[\"FreezeCoreTransformer\"]\n",
    "    nuclear_repulsion_energy = problem.nuclear_repulsion_energy\n",
    "\n",
    "    return (\n",
    "        qubit_op,\n",
    "        num_particles,\n",
    "        num_spatial_orbitals,\n",
    "        problem,\n",
    "        mapper,\n",
    "        nuclear_repulsion_energy,\n",
    "        core_electron_energy,\n",
    "    )\n"
   ]
  },
  {
   "cell_type": "code",
   "execution_count": 6,
   "id": "7caf8b94",
   "metadata": {
    "execution": {
     "iopub.execute_input": "2025-07-31T01:13:45.504583Z",
     "iopub.status.busy": "2025-07-31T01:13:45.503503Z",
     "iopub.status.idle": "2025-07-31T01:13:45.695362Z",
     "shell.execute_reply": "2025-07-31T01:13:45.694046Z"
    },
    "papermill": {
     "duration": 0.217064,
     "end_time": "2025-07-31T01:13:45.697328",
     "exception": false,
     "start_time": "2025-07-31T01:13:45.480264",
     "status": "completed"
    },
    "tags": []
   },
   "outputs": [],
   "source": [
    "(qubit_op, num_particles, num_spatial_orbitals, problem, mapper,nuclear_repulsion_energy, core_electron_energy) = get_qubit_op(BL)"
   ]
  },
  {
   "cell_type": "code",
   "execution_count": 7,
   "id": "8e954660",
   "metadata": {
    "execution": {
     "iopub.execute_input": "2025-07-31T01:13:45.722770Z",
     "iopub.status.busy": "2025-07-31T01:13:45.722264Z",
     "iopub.status.idle": "2025-07-31T01:13:45.728580Z",
     "shell.execute_reply": "2025-07-31T01:13:45.727789Z"
    },
    "papermill": {
     "duration": 0.026166,
     "end_time": "2025-07-31T01:13:45.730149",
     "exception": false,
     "start_time": "2025-07-31T01:13:45.703983",
     "status": "completed"
    },
    "tags": []
   },
   "outputs": [
    {
     "data": {
      "text/plain": [
       "SparsePauliOp(['IIII', 'IIIZ', 'IIZI', 'IIZZ', 'IZII', 'IZIZ', 'ZIII', 'ZIIZ', 'YYYY', 'XXYY', 'YYXX', 'XXXX', 'IZZI', 'ZIZI', 'ZZII'],\n",
       "              coeffs=[-0.71713387+0.j,  0.20410662+0.j, -0.33238216+0.j,  0.13169001+0.j,\n",
       "  0.20410662+0.j,  0.17765708+0.j, -0.33238216+0.j,  0.17450114+0.j,\n",
       "  0.04281113+0.j,  0.04281113+0.j,  0.04281113+0.j,  0.04281113+0.j,\n",
       "  0.17450114+0.j,  0.18364556+0.j,  0.13169001+0.j])"
      ]
     },
     "execution_count": 7,
     "metadata": {},
     "output_type": "execute_result"
    }
   ],
   "source": [
    "qubit_op"
   ]
  },
  {
   "cell_type": "code",
   "execution_count": 8,
   "id": "8e03d926",
   "metadata": {
    "execution": {
     "iopub.execute_input": "2025-07-31T01:13:45.755361Z",
     "iopub.status.busy": "2025-07-31T01:13:45.754598Z",
     "iopub.status.idle": "2025-07-31T01:13:45.770973Z",
     "shell.execute_reply": "2025-07-31T01:13:45.770123Z"
    },
    "papermill": {
     "duration": 0.035387,
     "end_time": "2025-07-31T01:13:45.772742",
     "exception": false,
     "start_time": "2025-07-31T01:13:45.737355",
     "status": "completed"
    },
    "tags": []
   },
   "outputs": [],
   "source": [
    "# Extract terms and coefficients\n",
    "pauli_list = list(zip(qubit_op.paulis, qubit_op.coeffs))\n",
    "\n",
    "# Sort terms by absolute coefficient magnitude (largest first)\n",
    "sorted_pauli_list = sorted(pauli_list, key=lambda x: abs(x[1]), reverse=True)\n",
    "\n",
    "# Print sorted terms\n",
    "# for pauli, coef in sorted_pauli_list:\n",
    "#     print(f\"Pauli: {pauli}, Coefficient: {coef}\")\n",
    "\n",
    "# Save the list\n",
    "with open(\"sorted_pauli_list.pkl\", \"wb\") as f:\n",
    "    dill.dump(sorted_pauli_list, f)"
   ]
  },
  {
   "cell_type": "code",
   "execution_count": 9,
   "id": "09a22634",
   "metadata": {
    "execution": {
     "iopub.execute_input": "2025-07-31T01:13:45.798472Z",
     "iopub.status.busy": "2025-07-31T01:13:45.797905Z",
     "iopub.status.idle": "2025-07-31T01:13:45.808068Z",
     "shell.execute_reply": "2025-07-31T01:13:45.806501Z"
    },
    "papermill": {
     "duration": 0.029279,
     "end_time": "2025-07-31T01:13:45.810191",
     "exception": false,
     "start_time": "2025-07-31T01:13:45.780912",
     "status": "completed"
    },
    "tags": []
   },
   "outputs": [],
   "source": [
    "dd = np.real(min(np.linalg.eigvals(qubit_op.to_matrix())))"
   ]
  },
  {
   "cell_type": "markdown",
   "id": "a33105fe",
   "metadata": {
    "papermill": {
     "duration": 0.014665,
     "end_time": "2025-07-31T01:13:45.832500",
     "exception": false,
     "start_time": "2025-07-31T01:13:45.817835",
     "status": "completed"
    },
    "tags": []
   },
   "source": [
    "### 2 Perform VQE"
   ]
  },
  {
   "cell_type": "markdown",
   "id": "f6c1ff85",
   "metadata": {
    "papermill": {
     "duration": 0.014288,
     "end_time": "2025-07-31T01:13:45.862529",
     "exception": false,
     "start_time": "2025-07-31T01:13:45.848241",
     "status": "completed"
    },
    "tags": []
   },
   "source": [
    "Define a class to perform VQE."
   ]
  },
  {
   "cell_type": "code",
   "execution_count": 10,
   "id": "7f12ba1d",
   "metadata": {
    "execution": {
     "iopub.execute_input": "2025-07-31T01:13:45.893809Z",
     "iopub.status.busy": "2025-07-31T01:13:45.893095Z",
     "iopub.status.idle": "2025-07-31T01:13:45.901171Z",
     "shell.execute_reply": "2025-07-31T01:13:45.900074Z"
    },
    "papermill": {
     "duration": 0.027323,
     "end_time": "2025-07-31T01:13:45.903716",
     "exception": false,
     "start_time": "2025-07-31T01:13:45.876393",
     "status": "completed"
    },
    "tags": []
   },
   "outputs": [],
   "source": [
    "# Define the custom VQE\n",
    "class CustomVQE:\n",
    "    def __init__(self, estimator, ansatz, optimizer, qubit_op, dd, NREplusCEE, custom_function, initial_point=None):\n",
    "        self.estimator = estimator\n",
    "        self.ansatz = ansatz\n",
    "        self.optimizer = optimizer\n",
    "        self.qubit_op = qubit_op\n",
    "        self.NREplusCEE = NREplusCEE\n",
    "        self.dd = dd\n",
    "        self.custom_function = custom_function\n",
    "        self.initial_point = initial_point  or [0] * ansatz.num_parameters\n",
    "\n",
    "    def compute_minimum_eigenvalue(self):\n",
    "        # Define the function to minimize\n",
    "        def objective_function(params):\n",
    "            # Evaluate the expectation value of the qubit operator\n",
    "            expectation = self.estimator.run([self.ansatz], [self.qubit_op], [params]).result().values[0]\n",
    "            # Evaluate the custom objective function\n",
    "            return self.custom_function(expectation, params)\n",
    "\n",
    "        # Use the `minimize` method for optimization\n",
    "        opt_result = self.optimizer.minimize(\n",
    "            fun=objective_function,\n",
    "            x0=self.initial_point\n",
    "        )\n",
    "\n",
    "        result = {\n",
    "            'x': [float(value) for value in opt_result.x],\n",
    "            'fun': opt_result.fun,\n",
    "            'dd': self.dd,\n",
    "            'NREplusCEE': self.NREplusCEE\n",
    "        }\n",
    "\n",
    "        \n",
    "        return result\n"
   ]
  },
  {
   "cell_type": "code",
   "execution_count": 11,
   "id": "d499d53b",
   "metadata": {
    "execution": {
     "iopub.execute_input": "2025-07-31T01:13:45.930060Z",
     "iopub.status.busy": "2025-07-31T01:13:45.929226Z",
     "iopub.status.idle": "2025-07-31T01:13:45.933297Z",
     "shell.execute_reply": "2025-07-31T01:13:45.932429Z"
    },
    "papermill": {
     "duration": 0.022369,
     "end_time": "2025-07-31T01:13:45.934633",
     "exception": false,
     "start_time": "2025-07-31T01:13:45.912264",
     "status": "completed"
    },
    "tags": []
   },
   "outputs": [],
   "source": [
    "# l=12 and maxiter = 200 works for LiH and HF"
   ]
  },
  {
   "cell_type": "code",
   "execution_count": 12,
   "id": "868ad712",
   "metadata": {
    "execution": {
     "iopub.execute_input": "2025-07-31T01:13:45.960139Z",
     "iopub.status.busy": "2025-07-31T01:13:45.959575Z",
     "iopub.status.idle": "2025-07-31T01:13:45.975371Z",
     "shell.execute_reply": "2025-07-31T01:13:45.974473Z"
    },
    "papermill": {
     "duration": 0.03407,
     "end_time": "2025-07-31T01:13:45.977494",
     "exception": false,
     "start_time": "2025-07-31T01:13:45.943424",
     "status": "completed"
    },
    "tags": []
   },
   "outputs": [],
   "source": [
    "optimizer = SLSQP(maxiter=300)\n",
    "noiseless_estimator = Estimator(approximation=True)\n",
    "\n",
    "\n",
    "# Define ansatz\n",
    "var_form = EfficientSU2(qubit_op.num_qubits, reps=12, entanglement='full', skip_unentangled_qubits=False, parameter_prefix='a')\n",
    "\n",
    "\n",
    "# Example Custom Objective Function\n",
    "def custom_objective_function(expectation_value, parameters):\n",
    "    # penalty_term = 0.1 * sum(param**2 for param in parameters)  # Example regularization\n",
    "    return expectation_value \n",
    "\n",
    "\n",
    "# Create an instance of CustomVQE\n",
    "custom_vqe = CustomVQE(\n",
    "    estimator=noiseless_estimator,\n",
    "    ansatz=var_form,\n",
    "    optimizer=optimizer,\n",
    "    qubit_op=qubit_op,\n",
    "    dd = dd,\n",
    "    NREplusCEE = nuclear_repulsion_energy + core_electron_energy,\n",
    "    custom_function=custom_objective_function,\n",
    "    initial_point = list(np.random.uniform(-np.pi, np.pi, var_form.num_parameters))\n",
    ")\n"
   ]
  },
  {
   "cell_type": "code",
   "execution_count": 13,
   "id": "a23a50b5",
   "metadata": {
    "execution": {
     "iopub.execute_input": "2025-07-31T01:13:46.006028Z",
     "iopub.status.busy": "2025-07-31T01:13:46.005179Z",
     "iopub.status.idle": "2025-07-31T01:14:02.933249Z",
     "shell.execute_reply": "2025-07-31T01:14:02.932243Z"
    },
    "papermill": {
     "duration": 16.948718,
     "end_time": "2025-07-31T01:14:02.934842",
     "exception": false,
     "start_time": "2025-07-31T01:13:45.986124",
     "status": "completed"
    },
    "tags": []
   },
   "outputs": [],
   "source": [
    "vqe_result = custom_vqe.compute_minimum_eigenvalue()"
   ]
  },
  {
   "cell_type": "code",
   "execution_count": 14,
   "id": "c35ff26f-7516-49ca-a32d-dffdbcea7725",
   "metadata": {
    "execution": {
     "iopub.execute_input": "2025-07-31T01:14:02.969562Z",
     "iopub.status.busy": "2025-07-31T01:14:02.965881Z",
     "iopub.status.idle": "2025-07-31T01:14:02.978627Z",
     "shell.execute_reply": "2025-07-31T01:14:02.977768Z"
    },
    "papermill": {
     "duration": 0.036935,
     "end_time": "2025-07-31T01:14:02.980271",
     "exception": false,
     "start_time": "2025-07-31T01:14:02.943336",
     "status": "completed"
    },
    "tags": []
   },
   "outputs": [
    {
     "data": {
      "text/plain": [
       "{'x': [-0.6560739064240207,\n",
       "  -1.3906768265381868,\n",
       "  -2.5033835600205934,\n",
       "  -3.215611722221612,\n",
       "  -0.6168806181389089,\n",
       "  -0.18032781461360214,\n",
       "  2.4459021362697775,\n",
       "  1.3360801745722792,\n",
       "  -0.15222608964423914,\n",
       "  -2.16156799618828,\n",
       "  2.9162460855006613,\n",
       "  1.3981994810959384,\n",
       "  -1.4308519121319734,\n",
       "  -1.0138426059988037,\n",
       "  1.6357485701266647,\n",
       "  -0.3214766792503684,\n",
       "  2.9231107164367383,\n",
       "  1.9464960913553313,\n",
       "  2.113466806838858,\n",
       "  2.0518465495731517,\n",
       "  -0.5737562538349077,\n",
       "  -0.5023267084455382,\n",
       "  0.3429132724269608,\n",
       "  -3.2205023739452305,\n",
       "  1.53408272050988,\n",
       "  2.824990811501249,\n",
       "  -0.8533945428169483,\n",
       "  -2.340818718082973,\n",
       "  1.147300497553946,\n",
       "  -2.218547579707571,\n",
       "  1.9800477450509741,\n",
       "  -0.032319141882782836,\n",
       "  0.6963680942024751,\n",
       "  2.540645877442218,\n",
       "  -2.092191675186334,\n",
       "  0.08954269431793654,\n",
       "  -2.588396533568143,\n",
       "  1.591023871667781,\n",
       "  -0.341232671506232,\n",
       "  -1.7921008474961215,\n",
       "  2.6245394101822224,\n",
       "  2.01773668806295,\n",
       "  -1.4682355795951594,\n",
       "  -2.7411957331144263,\n",
       "  -2.0225084799458815,\n",
       "  -0.08049839388960028,\n",
       "  -0.9763825403988604,\n",
       "  3.256836349173772,\n",
       "  0.43950208636857524,\n",
       "  -1.2990804698590135,\n",
       "  -1.2842906213908898,\n",
       "  2.028092846611319,\n",
       "  -1.9948716902508623,\n",
       "  -2.4279182344190007,\n",
       "  -1.0993018520237654,\n",
       "  -2.651825832472594,\n",
       "  2.2501588117676796,\n",
       "  -1.6016075483925583,\n",
       "  -2.5278813024743374,\n",
       "  0.8678472190067025,\n",
       "  2.871245522282128,\n",
       "  0.6120294418491443,\n",
       "  -2.552178539770685,\n",
       "  1.2078201721981856,\n",
       "  -0.7512094811877542,\n",
       "  -2.221248523138629,\n",
       "  1.076498801394858,\n",
       "  2.513412747035975,\n",
       "  -0.08339933271513622,\n",
       "  1.03951972424184,\n",
       "  -0.5853948771797871,\n",
       "  -2.7340463799444237,\n",
       "  0.3913575672925376,\n",
       "  -0.5326717864423985,\n",
       "  0.4580977726957424,\n",
       "  0.7154958030633121,\n",
       "  1.1039503409967348,\n",
       "  1.9523486036311704,\n",
       "  -0.015246484813637785,\n",
       "  -2.834979404195219,\n",
       "  -0.8469883094211414,\n",
       "  -0.3281550201803605,\n",
       "  2.938686492986167,\n",
       "  1.969716160624531,\n",
       "  0.541611519470356,\n",
       "  -0.9303372797397943,\n",
       "  0.39798042192628347,\n",
       "  2.946167369499803,\n",
       "  -3.157345363148995,\n",
       "  -2.2049018283890334,\n",
       "  -2.5323849032029813,\n",
       "  -0.5312639797888824,\n",
       "  0.8931248473184804,\n",
       "  2.2679634168018206,\n",
       "  -1.1354803962518951,\n",
       "  -1.1466157755378836,\n",
       "  2.40589002694095,\n",
       "  -2.0169110413358067,\n",
       "  -0.6393868976133036,\n",
       "  -0.9746901223999772,\n",
       "  -1.24580220740925,\n",
       "  0.5113401951329207,\n",
       "  0.5267590431530892,\n",
       "  1.0737474835378378],\n",
       " 'fun': np.float64(-2.05476973118231),\n",
       " 'dd': np.float64(-2.0547702902360157),\n",
       " 'NREplusCEE': np.float64(0.962140383490909)}"
      ]
     },
     "execution_count": 14,
     "metadata": {},
     "output_type": "execute_result"
    }
   ],
   "source": [
    "vqe_result"
   ]
  },
  {
   "cell_type": "code",
   "execution_count": 15,
   "id": "17f49028",
   "metadata": {
    "execution": {
     "iopub.execute_input": "2025-07-31T01:14:03.004290Z",
     "iopub.status.busy": "2025-07-31T01:14:03.003413Z",
     "iopub.status.idle": "2025-07-31T01:14:03.009678Z",
     "shell.execute_reply": "2025-07-31T01:14:03.008813Z"
    },
    "papermill": {
     "duration": 0.023639,
     "end_time": "2025-07-31T01:14:03.011352",
     "exception": false,
     "start_time": "2025-07-31T01:14:02.987713",
     "status": "completed"
    },
    "tags": []
   },
   "outputs": [
    {
     "data": {
      "text/plain": [
       "104"
      ]
     },
     "execution_count": 15,
     "metadata": {},
     "output_type": "execute_result"
    }
   ],
   "source": [
    "len(vqe_result['x'])"
   ]
  },
  {
   "cell_type": "code",
   "execution_count": 16,
   "id": "9ff78507",
   "metadata": {
    "execution": {
     "iopub.execute_input": "2025-07-31T01:14:03.035442Z",
     "iopub.status.busy": "2025-07-31T01:14:03.035009Z",
     "iopub.status.idle": "2025-07-31T01:14:03.041155Z",
     "shell.execute_reply": "2025-07-31T01:14:03.039929Z"
    },
    "papermill": {
     "duration": 0.023606,
     "end_time": "2025-07-31T01:14:03.043069",
     "exception": false,
     "start_time": "2025-07-31T01:14:03.019463",
     "status": "completed"
    },
    "tags": []
   },
   "outputs": [
    {
     "name": "stdout",
     "output_type": "stream",
     "text": [
      "5.590537055510936e-07\n"
     ]
    }
   ],
   "source": [
    "print(vqe_result['fun'] - vqe_result['dd'])"
   ]
  },
  {
   "cell_type": "code",
   "execution_count": 17,
   "id": "7424dae1",
   "metadata": {
    "execution": {
     "iopub.execute_input": "2025-07-31T01:14:03.081383Z",
     "iopub.status.busy": "2025-07-31T01:14:03.080439Z",
     "iopub.status.idle": "2025-07-31T01:14:03.090587Z",
     "shell.execute_reply": "2025-07-31T01:14:03.089695Z"
    },
    "papermill": {
     "duration": 0.036048,
     "end_time": "2025-07-31T01:14:03.092830",
     "exception": false,
     "start_time": "2025-07-31T01:14:03.056782",
     "status": "completed"
    },
    "tags": []
   },
   "outputs": [],
   "source": [
    "with open(\"vqe_result.pkl\", \"wb\") as f:\n",
    "    dill.dump(vqe_result, f)"
   ]
  }
 ],
 "metadata": {
  "kernelspec": {
   "display_name": "Python 3 (ipykernel)",
   "language": "python",
   "name": "python3"
  },
  "language_info": {
   "codemirror_mode": {
    "name": "ipython",
    "version": 3
   },
   "file_extension": ".py",
   "mimetype": "text/x-python",
   "name": "python",
   "nbconvert_exporter": "python",
   "pygments_lexer": "ipython3",
   "version": "3.10.15"
  },
  "papermill": {
   "default_parameters": {},
   "duration": 21.081589,
   "end_time": "2025-07-31T01:14:03.828865",
   "environment_variables": {},
   "exception": null,
   "input_path": "vqe.ipynb",
   "output_path": "/usr/src/app/SoleyGroup/lab_data/Notebooks/Statistics/Corrected_plots/New_H2/BondLengths/processing_BL_0p55000/vqe.ipynb",
   "parameters": {
    "BL": 0.55
   },
   "start_time": "2025-07-31T01:13:42.747276",
   "version": "2.6.0"
  }
 },
 "nbformat": 4,
 "nbformat_minor": 5
}