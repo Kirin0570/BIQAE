{
 "cells": [
  {
   "cell_type": "code",
   "execution_count": 1,
   "id": "0a2ba924",
   "metadata": {
    "execution": {
     "iopub.execute_input": "2025-07-31T01:15:49.970265Z",
     "iopub.status.busy": "2025-07-31T01:15:49.969663Z",
     "iopub.status.idle": "2025-07-31T01:15:51.670366Z",
     "shell.execute_reply": "2025-07-31T01:15:51.669378Z"
    },
    "papermill": {
     "duration": 1.712109,
     "end_time": "2025-07-31T01:15:51.671989",
     "exception": false,
     "start_time": "2025-07-31T01:15:49.959880",
     "status": "completed"
    },
    "tags": []
   },
   "outputs": [],
   "source": [
    "from qiskit_nature.second_q.formats.molecule_info import MoleculeInfo\n",
    "from qiskit_nature.second_q.drivers import PySCFDriver\n",
    "from qiskit_nature.second_q.transformers import FreezeCoreTransformer\n",
    "from qiskit_nature.second_q.mappers import ParityMapper, JordanWignerMapper\n",
    "import dill\n",
    "import numpy as np\n",
    "from qiskit_algorithms.optimizers import SPSA, SLSQP, COBYLA\n",
    "from qiskit_aer.primitives import Estimator\n",
    "from qiskit_nature.second_q.circuit.library import HartreeFock\n",
    "from qiskit.circuit.library import EfficientSU2"
   ]
  },
  {
   "cell_type": "code",
   "execution_count": 2,
   "id": "4e5b37cf-6138-4a82-be63-c7d8cc2eaad4",
   "metadata": {
    "execution": {
     "iopub.execute_input": "2025-07-31T01:15:51.707251Z",
     "iopub.status.busy": "2025-07-31T01:15:51.706593Z",
     "iopub.status.idle": "2025-07-31T01:15:51.715976Z",
     "shell.execute_reply": "2025-07-31T01:15:51.714574Z"
    },
    "papermill": {
     "duration": 0.037988,
     "end_time": "2025-07-31T01:15:51.717766",
     "exception": false,
     "start_time": "2025-07-31T01:15:51.679778",
     "status": "completed"
    },
    "tags": []
   },
   "outputs": [
    {
     "data": {
      "text/plain": [
       "'0.7.2'"
      ]
     },
     "execution_count": 2,
     "metadata": {},
     "output_type": "execute_result"
    }
   ],
   "source": [
    "import qiskit_nature\n",
    "qiskit_nature.__version__"
   ]
  },
  {
   "cell_type": "code",
   "execution_count": 3,
   "id": "ba910acd",
   "metadata": {
    "execution": {
     "iopub.execute_input": "2025-07-31T01:15:51.744196Z",
     "iopub.status.busy": "2025-07-31T01:15:51.743690Z",
     "iopub.status.idle": "2025-07-31T01:15:51.748033Z",
     "shell.execute_reply": "2025-07-31T01:15:51.747187Z"
    },
    "papermill": {
     "duration": 0.024778,
     "end_time": "2025-07-31T01:15:51.749806",
     "exception": false,
     "start_time": "2025-07-31T01:15:51.725028",
     "status": "completed"
    },
    "slideshow": {
     "slide_type": ""
    },
    "tags": [
     "parameters"
    ]
   },
   "outputs": [],
   "source": [
    "BL = 0.6"
   ]
  },
  {
   "cell_type": "code",
   "execution_count": 4,
   "id": "6f2bd231",
   "metadata": {
    "execution": {
     "iopub.execute_input": "2025-07-31T01:15:51.786225Z",
     "iopub.status.busy": "2025-07-31T01:15:51.785447Z",
     "iopub.status.idle": "2025-07-31T01:15:51.790268Z",
     "shell.execute_reply": "2025-07-31T01:15:51.789378Z"
    },
    "papermill": {
     "duration": 0.027512,
     "end_time": "2025-07-31T01:15:51.791622",
     "exception": false,
     "start_time": "2025-07-31T01:15:51.764110",
     "status": "completed"
    },
    "tags": [
     "injected-parameters"
    ]
   },
   "outputs": [],
   "source": [
    "# Parameters\n",
    "BL = 1.95\n"
   ]
  },
  {
   "cell_type": "markdown",
   "id": "7e24e37e",
   "metadata": {
    "papermill": {
     "duration": 0.020614,
     "end_time": "2025-07-31T01:15:51.825420",
     "exception": false,
     "start_time": "2025-07-31T01:15:51.804806",
     "status": "completed"
    },
    "tags": []
   },
   "source": [
    "### 1 Construct the Hamiltonian"
   ]
  },
  {
   "cell_type": "markdown",
   "id": "7b0ce8eb",
   "metadata": {
    "papermill": {
     "duration": 0.019196,
     "end_time": "2025-07-31T01:15:51.862671",
     "exception": false,
     "start_time": "2025-07-31T01:15:51.843475",
     "status": "completed"
    },
    "tags": []
   },
   "source": [
    "Helper function to construct the Hamiltonian represented as a Pauli decomposition stored in `qubit_op`, while also returning the `nuclear_repulsion_energy` and `core_electron_energy`."
   ]
  },
  {
   "cell_type": "code",
   "execution_count": 5,
   "id": "abd75003",
   "metadata": {
    "execution": {
     "iopub.execute_input": "2025-07-31T01:15:51.905788Z",
     "iopub.status.busy": "2025-07-31T01:15:51.905164Z",
     "iopub.status.idle": "2025-07-31T01:15:51.912000Z",
     "shell.execute_reply": "2025-07-31T01:15:51.911151Z"
    },
    "papermill": {
     "duration": 0.0327,
     "end_time": "2025-07-31T01:15:51.913322",
     "exception": false,
     "start_time": "2025-07-31T01:15:51.880622",
     "status": "completed"
    },
    "slideshow": {
     "slide_type": ""
    },
    "tags": []
   },
   "outputs": [],
   "source": [
    "def get_qubit_op(BL):\n",
    "    molecule = MoleculeInfo(\n",
    "        symbols=[\"H\", \"H\"],\n",
    "        coords=([0.0, 0.0, 0.0], [BL, 0.0, 0.0]),\n",
    "        multiplicity=1,\n",
    "        charge=0,\n",
    "    )\n",
    "\n",
    "    driver = PySCFDriver.from_molecule(molecule)\n",
    "    properties = driver.run()\n",
    "\n",
    "    problem = FreezeCoreTransformer(\n",
    "        freeze_core=True, remove_orbitals=[-3, -2]\n",
    "    ).transform(properties)\n",
    "\n",
    "    # Get the fermionic Hamiltonian (first element)\n",
    "    fermionic_op, _ = problem.second_q_ops()\n",
    "\n",
    "    num_particles = problem.num_particles\n",
    "    num_spatial_orbitals = problem.num_spatial_orbitals\n",
    "\n",
    "    # Use Jordan-Wigner (no tapering)\n",
    "    mapper = JordanWignerMapper()\n",
    "    qubit_op = mapper.map(fermionic_op)\n",
    "    # converter = QubitConverter(mapper=mapper)\n",
    "    # qubit_op = converter.convert(fermionic_op, num_particles=num_particles)\n",
    "\n",
    "    core_electron_energy = problem.hamiltonian.constants[\"FreezeCoreTransformer\"]\n",
    "    nuclear_repulsion_energy = problem.nuclear_repulsion_energy\n",
    "\n",
    "    return (\n",
    "        qubit_op,\n",
    "        num_particles,\n",
    "        num_spatial_orbitals,\n",
    "        problem,\n",
    "        mapper,\n",
    "        nuclear_repulsion_energy,\n",
    "        core_electron_energy,\n",
    "    )\n"
   ]
  },
  {
   "cell_type": "code",
   "execution_count": 6,
   "id": "7caf8b94",
   "metadata": {
    "execution": {
     "iopub.execute_input": "2025-07-31T01:15:51.944787Z",
     "iopub.status.busy": "2025-07-31T01:15:51.944474Z",
     "iopub.status.idle": "2025-07-31T01:15:52.139281Z",
     "shell.execute_reply": "2025-07-31T01:15:52.138038Z"
    },
    "papermill": {
     "duration": 0.218856,
     "end_time": "2025-07-31T01:15:52.141301",
     "exception": false,
     "start_time": "2025-07-31T01:15:51.922445",
     "status": "completed"
    },
    "tags": []
   },
   "outputs": [],
   "source": [
    "(qubit_op, num_particles, num_spatial_orbitals, problem, mapper,nuclear_repulsion_energy, core_electron_energy) = get_qubit_op(BL)"
   ]
  },
  {
   "cell_type": "code",
   "execution_count": 7,
   "id": "8e954660",
   "metadata": {
    "execution": {
     "iopub.execute_input": "2025-07-31T01:15:52.170343Z",
     "iopub.status.busy": "2025-07-31T01:15:52.169637Z",
     "iopub.status.idle": "2025-07-31T01:15:52.176496Z",
     "shell.execute_reply": "2025-07-31T01:15:52.175388Z"
    },
    "papermill": {
     "duration": 0.030982,
     "end_time": "2025-07-31T01:15:52.178130",
     "exception": false,
     "start_time": "2025-07-31T01:15:52.147148",
     "status": "completed"
    },
    "tags": []
   },
   "outputs": [
    {
     "data": {
      "text/plain": [
       "SparsePauliOp(['IIII', 'IIIZ', 'IIZI', 'IZII', 'ZIII', 'IIZZ', 'IZIZ', 'ZIIZ', 'YYYY', 'XXYY', 'YYXX', 'XXXX', 'IZZI', 'ZIZI', 'ZZII'],\n",
       "              coeffs=[-0.80327742+0.j,  0.0692967 +0.j,  0.0037902 +0.j,  0.0692967 +0.j,\n",
       "  0.0037902 +0.j,  0.06650573+0.j,  0.1281763 +0.j,  0.13062029+0.j,\n",
       "  0.06411456+0.j,  0.06411456+0.j,  0.06411456+0.j,  0.06411456+0.j,\n",
       "  0.13062029+0.j,  0.13467527+0.j,  0.06650573+0.j])"
      ]
     },
     "execution_count": 7,
     "metadata": {},
     "output_type": "execute_result"
    }
   ],
   "source": [
    "qubit_op"
   ]
  },
  {
   "cell_type": "code",
   "execution_count": 8,
   "id": "8e03d926",
   "metadata": {
    "execution": {
     "iopub.execute_input": "2025-07-31T01:15:52.206076Z",
     "iopub.status.busy": "2025-07-31T01:15:52.205184Z",
     "iopub.status.idle": "2025-07-31T01:15:52.221108Z",
     "shell.execute_reply": "2025-07-31T01:15:52.219621Z"
    },
    "papermill": {
     "duration": 0.037184,
     "end_time": "2025-07-31T01:15:52.223545",
     "exception": false,
     "start_time": "2025-07-31T01:15:52.186361",
     "status": "completed"
    },
    "tags": []
   },
   "outputs": [],
   "source": [
    "# Extract terms and coefficients\n",
    "pauli_list = list(zip(qubit_op.paulis, qubit_op.coeffs))\n",
    "\n",
    "# Sort terms by absolute coefficient magnitude (largest first)\n",
    "sorted_pauli_list = sorted(pauli_list, key=lambda x: abs(x[1]), reverse=True)\n",
    "\n",
    "# Print sorted terms\n",
    "# for pauli, coef in sorted_pauli_list:\n",
    "#     print(f\"Pauli: {pauli}, Coefficient: {coef}\")\n",
    "\n",
    "# Save the list\n",
    "with open(\"sorted_pauli_list.pkl\", \"wb\") as f:\n",
    "    dill.dump(sorted_pauli_list, f)"
   ]
  },
  {
   "cell_type": "code",
   "execution_count": 9,
   "id": "09a22634",
   "metadata": {
    "execution": {
     "iopub.execute_input": "2025-07-31T01:15:52.248422Z",
     "iopub.status.busy": "2025-07-31T01:15:52.247834Z",
     "iopub.status.idle": "2025-07-31T01:15:52.256168Z",
     "shell.execute_reply": "2025-07-31T01:15:52.254960Z"
    },
    "papermill": {
     "duration": 0.026801,
     "end_time": "2025-07-31T01:15:52.257848",
     "exception": false,
     "start_time": "2025-07-31T01:15:52.231047",
     "status": "completed"
    },
    "tags": []
   },
   "outputs": [],
   "source": [
    "dd = np.real(min(np.linalg.eigvals(qubit_op.to_matrix())))"
   ]
  },
  {
   "cell_type": "markdown",
   "id": "a33105fe",
   "metadata": {
    "papermill": {
     "duration": 0.01746,
     "end_time": "2025-07-31T01:15:52.281478",
     "exception": false,
     "start_time": "2025-07-31T01:15:52.264018",
     "status": "completed"
    },
    "tags": []
   },
   "source": [
    "### 2 Perform VQE"
   ]
  },
  {
   "cell_type": "markdown",
   "id": "f6c1ff85",
   "metadata": {
    "papermill": {
     "duration": 0.015781,
     "end_time": "2025-07-31T01:15:52.316062",
     "exception": false,
     "start_time": "2025-07-31T01:15:52.300281",
     "status": "completed"
    },
    "tags": []
   },
   "source": [
    "Define a class to perform VQE."
   ]
  },
  {
   "cell_type": "code",
   "execution_count": 10,
   "id": "7f12ba1d",
   "metadata": {
    "execution": {
     "iopub.execute_input": "2025-07-31T01:15:52.356242Z",
     "iopub.status.busy": "2025-07-31T01:15:52.355629Z",
     "iopub.status.idle": "2025-07-31T01:15:52.363794Z",
     "shell.execute_reply": "2025-07-31T01:15:52.362572Z"
    },
    "papermill": {
     "duration": 0.02883,
     "end_time": "2025-07-31T01:15:52.365532",
     "exception": false,
     "start_time": "2025-07-31T01:15:52.336702",
     "status": "completed"
    },
    "tags": []
   },
   "outputs": [],
   "source": [
    "# Define the custom VQE\n",
    "class CustomVQE:\n",
    "    def __init__(self, estimator, ansatz, optimizer, qubit_op, dd, NREplusCEE, custom_function, initial_point=None):\n",
    "        self.estimator = estimator\n",
    "        self.ansatz = ansatz\n",
    "        self.optimizer = optimizer\n",
    "        self.qubit_op = qubit_op\n",
    "        self.NREplusCEE = NREplusCEE\n",
    "        self.dd = dd\n",
    "        self.custom_function = custom_function\n",
    "        self.initial_point = initial_point  or [0] * ansatz.num_parameters\n",
    "\n",
    "    def compute_minimum_eigenvalue(self):\n",
    "        # Define the function to minimize\n",
    "        def objective_function(params):\n",
    "            # Evaluate the expectation value of the qubit operator\n",
    "            expectation = self.estimator.run([self.ansatz], [self.qubit_op], [params]).result().values[0]\n",
    "            # Evaluate the custom objective function\n",
    "            return self.custom_function(expectation, params)\n",
    "\n",
    "        # Use the `minimize` method for optimization\n",
    "        opt_result = self.optimizer.minimize(\n",
    "            fun=objective_function,\n",
    "            x0=self.initial_point\n",
    "        )\n",
    "\n",
    "        result = {\n",
    "            'x': [float(value) for value in opt_result.x],\n",
    "            'fun': opt_result.fun,\n",
    "            'dd': self.dd,\n",
    "            'NREplusCEE': self.NREplusCEE\n",
    "        }\n",
    "\n",
    "        \n",
    "        return result\n"
   ]
  },
  {
   "cell_type": "code",
   "execution_count": 11,
   "id": "d499d53b",
   "metadata": {
    "execution": {
     "iopub.execute_input": "2025-07-31T01:15:52.389475Z",
     "iopub.status.busy": "2025-07-31T01:15:52.389030Z",
     "iopub.status.idle": "2025-07-31T01:15:52.393423Z",
     "shell.execute_reply": "2025-07-31T01:15:52.392387Z"
    },
    "papermill": {
     "duration": 0.022547,
     "end_time": "2025-07-31T01:15:52.394729",
     "exception": false,
     "start_time": "2025-07-31T01:15:52.372182",
     "status": "completed"
    },
    "tags": []
   },
   "outputs": [],
   "source": [
    "# l=12 and maxiter = 200 works for LiH and HF"
   ]
  },
  {
   "cell_type": "code",
   "execution_count": 12,
   "id": "868ad712",
   "metadata": {
    "execution": {
     "iopub.execute_input": "2025-07-31T01:15:52.427287Z",
     "iopub.status.busy": "2025-07-31T01:15:52.426750Z",
     "iopub.status.idle": "2025-07-31T01:15:52.445561Z",
     "shell.execute_reply": "2025-07-31T01:15:52.444565Z"
    },
    "papermill": {
     "duration": 0.044502,
     "end_time": "2025-07-31T01:15:52.447362",
     "exception": false,
     "start_time": "2025-07-31T01:15:52.402860",
     "status": "completed"
    },
    "tags": []
   },
   "outputs": [],
   "source": [
    "optimizer = SLSQP(maxiter=300)\n",
    "noiseless_estimator = Estimator(approximation=True)\n",
    "\n",
    "\n",
    "# Define ansatz\n",
    "var_form = EfficientSU2(qubit_op.num_qubits, reps=12, entanglement='full', skip_unentangled_qubits=False, parameter_prefix='a')\n",
    "\n",
    "\n",
    "# Example Custom Objective Function\n",
    "def custom_objective_function(expectation_value, parameters):\n",
    "    # penalty_term = 0.1 * sum(param**2 for param in parameters)  # Example regularization\n",
    "    return expectation_value \n",
    "\n",
    "\n",
    "# Create an instance of CustomVQE\n",
    "custom_vqe = CustomVQE(\n",
    "    estimator=noiseless_estimator,\n",
    "    ansatz=var_form,\n",
    "    optimizer=optimizer,\n",
    "    qubit_op=qubit_op,\n",
    "    dd = dd,\n",
    "    NREplusCEE = nuclear_repulsion_energy + core_electron_energy,\n",
    "    custom_function=custom_objective_function,\n",
    "    initial_point = list(np.random.uniform(-np.pi, np.pi, var_form.num_parameters))\n",
    ")\n"
   ]
  },
  {
   "cell_type": "code",
   "execution_count": 13,
   "id": "a23a50b5",
   "metadata": {
    "execution": {
     "iopub.execute_input": "2025-07-31T01:15:52.480295Z",
     "iopub.status.busy": "2025-07-31T01:15:52.479941Z",
     "iopub.status.idle": "2025-07-31T01:16:31.503153Z",
     "shell.execute_reply": "2025-07-31T01:16:31.502178Z"
    },
    "papermill": {
     "duration": 39.045726,
     "end_time": "2025-07-31T01:16:31.505235",
     "exception": false,
     "start_time": "2025-07-31T01:15:52.459509",
     "status": "completed"
    },
    "tags": []
   },
   "outputs": [],
   "source": [
    "vqe_result = custom_vqe.compute_minimum_eigenvalue()"
   ]
  },
  {
   "cell_type": "code",
   "execution_count": 14,
   "id": "c35ff26f-7516-49ca-a32d-dffdbcea7725",
   "metadata": {
    "execution": {
     "iopub.execute_input": "2025-07-31T01:16:31.537501Z",
     "iopub.status.busy": "2025-07-31T01:16:31.536591Z",
     "iopub.status.idle": "2025-07-31T01:16:31.544705Z",
     "shell.execute_reply": "2025-07-31T01:16:31.543727Z"
    },
    "papermill": {
     "duration": 0.032063,
     "end_time": "2025-07-31T01:16:31.546169",
     "exception": false,
     "start_time": "2025-07-31T01:16:31.514106",
     "status": "completed"
    },
    "tags": []
   },
   "outputs": [
    {
     "data": {
      "text/plain": [
       "{'x': [2.693430566308812,\n",
       "  -2.7129502438070965,\n",
       "  -0.6686239294252934,\n",
       "  0.7017060532112904,\n",
       "  -2.322038606866578,\n",
       "  0.5504686208083107,\n",
       "  1.165281423980018,\n",
       "  0.28711120767892606,\n",
       "  1.6709135612101262,\n",
       "  -0.22499244343422417,\n",
       "  0.7538810720352587,\n",
       "  -1.1297543566274644,\n",
       "  2.2069524016178255,\n",
       "  0.5282280458864296,\n",
       "  -1.2906239642270385,\n",
       "  1.6921347180168365,\n",
       "  0.728457716640601,\n",
       "  1.073265389393726,\n",
       "  1.384619297731947,\n",
       "  0.22072311932091188,\n",
       "  -2.638300685371143,\n",
       "  -0.905285393153842,\n",
       "  0.5934445298640295,\n",
       "  0.47257607826445563,\n",
       "  0.5848835717428461,\n",
       "  0.5290880894287647,\n",
       "  -2.000012565932739,\n",
       "  3.3305059077160526,\n",
       "  -1.0250636861156919,\n",
       "  -2.8142381482801584,\n",
       "  1.8585022605147352,\n",
       "  -1.4458485505588572,\n",
       "  -3.3819518708997167,\n",
       "  -1.4965193095618345,\n",
       "  -2.68572290938369,\n",
       "  -1.0039835883141721,\n",
       "  0.2259431113147032,\n",
       "  -3.738175540555109,\n",
       "  -1.5192442961471961,\n",
       "  -0.11355918453566263,\n",
       "  1.0051321561648452,\n",
       "  -1.036294524739877,\n",
       "  -0.31085880832535284,\n",
       "  -2.381678108336207,\n",
       "  0.2682857166870461,\n",
       "  1.5974994966036782,\n",
       "  -2.4968774243520557,\n",
       "  0.917261809025227,\n",
       "  -3.0308891137179907,\n",
       "  -2.7764214898380617,\n",
       "  -0.07233914642389921,\n",
       "  2.012407710284945,\n",
       "  2.2624994508450356,\n",
       "  -3.1922708706586578,\n",
       "  0.7492977665667432,\n",
       "  -2.6123728266125386,\n",
       "  0.018097601374280615,\n",
       "  2.2275198399902667,\n",
       "  -2.620257057186855,\n",
       "  2.6389031122336504,\n",
       "  2.1059405622729583,\n",
       "  -1.7136599598274036,\n",
       "  3.014184783168001,\n",
       "  1.4953802614562617,\n",
       "  -0.47684228454031435,\n",
       "  1.763091402489545,\n",
       "  1.1693657737202663,\n",
       "  -1.7833774181018502,\n",
       "  -2.043516432439083,\n",
       "  -2.7490059537542266,\n",
       "  -1.7197146010557278,\n",
       "  1.669253902322224,\n",
       "  -0.8444178405402264,\n",
       "  -2.3028979860352763,\n",
       "  -1.2195190867315413,\n",
       "  -1.0784344117190616,\n",
       "  -1.5598207478408808,\n",
       "  -1.108635349287828,\n",
       "  2.5339752552976633,\n",
       "  -1.6462003780216612,\n",
       "  2.9185485534477134,\n",
       "  -0.06789781047344708,\n",
       "  2.2186963822657,\n",
       "  2.269348656118283,\n",
       "  1.5284742801422995,\n",
       "  1.9362773084878697,\n",
       "  1.3574816653216655,\n",
       "  2.240805676559484,\n",
       "  0.20525289842702998,\n",
       "  -1.2838846260009427,\n",
       "  1.2816603468356593,\n",
       "  -0.11052004073948742,\n",
       "  2.215754787083226,\n",
       "  -0.0705181805905478,\n",
       "  1.1036919941234908,\n",
       "  1.979431602143994,\n",
       "  2.109972506807801,\n",
       "  -0.4670862638546618,\n",
       "  -2.1343110635574623,\n",
       "  -1.9097099700801885,\n",
       "  3.1783803089003753,\n",
       "  1.6891290464337252,\n",
       "  -0.6529139413795287,\n",
       "  2.6998056910242645],\n",
       " 'fun': np.float64(-1.2226619303917872),\n",
       " 'dd': np.float64(-1.222662687479011),\n",
       " 'NREplusCEE': np.float64(0.2713729286769231)}"
      ]
     },
     "execution_count": 14,
     "metadata": {},
     "output_type": "execute_result"
    }
   ],
   "source": [
    "vqe_result"
   ]
  },
  {
   "cell_type": "code",
   "execution_count": 15,
   "id": "17f49028",
   "metadata": {
    "execution": {
     "iopub.execute_input": "2025-07-31T01:16:31.571715Z",
     "iopub.status.busy": "2025-07-31T01:16:31.570672Z",
     "iopub.status.idle": "2025-07-31T01:16:31.579504Z",
     "shell.execute_reply": "2025-07-31T01:16:31.578463Z"
    },
    "papermill": {
     "duration": 0.027243,
     "end_time": "2025-07-31T01:16:31.580990",
     "exception": false,
     "start_time": "2025-07-31T01:16:31.553747",
     "status": "completed"
    },
    "tags": []
   },
   "outputs": [
    {
     "data": {
      "text/plain": [
       "104"
      ]
     },
     "execution_count": 15,
     "metadata": {},
     "output_type": "execute_result"
    }
   ],
   "source": [
    "len(vqe_result['x'])"
   ]
  },
  {
   "cell_type": "code",
   "execution_count": 16,
   "id": "9ff78507",
   "metadata": {
    "execution": {
     "iopub.execute_input": "2025-07-31T01:16:31.608492Z",
     "iopub.status.busy": "2025-07-31T01:16:31.607882Z",
     "iopub.status.idle": "2025-07-31T01:16:31.612927Z",
     "shell.execute_reply": "2025-07-31T01:16:31.612181Z"
    },
    "papermill": {
     "duration": 0.025229,
     "end_time": "2025-07-31T01:16:31.614151",
     "exception": false,
     "start_time": "2025-07-31T01:16:31.588922",
     "status": "completed"
    },
    "tags": []
   },
   "outputs": [
    {
     "name": "stdout",
     "output_type": "stream",
     "text": [
      "7.570872238016335e-07\n"
     ]
    }
   ],
   "source": [
    "print(vqe_result['fun'] - vqe_result['dd'])"
   ]
  },
  {
   "cell_type": "code",
   "execution_count": 17,
   "id": "7424dae1",
   "metadata": {
    "execution": {
     "iopub.execute_input": "2025-07-31T01:16:31.639385Z",
     "iopub.status.busy": "2025-07-31T01:16:31.638889Z",
     "iopub.status.idle": "2025-07-31T01:16:31.646213Z",
     "shell.execute_reply": "2025-07-31T01:16:31.645213Z"
    },
    "papermill": {
     "duration": 0.024938,
     "end_time": "2025-07-31T01:16:31.648718",
     "exception": false,
     "start_time": "2025-07-31T01:16:31.623780",
     "status": "completed"
    },
    "tags": []
   },
   "outputs": [],
   "source": [
    "with open(\"vqe_result.pkl\", \"wb\") as f:\n",
    "    dill.dump(vqe_result, f)"
   ]
  }
 ],
 "metadata": {
  "kernelspec": {
   "display_name": "Python 3 (ipykernel)",
   "language": "python",
   "name": "python3"
  },
  "language_info": {
   "codemirror_mode": {
    "name": "ipython",
    "version": 3
   },
   "file_extension": ".py",
   "mimetype": "text/x-python",
   "name": "python",
   "nbconvert_exporter": "python",
   "pygments_lexer": "ipython3",
   "version": "3.10.15"
  },
  "papermill": {
   "default_parameters": {},
   "duration": 43.404004,
   "end_time": "2025-07-31T01:16:32.482857",
   "environment_variables": {},
   "exception": null,
   "input_path": "vqe.ipynb",
   "output_path": "/usr/src/app/SoleyGroup/lab_data/Notebooks/Statistics/Corrected_plots/New_H2/BondLengths/processing_BL_1p95000/vqe.ipynb",
   "parameters": {
    "BL": 1.95
   },
   "start_time": "2025-07-31T01:15:49.078853",
   "version": "2.6.0"
  }
 },
 "nbformat": 4,
 "nbformat_minor": 5
}