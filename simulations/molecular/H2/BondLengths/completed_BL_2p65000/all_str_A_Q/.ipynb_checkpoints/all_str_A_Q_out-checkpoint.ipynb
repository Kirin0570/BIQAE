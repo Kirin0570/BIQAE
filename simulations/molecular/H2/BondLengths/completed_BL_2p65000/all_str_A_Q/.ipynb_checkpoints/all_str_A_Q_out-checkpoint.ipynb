{
 "cells": [
  {
   "cell_type": "code",
   "execution_count": 1,
   "id": "a6d83e16",
   "metadata": {
    "execution": {
     "iopub.execute_input": "2025-03-01T17:09:41.379937Z",
     "iopub.status.busy": "2025-03-01T17:09:41.379120Z",
     "iopub.status.idle": "2025-03-01T17:09:43.652333Z",
     "shell.execute_reply": "2025-03-01T17:09:43.650747Z"
    },
    "papermill": {
     "duration": 2.2854,
     "end_time": "2025-03-01T17:09:43.654484",
     "exception": false,
     "start_time": "2025-03-01T17:09:41.369084",
     "status": "completed"
    },
    "tags": []
   },
   "outputs": [
    {
     "name": "stdout",
     "output_type": "stream",
     "text": [
      "Requirement already satisfied: matplotlib in /usr/local/lib/python3.10/site-packages (3.10.1)\r\n",
      "Requirement already satisfied: contourpy>=1.0.1 in /usr/local/lib/python3.10/site-packages (from matplotlib) (1.3.1)\r\n",
      "Requirement already satisfied: numpy>=1.23 in /usr/local/lib/python3.10/site-packages (from matplotlib) (2.1.2)\r\n",
      "Requirement already satisfied: packaging>=20.0 in /usr/local/lib/python3.10/site-packages (from matplotlib) (24.1)\r\n",
      "Requirement already satisfied: cycler>=0.10 in /usr/local/lib/python3.10/site-packages (from matplotlib) (0.12.1)\r\n",
      "Requirement already satisfied: pillow>=8 in /usr/local/lib/python3.10/site-packages (from matplotlib) (11.1.0)\r\n",
      "Requirement already satisfied: fonttools>=4.22.0 in /usr/local/lib/python3.10/site-packages (from matplotlib) (4.56.0)\r\n",
      "Requirement already satisfied: kiwisolver>=1.3.1 in /usr/local/lib/python3.10/site-packages (from matplotlib) (1.4.8)\r\n",
      "Requirement already satisfied: python-dateutil>=2.7 in /usr/local/lib/python3.10/site-packages (from matplotlib) (2.9.0.post0)\r\n",
      "Requirement already satisfied: pyparsing>=2.3.1 in /usr/local/lib/python3.10/site-packages (from matplotlib) (3.2.1)\r\n"
     ]
    },
    {
     "name": "stdout",
     "output_type": "stream",
     "text": [
      "Requirement already satisfied: six>=1.5 in /usr/local/lib/python3.10/site-packages (from python-dateutil>=2.7->matplotlib) (1.16.0)\r\n"
     ]
    },
    {
     "name": "stdout",
     "output_type": "stream",
     "text": [
      "\u001b[33mWARNING: Running pip as the 'root' user can result in broken permissions and conflicting behaviour with the system package manager. It is recommended to use a virtual environment instead: https://pip.pypa.io/warnings/venv\u001b[0m\u001b[33m\r\n",
      "\u001b[0m\r\n",
      "\u001b[1m[\u001b[0m\u001b[34;49mnotice\u001b[0m\u001b[1;39;49m]\u001b[0m\u001b[39;49m A new release of pip is available: \u001b[0m\u001b[31;49m23.0.1\u001b[0m\u001b[39;49m -> \u001b[0m\u001b[32;49m25.0.1\u001b[0m\r\n",
      "\u001b[1m[\u001b[0m\u001b[34;49mnotice\u001b[0m\u001b[1;39;49m]\u001b[0m\u001b[39;49m To update, run: \u001b[0m\u001b[32;49mpip install --upgrade pip\u001b[0m\r\n"
     ]
    }
   ],
   "source": [
    "!pip install matplotlib"
   ]
  },
  {
   "cell_type": "code",
   "execution_count": 2,
   "id": "43525eff",
   "metadata": {
    "execution": {
     "iopub.execute_input": "2025-03-01T17:09:43.708344Z",
     "iopub.status.busy": "2025-03-01T17:09:43.707604Z",
     "iopub.status.idle": "2025-03-01T17:09:44.793500Z",
     "shell.execute_reply": "2025-03-01T17:09:44.792522Z"
    },
    "papermill": {
     "duration": 1.132383,
     "end_time": "2025-03-01T17:09:44.795315",
     "exception": false,
     "start_time": "2025-03-01T17:09:43.662932",
     "status": "completed"
    },
    "tags": []
   },
   "outputs": [],
   "source": [
    "import sys\n",
    "import os\n",
    "import dill\n",
    "import matplotlib.pyplot as plt\n",
    "\n",
    "from qiskit import transpile\n",
    "from qiskit_aer import AerSimulator\n",
    "from qiskit.qpy import load as qpy_load, dump as qpy_dump\n",
    "\n",
    "# Add the path to the parent of the parent directory\n",
    "sys.path.append(os.path.abspath(os.path.join(os.getcwd(), \"../../\")))\n",
    "\n",
    "# Now you can import your modules\n",
    "from circuit_constructors import construct_A, construct_Q"
   ]
  },
  {
   "cell_type": "markdown",
   "id": "c27543d8",
   "metadata": {
    "papermill": {
     "duration": 0.017399,
     "end_time": "2025-03-01T17:09:44.819683",
     "exception": false,
     "start_time": "2025-03-01T17:09:44.802284",
     "status": "completed"
    },
    "tags": []
   },
   "source": [
    "### 1 Construct A and Q for all Pauli strings"
   ]
  },
  {
   "cell_type": "code",
   "execution_count": 3,
   "id": "2d50c12c",
   "metadata": {
    "execution": {
     "iopub.execute_input": "2025-03-01T17:09:44.848706Z",
     "iopub.status.busy": "2025-03-01T17:09:44.848200Z",
     "iopub.status.idle": "2025-03-01T17:09:45.146756Z",
     "shell.execute_reply": "2025-03-01T17:09:45.145317Z"
    },
    "papermill": {
     "duration": 0.316233,
     "end_time": "2025-03-01T17:09:45.148895",
     "exception": false,
     "start_time": "2025-03-01T17:09:44.832662",
     "status": "completed"
    },
    "tags": []
   },
   "outputs": [],
   "source": [
    "# Load decomp and optim_res\n",
    "with open('../pauli_decomp/sorted_pauli_dict.pkl', 'rb') as f:\n",
    "    sorted_pauli_dict = dill.load(f)\n",
    "with open('../optim/optim_opt_res.pkl', 'rb') as f:\n",
    "    opt_res = dill.load(f)"
   ]
  },
  {
   "cell_type": "code",
   "execution_count": 4,
   "id": "105d0183",
   "metadata": {
    "execution": {
     "iopub.execute_input": "2025-03-01T17:09:45.174328Z",
     "iopub.status.busy": "2025-03-01T17:09:45.173424Z",
     "iopub.status.idle": "2025-03-01T17:09:45.784361Z",
     "shell.execute_reply": "2025-03-01T17:09:45.782951Z"
    },
    "papermill": {
     "duration": 0.629411,
     "end_time": "2025-03-01T17:09:45.786610",
     "exception": false,
     "start_time": "2025-03-01T17:09:45.157199",
     "status": "completed"
    },
    "tags": []
   },
   "outputs": [
    {
     "name": "stdout",
     "output_type": "stream",
     "text": [
      "Processed Pauli string 0: IIII\n",
      "Processed Pauli string 1: ZIZI\n",
      "Processed Pauli string 2: ZIIZ\n",
      "Processed Pauli string 3: IZZI\n",
      "Processed Pauli string 4: IZIZ\n",
      "Processed Pauli string 5: XXXX\n"
     ]
    },
    {
     "name": "stdout",
     "output_type": "stream",
     "text": [
      "Processed Pauli string 6: XXYY\n",
      "Processed Pauli string 7: YYXX\n",
      "Processed Pauli string 8: YYYY\n",
      "Processed Pauli string 9: IZII\n",
      "Processed Pauli string 10: IIIZ\n"
     ]
    },
    {
     "name": "stdout",
     "output_type": "stream",
     "text": [
      "Processed Pauli string 11: IIZZ\n",
      "Processed Pauli string 12: ZZII\n",
      "Processed Pauli string 13: ZIII\n",
      "Processed Pauli string 14: IIZI\n",
      "All circuits generated and saved.\n"
     ]
    }
   ],
   "source": [
    "# Extract opt_params\n",
    "opt_params = opt_res.x\n",
    "\n",
    "# Set l\n",
    "l = 3\n",
    "\n",
    "# Create the main folder if it doesn't exist\n",
    "if not os.path.exists('circuits'):\n",
    "    os.makedirs('circuits')\n",
    "\n",
    "# Traverse the Pauli strings\n",
    "for i, (pauli_string, coeff) in enumerate(sorted_pauli_dict.items()):\n",
    "    # Create a folder for this Pauli string\n",
    "    folder_path = os.path.join('circuits', str(i))\n",
    "    if not os.path.exists(folder_path):\n",
    "        os.makedirs(folder_path)\n",
    "    \n",
    "    # Construct A\n",
    "    A = construct_A(l, opt_params, pauli_string)\n",
    "    \n",
    "    # Construct Q\n",
    "    Q = construct_Q(A)\n",
    "    \n",
    "    # Save A\n",
    "    with open(os.path.join(folder_path, 'circuit_A.qpy'), 'wb') as f:\n",
    "        qpy_dump(A, f)\n",
    "    \n",
    "    # Save Q\n",
    "    with open(os.path.join(folder_path, 'circuit_Q.qpy'), 'wb') as f:\n",
    "        qpy_dump(Q, f)\n",
    "    \n",
    "    print(f\"Processed Pauli string {i}: {pauli_string}\")\n",
    "\n",
    "print(\"All circuits generated and saved.\")"
   ]
  },
  {
   "cell_type": "markdown",
   "id": "49c6daeb",
   "metadata": {
    "papermill": {
     "duration": 0.01805,
     "end_time": "2025-03-01T17:09:45.812459",
     "exception": false,
     "start_time": "2025-03-01T17:09:45.794409",
     "status": "completed"
    },
    "tags": []
   },
   "source": [
    "### 2 Transpilation"
   ]
  },
  {
   "cell_type": "code",
   "execution_count": 5,
   "id": "2e5deafa",
   "metadata": {
    "execution": {
     "iopub.execute_input": "2025-03-01T17:09:45.843835Z",
     "iopub.status.busy": "2025-03-01T17:09:45.843417Z",
     "iopub.status.idle": "2025-03-01T17:09:51.637831Z",
     "shell.execute_reply": "2025-03-01T17:09:51.636814Z"
    },
    "papermill": {
     "duration": 5.814914,
     "end_time": "2025-03-01T17:09:51.639547",
     "exception": false,
     "start_time": "2025-03-01T17:09:45.824633",
     "status": "completed"
    },
    "tags": []
   },
   "outputs": [
    {
     "name": "stdout",
     "output_type": "stream",
     "text": [
      "Transpiled and saved: circuits/0/transpiled_circuit_A.qpy\n"
     ]
    },
    {
     "name": "stdout",
     "output_type": "stream",
     "text": [
      "Transpiled and saved: circuits/0/transpiled_circuit_Q.qpy\n",
      "Transpiled and saved: circuits/1/transpiled_circuit_A.qpy\n"
     ]
    },
    {
     "name": "stdout",
     "output_type": "stream",
     "text": [
      "Transpiled and saved: circuits/1/transpiled_circuit_Q.qpy\n",
      "Transpiled and saved: circuits/10/transpiled_circuit_A.qpy\n"
     ]
    },
    {
     "name": "stdout",
     "output_type": "stream",
     "text": [
      "Transpiled and saved: circuits/10/transpiled_circuit_Q.qpy\n",
      "Transpiled and saved: circuits/11/transpiled_circuit_A.qpy\n"
     ]
    },
    {
     "name": "stdout",
     "output_type": "stream",
     "text": [
      "Transpiled and saved: circuits/11/transpiled_circuit_Q.qpy\n",
      "Transpiled and saved: circuits/12/transpiled_circuit_A.qpy\n"
     ]
    },
    {
     "name": "stdout",
     "output_type": "stream",
     "text": [
      "Transpiled and saved: circuits/12/transpiled_circuit_Q.qpy\n",
      "Transpiled and saved: circuits/13/transpiled_circuit_A.qpy\n"
     ]
    },
    {
     "name": "stdout",
     "output_type": "stream",
     "text": [
      "Transpiled and saved: circuits/13/transpiled_circuit_Q.qpy\n",
      "Transpiled and saved: circuits/14/transpiled_circuit_A.qpy\n"
     ]
    },
    {
     "name": "stdout",
     "output_type": "stream",
     "text": [
      "Transpiled and saved: circuits/14/transpiled_circuit_Q.qpy\n",
      "Transpiled and saved: circuits/2/transpiled_circuit_A.qpy\n"
     ]
    },
    {
     "name": "stdout",
     "output_type": "stream",
     "text": [
      "Transpiled and saved: circuits/2/transpiled_circuit_Q.qpy\n",
      "Transpiled and saved: circuits/3/transpiled_circuit_A.qpy\n"
     ]
    },
    {
     "name": "stdout",
     "output_type": "stream",
     "text": [
      "Transpiled and saved: circuits/3/transpiled_circuit_Q.qpy\n",
      "Transpiled and saved: circuits/4/transpiled_circuit_A.qpy\n"
     ]
    },
    {
     "name": "stdout",
     "output_type": "stream",
     "text": [
      "Transpiled and saved: circuits/4/transpiled_circuit_Q.qpy\n",
      "Transpiled and saved: circuits/5/transpiled_circuit_A.qpy\n"
     ]
    },
    {
     "name": "stdout",
     "output_type": "stream",
     "text": [
      "Transpiled and saved: circuits/5/transpiled_circuit_Q.qpy\n",
      "Transpiled and saved: circuits/6/transpiled_circuit_A.qpy\n"
     ]
    },
    {
     "name": "stdout",
     "output_type": "stream",
     "text": [
      "Transpiled and saved: circuits/6/transpiled_circuit_Q.qpy\n",
      "Transpiled and saved: circuits/7/transpiled_circuit_A.qpy\n"
     ]
    },
    {
     "name": "stdout",
     "output_type": "stream",
     "text": [
      "Transpiled and saved: circuits/7/transpiled_circuit_Q.qpy\n",
      "Transpiled and saved: circuits/8/transpiled_circuit_A.qpy\n"
     ]
    },
    {
     "name": "stdout",
     "output_type": "stream",
     "text": [
      "Transpiled and saved: circuits/8/transpiled_circuit_Q.qpy\n",
      "Transpiled and saved: circuits/9/transpiled_circuit_A.qpy\n"
     ]
    },
    {
     "name": "stdout",
     "output_type": "stream",
     "text": [
      "Transpiled and saved: circuits/9/transpiled_circuit_Q.qpy\n",
      "All circuits have been transpiled and saved.\n",
      "For the 1th Pauli string:\n",
      "  The depth of circuit A is 17\n",
      "  The depth of circuit Q is 35\n",
      "For the 2th Pauli string:\n",
      "  The depth of circuit A is 19\n",
      "  The depth of circuit Q is 40\n",
      "For the 3th Pauli string:\n",
      "  The depth of circuit A is 19\n",
      "  The depth of circuit Q is 40\n",
      "For the 4th Pauli string:\n",
      "  The depth of circuit A is 19\n",
      "  The depth of circuit Q is 40\n",
      "For the 5th Pauli string:\n",
      "  The depth of circuit A is 19\n",
      "  The depth of circuit Q is 40\n",
      "For the 6th Pauli string:\n",
      "  The depth of circuit A is 20\n",
      "  The depth of circuit Q is 43\n",
      "For the 7th Pauli string:\n",
      "  The depth of circuit A is 20\n",
      "  The depth of circuit Q is 43\n",
      "For the 8th Pauli string:\n",
      "  The depth of circuit A is 20\n",
      "  The depth of circuit Q is 43\n",
      "For the 9th Pauli string:\n",
      "  The depth of circuit A is 20\n",
      "  The depth of circuit Q is 43\n",
      "For the 10th Pauli string:\n",
      "  The depth of circuit A is 18\n",
      "  The depth of circuit Q is 37\n",
      "For the 11th Pauli string:\n",
      "  The depth of circuit A is 19\n",
      "  The depth of circuit Q is 39\n",
      "For the 12th Pauli string:\n",
      "  The depth of circuit A is 20\n",
      "  The depth of circuit Q is 41\n",
      "For the 13th Pauli string:\n",
      "  The depth of circuit A is 18\n",
      "  The depth of circuit Q is 38\n",
      "For the 14th Pauli string:\n",
      "  The depth of circuit A is 17\n",
      "  The depth of circuit Q is 35\n",
      "For the 15th Pauli string:\n",
      "  The depth of circuit A is 19\n",
      "  The depth of circuit Q is 39\n"
     ]
    }
   ],
   "source": [
    "# Create an instance of the AerSimulator\n",
    "aer_sim = AerSimulator()\n",
    "\n",
    "# Dictionary to store depths of transpiled circuits\n",
    "transpiled_depths = {}\n",
    "\n",
    "# Walk through the numbered folders in circuits\n",
    "for folder in os.listdir('circuits'):\n",
    "    folder_path = os.path.join('circuits', folder)\n",
    "    if os.path.isdir(folder_path):\n",
    "        # Process circuit_A.qpy and circuit_Q.qpy\n",
    "        for circuit_file in ['circuit_A.qpy', 'circuit_Q.qpy']:\n",
    "            input_path = os.path.join(folder_path, circuit_file)\n",
    "            if os.path.exists(input_path):\n",
    "                # Load the circuit\n",
    "                with open(input_path, 'rb') as f:\n",
    "                    circuit = qpy_load(f)[0]\n",
    "                \n",
    "                # Transpile the circuit\n",
    "                transpiled_circuit = transpile(circuit, backend=aer_sim, optimization_level=3)\n",
    "                \n",
    "                # Save the transpiled circuit\n",
    "                transpiled_output_path = os.path.join(folder_path, f'transpiled_{circuit_file}')\n",
    "                \n",
    "                with open(transpiled_output_path, 'wb') as f:\n",
    "                    qpy_dump(transpiled_circuit, f)\n",
    "                \n",
    "                print(f\"Transpiled and saved: {transpiled_output_path}\")\n",
    "                \n",
    "                # Store the depth of the transpiled circuit\n",
    "                circuit_key = f\"{folder}_{circuit_file.split('.')[0]}\"\n",
    "                transpiled_depths[circuit_key] = transpiled_circuit.depth()\n",
    "\n",
    "print(\"All circuits have been transpiled and saved.\")\n",
    "\n",
    "# Print depths for both circuit A and Q\n",
    "for folder in sorted([d for d in os.listdir('circuits') if os.path.isdir(os.path.join('circuits', d))], key=int):\n",
    "    circuit_A_key = f\"{folder}_circuit_A\"\n",
    "    circuit_Q_key = f\"{folder}_circuit_Q\"\n",
    "    if circuit_A_key in transpiled_depths and circuit_Q_key in transpiled_depths:\n",
    "        print(f\"For the {int(folder) + 1}th Pauli string:\")\n",
    "        print(f\"  The depth of circuit A is {transpiled_depths[circuit_A_key]}\")\n",
    "        print(f\"  The depth of circuit Q is {transpiled_depths[circuit_Q_key]}\")\n",
    "\n"
   ]
  },
  {
   "cell_type": "markdown",
   "id": "9619d35d",
   "metadata": {
    "papermill": {
     "duration": 0.017159,
     "end_time": "2025-03-01T17:09:51.665945",
     "exception": false,
     "start_time": "2025-03-01T17:09:51.648786",
     "status": "completed"
    },
    "tags": []
   },
   "source": [
    "### 3 Plot all circuits"
   ]
  },
  {
   "cell_type": "code",
   "execution_count": 6,
   "id": "37fdc0b2",
   "metadata": {
    "execution": {
     "iopub.execute_input": "2025-03-01T17:09:51.699429Z",
     "iopub.status.busy": "2025-03-01T17:09:51.698415Z",
     "iopub.status.idle": "2025-03-01T17:09:51.705430Z",
     "shell.execute_reply": "2025-03-01T17:09:51.704309Z"
    },
    "papermill": {
     "duration": 0.02803,
     "end_time": "2025-03-01T17:09:51.707311",
     "exception": false,
     "start_time": "2025-03-01T17:09:51.679281",
     "status": "completed"
    },
    "tags": []
   },
   "outputs": [],
   "source": [
    "# # Walk through the numbered folders in circuits\n",
    "# for folder in os.listdir('circuits'):\n",
    "#     folder_path = os.path.join('circuits', folder)\n",
    "#     if os.path.isdir(folder_path):\n",
    "#         # Process all circuit files in the folder\n",
    "#         for circuit_file in os.listdir(folder_path):\n",
    "#             if circuit_file.endswith('.qpy'):\n",
    "#                 input_path = os.path.join(folder_path, circuit_file)\n",
    "                \n",
    "#                 # Load the circuit\n",
    "#                 with open(input_path, 'rb') as f:\n",
    "#                     circuit = qpy_load(f)[0]\n",
    "                \n",
    "#                 # Draw the circuit\n",
    "#                 circuit_img = circuit.draw(output='mpl', style={\n",
    "#                     'dpi': 150,\n",
    "#                     'font_size': 20,\n",
    "#                     'backgroundcolor': '#EEEEEE'\n",
    "#                 })\n",
    "#                 circuit_img.figure.set_size_inches(30, 15)\n",
    "                \n",
    "#                 # Save the plot\n",
    "#                 output_filename = f\"{os.path.splitext(circuit_file)[0]}.png\"\n",
    "#                 output_path = os.path.join(folder_path, output_filename)\n",
    "#                 circuit_img.figure.savefig(output_path, dpi=300, bbox_inches='tight')\n",
    "#                 plt.close(circuit_img.figure)\n",
    "                \n",
    "#                 print(f\"Saved circuit plot: {output_path}\")\n",
    "\n",
    "# print(\"All circuit plots have been generated and saved.\")"
   ]
  }
 ],
 "metadata": {
  "kernelspec": {
   "display_name": "Python 3 (ipykernel)",
   "language": "python",
   "name": "python3"
  },
  "language_info": {
   "codemirror_mode": {
    "name": "ipython",
    "version": 3
   },
   "file_extension": ".py",
   "mimetype": "text/x-python",
   "name": "python",
   "nbconvert_exporter": "python",
   "pygments_lexer": "ipython3",
   "version": "3.10.15"
  },
  "papermill": {
   "default_parameters": {},
   "duration": 11.852093,
   "end_time": "2025-03-01T17:09:52.343472",
   "environment_variables": {},
   "exception": null,
   "input_path": "all_str_A_Q.ipynb",
   "output_path": "/usr/src/app/SoleyGroup/lab_data/Notebooks/Statistics/Corrected_plots/corrected_H2/corrected_H2/BondLengths/processing_BL_2p65000/all_str_A_Q/all_str_A_Q_out.ipynb",
   "parameters": {},
   "start_time": "2025-03-01T17:09:40.491379",
   "version": "2.6.0"
  }
 },
 "nbformat": 4,
 "nbformat_minor": 5
}