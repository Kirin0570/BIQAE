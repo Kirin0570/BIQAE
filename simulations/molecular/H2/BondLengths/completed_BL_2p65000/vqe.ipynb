{
 "cells": [
  {
   "cell_type": "code",
   "execution_count": 1,
   "id": "0a2ba924",
   "metadata": {
    "execution": {
     "iopub.execute_input": "2025-07-31T01:17:17.996290Z",
     "iopub.status.busy": "2025-07-31T01:17:17.994953Z",
     "iopub.status.idle": "2025-07-31T01:17:19.680814Z",
     "shell.execute_reply": "2025-07-31T01:17:19.679732Z"
    },
    "papermill": {
     "duration": 1.700635,
     "end_time": "2025-07-31T01:17:19.683435",
     "exception": false,
     "start_time": "2025-07-31T01:17:17.982800",
     "status": "completed"
    },
    "tags": []
   },
   "outputs": [],
   "source": [
    "from qiskit_nature.second_q.formats.molecule_info import MoleculeInfo\n",
    "from qiskit_nature.second_q.drivers import PySCFDriver\n",
    "from qiskit_nature.second_q.transformers import FreezeCoreTransformer\n",
    "from qiskit_nature.second_q.mappers import ParityMapper, JordanWignerMapper\n",
    "import dill\n",
    "import numpy as np\n",
    "from qiskit_algorithms.optimizers import SPSA, SLSQP, COBYLA\n",
    "from qiskit_aer.primitives import Estimator\n",
    "from qiskit_nature.second_q.circuit.library import HartreeFock\n",
    "from qiskit.circuit.library import EfficientSU2"
   ]
  },
  {
   "cell_type": "code",
   "execution_count": 2,
   "id": "4e5b37cf-6138-4a82-be63-c7d8cc2eaad4",
   "metadata": {
    "execution": {
     "iopub.execute_input": "2025-07-31T01:17:19.716332Z",
     "iopub.status.busy": "2025-07-31T01:17:19.714875Z",
     "iopub.status.idle": "2025-07-31T01:17:19.725145Z",
     "shell.execute_reply": "2025-07-31T01:17:19.724259Z"
    },
    "papermill": {
     "duration": 0.034407,
     "end_time": "2025-07-31T01:17:19.726471",
     "exception": false,
     "start_time": "2025-07-31T01:17:19.692064",
     "status": "completed"
    },
    "tags": []
   },
   "outputs": [
    {
     "data": {
      "text/plain": [
       "'0.7.2'"
      ]
     },
     "execution_count": 2,
     "metadata": {},
     "output_type": "execute_result"
    }
   ],
   "source": [
    "import qiskit_nature\n",
    "qiskit_nature.__version__"
   ]
  },
  {
   "cell_type": "code",
   "execution_count": 3,
   "id": "ba910acd",
   "metadata": {
    "execution": {
     "iopub.execute_input": "2025-07-31T01:17:19.756394Z",
     "iopub.status.busy": "2025-07-31T01:17:19.755633Z",
     "iopub.status.idle": "2025-07-31T01:17:19.760134Z",
     "shell.execute_reply": "2025-07-31T01:17:19.759124Z"
    },
    "papermill": {
     "duration": 0.028153,
     "end_time": "2025-07-31T01:17:19.761885",
     "exception": false,
     "start_time": "2025-07-31T01:17:19.733732",
     "status": "completed"
    },
    "slideshow": {
     "slide_type": ""
    },
    "tags": [
     "parameters"
    ]
   },
   "outputs": [],
   "source": [
    "BL = 0.6"
   ]
  },
  {
   "cell_type": "code",
   "execution_count": 4,
   "id": "75758c3f",
   "metadata": {
    "execution": {
     "iopub.execute_input": "2025-07-31T01:17:19.793452Z",
     "iopub.status.busy": "2025-07-31T01:17:19.792683Z",
     "iopub.status.idle": "2025-07-31T01:17:19.796539Z",
     "shell.execute_reply": "2025-07-31T01:17:19.795792Z"
    },
    "papermill": {
     "duration": 0.025448,
     "end_time": "2025-07-31T01:17:19.797682",
     "exception": false,
     "start_time": "2025-07-31T01:17:19.772234",
     "status": "completed"
    },
    "tags": [
     "injected-parameters"
    ]
   },
   "outputs": [],
   "source": [
    "# Parameters\n",
    "BL = 2.65\n"
   ]
  },
  {
   "cell_type": "markdown",
   "id": "7e24e37e",
   "metadata": {
    "papermill": {
     "duration": 0.025204,
     "end_time": "2025-07-31T01:17:19.835276",
     "exception": false,
     "start_time": "2025-07-31T01:17:19.810072",
     "status": "completed"
    },
    "tags": []
   },
   "source": [
    "### 1 Construct the Hamiltonian"
   ]
  },
  {
   "cell_type": "markdown",
   "id": "7b0ce8eb",
   "metadata": {
    "papermill": {
     "duration": 0.019286,
     "end_time": "2025-07-31T01:17:19.876711",
     "exception": false,
     "start_time": "2025-07-31T01:17:19.857425",
     "status": "completed"
    },
    "tags": []
   },
   "source": [
    "Helper function to construct the Hamiltonian represented as a Pauli decomposition stored in `qubit_op`, while also returning the `nuclear_repulsion_energy` and `core_electron_energy`."
   ]
  },
  {
   "cell_type": "code",
   "execution_count": 5,
   "id": "abd75003",
   "metadata": {
    "execution": {
     "iopub.execute_input": "2025-07-31T01:17:19.918985Z",
     "iopub.status.busy": "2025-07-31T01:17:19.918208Z",
     "iopub.status.idle": "2025-07-31T01:17:19.926550Z",
     "shell.execute_reply": "2025-07-31T01:17:19.925368Z"
    },
    "papermill": {
     "duration": 0.034317,
     "end_time": "2025-07-31T01:17:19.928089",
     "exception": false,
     "start_time": "2025-07-31T01:17:19.893772",
     "status": "completed"
    },
    "slideshow": {
     "slide_type": ""
    },
    "tags": []
   },
   "outputs": [],
   "source": [
    "def get_qubit_op(BL):\n",
    "    molecule = MoleculeInfo(\n",
    "        symbols=[\"H\", \"H\"],\n",
    "        coords=([0.0, 0.0, 0.0], [BL, 0.0, 0.0]),\n",
    "        multiplicity=1,\n",
    "        charge=0,\n",
    "    )\n",
    "\n",
    "    driver = PySCFDriver.from_molecule(molecule)\n",
    "    properties = driver.run()\n",
    "\n",
    "    problem = FreezeCoreTransformer(\n",
    "        freeze_core=True, remove_orbitals=[-3, -2]\n",
    "    ).transform(properties)\n",
    "\n",
    "    # Get the fermionic Hamiltonian (first element)\n",
    "    fermionic_op, _ = problem.second_q_ops()\n",
    "\n",
    "    num_particles = problem.num_particles\n",
    "    num_spatial_orbitals = problem.num_spatial_orbitals\n",
    "\n",
    "    # Use Jordan-Wigner (no tapering)\n",
    "    mapper = JordanWignerMapper()\n",
    "    qubit_op = mapper.map(fermionic_op)\n",
    "    # converter = QubitConverter(mapper=mapper)\n",
    "    # qubit_op = converter.convert(fermionic_op, num_particles=num_particles)\n",
    "\n",
    "    core_electron_energy = problem.hamiltonian.constants[\"FreezeCoreTransformer\"]\n",
    "    nuclear_repulsion_energy = problem.nuclear_repulsion_energy\n",
    "\n",
    "    return (\n",
    "        qubit_op,\n",
    "        num_particles,\n",
    "        num_spatial_orbitals,\n",
    "        problem,\n",
    "        mapper,\n",
    "        nuclear_repulsion_energy,\n",
    "        core_electron_energy,\n",
    "    )\n"
   ]
  },
  {
   "cell_type": "code",
   "execution_count": 6,
   "id": "7caf8b94",
   "metadata": {
    "execution": {
     "iopub.execute_input": "2025-07-31T01:17:19.958392Z",
     "iopub.status.busy": "2025-07-31T01:17:19.957548Z",
     "iopub.status.idle": "2025-07-31T01:17:20.178306Z",
     "shell.execute_reply": "2025-07-31T01:17:20.177348Z"
    },
    "papermill": {
     "duration": 0.242901,
     "end_time": "2025-07-31T01:17:20.180251",
     "exception": false,
     "start_time": "2025-07-31T01:17:19.937350",
     "status": "completed"
    },
    "tags": []
   },
   "outputs": [],
   "source": [
    "(qubit_op, num_particles, num_spatial_orbitals, problem, mapper,nuclear_repulsion_energy, core_electron_energy) = get_qubit_op(BL)"
   ]
  },
  {
   "cell_type": "code",
   "execution_count": 7,
   "id": "8e954660",
   "metadata": {
    "execution": {
     "iopub.execute_input": "2025-07-31T01:17:20.208428Z",
     "iopub.status.busy": "2025-07-31T01:17:20.207590Z",
     "iopub.status.idle": "2025-07-31T01:17:20.216195Z",
     "shell.execute_reply": "2025-07-31T01:17:20.215286Z"
    },
    "papermill": {
     "duration": 0.031184,
     "end_time": "2025-07-31T01:17:20.218616",
     "exception": false,
     "start_time": "2025-07-31T01:17:20.187432",
     "status": "completed"
    },
    "tags": []
   },
   "outputs": [
    {
     "data": {
      "text/plain": [
       "SparsePauliOp(['IIII', 'IIIZ', 'IIZI', 'IIZZ', 'IZII', 'IZIZ', 'ZIII', 'ZIIZ', 'YYYY', 'XXYY', 'YYXX', 'XXXX', 'IZZI', 'ZIZI', 'ZZII'],\n",
       "              coeffs=[-0.74422544+0.j,  0.04982003+0.j,  0.02878913+0.j,  0.04981446+0.j,\n",
       "  0.04982003+0.j,  0.12017998+0.j,  0.02878913+0.j,  0.12178485+0.j,\n",
       "  0.07197039+0.j,  0.07197039+0.j,  0.07197039+0.j,  0.07197039+0.j,\n",
       "  0.12178485+0.j,  0.12362853+0.j,  0.04981446+0.j])"
      ]
     },
     "execution_count": 7,
     "metadata": {},
     "output_type": "execute_result"
    }
   ],
   "source": [
    "qubit_op"
   ]
  },
  {
   "cell_type": "code",
   "execution_count": 8,
   "id": "8e03d926",
   "metadata": {
    "execution": {
     "iopub.execute_input": "2025-07-31T01:17:20.247049Z",
     "iopub.status.busy": "2025-07-31T01:17:20.245939Z",
     "iopub.status.idle": "2025-07-31T01:17:20.266349Z",
     "shell.execute_reply": "2025-07-31T01:17:20.264814Z"
    },
    "papermill": {
     "duration": 0.041231,
     "end_time": "2025-07-31T01:17:20.268971",
     "exception": false,
     "start_time": "2025-07-31T01:17:20.227740",
     "status": "completed"
    },
    "tags": []
   },
   "outputs": [],
   "source": [
    "# Extract terms and coefficients\n",
    "pauli_list = list(zip(qubit_op.paulis, qubit_op.coeffs))\n",
    "\n",
    "# Sort terms by absolute coefficient magnitude (largest first)\n",
    "sorted_pauli_list = sorted(pauli_list, key=lambda x: abs(x[1]), reverse=True)\n",
    "\n",
    "# Print sorted terms\n",
    "# for pauli, coef in sorted_pauli_list:\n",
    "#     print(f\"Pauli: {pauli}, Coefficient: {coef}\")\n",
    "\n",
    "# Save the list\n",
    "with open(\"sorted_pauli_list.pkl\", \"wb\") as f:\n",
    "    dill.dump(sorted_pauli_list, f)"
   ]
  },
  {
   "cell_type": "code",
   "execution_count": 9,
   "id": "09a22634",
   "metadata": {
    "execution": {
     "iopub.execute_input": "2025-07-31T01:17:20.297626Z",
     "iopub.status.busy": "2025-07-31T01:17:20.296977Z",
     "iopub.status.idle": "2025-07-31T01:17:20.305107Z",
     "shell.execute_reply": "2025-07-31T01:17:20.304027Z"
    },
    "papermill": {
     "duration": 0.029974,
     "end_time": "2025-07-31T01:17:20.306719",
     "exception": false,
     "start_time": "2025-07-31T01:17:20.276745",
     "status": "completed"
    },
    "tags": []
   },
   "outputs": [],
   "source": [
    "dd = np.real(min(np.linalg.eigvals(qubit_op.to_matrix())))"
   ]
  },
  {
   "cell_type": "markdown",
   "id": "a33105fe",
   "metadata": {
    "papermill": {
     "duration": 0.016337,
     "end_time": "2025-07-31T01:17:20.331662",
     "exception": false,
     "start_time": "2025-07-31T01:17:20.315325",
     "status": "completed"
    },
    "tags": []
   },
   "source": [
    "### 2 Perform VQE"
   ]
  },
  {
   "cell_type": "markdown",
   "id": "f6c1ff85",
   "metadata": {
    "papermill": {
     "duration": 0.01655,
     "end_time": "2025-07-31T01:17:20.370202",
     "exception": false,
     "start_time": "2025-07-31T01:17:20.353652",
     "status": "completed"
    },
    "tags": []
   },
   "source": [
    "Define a class to perform VQE."
   ]
  },
  {
   "cell_type": "code",
   "execution_count": 10,
   "id": "7f12ba1d",
   "metadata": {
    "execution": {
     "iopub.execute_input": "2025-07-31T01:17:20.413381Z",
     "iopub.status.busy": "2025-07-31T01:17:20.412819Z",
     "iopub.status.idle": "2025-07-31T01:17:20.421413Z",
     "shell.execute_reply": "2025-07-31T01:17:20.420376Z"
    },
    "papermill": {
     "duration": 0.031827,
     "end_time": "2025-07-31T01:17:20.423152",
     "exception": false,
     "start_time": "2025-07-31T01:17:20.391325",
     "status": "completed"
    },
    "tags": []
   },
   "outputs": [],
   "source": [
    "# Define the custom VQE\n",
    "class CustomVQE:\n",
    "    def __init__(self, estimator, ansatz, optimizer, qubit_op, dd, NREplusCEE, custom_function, initial_point=None):\n",
    "        self.estimator = estimator\n",
    "        self.ansatz = ansatz\n",
    "        self.optimizer = optimizer\n",
    "        self.qubit_op = qubit_op\n",
    "        self.NREplusCEE = NREplusCEE\n",
    "        self.dd = dd\n",
    "        self.custom_function = custom_function\n",
    "        self.initial_point = initial_point  or [0] * ansatz.num_parameters\n",
    "\n",
    "    def compute_minimum_eigenvalue(self):\n",
    "        # Define the function to minimize\n",
    "        def objective_function(params):\n",
    "            # Evaluate the expectation value of the qubit operator\n",
    "            expectation = self.estimator.run([self.ansatz], [self.qubit_op], [params]).result().values[0]\n",
    "            # Evaluate the custom objective function\n",
    "            return self.custom_function(expectation, params)\n",
    "\n",
    "        # Use the `minimize` method for optimization\n",
    "        opt_result = self.optimizer.minimize(\n",
    "            fun=objective_function,\n",
    "            x0=self.initial_point\n",
    "        )\n",
    "\n",
    "        result = {\n",
    "            'x': [float(value) for value in opt_result.x],\n",
    "            'fun': opt_result.fun,\n",
    "            'dd': self.dd,\n",
    "            'NREplusCEE': self.NREplusCEE\n",
    "        }\n",
    "\n",
    "        \n",
    "        return result\n"
   ]
  },
  {
   "cell_type": "code",
   "execution_count": 11,
   "id": "d499d53b",
   "metadata": {
    "execution": {
     "iopub.execute_input": "2025-07-31T01:17:20.448160Z",
     "iopub.status.busy": "2025-07-31T01:17:20.447559Z",
     "iopub.status.idle": "2025-07-31T01:17:20.455202Z",
     "shell.execute_reply": "2025-07-31T01:17:20.453501Z"
    },
    "papermill": {
     "duration": 0.026383,
     "end_time": "2025-07-31T01:17:20.457018",
     "exception": false,
     "start_time": "2025-07-31T01:17:20.430635",
     "status": "completed"
    },
    "tags": []
   },
   "outputs": [],
   "source": [
    "# l=12 and maxiter = 200 works for LiH and HF"
   ]
  },
  {
   "cell_type": "code",
   "execution_count": 12,
   "id": "868ad712",
   "metadata": {
    "execution": {
     "iopub.execute_input": "2025-07-31T01:17:20.489396Z",
     "iopub.status.busy": "2025-07-31T01:17:20.488297Z",
     "iopub.status.idle": "2025-07-31T01:17:20.504457Z",
     "shell.execute_reply": "2025-07-31T01:17:20.503503Z"
    },
    "papermill": {
     "duration": 0.041355,
     "end_time": "2025-07-31T01:17:20.506634",
     "exception": false,
     "start_time": "2025-07-31T01:17:20.465279",
     "status": "completed"
    },
    "tags": []
   },
   "outputs": [],
   "source": [
    "optimizer = SLSQP(maxiter=300)\n",
    "noiseless_estimator = Estimator(approximation=True)\n",
    "\n",
    "\n",
    "# Define ansatz\n",
    "var_form = EfficientSU2(qubit_op.num_qubits, reps=12, entanglement='full', skip_unentangled_qubits=False, parameter_prefix='a')\n",
    "\n",
    "\n",
    "# Example Custom Objective Function\n",
    "def custom_objective_function(expectation_value, parameters):\n",
    "    # penalty_term = 0.1 * sum(param**2 for param in parameters)  # Example regularization\n",
    "    return expectation_value \n",
    "\n",
    "\n",
    "# Create an instance of CustomVQE\n",
    "custom_vqe = CustomVQE(\n",
    "    estimator=noiseless_estimator,\n",
    "    ansatz=var_form,\n",
    "    optimizer=optimizer,\n",
    "    qubit_op=qubit_op,\n",
    "    dd = dd,\n",
    "    NREplusCEE = nuclear_repulsion_energy + core_electron_energy,\n",
    "    custom_function=custom_objective_function,\n",
    "    initial_point = list(np.random.uniform(-np.pi, np.pi, var_form.num_parameters))\n",
    ")\n"
   ]
  },
  {
   "cell_type": "code",
   "execution_count": 13,
   "id": "a23a50b5",
   "metadata": {
    "execution": {
     "iopub.execute_input": "2025-07-31T01:17:20.533278Z",
     "iopub.status.busy": "2025-07-31T01:17:20.532793Z",
     "iopub.status.idle": "2025-07-31T01:18:48.095088Z",
     "shell.execute_reply": "2025-07-31T01:18:48.093792Z"
    },
    "papermill": {
     "duration": 87.583333,
     "end_time": "2025-07-31T01:18:48.097424",
     "exception": false,
     "start_time": "2025-07-31T01:17:20.514091",
     "status": "completed"
    },
    "tags": []
   },
   "outputs": [],
   "source": [
    "vqe_result = custom_vqe.compute_minimum_eigenvalue()"
   ]
  },
  {
   "cell_type": "code",
   "execution_count": 14,
   "id": "c35ff26f-7516-49ca-a32d-dffdbcea7725",
   "metadata": {
    "execution": {
     "iopub.execute_input": "2025-07-31T01:18:48.137395Z",
     "iopub.status.busy": "2025-07-31T01:18:48.135855Z",
     "iopub.status.idle": "2025-07-31T01:18:48.145238Z",
     "shell.execute_reply": "2025-07-31T01:18:48.144092Z"
    },
    "papermill": {
     "duration": 0.039449,
     "end_time": "2025-07-31T01:18:48.147387",
     "exception": false,
     "start_time": "2025-07-31T01:18:48.107938",
     "status": "completed"
    },
    "tags": []
   },
   "outputs": [
    {
     "data": {
      "text/plain": [
       "{'x': [0.3751214352688147,\n",
       "  -2.357071985505295,\n",
       "  1.9940000121582848,\n",
       "  2.199839390105514,\n",
       "  2.4445362430247384,\n",
       "  2.3913847062673854,\n",
       "  -1.4052823976639226,\n",
       "  -2.7299423654675965,\n",
       "  2.231245454097882,\n",
       "  -3.096302282818919,\n",
       "  -0.024706464297798273,\n",
       "  0.11000497141883751,\n",
       "  2.073904036459798,\n",
       "  3.0071291311443376,\n",
       "  -1.7148571031683444,\n",
       "  -2.640436701598036,\n",
       "  -1.5418752861616167,\n",
       "  -1.2321245417681392,\n",
       "  2.178733781452323,\n",
       "  -1.505932539472427,\n",
       "  -2.4264180477857207,\n",
       "  1.2106985939299906,\n",
       "  2.0162070666690424,\n",
       "  -1.3751404480874185,\n",
       "  -2.0535471548652566,\n",
       "  1.2415015206924074,\n",
       "  2.8057694870820304,\n",
       "  3.096770071503636,\n",
       "  -0.3953018562559686,\n",
       "  -0.05481652645623327,\n",
       "  2.1766367393121384,\n",
       "  -1.2795272739878727,\n",
       "  -1.764598585750181,\n",
       "  1.0107145703468983,\n",
       "  -1.2696385958586527,\n",
       "  -2.154200752217113,\n",
       "  0.42887354526749516,\n",
       "  -2.629615125178459,\n",
       "  0.8059219145699591,\n",
       "  1.1298101492731263,\n",
       "  2.4882476693634206,\n",
       "  -1.5733938787865098,\n",
       "  -2.093963254656009,\n",
       "  2.0473607032900087,\n",
       "  -2.948640223382016,\n",
       "  -0.10861454693572553,\n",
       "  1.6634553382085469,\n",
       "  0.6004315820879684,\n",
       "  0.08757380902241071,\n",
       "  2.4013418146277643,\n",
       "  0.6753751853322006,\n",
       "  1.9774630327112326,\n",
       "  -1.3492330187931698,\n",
       "  0.395689539538538,\n",
       "  2.306808330691856,\n",
       "  1.7226322117169712,\n",
       "  0.11596441160326962,\n",
       "  0.19674087867709758,\n",
       "  -1.2405742826115465,\n",
       "  0.6805019938295498,\n",
       "  1.2614847730138838,\n",
       "  0.7462019451014474,\n",
       "  1.377662371842213,\n",
       "  0.1125736013802461,\n",
       "  -2.0377283854734274,\n",
       "  -0.7265271712584309,\n",
       "  0.6625247529153941,\n",
       "  0.9021989923212109,\n",
       "  -0.07194929931776022,\n",
       "  1.1258379321926686,\n",
       "  -0.2937195156741831,\n",
       "  -0.9118498973606176,\n",
       "  0.37792747922566866,\n",
       "  -1.351887216409233,\n",
       "  1.8772969737456626,\n",
       "  1.2212747740482324,\n",
       "  2.7396334876123007,\n",
       "  -2.860875827079601,\n",
       "  0.9493243104755308,\n",
       "  0.16563046971287348,\n",
       "  1.5080445127677264,\n",
       "  -2.3582371963584428,\n",
       "  0.3421672949169111,\n",
       "  3.531363000698702,\n",
       "  -1.2036670757669492,\n",
       "  -0.7230717277690472,\n",
       "  -1.8098359268462534,\n",
       "  1.2707738437711766,\n",
       "  -0.16779276974872895,\n",
       "  -1.7849170261544418,\n",
       "  1.0979539863748011,\n",
       "  -2.9210531816927277,\n",
       "  1.975722933376776,\n",
       "  3.2339132352578983,\n",
       "  -1.623069890378599,\n",
       "  -1.6525753706555688,\n",
       "  -2.320165868111968,\n",
       "  2.147779950484737,\n",
       "  0.8170801332576618,\n",
       "  -2.863235495564662,\n",
       "  -2.211704089236144,\n",
       "  -1.1450460361549557,\n",
       "  -1.5184469134805965,\n",
       "  -1.4600045318847685],\n",
       " 'fun': np.float64(-1.1345496682858975),\n",
       " 'dd': np.float64(-1.1345536424849727),\n",
       " 'NREplusCEE': np.float64(0.199689513554717)}"
      ]
     },
     "execution_count": 14,
     "metadata": {},
     "output_type": "execute_result"
    }
   ],
   "source": [
    "vqe_result"
   ]
  },
  {
   "cell_type": "code",
   "execution_count": 15,
   "id": "17f49028",
   "metadata": {
    "execution": {
     "iopub.execute_input": "2025-07-31T01:18:48.182914Z",
     "iopub.status.busy": "2025-07-31T01:18:48.182323Z",
     "iopub.status.idle": "2025-07-31T01:18:48.189038Z",
     "shell.execute_reply": "2025-07-31T01:18:48.188102Z"
    },
    "papermill": {
     "duration": 0.033443,
     "end_time": "2025-07-31T01:18:48.190610",
     "exception": false,
     "start_time": "2025-07-31T01:18:48.157167",
     "status": "completed"
    },
    "tags": []
   },
   "outputs": [
    {
     "data": {
      "text/plain": [
       "104"
      ]
     },
     "execution_count": 15,
     "metadata": {},
     "output_type": "execute_result"
    }
   ],
   "source": [
    "len(vqe_result['x'])"
   ]
  },
  {
   "cell_type": "code",
   "execution_count": 16,
   "id": "9ff78507",
   "metadata": {
    "execution": {
     "iopub.execute_input": "2025-07-31T01:18:48.220330Z",
     "iopub.status.busy": "2025-07-31T01:18:48.219988Z",
     "iopub.status.idle": "2025-07-31T01:18:48.224785Z",
     "shell.execute_reply": "2025-07-31T01:18:48.223943Z"
    },
    "papermill": {
     "duration": 0.028002,
     "end_time": "2025-07-31T01:18:48.226221",
     "exception": false,
     "start_time": "2025-07-31T01:18:48.198219",
     "status": "completed"
    },
    "tags": []
   },
   "outputs": [
    {
     "name": "stdout",
     "output_type": "stream",
     "text": [
      "3.974199075162943e-06\n"
     ]
    }
   ],
   "source": [
    "print(vqe_result['fun'] - vqe_result['dd'])"
   ]
  },
  {
   "cell_type": "code",
   "execution_count": 17,
   "id": "7424dae1",
   "metadata": {
    "execution": {
     "iopub.execute_input": "2025-07-31T01:18:48.251525Z",
     "iopub.status.busy": "2025-07-31T01:18:48.250526Z",
     "iopub.status.idle": "2025-07-31T01:18:48.258998Z",
     "shell.execute_reply": "2025-07-31T01:18:48.258096Z"
    },
    "papermill": {
     "duration": 0.025877,
     "end_time": "2025-07-31T01:18:48.261155",
     "exception": false,
     "start_time": "2025-07-31T01:18:48.235278",
     "status": "completed"
    },
    "tags": []
   },
   "outputs": [],
   "source": [
    "with open(\"vqe_result.pkl\", \"wb\") as f:\n",
    "    dill.dump(vqe_result, f)"
   ]
  }
 ],
 "metadata": {
  "kernelspec": {
   "display_name": "Python 3 (ipykernel)",
   "language": "python",
   "name": "python3"
  },
  "language_info": {
   "codemirror_mode": {
    "name": "ipython",
    "version": 3
   },
   "file_extension": ".py",
   "mimetype": "text/x-python",
   "name": "python",
   "nbconvert_exporter": "python",
   "pygments_lexer": "ipython3",
   "version": "3.10.15"
  },
  "papermill": {
   "default_parameters": {},
   "duration": 91.981143,
   "end_time": "2025-07-31T01:18:49.095001",
   "environment_variables": {},
   "exception": null,
   "input_path": "vqe.ipynb",
   "output_path": "/usr/src/app/SoleyGroup/lab_data/Notebooks/Statistics/Corrected_plots/New_H2/BondLengths/processing_BL_2p65000/vqe.ipynb",
   "parameters": {
    "BL": 2.65
   },
   "start_time": "2025-07-31T01:17:17.113858",
   "version": "2.6.0"
  }
 },
 "nbformat": 4,
 "nbformat_minor": 5
}