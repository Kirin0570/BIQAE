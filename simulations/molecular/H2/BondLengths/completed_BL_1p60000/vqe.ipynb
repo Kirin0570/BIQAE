{
 "cells": [
  {
   "cell_type": "code",
   "execution_count": 1,
   "id": "0a2ba924",
   "metadata": {
    "execution": {
     "iopub.execute_input": "2025-07-31T01:15:15.163254Z",
     "iopub.status.busy": "2025-07-31T01:15:15.162506Z",
     "iopub.status.idle": "2025-07-31T01:15:16.914279Z",
     "shell.execute_reply": "2025-07-31T01:15:16.913075Z"
    },
    "papermill": {
     "duration": 1.763422,
     "end_time": "2025-07-31T01:15:16.915876",
     "exception": false,
     "start_time": "2025-07-31T01:15:15.152454",
     "status": "completed"
    },
    "tags": []
   },
   "outputs": [],
   "source": [
    "from qiskit_nature.second_q.formats.molecule_info import MoleculeInfo\n",
    "from qiskit_nature.second_q.drivers import PySCFDriver\n",
    "from qiskit_nature.second_q.transformers import FreezeCoreTransformer\n",
    "from qiskit_nature.second_q.mappers import ParityMapper, JordanWignerMapper\n",
    "import dill\n",
    "import numpy as np\n",
    "from qiskit_algorithms.optimizers import SPSA, SLSQP, COBYLA\n",
    "from qiskit_aer.primitives import Estimator\n",
    "from qiskit_nature.second_q.circuit.library import HartreeFock\n",
    "from qiskit.circuit.library import EfficientSU2"
   ]
  },
  {
   "cell_type": "code",
   "execution_count": 2,
   "id": "4e5b37cf-6138-4a82-be63-c7d8cc2eaad4",
   "metadata": {
    "execution": {
     "iopub.execute_input": "2025-07-31T01:15:16.949441Z",
     "iopub.status.busy": "2025-07-31T01:15:16.948935Z",
     "iopub.status.idle": "2025-07-31T01:15:16.960065Z",
     "shell.execute_reply": "2025-07-31T01:15:16.958665Z"
    },
    "papermill": {
     "duration": 0.03738,
     "end_time": "2025-07-31T01:15:16.961720",
     "exception": false,
     "start_time": "2025-07-31T01:15:16.924340",
     "status": "completed"
    },
    "tags": []
   },
   "outputs": [
    {
     "data": {
      "text/plain": [
       "'0.7.2'"
      ]
     },
     "execution_count": 2,
     "metadata": {},
     "output_type": "execute_result"
    }
   ],
   "source": [
    "import qiskit_nature\n",
    "qiskit_nature.__version__"
   ]
  },
  {
   "cell_type": "code",
   "execution_count": 3,
   "id": "ba910acd",
   "metadata": {
    "execution": {
     "iopub.execute_input": "2025-07-31T01:15:16.993854Z",
     "iopub.status.busy": "2025-07-31T01:15:16.993263Z",
     "iopub.status.idle": "2025-07-31T01:15:16.998804Z",
     "shell.execute_reply": "2025-07-31T01:15:16.997133Z"
    },
    "papermill": {
     "duration": 0.029003,
     "end_time": "2025-07-31T01:15:17.000866",
     "exception": false,
     "start_time": "2025-07-31T01:15:16.971863",
     "status": "completed"
    },
    "slideshow": {
     "slide_type": ""
    },
    "tags": [
     "parameters"
    ]
   },
   "outputs": [],
   "source": [
    "BL = 0.6"
   ]
  },
  {
   "cell_type": "code",
   "execution_count": 4,
   "id": "bfc33fcf",
   "metadata": {
    "execution": {
     "iopub.execute_input": "2025-07-31T01:15:17.035985Z",
     "iopub.status.busy": "2025-07-31T01:15:17.034799Z",
     "iopub.status.idle": "2025-07-31T01:15:17.045032Z",
     "shell.execute_reply": "2025-07-31T01:15:17.041669Z"
    },
    "papermill": {
     "duration": 0.038887,
     "end_time": "2025-07-31T01:15:17.049753",
     "exception": false,
     "start_time": "2025-07-31T01:15:17.010866",
     "status": "completed"
    },
    "tags": [
     "injected-parameters"
    ]
   },
   "outputs": [],
   "source": [
    "# Parameters\n",
    "BL = 1.6\n"
   ]
  },
  {
   "cell_type": "markdown",
   "id": "7e24e37e",
   "metadata": {
    "papermill": {
     "duration": 0.039345,
     "end_time": "2025-07-31T01:15:17.119015",
     "exception": false,
     "start_time": "2025-07-31T01:15:17.079670",
     "status": "completed"
    },
    "tags": []
   },
   "source": [
    "### 1 Construct the Hamiltonian"
   ]
  },
  {
   "cell_type": "markdown",
   "id": "7b0ce8eb",
   "metadata": {
    "papermill": {
     "duration": 0.01796,
     "end_time": "2025-07-31T01:15:17.177511",
     "exception": false,
     "start_time": "2025-07-31T01:15:17.159551",
     "status": "completed"
    },
    "tags": []
   },
   "source": [
    "Helper function to construct the Hamiltonian represented as a Pauli decomposition stored in `qubit_op`, while also returning the `nuclear_repulsion_energy` and `core_electron_energy`."
   ]
  },
  {
   "cell_type": "code",
   "execution_count": 5,
   "id": "abd75003",
   "metadata": {
    "execution": {
     "iopub.execute_input": "2025-07-31T01:15:17.209655Z",
     "iopub.status.busy": "2025-07-31T01:15:17.208893Z",
     "iopub.status.idle": "2025-07-31T01:15:17.223194Z",
     "shell.execute_reply": "2025-07-31T01:15:17.221704Z"
    },
    "papermill": {
     "duration": 0.033819,
     "end_time": "2025-07-31T01:15:17.225765",
     "exception": false,
     "start_time": "2025-07-31T01:15:17.191946",
     "status": "completed"
    },
    "slideshow": {
     "slide_type": ""
    },
    "tags": []
   },
   "outputs": [],
   "source": [
    "def get_qubit_op(BL):\n",
    "    molecule = MoleculeInfo(\n",
    "        symbols=[\"H\", \"H\"],\n",
    "        coords=([0.0, 0.0, 0.0], [BL, 0.0, 0.0]),\n",
    "        multiplicity=1,\n",
    "        charge=0,\n",
    "    )\n",
    "\n",
    "    driver = PySCFDriver.from_molecule(molecule)\n",
    "    properties = driver.run()\n",
    "\n",
    "    problem = FreezeCoreTransformer(\n",
    "        freeze_core=True, remove_orbitals=[-3, -2]\n",
    "    ).transform(properties)\n",
    "\n",
    "    # Get the fermionic Hamiltonian (first element)\n",
    "    fermionic_op, _ = problem.second_q_ops()\n",
    "\n",
    "    num_particles = problem.num_particles\n",
    "    num_spatial_orbitals = problem.num_spatial_orbitals\n",
    "\n",
    "    # Use Jordan-Wigner (no tapering)\n",
    "    mapper = JordanWignerMapper()\n",
    "    qubit_op = mapper.map(fermionic_op)\n",
    "    # converter = QubitConverter(mapper=mapper)\n",
    "    # qubit_op = converter.convert(fermionic_op, num_particles=num_particles)\n",
    "\n",
    "    core_electron_energy = problem.hamiltonian.constants[\"FreezeCoreTransformer\"]\n",
    "    nuclear_repulsion_energy = problem.nuclear_repulsion_energy\n",
    "\n",
    "    return (\n",
    "        qubit_op,\n",
    "        num_particles,\n",
    "        num_spatial_orbitals,\n",
    "        problem,\n",
    "        mapper,\n",
    "        nuclear_repulsion_energy,\n",
    "        core_electron_energy,\n",
    "    )\n"
   ]
  },
  {
   "cell_type": "code",
   "execution_count": 6,
   "id": "7caf8b94",
   "metadata": {
    "execution": {
     "iopub.execute_input": "2025-07-31T01:15:17.251050Z",
     "iopub.status.busy": "2025-07-31T01:15:17.250524Z",
     "iopub.status.idle": "2025-07-31T01:15:17.480089Z",
     "shell.execute_reply": "2025-07-31T01:15:17.478948Z"
    },
    "papermill": {
     "duration": 0.2488,
     "end_time": "2025-07-31T01:15:17.481739",
     "exception": false,
     "start_time": "2025-07-31T01:15:17.232939",
     "status": "completed"
    },
    "tags": []
   },
   "outputs": [],
   "source": [
    "(qubit_op, num_particles, num_spatial_orbitals, problem, mapper,nuclear_repulsion_energy, core_electron_energy) = get_qubit_op(BL)"
   ]
  },
  {
   "cell_type": "code",
   "execution_count": 7,
   "id": "8e954660",
   "metadata": {
    "execution": {
     "iopub.execute_input": "2025-07-31T01:15:17.507638Z",
     "iopub.status.busy": "2025-07-31T01:15:17.507170Z",
     "iopub.status.idle": "2025-07-31T01:15:17.514083Z",
     "shell.execute_reply": "2025-07-31T01:15:17.513208Z"
    },
    "papermill": {
     "duration": 0.027039,
     "end_time": "2025-07-31T01:15:17.515785",
     "exception": false,
     "start_time": "2025-07-31T01:15:17.488746",
     "status": "completed"
    },
    "tags": []
   },
   "outputs": [
    {
     "data": {
      "text/plain": [
       "SparsePauliOp(['IIII', 'IIIZ', 'IIZI', 'IIZZ', 'IZII', 'IZIZ', 'ZIII', 'ZIIZ', 'YYYY', 'XXYY', 'YYXX', 'XXXX', 'IZZI', 'ZIZI', 'ZZII'],\n",
       "              coeffs=[-0.8362123 +0.j,  0.08705553+0.j, -0.02425321+0.j,  0.0785431 +0.j,\n",
       "  0.08705553+0.j,  0.13546888+0.j, -0.02425321+0.j,  0.13751842+0.j,\n",
       "  0.05897532+0.j,  0.05897532+0.j,  0.05897532+0.j,  0.05897532+0.j,\n",
       "  0.13751842+0.j,  0.14301575+0.j,  0.0785431 +0.j])"
      ]
     },
     "execution_count": 7,
     "metadata": {},
     "output_type": "execute_result"
    }
   ],
   "source": [
    "qubit_op"
   ]
  },
  {
   "cell_type": "code",
   "execution_count": 8,
   "id": "8e03d926",
   "metadata": {
    "execution": {
     "iopub.execute_input": "2025-07-31T01:15:17.538631Z",
     "iopub.status.busy": "2025-07-31T01:15:17.537916Z",
     "iopub.status.idle": "2025-07-31T01:15:17.554363Z",
     "shell.execute_reply": "2025-07-31T01:15:17.553263Z"
    },
    "papermill": {
     "duration": 0.034149,
     "end_time": "2025-07-31T01:15:17.556111",
     "exception": false,
     "start_time": "2025-07-31T01:15:17.521962",
     "status": "completed"
    },
    "tags": []
   },
   "outputs": [],
   "source": [
    "# Extract terms and coefficients\n",
    "pauli_list = list(zip(qubit_op.paulis, qubit_op.coeffs))\n",
    "\n",
    "# Sort terms by absolute coefficient magnitude (largest first)\n",
    "sorted_pauli_list = sorted(pauli_list, key=lambda x: abs(x[1]), reverse=True)\n",
    "\n",
    "# Print sorted terms\n",
    "# for pauli, coef in sorted_pauli_list:\n",
    "#     print(f\"Pauli: {pauli}, Coefficient: {coef}\")\n",
    "\n",
    "# Save the list\n",
    "with open(\"sorted_pauli_list.pkl\", \"wb\") as f:\n",
    "    dill.dump(sorted_pauli_list, f)"
   ]
  },
  {
   "cell_type": "code",
   "execution_count": 9,
   "id": "09a22634",
   "metadata": {
    "execution": {
     "iopub.execute_input": "2025-07-31T01:15:17.587257Z",
     "iopub.status.busy": "2025-07-31T01:15:17.586407Z",
     "iopub.status.idle": "2025-07-31T01:15:17.596572Z",
     "shell.execute_reply": "2025-07-31T01:15:17.595665Z"
    },
    "papermill": {
     "duration": 0.031063,
     "end_time": "2025-07-31T01:15:17.597810",
     "exception": false,
     "start_time": "2025-07-31T01:15:17.566747",
     "status": "completed"
    },
    "tags": []
   },
   "outputs": [],
   "source": [
    "dd = np.real(min(np.linalg.eigvals(qubit_op.to_matrix())))"
   ]
  },
  {
   "cell_type": "markdown",
   "id": "a33105fe",
   "metadata": {
    "papermill": {
     "duration": 0.019261,
     "end_time": "2025-07-31T01:15:17.625021",
     "exception": false,
     "start_time": "2025-07-31T01:15:17.605760",
     "status": "completed"
    },
    "tags": []
   },
   "source": [
    "### 2 Perform VQE"
   ]
  },
  {
   "cell_type": "markdown",
   "id": "f6c1ff85",
   "metadata": {
    "papermill": {
     "duration": 0.013331,
     "end_time": "2025-07-31T01:15:17.652257",
     "exception": false,
     "start_time": "2025-07-31T01:15:17.638926",
     "status": "completed"
    },
    "tags": []
   },
   "source": [
    "Define a class to perform VQE."
   ]
  },
  {
   "cell_type": "code",
   "execution_count": 10,
   "id": "7f12ba1d",
   "metadata": {
    "execution": {
     "iopub.execute_input": "2025-07-31T01:15:17.689719Z",
     "iopub.status.busy": "2025-07-31T01:15:17.687439Z",
     "iopub.status.idle": "2025-07-31T01:15:17.697397Z",
     "shell.execute_reply": "2025-07-31T01:15:17.696337Z"
    },
    "papermill": {
     "duration": 0.030358,
     "end_time": "2025-07-31T01:15:17.698799",
     "exception": false,
     "start_time": "2025-07-31T01:15:17.668441",
     "status": "completed"
    },
    "tags": []
   },
   "outputs": [],
   "source": [
    "# Define the custom VQE\n",
    "class CustomVQE:\n",
    "    def __init__(self, estimator, ansatz, optimizer, qubit_op, dd, NREplusCEE, custom_function, initial_point=None):\n",
    "        self.estimator = estimator\n",
    "        self.ansatz = ansatz\n",
    "        self.optimizer = optimizer\n",
    "        self.qubit_op = qubit_op\n",
    "        self.NREplusCEE = NREplusCEE\n",
    "        self.dd = dd\n",
    "        self.custom_function = custom_function\n",
    "        self.initial_point = initial_point  or [0] * ansatz.num_parameters\n",
    "\n",
    "    def compute_minimum_eigenvalue(self):\n",
    "        # Define the function to minimize\n",
    "        def objective_function(params):\n",
    "            # Evaluate the expectation value of the qubit operator\n",
    "            expectation = self.estimator.run([self.ansatz], [self.qubit_op], [params]).result().values[0]\n",
    "            # Evaluate the custom objective function\n",
    "            return self.custom_function(expectation, params)\n",
    "\n",
    "        # Use the `minimize` method for optimization\n",
    "        opt_result = self.optimizer.minimize(\n",
    "            fun=objective_function,\n",
    "            x0=self.initial_point\n",
    "        )\n",
    "\n",
    "        result = {\n",
    "            'x': [float(value) for value in opt_result.x],\n",
    "            'fun': opt_result.fun,\n",
    "            'dd': self.dd,\n",
    "            'NREplusCEE': self.NREplusCEE\n",
    "        }\n",
    "\n",
    "        \n",
    "        return result\n"
   ]
  },
  {
   "cell_type": "code",
   "execution_count": 11,
   "id": "d499d53b",
   "metadata": {
    "execution": {
     "iopub.execute_input": "2025-07-31T01:15:17.722779Z",
     "iopub.status.busy": "2025-07-31T01:15:17.722271Z",
     "iopub.status.idle": "2025-07-31T01:15:17.726674Z",
     "shell.execute_reply": "2025-07-31T01:15:17.725629Z"
    },
    "papermill": {
     "duration": 0.022015,
     "end_time": "2025-07-31T01:15:17.728676",
     "exception": false,
     "start_time": "2025-07-31T01:15:17.706661",
     "status": "completed"
    },
    "tags": []
   },
   "outputs": [],
   "source": [
    "# l=12 and maxiter = 200 works for LiH and HF"
   ]
  },
  {
   "cell_type": "code",
   "execution_count": 12,
   "id": "868ad712",
   "metadata": {
    "execution": {
     "iopub.execute_input": "2025-07-31T01:15:17.753434Z",
     "iopub.status.busy": "2025-07-31T01:15:17.752228Z",
     "iopub.status.idle": "2025-07-31T01:15:17.771338Z",
     "shell.execute_reply": "2025-07-31T01:15:17.770212Z"
    },
    "papermill": {
     "duration": 0.036238,
     "end_time": "2025-07-31T01:15:17.773255",
     "exception": false,
     "start_time": "2025-07-31T01:15:17.737017",
     "status": "completed"
    },
    "tags": []
   },
   "outputs": [],
   "source": [
    "optimizer = SLSQP(maxiter=300)\n",
    "noiseless_estimator = Estimator(approximation=True)\n",
    "\n",
    "\n",
    "# Define ansatz\n",
    "var_form = EfficientSU2(qubit_op.num_qubits, reps=12, entanglement='full', skip_unentangled_qubits=False, parameter_prefix='a')\n",
    "\n",
    "\n",
    "# Example Custom Objective Function\n",
    "def custom_objective_function(expectation_value, parameters):\n",
    "    # penalty_term = 0.1 * sum(param**2 for param in parameters)  # Example regularization\n",
    "    return expectation_value \n",
    "\n",
    "\n",
    "# Create an instance of CustomVQE\n",
    "custom_vqe = CustomVQE(\n",
    "    estimator=noiseless_estimator,\n",
    "    ansatz=var_form,\n",
    "    optimizer=optimizer,\n",
    "    qubit_op=qubit_op,\n",
    "    dd = dd,\n",
    "    NREplusCEE = nuclear_repulsion_energy + core_electron_energy,\n",
    "    custom_function=custom_objective_function,\n",
    "    initial_point = list(np.random.uniform(-np.pi, np.pi, var_form.num_parameters))\n",
    ")\n"
   ]
  },
  {
   "cell_type": "code",
   "execution_count": 13,
   "id": "a23a50b5",
   "metadata": {
    "execution": {
     "iopub.execute_input": "2025-07-31T01:15:17.807442Z",
     "iopub.status.busy": "2025-07-31T01:15:17.805948Z",
     "iopub.status.idle": "2025-07-31T01:15:47.952330Z",
     "shell.execute_reply": "2025-07-31T01:15:47.951234Z"
    },
    "papermill": {
     "duration": 30.173371,
     "end_time": "2025-07-31T01:15:47.955325",
     "exception": false,
     "start_time": "2025-07-31T01:15:17.781954",
     "status": "completed"
    },
    "tags": []
   },
   "outputs": [],
   "source": [
    "vqe_result = custom_vqe.compute_minimum_eigenvalue()"
   ]
  },
  {
   "cell_type": "code",
   "execution_count": 14,
   "id": "c35ff26f-7516-49ca-a32d-dffdbcea7725",
   "metadata": {
    "execution": {
     "iopub.execute_input": "2025-07-31T01:15:47.989858Z",
     "iopub.status.busy": "2025-07-31T01:15:47.989126Z",
     "iopub.status.idle": "2025-07-31T01:15:47.996041Z",
     "shell.execute_reply": "2025-07-31T01:15:47.995245Z"
    },
    "papermill": {
     "duration": 0.033174,
     "end_time": "2025-07-31T01:15:47.997608",
     "exception": false,
     "start_time": "2025-07-31T01:15:47.964434",
     "status": "completed"
    },
    "tags": []
   },
   "outputs": [
    {
     "data": {
      "text/plain": [
       "{'x': [-0.6666629677438438,\n",
       "  2.5034956530329846,\n",
       "  -2.0867775261045822,\n",
       "  1.9357627534273432,\n",
       "  -2.5363452692765445,\n",
       "  1.7320720399933498,\n",
       "  -2.2070053771961913,\n",
       "  1.6331396932264728,\n",
       "  -0.4940305478018838,\n",
       "  -0.8572819661478615,\n",
       "  -0.012994844027024237,\n",
       "  2.4205126730651294,\n",
       "  -2.5473429446400533,\n",
       "  0.635220748408899,\n",
       "  2.297161751171107,\n",
       "  -1.7089221614370445,\n",
       "  1.9925028293925064,\n",
       "  -2.788555185769671,\n",
       "  0.34478158415682003,\n",
       "  0.16645835417825813,\n",
       "  0.05310165172612953,\n",
       "  -0.4581259631103617,\n",
       "  -1.5615036270272789,\n",
       "  -1.3061719914945107,\n",
       "  -0.9332941586206491,\n",
       "  0.4804651973818476,\n",
       "  -0.003436692032875421,\n",
       "  -2.6145736166088804,\n",
       "  -0.7164595434034648,\n",
       "  0.165600774120115,\n",
       "  0.6059327050972243,\n",
       "  0.6011447008983526,\n",
       "  2.8542026087324035,\n",
       "  1.5884151881537267,\n",
       "  2.246924110786882,\n",
       "  -0.9516053812440347,\n",
       "  -0.38740523811563937,\n",
       "  -0.3712454644026015,\n",
       "  0.23198647050581855,\n",
       "  -2.2327884802968585,\n",
       "  -0.493164131756215,\n",
       "  2.3830973268870443,\n",
       "  -1.7785154622563608,\n",
       "  -0.06838009676237204,\n",
       "  -2.6550892863859947,\n",
       "  1.7052900343833093,\n",
       "  -2.2503096093858264,\n",
       "  3.3267692729420797,\n",
       "  -1.5242270273408207,\n",
       "  0.7677473183776938,\n",
       "  -2.4492647873330453,\n",
       "  -1.2981688722284686,\n",
       "  -1.2556737286806519,\n",
       "  1.3172832679983097,\n",
       "  1.2250396723243087,\n",
       "  -0.34652540554304434,\n",
       "  2.2640926232166123,\n",
       "  2.101754134080873,\n",
       "  2.374620244738786,\n",
       "  1.9577187802993685,\n",
       "  0.9552637172396263,\n",
       "  1.0506546453697572,\n",
       "  -2.503220817927121,\n",
       "  1.9186227255421664,\n",
       "  -1.5296128706920142,\n",
       "  0.2849758845008377,\n",
       "  -0.9845245277104059,\n",
       "  -0.3112527504956591,\n",
       "  1.0237004311302178,\n",
       "  2.6686248701373785,\n",
       "  1.732208409116936,\n",
       "  -3.1177458353433702,\n",
       "  2.1626229522390363,\n",
       "  -0.24845281562053978,\n",
       "  -2.243193893405332,\n",
       "  2.53948626530978,\n",
       "  -1.1206795292879306,\n",
       "  2.9269064223016024,\n",
       "  -1.0426297791952772,\n",
       "  -0.009487427277153432,\n",
       "  0.9111815603769083,\n",
       "  -0.7835015711594981,\n",
       "  2.239509718796086,\n",
       "  2.8987660335810186,\n",
       "  3.3851962124813135,\n",
       "  -1.0974684657936524,\n",
       "  -0.7823901439136557,\n",
       "  0.5452035221520289,\n",
       "  0.49135951621937957,\n",
       "  1.6531938885107906,\n",
       "  -3.5052637841787257,\n",
       "  -2.4136277316604473,\n",
       "  1.5894471869642202,\n",
       "  -1.3501676745290143,\n",
       "  -1.8242792180332204,\n",
       "  1.9026181481977793,\n",
       "  1.869725977899944,\n",
       "  0.23308714201267838,\n",
       "  0.8691141993263432,\n",
       "  -2.4569988388060024,\n",
       "  -1.4145411870203801,\n",
       "  -2.6286196955228944,\n",
       "  -2.645172901742836,\n",
       "  -1.809897226102569],\n",
       " 'fun': np.float64(-1.3142077814863333),\n",
       " 'dd': np.float64(-1.314208485858173),\n",
       " 'NREplusCEE': np.float64(0.330735756825)}"
      ]
     },
     "execution_count": 14,
     "metadata": {},
     "output_type": "execute_result"
    }
   ],
   "source": [
    "vqe_result"
   ]
  },
  {
   "cell_type": "code",
   "execution_count": 15,
   "id": "17f49028",
   "metadata": {
    "execution": {
     "iopub.execute_input": "2025-07-31T01:15:48.022055Z",
     "iopub.status.busy": "2025-07-31T01:15:48.021451Z",
     "iopub.status.idle": "2025-07-31T01:15:48.027441Z",
     "shell.execute_reply": "2025-07-31T01:15:48.026388Z"
    },
    "papermill": {
     "duration": 0.022966,
     "end_time": "2025-07-31T01:15:48.028892",
     "exception": false,
     "start_time": "2025-07-31T01:15:48.005926",
     "status": "completed"
    },
    "tags": []
   },
   "outputs": [
    {
     "data": {
      "text/plain": [
       "104"
      ]
     },
     "execution_count": 15,
     "metadata": {},
     "output_type": "execute_result"
    }
   ],
   "source": [
    "len(vqe_result['x'])"
   ]
  },
  {
   "cell_type": "code",
   "execution_count": 16,
   "id": "9ff78507",
   "metadata": {
    "execution": {
     "iopub.execute_input": "2025-07-31T01:15:48.055646Z",
     "iopub.status.busy": "2025-07-31T01:15:48.055143Z",
     "iopub.status.idle": "2025-07-31T01:15:48.059835Z",
     "shell.execute_reply": "2025-07-31T01:15:48.059105Z"
    },
    "papermill": {
     "duration": 0.024461,
     "end_time": "2025-07-31T01:15:48.061441",
     "exception": false,
     "start_time": "2025-07-31T01:15:48.036980",
     "status": "completed"
    },
    "tags": []
   },
   "outputs": [
    {
     "name": "stdout",
     "output_type": "stream",
     "text": [
      "7.043718397437004e-07\n"
     ]
    }
   ],
   "source": [
    "print(vqe_result['fun'] - vqe_result['dd'])"
   ]
  },
  {
   "cell_type": "code",
   "execution_count": 17,
   "id": "7424dae1",
   "metadata": {
    "execution": {
     "iopub.execute_input": "2025-07-31T01:15:48.089110Z",
     "iopub.status.busy": "2025-07-31T01:15:48.088261Z",
     "iopub.status.idle": "2025-07-31T01:15:48.097125Z",
     "shell.execute_reply": "2025-07-31T01:15:48.095811Z"
    },
    "papermill": {
     "duration": 0.028786,
     "end_time": "2025-07-31T01:15:48.099335",
     "exception": false,
     "start_time": "2025-07-31T01:15:48.070549",
     "status": "completed"
    },
    "tags": []
   },
   "outputs": [],
   "source": [
    "with open(\"vqe_result.pkl\", \"wb\") as f:\n",
    "    dill.dump(vqe_result, f)"
   ]
  }
 ],
 "metadata": {
  "kernelspec": {
   "display_name": "Python 3 (ipykernel)",
   "language": "python",
   "name": "python3"
  },
  "language_info": {
   "codemirror_mode": {
    "name": "ipython",
    "version": 3
   },
   "file_extension": ".py",
   "mimetype": "text/x-python",
   "name": "python",
   "nbconvert_exporter": "python",
   "pygments_lexer": "ipython3",
   "version": "3.10.15"
  },
  "papermill": {
   "default_parameters": {},
   "duration": 34.685345,
   "end_time": "2025-07-31T01:15:49.031020",
   "environment_variables": {},
   "exception": null,
   "input_path": "vqe.ipynb",
   "output_path": "/usr/src/app/SoleyGroup/lab_data/Notebooks/Statistics/Corrected_plots/New_H2/BondLengths/processing_BL_1p60000/vqe.ipynb",
   "parameters": {
    "BL": 1.6
   },
   "start_time": "2025-07-31T01:15:14.345675",
   "version": "2.6.0"
  }
 },
 "nbformat": 4,
 "nbformat_minor": 5
}