{
 "cells": [
  {
   "cell_type": "code",
   "execution_count": 1,
   "id": "33deb3a1",
   "metadata": {
    "execution": {
     "iopub.execute_input": "2025-03-01T17:07:55.979956Z",
     "iopub.status.busy": "2025-03-01T17:07:55.979189Z",
     "iopub.status.idle": "2025-03-01T17:07:57.927661Z",
     "shell.execute_reply": "2025-03-01T17:07:57.926481Z"
    },
    "papermill": {
     "duration": 1.959453,
     "end_time": "2025-03-01T17:07:57.929937",
     "exception": false,
     "start_time": "2025-03-01T17:07:55.970484",
     "status": "completed"
    },
    "tags": []
   },
   "outputs": [],
   "source": [
    "import sys\n",
    "import os\n",
    "import dill\n",
    "import matplotlib.pyplot as plt\n",
    "\n",
    "from qiskit import transpile\n",
    "from qiskit_aer import AerSimulator\n",
    "from qiskit.qpy import load as qpy_load, dump as qpy_dump\n",
    "\n",
    "# Add the path to the parent of the parent directory\n",
    "sys.path.append(os.path.abspath(os.path.join(os.getcwd(), \"../../\")))\n",
    "\n",
    "# Now you can import your modules\n",
    "from circuit_constructors import construct_A, construct_Q"
   ]
  },
  {
   "cell_type": "markdown",
   "id": "d92914a3",
   "metadata": {
    "papermill": {
     "duration": 0.015029,
     "end_time": "2025-03-01T17:07:57.952683",
     "exception": false,
     "start_time": "2025-03-01T17:07:57.937654",
     "status": "completed"
    },
    "tags": []
   },
   "source": [
    "### 1 Construct A and Q for all Pauli strings"
   ]
  },
  {
   "cell_type": "code",
   "execution_count": 2,
   "id": "657f53a1",
   "metadata": {
    "execution": {
     "iopub.execute_input": "2025-03-01T17:07:57.983624Z",
     "iopub.status.busy": "2025-03-01T17:07:57.983138Z",
     "iopub.status.idle": "2025-03-01T17:07:58.438040Z",
     "shell.execute_reply": "2025-03-01T17:07:58.436822Z"
    },
    "papermill": {
     "duration": 0.47189,
     "end_time": "2025-03-01T17:07:58.439913",
     "exception": false,
     "start_time": "2025-03-01T17:07:57.968023",
     "status": "completed"
    },
    "tags": []
   },
   "outputs": [],
   "source": [
    "# Load decomp and optim_res\n",
    "with open('../pauli_decomp/sorted_pauli_dict.pkl', 'rb') as f:\n",
    "    sorted_pauli_dict = dill.load(f)\n",
    "with open('../optim/optim_opt_res.pkl', 'rb') as f:\n",
    "    opt_res = dill.load(f)"
   ]
  },
  {
   "cell_type": "code",
   "execution_count": 3,
   "id": "d5e95e49",
   "metadata": {
    "execution": {
     "iopub.execute_input": "2025-03-01T17:07:58.468430Z",
     "iopub.status.busy": "2025-03-01T17:07:58.467383Z",
     "iopub.status.idle": "2025-03-01T17:07:59.245318Z",
     "shell.execute_reply": "2025-03-01T17:07:59.244028Z"
    },
    "papermill": {
     "duration": 0.799994,
     "end_time": "2025-03-01T17:07:59.247391",
     "exception": false,
     "start_time": "2025-03-01T17:07:58.447397",
     "status": "completed"
    },
    "tags": []
   },
   "outputs": [
    {
     "name": "stdout",
     "output_type": "stream",
     "text": [
      "Processed Pauli string 0: IIZI\n",
      "Processed Pauli string 1: ZIII\n",
      "Processed Pauli string 2: IIII\n",
      "Processed Pauli string 3: IIIZ\n",
      "Processed Pauli string 4: IZII\n"
     ]
    },
    {
     "name": "stdout",
     "output_type": "stream",
     "text": [
      "Processed Pauli string 5: ZIZI\n",
      "Processed Pauli string 6: IZIZ\n",
      "Processed Pauli string 7: ZIIZ\n",
      "Processed Pauli string 8: IZZI\n",
      "Processed Pauli string 9: IIZZ\n"
     ]
    },
    {
     "name": "stdout",
     "output_type": "stream",
     "text": [
      "Processed Pauli string 10: ZZII\n",
      "Processed Pauli string 11: XXXX\n",
      "Processed Pauli string 12: XXYY\n",
      "Processed Pauli string 13: YYXX\n"
     ]
    },
    {
     "name": "stdout",
     "output_type": "stream",
     "text": [
      "Processed Pauli string 14: YYYY\n",
      "All circuits generated and saved.\n"
     ]
    }
   ],
   "source": [
    "# Extract opt_params\n",
    "opt_params = opt_res.x\n",
    "\n",
    "# Set l\n",
    "l = 3\n",
    "\n",
    "# Create the main folder if it doesn't exist\n",
    "if not os.path.exists('circuits'):\n",
    "    os.makedirs('circuits')\n",
    "\n",
    "# Traverse the Pauli strings\n",
    "for i, (pauli_string, coeff) in enumerate(sorted_pauli_dict.items()):\n",
    "    # Create a folder for this Pauli string\n",
    "    folder_path = os.path.join('circuits', str(i))\n",
    "    if not os.path.exists(folder_path):\n",
    "        os.makedirs(folder_path)\n",
    "    \n",
    "    # Construct A\n",
    "    A = construct_A(l, opt_params, pauli_string)\n",
    "    \n",
    "    # Construct Q\n",
    "    Q = construct_Q(A)\n",
    "    \n",
    "    # Save A\n",
    "    with open(os.path.join(folder_path, 'circuit_A.qpy'), 'wb') as f:\n",
    "        qpy_dump(A, f)\n",
    "    \n",
    "    # Save Q\n",
    "    with open(os.path.join(folder_path, 'circuit_Q.qpy'), 'wb') as f:\n",
    "        qpy_dump(Q, f)\n",
    "    \n",
    "    print(f\"Processed Pauli string {i}: {pauli_string}\")\n",
    "\n",
    "print(\"All circuits generated and saved.\")"
   ]
  },
  {
   "cell_type": "markdown",
   "id": "2ecbb0e3",
   "metadata": {
    "papermill": {
     "duration": 0.016798,
     "end_time": "2025-03-01T17:07:59.272383",
     "exception": false,
     "start_time": "2025-03-01T17:07:59.255585",
     "status": "completed"
    },
    "tags": []
   },
   "source": [
    "### 2 Transpilation"
   ]
  },
  {
   "cell_type": "code",
   "execution_count": 4,
   "id": "802f728e",
   "metadata": {
    "execution": {
     "iopub.execute_input": "2025-03-01T17:07:59.321821Z",
     "iopub.status.busy": "2025-03-01T17:07:59.320118Z",
     "iopub.status.idle": "2025-03-01T17:08:05.162851Z",
     "shell.execute_reply": "2025-03-01T17:08:05.161452Z"
    },
    "papermill": {
     "duration": 5.876669,
     "end_time": "2025-03-01T17:08:05.164762",
     "exception": false,
     "start_time": "2025-03-01T17:07:59.288093",
     "status": "completed"
    },
    "tags": []
   },
   "outputs": [
    {
     "name": "stdout",
     "output_type": "stream",
     "text": [
      "Transpiled and saved: circuits/0/transpiled_circuit_A.qpy\n"
     ]
    },
    {
     "name": "stdout",
     "output_type": "stream",
     "text": [
      "Transpiled and saved: circuits/0/transpiled_circuit_Q.qpy\n",
      "Transpiled and saved: circuits/1/transpiled_circuit_A.qpy\n"
     ]
    },
    {
     "name": "stdout",
     "output_type": "stream",
     "text": [
      "Transpiled and saved: circuits/1/transpiled_circuit_Q.qpy\n",
      "Transpiled and saved: circuits/10/transpiled_circuit_A.qpy\n"
     ]
    },
    {
     "name": "stdout",
     "output_type": "stream",
     "text": [
      "Transpiled and saved: circuits/10/transpiled_circuit_Q.qpy\n",
      "Transpiled and saved: circuits/11/transpiled_circuit_A.qpy\n"
     ]
    },
    {
     "name": "stdout",
     "output_type": "stream",
     "text": [
      "Transpiled and saved: circuits/11/transpiled_circuit_Q.qpy\n",
      "Transpiled and saved: circuits/12/transpiled_circuit_A.qpy\n"
     ]
    },
    {
     "name": "stdout",
     "output_type": "stream",
     "text": [
      "Transpiled and saved: circuits/12/transpiled_circuit_Q.qpy\n",
      "Transpiled and saved: circuits/13/transpiled_circuit_A.qpy\n"
     ]
    },
    {
     "name": "stdout",
     "output_type": "stream",
     "text": [
      "Transpiled and saved: circuits/13/transpiled_circuit_Q.qpy\n",
      "Transpiled and saved: circuits/14/transpiled_circuit_A.qpy\n"
     ]
    },
    {
     "name": "stdout",
     "output_type": "stream",
     "text": [
      "Transpiled and saved: circuits/14/transpiled_circuit_Q.qpy\n",
      "Transpiled and saved: circuits/2/transpiled_circuit_A.qpy\n"
     ]
    },
    {
     "name": "stdout",
     "output_type": "stream",
     "text": [
      "Transpiled and saved: circuits/2/transpiled_circuit_Q.qpy\n",
      "Transpiled and saved: circuits/3/transpiled_circuit_A.qpy\n"
     ]
    },
    {
     "name": "stdout",
     "output_type": "stream",
     "text": [
      "Transpiled and saved: circuits/3/transpiled_circuit_Q.qpy\n",
      "Transpiled and saved: circuits/4/transpiled_circuit_A.qpy\n"
     ]
    },
    {
     "name": "stdout",
     "output_type": "stream",
     "text": [
      "Transpiled and saved: circuits/4/transpiled_circuit_Q.qpy\n",
      "Transpiled and saved: circuits/5/transpiled_circuit_A.qpy\n"
     ]
    },
    {
     "name": "stdout",
     "output_type": "stream",
     "text": [
      "Transpiled and saved: circuits/5/transpiled_circuit_Q.qpy\n",
      "Transpiled and saved: circuits/6/transpiled_circuit_A.qpy\n"
     ]
    },
    {
     "name": "stdout",
     "output_type": "stream",
     "text": [
      "Transpiled and saved: circuits/6/transpiled_circuit_Q.qpy\n",
      "Transpiled and saved: circuits/7/transpiled_circuit_A.qpy\n"
     ]
    },
    {
     "name": "stdout",
     "output_type": "stream",
     "text": [
      "Transpiled and saved: circuits/7/transpiled_circuit_Q.qpy\n",
      "Transpiled and saved: circuits/8/transpiled_circuit_A.qpy\n"
     ]
    },
    {
     "name": "stdout",
     "output_type": "stream",
     "text": [
      "Transpiled and saved: circuits/8/transpiled_circuit_Q.qpy\n",
      "Transpiled and saved: circuits/9/transpiled_circuit_A.qpy\n"
     ]
    },
    {
     "name": "stdout",
     "output_type": "stream",
     "text": [
      "Transpiled and saved: circuits/9/transpiled_circuit_Q.qpy\n",
      "All circuits have been transpiled and saved.\n",
      "For the 1th Pauli string:\n",
      "  The depth of circuit A is 19\n",
      "  The depth of circuit Q is 39\n",
      "For the 2th Pauli string:\n",
      "  The depth of circuit A is 17\n",
      "  The depth of circuit Q is 35\n",
      "For the 3th Pauli string:\n",
      "  The depth of circuit A is 17\n",
      "  The depth of circuit Q is 35\n",
      "For the 4th Pauli string:\n",
      "  The depth of circuit A is 19\n",
      "  The depth of circuit Q is 39\n",
      "For the 5th Pauli string:\n",
      "  The depth of circuit A is 18\n",
      "  The depth of circuit Q is 37\n",
      "For the 6th Pauli string:\n",
      "  The depth of circuit A is 19\n",
      "  The depth of circuit Q is 40\n",
      "For the 7th Pauli string:\n",
      "  The depth of circuit A is 19\n",
      "  The depth of circuit Q is 40\n",
      "For the 8th Pauli string:\n",
      "  The depth of circuit A is 19\n",
      "  The depth of circuit Q is 40\n",
      "For the 9th Pauli string:\n",
      "  The depth of circuit A is 19\n",
      "  The depth of circuit Q is 40\n",
      "For the 10th Pauli string:\n",
      "  The depth of circuit A is 20\n",
      "  The depth of circuit Q is 41\n",
      "For the 11th Pauli string:\n",
      "  The depth of circuit A is 18\n",
      "  The depth of circuit Q is 38\n",
      "For the 12th Pauli string:\n",
      "  The depth of circuit A is 20\n",
      "  The depth of circuit Q is 43\n",
      "For the 13th Pauli string:\n",
      "  The depth of circuit A is 20\n",
      "  The depth of circuit Q is 43\n",
      "For the 14th Pauli string:\n",
      "  The depth of circuit A is 20\n",
      "  The depth of circuit Q is 43\n",
      "For the 15th Pauli string:\n",
      "  The depth of circuit A is 20\n",
      "  The depth of circuit Q is 43\n"
     ]
    }
   ],
   "source": [
    "# Create an instance of the AerSimulator\n",
    "aer_sim = AerSimulator()\n",
    "\n",
    "# Dictionary to store depths of transpiled circuits\n",
    "transpiled_depths = {}\n",
    "\n",
    "# Walk through the numbered folders in circuits\n",
    "for folder in os.listdir('circuits'):\n",
    "    folder_path = os.path.join('circuits', folder)\n",
    "    if os.path.isdir(folder_path):\n",
    "        # Process circuit_A.qpy and circuit_Q.qpy\n",
    "        for circuit_file in ['circuit_A.qpy', 'circuit_Q.qpy']:\n",
    "            input_path = os.path.join(folder_path, circuit_file)\n",
    "            if os.path.exists(input_path):\n",
    "                # Load the circuit\n",
    "                with open(input_path, 'rb') as f:\n",
    "                    circuit = qpy_load(f)[0]\n",
    "                \n",
    "                # Transpile the circuit\n",
    "                transpiled_circuit = transpile(circuit, backend=aer_sim, optimization_level=3)\n",
    "                \n",
    "                # Save the transpiled circuit\n",
    "                transpiled_output_path = os.path.join(folder_path, f'transpiled_{circuit_file}')\n",
    "                \n",
    "                with open(transpiled_output_path, 'wb') as f:\n",
    "                    qpy_dump(transpiled_circuit, f)\n",
    "                \n",
    "                print(f\"Transpiled and saved: {transpiled_output_path}\")\n",
    "                \n",
    "                # Store the depth of the transpiled circuit\n",
    "                circuit_key = f\"{folder}_{circuit_file.split('.')[0]}\"\n",
    "                transpiled_depths[circuit_key] = transpiled_circuit.depth()\n",
    "\n",
    "print(\"All circuits have been transpiled and saved.\")\n",
    "\n",
    "# Print depths for both circuit A and Q\n",
    "for folder in sorted([d for d in os.listdir('circuits') if os.path.isdir(os.path.join('circuits', d))], key=int):\n",
    "    circuit_A_key = f\"{folder}_circuit_A\"\n",
    "    circuit_Q_key = f\"{folder}_circuit_Q\"\n",
    "    if circuit_A_key in transpiled_depths and circuit_Q_key in transpiled_depths:\n",
    "        print(f\"For the {int(folder) + 1}th Pauli string:\")\n",
    "        print(f\"  The depth of circuit A is {transpiled_depths[circuit_A_key]}\")\n",
    "        print(f\"  The depth of circuit Q is {transpiled_depths[circuit_Q_key]}\")\n",
    "\n"
   ]
  },
  {
   "cell_type": "markdown",
   "id": "a5af96fd",
   "metadata": {
    "papermill": {
     "duration": 0.018152,
     "end_time": "2025-03-01T17:08:05.191767",
     "exception": false,
     "start_time": "2025-03-01T17:08:05.173615",
     "status": "completed"
    },
    "tags": []
   },
   "source": [
    "### 3 Plot all circuits"
   ]
  },
  {
   "cell_type": "code",
   "execution_count": 5,
   "id": "837f25aa",
   "metadata": {
    "execution": {
     "iopub.execute_input": "2025-03-01T17:08:05.223628Z",
     "iopub.status.busy": "2025-03-01T17:08:05.223109Z",
     "iopub.status.idle": "2025-03-01T17:08:05.230036Z",
     "shell.execute_reply": "2025-03-01T17:08:05.228722Z"
    },
    "papermill": {
     "duration": 0.024536,
     "end_time": "2025-03-01T17:08:05.232167",
     "exception": false,
     "start_time": "2025-03-01T17:08:05.207631",
     "status": "completed"
    },
    "tags": []
   },
   "outputs": [],
   "source": [
    "# # Walk through the numbered folders in circuits\n",
    "# for folder in os.listdir('circuits'):\n",
    "#     folder_path = os.path.join('circuits', folder)\n",
    "#     if os.path.isdir(folder_path):\n",
    "#         # Process all circuit files in the folder\n",
    "#         for circuit_file in os.listdir(folder_path):\n",
    "#             if circuit_file.endswith('.qpy'):\n",
    "#                 input_path = os.path.join(folder_path, circuit_file)\n",
    "                \n",
    "#                 # Load the circuit\n",
    "#                 with open(input_path, 'rb') as f:\n",
    "#                     circuit = qpy_load(f)[0]\n",
    "                \n",
    "#                 # Draw the circuit\n",
    "#                 circuit_img = circuit.draw(output='mpl', style={\n",
    "#                     'dpi': 150,\n",
    "#                     'font_size': 20,\n",
    "#                     'backgroundcolor': '#EEEEEE'\n",
    "#                 })\n",
    "#                 circuit_img.figure.set_size_inches(30, 15)\n",
    "                \n",
    "#                 # Save the plot\n",
    "#                 output_filename = f\"{os.path.splitext(circuit_file)[0]}.png\"\n",
    "#                 output_path = os.path.join(folder_path, output_filename)\n",
    "#                 circuit_img.figure.savefig(output_path, dpi=300, bbox_inches='tight')\n",
    "#                 plt.close(circuit_img.figure)\n",
    "                \n",
    "#                 print(f\"Saved circuit plot: {output_path}\")\n",
    "\n",
    "# print(\"All circuit plots have been generated and saved.\")"
   ]
  }
 ],
 "metadata": {
  "kernelspec": {
   "display_name": "Qiskit",
   "language": "python",
   "name": "python3"
  },
  "language_info": {
   "codemirror_mode": {
    "name": "ipython",
    "version": 3
   },
   "file_extension": ".py",
   "mimetype": "text/x-python",
   "name": "python",
   "nbconvert_exporter": "python",
   "pygments_lexer": "ipython3",
   "version": "3.10.15"
  },
  "papermill": {
   "default_parameters": {},
   "duration": 10.948108,
   "end_time": "2025-03-01T17:08:05.865349",
   "environment_variables": {},
   "exception": null,
   "input_path": "all_str_A_Q.ipynb",
   "output_path": "/usr/src/app/SoleyGroup/lab_data/Notebooks/Statistics/Corrected_plots/corrected_H2/corrected_H2/BondLengths/processing_BL_0p20000/all_str_A_Q/all_str_A_Q_out.ipynb",
   "parameters": {},
   "start_time": "2025-03-01T17:07:54.917241",
   "version": "2.6.0"
  }
 },
 "nbformat": 4,
 "nbformat_minor": 5
}