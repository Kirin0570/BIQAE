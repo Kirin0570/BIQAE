{
 "cells": [
  {
   "cell_type": "code",
   "execution_count": 1,
   "id": "0a2ba924",
   "metadata": {
    "execution": {
     "iopub.execute_input": "2025-07-31T01:12:39.029726Z",
     "iopub.status.busy": "2025-07-31T01:12:39.028970Z",
     "iopub.status.idle": "2025-07-31T01:12:41.824697Z",
     "shell.execute_reply": "2025-07-31T01:12:41.823552Z"
    },
    "papermill": {
     "duration": 2.811537,
     "end_time": "2025-07-31T01:12:41.828576",
     "exception": false,
     "start_time": "2025-07-31T01:12:39.017039",
     "status": "completed"
    },
    "tags": []
   },
   "outputs": [],
   "source": [
    "from qiskit_nature.second_q.formats.molecule_info import MoleculeInfo\n",
    "from qiskit_nature.second_q.drivers import PySCFDriver\n",
    "from qiskit_nature.second_q.transformers import FreezeCoreTransformer\n",
    "from qiskit_nature.second_q.mappers import ParityMapper, JordanWignerMapper\n",
    "import dill\n",
    "import numpy as np\n",
    "from qiskit_algorithms.optimizers import SPSA, SLSQP, COBYLA\n",
    "from qiskit_aer.primitives import Estimator\n",
    "from qiskit_nature.second_q.circuit.library import HartreeFock\n",
    "from qiskit.circuit.library import EfficientSU2"
   ]
  },
  {
   "cell_type": "code",
   "execution_count": 2,
   "id": "4e5b37cf-6138-4a82-be63-c7d8cc2eaad4",
   "metadata": {
    "execution": {
     "iopub.execute_input": "2025-07-31T01:12:41.863006Z",
     "iopub.status.busy": "2025-07-31T01:12:41.861707Z",
     "iopub.status.idle": "2025-07-31T01:12:41.871551Z",
     "shell.execute_reply": "2025-07-31T01:12:41.870449Z"
    },
    "papermill": {
     "duration": 0.031983,
     "end_time": "2025-07-31T01:12:41.873818",
     "exception": false,
     "start_time": "2025-07-31T01:12:41.841835",
     "status": "completed"
    },
    "tags": []
   },
   "outputs": [
    {
     "data": {
      "text/plain": [
       "'0.7.2'"
      ]
     },
     "execution_count": 2,
     "metadata": {},
     "output_type": "execute_result"
    }
   ],
   "source": [
    "import qiskit_nature\n",
    "qiskit_nature.__version__"
   ]
  },
  {
   "cell_type": "code",
   "execution_count": 3,
   "id": "ba910acd",
   "metadata": {
    "execution": {
     "iopub.execute_input": "2025-07-31T01:12:41.905487Z",
     "iopub.status.busy": "2025-07-31T01:12:41.904169Z",
     "iopub.status.idle": "2025-07-31T01:12:41.912108Z",
     "shell.execute_reply": "2025-07-31T01:12:41.910877Z"
    },
    "papermill": {
     "duration": 0.031024,
     "end_time": "2025-07-31T01:12:41.913713",
     "exception": false,
     "start_time": "2025-07-31T01:12:41.882689",
     "status": "completed"
    },
    "slideshow": {
     "slide_type": ""
    },
    "tags": [
     "parameters"
    ]
   },
   "outputs": [],
   "source": [
    "BL = 0.6"
   ]
  },
  {
   "cell_type": "code",
   "execution_count": 4,
   "id": "9c2ccd93",
   "metadata": {
    "execution": {
     "iopub.execute_input": "2025-07-31T01:12:41.941757Z",
     "iopub.status.busy": "2025-07-31T01:12:41.941268Z",
     "iopub.status.idle": "2025-07-31T01:12:41.945451Z",
     "shell.execute_reply": "2025-07-31T01:12:41.944437Z"
    },
    "papermill": {
     "duration": 0.024807,
     "end_time": "2025-07-31T01:12:41.946916",
     "exception": false,
     "start_time": "2025-07-31T01:12:41.922109",
     "status": "completed"
    },
    "tags": [
     "injected-parameters"
    ]
   },
   "outputs": [],
   "source": [
    "# Parameters\n",
    "BL = 0.2\n"
   ]
  },
  {
   "cell_type": "markdown",
   "id": "7e24e37e",
   "metadata": {
    "papermill": {
     "duration": 0.017807,
     "end_time": "2025-07-31T01:12:41.977436",
     "exception": false,
     "start_time": "2025-07-31T01:12:41.959629",
     "status": "completed"
    },
    "tags": []
   },
   "source": [
    "### 1 Construct the Hamiltonian"
   ]
  },
  {
   "cell_type": "markdown",
   "id": "7b0ce8eb",
   "metadata": {
    "papermill": {
     "duration": 0.018694,
     "end_time": "2025-07-31T01:12:42.013778",
     "exception": false,
     "start_time": "2025-07-31T01:12:41.995084",
     "status": "completed"
    },
    "tags": []
   },
   "source": [
    "Helper function to construct the Hamiltonian represented as a Pauli decomposition stored in `qubit_op`, while also returning the `nuclear_repulsion_energy` and `core_electron_energy`."
   ]
  },
  {
   "cell_type": "code",
   "execution_count": 5,
   "id": "abd75003",
   "metadata": {
    "execution": {
     "iopub.execute_input": "2025-07-31T01:12:42.049138Z",
     "iopub.status.busy": "2025-07-31T01:12:42.048603Z",
     "iopub.status.idle": "2025-07-31T01:12:42.056402Z",
     "shell.execute_reply": "2025-07-31T01:12:42.055105Z"
    },
    "papermill": {
     "duration": 0.028633,
     "end_time": "2025-07-31T01:12:42.057920",
     "exception": false,
     "start_time": "2025-07-31T01:12:42.029287",
     "status": "completed"
    },
    "slideshow": {
     "slide_type": ""
    },
    "tags": []
   },
   "outputs": [],
   "source": [
    "def get_qubit_op(BL):\n",
    "    molecule = MoleculeInfo(\n",
    "        symbols=[\"H\", \"H\"],\n",
    "        coords=([0.0, 0.0, 0.0], [BL, 0.0, 0.0]),\n",
    "        multiplicity=1,\n",
    "        charge=0,\n",
    "    )\n",
    "\n",
    "    driver = PySCFDriver.from_molecule(molecule)\n",
    "    properties = driver.run()\n",
    "\n",
    "    problem = FreezeCoreTransformer(\n",
    "        freeze_core=True, remove_orbitals=[-3, -2]\n",
    "    ).transform(properties)\n",
    "\n",
    "    # Get the fermionic Hamiltonian (first element)\n",
    "    fermionic_op, _ = problem.second_q_ops()\n",
    "\n",
    "    num_particles = problem.num_particles\n",
    "    num_spatial_orbitals = problem.num_spatial_orbitals\n",
    "\n",
    "    # Use Jordan-Wigner (no tapering)\n",
    "    mapper = JordanWignerMapper()\n",
    "    qubit_op = mapper.map(fermionic_op)\n",
    "    # converter = QubitConverter(mapper=mapper)\n",
    "    # qubit_op = converter.convert(fermionic_op, num_particles=num_particles)\n",
    "\n",
    "    core_electron_energy = problem.hamiltonian.constants[\"FreezeCoreTransformer\"]\n",
    "    nuclear_repulsion_energy = problem.nuclear_repulsion_energy\n",
    "\n",
    "    return (\n",
    "        qubit_op,\n",
    "        num_particles,\n",
    "        num_spatial_orbitals,\n",
    "        problem,\n",
    "        mapper,\n",
    "        nuclear_repulsion_energy,\n",
    "        core_electron_energy,\n",
    "    )\n"
   ]
  },
  {
   "cell_type": "code",
   "execution_count": 6,
   "id": "7caf8b94",
   "metadata": {
    "execution": {
     "iopub.execute_input": "2025-07-31T01:12:42.087954Z",
     "iopub.status.busy": "2025-07-31T01:12:42.087204Z",
     "iopub.status.idle": "2025-07-31T01:12:42.310318Z",
     "shell.execute_reply": "2025-07-31T01:12:42.309261Z"
    },
    "papermill": {
     "duration": 0.246598,
     "end_time": "2025-07-31T01:12:42.312512",
     "exception": false,
     "start_time": "2025-07-31T01:12:42.065914",
     "status": "completed"
    },
    "tags": []
   },
   "outputs": [],
   "source": [
    "(qubit_op, num_particles, num_spatial_orbitals, problem, mapper,nuclear_repulsion_energy, core_electron_energy) = get_qubit_op(BL)"
   ]
  },
  {
   "cell_type": "code",
   "execution_count": 7,
   "id": "8e954660",
   "metadata": {
    "execution": {
     "iopub.execute_input": "2025-07-31T01:12:42.338285Z",
     "iopub.status.busy": "2025-07-31T01:12:42.337445Z",
     "iopub.status.idle": "2025-07-31T01:12:42.343829Z",
     "shell.execute_reply": "2025-07-31T01:12:42.342841Z"
    },
    "papermill": {
     "duration": 0.026689,
     "end_time": "2025-07-31T01:12:42.345338",
     "exception": false,
     "start_time": "2025-07-31T01:12:42.318649",
     "status": "completed"
    },
    "tags": []
   },
   "outputs": [
    {
     "data": {
      "text/plain": [
       "SparsePauliOp(['IIII', 'IIIZ', 'IIZI', 'IIZZ', 'IZII', 'IZIZ', 'ZIII', 'ZIIZ', 'YYYY', 'XXYY', 'YYXX', 'XXXX', 'IZZI', 'ZIZI', 'ZZII'],\n",
       "              coeffs=[-0.33562923+0.j,  0.28220597+0.j, -0.64828256+0.j,  0.14936431+0.j,\n",
       "  0.28220597+0.j,  0.1910155 +0.j, -0.64828256+0.j,  0.18885749+0.j,\n",
       "  0.03949318+0.j,  0.03949318+0.j,  0.03949318+0.j,  0.03949318+0.j,\n",
       "  0.18885749+0.j,  0.20032334+0.j,  0.14936431+0.j])"
      ]
     },
     "execution_count": 7,
     "metadata": {},
     "output_type": "execute_result"
    }
   ],
   "source": [
    "qubit_op"
   ]
  },
  {
   "cell_type": "code",
   "execution_count": 8,
   "id": "8e03d926",
   "metadata": {
    "execution": {
     "iopub.execute_input": "2025-07-31T01:12:42.371847Z",
     "iopub.status.busy": "2025-07-31T01:12:42.371263Z",
     "iopub.status.idle": "2025-07-31T01:12:42.384585Z",
     "shell.execute_reply": "2025-07-31T01:12:42.383744Z"
    },
    "papermill": {
     "duration": 0.03203,
     "end_time": "2025-07-31T01:12:42.386373",
     "exception": false,
     "start_time": "2025-07-31T01:12:42.354343",
     "status": "completed"
    },
    "tags": []
   },
   "outputs": [],
   "source": [
    "# Extract terms and coefficients\n",
    "pauli_list = list(zip(qubit_op.paulis, qubit_op.coeffs))\n",
    "\n",
    "# Sort terms by absolute coefficient magnitude (largest first)\n",
    "sorted_pauli_list = sorted(pauli_list, key=lambda x: abs(x[1]), reverse=True)\n",
    "\n",
    "# Print sorted terms\n",
    "# for pauli, coef in sorted_pauli_list:\n",
    "#     print(f\"Pauli: {pauli}, Coefficient: {coef}\")\n",
    "\n",
    "# Save the list\n",
    "with open(\"sorted_pauli_list.pkl\", \"wb\") as f:\n",
    "    dill.dump(sorted_pauli_list, f)"
   ]
  },
  {
   "cell_type": "code",
   "execution_count": 9,
   "id": "09a22634",
   "metadata": {
    "execution": {
     "iopub.execute_input": "2025-07-31T01:12:42.415127Z",
     "iopub.status.busy": "2025-07-31T01:12:42.414566Z",
     "iopub.status.idle": "2025-07-31T01:12:42.423261Z",
     "shell.execute_reply": "2025-07-31T01:12:42.422201Z"
    },
    "papermill": {
     "duration": 0.031068,
     "end_time": "2025-07-31T01:12:42.425071",
     "exception": false,
     "start_time": "2025-07-31T01:12:42.394003",
     "status": "completed"
    },
    "tags": []
   },
   "outputs": [],
   "source": [
    "dd = np.real(min(np.linalg.eigvals(qubit_op.to_matrix())))"
   ]
  },
  {
   "cell_type": "markdown",
   "id": "a33105fe",
   "metadata": {
    "papermill": {
     "duration": 0.016434,
     "end_time": "2025-07-31T01:12:42.450489",
     "exception": false,
     "start_time": "2025-07-31T01:12:42.434055",
     "status": "completed"
    },
    "tags": []
   },
   "source": [
    "### 2 Perform VQE"
   ]
  },
  {
   "cell_type": "markdown",
   "id": "f6c1ff85",
   "metadata": {
    "papermill": {
     "duration": 0.016442,
     "end_time": "2025-07-31T01:12:42.479581",
     "exception": false,
     "start_time": "2025-07-31T01:12:42.463139",
     "status": "completed"
    },
    "tags": []
   },
   "source": [
    "Define a class to perform VQE."
   ]
  },
  {
   "cell_type": "code",
   "execution_count": 10,
   "id": "7f12ba1d",
   "metadata": {
    "execution": {
     "iopub.execute_input": "2025-07-31T01:12:42.514622Z",
     "iopub.status.busy": "2025-07-31T01:12:42.514118Z",
     "iopub.status.idle": "2025-07-31T01:12:42.522994Z",
     "shell.execute_reply": "2025-07-31T01:12:42.522088Z"
    },
    "papermill": {
     "duration": 0.02944,
     "end_time": "2025-07-31T01:12:42.524341",
     "exception": false,
     "start_time": "2025-07-31T01:12:42.494901",
     "status": "completed"
    },
    "tags": []
   },
   "outputs": [],
   "source": [
    "# Define the custom VQE\n",
    "class CustomVQE:\n",
    "    def __init__(self, estimator, ansatz, optimizer, qubit_op, dd, NREplusCEE, custom_function, initial_point=None):\n",
    "        self.estimator = estimator\n",
    "        self.ansatz = ansatz\n",
    "        self.optimizer = optimizer\n",
    "        self.qubit_op = qubit_op\n",
    "        self.NREplusCEE = NREplusCEE\n",
    "        self.dd = dd\n",
    "        self.custom_function = custom_function\n",
    "        self.initial_point = initial_point  or [0] * ansatz.num_parameters\n",
    "\n",
    "    def compute_minimum_eigenvalue(self):\n",
    "        # Define the function to minimize\n",
    "        def objective_function(params):\n",
    "            # Evaluate the expectation value of the qubit operator\n",
    "            expectation = self.estimator.run([self.ansatz], [self.qubit_op], [params]).result().values[0]\n",
    "            # Evaluate the custom objective function\n",
    "            return self.custom_function(expectation, params)\n",
    "\n",
    "        # Use the `minimize` method for optimization\n",
    "        opt_result = self.optimizer.minimize(\n",
    "            fun=objective_function,\n",
    "            x0=self.initial_point\n",
    "        )\n",
    "\n",
    "        result = {\n",
    "            'x': [float(value) for value in opt_result.x],\n",
    "            'fun': opt_result.fun,\n",
    "            'dd': self.dd,\n",
    "            'NREplusCEE': self.NREplusCEE\n",
    "        }\n",
    "\n",
    "        \n",
    "        return result\n"
   ]
  },
  {
   "cell_type": "code",
   "execution_count": 11,
   "id": "d499d53b",
   "metadata": {
    "execution": {
     "iopub.execute_input": "2025-07-31T01:12:42.551322Z",
     "iopub.status.busy": "2025-07-31T01:12:42.550648Z",
     "iopub.status.idle": "2025-07-31T01:12:42.555195Z",
     "shell.execute_reply": "2025-07-31T01:12:42.554137Z"
    },
    "papermill": {
     "duration": 0.025442,
     "end_time": "2025-07-31T01:12:42.556785",
     "exception": false,
     "start_time": "2025-07-31T01:12:42.531343",
     "status": "completed"
    },
    "tags": []
   },
   "outputs": [],
   "source": [
    "# l=12 and maxiter = 200 works for LiH and HF"
   ]
  },
  {
   "cell_type": "code",
   "execution_count": 12,
   "id": "868ad712",
   "metadata": {
    "execution": {
     "iopub.execute_input": "2025-07-31T01:12:42.582901Z",
     "iopub.status.busy": "2025-07-31T01:12:42.582357Z",
     "iopub.status.idle": "2025-07-31T01:12:42.601571Z",
     "shell.execute_reply": "2025-07-31T01:12:42.600770Z"
    },
    "papermill": {
     "duration": 0.03823,
     "end_time": "2025-07-31T01:12:42.602960",
     "exception": false,
     "start_time": "2025-07-31T01:12:42.564730",
     "status": "completed"
    },
    "tags": []
   },
   "outputs": [],
   "source": [
    "optimizer = SLSQP(maxiter=300)\n",
    "noiseless_estimator = Estimator(approximation=True)\n",
    "\n",
    "\n",
    "# Define ansatz\n",
    "var_form = EfficientSU2(qubit_op.num_qubits, reps=12, entanglement='full', skip_unentangled_qubits=False, parameter_prefix='a')\n",
    "\n",
    "\n",
    "# Example Custom Objective Function\n",
    "def custom_objective_function(expectation_value, parameters):\n",
    "    # penalty_term = 0.1 * sum(param**2 for param in parameters)  # Example regularization\n",
    "    return expectation_value \n",
    "\n",
    "\n",
    "# Create an instance of CustomVQE\n",
    "custom_vqe = CustomVQE(\n",
    "    estimator=noiseless_estimator,\n",
    "    ansatz=var_form,\n",
    "    optimizer=optimizer,\n",
    "    qubit_op=qubit_op,\n",
    "    dd = dd,\n",
    "    NREplusCEE = nuclear_repulsion_energy + core_electron_energy,\n",
    "    custom_function=custom_objective_function,\n",
    "    initial_point = list(np.random.uniform(-np.pi, np.pi, var_form.num_parameters))\n",
    ")\n"
   ]
  },
  {
   "cell_type": "code",
   "execution_count": 13,
   "id": "a23a50b5",
   "metadata": {
    "execution": {
     "iopub.execute_input": "2025-07-31T01:12:42.630954Z",
     "iopub.status.busy": "2025-07-31T01:12:42.630085Z",
     "iopub.status.idle": "2025-07-31T01:13:00.520944Z",
     "shell.execute_reply": "2025-07-31T01:13:00.519829Z"
    },
    "papermill": {
     "duration": 17.912271,
     "end_time": "2025-07-31T01:13:00.523707",
     "exception": false,
     "start_time": "2025-07-31T01:12:42.611436",
     "status": "completed"
    },
    "tags": []
   },
   "outputs": [],
   "source": [
    "vqe_result = custom_vqe.compute_minimum_eigenvalue()"
   ]
  },
  {
   "cell_type": "code",
   "execution_count": 14,
   "id": "c35ff26f-7516-49ca-a32d-dffdbcea7725",
   "metadata": {
    "execution": {
     "iopub.execute_input": "2025-07-31T01:13:00.557665Z",
     "iopub.status.busy": "2025-07-31T01:13:00.556735Z",
     "iopub.status.idle": "2025-07-31T01:13:00.564632Z",
     "shell.execute_reply": "2025-07-31T01:13:00.563663Z"
    },
    "papermill": {
     "duration": 0.031432,
     "end_time": "2025-07-31T01:13:00.566079",
     "exception": false,
     "start_time": "2025-07-31T01:13:00.534647",
     "status": "completed"
    },
    "tags": []
   },
   "outputs": [
    {
     "data": {
      "text/plain": [
       "{'x': [1.7091456095014528,\n",
       "  1.9086913745460135,\n",
       "  2.783866927363235,\n",
       "  -0.9472617769818815,\n",
       "  -1.7441133514370606,\n",
       "  -2.201090978644254,\n",
       "  0.312208337897507,\n",
       "  0.33675321475354686,\n",
       "  -1.408847023775857,\n",
       "  -0.8322077257394802,\n",
       "  -0.7627391697058924,\n",
       "  2.277091206120087,\n",
       "  1.0340516842435254,\n",
       "  2.05535394485868,\n",
       "  0.27200990264308056,\n",
       "  1.5513114703556832,\n",
       "  0.15912934812633414,\n",
       "  0.5416882128827989,\n",
       "  -0.49160618030114334,\n",
       "  2.362547035067077,\n",
       "  2.612356932949136,\n",
       "  -2.6044039460650494,\n",
       "  0.5399223665791544,\n",
       "  0.61369767053536,\n",
       "  -1.2883942165018727,\n",
       "  1.9717421728845872,\n",
       "  -2.424954795123411,\n",
       "  0.08756232702343639,\n",
       "  1.0041477009405948,\n",
       "  -0.13727037356559865,\n",
       "  -2.147022731671269,\n",
       "  -0.7959071354235229,\n",
       "  -2.7431406192073307,\n",
       "  2.2748591686001864,\n",
       "  -2.9915005071169904,\n",
       "  -2.541700434462566,\n",
       "  -2.4135622822128195,\n",
       "  -0.17650168774466315,\n",
       "  1.5061314437516633,\n",
       "  0.5363493373107474,\n",
       "  -1.668502414768305,\n",
       "  0.48449383273410973,\n",
       "  2.281807605573507,\n",
       "  1.8569877104699999,\n",
       "  2.5692603777905476,\n",
       "  -2.5061648152559868,\n",
       "  2.3401710350884284,\n",
       "  2.870875072244284,\n",
       "  -0.7910271127330722,\n",
       "  -2.41129840897135,\n",
       "  -0.4037325020947403,\n",
       "  -0.5918641556716586,\n",
       "  -0.35819117836140013,\n",
       "  1.2177384547652457,\n",
       "  -2.758572841164339,\n",
       "  0.15252916420827414,\n",
       "  -2.6986115498658543,\n",
       "  1.384495514310459,\n",
       "  1.6676089115035677,\n",
       "  0.6853772249765068,\n",
       "  -0.7476141281632552,\n",
       "  2.3751989718166095,\n",
       "  -2.419047417230596,\n",
       "  2.6908027627257307,\n",
       "  0.492464524606229,\n",
       "  1.5843171506518328,\n",
       "  -0.9061203560919527,\n",
       "  2.643264853891755,\n",
       "  3.124977766911379,\n",
       "  0.8598719346358621,\n",
       "  -0.5569827742741722,\n",
       "  -0.06449044036614228,\n",
       "  1.9345723456257917,\n",
       "  -1.1205735718587926,\n",
       "  0.1392866419254267,\n",
       "  2.8996368447168823,\n",
       "  -1.535066428097032,\n",
       "  3.1255322102986347,\n",
       "  -0.6562372897837186,\n",
       "  2.2268705454503577,\n",
       "  1.2337100150309956,\n",
       "  0.30190524132434104,\n",
       "  -2.296573415810476,\n",
       "  -2.4210326751918965,\n",
       "  -2.422136885512998,\n",
       "  -1.0561357955414135,\n",
       "  1.9885941606475972,\n",
       "  -1.0050072514004604,\n",
       "  -0.3963667796240676,\n",
       "  -1.0994786801195673,\n",
       "  1.7122076509718152,\n",
       "  -0.37217553095775424,\n",
       "  1.1282468293505519,\n",
       "  0.13671900095842368,\n",
       "  -1.2265005191531488,\n",
       "  1.622876353051059,\n",
       "  -2.1187633114010236,\n",
       "  2.401749628478153,\n",
       "  -1.2460909836841432,\n",
       "  -1.6415198563433082,\n",
       "  0.554550526530537,\n",
       "  1.3746495388974223,\n",
       "  -2.5460456477609053,\n",
       "  -3.0842638677725445],\n",
       " 'fun': np.float64(-2.4884037250146003),\n",
       " 'dd': np.float64(-2.4884039198016366),\n",
       " 'NREplusCEE': np.float64(2.6458860546)}"
      ]
     },
     "execution_count": 14,
     "metadata": {},
     "output_type": "execute_result"
    }
   ],
   "source": [
    "vqe_result"
   ]
  },
  {
   "cell_type": "code",
   "execution_count": 15,
   "id": "17f49028",
   "metadata": {
    "execution": {
     "iopub.execute_input": "2025-07-31T01:13:00.597536Z",
     "iopub.status.busy": "2025-07-31T01:13:00.596742Z",
     "iopub.status.idle": "2025-07-31T01:13:00.604328Z",
     "shell.execute_reply": "2025-07-31T01:13:00.603303Z"
    },
    "papermill": {
     "duration": 0.030417,
     "end_time": "2025-07-31T01:13:00.606005",
     "exception": false,
     "start_time": "2025-07-31T01:13:00.575588",
     "status": "completed"
    },
    "tags": []
   },
   "outputs": [
    {
     "data": {
      "text/plain": [
       "104"
      ]
     },
     "execution_count": 15,
     "metadata": {},
     "output_type": "execute_result"
    }
   ],
   "source": [
    "len(vqe_result['x'])"
   ]
  },
  {
   "cell_type": "code",
   "execution_count": 16,
   "id": "9ff78507",
   "metadata": {
    "execution": {
     "iopub.execute_input": "2025-07-31T01:13:00.635516Z",
     "iopub.status.busy": "2025-07-31T01:13:00.634625Z",
     "iopub.status.idle": "2025-07-31T01:13:00.640643Z",
     "shell.execute_reply": "2025-07-31T01:13:00.639495Z"
    },
    "papermill": {
     "duration": 0.028292,
     "end_time": "2025-07-31T01:13:00.642045",
     "exception": false,
     "start_time": "2025-07-31T01:13:00.613753",
     "status": "completed"
    },
    "tags": []
   },
   "outputs": [
    {
     "name": "stdout",
     "output_type": "stream",
     "text": [
      "1.9478703627839877e-07\n"
     ]
    }
   ],
   "source": [
    "print(vqe_result['fun'] - vqe_result['dd'])"
   ]
  },
  {
   "cell_type": "code",
   "execution_count": 17,
   "id": "7424dae1",
   "metadata": {
    "execution": {
     "iopub.execute_input": "2025-07-31T01:13:00.674626Z",
     "iopub.status.busy": "2025-07-31T01:13:00.673161Z",
     "iopub.status.idle": "2025-07-31T01:13:00.686950Z",
     "shell.execute_reply": "2025-07-31T01:13:00.685586Z"
    },
    "papermill": {
     "duration": 0.036211,
     "end_time": "2025-07-31T01:13:00.690158",
     "exception": false,
     "start_time": "2025-07-31T01:13:00.653947",
     "status": "completed"
    },
    "tags": []
   },
   "outputs": [],
   "source": [
    "with open(\"vqe_result.pkl\", \"wb\") as f:\n",
    "    dill.dump(vqe_result, f)"
   ]
  }
 ],
 "metadata": {
  "kernelspec": {
   "display_name": "Python 3 (ipykernel)",
   "language": "python",
   "name": "python3"
  },
  "language_info": {
   "codemirror_mode": {
    "name": "ipython",
    "version": 3
   },
   "file_extension": ".py",
   "mimetype": "text/x-python",
   "name": "python",
   "nbconvert_exporter": "python",
   "pygments_lexer": "ipython3",
   "version": "3.10.15"
  },
  "papermill": {
   "default_parameters": {},
   "duration": 23.69625,
   "end_time": "2025-07-31T01:13:01.527048",
   "environment_variables": {},
   "exception": null,
   "input_path": "vqe.ipynb",
   "output_path": "/usr/src/app/SoleyGroup/lab_data/Notebooks/Statistics/Corrected_plots/New_H2/BondLengths/processing_BL_0p20000/vqe.ipynb",
   "parameters": {
    "BL": 0.2
   },
   "start_time": "2025-07-31T01:12:37.830798",
   "version": "2.6.0"
  }
 },
 "nbformat": 4,
 "nbformat_minor": 5
}