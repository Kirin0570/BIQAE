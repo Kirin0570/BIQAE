{
 "cells": [
  {
   "cell_type": "code",
   "execution_count": 1,
   "id": "0a2ba924",
   "metadata": {
    "execution": {
     "iopub.execute_input": "2025-07-31T01:13:23.382743Z",
     "iopub.status.busy": "2025-07-31T01:13:23.382088Z",
     "iopub.status.idle": "2025-07-31T01:13:25.052944Z",
     "shell.execute_reply": "2025-07-31T01:13:25.051783Z"
    },
    "papermill": {
     "duration": 1.682105,
     "end_time": "2025-07-31T01:13:25.055334",
     "exception": false,
     "start_time": "2025-07-31T01:13:23.373229",
     "status": "completed"
    },
    "tags": []
   },
   "outputs": [],
   "source": [
    "from qiskit_nature.second_q.formats.molecule_info import MoleculeInfo\n",
    "from qiskit_nature.second_q.drivers import PySCFDriver\n",
    "from qiskit_nature.second_q.transformers import FreezeCoreTransformer\n",
    "from qiskit_nature.second_q.mappers import ParityMapper, JordanWignerMapper\n",
    "import dill\n",
    "import numpy as np\n",
    "from qiskit_algorithms.optimizers import SPSA, SLSQP, COBYLA\n",
    "from qiskit_aer.primitives import Estimator\n",
    "from qiskit_nature.second_q.circuit.library import HartreeFock\n",
    "from qiskit.circuit.library import EfficientSU2"
   ]
  },
  {
   "cell_type": "code",
   "execution_count": 2,
   "id": "4e5b37cf-6138-4a82-be63-c7d8cc2eaad4",
   "metadata": {
    "execution": {
     "iopub.execute_input": "2025-07-31T01:13:25.090507Z",
     "iopub.status.busy": "2025-07-31T01:13:25.089544Z",
     "iopub.status.idle": "2025-07-31T01:13:25.099947Z",
     "shell.execute_reply": "2025-07-31T01:13:25.098579Z"
    },
    "papermill": {
     "duration": 0.037818,
     "end_time": "2025-07-31T01:13:25.101641",
     "exception": false,
     "start_time": "2025-07-31T01:13:25.063823",
     "status": "completed"
    },
    "tags": []
   },
   "outputs": [
    {
     "data": {
      "text/plain": [
       "'0.7.2'"
      ]
     },
     "execution_count": 2,
     "metadata": {},
     "output_type": "execute_result"
    }
   ],
   "source": [
    "import qiskit_nature\n",
    "qiskit_nature.__version__"
   ]
  },
  {
   "cell_type": "code",
   "execution_count": 3,
   "id": "ba910acd",
   "metadata": {
    "execution": {
     "iopub.execute_input": "2025-07-31T01:13:25.130283Z",
     "iopub.status.busy": "2025-07-31T01:13:25.129256Z",
     "iopub.status.idle": "2025-07-31T01:13:25.134315Z",
     "shell.execute_reply": "2025-07-31T01:13:25.133096Z"
    },
    "papermill": {
     "duration": 0.025146,
     "end_time": "2025-07-31T01:13:25.136418",
     "exception": false,
     "start_time": "2025-07-31T01:13:25.111272",
     "status": "completed"
    },
    "slideshow": {
     "slide_type": ""
    },
    "tags": [
     "parameters"
    ]
   },
   "outputs": [],
   "source": [
    "BL = 0.6"
   ]
  },
  {
   "cell_type": "code",
   "execution_count": 4,
   "id": "100f9832",
   "metadata": {
    "execution": {
     "iopub.execute_input": "2025-07-31T01:13:25.169398Z",
     "iopub.status.busy": "2025-07-31T01:13:25.168925Z",
     "iopub.status.idle": "2025-07-31T01:13:25.172838Z",
     "shell.execute_reply": "2025-07-31T01:13:25.171915Z"
    },
    "papermill": {
     "duration": 0.025947,
     "end_time": "2025-07-31T01:13:25.174194",
     "exception": false,
     "start_time": "2025-07-31T01:13:25.148247",
     "status": "completed"
    },
    "tags": [
     "injected-parameters"
    ]
   },
   "outputs": [],
   "source": [
    "# Parameters\n",
    "BL = 0.35\n"
   ]
  },
  {
   "cell_type": "markdown",
   "id": "7e24e37e",
   "metadata": {
    "papermill": {
     "duration": 0.019469,
     "end_time": "2025-07-31T01:13:25.202724",
     "exception": false,
     "start_time": "2025-07-31T01:13:25.183255",
     "status": "completed"
    },
    "tags": []
   },
   "source": [
    "### 1 Construct the Hamiltonian"
   ]
  },
  {
   "cell_type": "markdown",
   "id": "7b0ce8eb",
   "metadata": {
    "papermill": {
     "duration": 0.021795,
     "end_time": "2025-07-31T01:13:25.243081",
     "exception": false,
     "start_time": "2025-07-31T01:13:25.221286",
     "status": "completed"
    },
    "tags": []
   },
   "source": [
    "Helper function to construct the Hamiltonian represented as a Pauli decomposition stored in `qubit_op`, while also returning the `nuclear_repulsion_energy` and `core_electron_energy`."
   ]
  },
  {
   "cell_type": "code",
   "execution_count": 5,
   "id": "abd75003",
   "metadata": {
    "execution": {
     "iopub.execute_input": "2025-07-31T01:13:25.277312Z",
     "iopub.status.busy": "2025-07-31T01:13:25.276846Z",
     "iopub.status.idle": "2025-07-31T01:13:25.283501Z",
     "shell.execute_reply": "2025-07-31T01:13:25.282507Z"
    },
    "papermill": {
     "duration": 0.028657,
     "end_time": "2025-07-31T01:13:25.285838",
     "exception": false,
     "start_time": "2025-07-31T01:13:25.257181",
     "status": "completed"
    },
    "slideshow": {
     "slide_type": ""
    },
    "tags": []
   },
   "outputs": [],
   "source": [
    "def get_qubit_op(BL):\n",
    "    molecule = MoleculeInfo(\n",
    "        symbols=[\"H\", \"H\"],\n",
    "        coords=([0.0, 0.0, 0.0], [BL, 0.0, 0.0]),\n",
    "        multiplicity=1,\n",
    "        charge=0,\n",
    "    )\n",
    "\n",
    "    driver = PySCFDriver.from_molecule(molecule)\n",
    "    properties = driver.run()\n",
    "\n",
    "    problem = FreezeCoreTransformer(\n",
    "        freeze_core=True, remove_orbitals=[-3, -2]\n",
    "    ).transform(properties)\n",
    "\n",
    "    # Get the fermionic Hamiltonian (first element)\n",
    "    fermionic_op, _ = problem.second_q_ops()\n",
    "\n",
    "    num_particles = problem.num_particles\n",
    "    num_spatial_orbitals = problem.num_spatial_orbitals\n",
    "\n",
    "    # Use Jordan-Wigner (no tapering)\n",
    "    mapper = JordanWignerMapper()\n",
    "    qubit_op = mapper.map(fermionic_op)\n",
    "    # converter = QubitConverter(mapper=mapper)\n",
    "    # qubit_op = converter.convert(fermionic_op, num_particles=num_particles)\n",
    "\n",
    "    core_electron_energy = problem.hamiltonian.constants[\"FreezeCoreTransformer\"]\n",
    "    nuclear_repulsion_energy = problem.nuclear_repulsion_energy\n",
    "\n",
    "    return (\n",
    "        qubit_op,\n",
    "        num_particles,\n",
    "        num_spatial_orbitals,\n",
    "        problem,\n",
    "        mapper,\n",
    "        nuclear_repulsion_energy,\n",
    "        core_electron_energy,\n",
    "    )\n"
   ]
  },
  {
   "cell_type": "code",
   "execution_count": 6,
   "id": "7caf8b94",
   "metadata": {
    "execution": {
     "iopub.execute_input": "2025-07-31T01:13:25.316118Z",
     "iopub.status.busy": "2025-07-31T01:13:25.315333Z",
     "iopub.status.idle": "2025-07-31T01:13:25.505031Z",
     "shell.execute_reply": "2025-07-31T01:13:25.504034Z"
    },
    "papermill": {
     "duration": 0.212494,
     "end_time": "2025-07-31T01:13:25.507990",
     "exception": false,
     "start_time": "2025-07-31T01:13:25.295496",
     "status": "completed"
    },
    "tags": []
   },
   "outputs": [],
   "source": [
    "(qubit_op, num_particles, num_spatial_orbitals, problem, mapper,nuclear_repulsion_energy, core_electron_energy) = get_qubit_op(BL)"
   ]
  },
  {
   "cell_type": "code",
   "execution_count": 7,
   "id": "8e954660",
   "metadata": {
    "execution": {
     "iopub.execute_input": "2025-07-31T01:13:25.535689Z",
     "iopub.status.busy": "2025-07-31T01:13:25.534754Z",
     "iopub.status.idle": "2025-07-31T01:13:25.542135Z",
     "shell.execute_reply": "2025-07-31T01:13:25.540966Z"
    },
    "papermill": {
     "duration": 0.028117,
     "end_time": "2025-07-31T01:13:25.543701",
     "exception": false,
     "start_time": "2025-07-31T01:13:25.515584",
     "status": "completed"
    },
    "tags": []
   },
   "outputs": [
    {
     "data": {
      "text/plain": [
       "SparsePauliOp(['IIII', 'IIIZ', 'IIZI', 'IZII', 'ZIII', 'IIZZ', 'IZIZ', 'ZIIZ', 'YYYY', 'XXYY', 'YYXX', 'XXXX', 'IZZI', 'ZIZI', 'ZZII'],\n",
       "              coeffs=[-0.52499962+0.j,  0.24679198+0.j, -0.50062384+0.j,  0.24679198+0.j,\n",
       " -0.50062384+0.j,  0.14283108+0.j,  0.18619134+0.j,  0.18347439+0.j,\n",
       "  0.04064331+0.j,  0.04064331+0.j,  0.04064331+0.j,  0.04064331+0.j,\n",
       "  0.18347439+0.j,  0.19386107+0.j,  0.14283108+0.j])"
      ]
     },
     "execution_count": 7,
     "metadata": {},
     "output_type": "execute_result"
    }
   ],
   "source": [
    "qubit_op"
   ]
  },
  {
   "cell_type": "code",
   "execution_count": 8,
   "id": "8e03d926",
   "metadata": {
    "execution": {
     "iopub.execute_input": "2025-07-31T01:13:25.568709Z",
     "iopub.status.busy": "2025-07-31T01:13:25.567907Z",
     "iopub.status.idle": "2025-07-31T01:13:25.583182Z",
     "shell.execute_reply": "2025-07-31T01:13:25.582181Z"
    },
    "papermill": {
     "duration": 0.033944,
     "end_time": "2025-07-31T01:13:25.584873",
     "exception": false,
     "start_time": "2025-07-31T01:13:25.550929",
     "status": "completed"
    },
    "tags": []
   },
   "outputs": [],
   "source": [
    "# Extract terms and coefficients\n",
    "pauli_list = list(zip(qubit_op.paulis, qubit_op.coeffs))\n",
    "\n",
    "# Sort terms by absolute coefficient magnitude (largest first)\n",
    "sorted_pauli_list = sorted(pauli_list, key=lambda x: abs(x[1]), reverse=True)\n",
    "\n",
    "# Print sorted terms\n",
    "# for pauli, coef in sorted_pauli_list:\n",
    "#     print(f\"Pauli: {pauli}, Coefficient: {coef}\")\n",
    "\n",
    "# Save the list\n",
    "with open(\"sorted_pauli_list.pkl\", \"wb\") as f:\n",
    "    dill.dump(sorted_pauli_list, f)"
   ]
  },
  {
   "cell_type": "code",
   "execution_count": 9,
   "id": "09a22634",
   "metadata": {
    "execution": {
     "iopub.execute_input": "2025-07-31T01:13:25.611381Z",
     "iopub.status.busy": "2025-07-31T01:13:25.610956Z",
     "iopub.status.idle": "2025-07-31T01:13:25.618566Z",
     "shell.execute_reply": "2025-07-31T01:13:25.617695Z"
    },
    "papermill": {
     "duration": 0.026772,
     "end_time": "2025-07-31T01:13:25.620296",
     "exception": false,
     "start_time": "2025-07-31T01:13:25.593524",
     "status": "completed"
    },
    "tags": []
   },
   "outputs": [],
   "source": [
    "dd = np.real(min(np.linalg.eigvals(qubit_op.to_matrix())))"
   ]
  },
  {
   "cell_type": "markdown",
   "id": "a33105fe",
   "metadata": {
    "papermill": {
     "duration": 0.015048,
     "end_time": "2025-07-31T01:13:25.642987",
     "exception": false,
     "start_time": "2025-07-31T01:13:25.627939",
     "status": "completed"
    },
    "tags": []
   },
   "source": [
    "### 2 Perform VQE"
   ]
  },
  {
   "cell_type": "markdown",
   "id": "f6c1ff85",
   "metadata": {
    "papermill": {
     "duration": 0.017928,
     "end_time": "2025-07-31T01:13:25.675552",
     "exception": false,
     "start_time": "2025-07-31T01:13:25.657624",
     "status": "completed"
    },
    "tags": []
   },
   "source": [
    "Define a class to perform VQE."
   ]
  },
  {
   "cell_type": "code",
   "execution_count": 10,
   "id": "7f12ba1d",
   "metadata": {
    "execution": {
     "iopub.execute_input": "2025-07-31T01:13:25.708403Z",
     "iopub.status.busy": "2025-07-31T01:13:25.707700Z",
     "iopub.status.idle": "2025-07-31T01:13:25.715953Z",
     "shell.execute_reply": "2025-07-31T01:13:25.714945Z"
    },
    "papermill": {
     "duration": 0.025939,
     "end_time": "2025-07-31T01:13:25.717593",
     "exception": false,
     "start_time": "2025-07-31T01:13:25.691654",
     "status": "completed"
    },
    "tags": []
   },
   "outputs": [],
   "source": [
    "# Define the custom VQE\n",
    "class CustomVQE:\n",
    "    def __init__(self, estimator, ansatz, optimizer, qubit_op, dd, NREplusCEE, custom_function, initial_point=None):\n",
    "        self.estimator = estimator\n",
    "        self.ansatz = ansatz\n",
    "        self.optimizer = optimizer\n",
    "        self.qubit_op = qubit_op\n",
    "        self.NREplusCEE = NREplusCEE\n",
    "        self.dd = dd\n",
    "        self.custom_function = custom_function\n",
    "        self.initial_point = initial_point  or [0] * ansatz.num_parameters\n",
    "\n",
    "    def compute_minimum_eigenvalue(self):\n",
    "        # Define the function to minimize\n",
    "        def objective_function(params):\n",
    "            # Evaluate the expectation value of the qubit operator\n",
    "            expectation = self.estimator.run([self.ansatz], [self.qubit_op], [params]).result().values[0]\n",
    "            # Evaluate the custom objective function\n",
    "            return self.custom_function(expectation, params)\n",
    "\n",
    "        # Use the `minimize` method for optimization\n",
    "        opt_result = self.optimizer.minimize(\n",
    "            fun=objective_function,\n",
    "            x0=self.initial_point\n",
    "        )\n",
    "\n",
    "        result = {\n",
    "            'x': [float(value) for value in opt_result.x],\n",
    "            'fun': opt_result.fun,\n",
    "            'dd': self.dd,\n",
    "            'NREplusCEE': self.NREplusCEE\n",
    "        }\n",
    "\n",
    "        \n",
    "        return result\n"
   ]
  },
  {
   "cell_type": "code",
   "execution_count": 11,
   "id": "d499d53b",
   "metadata": {
    "execution": {
     "iopub.execute_input": "2025-07-31T01:13:25.744673Z",
     "iopub.status.busy": "2025-07-31T01:13:25.744268Z",
     "iopub.status.idle": "2025-07-31T01:13:25.749220Z",
     "shell.execute_reply": "2025-07-31T01:13:25.748269Z"
    },
    "papermill": {
     "duration": 0.024189,
     "end_time": "2025-07-31T01:13:25.750818",
     "exception": false,
     "start_time": "2025-07-31T01:13:25.726629",
     "status": "completed"
    },
    "tags": []
   },
   "outputs": [],
   "source": [
    "# l=12 and maxiter = 200 works for LiH and HF"
   ]
  },
  {
   "cell_type": "code",
   "execution_count": 12,
   "id": "868ad712",
   "metadata": {
    "execution": {
     "iopub.execute_input": "2025-07-31T01:13:25.779257Z",
     "iopub.status.busy": "2025-07-31T01:13:25.778760Z",
     "iopub.status.idle": "2025-07-31T01:13:25.792741Z",
     "shell.execute_reply": "2025-07-31T01:13:25.791861Z"
    },
    "papermill": {
     "duration": 0.033913,
     "end_time": "2025-07-31T01:13:25.793949",
     "exception": false,
     "start_time": "2025-07-31T01:13:25.760036",
     "status": "completed"
    },
    "tags": []
   },
   "outputs": [],
   "source": [
    "optimizer = SLSQP(maxiter=300)\n",
    "noiseless_estimator = Estimator(approximation=True)\n",
    "\n",
    "\n",
    "# Define ansatz\n",
    "var_form = EfficientSU2(qubit_op.num_qubits, reps=12, entanglement='full', skip_unentangled_qubits=False, parameter_prefix='a')\n",
    "\n",
    "\n",
    "# Example Custom Objective Function\n",
    "def custom_objective_function(expectation_value, parameters):\n",
    "    # penalty_term = 0.1 * sum(param**2 for param in parameters)  # Example regularization\n",
    "    return expectation_value \n",
    "\n",
    "\n",
    "# Create an instance of CustomVQE\n",
    "custom_vqe = CustomVQE(\n",
    "    estimator=noiseless_estimator,\n",
    "    ansatz=var_form,\n",
    "    optimizer=optimizer,\n",
    "    qubit_op=qubit_op,\n",
    "    dd = dd,\n",
    "    NREplusCEE = nuclear_repulsion_energy + core_electron_energy,\n",
    "    custom_function=custom_objective_function,\n",
    "    initial_point = list(np.random.uniform(-np.pi, np.pi, var_form.num_parameters))\n",
    ")\n"
   ]
  },
  {
   "cell_type": "code",
   "execution_count": 13,
   "id": "a23a50b5",
   "metadata": {
    "execution": {
     "iopub.execute_input": "2025-07-31T01:13:25.821596Z",
     "iopub.status.busy": "2025-07-31T01:13:25.821018Z",
     "iopub.status.idle": "2025-07-31T01:13:41.793729Z",
     "shell.execute_reply": "2025-07-31T01:13:41.792676Z"
    },
    "papermill": {
     "duration": 15.991307,
     "end_time": "2025-07-31T01:13:41.795359",
     "exception": false,
     "start_time": "2025-07-31T01:13:25.804052",
     "status": "completed"
    },
    "tags": []
   },
   "outputs": [],
   "source": [
    "vqe_result = custom_vqe.compute_minimum_eigenvalue()"
   ]
  },
  {
   "cell_type": "code",
   "execution_count": 14,
   "id": "c35ff26f-7516-49ca-a32d-dffdbcea7725",
   "metadata": {
    "execution": {
     "iopub.execute_input": "2025-07-31T01:13:41.827790Z",
     "iopub.status.busy": "2025-07-31T01:13:41.826862Z",
     "iopub.status.idle": "2025-07-31T01:13:41.836285Z",
     "shell.execute_reply": "2025-07-31T01:13:41.835073Z"
    },
    "papermill": {
     "duration": 0.034514,
     "end_time": "2025-07-31T01:13:41.838440",
     "exception": false,
     "start_time": "2025-07-31T01:13:41.803926",
     "status": "completed"
    },
    "tags": []
   },
   "outputs": [
    {
     "data": {
      "text/plain": [
       "{'x': [-0.24387998531237715,\n",
       "  -1.8500661632987114,\n",
       "  -3.059338137646308,\n",
       "  -0.12586621560854439,\n",
       "  -1.7435897088746126,\n",
       "  -1.8776163165667987,\n",
       "  2.7711269536688827,\n",
       "  -0.041834803909828855,\n",
       "  -1.800250490525609,\n",
       "  0.4525263224832373,\n",
       "  2.609061377151411,\n",
       "  -1.8326184742470422,\n",
       "  0.37521569760297246,\n",
       "  0.06532373732925252,\n",
       "  1.1268397243132757,\n",
       "  -0.639640706341535,\n",
       "  1.7781224198680974,\n",
       "  -1.8780695778734657,\n",
       "  0.4711448398085903,\n",
       "  1.593113875870166,\n",
       "  2.072880776787573,\n",
       "  1.198492275810608,\n",
       "  1.1688993556939606,\n",
       "  -1.0223620452793285,\n",
       "  -0.5818029893400073,\n",
       "  2.1655552236894664,\n",
       "  1.899617914839223,\n",
       "  -2.2412746141167315,\n",
       "  -0.5662767376501092,\n",
       "  2.5971794903871337,\n",
       "  -0.03961043156814824,\n",
       "  1.6644799697064612,\n",
       "  1.4795061721907512,\n",
       "  -2.6218842025642703,\n",
       "  0.30171966386173105,\n",
       "  -2.5656089781774867,\n",
       "  -0.15184983257167434,\n",
       "  2.188653022224701,\n",
       "  2.0629790779794765,\n",
       "  -3.2373513787615065,\n",
       "  -1.133689827701317,\n",
       "  1.0064288080321828,\n",
       "  2.717490244396952,\n",
       "  -2.759305567245771,\n",
       "  2.6585525197764905,\n",
       "  -1.1244719379818917,\n",
       "  -0.3373263973038143,\n",
       "  -0.10998563960480574,\n",
       "  -2.421941185233385,\n",
       "  -0.7518593739942742,\n",
       "  -2.545828805378807,\n",
       "  -0.517458781193387,\n",
       "  1.4504259188684436,\n",
       "  -0.7380579424404026,\n",
       "  2.37743863527979,\n",
       "  1.9486212294430199,\n",
       "  -2.4543098136007444,\n",
       "  -2.7673579278184457,\n",
       "  -1.8318828741784767,\n",
       "  -2.600016679047612,\n",
       "  0.8555595458881158,\n",
       "  2.485968370488924,\n",
       "  0.23953277959589006,\n",
       "  0.40869848596036,\n",
       "  0.08784178470122013,\n",
       "  -2.00745732268441,\n",
       "  1.785334759271535,\n",
       "  -0.6315516185989781,\n",
       "  -1.099842356113249,\n",
       "  -0.9996884444942937,\n",
       "  2.3527248600134687,\n",
       "  -1.1364111051431869,\n",
       "  0.031225779985945203,\n",
       "  0.8228098369871661,\n",
       "  -1.2270037395791074,\n",
       "  -0.3132526769965823,\n",
       "  -2.091860031262907,\n",
       "  -3.2851803349204456,\n",
       "  -0.7824063761410153,\n",
       "  -2.4784666918254525,\n",
       "  1.802721536511614,\n",
       "  0.01110689754372531,\n",
       "  -1.4105154913782378,\n",
       "  -2.9076959082201395,\n",
       "  -0.6875542509707574,\n",
       "  -2.1616619243372224,\n",
       "  -1.5454526052980972,\n",
       "  2.606908773915218,\n",
       "  -1.2790684062900004,\n",
       "  3.0800088987494743,\n",
       "  0.35922754718724387,\n",
       "  3.064634571114256,\n",
       "  -1.608167084951697,\n",
       "  -1.0697717606544217,\n",
       "  -2.4999608646143505,\n",
       "  1.313824536884821,\n",
       "  -2.8033355613726307,\n",
       "  0.8089003785617195,\n",
       "  3.6669096926048117,\n",
       "  -3.2230539742618043,\n",
       "  2.4263132806140697,\n",
       "  2.8810883518963863,\n",
       "  -0.48862898167321955,\n",
       "  -2.876456392947274],\n",
       " 'fun': np.float64(-2.3012041727873713),\n",
       " 'dd': np.float64(-2.301204280747271),\n",
       " 'NREplusCEE': np.float64(1.5119348883428574)}"
      ]
     },
     "execution_count": 14,
     "metadata": {},
     "output_type": "execute_result"
    }
   ],
   "source": [
    "vqe_result"
   ]
  },
  {
   "cell_type": "code",
   "execution_count": 15,
   "id": "17f49028",
   "metadata": {
    "execution": {
     "iopub.execute_input": "2025-07-31T01:13:41.866827Z",
     "iopub.status.busy": "2025-07-31T01:13:41.866450Z",
     "iopub.status.idle": "2025-07-31T01:13:41.872123Z",
     "shell.execute_reply": "2025-07-31T01:13:41.871159Z"
    },
    "papermill": {
     "duration": 0.024455,
     "end_time": "2025-07-31T01:13:41.873833",
     "exception": false,
     "start_time": "2025-07-31T01:13:41.849378",
     "status": "completed"
    },
    "tags": []
   },
   "outputs": [
    {
     "data": {
      "text/plain": [
       "104"
      ]
     },
     "execution_count": 15,
     "metadata": {},
     "output_type": "execute_result"
    }
   ],
   "source": [
    "len(vqe_result['x'])"
   ]
  },
  {
   "cell_type": "code",
   "execution_count": 16,
   "id": "9ff78507",
   "metadata": {
    "execution": {
     "iopub.execute_input": "2025-07-31T01:13:41.903322Z",
     "iopub.status.busy": "2025-07-31T01:13:41.902774Z",
     "iopub.status.idle": "2025-07-31T01:13:41.908771Z",
     "shell.execute_reply": "2025-07-31T01:13:41.907897Z"
    },
    "papermill": {
     "duration": 0.027787,
     "end_time": "2025-07-31T01:13:41.910203",
     "exception": false,
     "start_time": "2025-07-31T01:13:41.882416",
     "status": "completed"
    },
    "tags": []
   },
   "outputs": [
    {
     "name": "stdout",
     "output_type": "stream",
     "text": [
      "1.0795989968670483e-07\n"
     ]
    }
   ],
   "source": [
    "print(vqe_result['fun'] - vqe_result['dd'])"
   ]
  },
  {
   "cell_type": "code",
   "execution_count": 17,
   "id": "7424dae1",
   "metadata": {
    "execution": {
     "iopub.execute_input": "2025-07-31T01:13:41.942883Z",
     "iopub.status.busy": "2025-07-31T01:13:41.940971Z",
     "iopub.status.idle": "2025-07-31T01:13:41.953067Z",
     "shell.execute_reply": "2025-07-31T01:13:41.951321Z"
    },
    "papermill": {
     "duration": 0.036047,
     "end_time": "2025-07-31T01:13:41.955467",
     "exception": false,
     "start_time": "2025-07-31T01:13:41.919420",
     "status": "completed"
    },
    "tags": []
   },
   "outputs": [],
   "source": [
    "with open(\"vqe_result.pkl\", \"wb\") as f:\n",
    "    dill.dump(vqe_result, f)"
   ]
  }
 ],
 "metadata": {
  "kernelspec": {
   "display_name": "Python 3 (ipykernel)",
   "language": "python",
   "name": "python3"
  },
  "language_info": {
   "codemirror_mode": {
    "name": "ipython",
    "version": 3
   },
   "file_extension": ".py",
   "mimetype": "text/x-python",
   "name": "python",
   "nbconvert_exporter": "python",
   "pygments_lexer": "ipython3",
   "version": "3.10.15"
  },
  "papermill": {
   "default_parameters": {},
   "duration": 20.304834,
   "end_time": "2025-07-31T01:13:42.686014",
   "environment_variables": {},
   "exception": null,
   "input_path": "vqe.ipynb",
   "output_path": "/usr/src/app/SoleyGroup/lab_data/Notebooks/Statistics/Corrected_plots/New_H2/BondLengths/processing_BL_0p35000/vqe.ipynb",
   "parameters": {
    "BL": 0.35
   },
   "start_time": "2025-07-31T01:13:22.381180",
   "version": "2.6.0"
  }
 },
 "nbformat": 4,
 "nbformat_minor": 5
}