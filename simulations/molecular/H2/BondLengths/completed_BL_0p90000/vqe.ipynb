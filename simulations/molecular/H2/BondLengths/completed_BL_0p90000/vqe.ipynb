{
 "cells": [
  {
   "cell_type": "code",
   "execution_count": 1,
   "id": "0a2ba924",
   "metadata": {
    "execution": {
     "iopub.execute_input": "2025-07-31T01:14:25.854352Z",
     "iopub.status.busy": "2025-07-31T01:14:25.853662Z",
     "iopub.status.idle": "2025-07-31T01:14:27.465521Z",
     "shell.execute_reply": "2025-07-31T01:14:27.464607Z"
    },
    "papermill": {
     "duration": 1.623623,
     "end_time": "2025-07-31T01:14:27.467539",
     "exception": false,
     "start_time": "2025-07-31T01:14:25.843916",
     "status": "completed"
    },
    "tags": []
   },
   "outputs": [],
   "source": [
    "from qiskit_nature.second_q.formats.molecule_info import MoleculeInfo\n",
    "from qiskit_nature.second_q.drivers import PySCFDriver\n",
    "from qiskit_nature.second_q.transformers import FreezeCoreTransformer\n",
    "from qiskit_nature.second_q.mappers import ParityMapper, JordanWignerMapper\n",
    "import dill\n",
    "import numpy as np\n",
    "from qiskit_algorithms.optimizers import SPSA, SLSQP, COBYLA\n",
    "from qiskit_aer.primitives import Estimator\n",
    "from qiskit_nature.second_q.circuit.library import HartreeFock\n",
    "from qiskit.circuit.library import EfficientSU2"
   ]
  },
  {
   "cell_type": "code",
   "execution_count": 2,
   "id": "4e5b37cf-6138-4a82-be63-c7d8cc2eaad4",
   "metadata": {
    "execution": {
     "iopub.execute_input": "2025-07-31T01:14:27.507056Z",
     "iopub.status.busy": "2025-07-31T01:14:27.506190Z",
     "iopub.status.idle": "2025-07-31T01:14:27.515670Z",
     "shell.execute_reply": "2025-07-31T01:14:27.514818Z"
    },
    "papermill": {
     "duration": 0.041387,
     "end_time": "2025-07-31T01:14:27.517479",
     "exception": false,
     "start_time": "2025-07-31T01:14:27.476092",
     "status": "completed"
    },
    "tags": []
   },
   "outputs": [
    {
     "data": {
      "text/plain": [
       "'0.7.2'"
      ]
     },
     "execution_count": 2,
     "metadata": {},
     "output_type": "execute_result"
    }
   ],
   "source": [
    "import qiskit_nature\n",
    "qiskit_nature.__version__"
   ]
  },
  {
   "cell_type": "code",
   "execution_count": 3,
   "id": "ba910acd",
   "metadata": {
    "execution": {
     "iopub.execute_input": "2025-07-31T01:14:27.547344Z",
     "iopub.status.busy": "2025-07-31T01:14:27.546861Z",
     "iopub.status.idle": "2025-07-31T01:14:27.551058Z",
     "shell.execute_reply": "2025-07-31T01:14:27.550073Z"
    },
    "papermill": {
     "duration": 0.024633,
     "end_time": "2025-07-31T01:14:27.552875",
     "exception": false,
     "start_time": "2025-07-31T01:14:27.528242",
     "status": "completed"
    },
    "slideshow": {
     "slide_type": ""
    },
    "tags": [
     "parameters"
    ]
   },
   "outputs": [],
   "source": [
    "BL = 0.6"
   ]
  },
  {
   "cell_type": "code",
   "execution_count": 4,
   "id": "8e7b3213",
   "metadata": {
    "execution": {
     "iopub.execute_input": "2025-07-31T01:14:27.588256Z",
     "iopub.status.busy": "2025-07-31T01:14:27.587111Z",
     "iopub.status.idle": "2025-07-31T01:14:27.591780Z",
     "shell.execute_reply": "2025-07-31T01:14:27.590685Z"
    },
    "papermill": {
     "duration": 0.028401,
     "end_time": "2025-07-31T01:14:27.593422",
     "exception": false,
     "start_time": "2025-07-31T01:14:27.565021",
     "status": "completed"
    },
    "tags": [
     "injected-parameters"
    ]
   },
   "outputs": [],
   "source": [
    "# Parameters\n",
    "BL = 0.9\n"
   ]
  },
  {
   "cell_type": "markdown",
   "id": "7e24e37e",
   "metadata": {
    "papermill": {
     "duration": 0.018403,
     "end_time": "2025-07-31T01:14:27.624286",
     "exception": false,
     "start_time": "2025-07-31T01:14:27.605883",
     "status": "completed"
    },
    "tags": []
   },
   "source": [
    "### 1 Construct the Hamiltonian"
   ]
  },
  {
   "cell_type": "markdown",
   "id": "7b0ce8eb",
   "metadata": {
    "papermill": {
     "duration": 0.018013,
     "end_time": "2025-07-31T01:14:27.658922",
     "exception": false,
     "start_time": "2025-07-31T01:14:27.640909",
     "status": "completed"
    },
    "tags": []
   },
   "source": [
    "Helper function to construct the Hamiltonian represented as a Pauli decomposition stored in `qubit_op`, while also returning the `nuclear_repulsion_energy` and `core_electron_energy`."
   ]
  },
  {
   "cell_type": "code",
   "execution_count": 5,
   "id": "abd75003",
   "metadata": {
    "execution": {
     "iopub.execute_input": "2025-07-31T01:14:27.699295Z",
     "iopub.status.busy": "2025-07-31T01:14:27.698725Z",
     "iopub.status.idle": "2025-07-31T01:14:27.706575Z",
     "shell.execute_reply": "2025-07-31T01:14:27.705154Z"
    },
    "papermill": {
     "duration": 0.0329,
     "end_time": "2025-07-31T01:14:27.708567",
     "exception": false,
     "start_time": "2025-07-31T01:14:27.675667",
     "status": "completed"
    },
    "slideshow": {
     "slide_type": ""
    },
    "tags": []
   },
   "outputs": [],
   "source": [
    "def get_qubit_op(BL):\n",
    "    molecule = MoleculeInfo(\n",
    "        symbols=[\"H\", \"H\"],\n",
    "        coords=([0.0, 0.0, 0.0], [BL, 0.0, 0.0]),\n",
    "        multiplicity=1,\n",
    "        charge=0,\n",
    "    )\n",
    "\n",
    "    driver = PySCFDriver.from_molecule(molecule)\n",
    "    properties = driver.run()\n",
    "\n",
    "    problem = FreezeCoreTransformer(\n",
    "        freeze_core=True, remove_orbitals=[-3, -2]\n",
    "    ).transform(properties)\n",
    "\n",
    "    # Get the fermionic Hamiltonian (first element)\n",
    "    fermionic_op, _ = problem.second_q_ops()\n",
    "\n",
    "    num_particles = problem.num_particles\n",
    "    num_spatial_orbitals = problem.num_spatial_orbitals\n",
    "\n",
    "    # Use Jordan-Wigner (no tapering)\n",
    "    mapper = JordanWignerMapper()\n",
    "    qubit_op = mapper.map(fermionic_op)\n",
    "    # converter = QubitConverter(mapper=mapper)\n",
    "    # qubit_op = converter.convert(fermionic_op, num_particles=num_particles)\n",
    "\n",
    "    core_electron_energy = problem.hamiltonian.constants[\"FreezeCoreTransformer\"]\n",
    "    nuclear_repulsion_energy = problem.nuclear_repulsion_energy\n",
    "\n",
    "    return (\n",
    "        qubit_op,\n",
    "        num_particles,\n",
    "        num_spatial_orbitals,\n",
    "        problem,\n",
    "        mapper,\n",
    "        nuclear_repulsion_energy,\n",
    "        core_electron_energy,\n",
    "    )\n"
   ]
  },
  {
   "cell_type": "code",
   "execution_count": 6,
   "id": "7caf8b94",
   "metadata": {
    "execution": {
     "iopub.execute_input": "2025-07-31T01:14:27.743175Z",
     "iopub.status.busy": "2025-07-31T01:14:27.742423Z",
     "iopub.status.idle": "2025-07-31T01:14:27.921026Z",
     "shell.execute_reply": "2025-07-31T01:14:27.919761Z"
    },
    "papermill": {
     "duration": 0.205144,
     "end_time": "2025-07-31T01:14:27.923297",
     "exception": false,
     "start_time": "2025-07-31T01:14:27.718153",
     "status": "completed"
    },
    "tags": []
   },
   "outputs": [],
   "source": [
    "(qubit_op, num_particles, num_spatial_orbitals, problem, mapper,nuclear_repulsion_energy, core_electron_energy) = get_qubit_op(BL)"
   ]
  },
  {
   "cell_type": "code",
   "execution_count": 7,
   "id": "8e954660",
   "metadata": {
    "execution": {
     "iopub.execute_input": "2025-07-31T01:14:27.950040Z",
     "iopub.status.busy": "2025-07-31T01:14:27.949623Z",
     "iopub.status.idle": "2025-07-31T01:14:27.955761Z",
     "shell.execute_reply": "2025-07-31T01:14:27.954858Z"
    },
    "papermill": {
     "duration": 0.025039,
     "end_time": "2025-07-31T01:14:27.957213",
     "exception": false,
     "start_time": "2025-07-31T01:14:27.932174",
     "status": "completed"
    },
    "tags": []
   },
   "outputs": [
    {
     "data": {
      "text/plain": [
       "SparsePauliOp(['IIII', 'IIIZ', 'IIZI', 'IIZZ', 'IZII', 'IZIZ', 'ZIII', 'ZIIZ', 'YYYY', 'XXYY', 'YYXX', 'XXXX', 'IZZI', 'ZIZI', 'ZZII'],\n",
       "              coeffs=[-0.8470288 +0.j,  0.14907479+0.j, -0.16071249+0.j,  0.11162723+0.j,\n",
       "  0.14907479+0.j,  0.16113816+0.j, -0.16071249+0.j,  0.15927016+0.j,\n",
       "  0.04764292+0.j,  0.04764292+0.j,  0.04764292+0.j,  0.04764292+0.j,\n",
       "  0.15927016+0.j,  0.16737126+0.j,  0.11162723+0.j])"
      ]
     },
     "execution_count": 7,
     "metadata": {},
     "output_type": "execute_result"
    }
   ],
   "source": [
    "qubit_op"
   ]
  },
  {
   "cell_type": "code",
   "execution_count": 8,
   "id": "8e03d926",
   "metadata": {
    "execution": {
     "iopub.execute_input": "2025-07-31T01:14:27.982120Z",
     "iopub.status.busy": "2025-07-31T01:14:27.981551Z",
     "iopub.status.idle": "2025-07-31T01:14:27.997089Z",
     "shell.execute_reply": "2025-07-31T01:14:27.996084Z"
    },
    "papermill": {
     "duration": 0.033105,
     "end_time": "2025-07-31T01:14:27.998802",
     "exception": false,
     "start_time": "2025-07-31T01:14:27.965697",
     "status": "completed"
    },
    "tags": []
   },
   "outputs": [],
   "source": [
    "# Extract terms and coefficients\n",
    "pauli_list = list(zip(qubit_op.paulis, qubit_op.coeffs))\n",
    "\n",
    "# Sort terms by absolute coefficient magnitude (largest first)\n",
    "sorted_pauli_list = sorted(pauli_list, key=lambda x: abs(x[1]), reverse=True)\n",
    "\n",
    "# Print sorted terms\n",
    "# for pauli, coef in sorted_pauli_list:\n",
    "#     print(f\"Pauli: {pauli}, Coefficient: {coef}\")\n",
    "\n",
    "# Save the list\n",
    "with open(\"sorted_pauli_list.pkl\", \"wb\") as f:\n",
    "    dill.dump(sorted_pauli_list, f)"
   ]
  },
  {
   "cell_type": "code",
   "execution_count": 9,
   "id": "09a22634",
   "metadata": {
    "execution": {
     "iopub.execute_input": "2025-07-31T01:14:28.023091Z",
     "iopub.status.busy": "2025-07-31T01:14:28.022204Z",
     "iopub.status.idle": "2025-07-31T01:14:28.029583Z",
     "shell.execute_reply": "2025-07-31T01:14:28.028733Z"
    },
    "papermill": {
     "duration": 0.024713,
     "end_time": "2025-07-31T01:14:28.031210",
     "exception": false,
     "start_time": "2025-07-31T01:14:28.006497",
     "status": "completed"
    },
    "tags": []
   },
   "outputs": [],
   "source": [
    "dd = np.real(min(np.linalg.eigvals(qubit_op.to_matrix())))"
   ]
  },
  {
   "cell_type": "markdown",
   "id": "a33105fe",
   "metadata": {
    "papermill": {
     "duration": 0.016119,
     "end_time": "2025-07-31T01:14:28.055532",
     "exception": false,
     "start_time": "2025-07-31T01:14:28.039413",
     "status": "completed"
    },
    "tags": []
   },
   "source": [
    "### 2 Perform VQE"
   ]
  },
  {
   "cell_type": "markdown",
   "id": "f6c1ff85",
   "metadata": {
    "papermill": {
     "duration": 0.015576,
     "end_time": "2025-07-31T01:14:28.090718",
     "exception": false,
     "start_time": "2025-07-31T01:14:28.075142",
     "status": "completed"
    },
    "tags": []
   },
   "source": [
    "Define a class to perform VQE."
   ]
  },
  {
   "cell_type": "code",
   "execution_count": 10,
   "id": "7f12ba1d",
   "metadata": {
    "execution": {
     "iopub.execute_input": "2025-07-31T01:14:28.124341Z",
     "iopub.status.busy": "2025-07-31T01:14:28.123928Z",
     "iopub.status.idle": "2025-07-31T01:14:28.132095Z",
     "shell.execute_reply": "2025-07-31T01:14:28.130763Z"
    },
    "papermill": {
     "duration": 0.027702,
     "end_time": "2025-07-31T01:14:28.133761",
     "exception": false,
     "start_time": "2025-07-31T01:14:28.106059",
     "status": "completed"
    },
    "tags": []
   },
   "outputs": [],
   "source": [
    "# Define the custom VQE\n",
    "class CustomVQE:\n",
    "    def __init__(self, estimator, ansatz, optimizer, qubit_op, dd, NREplusCEE, custom_function, initial_point=None):\n",
    "        self.estimator = estimator\n",
    "        self.ansatz = ansatz\n",
    "        self.optimizer = optimizer\n",
    "        self.qubit_op = qubit_op\n",
    "        self.NREplusCEE = NREplusCEE\n",
    "        self.dd = dd\n",
    "        self.custom_function = custom_function\n",
    "        self.initial_point = initial_point  or [0] * ansatz.num_parameters\n",
    "\n",
    "    def compute_minimum_eigenvalue(self):\n",
    "        # Define the function to minimize\n",
    "        def objective_function(params):\n",
    "            # Evaluate the expectation value of the qubit operator\n",
    "            expectation = self.estimator.run([self.ansatz], [self.qubit_op], [params]).result().values[0]\n",
    "            # Evaluate the custom objective function\n",
    "            return self.custom_function(expectation, params)\n",
    "\n",
    "        # Use the `minimize` method for optimization\n",
    "        opt_result = self.optimizer.minimize(\n",
    "            fun=objective_function,\n",
    "            x0=self.initial_point\n",
    "        )\n",
    "\n",
    "        result = {\n",
    "            'x': [float(value) for value in opt_result.x],\n",
    "            'fun': opt_result.fun,\n",
    "            'dd': self.dd,\n",
    "            'NREplusCEE': self.NREplusCEE\n",
    "        }\n",
    "\n",
    "        \n",
    "        return result\n"
   ]
  },
  {
   "cell_type": "code",
   "execution_count": 11,
   "id": "d499d53b",
   "metadata": {
    "execution": {
     "iopub.execute_input": "2025-07-31T01:14:28.159449Z",
     "iopub.status.busy": "2025-07-31T01:14:28.158726Z",
     "iopub.status.idle": "2025-07-31T01:14:28.163076Z",
     "shell.execute_reply": "2025-07-31T01:14:28.162269Z"
    },
    "papermill": {
     "duration": 0.023044,
     "end_time": "2025-07-31T01:14:28.165193",
     "exception": false,
     "start_time": "2025-07-31T01:14:28.142149",
     "status": "completed"
    },
    "tags": []
   },
   "outputs": [],
   "source": [
    "# l=12 and maxiter = 200 works for LiH and HF"
   ]
  },
  {
   "cell_type": "code",
   "execution_count": 12,
   "id": "868ad712",
   "metadata": {
    "execution": {
     "iopub.execute_input": "2025-07-31T01:14:28.199507Z",
     "iopub.status.busy": "2025-07-31T01:14:28.198824Z",
     "iopub.status.idle": "2025-07-31T01:14:28.225332Z",
     "shell.execute_reply": "2025-07-31T01:14:28.224427Z"
    },
    "papermill": {
     "duration": 0.051316,
     "end_time": "2025-07-31T01:14:28.227485",
     "exception": false,
     "start_time": "2025-07-31T01:14:28.176169",
     "status": "completed"
    },
    "tags": []
   },
   "outputs": [],
   "source": [
    "optimizer = SLSQP(maxiter=300)\n",
    "noiseless_estimator = Estimator(approximation=True)\n",
    "\n",
    "\n",
    "# Define ansatz\n",
    "var_form = EfficientSU2(qubit_op.num_qubits, reps=12, entanglement='full', skip_unentangled_qubits=False, parameter_prefix='a')\n",
    "\n",
    "\n",
    "# Example Custom Objective Function\n",
    "def custom_objective_function(expectation_value, parameters):\n",
    "    # penalty_term = 0.1 * sum(param**2 for param in parameters)  # Example regularization\n",
    "    return expectation_value \n",
    "\n",
    "\n",
    "# Create an instance of CustomVQE\n",
    "custom_vqe = CustomVQE(\n",
    "    estimator=noiseless_estimator,\n",
    "    ansatz=var_form,\n",
    "    optimizer=optimizer,\n",
    "    qubit_op=qubit_op,\n",
    "    dd = dd,\n",
    "    NREplusCEE = nuclear_repulsion_energy + core_electron_energy,\n",
    "    custom_function=custom_objective_function,\n",
    "    initial_point = list(np.random.uniform(-np.pi, np.pi, var_form.num_parameters))\n",
    ")\n"
   ]
  },
  {
   "cell_type": "code",
   "execution_count": 13,
   "id": "a23a50b5",
   "metadata": {
    "execution": {
     "iopub.execute_input": "2025-07-31T01:14:28.257337Z",
     "iopub.status.busy": "2025-07-31T01:14:28.256709Z",
     "iopub.status.idle": "2025-07-31T01:14:46.114254Z",
     "shell.execute_reply": "2025-07-31T01:14:46.113228Z"
    },
    "papermill": {
     "duration": 17.881821,
     "end_time": "2025-07-31T01:14:46.116667",
     "exception": false,
     "start_time": "2025-07-31T01:14:28.234846",
     "status": "completed"
    },
    "tags": []
   },
   "outputs": [],
   "source": [
    "vqe_result = custom_vqe.compute_minimum_eigenvalue()"
   ]
  },
  {
   "cell_type": "code",
   "execution_count": 14,
   "id": "c35ff26f-7516-49ca-a32d-dffdbcea7725",
   "metadata": {
    "execution": {
     "iopub.execute_input": "2025-07-31T01:14:46.148366Z",
     "iopub.status.busy": "2025-07-31T01:14:46.147364Z",
     "iopub.status.idle": "2025-07-31T01:14:46.154531Z",
     "shell.execute_reply": "2025-07-31T01:14:46.153735Z"
    },
    "papermill": {
     "duration": 0.031007,
     "end_time": "2025-07-31T01:14:46.156328",
     "exception": false,
     "start_time": "2025-07-31T01:14:46.125321",
     "status": "completed"
    },
    "tags": []
   },
   "outputs": [
    {
     "data": {
      "text/plain": [
       "{'x': [-2.6075164649215394,\n",
       "  -3.0916065122303746,\n",
       "  -2.2647317687183777,\n",
       "  1.3475244864752227,\n",
       "  1.2877796697275532,\n",
       "  -0.16381018861951405,\n",
       "  2.8374199957459023,\n",
       "  -0.19952276946017597,\n",
       "  -0.5051760680118071,\n",
       "  -2.491094675675747,\n",
       "  -0.7035918080416497,\n",
       "  -0.009920341174781312,\n",
       "  -2.8479485055353173,\n",
       "  -1.5633074047682187,\n",
       "  -0.6493819086339467,\n",
       "  1.3764602236454497,\n",
       "  -1.8328096327558845,\n",
       "  0.3772067870323669,\n",
       "  -0.8098816106400973,\n",
       "  -0.2268622259733506,\n",
       "  -1.0409882487470752,\n",
       "  -1.9370655298776724,\n",
       "  -1.0837153702433018,\n",
       "  -1.1148834955570448,\n",
       "  -1.3671968542517772,\n",
       "  -1.082026303855216,\n",
       "  -1.2753785468121102,\n",
       "  2.3031949284795785,\n",
       "  1.4617034488776057,\n",
       "  -0.5624505084046397,\n",
       "  -1.5201983377238149,\n",
       "  -2.711032404232417,\n",
       "  1.4268455330838357,\n",
       "  3.2642116278789124,\n",
       "  1.826129295641071,\n",
       "  -2.2069795141243334,\n",
       "  -2.109876073248932,\n",
       "  -0.7403465632975633,\n",
       "  1.3076246063803478,\n",
       "  2.0666464229274877,\n",
       "  2.4343005297364946,\n",
       "  -1.9266393405093223,\n",
       "  -2.975594828484925,\n",
       "  0.7640714466188243,\n",
       "  -1.1420568714158823,\n",
       "  -2.5036818495231628,\n",
       "  1.3768483595429137,\n",
       "  1.1491428912591057,\n",
       "  -2.848772941555979,\n",
       "  0.21934429636483457,\n",
       "  0.13463802764337568,\n",
       "  1.6873470420551315,\n",
       "  -1.3076431691692374,\n",
       "  -1.4858764056954725,\n",
       "  1.4814895969711257,\n",
       "  -1.3107292823465726,\n",
       "  1.63685715328043,\n",
       "  0.42969609215856425,\n",
       "  1.3406188341024066,\n",
       "  2.2802305660389255,\n",
       "  -0.5056373758206161,\n",
       "  -0.3291357584550782,\n",
       "  0.013509770112570912,\n",
       "  -0.48954345488927004,\n",
       "  2.5792912079280303,\n",
       "  -1.9435423276633723,\n",
       "  2.309287447915842,\n",
       "  1.461873101200898,\n",
       "  0.27908495605255806,\n",
       "  0.03169807384877231,\n",
       "  -2.114006250352775,\n",
       "  1.3238428399263766,\n",
       "  2.5256043746699404,\n",
       "  -2.6231174876315837,\n",
       "  -2.0128103651105884,\n",
       "  -1.290256610217039,\n",
       "  -1.5243483612961832,\n",
       "  -0.3074427164581375,\n",
       "  1.0084756755771105,\n",
       "  2.387042173056995,\n",
       "  2.560060421462449,\n",
       "  2.77405943551501,\n",
       "  -1.0092841120300065,\n",
       "  1.6974975273306945,\n",
       "  0.02938900498746863,\n",
       "  1.088447215263627,\n",
       "  1.4157358510795188,\n",
       "  2.331791458352744,\n",
       "  1.1125630553505292,\n",
       "  0.34287705942129126,\n",
       "  -1.9907425413487505,\n",
       "  1.9161753069732197,\n",
       "  -0.5541010255580743,\n",
       "  1.5565777044721782,\n",
       "  -0.38517745587061136,\n",
       "  -2.9305755089071277,\n",
       "  0.47934785535255,\n",
       "  -0.27272810628527105,\n",
       "  -0.10591322478019008,\n",
       "  -2.1177985847022156,\n",
       "  2.24516927104073,\n",
       "  0.0037930458266905685,\n",
       "  -1.4051758954193132,\n",
       "  2.2986785141423507],\n",
       " 'fun': np.float64(-1.7085343191891358),\n",
       " 'dd': np.float64(-1.7085349600999875),\n",
       " 'NREplusCEE': np.float64(0.5879746788)}"
      ]
     },
     "execution_count": 14,
     "metadata": {},
     "output_type": "execute_result"
    }
   ],
   "source": [
    "vqe_result"
   ]
  },
  {
   "cell_type": "code",
   "execution_count": 15,
   "id": "17f49028",
   "metadata": {
    "execution": {
     "iopub.execute_input": "2025-07-31T01:14:46.182812Z",
     "iopub.status.busy": "2025-07-31T01:14:46.182064Z",
     "iopub.status.idle": "2025-07-31T01:14:46.187730Z",
     "shell.execute_reply": "2025-07-31T01:14:46.186882Z"
    },
    "papermill": {
     "duration": 0.023311,
     "end_time": "2025-07-31T01:14:46.189018",
     "exception": false,
     "start_time": "2025-07-31T01:14:46.165707",
     "status": "completed"
    },
    "tags": []
   },
   "outputs": [
    {
     "data": {
      "text/plain": [
       "104"
      ]
     },
     "execution_count": 15,
     "metadata": {},
     "output_type": "execute_result"
    }
   ],
   "source": [
    "len(vqe_result['x'])"
   ]
  },
  {
   "cell_type": "code",
   "execution_count": 16,
   "id": "9ff78507",
   "metadata": {
    "execution": {
     "iopub.execute_input": "2025-07-31T01:14:46.217502Z",
     "iopub.status.busy": "2025-07-31T01:14:46.216407Z",
     "iopub.status.idle": "2025-07-31T01:14:46.222507Z",
     "shell.execute_reply": "2025-07-31T01:14:46.221576Z"
    },
    "papermill": {
     "duration": 0.0258,
     "end_time": "2025-07-31T01:14:46.223778",
     "exception": false,
     "start_time": "2025-07-31T01:14:46.197978",
     "status": "completed"
    },
    "tags": []
   },
   "outputs": [
    {
     "name": "stdout",
     "output_type": "stream",
     "text": [
      "6.409108517235751e-07\n"
     ]
    }
   ],
   "source": [
    "print(vqe_result['fun'] - vqe_result['dd'])"
   ]
  },
  {
   "cell_type": "code",
   "execution_count": 17,
   "id": "7424dae1",
   "metadata": {
    "execution": {
     "iopub.execute_input": "2025-07-31T01:14:46.249843Z",
     "iopub.status.busy": "2025-07-31T01:14:46.249012Z",
     "iopub.status.idle": "2025-07-31T01:14:46.257101Z",
     "shell.execute_reply": "2025-07-31T01:14:46.256302Z"
    },
    "papermill": {
     "duration": 0.024824,
     "end_time": "2025-07-31T01:14:46.258728",
     "exception": false,
     "start_time": "2025-07-31T01:14:46.233904",
     "status": "completed"
    },
    "tags": []
   },
   "outputs": [],
   "source": [
    "with open(\"vqe_result.pkl\", \"wb\") as f:\n",
    "    dill.dump(vqe_result, f)"
   ]
  }
 ],
 "metadata": {
  "kernelspec": {
   "display_name": "Python 3 (ipykernel)",
   "language": "python",
   "name": "python3"
  },
  "language_info": {
   "codemirror_mode": {
    "name": "ipython",
    "version": 3
   },
   "file_extension": ".py",
   "mimetype": "text/x-python",
   "name": "python",
   "nbconvert_exporter": "python",
   "pygments_lexer": "ipython3",
   "version": "3.10.15"
  },
  "papermill": {
   "default_parameters": {},
   "duration": 22.066633,
   "end_time": "2025-07-31T01:14:47.091267",
   "environment_variables": {},
   "exception": null,
   "input_path": "vqe.ipynb",
   "output_path": "/usr/src/app/SoleyGroup/lab_data/Notebooks/Statistics/Corrected_plots/New_H2/BondLengths/processing_BL_0p90000/vqe.ipynb",
   "parameters": {
    "BL": 0.9
   },
   "start_time": "2025-07-31T01:14:25.024634",
   "version": "2.6.0"
  }
 },
 "nbformat": 4,
 "nbformat_minor": 5
}