{
 "cells": [
  {
   "cell_type": "code",
   "execution_count": 1,
   "id": "a91004bd-003e-48ec-9deb-a4b4712546d4",
   "metadata": {
    "execution": {
     "iopub.execute_input": "2025-01-23T05:21:53.282760Z",
     "iopub.status.busy": "2025-01-23T05:21:53.282018Z",
     "iopub.status.idle": "2025-01-23T05:21:54.930332Z",
     "shell.execute_reply": "2025-01-23T05:21:54.929417Z"
    },
    "papermill": {
     "duration": 1.65458,
     "end_time": "2025-01-23T05:21:54.932053",
     "exception": false,
     "start_time": "2025-01-23T05:21:53.277473",
     "status": "completed"
    },
    "tags": []
   },
   "outputs": [],
   "source": [
    "from qiskit_nature.second_q.formats.molecule_info import MoleculeInfo\n",
    "from qiskit_nature.second_q.drivers import PySCFDriver\n",
    "from qiskit_nature.second_q.transformers import FreezeCoreTransformer\n",
    "from qiskit_nature.second_q.mappers import ParityMapper\n",
    "import dill\n",
    "import numpy as np\n",
    "from qiskit_algorithms.optimizers import SPSA, SLSQP, COBYLA\n",
    "from qiskit_aer.primitives import Estimator\n",
    "from qiskit_nature.second_q.circuit.library import HartreeFock\n",
    "from qiskit.circuit.library import EfficientSU2"
   ]
  },
  {
   "cell_type": "code",
   "execution_count": 2,
   "id": "bfd3f46b-c8ad-478b-a8c3-6169683131c5",
   "metadata": {
    "editable": true,
    "execution": {
     "iopub.execute_input": "2025-01-23T05:21:54.942702Z",
     "iopub.status.busy": "2025-01-23T05:21:54.941659Z",
     "iopub.status.idle": "2025-01-23T05:21:54.949207Z",
     "shell.execute_reply": "2025-01-23T05:21:54.948402Z"
    },
    "papermill": {
     "duration": 0.013814,
     "end_time": "2025-01-23T05:21:54.950555",
     "exception": false,
     "start_time": "2025-01-23T05:21:54.936741",
     "status": "completed"
    },
    "slideshow": {
     "slide_type": ""
    },
    "tags": [
     "parameters"
    ]
   },
   "outputs": [],
   "source": [
    "BL = 0.6"
   ]
  },
  {
   "cell_type": "code",
   "execution_count": 3,
   "id": "9b0e6d5c",
   "metadata": {
    "execution": {
     "iopub.execute_input": "2025-01-23T05:21:54.958137Z",
     "iopub.status.busy": "2025-01-23T05:21:54.957442Z",
     "iopub.status.idle": "2025-01-23T05:21:54.961170Z",
     "shell.execute_reply": "2025-01-23T05:21:54.960335Z"
    },
    "papermill": {
     "duration": 0.009087,
     "end_time": "2025-01-23T05:21:54.962767",
     "exception": false,
     "start_time": "2025-01-23T05:21:54.953680",
     "status": "completed"
    },
    "tags": [
     "injected-parameters"
    ]
   },
   "outputs": [],
   "source": [
    "# Parameters\n",
    "BL = 3.52\n"
   ]
  },
  {
   "cell_type": "markdown",
   "id": "9ffc8cb9-ba3d-4fee-a312-3f8fb750c8d0",
   "metadata": {
    "papermill": {
     "duration": 0.003178,
     "end_time": "2025-01-23T05:21:54.969157",
     "exception": false,
     "start_time": "2025-01-23T05:21:54.965979",
     "status": "completed"
    },
    "tags": []
   },
   "source": [
    "### 1 Construct the Hamiltonian"
   ]
  },
  {
   "cell_type": "markdown",
   "id": "35e8153b-d82c-4377-81d8-4eb4bd758b04",
   "metadata": {
    "papermill": {
     "duration": 0.002958,
     "end_time": "2025-01-23T05:21:54.975007",
     "exception": false,
     "start_time": "2025-01-23T05:21:54.972049",
     "status": "completed"
    },
    "tags": []
   },
   "source": [
    "Helper function to construct the Hamiltonian represented as a Pauli decomposition stored in `qubit_op`, while also returning the `nuclear_repulsion_energy` and `core_electron_energy`."
   ]
  },
  {
   "cell_type": "code",
   "execution_count": 4,
   "id": "9df416a1-f5f5-4093-97ea-339e028187a0",
   "metadata": {
    "editable": true,
    "execution": {
     "iopub.execute_input": "2025-01-23T05:21:54.983059Z",
     "iopub.status.busy": "2025-01-23T05:21:54.982178Z",
     "iopub.status.idle": "2025-01-23T05:21:54.989306Z",
     "shell.execute_reply": "2025-01-23T05:21:54.988489Z"
    },
    "papermill": {
     "duration": 0.0125,
     "end_time": "2025-01-23T05:21:54.990577",
     "exception": false,
     "start_time": "2025-01-23T05:21:54.978077",
     "status": "completed"
    },
    "slideshow": {
     "slide_type": ""
    },
    "tags": []
   },
   "outputs": [],
   "source": [
    "def get_qubit_op(BL):\n",
    "    # Define Molecule\n",
    "    molecule = MoleculeInfo(\n",
    "        # Coordinates in Angstrom\n",
    "        symbols=[\"Li\", \"H\"],\n",
    "        coords=([0.0, 0.0, 0.0], [BL, 0.0, 0.0]),\n",
    "        multiplicity=1,  # = 2*spin + 1\n",
    "        charge=0,\n",
    "    )\n",
    "    \n",
    "    # molecule = MoleculeInfo(\n",
    "    #     # Coordinates in Angstrom\n",
    "    #     symbols=[\"Be\", \"H\", \"H\"],  # Beryllium and two hydrogens\n",
    "    #     coords=([0.0, 0.0, 0.0], [BL, 0.0, 0.0], [-BL, 0.0, 0.0]),  # Linear geometry\n",
    "    #     multiplicity=1,  # = 2*spin + 1, for singlet state\n",
    "    #     charge=0,  # Neutral molecule\n",
    "    # )\n",
    "\n",
    "    driver = PySCFDriver.from_molecule(molecule)\n",
    "\n",
    "    # Get properties\n",
    "    properties = driver.run()\n",
    "\n",
    "    # Now you can get the reduced electronic structure problem\n",
    "    problem = FreezeCoreTransformer(\n",
    "        freeze_core=True, remove_orbitals=[-3, -2]\n",
    "    ).transform(properties)\n",
    "    fermionic_op = problem.hamiltonian.second_q_op()\n",
    "    \n",
    "    num_particles = problem.num_particles\n",
    "    num_spatial_orbitals = problem.num_spatial_orbitals\n",
    "\n",
    "    mapper = ParityMapper(num_particles=problem.num_particles)\n",
    "    tapered_mapper = problem.get_tapered_mapper(mapper)\n",
    "    qubit_op = tapered_mapper.map(fermionic_op)\n",
    "\n",
    "    core_electron_energy = problem.hamiltonian.constants['FreezeCoreTransformer']\n",
    "    nuclear_repulsion_energy = problem.nuclear_repulsion_energy\n",
    "    \n",
    "    return qubit_op, num_particles, num_spatial_orbitals, problem, tapered_mapper, nuclear_repulsion_energy, core_electron_energy\n",
    "    "
   ]
  },
  {
   "cell_type": "code",
   "execution_count": 5,
   "id": "8d4f9c50-d5cd-4ccc-8fa8-30dd529576c9",
   "metadata": {
    "execution": {
     "iopub.execute_input": "2025-01-23T05:21:54.998529Z",
     "iopub.status.busy": "2025-01-23T05:21:54.997814Z",
     "iopub.status.idle": "2025-01-23T05:21:56.563597Z",
     "shell.execute_reply": "2025-01-23T05:21:56.562762Z"
    },
    "papermill": {
     "duration": 1.571227,
     "end_time": "2025-01-23T05:21:56.565120",
     "exception": false,
     "start_time": "2025-01-23T05:21:54.993893",
     "status": "completed"
    },
    "tags": []
   },
   "outputs": [],
   "source": [
    "(qubit_op, num_particles, num_spatial_orbitals, problem, mapper,nuclear_repulsion_energy, core_electron_energy) = get_qubit_op(BL)\n",
    "\n"
   ]
  },
  {
   "cell_type": "code",
   "execution_count": 6,
   "id": "40076bcf-f30d-4de7-a55b-1ab865f084fb",
   "metadata": {
    "execution": {
     "iopub.execute_input": "2025-01-23T05:21:56.574213Z",
     "iopub.status.busy": "2025-01-23T05:21:56.573608Z",
     "iopub.status.idle": "2025-01-23T05:21:56.654980Z",
     "shell.execute_reply": "2025-01-23T05:21:56.654131Z"
    },
    "papermill": {
     "duration": 0.087563,
     "end_time": "2025-01-23T05:21:56.656667",
     "exception": false,
     "start_time": "2025-01-23T05:21:56.569104",
     "status": "completed"
    },
    "tags": []
   },
   "outputs": [],
   "source": [
    "# Extract terms and coefficients\n",
    "pauli_list = list(zip(qubit_op.paulis, qubit_op.coeffs))\n",
    "\n",
    "# Sort terms by absolute coefficient magnitude (largest first)\n",
    "sorted_pauli_list = sorted(pauli_list, key=lambda x: abs(x[1]), reverse=True)\n",
    "\n",
    "# Print sorted terms\n",
    "# for pauli, coef in sorted_pauli_list:\n",
    "#     print(f\"Pauli: {pauli}, Coefficient: {coef}\")\n",
    "\n",
    "# Save the list\n",
    "with open(\"sorted_pauli_list.pkl\", \"wb\") as f:\n",
    "    dill.dump(sorted_pauli_list, f)"
   ]
  },
  {
   "cell_type": "code",
   "execution_count": 7,
   "id": "851f13b2-5ffb-4dcb-91ad-d8a39084227b",
   "metadata": {
    "execution": {
     "iopub.execute_input": "2025-01-23T05:21:56.664810Z",
     "iopub.status.busy": "2025-01-23T05:21:56.664290Z",
     "iopub.status.idle": "2025-01-23T05:21:56.672757Z",
     "shell.execute_reply": "2025-01-23T05:21:56.671905Z"
    },
    "papermill": {
     "duration": 0.014141,
     "end_time": "2025-01-23T05:21:56.674178",
     "exception": false,
     "start_time": "2025-01-23T05:21:56.660037",
     "status": "completed"
    },
    "tags": []
   },
   "outputs": [],
   "source": [
    "dd = np.real(min(np.linalg.eigvals(qubit_op.to_matrix())))"
   ]
  },
  {
   "cell_type": "markdown",
   "id": "3529886c-e59d-4734-a005-ebcc2151d9c2",
   "metadata": {
    "papermill": {
     "duration": 0.003526,
     "end_time": "2025-01-23T05:21:56.681713",
     "exception": false,
     "start_time": "2025-01-23T05:21:56.678187",
     "status": "completed"
    },
    "tags": []
   },
   "source": [
    "### 2 Perform VQE"
   ]
  },
  {
   "cell_type": "markdown",
   "id": "9a26e439-1fcb-4e5e-a0f6-dcb73b25a7e9",
   "metadata": {
    "papermill": {
     "duration": 0.003081,
     "end_time": "2025-01-23T05:21:56.688006",
     "exception": false,
     "start_time": "2025-01-23T05:21:56.684925",
     "status": "completed"
    },
    "tags": []
   },
   "source": [
    "Define a class to perform VQE."
   ]
  },
  {
   "cell_type": "code",
   "execution_count": 8,
   "id": "86303f16-512b-4947-8dcb-3ddb12dcdf79",
   "metadata": {
    "execution": {
     "iopub.execute_input": "2025-01-23T05:21:56.695595Z",
     "iopub.status.busy": "2025-01-23T05:21:56.695192Z",
     "iopub.status.idle": "2025-01-23T05:21:56.702582Z",
     "shell.execute_reply": "2025-01-23T05:21:56.701829Z"
    },
    "papermill": {
     "duration": 0.012697,
     "end_time": "2025-01-23T05:21:56.703797",
     "exception": false,
     "start_time": "2025-01-23T05:21:56.691100",
     "status": "completed"
    },
    "tags": []
   },
   "outputs": [],
   "source": [
    "# Define the custom VQE\n",
    "class CustomVQE:\n",
    "    def __init__(self, estimator, ansatz, optimizer, qubit_op, dd, NREplusCEE, custom_function, initial_point=None):\n",
    "        self.estimator = estimator\n",
    "        self.ansatz = ansatz\n",
    "        self.optimizer = optimizer\n",
    "        self.qubit_op = qubit_op\n",
    "        self.NREplusCEE = NREplusCEE\n",
    "        self.dd = dd\n",
    "        self.custom_function = custom_function\n",
    "        self.initial_point = initial_point  or [0] * ansatz.num_parameters\n",
    "\n",
    "    def compute_minimum_eigenvalue(self):\n",
    "        # Define the function to minimize\n",
    "        def objective_function(params):\n",
    "            # Evaluate the expectation value of the qubit operator\n",
    "            expectation = self.estimator.run([self.ansatz], [self.qubit_op], [params]).result().values[0]\n",
    "            # Evaluate the custom objective function\n",
    "            return self.custom_function(expectation, params)\n",
    "\n",
    "        # Use the `minimize` method for optimization\n",
    "        opt_result = self.optimizer.minimize(\n",
    "            fun=objective_function,\n",
    "            x0=self.initial_point\n",
    "        )\n",
    "\n",
    "        result = {\n",
    "            'x': [float(value) for value in opt_result.x],\n",
    "            'fun': opt_result.fun,\n",
    "            'dd': self.dd,\n",
    "            'NREplusCEE': self.NREplusCEE\n",
    "        }\n",
    "\n",
    "        \n",
    "        return result\n"
   ]
  },
  {
   "cell_type": "code",
   "execution_count": 9,
   "id": "c171cc3c-701c-4c56-bdbd-4f2090e20e13",
   "metadata": {
    "execution": {
     "iopub.execute_input": "2025-01-23T05:21:56.711554Z",
     "iopub.status.busy": "2025-01-23T05:21:56.711060Z",
     "iopub.status.idle": "2025-01-23T05:21:56.714719Z",
     "shell.execute_reply": "2025-01-23T05:21:56.713909Z"
    },
    "papermill": {
     "duration": 0.009116,
     "end_time": "2025-01-23T05:21:56.716379",
     "exception": false,
     "start_time": "2025-01-23T05:21:56.707263",
     "status": "completed"
    },
    "tags": []
   },
   "outputs": [],
   "source": [
    "# l=12 and maxiter = 200 works for LiH and HF"
   ]
  },
  {
   "cell_type": "code",
   "execution_count": 10,
   "id": "5b37e8b3-a55f-4153-85d3-475522a8210d",
   "metadata": {
    "execution": {
     "iopub.execute_input": "2025-01-23T05:21:56.724088Z",
     "iopub.status.busy": "2025-01-23T05:21:56.723706Z",
     "iopub.status.idle": "2025-01-23T05:21:56.745458Z",
     "shell.execute_reply": "2025-01-23T05:21:56.744654Z"
    },
    "papermill": {
     "duration": 0.027437,
     "end_time": "2025-01-23T05:21:56.747087",
     "exception": false,
     "start_time": "2025-01-23T05:21:56.719650",
     "status": "completed"
    },
    "tags": []
   },
   "outputs": [],
   "source": [
    "optimizer = SLSQP(maxiter=300)\n",
    "noiseless_estimator = Estimator(approximation=True)\n",
    "\n",
    "\n",
    "# Define ansatz\n",
    "init_state = HartreeFock(num_spatial_orbitals, num_particles, mapper)\n",
    "var_form = EfficientSU2(qubit_op.num_qubits, reps=12, entanglement='full', skip_unentangled_qubits=False, parameter_prefix='a')\n",
    "\n",
    "\n",
    "# Example Custom Objective Function\n",
    "def custom_objective_function(expectation_value, parameters):\n",
    "    # penalty_term = 0.1 * sum(param**2 for param in parameters)  # Example regularization\n",
    "    return expectation_value \n",
    "\n",
    "\n",
    "# Create an instance of CustomVQE\n",
    "custom_vqe = CustomVQE(\n",
    "    estimator=noiseless_estimator,\n",
    "    ansatz=var_form,\n",
    "    optimizer=optimizer,\n",
    "    qubit_op=qubit_op,\n",
    "    dd = dd,\n",
    "    NREplusCEE = nuclear_repulsion_energy + core_electron_energy,\n",
    "    custom_function=custom_objective_function,\n",
    "    initial_point = list(np.random.uniform(-np.pi, np.pi, var_form.num_parameters))\n",
    ")\n"
   ]
  },
  {
   "cell_type": "code",
   "execution_count": 11,
   "id": "ecc88820-8d40-44ce-84c7-20bd12d28db4",
   "metadata": {
    "execution": {
     "iopub.execute_input": "2025-01-23T05:21:56.754769Z",
     "iopub.status.busy": "2025-01-23T05:21:56.754258Z",
     "iopub.status.idle": "2025-01-23T05:27:52.523018Z",
     "shell.execute_reply": "2025-01-23T05:27:52.522044Z"
    },
    "papermill": {
     "duration": 355.774958,
     "end_time": "2025-01-23T05:27:52.525236",
     "exception": false,
     "start_time": "2025-01-23T05:21:56.750278",
     "status": "completed"
    },
    "tags": []
   },
   "outputs": [],
   "source": [
    "vqe_result = custom_vqe.compute_minimum_eigenvalue()\n"
   ]
  },
  {
   "cell_type": "code",
   "execution_count": 12,
   "id": "4dff00bc-3905-43b7-8f7c-9200e0b73af0",
   "metadata": {
    "execution": {
     "iopub.execute_input": "2025-01-23T05:27:52.536158Z",
     "iopub.status.busy": "2025-01-23T05:27:52.535480Z",
     "iopub.status.idle": "2025-01-23T05:27:52.543823Z",
     "shell.execute_reply": "2025-01-23T05:27:52.543055Z"
    },
    "papermill": {
     "duration": 0.014985,
     "end_time": "2025-01-23T05:27:52.545183",
     "exception": false,
     "start_time": "2025-01-23T05:27:52.530198",
     "status": "completed"
    },
    "tags": []
   },
   "outputs": [
    {
     "data": {
      "text/plain": [
       "156"
      ]
     },
     "execution_count": 12,
     "metadata": {},
     "output_type": "execute_result"
    }
   ],
   "source": [
    "len(vqe_result['x'])"
   ]
  },
  {
   "cell_type": "code",
   "execution_count": 13,
   "id": "09b66dae-9046-4cd5-9bd8-e800a48d0f42",
   "metadata": {
    "execution": {
     "iopub.execute_input": "2025-01-23T05:27:52.553573Z",
     "iopub.status.busy": "2025-01-23T05:27:52.552883Z",
     "iopub.status.idle": "2025-01-23T05:27:52.557337Z",
     "shell.execute_reply": "2025-01-23T05:27:52.556590Z"
    },
    "papermill": {
     "duration": 0.009985,
     "end_time": "2025-01-23T05:27:52.558753",
     "exception": false,
     "start_time": "2025-01-23T05:27:52.548768",
     "status": "completed"
    },
    "tags": []
   },
   "outputs": [
    {
     "name": "stdout",
     "output_type": "stream",
     "text": [
      "1.0557210033956821e-05\n"
     ]
    }
   ],
   "source": [
    "print(vqe_result['fun'] - vqe_result['dd'])"
   ]
  },
  {
   "cell_type": "code",
   "execution_count": 14,
   "id": "bb7804b1-5bfe-4442-8a91-49614a312f54",
   "metadata": {
    "execution": {
     "iopub.execute_input": "2025-01-23T05:27:52.566678Z",
     "iopub.status.busy": "2025-01-23T05:27:52.566272Z",
     "iopub.status.idle": "2025-01-23T05:27:52.571390Z",
     "shell.execute_reply": "2025-01-23T05:27:52.570657Z"
    },
    "papermill": {
     "duration": 0.010532,
     "end_time": "2025-01-23T05:27:52.572656",
     "exception": false,
     "start_time": "2025-01-23T05:27:52.562124",
     "status": "completed"
    },
    "tags": []
   },
   "outputs": [],
   "source": [
    "with open(\"vqe_result.pkl\", \"wb\") as f:\n",
    "    dill.dump(vqe_result, f)"
   ]
  }
 ],
 "metadata": {
  "kernelspec": {
   "display_name": "Python 3 (ipykernel)",
   "language": "python",
   "name": "python3"
  },
  "language_info": {
   "codemirror_mode": {
    "name": "ipython",
    "version": 3
   },
   "file_extension": ".py",
   "mimetype": "text/x-python",
   "name": "python",
   "nbconvert_exporter": "python",
   "pygments_lexer": "ipython3",
   "version": "3.9.18"
  },
  "papermill": {
   "default_parameters": {},
   "duration": 360.488335,
   "end_time": "2025-01-23T05:27:53.095354",
   "environment_variables": {},
   "exception": null,
   "input_path": "vqe.ipynb",
   "output_path": "/tmp/BondLengths/processing_BL_3p52000/vqe.ipynb",
   "parameters": {
    "BL": 3.52
   },
   "start_time": "2025-01-23T05:21:52.607019",
   "version": "2.6.0"
  }
 },
 "nbformat": 4,
 "nbformat_minor": 5
}