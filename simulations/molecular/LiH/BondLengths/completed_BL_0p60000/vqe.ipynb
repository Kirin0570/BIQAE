{
 "cells": [
  {
   "cell_type": "code",
   "execution_count": 1,
   "id": "a91004bd-003e-48ec-9deb-a4b4712546d4",
   "metadata": {
    "execution": {
     "iopub.execute_input": "2025-01-23T04:45:09.569851Z",
     "iopub.status.busy": "2025-01-23T04:45:09.569030Z",
     "iopub.status.idle": "2025-01-23T04:45:11.891117Z",
     "shell.execute_reply": "2025-01-23T04:45:11.890193Z"
    },
    "papermill": {
     "duration": 2.328881,
     "end_time": "2025-01-23T04:45:11.892873",
     "exception": false,
     "start_time": "2025-01-23T04:45:09.563992",
     "status": "completed"
    },
    "tags": []
   },
   "outputs": [],
   "source": [
    "from qiskit_nature.second_q.formats.molecule_info import MoleculeInfo\n",
    "from qiskit_nature.second_q.drivers import PySCFDriver\n",
    "from qiskit_nature.second_q.transformers import FreezeCoreTransformer\n",
    "from qiskit_nature.second_q.mappers import ParityMapper\n",
    "import dill\n",
    "import numpy as np\n",
    "from qiskit_algorithms.optimizers import SPSA, SLSQP, COBYLA\n",
    "from qiskit_aer.primitives import Estimator\n",
    "from qiskit_nature.second_q.circuit.library import HartreeFock\n",
    "from qiskit.circuit.library import EfficientSU2"
   ]
  },
  {
   "cell_type": "code",
   "execution_count": 2,
   "id": "bfd3f46b-c8ad-478b-a8c3-6169683131c5",
   "metadata": {
    "editable": true,
    "execution": {
     "iopub.execute_input": "2025-01-23T04:45:11.902528Z",
     "iopub.status.busy": "2025-01-23T04:45:11.901505Z",
     "iopub.status.idle": "2025-01-23T04:45:11.909044Z",
     "shell.execute_reply": "2025-01-23T04:45:11.908239Z"
    },
    "papermill": {
     "duration": 0.013072,
     "end_time": "2025-01-23T04:45:11.910209",
     "exception": false,
     "start_time": "2025-01-23T04:45:11.897137",
     "status": "completed"
    },
    "slideshow": {
     "slide_type": ""
    },
    "tags": [
     "parameters"
    ]
   },
   "outputs": [],
   "source": [
    "BL = 0.6"
   ]
  },
  {
   "cell_type": "code",
   "execution_count": 3,
   "id": "62a1c620",
   "metadata": {
    "execution": {
     "iopub.execute_input": "2025-01-23T04:45:11.917779Z",
     "iopub.status.busy": "2025-01-23T04:45:11.917222Z",
     "iopub.status.idle": "2025-01-23T04:45:11.920798Z",
     "shell.execute_reply": "2025-01-23T04:45:11.920078Z"
    },
    "papermill": {
     "duration": 0.008602,
     "end_time": "2025-01-23T04:45:11.921953",
     "exception": false,
     "start_time": "2025-01-23T04:45:11.913351",
     "status": "completed"
    },
    "tags": [
     "injected-parameters"
    ]
   },
   "outputs": [],
   "source": [
    "# Parameters\n",
    "BL = 0.6\n"
   ]
  },
  {
   "cell_type": "markdown",
   "id": "9ffc8cb9-ba3d-4fee-a312-3f8fb750c8d0",
   "metadata": {
    "papermill": {
     "duration": 0.002839,
     "end_time": "2025-01-23T04:45:11.927670",
     "exception": false,
     "start_time": "2025-01-23T04:45:11.924831",
     "status": "completed"
    },
    "tags": []
   },
   "source": [
    "### 1 Construct the Hamiltonian"
   ]
  },
  {
   "cell_type": "markdown",
   "id": "35e8153b-d82c-4377-81d8-4eb4bd758b04",
   "metadata": {
    "papermill": {
     "duration": 0.002803,
     "end_time": "2025-01-23T04:45:11.933180",
     "exception": false,
     "start_time": "2025-01-23T04:45:11.930377",
     "status": "completed"
    },
    "tags": []
   },
   "source": [
    "Helper function to construct the Hamiltonian represented as a Pauli decomposition stored in `qubit_op`, while also returning the `nuclear_repulsion_energy` and `core_electron_energy`."
   ]
  },
  {
   "cell_type": "code",
   "execution_count": 4,
   "id": "9df416a1-f5f5-4093-97ea-339e028187a0",
   "metadata": {
    "editable": true,
    "execution": {
     "iopub.execute_input": "2025-01-23T04:45:11.940712Z",
     "iopub.status.busy": "2025-01-23T04:45:11.940014Z",
     "iopub.status.idle": "2025-01-23T04:45:11.946897Z",
     "shell.execute_reply": "2025-01-23T04:45:11.946073Z"
    },
    "papermill": {
     "duration": 0.012235,
     "end_time": "2025-01-23T04:45:11.948289",
     "exception": false,
     "start_time": "2025-01-23T04:45:11.936054",
     "status": "completed"
    },
    "slideshow": {
     "slide_type": ""
    },
    "tags": []
   },
   "outputs": [],
   "source": [
    "def get_qubit_op(BL):\n",
    "    # Define Molecule\n",
    "    molecule = MoleculeInfo(\n",
    "        # Coordinates in Angstrom\n",
    "        symbols=[\"Li\", \"H\"],\n",
    "        coords=([0.0, 0.0, 0.0], [BL, 0.0, 0.0]),\n",
    "        multiplicity=1,  # = 2*spin + 1\n",
    "        charge=0,\n",
    "    )\n",
    "    \n",
    "    # molecule = MoleculeInfo(\n",
    "    #     # Coordinates in Angstrom\n",
    "    #     symbols=[\"Be\", \"H\", \"H\"],  # Beryllium and two hydrogens\n",
    "    #     coords=([0.0, 0.0, 0.0], [BL, 0.0, 0.0], [-BL, 0.0, 0.0]),  # Linear geometry\n",
    "    #     multiplicity=1,  # = 2*spin + 1, for singlet state\n",
    "    #     charge=0,  # Neutral molecule\n",
    "    # )\n",
    "\n",
    "    driver = PySCFDriver.from_molecule(molecule)\n",
    "\n",
    "    # Get properties\n",
    "    properties = driver.run()\n",
    "\n",
    "    # Now you can get the reduced electronic structure problem\n",
    "    problem = FreezeCoreTransformer(\n",
    "        freeze_core=True, remove_orbitals=[-3, -2]\n",
    "    ).transform(properties)\n",
    "    fermionic_op = problem.hamiltonian.second_q_op()\n",
    "    \n",
    "    num_particles = problem.num_particles\n",
    "    num_spatial_orbitals = problem.num_spatial_orbitals\n",
    "\n",
    "    mapper = ParityMapper(num_particles=problem.num_particles)\n",
    "    tapered_mapper = problem.get_tapered_mapper(mapper)\n",
    "    qubit_op = tapered_mapper.map(fermionic_op)\n",
    "\n",
    "    core_electron_energy = problem.hamiltonian.constants['FreezeCoreTransformer']\n",
    "    nuclear_repulsion_energy = problem.nuclear_repulsion_energy\n",
    "    \n",
    "    return qubit_op, num_particles, num_spatial_orbitals, problem, tapered_mapper, nuclear_repulsion_energy, core_electron_energy\n",
    "    "
   ]
  },
  {
   "cell_type": "code",
   "execution_count": 5,
   "id": "8d4f9c50-d5cd-4ccc-8fa8-30dd529576c9",
   "metadata": {
    "execution": {
     "iopub.execute_input": "2025-01-23T04:45:11.955483Z",
     "iopub.status.busy": "2025-01-23T04:45:11.954918Z",
     "iopub.status.idle": "2025-01-23T04:45:13.549276Z",
     "shell.execute_reply": "2025-01-23T04:45:13.548426Z"
    },
    "papermill": {
     "duration": 1.599627,
     "end_time": "2025-01-23T04:45:13.550911",
     "exception": false,
     "start_time": "2025-01-23T04:45:11.951284",
     "status": "completed"
    },
    "tags": []
   },
   "outputs": [],
   "source": [
    "(qubit_op, num_particles, num_spatial_orbitals, problem, mapper,nuclear_repulsion_energy, core_electron_energy) = get_qubit_op(BL)\n",
    "\n"
   ]
  },
  {
   "cell_type": "code",
   "execution_count": 6,
   "id": "40076bcf-f30d-4de7-a55b-1ab865f084fb",
   "metadata": {
    "execution": {
     "iopub.execute_input": "2025-01-23T04:45:13.560096Z",
     "iopub.status.busy": "2025-01-23T04:45:13.559527Z",
     "iopub.status.idle": "2025-01-23T04:45:13.644669Z",
     "shell.execute_reply": "2025-01-23T04:45:13.643732Z"
    },
    "papermill": {
     "duration": 0.091186,
     "end_time": "2025-01-23T04:45:13.646136",
     "exception": false,
     "start_time": "2025-01-23T04:45:13.554950",
     "status": "completed"
    },
    "tags": []
   },
   "outputs": [],
   "source": [
    "# Extract terms and coefficients\n",
    "pauli_list = list(zip(qubit_op.paulis, qubit_op.coeffs))\n",
    "\n",
    "# Sort terms by absolute coefficient magnitude (largest first)\n",
    "sorted_pauli_list = sorted(pauli_list, key=lambda x: abs(x[1]), reverse=True)\n",
    "\n",
    "# Print sorted terms\n",
    "# for pauli, coef in sorted_pauli_list:\n",
    "#     print(f\"Pauli: {pauli}, Coefficient: {coef}\")\n",
    "\n",
    "# Save the list\n",
    "with open(\"sorted_pauli_list.pkl\", \"wb\") as f:\n",
    "    dill.dump(sorted_pauli_list, f)"
   ]
  },
  {
   "cell_type": "code",
   "execution_count": 7,
   "id": "851f13b2-5ffb-4dcb-91ad-d8a39084227b",
   "metadata": {
    "execution": {
     "iopub.execute_input": "2025-01-23T04:45:13.654342Z",
     "iopub.status.busy": "2025-01-23T04:45:13.653844Z",
     "iopub.status.idle": "2025-01-23T04:45:13.661985Z",
     "shell.execute_reply": "2025-01-23T04:45:13.661175Z"
    },
    "papermill": {
     "duration": 0.013765,
     "end_time": "2025-01-23T04:45:13.663273",
     "exception": false,
     "start_time": "2025-01-23T04:45:13.649508",
     "status": "completed"
    },
    "tags": []
   },
   "outputs": [],
   "source": [
    "dd = np.real(min(np.linalg.eigvals(qubit_op.to_matrix())))"
   ]
  },
  {
   "cell_type": "markdown",
   "id": "3529886c-e59d-4734-a005-ebcc2151d9c2",
   "metadata": {
    "papermill": {
     "duration": 0.003545,
     "end_time": "2025-01-23T04:45:13.670654",
     "exception": false,
     "start_time": "2025-01-23T04:45:13.667109",
     "status": "completed"
    },
    "tags": []
   },
   "source": [
    "### 2 Perform VQE"
   ]
  },
  {
   "cell_type": "markdown",
   "id": "9a26e439-1fcb-4e5e-a0f6-dcb73b25a7e9",
   "metadata": {
    "papermill": {
     "duration": 0.003318,
     "end_time": "2025-01-23T04:45:13.677340",
     "exception": false,
     "start_time": "2025-01-23T04:45:13.674022",
     "status": "completed"
    },
    "tags": []
   },
   "source": [
    "Define a class to perform VQE."
   ]
  },
  {
   "cell_type": "code",
   "execution_count": 8,
   "id": "86303f16-512b-4947-8dcb-3ddb12dcdf79",
   "metadata": {
    "execution": {
     "iopub.execute_input": "2025-01-23T04:45:13.685521Z",
     "iopub.status.busy": "2025-01-23T04:45:13.684745Z",
     "iopub.status.idle": "2025-01-23T04:45:13.692328Z",
     "shell.execute_reply": "2025-01-23T04:45:13.691547Z"
    },
    "papermill": {
     "duration": 0.013077,
     "end_time": "2025-01-23T04:45:13.693606",
     "exception": false,
     "start_time": "2025-01-23T04:45:13.680529",
     "status": "completed"
    },
    "tags": []
   },
   "outputs": [],
   "source": [
    "# Define the custom VQE\n",
    "class CustomVQE:\n",
    "    def __init__(self, estimator, ansatz, optimizer, qubit_op, dd, NREplusCEE, custom_function, initial_point=None):\n",
    "        self.estimator = estimator\n",
    "        self.ansatz = ansatz\n",
    "        self.optimizer = optimizer\n",
    "        self.qubit_op = qubit_op\n",
    "        self.NREplusCEE = NREplusCEE\n",
    "        self.dd = dd\n",
    "        self.custom_function = custom_function\n",
    "        self.initial_point = initial_point  or [0] * ansatz.num_parameters\n",
    "\n",
    "    def compute_minimum_eigenvalue(self):\n",
    "        # Define the function to minimize\n",
    "        def objective_function(params):\n",
    "            # Evaluate the expectation value of the qubit operator\n",
    "            expectation = self.estimator.run([self.ansatz], [self.qubit_op], [params]).result().values[0]\n",
    "            # Evaluate the custom objective function\n",
    "            return self.custom_function(expectation, params)\n",
    "\n",
    "        # Use the `minimize` method for optimization\n",
    "        opt_result = self.optimizer.minimize(\n",
    "            fun=objective_function,\n",
    "            x0=self.initial_point\n",
    "        )\n",
    "\n",
    "        result = {\n",
    "            'x': [float(value) for value in opt_result.x],\n",
    "            'fun': opt_result.fun,\n",
    "            'dd': self.dd,\n",
    "            'NREplusCEE': self.NREplusCEE\n",
    "        }\n",
    "\n",
    "        \n",
    "        return result\n"
   ]
  },
  {
   "cell_type": "code",
   "execution_count": 9,
   "id": "c171cc3c-701c-4c56-bdbd-4f2090e20e13",
   "metadata": {
    "execution": {
     "iopub.execute_input": "2025-01-23T04:45:13.701277Z",
     "iopub.status.busy": "2025-01-23T04:45:13.700514Z",
     "iopub.status.idle": "2025-01-23T04:45:13.704351Z",
     "shell.execute_reply": "2025-01-23T04:45:13.703604Z"
    },
    "papermill": {
     "duration": 0.008896,
     "end_time": "2025-01-23T04:45:13.705612",
     "exception": false,
     "start_time": "2025-01-23T04:45:13.696716",
     "status": "completed"
    },
    "tags": []
   },
   "outputs": [],
   "source": [
    "# l=12 and maxiter = 200 works for LiH and HF"
   ]
  },
  {
   "cell_type": "code",
   "execution_count": 10,
   "id": "5b37e8b3-a55f-4153-85d3-475522a8210d",
   "metadata": {
    "execution": {
     "iopub.execute_input": "2025-01-23T04:45:13.713317Z",
     "iopub.status.busy": "2025-01-23T04:45:13.712833Z",
     "iopub.status.idle": "2025-01-23T04:45:13.734343Z",
     "shell.execute_reply": "2025-01-23T04:45:13.733537Z"
    },
    "papermill": {
     "duration": 0.026855,
     "end_time": "2025-01-23T04:45:13.735693",
     "exception": false,
     "start_time": "2025-01-23T04:45:13.708838",
     "status": "completed"
    },
    "tags": []
   },
   "outputs": [],
   "source": [
    "optimizer = SLSQP(maxiter=300)\n",
    "noiseless_estimator = Estimator(approximation=True)\n",
    "\n",
    "\n",
    "# Define ansatz\n",
    "init_state = HartreeFock(num_spatial_orbitals, num_particles, mapper)\n",
    "var_form = EfficientSU2(qubit_op.num_qubits, reps=12, entanglement='full', skip_unentangled_qubits=False, parameter_prefix='a')\n",
    "\n",
    "\n",
    "# Example Custom Objective Function\n",
    "def custom_objective_function(expectation_value, parameters):\n",
    "    # penalty_term = 0.1 * sum(param**2 for param in parameters)  # Example regularization\n",
    "    return expectation_value \n",
    "\n",
    "\n",
    "# Create an instance of CustomVQE\n",
    "custom_vqe = CustomVQE(\n",
    "    estimator=noiseless_estimator,\n",
    "    ansatz=var_form,\n",
    "    optimizer=optimizer,\n",
    "    qubit_op=qubit_op,\n",
    "    dd = dd,\n",
    "    NREplusCEE = nuclear_repulsion_energy + core_electron_energy,\n",
    "    custom_function=custom_objective_function,\n",
    "    initial_point = list(np.random.uniform(-np.pi, np.pi, var_form.num_parameters))\n",
    ")\n"
   ]
  },
  {
   "cell_type": "code",
   "execution_count": 11,
   "id": "ecc88820-8d40-44ce-84c7-20bd12d28db4",
   "metadata": {
    "execution": {
     "iopub.execute_input": "2025-01-23T04:45:13.743299Z",
     "iopub.status.busy": "2025-01-23T04:45:13.742813Z",
     "iopub.status.idle": "2025-01-23T04:49:43.653910Z",
     "shell.execute_reply": "2025-01-23T04:49:43.652785Z"
    },
    "papermill": {
     "duration": 269.917267,
     "end_time": "2025-01-23T04:49:43.656188",
     "exception": false,
     "start_time": "2025-01-23T04:45:13.738921",
     "status": "completed"
    },
    "tags": []
   },
   "outputs": [],
   "source": [
    "vqe_result = custom_vqe.compute_minimum_eigenvalue()\n"
   ]
  },
  {
   "cell_type": "code",
   "execution_count": 12,
   "id": "4dff00bc-3905-43b7-8f7c-9200e0b73af0",
   "metadata": {
    "execution": {
     "iopub.execute_input": "2025-01-23T04:49:43.668229Z",
     "iopub.status.busy": "2025-01-23T04:49:43.667319Z",
     "iopub.status.idle": "2025-01-23T04:49:43.677586Z",
     "shell.execute_reply": "2025-01-23T04:49:43.675787Z"
    },
    "papermill": {
     "duration": 0.018807,
     "end_time": "2025-01-23T04:49:43.680134",
     "exception": false,
     "start_time": "2025-01-23T04:49:43.661327",
     "status": "completed"
    },
    "tags": []
   },
   "outputs": [
    {
     "data": {
      "text/plain": [
       "156"
      ]
     },
     "execution_count": 12,
     "metadata": {},
     "output_type": "execute_result"
    }
   ],
   "source": [
    "len(vqe_result['x'])"
   ]
  },
  {
   "cell_type": "code",
   "execution_count": 13,
   "id": "09b66dae-9046-4cd5-9bd8-e800a48d0f42",
   "metadata": {
    "execution": {
     "iopub.execute_input": "2025-01-23T04:49:43.692953Z",
     "iopub.status.busy": "2025-01-23T04:49:43.691930Z",
     "iopub.status.idle": "2025-01-23T04:49:43.697882Z",
     "shell.execute_reply": "2025-01-23T04:49:43.696987Z"
    },
    "papermill": {
     "duration": 0.01438,
     "end_time": "2025-01-23T04:49:43.699306",
     "exception": false,
     "start_time": "2025-01-23T04:49:43.684926",
     "status": "completed"
    },
    "tags": []
   },
   "outputs": [
    {
     "name": "stdout",
     "output_type": "stream",
     "text": [
      "7.599071439212679e-06\n"
     ]
    }
   ],
   "source": [
    "print(vqe_result['fun'] - vqe_result['dd'])"
   ]
  },
  {
   "cell_type": "code",
   "execution_count": 14,
   "id": "bb7804b1-5bfe-4442-8a91-49614a312f54",
   "metadata": {
    "execution": {
     "iopub.execute_input": "2025-01-23T04:49:43.713131Z",
     "iopub.status.busy": "2025-01-23T04:49:43.712593Z",
     "iopub.status.idle": "2025-01-23T04:49:43.718541Z",
     "shell.execute_reply": "2025-01-23T04:49:43.717694Z"
    },
    "papermill": {
     "duration": 0.01482,
     "end_time": "2025-01-23T04:49:43.719954",
     "exception": false,
     "start_time": "2025-01-23T04:49:43.705134",
     "status": "completed"
    },
    "tags": []
   },
   "outputs": [],
   "source": [
    "with open(\"vqe_result.pkl\", \"wb\") as f:\n",
    "    dill.dump(vqe_result, f)"
   ]
  }
 ],
 "metadata": {
  "kernelspec": {
   "display_name": "Python 3 (ipykernel)",
   "language": "python",
   "name": "python3"
  },
  "language_info": {
   "codemirror_mode": {
    "name": "ipython",
    "version": 3
   },
   "file_extension": ".py",
   "mimetype": "text/x-python",
   "name": "python",
   "nbconvert_exporter": "python",
   "pygments_lexer": "ipython3",
   "version": "3.9.18"
  },
  "papermill": {
   "default_parameters": {},
   "duration": 275.51439,
   "end_time": "2025-01-23T04:49:44.343571",
   "environment_variables": {},
   "exception": null,
   "input_path": "vqe.ipynb",
   "output_path": "/tmp/BondLengths/processing_BL_0p60000/vqe.ipynb",
   "parameters": {
    "BL": 0.6
   },
   "start_time": "2025-01-23T04:45:08.829181",
   "version": "2.6.0"
  }
 },
 "nbformat": 4,
 "nbformat_minor": 5
}