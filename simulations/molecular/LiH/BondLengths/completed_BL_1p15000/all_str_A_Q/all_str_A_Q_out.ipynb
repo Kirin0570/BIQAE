{
 "cells": [
  {
   "cell_type": "code",
   "execution_count": 1,
   "id": "5484bc49",
   "metadata": {
    "execution": {
     "iopub.execute_input": "2025-01-23T06:18:28.659051Z",
     "iopub.status.busy": "2025-01-23T06:18:28.659051Z",
     "iopub.status.idle": "2025-01-23T06:18:31.325339Z",
     "shell.execute_reply": "2025-01-23T06:18:31.325339Z"
    },
    "papermill": {
     "duration": 2.672294,
     "end_time": "2025-01-23T06:18:31.327340",
     "exception": false,
     "start_time": "2025-01-23T06:18:28.655046",
     "status": "completed"
    },
    "tags": []
   },
   "outputs": [],
   "source": [
    "import sys\n",
    "import os\n",
    "import dill\n",
    "import matplotlib.pyplot as plt\n",
    "\n",
    "from qiskit import transpile\n",
    "from qiskit_aer import AerSimulator\n",
    "from qiskit.qpy import load as qpy_load, dump as qpy_dump\n",
    "\n",
    "# Add the path to the parent of the parent directory\n",
    "sys.path.append(os.path.abspath(os.path.join(os.getcwd(), \"../../\")))\n",
    "\n",
    "# Now you can import your modules\n",
    "from circuit_constructors import construct_A, construct_Q"
   ]
  },
  {
   "cell_type": "markdown",
   "id": "ecd03d95",
   "metadata": {
    "papermill": {
     "duration": 0.002,
     "end_time": "2025-01-23T06:18:31.332339",
     "exception": false,
     "start_time": "2025-01-23T06:18:31.330339",
     "status": "completed"
    },
    "tags": []
   },
   "source": [
    "### 1 Construct A and Q for all Pauli strings"
   ]
  },
  {
   "cell_type": "code",
   "execution_count": 2,
   "id": "a9917f46",
   "metadata": {
    "execution": {
     "iopub.execute_input": "2025-01-23T06:18:31.338339Z",
     "iopub.status.busy": "2025-01-23T06:18:31.338339Z",
     "iopub.status.idle": "2025-01-23T06:18:31.355590Z",
     "shell.execute_reply": "2025-01-23T06:18:31.355590Z"
    },
    "papermill": {
     "duration": 0.022259,
     "end_time": "2025-01-23T06:18:31.357599",
     "exception": false,
     "start_time": "2025-01-23T06:18:31.335340",
     "status": "completed"
    },
    "tags": []
   },
   "outputs": [],
   "source": [
    "# Load decomp and optim_res\n",
    "with open('../sorted_pauli_list.pkl', 'rb') as f:\n",
    "    sorted_pauli_list = dill.load(f)\n",
    "with open('../vqe_result.pkl', 'rb') as f:\n",
    "    vqe_res = dill.load(f)\n"
   ]
  },
  {
   "cell_type": "code",
   "execution_count": 3,
   "id": "2c77796f",
   "metadata": {
    "execution": {
     "iopub.execute_input": "2025-01-23T06:18:31.363597Z",
     "iopub.status.busy": "2025-01-23T06:18:31.362596Z",
     "iopub.status.idle": "2025-01-23T06:18:40.380655Z",
     "shell.execute_reply": "2025-01-23T06:18:40.380149Z"
    },
    "papermill": {
     "duration": 9.022066,
     "end_time": "2025-01-23T06:18:40.381662",
     "exception": false,
     "start_time": "2025-01-23T06:18:31.359596",
     "status": "completed"
    },
    "tags": []
   },
   "outputs": [
    {
     "name": "stdout",
     "output_type": "stream",
     "text": [
      "Processed Pauli string 0: IIIIII\n",
      "Processed Pauli string 1: ZZIIII\n",
      "Processed Pauli string 2: IZZIII\n",
      "Processed Pauli string 3: IIIIZI\n"
     ]
    },
    {
     "name": "stdout",
     "output_type": "stream",
     "text": [
      "Processed Pauli string 4: ZIIIII\n",
      "Processed Pauli string 5: ZIZIZZ\n",
      "Processed Pauli string 6: IIZZII\n",
      "Processed Pauli string 7: IIIZII\n",
      "Processed Pauli string 8: IIIIIZ\n",
      "Processed Pauli string 9: ZIZIII\n",
      "Processed Pauli string 10: ZZIIIZ\n"
     ]
    },
    {
     "name": "stdout",
     "output_type": "stream",
     "text": [
      "Processed Pauli string 11: ZZIZII\n",
      "Processed Pauli string 12: IZZIIZ\n",
      "Processed Pauli string 13: IZZZII\n",
      "Processed Pauli string 14: ZZIIZI\n",
      "Processed Pauli string 15: IZIIII\n",
      "Processed Pauli string 16: IZZIZI\n",
      "Processed Pauli string 17: ZZZIII\n"
     ]
    },
    {
     "name": "stdout",
     "output_type": "stream",
     "text": [
      "Processed Pauli string 18: IZZIZZ\n",
      "Processed Pauli string 19: ZZZZII\n",
      "Processed Pauli string 20: ZZIIZZ\n",
      "Processed Pauli string 21: IZIZII\n",
      "Processed Pauli string 22: IIIZIZ\n",
      "Processed Pauli string 23: ZIIIIZ\n"
     ]
    },
    {
     "name": "stdout",
     "output_type": "stream",
     "text": [
      "Processed Pauli string 24: IIIZZI\n",
      "Processed Pauli string 25: ZIIIZI\n",
      "Processed Pauli string 26: ZIIZZZ\n",
      "Processed Pauli string 27: IIIIZZ\n",
      "Processed Pauli string 28: ZIIZII\n",
      "Processed Pauli string 29: IIZIZZ\n",
      "Processed Pauli string 30: IIZZZI\n"
     ]
    },
    {
     "name": "stdout",
     "output_type": "stream",
     "text": [
      "Processed Pauli string 31: IIZZIZ\n",
      "Processed Pauli string 32: ZIZZZZ\n",
      "Processed Pauli string 33: ZIZIZI\n",
      "Processed Pauli string 34: IIZIII\n",
      "Processed Pauli string 35: ZIZIIZ\n",
      "Processed Pauli string 36: ZIZZII\n",
      "Processed Pauli string 37: ZIIIXX\n"
     ]
    },
    {
     "name": "stdout",
     "output_type": "stream",
     "text": [
      "Processed Pauli string 38: ZIIIYY\n",
      "Processed Pauli string 39: XXXXZI\n",
      "Processed Pauli string 40: YXXYZI\n",
      "Processed Pauli string 41: XXXXIZ\n",
      "Processed Pauli string 42: YXXYIZ\n",
      "Processed Pauli string 43: IIIZXX\n",
      "Processed Pauli string 44: IIIZYY\n"
     ]
    },
    {
     "name": "stdout",
     "output_type": "stream",
     "text": [
      "Processed Pauli string 45: XXXXXX\n",
      "Processed Pauli string 46: YXXYXX\n",
      "Processed Pauli string 47: XXXXYY\n"
     ]
    },
    {
     "name": "stdout",
     "output_type": "stream",
     "text": [
      "Processed Pauli string 48: YXXYYY\n",
      "Processed Pauli string 49: XXXXII\n",
      "Processed Pauli string 50: YXXYII\n",
      "Processed Pauli string 51: IIIIXX\n",
      "Processed Pauli string 52: IIIIYY\n",
      "Processed Pauli string 53: XXXZII\n",
      "Processed Pauli string 54: YXYIII\n"
     ]
    },
    {
     "name": "stdout",
     "output_type": "stream",
     "text": [
      "Processed Pauli string 55: IIIIXZ\n",
      "Processed Pauli string 56: ZIZIXI\n",
      "Processed Pauli string 57: XXXZIZ\n",
      "Processed Pauli string 58: YXYIIZ\n",
      "Processed Pauli string 59: IIIZXZ\n",
      "Processed Pauli string 60: ZIZZXI\n",
      "Processed Pauli string 61: ZXXZZZ\n"
     ]
    },
    {
     "name": "stdout",
     "output_type": "stream",
     "text": [
      "Processed Pauli string 62: IYYIZZ\n",
      "Processed Pauli string 63: ZYYZII\n",
      "Processed Pauli string 64: IXXIII\n",
      "Processed Pauli string 65: ZIXZZZ\n",
      "Processed Pauli string 66: ZZXIZZ\n",
      "Processed Pauli string 67: IZXZII\n",
      "Processed Pauli string 68: IIXIII\n"
     ]
    },
    {
     "name": "stdout",
     "output_type": "stream",
     "text": [
      "Processed Pauli string 69: ZZIIXX\n",
      "Processed Pauli string 70: ZZIIYY\n",
      "Processed Pauli string 71: YYXXII\n",
      "Processed Pauli string 72: XYXYII\n"
     ]
    },
    {
     "name": "stdout",
     "output_type": "stream",
     "text": [
      "Processed Pauli string 73: IZZIXX\n",
      "Processed Pauli string 74: IZZIYY\n",
      "Processed Pauli string 75: XYYXII\n",
      "Processed Pauli string 76: YYYYII\n",
      "Processed Pauli string 77: IIZXIZ\n",
      "Processed Pauli string 78: IIIXIZ\n",
      "Processed Pauli string 79: ZIZZZX\n"
     ]
    },
    {
     "name": "stdout",
     "output_type": "stream",
     "text": [
      "Processed Pauli string 80: IIIZIX\n",
      "Processed Pauli string 81: ZIIIXZ\n",
      "Processed Pauli string 82: IIZIXI\n",
      "Processed Pauli string 83: XXXZZI\n",
      "Processed Pauli string 84: YXYIZI\n",
      "Processed Pauli string 85: IIZIZX\n",
      "Processed Pauli string 86: ZIIIIX\n"
     ]
    },
    {
     "name": "stdout",
     "output_type": "stream",
     "text": [
      "Processed Pauli string 87: IIZXZI\n",
      "Processed Pauli string 88: IIIXZI\n",
      "Processed Pauli string 89: YXYZZZ\n",
      "Processed Pauli string 90: XXXIZZ\n",
      "Processed Pauli string 91: IIZZXZ\n",
      "Processed Pauli string 92: ZIIZXI\n",
      "Processed Pauli string 93: IIZXII\n"
     ]
    },
    {
     "name": "stdout",
     "output_type": "stream",
     "text": [
      "Processed Pauli string 94: IIIXII\n",
      "Processed Pauli string 95: ZIZIZX\n",
      "Processed Pauli string 96: IIIIIX\n",
      "Processed Pauli string 97: IXIIII\n"
     ]
    },
    {
     "name": "stdout",
     "output_type": "stream",
     "text": [
      "Processed Pauli string 98: ZXZIII\n",
      "Processed Pauli string 99: YXYXZX\n",
      "Processed Pauli string 100: XXYYZX\n",
      "Processed Pauli string 101: XXXXIX\n",
      "Processed Pauli string 102: YXXYIX\n",
      "Processed Pauli string 103: IIZXXX\n"
     ]
    },
    {
     "name": "stdout",
     "output_type": "stream",
     "text": [
      "Processed Pauli string 104: IIIXXX\n",
      "Processed Pauli string 105: IIZXYY\n",
      "Processed Pauli string 106: IIIXYY\n",
      "Processed Pauli string 107: XXXZXX\n",
      "Processed Pauli string 108: YXYIXX\n",
      "Processed Pauli string 109: XXXZYY\n"
     ]
    },
    {
     "name": "stdout",
     "output_type": "stream",
     "text": [
      "Processed Pauli string 110: YXYIYY\n",
      "Processed Pauli string 111: XXXXXZ\n",
      "Processed Pauli string 112: YXXYXZ\n",
      "Processed Pauli string 113: YXYXXI\n",
      "Processed Pauli string 114: XXYYXI\n",
      "Processed Pauli string 115: XXXZXZ\n"
     ]
    },
    {
     "name": "stdout",
     "output_type": "stream",
     "text": [
      "Processed Pauli string 116: YXYIXZ\n",
      "Processed Pauli string 117: YXYZXI\n",
      "Processed Pauli string 118: XXXIXI\n",
      "Processed Pauli string 119: ZXXXZX\n",
      "Processed Pauli string 120: IYXYZX\n",
      "Processed Pauli string 121: IYXXZY\n",
      "Processed Pauli string 122: ZXXYZY\n"
     ]
    },
    {
     "name": "stdout",
     "output_type": "stream",
     "text": [
      "Processed Pauli string 123: ZIXXZX\n",
      "Processed Pauli string 124: ZZYYZX\n",
      "Processed Pauli string 125: ZZYXZY\n",
      "Processed Pauli string 126: ZIXYZY\n",
      "Processed Pauli string 127: IIIIXI\n",
      "Processed Pauli string 128: ZIZIXZ\n"
     ]
    },
    {
     "name": "stdout",
     "output_type": "stream",
     "text": [
      "Processed Pauli string 129: XXXIII\n",
      "Processed Pauli string 130: YXYZII\n",
      "Processed Pauli string 131: ZXXZZX\n",
      "Processed Pauli string 132: IYYIZX\n",
      "Processed Pauli string 133: IYXZZY\n",
      "Processed Pauli string 134: ZXYIZY\n"
     ]
    },
    {
     "name": "stdout",
     "output_type": "stream",
     "text": [
      "Processed Pauli string 135: ZXXXZZ\n",
      "Processed Pauli string 136: IYXYZZ\n",
      "Processed Pauli string 137: ZYYXII\n",
      "Processed Pauli string 138: IXYYII\n",
      "Processed Pauli string 139: ZIXZZX\n",
      "Processed Pauli string 140: ZZXIZX\n"
     ]
    },
    {
     "name": "stdout",
     "output_type": "stream",
     "text": [
      "Processed Pauli string 141: ZZYZZY\n",
      "Processed Pauli string 142: ZIYIZY\n",
      "Processed Pauli string 143: ZIXXZZ\n",
      "Processed Pauli string 144: ZZYYZZ\n",
      "Processed Pauli string 145: IZXXII\n",
      "Processed Pauli string 146: IIYYII\n",
      "Processed Pauli string 147: XZIIZX\n"
     ]
    },
    {
     "name": "stdout",
     "output_type": "stream",
     "text": [
      "Processed Pauli string 148: XIIIZX\n",
      "Processed Pauli string 149: YIIIZY\n",
      "Processed Pauli string 150: YZIIZY\n"
     ]
    },
    {
     "name": "stdout",
     "output_type": "stream",
     "text": [
      "Processed Pauli string 151: IYXXYI\n",
      "Processed Pauli string 152: ZXXYYI\n",
      "Processed Pauli string 153: ZXXXXI\n",
      "Processed Pauli string 154: IYXYXI\n",
      "Processed Pauli string 155: YYZIZX\n",
      "Processed Pauli string 156: XXIIZX\n"
     ]
    },
    {
     "name": "stdout",
     "output_type": "stream",
     "text": [
      "Processed Pauli string 157: YXIIZY\n",
      "Processed Pauli string 158: XYZIZY\n",
      "Processed Pauli string 159: ZZYXYI\n",
      "Processed Pauli string 160: ZIXYYI\n",
      "Processed Pauli string 161: ZIXXXI\n",
      "Processed Pauli string 162: ZZYYXI\n"
     ]
    },
    {
     "name": "stdout",
     "output_type": "stream",
     "text": [
      "Processed Pauli string 163: YIIIYI\n",
      "Processed Pauli string 164: YZIIYI\n",
      "Processed Pauli string 165: XZIIXI\n",
      "Processed Pauli string 166: XIIIXI\n",
      "Processed Pauli string 167: YXIIYI\n",
      "Processed Pauli string 168: XYZIYI\n",
      "Processed Pauli string 169: YYZIXI\n"
     ]
    },
    {
     "name": "stdout",
     "output_type": "stream",
     "text": [
      "Processed Pauli string 170: XXIIXI\n",
      "Processed Pauli string 171: ZZIIZX\n",
      "Processed Pauli string 172: IZZIIX\n",
      "Processed Pauli string 173: IZIXII\n"
     ]
    },
    {
     "name": "stdout",
     "output_type": "stream",
     "text": [
      "Processed Pauli string 174: IZZXII\n",
      "Processed Pauli string 175: IZZIZX\n",
      "Processed Pauli string 176: ZZIIIX\n",
      "Processed Pauli string 177: ZZZXII\n",
      "Processed Pauli string 178: ZZIXII\n",
      "Processed Pauli string 179: XZIIZZ\n",
      "Processed Pauli string 180: XIIIZZ\n"
     ]
    },
    {
     "name": "stdout",
     "output_type": "stream",
     "text": [
      "Processed Pauli string 181: XIZIII\n",
      "Processed Pauli string 182: XZZIII\n",
      "Processed Pauli string 183: IYXZYI\n",
      "Processed Pauli string 184: ZXYIYI\n",
      "Processed Pauli string 185: ZXXZXI\n",
      "Processed Pauli string 186: IYYIXI\n",
      "Processed Pauli string 187: YYZIZZ\n"
     ]
    },
    {
     "name": "stdout",
     "output_type": "stream",
     "text": [
      "Processed Pauli string 188: XXIIZZ\n",
      "Processed Pauli string 189: XXZIII\n",
      "Processed Pauli string 190: YYIIII\n",
      "Processed Pauli string 191: ZZYZYI\n",
      "Processed Pauli string 192: ZIYIYI\n",
      "Processed Pauli string 193: ZIXZXI\n",
      "Processed Pauli string 194: ZZXIXI\n"
     ]
    },
    {
     "name": "stdout",
     "output_type": "stream",
     "text": [
      "Processed Pauli string 195: ZZIIXZ\n",
      "Processed Pauli string 196: IZZIXI\n",
      "Processed Pauli string 197: YYXZII\n",
      "Processed Pauli string 198: XYYIII\n"
     ]
    },
    {
     "name": "stdout",
     "output_type": "stream",
     "text": [
      "Processed Pauli string 199: IZZIXZ\n",
      "Processed Pauli string 200: ZZIIXI\n",
      "Processed Pauli string 201: XYYZII\n",
      "Processed Pauli string 202: YYXIII\n",
      "Processed Pauli string 203: ZIIXZX\n",
      "Processed Pauli string 204: ZIZXZX\n"
     ]
    },
    {
     "name": "stdout",
     "output_type": "stream",
     "text": [
      "Processed Pauli string 205: IIZXIX\n",
      "Processed Pauli string 206: IIIXIX\n",
      "Processed Pauli string 207: ZIZIIX\n",
      "Processed Pauli string 208: IIIIZX\n",
      "Processed Pauli string 209: ZIZXII\n",
      "Processed Pauli string 210: ZIIXII\n",
      "Processed Pauli string 211: IIZZXX\n"
     ]
    },
    {
     "name": "stdout",
     "output_type": "stream",
     "text": [
      "Processed Pauli string 212: IIZZYY\n",
      "Processed Pauli string 213: YXYXZZ\n",
      "Processed Pauli string 214: XXYYZZ\n",
      "Processed Pauli string 215: YXYZZX\n",
      "Processed Pauli string 216: XXXIZX\n",
      "Processed Pauli string 217: XXXZIX\n",
      "Processed Pauli string 218: YXYIIX\n"
     ]
    },
    {
     "name": "stdout",
     "output_type": "stream",
     "text": [
      "Processed Pauli string 219: IIZXXZ\n",
      "Processed Pauli string 220: IIIXXZ\n",
      "Processed Pauli string 221: ZIIXXI\n",
      "Processed Pauli string 222: ZIZXXI\n",
      "Processed Pauli string 223: ZIIZZX\n",
      "Processed Pauli string 224: IIZZIX\n"
     ]
    },
    {
     "name": "stdout",
     "output_type": "stream",
     "text": [
      "Processed Pauli string 225: ZIIXZZ\n",
      "Processed Pauli string 226: ZIZXZZ\n",
      "Processed Pauli string 227: ZIZIYY\n",
      "Processed Pauli string 228: ZIZIXX\n",
      "Processed Pauli string 229: XXYYII\n",
      "Processed Pauli string 230: YXYXII\n",
      "All circuits generated and saved.\n"
     ]
    }
   ],
   "source": [
    "# Extract opt_params\n",
    "opt_params = vqe_res['x']\n",
    "\n",
    "# Set l\n",
    "l = 12\n",
    "\n",
    "# Create the main folder if it doesn't exist\n",
    "if not os.path.exists('circuits'):\n",
    "    os.makedirs('circuits')\n",
    "\n",
    "# Traverse the Pauli strings\n",
    "for i, (pauli_string, coeff) in enumerate(sorted_pauli_list):\n",
    "    # Create a folder for this Pauli string\n",
    "    folder_path = os.path.join('circuits', str(i))\n",
    "    if not os.path.exists(folder_path):\n",
    "        os.makedirs(folder_path)\n",
    "    \n",
    "    # Construct A\n",
    "    A = construct_A(l, opt_params, pauli_string)\n",
    "\n",
    "    # Construct Q\n",
    "    Q = construct_Q(A)\n",
    "\n",
    "    # Save A\n",
    "    with open(os.path.join(folder_path, 'circuit_A.qpy'), 'wb') as f:\n",
    "        qpy_dump(A, f)\n",
    "    \n",
    "    # Save Q\n",
    "    with open(os.path.join(folder_path, 'circuit_Q.qpy'), 'wb') as f:\n",
    "        qpy_dump(Q, f)\n",
    "    \n",
    "    print(f\"Processed Pauli string {i}: {pauli_string}\")\n",
    "    \n",
    "print(\"All circuits generated and saved.\")"
   ]
  },
  {
   "cell_type": "markdown",
   "id": "392a5603",
   "metadata": {
    "papermill": {
     "duration": 0.004002,
     "end_time": "2025-01-23T06:18:40.390665",
     "exception": false,
     "start_time": "2025-01-23T06:18:40.386663",
     "status": "completed"
    },
    "tags": []
   },
   "source": [
    "### 2 Transpilation"
   ]
  },
  {
   "cell_type": "code",
   "execution_count": 4,
   "id": "a5068482",
   "metadata": {
    "execution": {
     "iopub.execute_input": "2025-01-23T06:18:40.400662Z",
     "iopub.status.busy": "2025-01-23T06:18:40.400662Z",
     "iopub.status.idle": "2025-01-23T06:20:06.723038Z",
     "shell.execute_reply": "2025-01-23T06:20:06.722531Z"
    },
    "papermill": {
     "duration": 86.328915,
     "end_time": "2025-01-23T06:20:06.724576",
     "exception": false,
     "start_time": "2025-01-23T06:18:40.395661",
     "status": "completed"
    },
    "tags": []
   },
   "outputs": [
    {
     "name": "stdout",
     "output_type": "stream",
     "text": [
      "Transpiled and saved: circuits\\0\\transpiled_circuit_A.qpy\n"
     ]
    },
    {
     "name": "stdout",
     "output_type": "stream",
     "text": [
      "Transpiled and saved: circuits\\0\\transpiled_circuit_Q.qpy\n",
      "Transpiled and saved: circuits\\1\\transpiled_circuit_A.qpy\n"
     ]
    },
    {
     "name": "stdout",
     "output_type": "stream",
     "text": [
      "Transpiled and saved: circuits\\1\\transpiled_circuit_Q.qpy\n",
      "Transpiled and saved: circuits\\10\\transpiled_circuit_A.qpy\n"
     ]
    },
    {
     "name": "stdout",
     "output_type": "stream",
     "text": [
      "Transpiled and saved: circuits\\10\\transpiled_circuit_Q.qpy\n",
      "Transpiled and saved: circuits\\100\\transpiled_circuit_A.qpy\n"
     ]
    },
    {
     "name": "stdout",
     "output_type": "stream",
     "text": [
      "Transpiled and saved: circuits\\100\\transpiled_circuit_Q.qpy\n",
      "Transpiled and saved: circuits\\101\\transpiled_circuit_A.qpy\n"
     ]
    },
    {
     "name": "stdout",
     "output_type": "stream",
     "text": [
      "Transpiled and saved: circuits\\101\\transpiled_circuit_Q.qpy\n",
      "Transpiled and saved: circuits\\102\\transpiled_circuit_A.qpy\n"
     ]
    },
    {
     "name": "stdout",
     "output_type": "stream",
     "text": [
      "Transpiled and saved: circuits\\102\\transpiled_circuit_Q.qpy\n",
      "Transpiled and saved: circuits\\103\\transpiled_circuit_A.qpy\n"
     ]
    },
    {
     "name": "stdout",
     "output_type": "stream",
     "text": [
      "Transpiled and saved: circuits\\103\\transpiled_circuit_Q.qpy\n",
      "Transpiled and saved: circuits\\104\\transpiled_circuit_A.qpy\n"
     ]
    },
    {
     "name": "stdout",
     "output_type": "stream",
     "text": [
      "Transpiled and saved: circuits\\104\\transpiled_circuit_Q.qpy\n"
     ]
    },
    {
     "name": "stdout",
     "output_type": "stream",
     "text": [
      "Transpiled and saved: circuits\\105\\transpiled_circuit_A.qpy\n"
     ]
    },
    {
     "name": "stdout",
     "output_type": "stream",
     "text": [
      "Transpiled and saved: circuits\\105\\transpiled_circuit_Q.qpy\n",
      "Transpiled and saved: circuits\\106\\transpiled_circuit_A.qpy\n"
     ]
    },
    {
     "name": "stdout",
     "output_type": "stream",
     "text": [
      "Transpiled and saved: circuits\\106\\transpiled_circuit_Q.qpy\n",
      "Transpiled and saved: circuits\\107\\transpiled_circuit_A.qpy\n"
     ]
    },
    {
     "name": "stdout",
     "output_type": "stream",
     "text": [
      "Transpiled and saved: circuits\\107\\transpiled_circuit_Q.qpy\n",
      "Transpiled and saved: circuits\\108\\transpiled_circuit_A.qpy\n"
     ]
    },
    {
     "name": "stdout",
     "output_type": "stream",
     "text": [
      "Transpiled and saved: circuits\\108\\transpiled_circuit_Q.qpy\n",
      "Transpiled and saved: circuits\\109\\transpiled_circuit_A.qpy\n"
     ]
    },
    {
     "name": "stdout",
     "output_type": "stream",
     "text": [
      "Transpiled and saved: circuits\\109\\transpiled_circuit_Q.qpy\n",
      "Transpiled and saved: circuits\\11\\transpiled_circuit_A.qpy\n"
     ]
    },
    {
     "name": "stdout",
     "output_type": "stream",
     "text": [
      "Transpiled and saved: circuits\\11\\transpiled_circuit_Q.qpy\n",
      "Transpiled and saved: circuits\\110\\transpiled_circuit_A.qpy\n"
     ]
    },
    {
     "name": "stdout",
     "output_type": "stream",
     "text": [
      "Transpiled and saved: circuits\\110\\transpiled_circuit_Q.qpy\n",
      "Transpiled and saved: circuits\\111\\transpiled_circuit_A.qpy\n"
     ]
    },
    {
     "name": "stdout",
     "output_type": "stream",
     "text": [
      "Transpiled and saved: circuits\\111\\transpiled_circuit_Q.qpy\n",
      "Transpiled and saved: circuits\\112\\transpiled_circuit_A.qpy\n"
     ]
    },
    {
     "name": "stdout",
     "output_type": "stream",
     "text": [
      "Transpiled and saved: circuits\\112\\transpiled_circuit_Q.qpy\n",
      "Transpiled and saved: circuits\\113\\transpiled_circuit_A.qpy\n"
     ]
    },
    {
     "name": "stdout",
     "output_type": "stream",
     "text": [
      "Transpiled and saved: circuits\\113\\transpiled_circuit_Q.qpy\n",
      "Transpiled and saved: circuits\\114\\transpiled_circuit_A.qpy\n"
     ]
    },
    {
     "name": "stdout",
     "output_type": "stream",
     "text": [
      "Transpiled and saved: circuits\\114\\transpiled_circuit_Q.qpy\n"
     ]
    },
    {
     "name": "stdout",
     "output_type": "stream",
     "text": [
      "Transpiled and saved: circuits\\115\\transpiled_circuit_A.qpy\n"
     ]
    },
    {
     "name": "stdout",
     "output_type": "stream",
     "text": [
      "Transpiled and saved: circuits\\115\\transpiled_circuit_Q.qpy\n",
      "Transpiled and saved: circuits\\116\\transpiled_circuit_A.qpy\n"
     ]
    },
    {
     "name": "stdout",
     "output_type": "stream",
     "text": [
      "Transpiled and saved: circuits\\116\\transpiled_circuit_Q.qpy\n",
      "Transpiled and saved: circuits\\117\\transpiled_circuit_A.qpy\n"
     ]
    },
    {
     "name": "stdout",
     "output_type": "stream",
     "text": [
      "Transpiled and saved: circuits\\117\\transpiled_circuit_Q.qpy\n",
      "Transpiled and saved: circuits\\118\\transpiled_circuit_A.qpy\n"
     ]
    },
    {
     "name": "stdout",
     "output_type": "stream",
     "text": [
      "Transpiled and saved: circuits\\118\\transpiled_circuit_Q.qpy\n",
      "Transpiled and saved: circuits\\119\\transpiled_circuit_A.qpy\n"
     ]
    },
    {
     "name": "stdout",
     "output_type": "stream",
     "text": [
      "Transpiled and saved: circuits\\119\\transpiled_circuit_Q.qpy\n",
      "Transpiled and saved: circuits\\12\\transpiled_circuit_A.qpy\n"
     ]
    },
    {
     "name": "stdout",
     "output_type": "stream",
     "text": [
      "Transpiled and saved: circuits\\12\\transpiled_circuit_Q.qpy\n",
      "Transpiled and saved: circuits\\120\\transpiled_circuit_A.qpy\n"
     ]
    },
    {
     "name": "stdout",
     "output_type": "stream",
     "text": [
      "Transpiled and saved: circuits\\120\\transpiled_circuit_Q.qpy\n",
      "Transpiled and saved: circuits\\121\\transpiled_circuit_A.qpy\n"
     ]
    },
    {
     "name": "stdout",
     "output_type": "stream",
     "text": [
      "Transpiled and saved: circuits\\121\\transpiled_circuit_Q.qpy\n",
      "Transpiled and saved: circuits\\122\\transpiled_circuit_A.qpy\n"
     ]
    },
    {
     "name": "stdout",
     "output_type": "stream",
     "text": [
      "Transpiled and saved: circuits\\122\\transpiled_circuit_Q.qpy\n",
      "Transpiled and saved: circuits\\123\\transpiled_circuit_A.qpy\n"
     ]
    },
    {
     "name": "stdout",
     "output_type": "stream",
     "text": [
      "Transpiled and saved: circuits\\123\\transpiled_circuit_Q.qpy\n",
      "Transpiled and saved: circuits\\124\\transpiled_circuit_A.qpy\n"
     ]
    },
    {
     "name": "stdout",
     "output_type": "stream",
     "text": [
      "Transpiled and saved: circuits\\124\\transpiled_circuit_Q.qpy\n",
      "Transpiled and saved: circuits\\125\\transpiled_circuit_A.qpy\n"
     ]
    },
    {
     "name": "stdout",
     "output_type": "stream",
     "text": [
      "Transpiled and saved: circuits\\125\\transpiled_circuit_Q.qpy\n",
      "Transpiled and saved: circuits\\126\\transpiled_circuit_A.qpy\n"
     ]
    },
    {
     "name": "stdout",
     "output_type": "stream",
     "text": [
      "Transpiled and saved: circuits\\126\\transpiled_circuit_Q.qpy\n",
      "Transpiled and saved: circuits\\127\\transpiled_circuit_A.qpy\n"
     ]
    },
    {
     "name": "stdout",
     "output_type": "stream",
     "text": [
      "Transpiled and saved: circuits\\127\\transpiled_circuit_Q.qpy\n",
      "Transpiled and saved: circuits\\128\\transpiled_circuit_A.qpy\n"
     ]
    },
    {
     "name": "stdout",
     "output_type": "stream",
     "text": [
      "Transpiled and saved: circuits\\128\\transpiled_circuit_Q.qpy\n",
      "Transpiled and saved: circuits\\129\\transpiled_circuit_A.qpy\n"
     ]
    },
    {
     "name": "stdout",
     "output_type": "stream",
     "text": [
      "Transpiled and saved: circuits\\129\\transpiled_circuit_Q.qpy\n",
      "Transpiled and saved: circuits\\13\\transpiled_circuit_A.qpy\n"
     ]
    },
    {
     "name": "stdout",
     "output_type": "stream",
     "text": [
      "Transpiled and saved: circuits\\13\\transpiled_circuit_Q.qpy\n",
      "Transpiled and saved: circuits\\130\\transpiled_circuit_A.qpy\n"
     ]
    },
    {
     "name": "stdout",
     "output_type": "stream",
     "text": [
      "Transpiled and saved: circuits\\130\\transpiled_circuit_Q.qpy\n",
      "Transpiled and saved: circuits\\131\\transpiled_circuit_A.qpy\n"
     ]
    },
    {
     "name": "stdout",
     "output_type": "stream",
     "text": [
      "Transpiled and saved: circuits\\131\\transpiled_circuit_Q.qpy\n",
      "Transpiled and saved: circuits\\132\\transpiled_circuit_A.qpy\n"
     ]
    },
    {
     "name": "stdout",
     "output_type": "stream",
     "text": [
      "Transpiled and saved: circuits\\132\\transpiled_circuit_Q.qpy\n",
      "Transpiled and saved: circuits\\133\\transpiled_circuit_A.qpy\n"
     ]
    },
    {
     "name": "stdout",
     "output_type": "stream",
     "text": [
      "Transpiled and saved: circuits\\133\\transpiled_circuit_Q.qpy\n",
      "Transpiled and saved: circuits\\134\\transpiled_circuit_A.qpy\n"
     ]
    },
    {
     "name": "stdout",
     "output_type": "stream",
     "text": [
      "Transpiled and saved: circuits\\134\\transpiled_circuit_Q.qpy\n"
     ]
    },
    {
     "name": "stdout",
     "output_type": "stream",
     "text": [
      "Transpiled and saved: circuits\\135\\transpiled_circuit_A.qpy\n"
     ]
    },
    {
     "name": "stdout",
     "output_type": "stream",
     "text": [
      "Transpiled and saved: circuits\\135\\transpiled_circuit_Q.qpy\n",
      "Transpiled and saved: circuits\\136\\transpiled_circuit_A.qpy\n"
     ]
    },
    {
     "name": "stdout",
     "output_type": "stream",
     "text": [
      "Transpiled and saved: circuits\\136\\transpiled_circuit_Q.qpy\n",
      "Transpiled and saved: circuits\\137\\transpiled_circuit_A.qpy\n"
     ]
    },
    {
     "name": "stdout",
     "output_type": "stream",
     "text": [
      "Transpiled and saved: circuits\\137\\transpiled_circuit_Q.qpy\n",
      "Transpiled and saved: circuits\\138\\transpiled_circuit_A.qpy\n"
     ]
    },
    {
     "name": "stdout",
     "output_type": "stream",
     "text": [
      "Transpiled and saved: circuits\\138\\transpiled_circuit_Q.qpy\n",
      "Transpiled and saved: circuits\\139\\transpiled_circuit_A.qpy\n"
     ]
    },
    {
     "name": "stdout",
     "output_type": "stream",
     "text": [
      "Transpiled and saved: circuits\\139\\transpiled_circuit_Q.qpy\n",
      "Transpiled and saved: circuits\\14\\transpiled_circuit_A.qpy\n"
     ]
    },
    {
     "name": "stdout",
     "output_type": "stream",
     "text": [
      "Transpiled and saved: circuits\\14\\transpiled_circuit_Q.qpy\n",
      "Transpiled and saved: circuits\\140\\transpiled_circuit_A.qpy\n"
     ]
    },
    {
     "name": "stdout",
     "output_type": "stream",
     "text": [
      "Transpiled and saved: circuits\\140\\transpiled_circuit_Q.qpy\n",
      "Transpiled and saved: circuits\\141\\transpiled_circuit_A.qpy\n"
     ]
    },
    {
     "name": "stdout",
     "output_type": "stream",
     "text": [
      "Transpiled and saved: circuits\\141\\transpiled_circuit_Q.qpy\n",
      "Transpiled and saved: circuits\\142\\transpiled_circuit_A.qpy\n"
     ]
    },
    {
     "name": "stdout",
     "output_type": "stream",
     "text": [
      "Transpiled and saved: circuits\\142\\transpiled_circuit_Q.qpy\n",
      "Transpiled and saved: circuits\\143\\transpiled_circuit_A.qpy\n"
     ]
    },
    {
     "name": "stdout",
     "output_type": "stream",
     "text": [
      "Transpiled and saved: circuits\\143\\transpiled_circuit_Q.qpy\n",
      "Transpiled and saved: circuits\\144\\transpiled_circuit_A.qpy\n"
     ]
    },
    {
     "name": "stdout",
     "output_type": "stream",
     "text": [
      "Transpiled and saved: circuits\\144\\transpiled_circuit_Q.qpy\n",
      "Transpiled and saved: circuits\\145\\transpiled_circuit_A.qpy\n"
     ]
    },
    {
     "name": "stdout",
     "output_type": "stream",
     "text": [
      "Transpiled and saved: circuits\\145\\transpiled_circuit_Q.qpy\n",
      "Transpiled and saved: circuits\\146\\transpiled_circuit_A.qpy\n"
     ]
    },
    {
     "name": "stdout",
     "output_type": "stream",
     "text": [
      "Transpiled and saved: circuits\\146\\transpiled_circuit_Q.qpy\n",
      "Transpiled and saved: circuits\\147\\transpiled_circuit_A.qpy\n"
     ]
    },
    {
     "name": "stdout",
     "output_type": "stream",
     "text": [
      "Transpiled and saved: circuits\\147\\transpiled_circuit_Q.qpy\n",
      "Transpiled and saved: circuits\\148\\transpiled_circuit_A.qpy\n"
     ]
    },
    {
     "name": "stdout",
     "output_type": "stream",
     "text": [
      "Transpiled and saved: circuits\\148\\transpiled_circuit_Q.qpy\n",
      "Transpiled and saved: circuits\\149\\transpiled_circuit_A.qpy\n"
     ]
    },
    {
     "name": "stdout",
     "output_type": "stream",
     "text": [
      "Transpiled and saved: circuits\\149\\transpiled_circuit_Q.qpy\n",
      "Transpiled and saved: circuits\\15\\transpiled_circuit_A.qpy\n"
     ]
    },
    {
     "name": "stdout",
     "output_type": "stream",
     "text": [
      "Transpiled and saved: circuits\\15\\transpiled_circuit_Q.qpy\n",
      "Transpiled and saved: circuits\\150\\transpiled_circuit_A.qpy\n"
     ]
    },
    {
     "name": "stdout",
     "output_type": "stream",
     "text": [
      "Transpiled and saved: circuits\\150\\transpiled_circuit_Q.qpy\n",
      "Transpiled and saved: circuits\\151\\transpiled_circuit_A.qpy\n"
     ]
    },
    {
     "name": "stdout",
     "output_type": "stream",
     "text": [
      "Transpiled and saved: circuits\\151\\transpiled_circuit_Q.qpy\n",
      "Transpiled and saved: circuits\\152\\transpiled_circuit_A.qpy\n"
     ]
    },
    {
     "name": "stdout",
     "output_type": "stream",
     "text": [
      "Transpiled and saved: circuits\\152\\transpiled_circuit_Q.qpy\n",
      "Transpiled and saved: circuits\\153\\transpiled_circuit_A.qpy\n"
     ]
    },
    {
     "name": "stdout",
     "output_type": "stream",
     "text": [
      "Transpiled and saved: circuits\\153\\transpiled_circuit_Q.qpy\n",
      "Transpiled and saved: circuits\\154\\transpiled_circuit_A.qpy\n"
     ]
    },
    {
     "name": "stdout",
     "output_type": "stream",
     "text": [
      "Transpiled and saved: circuits\\154\\transpiled_circuit_Q.qpy\n",
      "Transpiled and saved: circuits\\155\\transpiled_circuit_A.qpy\n"
     ]
    },
    {
     "name": "stdout",
     "output_type": "stream",
     "text": [
      "Transpiled and saved: circuits\\155\\transpiled_circuit_Q.qpy\n"
     ]
    },
    {
     "name": "stdout",
     "output_type": "stream",
     "text": [
      "Transpiled and saved: circuits\\156\\transpiled_circuit_A.qpy\n"
     ]
    },
    {
     "name": "stdout",
     "output_type": "stream",
     "text": [
      "Transpiled and saved: circuits\\156\\transpiled_circuit_Q.qpy\n",
      "Transpiled and saved: circuits\\157\\transpiled_circuit_A.qpy\n"
     ]
    },
    {
     "name": "stdout",
     "output_type": "stream",
     "text": [
      "Transpiled and saved: circuits\\157\\transpiled_circuit_Q.qpy\n",
      "Transpiled and saved: circuits\\158\\transpiled_circuit_A.qpy\n"
     ]
    },
    {
     "name": "stdout",
     "output_type": "stream",
     "text": [
      "Transpiled and saved: circuits\\158\\transpiled_circuit_Q.qpy\n",
      "Transpiled and saved: circuits\\159\\transpiled_circuit_A.qpy\n"
     ]
    },
    {
     "name": "stdout",
     "output_type": "stream",
     "text": [
      "Transpiled and saved: circuits\\159\\transpiled_circuit_Q.qpy\n",
      "Transpiled and saved: circuits\\16\\transpiled_circuit_A.qpy\n"
     ]
    },
    {
     "name": "stdout",
     "output_type": "stream",
     "text": [
      "Transpiled and saved: circuits\\16\\transpiled_circuit_Q.qpy\n",
      "Transpiled and saved: circuits\\160\\transpiled_circuit_A.qpy\n"
     ]
    },
    {
     "name": "stdout",
     "output_type": "stream",
     "text": [
      "Transpiled and saved: circuits\\160\\transpiled_circuit_Q.qpy\n",
      "Transpiled and saved: circuits\\161\\transpiled_circuit_A.qpy\n"
     ]
    },
    {
     "name": "stdout",
     "output_type": "stream",
     "text": [
      "Transpiled and saved: circuits\\161\\transpiled_circuit_Q.qpy\n",
      "Transpiled and saved: circuits\\162\\transpiled_circuit_A.qpy\n"
     ]
    },
    {
     "name": "stdout",
     "output_type": "stream",
     "text": [
      "Transpiled and saved: circuits\\162\\transpiled_circuit_Q.qpy\n",
      "Transpiled and saved: circuits\\163\\transpiled_circuit_A.qpy\n"
     ]
    },
    {
     "name": "stdout",
     "output_type": "stream",
     "text": [
      "Transpiled and saved: circuits\\163\\transpiled_circuit_Q.qpy\n",
      "Transpiled and saved: circuits\\164\\transpiled_circuit_A.qpy\n"
     ]
    },
    {
     "name": "stdout",
     "output_type": "stream",
     "text": [
      "Transpiled and saved: circuits\\164\\transpiled_circuit_Q.qpy\n",
      "Transpiled and saved: circuits\\165\\transpiled_circuit_A.qpy\n"
     ]
    },
    {
     "name": "stdout",
     "output_type": "stream",
     "text": [
      "Transpiled and saved: circuits\\165\\transpiled_circuit_Q.qpy\n",
      "Transpiled and saved: circuits\\166\\transpiled_circuit_A.qpy\n"
     ]
    },
    {
     "name": "stdout",
     "output_type": "stream",
     "text": [
      "Transpiled and saved: circuits\\166\\transpiled_circuit_Q.qpy\n",
      "Transpiled and saved: circuits\\167\\transpiled_circuit_A.qpy\n"
     ]
    },
    {
     "name": "stdout",
     "output_type": "stream",
     "text": [
      "Transpiled and saved: circuits\\167\\transpiled_circuit_Q.qpy\n",
      "Transpiled and saved: circuits\\168\\transpiled_circuit_A.qpy\n"
     ]
    },
    {
     "name": "stdout",
     "output_type": "stream",
     "text": [
      "Transpiled and saved: circuits\\168\\transpiled_circuit_Q.qpy\n",
      "Transpiled and saved: circuits\\169\\transpiled_circuit_A.qpy\n"
     ]
    },
    {
     "name": "stdout",
     "output_type": "stream",
     "text": [
      "Transpiled and saved: circuits\\169\\transpiled_circuit_Q.qpy\n",
      "Transpiled and saved: circuits\\17\\transpiled_circuit_A.qpy\n"
     ]
    },
    {
     "name": "stdout",
     "output_type": "stream",
     "text": [
      "Transpiled and saved: circuits\\17\\transpiled_circuit_Q.qpy\n",
      "Transpiled and saved: circuits\\170\\transpiled_circuit_A.qpy\n"
     ]
    },
    {
     "name": "stdout",
     "output_type": "stream",
     "text": [
      "Transpiled and saved: circuits\\170\\transpiled_circuit_Q.qpy\n",
      "Transpiled and saved: circuits\\171\\transpiled_circuit_A.qpy\n"
     ]
    },
    {
     "name": "stdout",
     "output_type": "stream",
     "text": [
      "Transpiled and saved: circuits\\171\\transpiled_circuit_Q.qpy\n",
      "Transpiled and saved: circuits\\172\\transpiled_circuit_A.qpy\n"
     ]
    },
    {
     "name": "stdout",
     "output_type": "stream",
     "text": [
      "Transpiled and saved: circuits\\172\\transpiled_circuit_Q.qpy\n",
      "Transpiled and saved: circuits\\173\\transpiled_circuit_A.qpy\n"
     ]
    },
    {
     "name": "stdout",
     "output_type": "stream",
     "text": [
      "Transpiled and saved: circuits\\173\\transpiled_circuit_Q.qpy\n",
      "Transpiled and saved: circuits\\174\\transpiled_circuit_A.qpy\n"
     ]
    },
    {
     "name": "stdout",
     "output_type": "stream",
     "text": [
      "Transpiled and saved: circuits\\174\\transpiled_circuit_Q.qpy\n",
      "Transpiled and saved: circuits\\175\\transpiled_circuit_A.qpy\n"
     ]
    },
    {
     "name": "stdout",
     "output_type": "stream",
     "text": [
      "Transpiled and saved: circuits\\175\\transpiled_circuit_Q.qpy\n",
      "Transpiled and saved: circuits\\176\\transpiled_circuit_A.qpy\n"
     ]
    },
    {
     "name": "stdout",
     "output_type": "stream",
     "text": [
      "Transpiled and saved: circuits\\176\\transpiled_circuit_Q.qpy\n"
     ]
    },
    {
     "name": "stdout",
     "output_type": "stream",
     "text": [
      "Transpiled and saved: circuits\\177\\transpiled_circuit_A.qpy\n"
     ]
    },
    {
     "name": "stdout",
     "output_type": "stream",
     "text": [
      "Transpiled and saved: circuits\\177\\transpiled_circuit_Q.qpy\n",
      "Transpiled and saved: circuits\\178\\transpiled_circuit_A.qpy\n"
     ]
    },
    {
     "name": "stdout",
     "output_type": "stream",
     "text": [
      "Transpiled and saved: circuits\\178\\transpiled_circuit_Q.qpy\n",
      "Transpiled and saved: circuits\\179\\transpiled_circuit_A.qpy\n"
     ]
    },
    {
     "name": "stdout",
     "output_type": "stream",
     "text": [
      "Transpiled and saved: circuits\\179\\transpiled_circuit_Q.qpy\n",
      "Transpiled and saved: circuits\\18\\transpiled_circuit_A.qpy\n"
     ]
    },
    {
     "name": "stdout",
     "output_type": "stream",
     "text": [
      "Transpiled and saved: circuits\\18\\transpiled_circuit_Q.qpy\n",
      "Transpiled and saved: circuits\\180\\transpiled_circuit_A.qpy\n"
     ]
    },
    {
     "name": "stdout",
     "output_type": "stream",
     "text": [
      "Transpiled and saved: circuits\\180\\transpiled_circuit_Q.qpy\n",
      "Transpiled and saved: circuits\\181\\transpiled_circuit_A.qpy\n"
     ]
    },
    {
     "name": "stdout",
     "output_type": "stream",
     "text": [
      "Transpiled and saved: circuits\\181\\transpiled_circuit_Q.qpy\n",
      "Transpiled and saved: circuits\\182\\transpiled_circuit_A.qpy\n"
     ]
    },
    {
     "name": "stdout",
     "output_type": "stream",
     "text": [
      "Transpiled and saved: circuits\\182\\transpiled_circuit_Q.qpy\n",
      "Transpiled and saved: circuits\\183\\transpiled_circuit_A.qpy\n"
     ]
    },
    {
     "name": "stdout",
     "output_type": "stream",
     "text": [
      "Transpiled and saved: circuits\\183\\transpiled_circuit_Q.qpy\n",
      "Transpiled and saved: circuits\\184\\transpiled_circuit_A.qpy\n"
     ]
    },
    {
     "name": "stdout",
     "output_type": "stream",
     "text": [
      "Transpiled and saved: circuits\\184\\transpiled_circuit_Q.qpy\n",
      "Transpiled and saved: circuits\\185\\transpiled_circuit_A.qpy\n"
     ]
    },
    {
     "name": "stdout",
     "output_type": "stream",
     "text": [
      "Transpiled and saved: circuits\\185\\transpiled_circuit_Q.qpy\n",
      "Transpiled and saved: circuits\\186\\transpiled_circuit_A.qpy\n"
     ]
    },
    {
     "name": "stdout",
     "output_type": "stream",
     "text": [
      "Transpiled and saved: circuits\\186\\transpiled_circuit_Q.qpy\n",
      "Transpiled and saved: circuits\\187\\transpiled_circuit_A.qpy\n"
     ]
    },
    {
     "name": "stdout",
     "output_type": "stream",
     "text": [
      "Transpiled and saved: circuits\\187\\transpiled_circuit_Q.qpy\n",
      "Transpiled and saved: circuits\\188\\transpiled_circuit_A.qpy\n"
     ]
    },
    {
     "name": "stdout",
     "output_type": "stream",
     "text": [
      "Transpiled and saved: circuits\\188\\transpiled_circuit_Q.qpy\n",
      "Transpiled and saved: circuits\\189\\transpiled_circuit_A.qpy\n"
     ]
    },
    {
     "name": "stdout",
     "output_type": "stream",
     "text": [
      "Transpiled and saved: circuits\\189\\transpiled_circuit_Q.qpy\n",
      "Transpiled and saved: circuits\\19\\transpiled_circuit_A.qpy\n"
     ]
    },
    {
     "name": "stdout",
     "output_type": "stream",
     "text": [
      "Transpiled and saved: circuits\\19\\transpiled_circuit_Q.qpy\n",
      "Transpiled and saved: circuits\\190\\transpiled_circuit_A.qpy\n"
     ]
    },
    {
     "name": "stdout",
     "output_type": "stream",
     "text": [
      "Transpiled and saved: circuits\\190\\transpiled_circuit_Q.qpy\n",
      "Transpiled and saved: circuits\\191\\transpiled_circuit_A.qpy\n"
     ]
    },
    {
     "name": "stdout",
     "output_type": "stream",
     "text": [
      "Transpiled and saved: circuits\\191\\transpiled_circuit_Q.qpy\n",
      "Transpiled and saved: circuits\\192\\transpiled_circuit_A.qpy\n"
     ]
    },
    {
     "name": "stdout",
     "output_type": "stream",
     "text": [
      "Transpiled and saved: circuits\\192\\transpiled_circuit_Q.qpy\n",
      "Transpiled and saved: circuits\\193\\transpiled_circuit_A.qpy\n"
     ]
    },
    {
     "name": "stdout",
     "output_type": "stream",
     "text": [
      "Transpiled and saved: circuits\\193\\transpiled_circuit_Q.qpy\n",
      "Transpiled and saved: circuits\\194\\transpiled_circuit_A.qpy\n"
     ]
    },
    {
     "name": "stdout",
     "output_type": "stream",
     "text": [
      "Transpiled and saved: circuits\\194\\transpiled_circuit_Q.qpy\n",
      "Transpiled and saved: circuits\\195\\transpiled_circuit_A.qpy\n"
     ]
    },
    {
     "name": "stdout",
     "output_type": "stream",
     "text": [
      "Transpiled and saved: circuits\\195\\transpiled_circuit_Q.qpy\n",
      "Transpiled and saved: circuits\\196\\transpiled_circuit_A.qpy\n"
     ]
    },
    {
     "name": "stdout",
     "output_type": "stream",
     "text": [
      "Transpiled and saved: circuits\\196\\transpiled_circuit_Q.qpy\n",
      "Transpiled and saved: circuits\\197\\transpiled_circuit_A.qpy\n"
     ]
    },
    {
     "name": "stdout",
     "output_type": "stream",
     "text": [
      "Transpiled and saved: circuits\\197\\transpiled_circuit_Q.qpy\n",
      "Transpiled and saved: circuits\\198\\transpiled_circuit_A.qpy\n"
     ]
    },
    {
     "name": "stdout",
     "output_type": "stream",
     "text": [
      "Transpiled and saved: circuits\\198\\transpiled_circuit_Q.qpy\n",
      "Transpiled and saved: circuits\\199\\transpiled_circuit_A.qpy\n"
     ]
    },
    {
     "name": "stdout",
     "output_type": "stream",
     "text": [
      "Transpiled and saved: circuits\\199\\transpiled_circuit_Q.qpy\n",
      "Transpiled and saved: circuits\\2\\transpiled_circuit_A.qpy\n"
     ]
    },
    {
     "name": "stdout",
     "output_type": "stream",
     "text": [
      "Transpiled and saved: circuits\\2\\transpiled_circuit_Q.qpy\n",
      "Transpiled and saved: circuits\\20\\transpiled_circuit_A.qpy\n"
     ]
    },
    {
     "name": "stdout",
     "output_type": "stream",
     "text": [
      "Transpiled and saved: circuits\\20\\transpiled_circuit_Q.qpy\n",
      "Transpiled and saved: circuits\\200\\transpiled_circuit_A.qpy\n"
     ]
    },
    {
     "name": "stdout",
     "output_type": "stream",
     "text": [
      "Transpiled and saved: circuits\\200\\transpiled_circuit_Q.qpy\n",
      "Transpiled and saved: circuits\\201\\transpiled_circuit_A.qpy\n"
     ]
    },
    {
     "name": "stdout",
     "output_type": "stream",
     "text": [
      "Transpiled and saved: circuits\\201\\transpiled_circuit_Q.qpy\n",
      "Transpiled and saved: circuits\\202\\transpiled_circuit_A.qpy\n"
     ]
    },
    {
     "name": "stdout",
     "output_type": "stream",
     "text": [
      "Transpiled and saved: circuits\\202\\transpiled_circuit_Q.qpy\n",
      "Transpiled and saved: circuits\\203\\transpiled_circuit_A.qpy\n"
     ]
    },
    {
     "name": "stdout",
     "output_type": "stream",
     "text": [
      "Transpiled and saved: circuits\\203\\transpiled_circuit_Q.qpy\n",
      "Transpiled and saved: circuits\\204\\transpiled_circuit_A.qpy\n"
     ]
    },
    {
     "name": "stdout",
     "output_type": "stream",
     "text": [
      "Transpiled and saved: circuits\\204\\transpiled_circuit_Q.qpy\n",
      "Transpiled and saved: circuits\\205\\transpiled_circuit_A.qpy\n"
     ]
    },
    {
     "name": "stdout",
     "output_type": "stream",
     "text": [
      "Transpiled and saved: circuits\\205\\transpiled_circuit_Q.qpy\n",
      "Transpiled and saved: circuits\\206\\transpiled_circuit_A.qpy\n"
     ]
    },
    {
     "name": "stdout",
     "output_type": "stream",
     "text": [
      "Transpiled and saved: circuits\\206\\transpiled_circuit_Q.qpy\n",
      "Transpiled and saved: circuits\\207\\transpiled_circuit_A.qpy\n"
     ]
    },
    {
     "name": "stdout",
     "output_type": "stream",
     "text": [
      "Transpiled and saved: circuits\\207\\transpiled_circuit_Q.qpy\n",
      "Transpiled and saved: circuits\\208\\transpiled_circuit_A.qpy\n"
     ]
    },
    {
     "name": "stdout",
     "output_type": "stream",
     "text": [
      "Transpiled and saved: circuits\\208\\transpiled_circuit_Q.qpy\n",
      "Transpiled and saved: circuits\\209\\transpiled_circuit_A.qpy\n"
     ]
    },
    {
     "name": "stdout",
     "output_type": "stream",
     "text": [
      "Transpiled and saved: circuits\\209\\transpiled_circuit_Q.qpy\n",
      "Transpiled and saved: circuits\\21\\transpiled_circuit_A.qpy\n"
     ]
    },
    {
     "name": "stdout",
     "output_type": "stream",
     "text": [
      "Transpiled and saved: circuits\\21\\transpiled_circuit_Q.qpy\n",
      "Transpiled and saved: circuits\\210\\transpiled_circuit_A.qpy\n"
     ]
    },
    {
     "name": "stdout",
     "output_type": "stream",
     "text": [
      "Transpiled and saved: circuits\\210\\transpiled_circuit_Q.qpy\n",
      "Transpiled and saved: circuits\\211\\transpiled_circuit_A.qpy\n"
     ]
    },
    {
     "name": "stdout",
     "output_type": "stream",
     "text": [
      "Transpiled and saved: circuits\\211\\transpiled_circuit_Q.qpy\n",
      "Transpiled and saved: circuits\\212\\transpiled_circuit_A.qpy\n"
     ]
    },
    {
     "name": "stdout",
     "output_type": "stream",
     "text": [
      "Transpiled and saved: circuits\\212\\transpiled_circuit_Q.qpy\n",
      "Transpiled and saved: circuits\\213\\transpiled_circuit_A.qpy\n"
     ]
    },
    {
     "name": "stdout",
     "output_type": "stream",
     "text": [
      "Transpiled and saved: circuits\\213\\transpiled_circuit_Q.qpy\n",
      "Transpiled and saved: circuits\\214\\transpiled_circuit_A.qpy\n"
     ]
    },
    {
     "name": "stdout",
     "output_type": "stream",
     "text": [
      "Transpiled and saved: circuits\\214\\transpiled_circuit_Q.qpy\n",
      "Transpiled and saved: circuits\\215\\transpiled_circuit_A.qpy\n"
     ]
    },
    {
     "name": "stdout",
     "output_type": "stream",
     "text": [
      "Transpiled and saved: circuits\\215\\transpiled_circuit_Q.qpy\n",
      "Transpiled and saved: circuits\\216\\transpiled_circuit_A.qpy\n"
     ]
    },
    {
     "name": "stdout",
     "output_type": "stream",
     "text": [
      "Transpiled and saved: circuits\\216\\transpiled_circuit_Q.qpy\n",
      "Transpiled and saved: circuits\\217\\transpiled_circuit_A.qpy\n"
     ]
    },
    {
     "name": "stdout",
     "output_type": "stream",
     "text": [
      "Transpiled and saved: circuits\\217\\transpiled_circuit_Q.qpy\n",
      "Transpiled and saved: circuits\\218\\transpiled_circuit_A.qpy\n"
     ]
    },
    {
     "name": "stdout",
     "output_type": "stream",
     "text": [
      "Transpiled and saved: circuits\\218\\transpiled_circuit_Q.qpy\n",
      "Transpiled and saved: circuits\\219\\transpiled_circuit_A.qpy\n"
     ]
    },
    {
     "name": "stdout",
     "output_type": "stream",
     "text": [
      "Transpiled and saved: circuits\\219\\transpiled_circuit_Q.qpy\n",
      "Transpiled and saved: circuits\\22\\transpiled_circuit_A.qpy\n"
     ]
    },
    {
     "name": "stdout",
     "output_type": "stream",
     "text": [
      "Transpiled and saved: circuits\\22\\transpiled_circuit_Q.qpy\n",
      "Transpiled and saved: circuits\\220\\transpiled_circuit_A.qpy\n"
     ]
    },
    {
     "name": "stdout",
     "output_type": "stream",
     "text": [
      "Transpiled and saved: circuits\\220\\transpiled_circuit_Q.qpy\n",
      "Transpiled and saved: circuits\\221\\transpiled_circuit_A.qpy\n"
     ]
    },
    {
     "name": "stdout",
     "output_type": "stream",
     "text": [
      "Transpiled and saved: circuits\\221\\transpiled_circuit_Q.qpy\n",
      "Transpiled and saved: circuits\\222\\transpiled_circuit_A.qpy\n"
     ]
    },
    {
     "name": "stdout",
     "output_type": "stream",
     "text": [
      "Transpiled and saved: circuits\\222\\transpiled_circuit_Q.qpy\n",
      "Transpiled and saved: circuits\\223\\transpiled_circuit_A.qpy\n"
     ]
    },
    {
     "name": "stdout",
     "output_type": "stream",
     "text": [
      "Transpiled and saved: circuits\\223\\transpiled_circuit_Q.qpy\n",
      "Transpiled and saved: circuits\\224\\transpiled_circuit_A.qpy\n"
     ]
    },
    {
     "name": "stdout",
     "output_type": "stream",
     "text": [
      "Transpiled and saved: circuits\\224\\transpiled_circuit_Q.qpy\n",
      "Transpiled and saved: circuits\\225\\transpiled_circuit_A.qpy\n"
     ]
    },
    {
     "name": "stdout",
     "output_type": "stream",
     "text": [
      "Transpiled and saved: circuits\\225\\transpiled_circuit_Q.qpy\n",
      "Transpiled and saved: circuits\\226\\transpiled_circuit_A.qpy\n"
     ]
    },
    {
     "name": "stdout",
     "output_type": "stream",
     "text": [
      "Transpiled and saved: circuits\\226\\transpiled_circuit_Q.qpy\n",
      "Transpiled and saved: circuits\\227\\transpiled_circuit_A.qpy\n"
     ]
    },
    {
     "name": "stdout",
     "output_type": "stream",
     "text": [
      "Transpiled and saved: circuits\\227\\transpiled_circuit_Q.qpy\n",
      "Transpiled and saved: circuits\\228\\transpiled_circuit_A.qpy\n"
     ]
    },
    {
     "name": "stdout",
     "output_type": "stream",
     "text": [
      "Transpiled and saved: circuits\\228\\transpiled_circuit_Q.qpy\n",
      "Transpiled and saved: circuits\\229\\transpiled_circuit_A.qpy\n"
     ]
    },
    {
     "name": "stdout",
     "output_type": "stream",
     "text": [
      "Transpiled and saved: circuits\\229\\transpiled_circuit_Q.qpy\n",
      "Transpiled and saved: circuits\\23\\transpiled_circuit_A.qpy\n"
     ]
    },
    {
     "name": "stdout",
     "output_type": "stream",
     "text": [
      "Transpiled and saved: circuits\\23\\transpiled_circuit_Q.qpy\n",
      "Transpiled and saved: circuits\\230\\transpiled_circuit_A.qpy\n"
     ]
    },
    {
     "name": "stdout",
     "output_type": "stream",
     "text": [
      "Transpiled and saved: circuits\\230\\transpiled_circuit_Q.qpy\n",
      "Transpiled and saved: circuits\\24\\transpiled_circuit_A.qpy\n"
     ]
    },
    {
     "name": "stdout",
     "output_type": "stream",
     "text": [
      "Transpiled and saved: circuits\\24\\transpiled_circuit_Q.qpy\n",
      "Transpiled and saved: circuits\\25\\transpiled_circuit_A.qpy\n"
     ]
    },
    {
     "name": "stdout",
     "output_type": "stream",
     "text": [
      "Transpiled and saved: circuits\\25\\transpiled_circuit_Q.qpy\n",
      "Transpiled and saved: circuits\\26\\transpiled_circuit_A.qpy\n"
     ]
    },
    {
     "name": "stdout",
     "output_type": "stream",
     "text": [
      "Transpiled and saved: circuits\\26\\transpiled_circuit_Q.qpy\n",
      "Transpiled and saved: circuits\\27\\transpiled_circuit_A.qpy\n"
     ]
    },
    {
     "name": "stdout",
     "output_type": "stream",
     "text": [
      "Transpiled and saved: circuits\\27\\transpiled_circuit_Q.qpy\n",
      "Transpiled and saved: circuits\\28\\transpiled_circuit_A.qpy\n"
     ]
    },
    {
     "name": "stdout",
     "output_type": "stream",
     "text": [
      "Transpiled and saved: circuits\\28\\transpiled_circuit_Q.qpy\n",
      "Transpiled and saved: circuits\\29\\transpiled_circuit_A.qpy\n"
     ]
    },
    {
     "name": "stdout",
     "output_type": "stream",
     "text": [
      "Transpiled and saved: circuits\\29\\transpiled_circuit_Q.qpy\n",
      "Transpiled and saved: circuits\\3\\transpiled_circuit_A.qpy\n"
     ]
    },
    {
     "name": "stdout",
     "output_type": "stream",
     "text": [
      "Transpiled and saved: circuits\\3\\transpiled_circuit_Q.qpy\n",
      "Transpiled and saved: circuits\\30\\transpiled_circuit_A.qpy\n"
     ]
    },
    {
     "name": "stdout",
     "output_type": "stream",
     "text": [
      "Transpiled and saved: circuits\\30\\transpiled_circuit_Q.qpy\n",
      "Transpiled and saved: circuits\\31\\transpiled_circuit_A.qpy\n"
     ]
    },
    {
     "name": "stdout",
     "output_type": "stream",
     "text": [
      "Transpiled and saved: circuits\\31\\transpiled_circuit_Q.qpy\n",
      "Transpiled and saved: circuits\\32\\transpiled_circuit_A.qpy\n"
     ]
    },
    {
     "name": "stdout",
     "output_type": "stream",
     "text": [
      "Transpiled and saved: circuits\\32\\transpiled_circuit_Q.qpy\n",
      "Transpiled and saved: circuits\\33\\transpiled_circuit_A.qpy\n"
     ]
    },
    {
     "name": "stdout",
     "output_type": "stream",
     "text": [
      "Transpiled and saved: circuits\\33\\transpiled_circuit_Q.qpy\n",
      "Transpiled and saved: circuits\\34\\transpiled_circuit_A.qpy\n"
     ]
    },
    {
     "name": "stdout",
     "output_type": "stream",
     "text": [
      "Transpiled and saved: circuits\\34\\transpiled_circuit_Q.qpy\n",
      "Transpiled and saved: circuits\\35\\transpiled_circuit_A.qpy\n"
     ]
    },
    {
     "name": "stdout",
     "output_type": "stream",
     "text": [
      "Transpiled and saved: circuits\\35\\transpiled_circuit_Q.qpy\n",
      "Transpiled and saved: circuits\\36\\transpiled_circuit_A.qpy\n"
     ]
    },
    {
     "name": "stdout",
     "output_type": "stream",
     "text": [
      "Transpiled and saved: circuits\\36\\transpiled_circuit_Q.qpy\n",
      "Transpiled and saved: circuits\\37\\transpiled_circuit_A.qpy\n"
     ]
    },
    {
     "name": "stdout",
     "output_type": "stream",
     "text": [
      "Transpiled and saved: circuits\\37\\transpiled_circuit_Q.qpy\n",
      "Transpiled and saved: circuits\\38\\transpiled_circuit_A.qpy\n"
     ]
    },
    {
     "name": "stdout",
     "output_type": "stream",
     "text": [
      "Transpiled and saved: circuits\\38\\transpiled_circuit_Q.qpy\n",
      "Transpiled and saved: circuits\\39\\transpiled_circuit_A.qpy\n"
     ]
    },
    {
     "name": "stdout",
     "output_type": "stream",
     "text": [
      "Transpiled and saved: circuits\\39\\transpiled_circuit_Q.qpy\n",
      "Transpiled and saved: circuits\\4\\transpiled_circuit_A.qpy\n"
     ]
    },
    {
     "name": "stdout",
     "output_type": "stream",
     "text": [
      "Transpiled and saved: circuits\\4\\transpiled_circuit_Q.qpy\n",
      "Transpiled and saved: circuits\\40\\transpiled_circuit_A.qpy\n"
     ]
    },
    {
     "name": "stdout",
     "output_type": "stream",
     "text": [
      "Transpiled and saved: circuits\\40\\transpiled_circuit_Q.qpy\n",
      "Transpiled and saved: circuits\\41\\transpiled_circuit_A.qpy\n"
     ]
    },
    {
     "name": "stdout",
     "output_type": "stream",
     "text": [
      "Transpiled and saved: circuits\\41\\transpiled_circuit_Q.qpy\n",
      "Transpiled and saved: circuits\\42\\transpiled_circuit_A.qpy\n"
     ]
    },
    {
     "name": "stdout",
     "output_type": "stream",
     "text": [
      "Transpiled and saved: circuits\\42\\transpiled_circuit_Q.qpy\n",
      "Transpiled and saved: circuits\\43\\transpiled_circuit_A.qpy\n"
     ]
    },
    {
     "name": "stdout",
     "output_type": "stream",
     "text": [
      "Transpiled and saved: circuits\\43\\transpiled_circuit_Q.qpy\n",
      "Transpiled and saved: circuits\\44\\transpiled_circuit_A.qpy\n"
     ]
    },
    {
     "name": "stdout",
     "output_type": "stream",
     "text": [
      "Transpiled and saved: circuits\\44\\transpiled_circuit_Q.qpy\n",
      "Transpiled and saved: circuits\\45\\transpiled_circuit_A.qpy\n"
     ]
    },
    {
     "name": "stdout",
     "output_type": "stream",
     "text": [
      "Transpiled and saved: circuits\\45\\transpiled_circuit_Q.qpy\n",
      "Transpiled and saved: circuits\\46\\transpiled_circuit_A.qpy\n"
     ]
    },
    {
     "name": "stdout",
     "output_type": "stream",
     "text": [
      "Transpiled and saved: circuits\\46\\transpiled_circuit_Q.qpy\n",
      "Transpiled and saved: circuits\\47\\transpiled_circuit_A.qpy\n"
     ]
    },
    {
     "name": "stdout",
     "output_type": "stream",
     "text": [
      "Transpiled and saved: circuits\\47\\transpiled_circuit_Q.qpy\n",
      "Transpiled and saved: circuits\\48\\transpiled_circuit_A.qpy\n"
     ]
    },
    {
     "name": "stdout",
     "output_type": "stream",
     "text": [
      "Transpiled and saved: circuits\\48\\transpiled_circuit_Q.qpy\n",
      "Transpiled and saved: circuits\\49\\transpiled_circuit_A.qpy\n"
     ]
    },
    {
     "name": "stdout",
     "output_type": "stream",
     "text": [
      "Transpiled and saved: circuits\\49\\transpiled_circuit_Q.qpy\n",
      "Transpiled and saved: circuits\\5\\transpiled_circuit_A.qpy\n"
     ]
    },
    {
     "name": "stdout",
     "output_type": "stream",
     "text": [
      "Transpiled and saved: circuits\\5\\transpiled_circuit_Q.qpy\n",
      "Transpiled and saved: circuits\\50\\transpiled_circuit_A.qpy\n"
     ]
    },
    {
     "name": "stdout",
     "output_type": "stream",
     "text": [
      "Transpiled and saved: circuits\\50\\transpiled_circuit_Q.qpy\n",
      "Transpiled and saved: circuits\\51\\transpiled_circuit_A.qpy\n"
     ]
    },
    {
     "name": "stdout",
     "output_type": "stream",
     "text": [
      "Transpiled and saved: circuits\\51\\transpiled_circuit_Q.qpy\n",
      "Transpiled and saved: circuits\\52\\transpiled_circuit_A.qpy\n"
     ]
    },
    {
     "name": "stdout",
     "output_type": "stream",
     "text": [
      "Transpiled and saved: circuits\\52\\transpiled_circuit_Q.qpy\n",
      "Transpiled and saved: circuits\\53\\transpiled_circuit_A.qpy\n"
     ]
    },
    {
     "name": "stdout",
     "output_type": "stream",
     "text": [
      "Transpiled and saved: circuits\\53\\transpiled_circuit_Q.qpy\n",
      "Transpiled and saved: circuits\\54\\transpiled_circuit_A.qpy\n"
     ]
    },
    {
     "name": "stdout",
     "output_type": "stream",
     "text": [
      "Transpiled and saved: circuits\\54\\transpiled_circuit_Q.qpy\n",
      "Transpiled and saved: circuits\\55\\transpiled_circuit_A.qpy\n"
     ]
    },
    {
     "name": "stdout",
     "output_type": "stream",
     "text": [
      "Transpiled and saved: circuits\\55\\transpiled_circuit_Q.qpy\n",
      "Transpiled and saved: circuits\\56\\transpiled_circuit_A.qpy\n"
     ]
    },
    {
     "name": "stdout",
     "output_type": "stream",
     "text": [
      "Transpiled and saved: circuits\\56\\transpiled_circuit_Q.qpy\n",
      "Transpiled and saved: circuits\\57\\transpiled_circuit_A.qpy\n"
     ]
    },
    {
     "name": "stdout",
     "output_type": "stream",
     "text": [
      "Transpiled and saved: circuits\\57\\transpiled_circuit_Q.qpy\n",
      "Transpiled and saved: circuits\\58\\transpiled_circuit_A.qpy\n"
     ]
    },
    {
     "name": "stdout",
     "output_type": "stream",
     "text": [
      "Transpiled and saved: circuits\\58\\transpiled_circuit_Q.qpy\n",
      "Transpiled and saved: circuits\\59\\transpiled_circuit_A.qpy\n"
     ]
    },
    {
     "name": "stdout",
     "output_type": "stream",
     "text": [
      "Transpiled and saved: circuits\\59\\transpiled_circuit_Q.qpy\n",
      "Transpiled and saved: circuits\\6\\transpiled_circuit_A.qpy\n"
     ]
    },
    {
     "name": "stdout",
     "output_type": "stream",
     "text": [
      "Transpiled and saved: circuits\\6\\transpiled_circuit_Q.qpy\n",
      "Transpiled and saved: circuits\\60\\transpiled_circuit_A.qpy\n"
     ]
    },
    {
     "name": "stdout",
     "output_type": "stream",
     "text": [
      "Transpiled and saved: circuits\\60\\transpiled_circuit_Q.qpy\n",
      "Transpiled and saved: circuits\\61\\transpiled_circuit_A.qpy\n"
     ]
    },
    {
     "name": "stdout",
     "output_type": "stream",
     "text": [
      "Transpiled and saved: circuits\\61\\transpiled_circuit_Q.qpy\n",
      "Transpiled and saved: circuits\\62\\transpiled_circuit_A.qpy\n"
     ]
    },
    {
     "name": "stdout",
     "output_type": "stream",
     "text": [
      "Transpiled and saved: circuits\\62\\transpiled_circuit_Q.qpy\n",
      "Transpiled and saved: circuits\\63\\transpiled_circuit_A.qpy\n"
     ]
    },
    {
     "name": "stdout",
     "output_type": "stream",
     "text": [
      "Transpiled and saved: circuits\\63\\transpiled_circuit_Q.qpy\n",
      "Transpiled and saved: circuits\\64\\transpiled_circuit_A.qpy\n"
     ]
    },
    {
     "name": "stdout",
     "output_type": "stream",
     "text": [
      "Transpiled and saved: circuits\\64\\transpiled_circuit_Q.qpy\n",
      "Transpiled and saved: circuits\\65\\transpiled_circuit_A.qpy\n"
     ]
    },
    {
     "name": "stdout",
     "output_type": "stream",
     "text": [
      "Transpiled and saved: circuits\\65\\transpiled_circuit_Q.qpy\n",
      "Transpiled and saved: circuits\\66\\transpiled_circuit_A.qpy\n"
     ]
    },
    {
     "name": "stdout",
     "output_type": "stream",
     "text": [
      "Transpiled and saved: circuits\\66\\transpiled_circuit_Q.qpy\n",
      "Transpiled and saved: circuits\\67\\transpiled_circuit_A.qpy\n"
     ]
    },
    {
     "name": "stdout",
     "output_type": "stream",
     "text": [
      "Transpiled and saved: circuits\\67\\transpiled_circuit_Q.qpy\n",
      "Transpiled and saved: circuits\\68\\transpiled_circuit_A.qpy\n"
     ]
    },
    {
     "name": "stdout",
     "output_type": "stream",
     "text": [
      "Transpiled and saved: circuits\\68\\transpiled_circuit_Q.qpy\n",
      "Transpiled and saved: circuits\\69\\transpiled_circuit_A.qpy\n"
     ]
    },
    {
     "name": "stdout",
     "output_type": "stream",
     "text": [
      "Transpiled and saved: circuits\\69\\transpiled_circuit_Q.qpy\n",
      "Transpiled and saved: circuits\\7\\transpiled_circuit_A.qpy\n"
     ]
    },
    {
     "name": "stdout",
     "output_type": "stream",
     "text": [
      "Transpiled and saved: circuits\\7\\transpiled_circuit_Q.qpy\n",
      "Transpiled and saved: circuits\\70\\transpiled_circuit_A.qpy\n"
     ]
    },
    {
     "name": "stdout",
     "output_type": "stream",
     "text": [
      "Transpiled and saved: circuits\\70\\transpiled_circuit_Q.qpy\n",
      "Transpiled and saved: circuits\\71\\transpiled_circuit_A.qpy\n"
     ]
    },
    {
     "name": "stdout",
     "output_type": "stream",
     "text": [
      "Transpiled and saved: circuits\\71\\transpiled_circuit_Q.qpy\n",
      "Transpiled and saved: circuits\\72\\transpiled_circuit_A.qpy\n"
     ]
    },
    {
     "name": "stdout",
     "output_type": "stream",
     "text": [
      "Transpiled and saved: circuits\\72\\transpiled_circuit_Q.qpy\n",
      "Transpiled and saved: circuits\\73\\transpiled_circuit_A.qpy\n"
     ]
    },
    {
     "name": "stdout",
     "output_type": "stream",
     "text": [
      "Transpiled and saved: circuits\\73\\transpiled_circuit_Q.qpy\n",
      "Transpiled and saved: circuits\\74\\transpiled_circuit_A.qpy\n"
     ]
    },
    {
     "name": "stdout",
     "output_type": "stream",
     "text": [
      "Transpiled and saved: circuits\\74\\transpiled_circuit_Q.qpy\n",
      "Transpiled and saved: circuits\\75\\transpiled_circuit_A.qpy\n"
     ]
    },
    {
     "name": "stdout",
     "output_type": "stream",
     "text": [
      "Transpiled and saved: circuits\\75\\transpiled_circuit_Q.qpy\n",
      "Transpiled and saved: circuits\\76\\transpiled_circuit_A.qpy\n"
     ]
    },
    {
     "name": "stdout",
     "output_type": "stream",
     "text": [
      "Transpiled and saved: circuits\\76\\transpiled_circuit_Q.qpy\n",
      "Transpiled and saved: circuits\\77\\transpiled_circuit_A.qpy\n"
     ]
    },
    {
     "name": "stdout",
     "output_type": "stream",
     "text": [
      "Transpiled and saved: circuits\\77\\transpiled_circuit_Q.qpy\n",
      "Transpiled and saved: circuits\\78\\transpiled_circuit_A.qpy\n"
     ]
    },
    {
     "name": "stdout",
     "output_type": "stream",
     "text": [
      "Transpiled and saved: circuits\\78\\transpiled_circuit_Q.qpy\n",
      "Transpiled and saved: circuits\\79\\transpiled_circuit_A.qpy\n"
     ]
    },
    {
     "name": "stdout",
     "output_type": "stream",
     "text": [
      "Transpiled and saved: circuits\\79\\transpiled_circuit_Q.qpy\n",
      "Transpiled and saved: circuits\\8\\transpiled_circuit_A.qpy\n"
     ]
    },
    {
     "name": "stdout",
     "output_type": "stream",
     "text": [
      "Transpiled and saved: circuits\\8\\transpiled_circuit_Q.qpy\n",
      "Transpiled and saved: circuits\\80\\transpiled_circuit_A.qpy\n"
     ]
    },
    {
     "name": "stdout",
     "output_type": "stream",
     "text": [
      "Transpiled and saved: circuits\\80\\transpiled_circuit_Q.qpy\n",
      "Transpiled and saved: circuits\\81\\transpiled_circuit_A.qpy\n"
     ]
    },
    {
     "name": "stdout",
     "output_type": "stream",
     "text": [
      "Transpiled and saved: circuits\\81\\transpiled_circuit_Q.qpy\n",
      "Transpiled and saved: circuits\\82\\transpiled_circuit_A.qpy\n"
     ]
    },
    {
     "name": "stdout",
     "output_type": "stream",
     "text": [
      "Transpiled and saved: circuits\\82\\transpiled_circuit_Q.qpy\n",
      "Transpiled and saved: circuits\\83\\transpiled_circuit_A.qpy\n"
     ]
    },
    {
     "name": "stdout",
     "output_type": "stream",
     "text": [
      "Transpiled and saved: circuits\\83\\transpiled_circuit_Q.qpy\n",
      "Transpiled and saved: circuits\\84\\transpiled_circuit_A.qpy\n"
     ]
    },
    {
     "name": "stdout",
     "output_type": "stream",
     "text": [
      "Transpiled and saved: circuits\\84\\transpiled_circuit_Q.qpy\n",
      "Transpiled and saved: circuits\\85\\transpiled_circuit_A.qpy\n"
     ]
    },
    {
     "name": "stdout",
     "output_type": "stream",
     "text": [
      "Transpiled and saved: circuits\\85\\transpiled_circuit_Q.qpy\n",
      "Transpiled and saved: circuits\\86\\transpiled_circuit_A.qpy\n"
     ]
    },
    {
     "name": "stdout",
     "output_type": "stream",
     "text": [
      "Transpiled and saved: circuits\\86\\transpiled_circuit_Q.qpy\n",
      "Transpiled and saved: circuits\\87\\transpiled_circuit_A.qpy\n"
     ]
    },
    {
     "name": "stdout",
     "output_type": "stream",
     "text": [
      "Transpiled and saved: circuits\\87\\transpiled_circuit_Q.qpy\n",
      "Transpiled and saved: circuits\\88\\transpiled_circuit_A.qpy\n"
     ]
    },
    {
     "name": "stdout",
     "output_type": "stream",
     "text": [
      "Transpiled and saved: circuits\\88\\transpiled_circuit_Q.qpy\n",
      "Transpiled and saved: circuits\\89\\transpiled_circuit_A.qpy\n"
     ]
    },
    {
     "name": "stdout",
     "output_type": "stream",
     "text": [
      "Transpiled and saved: circuits\\89\\transpiled_circuit_Q.qpy\n",
      "Transpiled and saved: circuits\\9\\transpiled_circuit_A.qpy\n"
     ]
    },
    {
     "name": "stdout",
     "output_type": "stream",
     "text": [
      "Transpiled and saved: circuits\\9\\transpiled_circuit_Q.qpy\n",
      "Transpiled and saved: circuits\\90\\transpiled_circuit_A.qpy\n"
     ]
    },
    {
     "name": "stdout",
     "output_type": "stream",
     "text": [
      "Transpiled and saved: circuits\\90\\transpiled_circuit_Q.qpy\n",
      "Transpiled and saved: circuits\\91\\transpiled_circuit_A.qpy\n"
     ]
    },
    {
     "name": "stdout",
     "output_type": "stream",
     "text": [
      "Transpiled and saved: circuits\\91\\transpiled_circuit_Q.qpy\n",
      "Transpiled and saved: circuits\\92\\transpiled_circuit_A.qpy\n"
     ]
    },
    {
     "name": "stdout",
     "output_type": "stream",
     "text": [
      "Transpiled and saved: circuits\\92\\transpiled_circuit_Q.qpy\n",
      "Transpiled and saved: circuits\\93\\transpiled_circuit_A.qpy\n"
     ]
    },
    {
     "name": "stdout",
     "output_type": "stream",
     "text": [
      "Transpiled and saved: circuits\\93\\transpiled_circuit_Q.qpy\n",
      "Transpiled and saved: circuits\\94\\transpiled_circuit_A.qpy\n"
     ]
    },
    {
     "name": "stdout",
     "output_type": "stream",
     "text": [
      "Transpiled and saved: circuits\\94\\transpiled_circuit_Q.qpy\n",
      "Transpiled and saved: circuits\\95\\transpiled_circuit_A.qpy\n"
     ]
    },
    {
     "name": "stdout",
     "output_type": "stream",
     "text": [
      "Transpiled and saved: circuits\\95\\transpiled_circuit_Q.qpy\n",
      "Transpiled and saved: circuits\\96\\transpiled_circuit_A.qpy\n"
     ]
    },
    {
     "name": "stdout",
     "output_type": "stream",
     "text": [
      "Transpiled and saved: circuits\\96\\transpiled_circuit_Q.qpy\n",
      "Transpiled and saved: circuits\\97\\transpiled_circuit_A.qpy\n"
     ]
    },
    {
     "name": "stdout",
     "output_type": "stream",
     "text": [
      "Transpiled and saved: circuits\\97\\transpiled_circuit_Q.qpy\n",
      "Transpiled and saved: circuits\\98\\transpiled_circuit_A.qpy\n"
     ]
    },
    {
     "name": "stdout",
     "output_type": "stream",
     "text": [
      "Transpiled and saved: circuits\\98\\transpiled_circuit_Q.qpy\n",
      "Transpiled and saved: circuits\\99\\transpiled_circuit_A.qpy\n"
     ]
    },
    {
     "name": "stdout",
     "output_type": "stream",
     "text": [
      "Transpiled and saved: circuits\\99\\transpiled_circuit_Q.qpy\n",
      "All circuits have been transpiled and saved.\n",
      "For the 1th Pauli string:\n",
      "  The depth of circuit A is 88\n",
      "  The depth of circuit Q is 177\n",
      "For the 2th Pauli string:\n",
      "  The depth of circuit A is 91\n",
      "  The depth of circuit Q is 183\n",
      "For the 3th Pauli string:\n",
      "  The depth of circuit A is 90\n",
      "  The depth of circuit Q is 182\n",
      "For the 4th Pauli string:\n",
      "  The depth of circuit A is 88\n",
      "  The depth of circuit Q is 177\n",
      "For the 5th Pauli string:\n",
      "  The depth of circuit A is 90\n",
      "  The depth of circuit Q is 181\n",
      "For the 6th Pauli string:\n",
      "  The depth of circuit A is 90\n",
      "  The depth of circuit Q is 184\n",
      "For the 7th Pauli string:\n",
      "  The depth of circuit A is 89\n",
      "  The depth of circuit Q is 180\n",
      "For the 8th Pauli string:\n",
      "  The depth of circuit A is 88\n",
      "  The depth of circuit Q is 177\n",
      "For the 9th Pauli string:\n",
      "  The depth of circuit A is 88\n",
      "  The depth of circuit Q is 177\n",
      "For the 10th Pauli string:\n",
      "  The depth of circuit A is 90\n",
      "  The depth of circuit Q is 182\n",
      "For the 11th Pauli string:\n",
      "  The depth of circuit A is 91\n",
      "  The depth of circuit Q is 184\n",
      "For the 12th Pauli string:\n",
      "  The depth of circuit A is 91\n",
      "  The depth of circuit Q is 184\n",
      "For the 13th Pauli string:\n",
      "  The depth of circuit A is 90\n",
      "  The depth of circuit Q is 183\n",
      "For the 14th Pauli string:\n",
      "  The depth of circuit A is 90\n",
      "  The depth of circuit Q is 183\n",
      "For the 15th Pauli string:\n",
      "  The depth of circuit A is 91\n",
      "  The depth of circuit Q is 184\n",
      "For the 16th Pauli string:\n",
      "  The depth of circuit A is 90\n",
      "  The depth of circuit Q is 181\n",
      "For the 17th Pauli string:\n",
      "  The depth of circuit A is 90\n",
      "  The depth of circuit Q is 183\n",
      "For the 18th Pauli string:\n",
      "  The depth of circuit A is 91\n",
      "  The depth of circuit Q is 184\n",
      "For the 19th Pauli string:\n",
      "  The depth of circuit A is 90\n",
      "  The depth of circuit Q is 184\n",
      "For the 20th Pauli string:\n",
      "  The depth of circuit A is 91\n",
      "  The depth of circuit Q is 185\n",
      "For the 21th Pauli string:\n",
      "  The depth of circuit A is 91\n",
      "  The depth of circuit Q is 185\n",
      "For the 22th Pauli string:\n",
      "  The depth of circuit A is 90\n",
      "  The depth of circuit Q is 182\n",
      "For the 23th Pauli string:\n",
      "  The depth of circuit A is 88\n",
      "  The depth of circuit Q is 178\n",
      "For the 24th Pauli string:\n",
      "  The depth of circuit A is 90\n",
      "  The depth of circuit Q is 182\n",
      "For the 25th Pauli string:\n",
      "  The depth of circuit A is 88\n",
      "  The depth of circuit Q is 178\n",
      "For the 26th Pauli string:\n",
      "  The depth of circuit A is 90\n",
      "  The depth of circuit Q is 182\n",
      "For the 27th Pauli string:\n",
      "  The depth of circuit A is 90\n",
      "  The depth of circuit Q is 184\n",
      "For the 28th Pauli string:\n",
      "  The depth of circuit A is 88\n",
      "  The depth of circuit Q is 177\n",
      "For the 29th Pauli string:\n",
      "  The depth of circuit A is 90\n",
      "  The depth of circuit Q is 182\n",
      "For the 30th Pauli string:\n",
      "  The depth of circuit A is 89\n",
      "  The depth of circuit Q is 181\n",
      "For the 31th Pauli string:\n",
      "  The depth of circuit A is 89\n",
      "  The depth of circuit Q is 181\n",
      "For the 32th Pauli string:\n",
      "  The depth of circuit A is 89\n",
      "  The depth of circuit Q is 181\n",
      "For the 33th Pauli string:\n",
      "  The depth of circuit A is 90\n",
      "  The depth of circuit Q is 185\n",
      "For the 34th Pauli string:\n",
      "  The depth of circuit A is 90\n",
      "  The depth of circuit Q is 183\n",
      "For the 35th Pauli string:\n",
      "  The depth of circuit A is 89\n",
      "  The depth of circuit Q is 179\n",
      "For the 36th Pauli string:\n",
      "  The depth of circuit A is 90\n",
      "  The depth of circuit Q is 183\n",
      "For the 37th Pauli string:\n",
      "  The depth of circuit A is 90\n",
      "  The depth of circuit Q is 183\n",
      "For the 38th Pauli string:\n",
      "  The depth of circuit A is 90\n",
      "  The depth of circuit Q is 183\n",
      "For the 39th Pauli string:\n",
      "  The depth of circuit A is 90\n",
      "  The depth of circuit Q is 183\n",
      "For the 40th Pauli string:\n",
      "  The depth of circuit A is 91\n",
      "  The depth of circuit Q is 186\n",
      "For the 41th Pauli string:\n",
      "  The depth of circuit A is 91\n",
      "  The depth of circuit Q is 186\n",
      "For the 42th Pauli string:\n",
      "  The depth of circuit A is 91\n",
      "  The depth of circuit Q is 186\n",
      "For the 43th Pauli string:\n",
      "  The depth of circuit A is 91\n",
      "  The depth of circuit Q is 186\n",
      "For the 44th Pauli string:\n",
      "  The depth of circuit A is 88\n",
      "  The depth of circuit Q is 179\n",
      "For the 45th Pauli string:\n",
      "  The depth of circuit A is 88\n",
      "  The depth of circuit Q is 179\n",
      "For the 46th Pauli string:\n",
      "  The depth of circuit A is 91\n",
      "  The depth of circuit Q is 187\n",
      "For the 47th Pauli string:\n",
      "  The depth of circuit A is 91\n",
      "  The depth of circuit Q is 187\n",
      "For the 48th Pauli string:\n",
      "  The depth of circuit A is 91\n",
      "  The depth of circuit Q is 187\n",
      "For the 49th Pauli string:\n",
      "  The depth of circuit A is 91\n",
      "  The depth of circuit Q is 187\n",
      "For the 50th Pauli string:\n",
      "  The depth of circuit A is 91\n",
      "  The depth of circuit Q is 185\n",
      "For the 51th Pauli string:\n",
      "  The depth of circuit A is 91\n",
      "  The depth of circuit Q is 185\n",
      "For the 52th Pauli string:\n",
      "  The depth of circuit A is 88\n",
      "  The depth of circuit Q is 177\n",
      "For the 53th Pauli string:\n",
      "  The depth of circuit A is 88\n",
      "  The depth of circuit Q is 177\n",
      "For the 54th Pauli string:\n",
      "  The depth of circuit A is 91\n",
      "  The depth of circuit Q is 185\n",
      "For the 55th Pauli string:\n",
      "  The depth of circuit A is 91\n",
      "  The depth of circuit Q is 184\n",
      "For the 56th Pauli string:\n",
      "  The depth of circuit A is 88\n",
      "  The depth of circuit Q is 177\n",
      "For the 57th Pauli string:\n",
      "  The depth of circuit A is 90\n",
      "  The depth of circuit Q is 183\n",
      "For the 58th Pauli string:\n",
      "  The depth of circuit A is 91\n",
      "  The depth of circuit Q is 186\n",
      "For the 59th Pauli string:\n",
      "  The depth of circuit A is 91\n",
      "  The depth of circuit Q is 185\n",
      "For the 60th Pauli string:\n",
      "  The depth of circuit A is 88\n",
      "  The depth of circuit Q is 179\n",
      "For the 61th Pauli string:\n",
      "  The depth of circuit A is 90\n",
      "  The depth of circuit Q is 184\n",
      "For the 62th Pauli string:\n",
      "  The depth of circuit A is 91\n",
      "  The depth of circuit Q is 187\n",
      "For the 63th Pauli string:\n",
      "  The depth of circuit A is 90\n",
      "  The depth of circuit Q is 184\n",
      "For the 64th Pauli string:\n",
      "  The depth of circuit A is 91\n",
      "  The depth of circuit Q is 185\n",
      "For the 65th Pauli string:\n",
      "  The depth of circuit A is 90\n",
      "  The depth of circuit Q is 182\n",
      "For the 66th Pauli string:\n",
      "  The depth of circuit A is 90\n",
      "  The depth of circuit Q is 185\n",
      "For the 67th Pauli string:\n",
      "  The depth of circuit A is 91\n",
      "  The depth of circuit Q is 186\n",
      "For the 68th Pauli string:\n",
      "  The depth of circuit A is 90\n",
      "  The depth of circuit Q is 183\n",
      "For the 69th Pauli string:\n",
      "  The depth of circuit A is 89\n",
      "  The depth of circuit Q is 179\n",
      "For the 70th Pauli string:\n",
      "  The depth of circuit A is 91\n",
      "  The depth of circuit Q is 185\n",
      "For the 71th Pauli string:\n",
      "  The depth of circuit A is 91\n",
      "  The depth of circuit Q is 185\n",
      "For the 72th Pauli string:\n",
      "  The depth of circuit A is 91\n",
      "  The depth of circuit Q is 185\n",
      "For the 73th Pauli string:\n",
      "  The depth of circuit A is 91\n",
      "  The depth of circuit Q is 185\n",
      "For the 74th Pauli string:\n",
      "  The depth of circuit A is 90\n",
      "  The depth of circuit Q is 184\n",
      "For the 75th Pauli string:\n",
      "  The depth of circuit A is 90\n",
      "  The depth of circuit Q is 184\n",
      "For the 76th Pauli string:\n",
      "  The depth of circuit A is 91\n",
      "  The depth of circuit Q is 185\n",
      "For the 77th Pauli string:\n",
      "  The depth of circuit A is 91\n",
      "  The depth of circuit Q is 185\n",
      "For the 78th Pauli string:\n",
      "  The depth of circuit A is 89\n",
      "  The depth of circuit Q is 181\n",
      "For the 79th Pauli string:\n",
      "  The depth of circuit A is 88\n",
      "  The depth of circuit Q is 178\n",
      "For the 80th Pauli string:\n",
      "  The depth of circuit A is 90\n",
      "  The depth of circuit Q is 185\n",
      "For the 81th Pauli string:\n",
      "  The depth of circuit A is 88\n",
      "  The depth of circuit Q is 178\n",
      "For the 82th Pauli string:\n",
      "  The depth of circuit A is 90\n",
      "  The depth of circuit Q is 183\n",
      "For the 83th Pauli string:\n",
      "  The depth of circuit A is 89\n",
      "  The depth of circuit Q is 180\n",
      "For the 84th Pauli string:\n",
      "  The depth of circuit A is 91\n",
      "  The depth of circuit Q is 186\n",
      "For the 85th Pauli string:\n",
      "  The depth of circuit A is 91\n",
      "  The depth of circuit Q is 185\n",
      "For the 86th Pauli string:\n",
      "  The depth of circuit A is 89\n",
      "  The depth of circuit Q is 181\n",
      "For the 87th Pauli string:\n",
      "  The depth of circuit A is 90\n",
      "  The depth of circuit Q is 182\n",
      "For the 88th Pauli string:\n",
      "  The depth of circuit A is 89\n",
      "  The depth of circuit Q is 181\n",
      "For the 89th Pauli string:\n",
      "  The depth of circuit A is 88\n",
      "  The depth of circuit Q is 178\n",
      "For the 90th Pauli string:\n",
      "  The depth of circuit A is 91\n",
      "  The depth of circuit Q is 187\n",
      "For the 91th Pauli string:\n",
      "  The depth of circuit A is 91\n",
      "  The depth of circuit Q is 186\n",
      "For the 92th Pauli string:\n",
      "  The depth of circuit A is 89\n",
      "  The depth of circuit Q is 182\n",
      "For the 93th Pauli string:\n",
      "  The depth of circuit A is 90\n",
      "  The depth of circuit Q is 183\n",
      "For the 94th Pauli string:\n",
      "  The depth of circuit A is 89\n",
      "  The depth of circuit Q is 180\n",
      "For the 95th Pauli string:\n",
      "  The depth of circuit A is 88\n",
      "  The depth of circuit Q is 177\n",
      "For the 96th Pauli string:\n",
      "  The depth of circuit A is 90\n",
      "  The depth of circuit Q is 184\n",
      "For the 97th Pauli string:\n",
      "  The depth of circuit A is 88\n",
      "  The depth of circuit Q is 177\n",
      "For the 98th Pauli string:\n",
      "  The depth of circuit A is 90\n",
      "  The depth of circuit Q is 181\n",
      "For the 99th Pauli string:\n",
      "  The depth of circuit A is 91\n",
      "  The depth of circuit Q is 184\n",
      "For the 100th Pauli string:\n",
      "  The depth of circuit A is 91\n",
      "  The depth of circuit Q is 187\n",
      "For the 101th Pauli string:\n",
      "  The depth of circuit A is 91\n",
      "  The depth of circuit Q is 187\n",
      "For the 102th Pauli string:\n",
      "  The depth of circuit A is 91\n",
      "  The depth of circuit Q is 186\n",
      "For the 103th Pauli string:\n",
      "  The depth of circuit A is 91\n",
      "  The depth of circuit Q is 186\n",
      "For the 104th Pauli string:\n",
      "  The depth of circuit A is 89\n",
      "  The depth of circuit Q is 182\n",
      "For the 105th Pauli string:\n",
      "  The depth of circuit A is 88\n",
      "  The depth of circuit Q is 179\n",
      "For the 106th Pauli string:\n",
      "  The depth of circuit A is 89\n",
      "  The depth of circuit Q is 182\n",
      "For the 107th Pauli string:\n",
      "  The depth of circuit A is 88\n",
      "  The depth of circuit Q is 179\n",
      "For the 108th Pauli string:\n",
      "  The depth of circuit A is 91\n",
      "  The depth of circuit Q is 187\n",
      "For the 109th Pauli string:\n",
      "  The depth of circuit A is 91\n",
      "  The depth of circuit Q is 186\n",
      "For the 110th Pauli string:\n",
      "  The depth of circuit A is 91\n",
      "  The depth of circuit Q is 187\n",
      "For the 111th Pauli string:\n",
      "  The depth of circuit A is 91\n",
      "  The depth of circuit Q is 186\n",
      "For the 112th Pauli string:\n",
      "  The depth of circuit A is 91\n",
      "  The depth of circuit Q is 187\n",
      "For the 113th Pauli string:\n",
      "  The depth of circuit A is 91\n",
      "  The depth of circuit Q is 187\n",
      "For the 114th Pauli string:\n",
      "  The depth of circuit A is 91\n",
      "  The depth of circuit Q is 186\n",
      "For the 115th Pauli string:\n",
      "  The depth of circuit A is 91\n",
      "  The depth of circuit Q is 186\n",
      "For the 116th Pauli string:\n",
      "  The depth of circuit A is 91\n",
      "  The depth of circuit Q is 187\n",
      "For the 117th Pauli string:\n",
      "  The depth of circuit A is 91\n",
      "  The depth of circuit Q is 186\n",
      "For the 118th Pauli string:\n",
      "  The depth of circuit A is 91\n",
      "  The depth of circuit Q is 186\n",
      "For the 119th Pauli string:\n",
      "  The depth of circuit A is 91\n",
      "  The depth of circuit Q is 185\n",
      "For the 120th Pauli string:\n",
      "  The depth of circuit A is 91\n",
      "  The depth of circuit Q is 187\n",
      "For the 121th Pauli string:\n",
      "  The depth of circuit A is 90\n",
      "  The depth of circuit Q is 185\n",
      "For the 122th Pauli string:\n",
      "  The depth of circuit A is 90\n",
      "  The depth of circuit Q is 185\n",
      "For the 123th Pauli string:\n",
      "  The depth of circuit A is 91\n",
      "  The depth of circuit Q is 187\n",
      "For the 124th Pauli string:\n",
      "  The depth of circuit A is 90\n",
      "  The depth of circuit Q is 185\n",
      "For the 125th Pauli string:\n",
      "  The depth of circuit A is 91\n",
      "  The depth of circuit Q is 187\n",
      "For the 126th Pauli string:\n",
      "  The depth of circuit A is 91\n",
      "  The depth of circuit Q is 187\n",
      "For the 127th Pauli string:\n",
      "  The depth of circuit A is 90\n",
      "  The depth of circuit Q is 185\n",
      "For the 128th Pauli string:\n",
      "  The depth of circuit A is 88\n",
      "  The depth of circuit Q is 177\n",
      "For the 129th Pauli string:\n",
      "  The depth of circuit A is 90\n",
      "  The depth of circuit Q is 184\n",
      "For the 130th Pauli string:\n",
      "  The depth of circuit A is 91\n",
      "  The depth of circuit Q is 184\n",
      "For the 131th Pauli string:\n",
      "  The depth of circuit A is 91\n",
      "  The depth of circuit Q is 185\n",
      "For the 132th Pauli string:\n",
      "  The depth of circuit A is 91\n",
      "  The depth of circuit Q is 187\n",
      "For the 133th Pauli string:\n",
      "  The depth of circuit A is 90\n",
      "  The depth of circuit Q is 184\n",
      "For the 134th Pauli string:\n",
      "  The depth of circuit A is 90\n",
      "  The depth of circuit Q is 185\n",
      "For the 135th Pauli string:\n",
      "  The depth of circuit A is 91\n",
      "  The depth of circuit Q is 186\n",
      "For the 136th Pauli string:\n",
      "  The depth of circuit A is 91\n",
      "  The depth of circuit Q is 187\n",
      "For the 137th Pauli string:\n",
      "  The depth of circuit A is 90\n",
      "  The depth of circuit Q is 185\n",
      "For the 138th Pauli string:\n",
      "  The depth of circuit A is 91\n",
      "  The depth of circuit Q is 185\n",
      "For the 139th Pauli string:\n",
      "  The depth of circuit A is 90\n",
      "  The depth of circuit Q is 183\n",
      "For the 140th Pauli string:\n",
      "  The depth of circuit A is 90\n",
      "  The depth of circuit Q is 185\n",
      "For the 141th Pauli string:\n",
      "  The depth of circuit A is 91\n",
      "  The depth of circuit Q is 186\n",
      "For the 142th Pauli string:\n",
      "  The depth of circuit A is 91\n",
      "  The depth of circuit Q is 187\n",
      "For the 143th Pauli string:\n",
      "  The depth of circuit A is 90\n",
      "  The depth of circuit Q is 184\n",
      "For the 144th Pauli string:\n",
      "  The depth of circuit A is 90\n",
      "  The depth of circuit Q is 185\n",
      "For the 145th Pauli string:\n",
      "  The depth of circuit A is 91\n",
      "  The depth of circuit Q is 187\n",
      "For the 146th Pauli string:\n",
      "  The depth of circuit A is 90\n",
      "  The depth of circuit Q is 183\n",
      "For the 147th Pauli string:\n",
      "  The depth of circuit A is 89\n",
      "  The depth of circuit Q is 180\n",
      "For the 148th Pauli string:\n",
      "  The depth of circuit A is 91\n",
      "  The depth of circuit Q is 185\n",
      "For the 149th Pauli string:\n",
      "  The depth of circuit A is 90\n",
      "  The depth of circuit Q is 183\n",
      "For the 150th Pauli string:\n",
      "  The depth of circuit A is 90\n",
      "  The depth of circuit Q is 183\n",
      "For the 151th Pauli string:\n",
      "  The depth of circuit A is 91\n",
      "  The depth of circuit Q is 185\n",
      "For the 152th Pauli string:\n",
      "  The depth of circuit A is 90\n",
      "  The depth of circuit Q is 184\n",
      "For the 153th Pauli string:\n",
      "  The depth of circuit A is 91\n",
      "  The depth of circuit Q is 186\n",
      "For the 154th Pauli string:\n",
      "  The depth of circuit A is 91\n",
      "  The depth of circuit Q is 186\n",
      "For the 155th Pauli string:\n",
      "  The depth of circuit A is 90\n",
      "  The depth of circuit Q is 184\n",
      "For the 156th Pauli string:\n",
      "  The depth of circuit A is 91\n",
      "  The depth of circuit Q is 186\n",
      "For the 157th Pauli string:\n",
      "  The depth of circuit A is 91\n",
      "  The depth of circuit Q is 185\n",
      "For the 158th Pauli string:\n",
      "  The depth of circuit A is 91\n",
      "  The depth of circuit Q is 185\n",
      "For the 159th Pauli string:\n",
      "  The depth of circuit A is 91\n",
      "  The depth of circuit Q is 186\n",
      "For the 160th Pauli string:\n",
      "  The depth of circuit A is 91\n",
      "  The depth of circuit Q is 186\n",
      "For the 161th Pauli string:\n",
      "  The depth of circuit A is 90\n",
      "  The depth of circuit Q is 184\n",
      "For the 162th Pauli string:\n",
      "  The depth of circuit A is 90\n",
      "  The depth of circuit Q is 184\n",
      "For the 163th Pauli string:\n",
      "  The depth of circuit A is 91\n",
      "  The depth of circuit Q is 186\n",
      "For the 164th Pauli string:\n",
      "  The depth of circuit A is 90\n",
      "  The depth of circuit Q is 182\n",
      "For the 165th Pauli string:\n",
      "  The depth of circuit A is 91\n",
      "  The depth of circuit Q is 184\n",
      "For the 166th Pauli string:\n",
      "  The depth of circuit A is 91\n",
      "  The depth of circuit Q is 184\n",
      "For the 167th Pauli string:\n",
      "  The depth of circuit A is 90\n",
      "  The depth of circuit Q is 182\n",
      "For the 168th Pauli string:\n",
      "  The depth of circuit A is 91\n",
      "  The depth of circuit Q is 184\n",
      "For the 169th Pauli string:\n",
      "  The depth of circuit A is 91\n",
      "  The depth of circuit Q is 185\n",
      "For the 170th Pauli string:\n",
      "  The depth of circuit A is 91\n",
      "  The depth of circuit Q is 185\n",
      "For the 171th Pauli string:\n",
      "  The depth of circuit A is 91\n",
      "  The depth of circuit Q is 184\n",
      "For the 172th Pauli string:\n",
      "  The depth of circuit A is 91\n",
      "  The depth of circuit Q is 185\n",
      "For the 173th Pauli string:\n",
      "  The depth of circuit A is 90\n",
      "  The depth of circuit Q is 183\n",
      "For the 174th Pauli string:\n",
      "  The depth of circuit A is 90\n",
      "  The depth of circuit Q is 182\n",
      "For the 175th Pauli string:\n",
      "  The depth of circuit A is 90\n",
      "  The depth of circuit Q is 183\n",
      "For the 176th Pauli string:\n",
      "  The depth of circuit A is 90\n",
      "  The depth of circuit Q is 184\n",
      "For the 177th Pauli string:\n",
      "  The depth of circuit A is 91\n",
      "  The depth of circuit Q is 184\n",
      "For the 178th Pauli string:\n",
      "  The depth of circuit A is 91\n",
      "  The depth of circuit Q is 185\n",
      "For the 179th Pauli string:\n",
      "  The depth of circuit A is 91\n",
      "  The depth of circuit Q is 184\n",
      "For the 180th Pauli string:\n",
      "  The depth of circuit A is 91\n",
      "  The depth of circuit Q is 185\n",
      "For the 181th Pauli string:\n",
      "  The depth of circuit A is 90\n",
      "  The depth of circuit Q is 183\n",
      "For the 182th Pauli string:\n",
      "  The depth of circuit A is 90\n",
      "  The depth of circuit Q is 182\n",
      "For the 183th Pauli string:\n",
      "  The depth of circuit A is 91\n",
      "  The depth of circuit Q is 184\n",
      "For the 184th Pauli string:\n",
      "  The depth of circuit A is 90\n",
      "  The depth of circuit Q is 184\n",
      "For the 185th Pauli string:\n",
      "  The depth of circuit A is 91\n",
      "  The depth of circuit Q is 185\n",
      "For the 186th Pauli string:\n",
      "  The depth of circuit A is 91\n",
      "  The depth of circuit Q is 186\n",
      "For the 187th Pauli string:\n",
      "  The depth of circuit A is 90\n",
      "  The depth of circuit Q is 183\n",
      "For the 188th Pauli string:\n",
      "  The depth of circuit A is 91\n",
      "  The depth of circuit Q is 186\n",
      "For the 189th Pauli string:\n",
      "  The depth of circuit A is 91\n",
      "  The depth of circuit Q is 185\n",
      "For the 190th Pauli string:\n",
      "  The depth of circuit A is 91\n",
      "  The depth of circuit Q is 184\n",
      "For the 191th Pauli string:\n",
      "  The depth of circuit A is 91\n",
      "  The depth of circuit Q is 183\n",
      "For the 192th Pauli string:\n",
      "  The depth of circuit A is 91\n",
      "  The depth of circuit Q is 186\n",
      "For the 193th Pauli string:\n",
      "  The depth of circuit A is 90\n",
      "  The depth of circuit Q is 183\n",
      "For the 194th Pauli string:\n",
      "  The depth of circuit A is 90\n",
      "  The depth of circuit Q is 184\n",
      "For the 195th Pauli string:\n",
      "  The depth of circuit A is 91\n",
      "  The depth of circuit Q is 185\n",
      "For the 196th Pauli string:\n",
      "  The depth of circuit A is 91\n",
      "  The depth of circuit Q is 185\n",
      "For the 197th Pauli string:\n",
      "  The depth of circuit A is 90\n",
      "  The depth of circuit Q is 183\n",
      "For the 198th Pauli string:\n",
      "  The depth of circuit A is 91\n",
      "  The depth of circuit Q is 185\n",
      "For the 199th Pauli string:\n",
      "  The depth of circuit A is 91\n",
      "  The depth of circuit Q is 184\n",
      "For the 200th Pauli string:\n",
      "  The depth of circuit A is 90\n",
      "  The depth of circuit Q is 184\n",
      "For the 201th Pauli string:\n",
      "  The depth of circuit A is 91\n",
      "  The depth of circuit Q is 184\n",
      "For the 202th Pauli string:\n",
      "  The depth of circuit A is 91\n",
      "  The depth of circuit Q is 185\n",
      "For the 203th Pauli string:\n",
      "  The depth of circuit A is 91\n",
      "  The depth of circuit Q is 184\n",
      "For the 204th Pauli string:\n",
      "  The depth of circuit A is 90\n",
      "  The depth of circuit Q is 184\n",
      "For the 205th Pauli string:\n",
      "  The depth of circuit A is 90\n",
      "  The depth of circuit Q is 185\n",
      "For the 206th Pauli string:\n",
      "  The depth of circuit A is 89\n",
      "  The depth of circuit Q is 181\n",
      "For the 207th Pauli string:\n",
      "  The depth of circuit A is 88\n",
      "  The depth of circuit Q is 178\n",
      "For the 208th Pauli string:\n",
      "  The depth of circuit A is 90\n",
      "  The depth of circuit Q is 183\n",
      "For the 209th Pauli string:\n",
      "  The depth of circuit A is 88\n",
      "  The depth of circuit Q is 177\n",
      "For the 210th Pauli string:\n",
      "  The depth of circuit A is 90\n",
      "  The depth of circuit Q is 183\n",
      "For the 211th Pauli string:\n",
      "  The depth of circuit A is 90\n",
      "  The depth of circuit Q is 182\n",
      "For the 212th Pauli string:\n",
      "  The depth of circuit A is 89\n",
      "  The depth of circuit Q is 182\n",
      "For the 213th Pauli string:\n",
      "  The depth of circuit A is 89\n",
      "  The depth of circuit Q is 182\n",
      "For the 214th Pauli string:\n",
      "  The depth of circuit A is 91\n",
      "  The depth of circuit Q is 187\n",
      "For the 215th Pauli string:\n",
      "  The depth of circuit A is 91\n",
      "  The depth of circuit Q is 187\n",
      "For the 216th Pauli string:\n",
      "  The depth of circuit A is 91\n",
      "  The depth of circuit Q is 187\n",
      "For the 217th Pauli string:\n",
      "  The depth of circuit A is 91\n",
      "  The depth of circuit Q is 186\n",
      "For the 218th Pauli string:\n",
      "  The depth of circuit A is 91\n",
      "  The depth of circuit Q is 186\n",
      "For the 219th Pauli string:\n",
      "  The depth of circuit A is 91\n",
      "  The depth of circuit Q is 185\n",
      "For the 220th Pauli string:\n",
      "  The depth of circuit A is 89\n",
      "  The depth of circuit Q is 182\n",
      "For the 221th Pauli string:\n",
      "  The depth of circuit A is 88\n",
      "  The depth of circuit Q is 179\n",
      "For the 222th Pauli string:\n",
      "  The depth of circuit A is 90\n",
      "  The depth of circuit Q is 183\n",
      "For the 223th Pauli string:\n",
      "  The depth of circuit A is 90\n",
      "  The depth of circuit Q is 184\n",
      "For the 224th Pauli string:\n",
      "  The depth of circuit A is 90\n",
      "  The depth of circuit Q is 184\n",
      "For the 225th Pauli string:\n",
      "  The depth of circuit A is 89\n",
      "  The depth of circuit Q is 181\n",
      "For the 226th Pauli string:\n",
      "  The depth of circuit A is 90\n",
      "  The depth of circuit Q is 184\n",
      "For the 227th Pauli string:\n",
      "  The depth of circuit A is 90\n",
      "  The depth of circuit Q is 185\n",
      "For the 228th Pauli string:\n",
      "  The depth of circuit A is 90\n",
      "  The depth of circuit Q is 184\n",
      "For the 229th Pauli string:\n",
      "  The depth of circuit A is 90\n",
      "  The depth of circuit Q is 184\n",
      "For the 230th Pauli string:\n",
      "  The depth of circuit A is 91\n",
      "  The depth of circuit Q is 185\n",
      "For the 231th Pauli string:\n",
      "  The depth of circuit A is 91\n",
      "  The depth of circuit Q is 185\n"
     ]
    }
   ],
   "source": [
    "# Create an instance of the AerSimulator\n",
    "aer_sim = AerSimulator()\n",
    "\n",
    "# Dictionary to store depths of transpiled circuits\n",
    "transpiled_depths = {}\n",
    "\n",
    "# Walk through the numbered folders in circuits\n",
    "for folder in os.listdir('circuits'):\n",
    "    folder_path = os.path.join('circuits', folder)\n",
    "    if os.path.isdir(folder_path):\n",
    "        # Process circuit_A.qpy and circuit_Q.qpy\n",
    "        for circuit_file in ['circuit_A.qpy', 'circuit_Q.qpy']:\n",
    "            input_path = os.path.join(folder_path, circuit_file)\n",
    "            if os.path.exists(input_path):\n",
    "                # Load the circuit\n",
    "                with open(input_path, 'rb') as f:\n",
    "                    circuit = qpy_load(f)[0]\n",
    "                \n",
    "                # Transpile the circuit\n",
    "                transpiled_circuit = transpile(circuit, backend=aer_sim, optimization_level=3)\n",
    "                \n",
    "                # Save the transpiled circuit\n",
    "                transpiled_output_path = os.path.join(folder_path, f'transpiled_{circuit_file}')\n",
    "                \n",
    "                with open(transpiled_output_path, 'wb') as f:\n",
    "                    qpy_dump(transpiled_circuit, f)\n",
    "                \n",
    "                print(f\"Transpiled and saved: {transpiled_output_path}\")\n",
    "                \n",
    "                # Store the depth of the transpiled circuit\n",
    "                circuit_key = f\"{folder}_{circuit_file.split('.')[0]}\"\n",
    "                transpiled_depths[circuit_key] = transpiled_circuit.depth()\n",
    "    \n",
    "print(\"All circuits have been transpiled and saved.\")\n",
    "\n",
    "# Print depths for both circuit A and Q\n",
    "for folder in sorted([d for d in os.listdir('circuits') if os.path.isdir(os.path.join('circuits', d))], key=int):\n",
    "    circuit_A_key = f\"{folder}_circuit_A\"\n",
    "    circuit_Q_key = f\"{folder}_circuit_Q\"\n",
    "    if circuit_A_key in transpiled_depths and circuit_Q_key in transpiled_depths:\n",
    "        print(f\"For the {int(folder) + 1}th Pauli string:\")\n",
    "        print(f\"  The depth of circuit A is {transpiled_depths[circuit_A_key]}\")\n",
    "        print(f\"  The depth of circuit Q is {transpiled_depths[circuit_Q_key]}\")\n",
    "\n"
   ]
  },
  {
   "cell_type": "markdown",
   "id": "012002e2",
   "metadata": {
    "papermill": {
     "duration": 0.014004,
     "end_time": "2025-01-23T06:20:06.753578",
     "exception": false,
     "start_time": "2025-01-23T06:20:06.739574",
     "status": "completed"
    },
    "tags": []
   },
   "source": [
    "### 3 Plot all circuits"
   ]
  },
  {
   "cell_type": "code",
   "execution_count": 5,
   "id": "0f42c443",
   "metadata": {
    "execution": {
     "iopub.execute_input": "2025-01-23T06:20:06.784093Z",
     "iopub.status.busy": "2025-01-23T06:20:06.784093Z",
     "iopub.status.idle": "2025-01-23T06:20:06.799720Z",
     "shell.execute_reply": "2025-01-23T06:20:06.799720Z"
    },
    "papermill": {
     "duration": 0.033142,
     "end_time": "2025-01-23T06:20:06.801722",
     "exception": false,
     "start_time": "2025-01-23T06:20:06.768580",
     "status": "completed"
    },
    "tags": []
   },
   "outputs": [],
   "source": [
    "# # Walk through the numbered folders in circuits\n",
    "# for folder in os.listdir('circuits'):\n",
    "#     folder_path = os.path.join('circuits', folder)\n",
    "#     if os.path.isdir(folder_path):\n",
    "#         # Process all circuit files in the folder\n",
    "#         for circuit_file in os.listdir(folder_path):\n",
    "#             if circuit_file.endswith('.qpy'):\n",
    "#                 input_path = os.path.join(folder_path, circuit_file)\n",
    "                \n",
    "#                 # Load the circuit\n",
    "#                 with open(input_path, 'rb') as f:\n",
    "#                     circuit = qpy_load(f)[0]\n",
    "                \n",
    "#                 # Draw the circuit\n",
    "#                 circuit_img = circuit.draw(output='mpl', style={\n",
    "#                     'dpi': 150,\n",
    "#                     'font_size': 20,\n",
    "#                     'backgroundcolor': '#EEEEEE'\n",
    "#                 })\n",
    "#                 circuit_img.figure.set_size_inches(30, 15)\n",
    "                \n",
    "#                 # Save the plot\n",
    "#                 output_filename = f\"{os.path.splitext(circuit_file)[0]}.png\"\n",
    "#                 output_path = os.path.join(folder_path, output_filename)\n",
    "#                 circuit_img.figure.savefig(output_path, dpi=300, bbox_inches='tight')\n",
    "#                 plt.close(circuit_img.figure)\n",
    "                \n",
    "#                 print(f\"Saved circuit plot: {output_path}\")\n",
    "\n",
    "# print(\"All circuit plots have been generated and saved.\")"
   ]
  },
  {
   "cell_type": "code",
   "execution_count": null,
   "id": "3cabe59f",
   "metadata": {
    "papermill": {
     "duration": 0.013999,
     "end_time": "2025-01-23T06:20:06.829719",
     "exception": false,
     "start_time": "2025-01-23T06:20:06.815720",
     "status": "completed"
    },
    "tags": []
   },
   "outputs": [],
   "source": []
  }
 ],
 "metadata": {
  "kernelspec": {
   "display_name": "Python 3 (ipykernel)",
   "language": "python",
   "name": "python3"
  },
  "language_info": {
   "codemirror_mode": {
    "name": "ipython",
    "version": 3
   },
   "file_extension": ".py",
   "mimetype": "text/x-python",
   "name": "python",
   "nbconvert_exporter": "python",
   "pygments_lexer": "ipython3",
   "version": "3.9.20"
  },
  "papermill": {
   "default_parameters": {},
   "duration": 100.028821,
   "end_time": "2025-01-23T06:20:07.402125",
   "environment_variables": {},
   "exception": null,
   "input_path": "all_str_A_Q.ipynb",
   "output_path": "d:\\lql\\2025Winter\\corrected_vqe_simul\\corrected_LiH\\BondLengths\\processing_BL_1p15000\\all_str_A_Q\\all_str_A_Q_out.ipynb",
   "parameters": {},
   "start_time": "2025-01-23T06:18:27.373304",
   "version": "2.6.0"
  }
 },
 "nbformat": 4,
 "nbformat_minor": 5
}