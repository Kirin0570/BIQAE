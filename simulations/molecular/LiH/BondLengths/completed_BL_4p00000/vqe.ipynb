{
 "cells": [
  {
   "cell_type": "code",
   "execution_count": 1,
   "id": "a91004bd-003e-48ec-9deb-a4b4712546d4",
   "metadata": {
    "execution": {
     "iopub.execute_input": "2025-01-23T05:27:53.808600Z",
     "iopub.status.busy": "2025-01-23T05:27:53.807436Z",
     "iopub.status.idle": "2025-01-23T05:27:55.508315Z",
     "shell.execute_reply": "2025-01-23T05:27:55.507443Z"
    },
    "papermill": {
     "duration": 1.707609,
     "end_time": "2025-01-23T05:27:55.510068",
     "exception": false,
     "start_time": "2025-01-23T05:27:53.802459",
     "status": "completed"
    },
    "tags": []
   },
   "outputs": [],
   "source": [
    "from qiskit_nature.second_q.formats.molecule_info import MoleculeInfo\n",
    "from qiskit_nature.second_q.drivers import PySCFDriver\n",
    "from qiskit_nature.second_q.transformers import FreezeCoreTransformer\n",
    "from qiskit_nature.second_q.mappers import ParityMapper\n",
    "import dill\n",
    "import numpy as np\n",
    "from qiskit_algorithms.optimizers import SPSA, SLSQP, COBYLA\n",
    "from qiskit_aer.primitives import Estimator\n",
    "from qiskit_nature.second_q.circuit.library import HartreeFock\n",
    "from qiskit.circuit.library import EfficientSU2"
   ]
  },
  {
   "cell_type": "code",
   "execution_count": 2,
   "id": "bfd3f46b-c8ad-478b-a8c3-6169683131c5",
   "metadata": {
    "editable": true,
    "execution": {
     "iopub.execute_input": "2025-01-23T05:27:55.520091Z",
     "iopub.status.busy": "2025-01-23T05:27:55.519155Z",
     "iopub.status.idle": "2025-01-23T05:27:55.526681Z",
     "shell.execute_reply": "2025-01-23T05:27:55.525778Z"
    },
    "papermill": {
     "duration": 0.013619,
     "end_time": "2025-01-23T05:27:55.527929",
     "exception": false,
     "start_time": "2025-01-23T05:27:55.514310",
     "status": "completed"
    },
    "slideshow": {
     "slide_type": ""
    },
    "tags": [
     "parameters"
    ]
   },
   "outputs": [],
   "source": [
    "BL = 0.6"
   ]
  },
  {
   "cell_type": "code",
   "execution_count": 3,
   "id": "402f8fd8",
   "metadata": {
    "execution": {
     "iopub.execute_input": "2025-01-23T05:27:55.535360Z",
     "iopub.status.busy": "2025-01-23T05:27:55.534629Z",
     "iopub.status.idle": "2025-01-23T05:27:55.538691Z",
     "shell.execute_reply": "2025-01-23T05:27:55.537717Z"
    },
    "papermill": {
     "duration": 0.008913,
     "end_time": "2025-01-23T05:27:55.539833",
     "exception": false,
     "start_time": "2025-01-23T05:27:55.530920",
     "status": "completed"
    },
    "tags": [
     "injected-parameters"
    ]
   },
   "outputs": [],
   "source": [
    "# Parameters\n",
    "BL = 4.0\n"
   ]
  },
  {
   "cell_type": "markdown",
   "id": "9ffc8cb9-ba3d-4fee-a312-3f8fb750c8d0",
   "metadata": {
    "papermill": {
     "duration": 0.002819,
     "end_time": "2025-01-23T05:27:55.545542",
     "exception": false,
     "start_time": "2025-01-23T05:27:55.542723",
     "status": "completed"
    },
    "tags": []
   },
   "source": [
    "### 1 Construct the Hamiltonian"
   ]
  },
  {
   "cell_type": "markdown",
   "id": "35e8153b-d82c-4377-81d8-4eb4bd758b04",
   "metadata": {
    "papermill": {
     "duration": 0.003,
     "end_time": "2025-01-23T05:27:55.551598",
     "exception": false,
     "start_time": "2025-01-23T05:27:55.548598",
     "status": "completed"
    },
    "tags": []
   },
   "source": [
    "Helper function to construct the Hamiltonian represented as a Pauli decomposition stored in `qubit_op`, while also returning the `nuclear_repulsion_energy` and `core_electron_energy`."
   ]
  },
  {
   "cell_type": "code",
   "execution_count": 4,
   "id": "9df416a1-f5f5-4093-97ea-339e028187a0",
   "metadata": {
    "editable": true,
    "execution": {
     "iopub.execute_input": "2025-01-23T05:27:55.559191Z",
     "iopub.status.busy": "2025-01-23T05:27:55.558464Z",
     "iopub.status.idle": "2025-01-23T05:27:55.565327Z",
     "shell.execute_reply": "2025-01-23T05:27:55.564544Z"
    },
    "papermill": {
     "duration": 0.012045,
     "end_time": "2025-01-23T05:27:55.566683",
     "exception": false,
     "start_time": "2025-01-23T05:27:55.554638",
     "status": "completed"
    },
    "slideshow": {
     "slide_type": ""
    },
    "tags": []
   },
   "outputs": [],
   "source": [
    "def get_qubit_op(BL):\n",
    "    # Define Molecule\n",
    "    molecule = MoleculeInfo(\n",
    "        # Coordinates in Angstrom\n",
    "        symbols=[\"Li\", \"H\"],\n",
    "        coords=([0.0, 0.0, 0.0], [BL, 0.0, 0.0]),\n",
    "        multiplicity=1,  # = 2*spin + 1\n",
    "        charge=0,\n",
    "    )\n",
    "    \n",
    "    # molecule = MoleculeInfo(\n",
    "    #     # Coordinates in Angstrom\n",
    "    #     symbols=[\"Be\", \"H\", \"H\"],  # Beryllium and two hydrogens\n",
    "    #     coords=([0.0, 0.0, 0.0], [BL, 0.0, 0.0], [-BL, 0.0, 0.0]),  # Linear geometry\n",
    "    #     multiplicity=1,  # = 2*spin + 1, for singlet state\n",
    "    #     charge=0,  # Neutral molecule\n",
    "    # )\n",
    "\n",
    "    driver = PySCFDriver.from_molecule(molecule)\n",
    "\n",
    "    # Get properties\n",
    "    properties = driver.run()\n",
    "\n",
    "    # Now you can get the reduced electronic structure problem\n",
    "    problem = FreezeCoreTransformer(\n",
    "        freeze_core=True, remove_orbitals=[-3, -2]\n",
    "    ).transform(properties)\n",
    "    fermionic_op = problem.hamiltonian.second_q_op()\n",
    "    \n",
    "    num_particles = problem.num_particles\n",
    "    num_spatial_orbitals = problem.num_spatial_orbitals\n",
    "\n",
    "    mapper = ParityMapper(num_particles=problem.num_particles)\n",
    "    tapered_mapper = problem.get_tapered_mapper(mapper)\n",
    "    qubit_op = tapered_mapper.map(fermionic_op)\n",
    "\n",
    "    core_electron_energy = problem.hamiltonian.constants['FreezeCoreTransformer']\n",
    "    nuclear_repulsion_energy = problem.nuclear_repulsion_energy\n",
    "    \n",
    "    return qubit_op, num_particles, num_spatial_orbitals, problem, tapered_mapper, nuclear_repulsion_energy, core_electron_energy\n",
    "    "
   ]
  },
  {
   "cell_type": "code",
   "execution_count": 5,
   "id": "8d4f9c50-d5cd-4ccc-8fa8-30dd529576c9",
   "metadata": {
    "execution": {
     "iopub.execute_input": "2025-01-23T05:27:55.573654Z",
     "iopub.status.busy": "2025-01-23T05:27:55.573017Z",
     "iopub.status.idle": "2025-01-23T05:27:57.136051Z",
     "shell.execute_reply": "2025-01-23T05:27:57.135201Z"
    },
    "papermill": {
     "duration": 1.568264,
     "end_time": "2025-01-23T05:27:57.137787",
     "exception": false,
     "start_time": "2025-01-23T05:27:55.569523",
     "status": "completed"
    },
    "tags": []
   },
   "outputs": [],
   "source": [
    "(qubit_op, num_particles, num_spatial_orbitals, problem, mapper,nuclear_repulsion_energy, core_electron_energy) = get_qubit_op(BL)\n",
    "\n"
   ]
  },
  {
   "cell_type": "code",
   "execution_count": 6,
   "id": "40076bcf-f30d-4de7-a55b-1ab865f084fb",
   "metadata": {
    "execution": {
     "iopub.execute_input": "2025-01-23T05:27:57.146891Z",
     "iopub.status.busy": "2025-01-23T05:27:57.146101Z",
     "iopub.status.idle": "2025-01-23T05:27:57.228237Z",
     "shell.execute_reply": "2025-01-23T05:27:57.227061Z"
    },
    "papermill": {
     "duration": 0.087846,
     "end_time": "2025-01-23T05:27:57.229807",
     "exception": false,
     "start_time": "2025-01-23T05:27:57.141961",
     "status": "completed"
    },
    "tags": []
   },
   "outputs": [],
   "source": [
    "# Extract terms and coefficients\n",
    "pauli_list = list(zip(qubit_op.paulis, qubit_op.coeffs))\n",
    "\n",
    "# Sort terms by absolute coefficient magnitude (largest first)\n",
    "sorted_pauli_list = sorted(pauli_list, key=lambda x: abs(x[1]), reverse=True)\n",
    "\n",
    "# Print sorted terms\n",
    "# for pauli, coef in sorted_pauli_list:\n",
    "#     print(f\"Pauli: {pauli}, Coefficient: {coef}\")\n",
    "\n",
    "# Save the list\n",
    "with open(\"sorted_pauli_list.pkl\", \"wb\") as f:\n",
    "    dill.dump(sorted_pauli_list, f)"
   ]
  },
  {
   "cell_type": "code",
   "execution_count": 7,
   "id": "851f13b2-5ffb-4dcb-91ad-d8a39084227b",
   "metadata": {
    "execution": {
     "iopub.execute_input": "2025-01-23T05:27:57.237696Z",
     "iopub.status.busy": "2025-01-23T05:27:57.237141Z",
     "iopub.status.idle": "2025-01-23T05:27:57.245033Z",
     "shell.execute_reply": "2025-01-23T05:27:57.244207Z"
    },
    "papermill": {
     "duration": 0.013479,
     "end_time": "2025-01-23T05:27:57.246419",
     "exception": false,
     "start_time": "2025-01-23T05:27:57.232940",
     "status": "completed"
    },
    "tags": []
   },
   "outputs": [],
   "source": [
    "dd = np.real(min(np.linalg.eigvals(qubit_op.to_matrix())))"
   ]
  },
  {
   "cell_type": "markdown",
   "id": "3529886c-e59d-4734-a005-ebcc2151d9c2",
   "metadata": {
    "papermill": {
     "duration": 0.003436,
     "end_time": "2025-01-23T05:27:57.253691",
     "exception": false,
     "start_time": "2025-01-23T05:27:57.250255",
     "status": "completed"
    },
    "tags": []
   },
   "source": [
    "### 2 Perform VQE"
   ]
  },
  {
   "cell_type": "markdown",
   "id": "9a26e439-1fcb-4e5e-a0f6-dcb73b25a7e9",
   "metadata": {
    "papermill": {
     "duration": 0.003341,
     "end_time": "2025-01-23T05:27:57.260066",
     "exception": false,
     "start_time": "2025-01-23T05:27:57.256725",
     "status": "completed"
    },
    "tags": []
   },
   "source": [
    "Define a class to perform VQE."
   ]
  },
  {
   "cell_type": "code",
   "execution_count": 8,
   "id": "86303f16-512b-4947-8dcb-3ddb12dcdf79",
   "metadata": {
    "execution": {
     "iopub.execute_input": "2025-01-23T05:27:57.267426Z",
     "iopub.status.busy": "2025-01-23T05:27:57.266972Z",
     "iopub.status.idle": "2025-01-23T05:27:57.274558Z",
     "shell.execute_reply": "2025-01-23T05:27:57.273818Z"
    },
    "papermill": {
     "duration": 0.012891,
     "end_time": "2025-01-23T05:27:57.275889",
     "exception": false,
     "start_time": "2025-01-23T05:27:57.262998",
     "status": "completed"
    },
    "tags": []
   },
   "outputs": [],
   "source": [
    "# Define the custom VQE\n",
    "class CustomVQE:\n",
    "    def __init__(self, estimator, ansatz, optimizer, qubit_op, dd, NREplusCEE, custom_function, initial_point=None):\n",
    "        self.estimator = estimator\n",
    "        self.ansatz = ansatz\n",
    "        self.optimizer = optimizer\n",
    "        self.qubit_op = qubit_op\n",
    "        self.NREplusCEE = NREplusCEE\n",
    "        self.dd = dd\n",
    "        self.custom_function = custom_function\n",
    "        self.initial_point = initial_point  or [0] * ansatz.num_parameters\n",
    "\n",
    "    def compute_minimum_eigenvalue(self):\n",
    "        # Define the function to minimize\n",
    "        def objective_function(params):\n",
    "            # Evaluate the expectation value of the qubit operator\n",
    "            expectation = self.estimator.run([self.ansatz], [self.qubit_op], [params]).result().values[0]\n",
    "            # Evaluate the custom objective function\n",
    "            return self.custom_function(expectation, params)\n",
    "\n",
    "        # Use the `minimize` method for optimization\n",
    "        opt_result = self.optimizer.minimize(\n",
    "            fun=objective_function,\n",
    "            x0=self.initial_point\n",
    "        )\n",
    "\n",
    "        result = {\n",
    "            'x': [float(value) for value in opt_result.x],\n",
    "            'fun': opt_result.fun,\n",
    "            'dd': self.dd,\n",
    "            'NREplusCEE': self.NREplusCEE\n",
    "        }\n",
    "\n",
    "        \n",
    "        return result\n"
   ]
  },
  {
   "cell_type": "code",
   "execution_count": 9,
   "id": "c171cc3c-701c-4c56-bdbd-4f2090e20e13",
   "metadata": {
    "execution": {
     "iopub.execute_input": "2025-01-23T05:27:57.283723Z",
     "iopub.status.busy": "2025-01-23T05:27:57.283257Z",
     "iopub.status.idle": "2025-01-23T05:27:57.286912Z",
     "shell.execute_reply": "2025-01-23T05:27:57.286187Z"
    },
    "papermill": {
     "duration": 0.008946,
     "end_time": "2025-01-23T05:27:57.288129",
     "exception": false,
     "start_time": "2025-01-23T05:27:57.279183",
     "status": "completed"
    },
    "tags": []
   },
   "outputs": [],
   "source": [
    "# l=12 and maxiter = 200 works for LiH and HF"
   ]
  },
  {
   "cell_type": "code",
   "execution_count": 10,
   "id": "5b37e8b3-a55f-4153-85d3-475522a8210d",
   "metadata": {
    "execution": {
     "iopub.execute_input": "2025-01-23T05:27:57.295512Z",
     "iopub.status.busy": "2025-01-23T05:27:57.295110Z",
     "iopub.status.idle": "2025-01-23T05:27:57.316442Z",
     "shell.execute_reply": "2025-01-23T05:27:57.315630Z"
    },
    "papermill": {
     "duration": 0.026523,
     "end_time": "2025-01-23T05:27:57.317840",
     "exception": false,
     "start_time": "2025-01-23T05:27:57.291317",
     "status": "completed"
    },
    "tags": []
   },
   "outputs": [],
   "source": [
    "optimizer = SLSQP(maxiter=300)\n",
    "noiseless_estimator = Estimator(approximation=True)\n",
    "\n",
    "\n",
    "# Define ansatz\n",
    "init_state = HartreeFock(num_spatial_orbitals, num_particles, mapper)\n",
    "var_form = EfficientSU2(qubit_op.num_qubits, reps=12, entanglement='full', skip_unentangled_qubits=False, parameter_prefix='a')\n",
    "\n",
    "\n",
    "# Example Custom Objective Function\n",
    "def custom_objective_function(expectation_value, parameters):\n",
    "    # penalty_term = 0.1 * sum(param**2 for param in parameters)  # Example regularization\n",
    "    return expectation_value \n",
    "\n",
    "\n",
    "# Create an instance of CustomVQE\n",
    "custom_vqe = CustomVQE(\n",
    "    estimator=noiseless_estimator,\n",
    "    ansatz=var_form,\n",
    "    optimizer=optimizer,\n",
    "    qubit_op=qubit_op,\n",
    "    dd = dd,\n",
    "    NREplusCEE = nuclear_repulsion_energy + core_electron_energy,\n",
    "    custom_function=custom_objective_function,\n",
    "    initial_point = list(np.random.uniform(-np.pi, np.pi, var_form.num_parameters))\n",
    ")\n"
   ]
  },
  {
   "cell_type": "code",
   "execution_count": 11,
   "id": "ecc88820-8d40-44ce-84c7-20bd12d28db4",
   "metadata": {
    "execution": {
     "iopub.execute_input": "2025-01-23T05:27:57.325791Z",
     "iopub.status.busy": "2025-01-23T05:27:57.325257Z",
     "iopub.status.idle": "2025-01-23T05:34:08.220927Z",
     "shell.execute_reply": "2025-01-23T05:34:08.219755Z"
    },
    "papermill": {
     "duration": 370.902114,
     "end_time": "2025-01-23T05:34:08.223354",
     "exception": false,
     "start_time": "2025-01-23T05:27:57.321240",
     "status": "completed"
    },
    "tags": []
   },
   "outputs": [],
   "source": [
    "vqe_result = custom_vqe.compute_minimum_eigenvalue()\n"
   ]
  },
  {
   "cell_type": "code",
   "execution_count": 12,
   "id": "4dff00bc-3905-43b7-8f7c-9200e0b73af0",
   "metadata": {
    "execution": {
     "iopub.execute_input": "2025-01-23T05:34:08.234900Z",
     "iopub.status.busy": "2025-01-23T05:34:08.234099Z",
     "iopub.status.idle": "2025-01-23T05:34:08.242888Z",
     "shell.execute_reply": "2025-01-23T05:34:08.242034Z"
    },
    "papermill": {
     "duration": 0.015749,
     "end_time": "2025-01-23T05:34:08.244306",
     "exception": false,
     "start_time": "2025-01-23T05:34:08.228557",
     "status": "completed"
    },
    "tags": []
   },
   "outputs": [
    {
     "data": {
      "text/plain": [
       "156"
      ]
     },
     "execution_count": 12,
     "metadata": {},
     "output_type": "execute_result"
    }
   ],
   "source": [
    "len(vqe_result['x'])"
   ]
  },
  {
   "cell_type": "code",
   "execution_count": 13,
   "id": "09b66dae-9046-4cd5-9bd8-e800a48d0f42",
   "metadata": {
    "execution": {
     "iopub.execute_input": "2025-01-23T05:34:08.253111Z",
     "iopub.status.busy": "2025-01-23T05:34:08.252340Z",
     "iopub.status.idle": "2025-01-23T05:34:08.257132Z",
     "shell.execute_reply": "2025-01-23T05:34:08.256377Z"
    },
    "papermill": {
     "duration": 0.010384,
     "end_time": "2025-01-23T05:34:08.258316",
     "exception": false,
     "start_time": "2025-01-23T05:34:08.247932",
     "status": "completed"
    },
    "tags": []
   },
   "outputs": [
    {
     "name": "stdout",
     "output_type": "stream",
     "text": [
      "4.468029095350268e-05\n"
     ]
    }
   ],
   "source": [
    "print(vqe_result['fun'] - vqe_result['dd'])"
   ]
  },
  {
   "cell_type": "code",
   "execution_count": 14,
   "id": "bb7804b1-5bfe-4442-8a91-49614a312f54",
   "metadata": {
    "execution": {
     "iopub.execute_input": "2025-01-23T05:34:08.267727Z",
     "iopub.status.busy": "2025-01-23T05:34:08.267227Z",
     "iopub.status.idle": "2025-01-23T05:34:08.272330Z",
     "shell.execute_reply": "2025-01-23T05:34:08.271573Z"
    },
    "papermill": {
     "duration": 0.011158,
     "end_time": "2025-01-23T05:34:08.273551",
     "exception": false,
     "start_time": "2025-01-23T05:34:08.262393",
     "status": "completed"
    },
    "tags": []
   },
   "outputs": [],
   "source": [
    "with open(\"vqe_result.pkl\", \"wb\") as f:\n",
    "    dill.dump(vqe_result, f)"
   ]
  }
 ],
 "metadata": {
  "kernelspec": {
   "display_name": "Python 3 (ipykernel)",
   "language": "python",
   "name": "python3"
  },
  "language_info": {
   "codemirror_mode": {
    "name": "ipython",
    "version": 3
   },
   "file_extension": ".py",
   "mimetype": "text/x-python",
   "name": "python",
   "nbconvert_exporter": "python",
   "pygments_lexer": "ipython3",
   "version": "3.9.18"
  },
  "papermill": {
   "default_parameters": {},
   "duration": 375.788035,
   "end_time": "2025-01-23T05:34:08.896401",
   "environment_variables": {},
   "exception": null,
   "input_path": "vqe.ipynb",
   "output_path": "/tmp/BondLengths/processing_BL_4p00000/vqe.ipynb",
   "parameters": {
    "BL": 4.0
   },
   "start_time": "2025-01-23T05:27:53.108366",
   "version": "2.6.0"
  }
 },
 "nbformat": 4,
 "nbformat_minor": 5
}