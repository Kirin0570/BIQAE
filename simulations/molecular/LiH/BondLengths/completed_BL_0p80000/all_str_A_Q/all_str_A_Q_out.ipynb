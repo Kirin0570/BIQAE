{
 "cells": [
  {
   "cell_type": "code",
   "execution_count": 1,
   "id": "50b21722",
   "metadata": {
    "execution": {
     "iopub.execute_input": "2025-01-23T06:16:48.910236Z",
     "iopub.status.busy": "2025-01-23T06:16:48.910236Z",
     "iopub.status.idle": "2025-01-23T06:16:51.541790Z",
     "shell.execute_reply": "2025-01-23T06:16:51.541790Z"
    },
    "papermill": {
     "duration": 2.637562,
     "end_time": "2025-01-23T06:16:51.543796",
     "exception": false,
     "start_time": "2025-01-23T06:16:48.906234",
     "status": "completed"
    },
    "tags": []
   },
   "outputs": [],
   "source": [
    "import sys\n",
    "import os\n",
    "import dill\n",
    "import matplotlib.pyplot as plt\n",
    "\n",
    "from qiskit import transpile\n",
    "from qiskit_aer import AerSimulator\n",
    "from qiskit.qpy import load as qpy_load, dump as qpy_dump\n",
    "\n",
    "# Add the path to the parent of the parent directory\n",
    "sys.path.append(os.path.abspath(os.path.join(os.getcwd(), \"../../\")))\n",
    "\n",
    "# Now you can import your modules\n",
    "from circuit_constructors import construct_A, construct_Q"
   ]
  },
  {
   "cell_type": "markdown",
   "id": "834889af",
   "metadata": {
    "papermill": {
     "duration": 0.001999,
     "end_time": "2025-01-23T06:16:51.548800",
     "exception": false,
     "start_time": "2025-01-23T06:16:51.546801",
     "status": "completed"
    },
    "tags": []
   },
   "source": [
    "### 1 Construct A and Q for all Pauli strings"
   ]
  },
  {
   "cell_type": "code",
   "execution_count": 2,
   "id": "a96f92b7",
   "metadata": {
    "execution": {
     "iopub.execute_input": "2025-01-23T06:16:51.553796Z",
     "iopub.status.busy": "2025-01-23T06:16:51.553796Z",
     "iopub.status.idle": "2025-01-23T06:16:51.572686Z",
     "shell.execute_reply": "2025-01-23T06:16:51.572686Z"
    },
    "papermill": {
     "duration": 0.024397,
     "end_time": "2025-01-23T06:16:51.575194",
     "exception": false,
     "start_time": "2025-01-23T06:16:51.550797",
     "status": "completed"
    },
    "tags": []
   },
   "outputs": [],
   "source": [
    "# Load decomp and optim_res\n",
    "with open('../sorted_pauli_list.pkl', 'rb') as f:\n",
    "    sorted_pauli_list = dill.load(f)\n",
    "with open('../vqe_result.pkl', 'rb') as f:\n",
    "    vqe_res = dill.load(f)\n"
   ]
  },
  {
   "cell_type": "code",
   "execution_count": 3,
   "id": "3a05b6eb",
   "metadata": {
    "execution": {
     "iopub.execute_input": "2025-01-23T06:16:51.580199Z",
     "iopub.status.busy": "2025-01-23T06:16:51.580199Z",
     "iopub.status.idle": "2025-01-23T06:17:00.771330Z",
     "shell.execute_reply": "2025-01-23T06:17:00.770826Z"
    },
    "papermill": {
     "duration": 9.195138,
     "end_time": "2025-01-23T06:17:00.772338",
     "exception": false,
     "start_time": "2025-01-23T06:16:51.577200",
     "status": "completed"
    },
    "tags": []
   },
   "outputs": [
    {
     "name": "stdout",
     "output_type": "stream",
     "text": [
      "Processed Pauli string 0: IIIIII\n",
      "Processed Pauli string 1: ZZIIII\n",
      "Processed Pauli string 2: IZZIII\n",
      "Processed Pauli string 3: ZIIIII\n",
      "Processed Pauli string 4: IIIIZI\n"
     ]
    },
    {
     "name": "stdout",
     "output_type": "stream",
     "text": [
      "Processed Pauli string 5: ZIZIZZ\n",
      "Processed Pauli string 6: IIZZII\n",
      "Processed Pauli string 7: IIIZII\n",
      "Processed Pauli string 8: IIIIIZ\n",
      "Processed Pauli string 9: ZIZIII\n",
      "Processed Pauli string 10: ZZIIIZ\n",
      "Processed Pauli string 11: ZZIZII\n"
     ]
    },
    {
     "name": "stdout",
     "output_type": "stream",
     "text": [
      "Processed Pauli string 12: IZZIIZ\n",
      "Processed Pauli string 13: IZZZII\n",
      "Processed Pauli string 14: IZZIZI\n",
      "Processed Pauli string 15: ZZZIII\n",
      "Processed Pauli string 16: ZZIIZI\n",
      "Processed Pauli string 17: IZIIII\n",
      "Processed Pauli string 18: ZZIIZZ\n"
     ]
    },
    {
     "name": "stdout",
     "output_type": "stream",
     "text": [
      "Processed Pauli string 19: IZZIZZ\n",
      "Processed Pauli string 20: IZIZII\n",
      "Processed Pauli string 21: ZZZZII\n",
      "Processed Pauli string 22: IIIZIZ\n",
      "Processed Pauli string 23: ZIIIIZ\n"
     ]
    },
    {
     "name": "stdout",
     "output_type": "stream",
     "text": [
      "Processed Pauli string 24: IIIZZI\n",
      "Processed Pauli string 25: ZIIIZI\n",
      "Processed Pauli string 26: ZIIZZZ\n",
      "Processed Pauli string 27: IIIIZZ\n",
      "Processed Pauli string 28: ZIIZII\n",
      "Processed Pauli string 29: IIZZIZ\n",
      "Processed Pauli string 30: ZIZZZZ\n"
     ]
    },
    {
     "name": "stdout",
     "output_type": "stream",
     "text": [
      "Processed Pauli string 31: IIZIZZ\n",
      "Processed Pauli string 32: IIZZZI\n",
      "Processed Pauli string 33: ZIZIZI\n",
      "Processed Pauli string 34: IIZIII\n",
      "Processed Pauli string 35: IIIIXX\n",
      "Processed Pauli string 36: IIIIYY\n",
      "Processed Pauli string 37: XXXXII\n"
     ]
    },
    {
     "name": "stdout",
     "output_type": "stream",
     "text": [
      "Processed Pauli string 38: YXXYII\n",
      "Processed Pauli string 39: ZIZIIZ\n",
      "Processed Pauli string 40: ZIZZII\n",
      "Processed Pauli string 41: XXXXIZ\n",
      "Processed Pauli string 42: YXXYIZ\n",
      "Processed Pauli string 43: IIIZXX\n",
      "Processed Pauli string 44: IIIZYY\n"
     ]
    },
    {
     "name": "stdout",
     "output_type": "stream",
     "text": [
      "Processed Pauli string 45: ZIIIXX\n",
      "Processed Pauli string 46: ZIIIYY\n",
      "Processed Pauli string 47: XXXXZI\n"
     ]
    },
    {
     "name": "stdout",
     "output_type": "stream",
     "text": [
      "Processed Pauli string 48: YXXYZI\n",
      "Processed Pauli string 49: XXXXXX\n",
      "Processed Pauli string 50: YXXYXX\n",
      "Processed Pauli string 51: XXXXYY\n",
      "Processed Pauli string 52: YXXYYY\n",
      "Processed Pauli string 53: IZZIXX\n"
     ]
    },
    {
     "name": "stdout",
     "output_type": "stream",
     "text": [
      "Processed Pauli string 54: IZZIYY\n",
      "Processed Pauli string 55: XYYXII\n",
      "Processed Pauli string 56: YYYYII\n",
      "Processed Pauli string 57: ZZIIXX\n",
      "Processed Pauli string 58: ZZIIYY\n",
      "Processed Pauli string 59: YYXXII\n"
     ]
    },
    {
     "name": "stdout",
     "output_type": "stream",
     "text": [
      "Processed Pauli string 60: XYXYII\n",
      "Processed Pauli string 61: XXXZII\n",
      "Processed Pauli string 62: YXYIII\n",
      "Processed Pauli string 63: IIIIXZ\n",
      "Processed Pauli string 64: ZIZIXI\n",
      "Processed Pauli string 65: ZIZIZX\n"
     ]
    },
    {
     "name": "stdout",
     "output_type": "stream",
     "text": [
      "Processed Pauli string 66: IIIIIX\n",
      "Processed Pauli string 67: IIZXII\n",
      "Processed Pauli string 68: IIIXII\n",
      "Processed Pauli string 69: XXXZIZ\n",
      "Processed Pauli string 70: YXYIIZ\n",
      "Processed Pauli string 71: IIIZXZ\n"
     ]
    },
    {
     "name": "stdout",
     "output_type": "stream",
     "text": [
      "Processed Pauli string 72: ZIZZXI\n",
      "Processed Pauli string 73: ZIXZZZ\n",
      "Processed Pauli string 74: ZZXIZZ\n",
      "Processed Pauli string 75: IZXZII\n",
      "Processed Pauli string 76: IIXIII\n",
      "Processed Pauli string 77: ZXXZZZ\n"
     ]
    },
    {
     "name": "stdout",
     "output_type": "stream",
     "text": [
      "Processed Pauli string 78: IYYIZZ\n",
      "Processed Pauli string 79: ZYYZII\n",
      "Processed Pauli string 80: IXXIII\n",
      "Processed Pauli string 81: ZIIIXZ\n",
      "Processed Pauli string 82: IIZIXI\n",
      "Processed Pauli string 83: XXXZZI\n",
      "Processed Pauli string 84: YXYIZI\n"
     ]
    },
    {
     "name": "stdout",
     "output_type": "stream",
     "text": [
      "Processed Pauli string 85: YXYZZZ\n",
      "Processed Pauli string 86: XXXIZZ\n",
      "Processed Pauli string 87: IIZZXZ\n",
      "Processed Pauli string 88: ZIIZXI\n",
      "Processed Pauli string 89: IIZIZX\n",
      "Processed Pauli string 90: ZIIIIX\n",
      "Processed Pauli string 91: IIZXZI\n"
     ]
    },
    {
     "name": "stdout",
     "output_type": "stream",
     "text": [
      "Processed Pauli string 92: IIIXZI\n",
      "Processed Pauli string 93: IIZXIZ\n",
      "Processed Pauli string 94: IIIXIZ\n",
      "Processed Pauli string 95: ZIZZZX\n",
      "Processed Pauli string 96: IIIZIX\n",
      "Processed Pauli string 97: IXIIII\n"
     ]
    },
    {
     "name": "stdout",
     "output_type": "stream",
     "text": [
      "Processed Pauli string 98: ZXZIII\n",
      "Processed Pauli string 99: ZXXXZX\n",
      "Processed Pauli string 100: IYXYZX\n",
      "Processed Pauli string 101: IYXXZY\n",
      "Processed Pauli string 102: ZXXYZY\n",
      "Processed Pauli string 103: ZIXXZX\n"
     ]
    },
    {
     "name": "stdout",
     "output_type": "stream",
     "text": [
      "Processed Pauli string 104: ZZYYZX\n",
      "Processed Pauli string 105: ZZYXZY\n",
      "Processed Pauli string 106: ZIXYZY\n",
      "Processed Pauli string 107: IIZZXX\n",
      "Processed Pauli string 108: IIZZYY\n",
      "Processed Pauli string 109: YXYXZZ\n",
      "Processed Pauli string 110: XXYYZZ\n"
     ]
    },
    {
     "name": "stdout",
     "output_type": "stream",
     "text": [
      "Processed Pauli string 111: XXXZXX\n",
      "Processed Pauli string 112: YXYIXX\n",
      "Processed Pauli string 113: XXXZYY\n",
      "Processed Pauli string 114: YXYIYY\n",
      "Processed Pauli string 115: XXXXXZ\n",
      "Processed Pauli string 116: YXXYXZ\n"
     ]
    },
    {
     "name": "stdout",
     "output_type": "stream",
     "text": [
      "Processed Pauli string 117: YXYXXI\n",
      "Processed Pauli string 118: XXYYXI\n",
      "Processed Pauli string 119: XXXZXZ\n",
      "Processed Pauli string 120: YXYIXZ\n",
      "Processed Pauli string 121: YXYZXI\n",
      "Processed Pauli string 122: XXXIXI\n"
     ]
    },
    {
     "name": "stdout",
     "output_type": "stream",
     "text": [
      "Processed Pauli string 123: YXYXZX\n",
      "Processed Pauli string 124: XXYYZX\n",
      "Processed Pauli string 125: XXXXIX\n",
      "Processed Pauli string 126: YXXYIX\n",
      "Processed Pauli string 127: IIZXXX\n",
      "Processed Pauli string 128: IIIXXX\n",
      "Processed Pauli string 129: IIZXYY\n"
     ]
    },
    {
     "name": "stdout",
     "output_type": "stream",
     "text": [
      "Processed Pauli string 130: IIIXYY\n",
      "Processed Pauli string 131: ZIZIYY\n",
      "Processed Pauli string 132: ZIZIXX\n",
      "Processed Pauli string 133: XXYYII\n",
      "Processed Pauli string 134: YXYXII\n",
      "Processed Pauli string 135: ZZIIZX\n",
      "Processed Pauli string 136: IZZIIX\n"
     ]
    },
    {
     "name": "stdout",
     "output_type": "stream",
     "text": [
      "Processed Pauli string 137: IZIXII\n",
      "Processed Pauli string 138: IZZXII\n",
      "Processed Pauli string 139: IZZIZX\n",
      "Processed Pauli string 140: ZZIIIX\n",
      "Processed Pauli string 141: ZZZXII\n",
      "Processed Pauli string 142: ZZIXII\n",
      "Processed Pauli string 143: ZIXZZX\n"
     ]
    },
    {
     "name": "stdout",
     "output_type": "stream",
     "text": [
      "Processed Pauli string 144: ZZXIZX\n",
      "Processed Pauli string 145: ZZYZZY\n",
      "Processed Pauli string 146: ZIYIZY\n",
      "Processed Pauli string 147: ZXXZZX\n"
     ]
    },
    {
     "name": "stdout",
     "output_type": "stream",
     "text": [
      "Processed Pauli string 148: IYYIZX\n",
      "Processed Pauli string 149: IYXZZY\n",
      "Processed Pauli string 150: ZXYIZY\n",
      "Processed Pauli string 151: ZIXXZZ\n",
      "Processed Pauli string 152: ZZYYZZ\n",
      "Processed Pauli string 153: IZXXII\n"
     ]
    },
    {
     "name": "stdout",
     "output_type": "stream",
     "text": [
      "Processed Pauli string 154: IIYYII\n",
      "Processed Pauli string 155: ZXXXZZ\n",
      "Processed Pauli string 156: IYXYZZ\n",
      "Processed Pauli string 157: ZYYXII\n",
      "Processed Pauli string 158: IXYYII\n",
      "Processed Pauli string 159: IIIIXI\n",
      "Processed Pauli string 160: ZIZIXZ\n"
     ]
    },
    {
     "name": "stdout",
     "output_type": "stream",
     "text": [
      "Processed Pauli string 161: XXXIII\n",
      "Processed Pauli string 162: YXYZII\n",
      "Processed Pauli string 163: YYZIZX\n",
      "Processed Pauli string 164: XXIIZX\n",
      "Processed Pauli string 165: YXIIZY\n",
      "Processed Pauli string 166: XYZIZY\n",
      "Processed Pauli string 167: XZIIZX\n"
     ]
    },
    {
     "name": "stdout",
     "output_type": "stream",
     "text": [
      "Processed Pauli string 168: XIIIZX\n",
      "Processed Pauli string 169: YIIIZY\n",
      "Processed Pauli string 170: YZIIZY\n",
      "Processed Pauli string 171: ZZYXYI\n",
      "Processed Pauli string 172: ZIXYYI\n"
     ]
    },
    {
     "name": "stdout",
     "output_type": "stream",
     "text": [
      "Processed Pauli string 173: ZIXXXI\n",
      "Processed Pauli string 174: ZZYYXI\n",
      "Processed Pauli string 175: IYXXYI\n",
      "Processed Pauli string 176: ZXXYYI\n",
      "Processed Pauli string 177: ZXXXXI\n",
      "Processed Pauli string 178: IYXYXI\n",
      "Processed Pauli string 179: YXIIYI\n"
     ]
    },
    {
     "name": "stdout",
     "output_type": "stream",
     "text": [
      "Processed Pauli string 180: XYZIYI\n",
      "Processed Pauli string 181: YYZIXI\n",
      "Processed Pauli string 182: XXIIXI\n",
      "Processed Pauli string 183: YIIIYI\n",
      "Processed Pauli string 184: YZIIYI\n",
      "Processed Pauli string 185: XZIIXI\n",
      "Processed Pauli string 186: XIIIXI\n"
     ]
    },
    {
     "name": "stdout",
     "output_type": "stream",
     "text": [
      "Processed Pauli string 187: IZZIXZ\n",
      "Processed Pauli string 188: ZZIIXI\n",
      "Processed Pauli string 189: XYYZII\n",
      "Processed Pauli string 190: YYXIII\n",
      "Processed Pauli string 191: ZZIIXZ\n",
      "Processed Pauli string 192: IZZIXI\n"
     ]
    },
    {
     "name": "stdout",
     "output_type": "stream",
     "text": [
      "Processed Pauli string 193: YYXZII\n",
      "Processed Pauli string 194: XYYIII\n",
      "Processed Pauli string 195: YYZIZZ\n",
      "Processed Pauli string 196: XXIIZZ\n",
      "Processed Pauli string 197: XXZIII\n",
      "Processed Pauli string 198: YYIIII\n"
     ]
    },
    {
     "name": "stdout",
     "output_type": "stream",
     "text": [
      "Processed Pauli string 199: XZIIZZ\n",
      "Processed Pauli string 200: XIIIZZ\n",
      "Processed Pauli string 201: XIZIII\n",
      "Processed Pauli string 202: XZZIII\n",
      "Processed Pauli string 203: ZZYZYI\n",
      "Processed Pauli string 204: ZIYIYI\n"
     ]
    },
    {
     "name": "stdout",
     "output_type": "stream",
     "text": [
      "Processed Pauli string 205: ZIXZXI\n",
      "Processed Pauli string 206: ZZXIXI\n",
      "Processed Pauli string 207: IYXZYI\n",
      "Processed Pauli string 208: ZXYIYI\n",
      "Processed Pauli string 209: ZXXZXI\n",
      "Processed Pauli string 210: IYYIXI\n"
     ]
    },
    {
     "name": "stdout",
     "output_type": "stream",
     "text": [
      "Processed Pauli string 211: ZIIXZX\n",
      "Processed Pauli string 212: ZIZXZX\n",
      "Processed Pauli string 213: IIZXIX\n",
      "Processed Pauli string 214: IIIXIX\n",
      "Processed Pauli string 215: ZIZIIX\n",
      "Processed Pauli string 216: IIIIZX\n",
      "Processed Pauli string 217: ZIZXII\n"
     ]
    },
    {
     "name": "stdout",
     "output_type": "stream",
     "text": [
      "Processed Pauli string 218: ZIIXII\n",
      "Processed Pauli string 219: ZIIZZX\n",
      "Processed Pauli string 220: IIZZIX\n",
      "Processed Pauli string 221: ZIIXZZ\n",
      "Processed Pauli string 222: ZIZXZZ\n",
      "Processed Pauli string 223: YXYZZX\n"
     ]
    },
    {
     "name": "stdout",
     "output_type": "stream",
     "text": [
      "Processed Pauli string 224: XXXIZX\n",
      "Processed Pauli string 225: XXXZIX\n",
      "Processed Pauli string 226: YXYIIX\n",
      "Processed Pauli string 227: IIZXXZ\n",
      "Processed Pauli string 228: IIIXXZ\n",
      "Processed Pauli string 229: ZIIXXI\n",
      "Processed Pauli string 230: ZIZXXI\n",
      "All circuits generated and saved.\n"
     ]
    }
   ],
   "source": [
    "# Extract opt_params\n",
    "opt_params = vqe_res['x']\n",
    "\n",
    "# Set l\n",
    "l = 12\n",
    "\n",
    "# Create the main folder if it doesn't exist\n",
    "if not os.path.exists('circuits'):\n",
    "    os.makedirs('circuits')\n",
    "\n",
    "# Traverse the Pauli strings\n",
    "for i, (pauli_string, coeff) in enumerate(sorted_pauli_list):\n",
    "    # Create a folder for this Pauli string\n",
    "    folder_path = os.path.join('circuits', str(i))\n",
    "    if not os.path.exists(folder_path):\n",
    "        os.makedirs(folder_path)\n",
    "    \n",
    "    # Construct A\n",
    "    A = construct_A(l, opt_params, pauli_string)\n",
    "\n",
    "    # Construct Q\n",
    "    Q = construct_Q(A)\n",
    "\n",
    "    # Save A\n",
    "    with open(os.path.join(folder_path, 'circuit_A.qpy'), 'wb') as f:\n",
    "        qpy_dump(A, f)\n",
    "    \n",
    "    # Save Q\n",
    "    with open(os.path.join(folder_path, 'circuit_Q.qpy'), 'wb') as f:\n",
    "        qpy_dump(Q, f)\n",
    "    \n",
    "    print(f\"Processed Pauli string {i}: {pauli_string}\")\n",
    "    \n",
    "print(\"All circuits generated and saved.\")"
   ]
  },
  {
   "cell_type": "markdown",
   "id": "5ec2e688",
   "metadata": {
    "papermill": {
     "duration": 0.004002,
     "end_time": "2025-01-23T06:17:00.781338",
     "exception": false,
     "start_time": "2025-01-23T06:17:00.777336",
     "status": "completed"
    },
    "tags": []
   },
   "source": [
    "### 2 Transpilation"
   ]
  },
  {
   "cell_type": "code",
   "execution_count": 4,
   "id": "15bb456c",
   "metadata": {
    "execution": {
     "iopub.execute_input": "2025-01-23T06:17:00.790848Z",
     "iopub.status.busy": "2025-01-23T06:17:00.789847Z",
     "iopub.status.idle": "2025-01-23T06:18:26.651237Z",
     "shell.execute_reply": "2025-01-23T06:18:26.651237Z"
    },
    "papermill": {
     "duration": 85.8679,
     "end_time": "2025-01-23T06:18:26.653236",
     "exception": false,
     "start_time": "2025-01-23T06:17:00.785336",
     "status": "completed"
    },
    "tags": []
   },
   "outputs": [
    {
     "name": "stdout",
     "output_type": "stream",
     "text": [
      "Transpiled and saved: circuits\\0\\transpiled_circuit_A.qpy\n"
     ]
    },
    {
     "name": "stdout",
     "output_type": "stream",
     "text": [
      "Transpiled and saved: circuits\\0\\transpiled_circuit_Q.qpy\n",
      "Transpiled and saved: circuits\\1\\transpiled_circuit_A.qpy\n"
     ]
    },
    {
     "name": "stdout",
     "output_type": "stream",
     "text": [
      "Transpiled and saved: circuits\\1\\transpiled_circuit_Q.qpy\n",
      "Transpiled and saved: circuits\\10\\transpiled_circuit_A.qpy\n"
     ]
    },
    {
     "name": "stdout",
     "output_type": "stream",
     "text": [
      "Transpiled and saved: circuits\\10\\transpiled_circuit_Q.qpy\n",
      "Transpiled and saved: circuits\\100\\transpiled_circuit_A.qpy\n"
     ]
    },
    {
     "name": "stdout",
     "output_type": "stream",
     "text": [
      "Transpiled and saved: circuits\\100\\transpiled_circuit_Q.qpy\n",
      "Transpiled and saved: circuits\\101\\transpiled_circuit_A.qpy\n"
     ]
    },
    {
     "name": "stdout",
     "output_type": "stream",
     "text": [
      "Transpiled and saved: circuits\\101\\transpiled_circuit_Q.qpy\n",
      "Transpiled and saved: circuits\\102\\transpiled_circuit_A.qpy\n"
     ]
    },
    {
     "name": "stdout",
     "output_type": "stream",
     "text": [
      "Transpiled and saved: circuits\\102\\transpiled_circuit_Q.qpy\n",
      "Transpiled and saved: circuits\\103\\transpiled_circuit_A.qpy\n"
     ]
    },
    {
     "name": "stdout",
     "output_type": "stream",
     "text": [
      "Transpiled and saved: circuits\\103\\transpiled_circuit_Q.qpy\n",
      "Transpiled and saved: circuits\\104\\transpiled_circuit_A.qpy\n"
     ]
    },
    {
     "name": "stdout",
     "output_type": "stream",
     "text": [
      "Transpiled and saved: circuits\\104\\transpiled_circuit_Q.qpy\n",
      "Transpiled and saved: circuits\\105\\transpiled_circuit_A.qpy\n"
     ]
    },
    {
     "name": "stdout",
     "output_type": "stream",
     "text": [
      "Transpiled and saved: circuits\\105\\transpiled_circuit_Q.qpy\n",
      "Transpiled and saved: circuits\\106\\transpiled_circuit_A.qpy\n"
     ]
    },
    {
     "name": "stdout",
     "output_type": "stream",
     "text": [
      "Transpiled and saved: circuits\\106\\transpiled_circuit_Q.qpy\n",
      "Transpiled and saved: circuits\\107\\transpiled_circuit_A.qpy\n"
     ]
    },
    {
     "name": "stdout",
     "output_type": "stream",
     "text": [
      "Transpiled and saved: circuits\\107\\transpiled_circuit_Q.qpy\n",
      "Transpiled and saved: circuits\\108\\transpiled_circuit_A.qpy\n"
     ]
    },
    {
     "name": "stdout",
     "output_type": "stream",
     "text": [
      "Transpiled and saved: circuits\\108\\transpiled_circuit_Q.qpy\n",
      "Transpiled and saved: circuits\\109\\transpiled_circuit_A.qpy\n"
     ]
    },
    {
     "name": "stdout",
     "output_type": "stream",
     "text": [
      "Transpiled and saved: circuits\\109\\transpiled_circuit_Q.qpy\n",
      "Transpiled and saved: circuits\\11\\transpiled_circuit_A.qpy\n"
     ]
    },
    {
     "name": "stdout",
     "output_type": "stream",
     "text": [
      "Transpiled and saved: circuits\\11\\transpiled_circuit_Q.qpy\n",
      "Transpiled and saved: circuits\\110\\transpiled_circuit_A.qpy\n"
     ]
    },
    {
     "name": "stdout",
     "output_type": "stream",
     "text": [
      "Transpiled and saved: circuits\\110\\transpiled_circuit_Q.qpy\n",
      "Transpiled and saved: circuits\\111\\transpiled_circuit_A.qpy\n"
     ]
    },
    {
     "name": "stdout",
     "output_type": "stream",
     "text": [
      "Transpiled and saved: circuits\\111\\transpiled_circuit_Q.qpy\n",
      "Transpiled and saved: circuits\\112\\transpiled_circuit_A.qpy\n"
     ]
    },
    {
     "name": "stdout",
     "output_type": "stream",
     "text": [
      "Transpiled and saved: circuits\\112\\transpiled_circuit_Q.qpy\n",
      "Transpiled and saved: circuits\\113\\transpiled_circuit_A.qpy\n"
     ]
    },
    {
     "name": "stdout",
     "output_type": "stream",
     "text": [
      "Transpiled and saved: circuits\\113\\transpiled_circuit_Q.qpy\n",
      "Transpiled and saved: circuits\\114\\transpiled_circuit_A.qpy\n"
     ]
    },
    {
     "name": "stdout",
     "output_type": "stream",
     "text": [
      "Transpiled and saved: circuits\\114\\transpiled_circuit_Q.qpy\n",
      "Transpiled and saved: circuits\\115\\transpiled_circuit_A.qpy\n"
     ]
    },
    {
     "name": "stdout",
     "output_type": "stream",
     "text": [
      "Transpiled and saved: circuits\\115\\transpiled_circuit_Q.qpy\n",
      "Transpiled and saved: circuits\\116\\transpiled_circuit_A.qpy\n"
     ]
    },
    {
     "name": "stdout",
     "output_type": "stream",
     "text": [
      "Transpiled and saved: circuits\\116\\transpiled_circuit_Q.qpy\n",
      "Transpiled and saved: circuits\\117\\transpiled_circuit_A.qpy\n"
     ]
    },
    {
     "name": "stdout",
     "output_type": "stream",
     "text": [
      "Transpiled and saved: circuits\\117\\transpiled_circuit_Q.qpy\n",
      "Transpiled and saved: circuits\\118\\transpiled_circuit_A.qpy\n"
     ]
    },
    {
     "name": "stdout",
     "output_type": "stream",
     "text": [
      "Transpiled and saved: circuits\\118\\transpiled_circuit_Q.qpy\n",
      "Transpiled and saved: circuits\\119\\transpiled_circuit_A.qpy\n"
     ]
    },
    {
     "name": "stdout",
     "output_type": "stream",
     "text": [
      "Transpiled and saved: circuits\\119\\transpiled_circuit_Q.qpy\n",
      "Transpiled and saved: circuits\\12\\transpiled_circuit_A.qpy\n"
     ]
    },
    {
     "name": "stdout",
     "output_type": "stream",
     "text": [
      "Transpiled and saved: circuits\\12\\transpiled_circuit_Q.qpy\n",
      "Transpiled and saved: circuits\\120\\transpiled_circuit_A.qpy\n"
     ]
    },
    {
     "name": "stdout",
     "output_type": "stream",
     "text": [
      "Transpiled and saved: circuits\\120\\transpiled_circuit_Q.qpy\n",
      "Transpiled and saved: circuits\\121\\transpiled_circuit_A.qpy\n"
     ]
    },
    {
     "name": "stdout",
     "output_type": "stream",
     "text": [
      "Transpiled and saved: circuits\\121\\transpiled_circuit_Q.qpy\n",
      "Transpiled and saved: circuits\\122\\transpiled_circuit_A.qpy\n"
     ]
    },
    {
     "name": "stdout",
     "output_type": "stream",
     "text": [
      "Transpiled and saved: circuits\\122\\transpiled_circuit_Q.qpy\n",
      "Transpiled and saved: circuits\\123\\transpiled_circuit_A.qpy\n"
     ]
    },
    {
     "name": "stdout",
     "output_type": "stream",
     "text": [
      "Transpiled and saved: circuits\\123\\transpiled_circuit_Q.qpy\n",
      "Transpiled and saved: circuits\\124\\transpiled_circuit_A.qpy\n"
     ]
    },
    {
     "name": "stdout",
     "output_type": "stream",
     "text": [
      "Transpiled and saved: circuits\\124\\transpiled_circuit_Q.qpy\n"
     ]
    },
    {
     "name": "stdout",
     "output_type": "stream",
     "text": [
      "Transpiled and saved: circuits\\125\\transpiled_circuit_A.qpy\n"
     ]
    },
    {
     "name": "stdout",
     "output_type": "stream",
     "text": [
      "Transpiled and saved: circuits\\125\\transpiled_circuit_Q.qpy\n",
      "Transpiled and saved: circuits\\126\\transpiled_circuit_A.qpy\n"
     ]
    },
    {
     "name": "stdout",
     "output_type": "stream",
     "text": [
      "Transpiled and saved: circuits\\126\\transpiled_circuit_Q.qpy\n",
      "Transpiled and saved: circuits\\127\\transpiled_circuit_A.qpy\n"
     ]
    },
    {
     "name": "stdout",
     "output_type": "stream",
     "text": [
      "Transpiled and saved: circuits\\127\\transpiled_circuit_Q.qpy\n",
      "Transpiled and saved: circuits\\128\\transpiled_circuit_A.qpy\n"
     ]
    },
    {
     "name": "stdout",
     "output_type": "stream",
     "text": [
      "Transpiled and saved: circuits\\128\\transpiled_circuit_Q.qpy\n",
      "Transpiled and saved: circuits\\129\\transpiled_circuit_A.qpy\n"
     ]
    },
    {
     "name": "stdout",
     "output_type": "stream",
     "text": [
      "Transpiled and saved: circuits\\129\\transpiled_circuit_Q.qpy\n",
      "Transpiled and saved: circuits\\13\\transpiled_circuit_A.qpy\n"
     ]
    },
    {
     "name": "stdout",
     "output_type": "stream",
     "text": [
      "Transpiled and saved: circuits\\13\\transpiled_circuit_Q.qpy\n",
      "Transpiled and saved: circuits\\130\\transpiled_circuit_A.qpy\n"
     ]
    },
    {
     "name": "stdout",
     "output_type": "stream",
     "text": [
      "Transpiled and saved: circuits\\130\\transpiled_circuit_Q.qpy\n",
      "Transpiled and saved: circuits\\131\\transpiled_circuit_A.qpy\n"
     ]
    },
    {
     "name": "stdout",
     "output_type": "stream",
     "text": [
      "Transpiled and saved: circuits\\131\\transpiled_circuit_Q.qpy\n",
      "Transpiled and saved: circuits\\132\\transpiled_circuit_A.qpy\n"
     ]
    },
    {
     "name": "stdout",
     "output_type": "stream",
     "text": [
      "Transpiled and saved: circuits\\132\\transpiled_circuit_Q.qpy\n",
      "Transpiled and saved: circuits\\133\\transpiled_circuit_A.qpy\n"
     ]
    },
    {
     "name": "stdout",
     "output_type": "stream",
     "text": [
      "Transpiled and saved: circuits\\133\\transpiled_circuit_Q.qpy\n",
      "Transpiled and saved: circuits\\134\\transpiled_circuit_A.qpy\n"
     ]
    },
    {
     "name": "stdout",
     "output_type": "stream",
     "text": [
      "Transpiled and saved: circuits\\134\\transpiled_circuit_Q.qpy\n",
      "Transpiled and saved: circuits\\135\\transpiled_circuit_A.qpy\n"
     ]
    },
    {
     "name": "stdout",
     "output_type": "stream",
     "text": [
      "Transpiled and saved: circuits\\135\\transpiled_circuit_Q.qpy\n",
      "Transpiled and saved: circuits\\136\\transpiled_circuit_A.qpy\n"
     ]
    },
    {
     "name": "stdout",
     "output_type": "stream",
     "text": [
      "Transpiled and saved: circuits\\136\\transpiled_circuit_Q.qpy\n",
      "Transpiled and saved: circuits\\137\\transpiled_circuit_A.qpy\n"
     ]
    },
    {
     "name": "stdout",
     "output_type": "stream",
     "text": [
      "Transpiled and saved: circuits\\137\\transpiled_circuit_Q.qpy\n",
      "Transpiled and saved: circuits\\138\\transpiled_circuit_A.qpy\n"
     ]
    },
    {
     "name": "stdout",
     "output_type": "stream",
     "text": [
      "Transpiled and saved: circuits\\138\\transpiled_circuit_Q.qpy\n",
      "Transpiled and saved: circuits\\139\\transpiled_circuit_A.qpy\n"
     ]
    },
    {
     "name": "stdout",
     "output_type": "stream",
     "text": [
      "Transpiled and saved: circuits\\139\\transpiled_circuit_Q.qpy\n",
      "Transpiled and saved: circuits\\14\\transpiled_circuit_A.qpy\n"
     ]
    },
    {
     "name": "stdout",
     "output_type": "stream",
     "text": [
      "Transpiled and saved: circuits\\14\\transpiled_circuit_Q.qpy\n",
      "Transpiled and saved: circuits\\140\\transpiled_circuit_A.qpy\n"
     ]
    },
    {
     "name": "stdout",
     "output_type": "stream",
     "text": [
      "Transpiled and saved: circuits\\140\\transpiled_circuit_Q.qpy\n",
      "Transpiled and saved: circuits\\141\\transpiled_circuit_A.qpy\n"
     ]
    },
    {
     "name": "stdout",
     "output_type": "stream",
     "text": [
      "Transpiled and saved: circuits\\141\\transpiled_circuit_Q.qpy\n",
      "Transpiled and saved: circuits\\142\\transpiled_circuit_A.qpy\n"
     ]
    },
    {
     "name": "stdout",
     "output_type": "stream",
     "text": [
      "Transpiled and saved: circuits\\142\\transpiled_circuit_Q.qpy\n",
      "Transpiled and saved: circuits\\143\\transpiled_circuit_A.qpy\n"
     ]
    },
    {
     "name": "stdout",
     "output_type": "stream",
     "text": [
      "Transpiled and saved: circuits\\143\\transpiled_circuit_Q.qpy\n",
      "Transpiled and saved: circuits\\144\\transpiled_circuit_A.qpy\n"
     ]
    },
    {
     "name": "stdout",
     "output_type": "stream",
     "text": [
      "Transpiled and saved: circuits\\144\\transpiled_circuit_Q.qpy\n",
      "Transpiled and saved: circuits\\145\\transpiled_circuit_A.qpy\n"
     ]
    },
    {
     "name": "stdout",
     "output_type": "stream",
     "text": [
      "Transpiled and saved: circuits\\145\\transpiled_circuit_Q.qpy\n",
      "Transpiled and saved: circuits\\146\\transpiled_circuit_A.qpy\n"
     ]
    },
    {
     "name": "stdout",
     "output_type": "stream",
     "text": [
      "Transpiled and saved: circuits\\146\\transpiled_circuit_Q.qpy\n",
      "Transpiled and saved: circuits\\147\\transpiled_circuit_A.qpy\n"
     ]
    },
    {
     "name": "stdout",
     "output_type": "stream",
     "text": [
      "Transpiled and saved: circuits\\147\\transpiled_circuit_Q.qpy\n",
      "Transpiled and saved: circuits\\148\\transpiled_circuit_A.qpy\n"
     ]
    },
    {
     "name": "stdout",
     "output_type": "stream",
     "text": [
      "Transpiled and saved: circuits\\148\\transpiled_circuit_Q.qpy\n",
      "Transpiled and saved: circuits\\149\\transpiled_circuit_A.qpy\n"
     ]
    },
    {
     "name": "stdout",
     "output_type": "stream",
     "text": [
      "Transpiled and saved: circuits\\149\\transpiled_circuit_Q.qpy\n",
      "Transpiled and saved: circuits\\15\\transpiled_circuit_A.qpy\n"
     ]
    },
    {
     "name": "stdout",
     "output_type": "stream",
     "text": [
      "Transpiled and saved: circuits\\15\\transpiled_circuit_Q.qpy\n",
      "Transpiled and saved: circuits\\150\\transpiled_circuit_A.qpy\n"
     ]
    },
    {
     "name": "stdout",
     "output_type": "stream",
     "text": [
      "Transpiled and saved: circuits\\150\\transpiled_circuit_Q.qpy\n",
      "Transpiled and saved: circuits\\151\\transpiled_circuit_A.qpy\n"
     ]
    },
    {
     "name": "stdout",
     "output_type": "stream",
     "text": [
      "Transpiled and saved: circuits\\151\\transpiled_circuit_Q.qpy\n",
      "Transpiled and saved: circuits\\152\\transpiled_circuit_A.qpy\n"
     ]
    },
    {
     "name": "stdout",
     "output_type": "stream",
     "text": [
      "Transpiled and saved: circuits\\152\\transpiled_circuit_Q.qpy\n",
      "Transpiled and saved: circuits\\153\\transpiled_circuit_A.qpy\n"
     ]
    },
    {
     "name": "stdout",
     "output_type": "stream",
     "text": [
      "Transpiled and saved: circuits\\153\\transpiled_circuit_Q.qpy\n",
      "Transpiled and saved: circuits\\154\\transpiled_circuit_A.qpy\n"
     ]
    },
    {
     "name": "stdout",
     "output_type": "stream",
     "text": [
      "Transpiled and saved: circuits\\154\\transpiled_circuit_Q.qpy\n",
      "Transpiled and saved: circuits\\155\\transpiled_circuit_A.qpy\n"
     ]
    },
    {
     "name": "stdout",
     "output_type": "stream",
     "text": [
      "Transpiled and saved: circuits\\155\\transpiled_circuit_Q.qpy\n",
      "Transpiled and saved: circuits\\156\\transpiled_circuit_A.qpy\n"
     ]
    },
    {
     "name": "stdout",
     "output_type": "stream",
     "text": [
      "Transpiled and saved: circuits\\156\\transpiled_circuit_Q.qpy\n",
      "Transpiled and saved: circuits\\157\\transpiled_circuit_A.qpy\n"
     ]
    },
    {
     "name": "stdout",
     "output_type": "stream",
     "text": [
      "Transpiled and saved: circuits\\157\\transpiled_circuit_Q.qpy\n",
      "Transpiled and saved: circuits\\158\\transpiled_circuit_A.qpy\n"
     ]
    },
    {
     "name": "stdout",
     "output_type": "stream",
     "text": [
      "Transpiled and saved: circuits\\158\\transpiled_circuit_Q.qpy\n",
      "Transpiled and saved: circuits\\159\\transpiled_circuit_A.qpy\n"
     ]
    },
    {
     "name": "stdout",
     "output_type": "stream",
     "text": [
      "Transpiled and saved: circuits\\159\\transpiled_circuit_Q.qpy\n",
      "Transpiled and saved: circuits\\16\\transpiled_circuit_A.qpy\n"
     ]
    },
    {
     "name": "stdout",
     "output_type": "stream",
     "text": [
      "Transpiled and saved: circuits\\16\\transpiled_circuit_Q.qpy\n",
      "Transpiled and saved: circuits\\160\\transpiled_circuit_A.qpy\n"
     ]
    },
    {
     "name": "stdout",
     "output_type": "stream",
     "text": [
      "Transpiled and saved: circuits\\160\\transpiled_circuit_Q.qpy\n",
      "Transpiled and saved: circuits\\161\\transpiled_circuit_A.qpy\n"
     ]
    },
    {
     "name": "stdout",
     "output_type": "stream",
     "text": [
      "Transpiled and saved: circuits\\161\\transpiled_circuit_Q.qpy\n",
      "Transpiled and saved: circuits\\162\\transpiled_circuit_A.qpy\n"
     ]
    },
    {
     "name": "stdout",
     "output_type": "stream",
     "text": [
      "Transpiled and saved: circuits\\162\\transpiled_circuit_Q.qpy\n",
      "Transpiled and saved: circuits\\163\\transpiled_circuit_A.qpy\n"
     ]
    },
    {
     "name": "stdout",
     "output_type": "stream",
     "text": [
      "Transpiled and saved: circuits\\163\\transpiled_circuit_Q.qpy\n",
      "Transpiled and saved: circuits\\164\\transpiled_circuit_A.qpy\n"
     ]
    },
    {
     "name": "stdout",
     "output_type": "stream",
     "text": [
      "Transpiled and saved: circuits\\164\\transpiled_circuit_Q.qpy\n",
      "Transpiled and saved: circuits\\165\\transpiled_circuit_A.qpy\n"
     ]
    },
    {
     "name": "stdout",
     "output_type": "stream",
     "text": [
      "Transpiled and saved: circuits\\165\\transpiled_circuit_Q.qpy\n",
      "Transpiled and saved: circuits\\166\\transpiled_circuit_A.qpy\n"
     ]
    },
    {
     "name": "stdout",
     "output_type": "stream",
     "text": [
      "Transpiled and saved: circuits\\166\\transpiled_circuit_Q.qpy\n",
      "Transpiled and saved: circuits\\167\\transpiled_circuit_A.qpy\n"
     ]
    },
    {
     "name": "stdout",
     "output_type": "stream",
     "text": [
      "Transpiled and saved: circuits\\167\\transpiled_circuit_Q.qpy\n",
      "Transpiled and saved: circuits\\168\\transpiled_circuit_A.qpy\n"
     ]
    },
    {
     "name": "stdout",
     "output_type": "stream",
     "text": [
      "Transpiled and saved: circuits\\168\\transpiled_circuit_Q.qpy\n",
      "Transpiled and saved: circuits\\169\\transpiled_circuit_A.qpy\n"
     ]
    },
    {
     "name": "stdout",
     "output_type": "stream",
     "text": [
      "Transpiled and saved: circuits\\169\\transpiled_circuit_Q.qpy\n",
      "Transpiled and saved: circuits\\17\\transpiled_circuit_A.qpy\n"
     ]
    },
    {
     "name": "stdout",
     "output_type": "stream",
     "text": [
      "Transpiled and saved: circuits\\17\\transpiled_circuit_Q.qpy\n",
      "Transpiled and saved: circuits\\170\\transpiled_circuit_A.qpy\n"
     ]
    },
    {
     "name": "stdout",
     "output_type": "stream",
     "text": [
      "Transpiled and saved: circuits\\170\\transpiled_circuit_Q.qpy\n",
      "Transpiled and saved: circuits\\171\\transpiled_circuit_A.qpy\n"
     ]
    },
    {
     "name": "stdout",
     "output_type": "stream",
     "text": [
      "Transpiled and saved: circuits\\171\\transpiled_circuit_Q.qpy\n",
      "Transpiled and saved: circuits\\172\\transpiled_circuit_A.qpy\n"
     ]
    },
    {
     "name": "stdout",
     "output_type": "stream",
     "text": [
      "Transpiled and saved: circuits\\172\\transpiled_circuit_Q.qpy\n",
      "Transpiled and saved: circuits\\173\\transpiled_circuit_A.qpy\n"
     ]
    },
    {
     "name": "stdout",
     "output_type": "stream",
     "text": [
      "Transpiled and saved: circuits\\173\\transpiled_circuit_Q.qpy\n",
      "Transpiled and saved: circuits\\174\\transpiled_circuit_A.qpy\n"
     ]
    },
    {
     "name": "stdout",
     "output_type": "stream",
     "text": [
      "Transpiled and saved: circuits\\174\\transpiled_circuit_Q.qpy\n",
      "Transpiled and saved: circuits\\175\\transpiled_circuit_A.qpy\n"
     ]
    },
    {
     "name": "stdout",
     "output_type": "stream",
     "text": [
      "Transpiled and saved: circuits\\175\\transpiled_circuit_Q.qpy\n",
      "Transpiled and saved: circuits\\176\\transpiled_circuit_A.qpy\n"
     ]
    },
    {
     "name": "stdout",
     "output_type": "stream",
     "text": [
      "Transpiled and saved: circuits\\176\\transpiled_circuit_Q.qpy\n",
      "Transpiled and saved: circuits\\177\\transpiled_circuit_A.qpy\n"
     ]
    },
    {
     "name": "stdout",
     "output_type": "stream",
     "text": [
      "Transpiled and saved: circuits\\177\\transpiled_circuit_Q.qpy\n",
      "Transpiled and saved: circuits\\178\\transpiled_circuit_A.qpy\n"
     ]
    },
    {
     "name": "stdout",
     "output_type": "stream",
     "text": [
      "Transpiled and saved: circuits\\178\\transpiled_circuit_Q.qpy\n",
      "Transpiled and saved: circuits\\179\\transpiled_circuit_A.qpy\n"
     ]
    },
    {
     "name": "stdout",
     "output_type": "stream",
     "text": [
      "Transpiled and saved: circuits\\179\\transpiled_circuit_Q.qpy\n",
      "Transpiled and saved: circuits\\18\\transpiled_circuit_A.qpy\n"
     ]
    },
    {
     "name": "stdout",
     "output_type": "stream",
     "text": [
      "Transpiled and saved: circuits\\18\\transpiled_circuit_Q.qpy\n",
      "Transpiled and saved: circuits\\180\\transpiled_circuit_A.qpy\n"
     ]
    },
    {
     "name": "stdout",
     "output_type": "stream",
     "text": [
      "Transpiled and saved: circuits\\180\\transpiled_circuit_Q.qpy\n",
      "Transpiled and saved: circuits\\181\\transpiled_circuit_A.qpy\n"
     ]
    },
    {
     "name": "stdout",
     "output_type": "stream",
     "text": [
      "Transpiled and saved: circuits\\181\\transpiled_circuit_Q.qpy\n",
      "Transpiled and saved: circuits\\182\\transpiled_circuit_A.qpy\n"
     ]
    },
    {
     "name": "stdout",
     "output_type": "stream",
     "text": [
      "Transpiled and saved: circuits\\182\\transpiled_circuit_Q.qpy\n",
      "Transpiled and saved: circuits\\183\\transpiled_circuit_A.qpy\n"
     ]
    },
    {
     "name": "stdout",
     "output_type": "stream",
     "text": [
      "Transpiled and saved: circuits\\183\\transpiled_circuit_Q.qpy\n",
      "Transpiled and saved: circuits\\184\\transpiled_circuit_A.qpy\n"
     ]
    },
    {
     "name": "stdout",
     "output_type": "stream",
     "text": [
      "Transpiled and saved: circuits\\184\\transpiled_circuit_Q.qpy\n",
      "Transpiled and saved: circuits\\185\\transpiled_circuit_A.qpy\n"
     ]
    },
    {
     "name": "stdout",
     "output_type": "stream",
     "text": [
      "Transpiled and saved: circuits\\185\\transpiled_circuit_Q.qpy\n",
      "Transpiled and saved: circuits\\186\\transpiled_circuit_A.qpy\n"
     ]
    },
    {
     "name": "stdout",
     "output_type": "stream",
     "text": [
      "Transpiled and saved: circuits\\186\\transpiled_circuit_Q.qpy\n",
      "Transpiled and saved: circuits\\187\\transpiled_circuit_A.qpy\n"
     ]
    },
    {
     "name": "stdout",
     "output_type": "stream",
     "text": [
      "Transpiled and saved: circuits\\187\\transpiled_circuit_Q.qpy\n",
      "Transpiled and saved: circuits\\188\\transpiled_circuit_A.qpy\n"
     ]
    },
    {
     "name": "stdout",
     "output_type": "stream",
     "text": [
      "Transpiled and saved: circuits\\188\\transpiled_circuit_Q.qpy\n",
      "Transpiled and saved: circuits\\189\\transpiled_circuit_A.qpy\n"
     ]
    },
    {
     "name": "stdout",
     "output_type": "stream",
     "text": [
      "Transpiled and saved: circuits\\189\\transpiled_circuit_Q.qpy\n",
      "Transpiled and saved: circuits\\19\\transpiled_circuit_A.qpy\n"
     ]
    },
    {
     "name": "stdout",
     "output_type": "stream",
     "text": [
      "Transpiled and saved: circuits\\19\\transpiled_circuit_Q.qpy\n",
      "Transpiled and saved: circuits\\190\\transpiled_circuit_A.qpy\n"
     ]
    },
    {
     "name": "stdout",
     "output_type": "stream",
     "text": [
      "Transpiled and saved: circuits\\190\\transpiled_circuit_Q.qpy\n",
      "Transpiled and saved: circuits\\191\\transpiled_circuit_A.qpy\n"
     ]
    },
    {
     "name": "stdout",
     "output_type": "stream",
     "text": [
      "Transpiled and saved: circuits\\191\\transpiled_circuit_Q.qpy\n",
      "Transpiled and saved: circuits\\192\\transpiled_circuit_A.qpy\n"
     ]
    },
    {
     "name": "stdout",
     "output_type": "stream",
     "text": [
      "Transpiled and saved: circuits\\192\\transpiled_circuit_Q.qpy\n",
      "Transpiled and saved: circuits\\193\\transpiled_circuit_A.qpy\n"
     ]
    },
    {
     "name": "stdout",
     "output_type": "stream",
     "text": [
      "Transpiled and saved: circuits\\193\\transpiled_circuit_Q.qpy\n",
      "Transpiled and saved: circuits\\194\\transpiled_circuit_A.qpy\n"
     ]
    },
    {
     "name": "stdout",
     "output_type": "stream",
     "text": [
      "Transpiled and saved: circuits\\194\\transpiled_circuit_Q.qpy\n",
      "Transpiled and saved: circuits\\195\\transpiled_circuit_A.qpy\n"
     ]
    },
    {
     "name": "stdout",
     "output_type": "stream",
     "text": [
      "Transpiled and saved: circuits\\195\\transpiled_circuit_Q.qpy\n",
      "Transpiled and saved: circuits\\196\\transpiled_circuit_A.qpy\n"
     ]
    },
    {
     "name": "stdout",
     "output_type": "stream",
     "text": [
      "Transpiled and saved: circuits\\196\\transpiled_circuit_Q.qpy\n",
      "Transpiled and saved: circuits\\197\\transpiled_circuit_A.qpy\n"
     ]
    },
    {
     "name": "stdout",
     "output_type": "stream",
     "text": [
      "Transpiled and saved: circuits\\197\\transpiled_circuit_Q.qpy\n",
      "Transpiled and saved: circuits\\198\\transpiled_circuit_A.qpy\n"
     ]
    },
    {
     "name": "stdout",
     "output_type": "stream",
     "text": [
      "Transpiled and saved: circuits\\198\\transpiled_circuit_Q.qpy\n",
      "Transpiled and saved: circuits\\199\\transpiled_circuit_A.qpy\n"
     ]
    },
    {
     "name": "stdout",
     "output_type": "stream",
     "text": [
      "Transpiled and saved: circuits\\199\\transpiled_circuit_Q.qpy\n",
      "Transpiled and saved: circuits\\2\\transpiled_circuit_A.qpy\n"
     ]
    },
    {
     "name": "stdout",
     "output_type": "stream",
     "text": [
      "Transpiled and saved: circuits\\2\\transpiled_circuit_Q.qpy\n",
      "Transpiled and saved: circuits\\20\\transpiled_circuit_A.qpy\n"
     ]
    },
    {
     "name": "stdout",
     "output_type": "stream",
     "text": [
      "Transpiled and saved: circuits\\20\\transpiled_circuit_Q.qpy\n",
      "Transpiled and saved: circuits\\200\\transpiled_circuit_A.qpy\n"
     ]
    },
    {
     "name": "stdout",
     "output_type": "stream",
     "text": [
      "Transpiled and saved: circuits\\200\\transpiled_circuit_Q.qpy\n",
      "Transpiled and saved: circuits\\201\\transpiled_circuit_A.qpy\n"
     ]
    },
    {
     "name": "stdout",
     "output_type": "stream",
     "text": [
      "Transpiled and saved: circuits\\201\\transpiled_circuit_Q.qpy\n",
      "Transpiled and saved: circuits\\202\\transpiled_circuit_A.qpy\n"
     ]
    },
    {
     "name": "stdout",
     "output_type": "stream",
     "text": [
      "Transpiled and saved: circuits\\202\\transpiled_circuit_Q.qpy\n",
      "Transpiled and saved: circuits\\203\\transpiled_circuit_A.qpy\n"
     ]
    },
    {
     "name": "stdout",
     "output_type": "stream",
     "text": [
      "Transpiled and saved: circuits\\203\\transpiled_circuit_Q.qpy\n",
      "Transpiled and saved: circuits\\204\\transpiled_circuit_A.qpy\n"
     ]
    },
    {
     "name": "stdout",
     "output_type": "stream",
     "text": [
      "Transpiled and saved: circuits\\204\\transpiled_circuit_Q.qpy\n",
      "Transpiled and saved: circuits\\205\\transpiled_circuit_A.qpy\n"
     ]
    },
    {
     "name": "stdout",
     "output_type": "stream",
     "text": [
      "Transpiled and saved: circuits\\205\\transpiled_circuit_Q.qpy\n",
      "Transpiled and saved: circuits\\206\\transpiled_circuit_A.qpy\n"
     ]
    },
    {
     "name": "stdout",
     "output_type": "stream",
     "text": [
      "Transpiled and saved: circuits\\206\\transpiled_circuit_Q.qpy\n",
      "Transpiled and saved: circuits\\207\\transpiled_circuit_A.qpy\n"
     ]
    },
    {
     "name": "stdout",
     "output_type": "stream",
     "text": [
      "Transpiled and saved: circuits\\207\\transpiled_circuit_Q.qpy\n",
      "Transpiled and saved: circuits\\208\\transpiled_circuit_A.qpy\n"
     ]
    },
    {
     "name": "stdout",
     "output_type": "stream",
     "text": [
      "Transpiled and saved: circuits\\208\\transpiled_circuit_Q.qpy\n",
      "Transpiled and saved: circuits\\209\\transpiled_circuit_A.qpy\n"
     ]
    },
    {
     "name": "stdout",
     "output_type": "stream",
     "text": [
      "Transpiled and saved: circuits\\209\\transpiled_circuit_Q.qpy\n",
      "Transpiled and saved: circuits\\21\\transpiled_circuit_A.qpy\n"
     ]
    },
    {
     "name": "stdout",
     "output_type": "stream",
     "text": [
      "Transpiled and saved: circuits\\21\\transpiled_circuit_Q.qpy\n",
      "Transpiled and saved: circuits\\210\\transpiled_circuit_A.qpy\n"
     ]
    },
    {
     "name": "stdout",
     "output_type": "stream",
     "text": [
      "Transpiled and saved: circuits\\210\\transpiled_circuit_Q.qpy\n",
      "Transpiled and saved: circuits\\211\\transpiled_circuit_A.qpy\n"
     ]
    },
    {
     "name": "stdout",
     "output_type": "stream",
     "text": [
      "Transpiled and saved: circuits\\211\\transpiled_circuit_Q.qpy\n",
      "Transpiled and saved: circuits\\212\\transpiled_circuit_A.qpy\n"
     ]
    },
    {
     "name": "stdout",
     "output_type": "stream",
     "text": [
      "Transpiled and saved: circuits\\212\\transpiled_circuit_Q.qpy\n",
      "Transpiled and saved: circuits\\213\\transpiled_circuit_A.qpy\n"
     ]
    },
    {
     "name": "stdout",
     "output_type": "stream",
     "text": [
      "Transpiled and saved: circuits\\213\\transpiled_circuit_Q.qpy\n",
      "Transpiled and saved: circuits\\214\\transpiled_circuit_A.qpy\n"
     ]
    },
    {
     "name": "stdout",
     "output_type": "stream",
     "text": [
      "Transpiled and saved: circuits\\214\\transpiled_circuit_Q.qpy\n",
      "Transpiled and saved: circuits\\215\\transpiled_circuit_A.qpy\n"
     ]
    },
    {
     "name": "stdout",
     "output_type": "stream",
     "text": [
      "Transpiled and saved: circuits\\215\\transpiled_circuit_Q.qpy\n",
      "Transpiled and saved: circuits\\216\\transpiled_circuit_A.qpy\n"
     ]
    },
    {
     "name": "stdout",
     "output_type": "stream",
     "text": [
      "Transpiled and saved: circuits\\216\\transpiled_circuit_Q.qpy\n",
      "Transpiled and saved: circuits\\217\\transpiled_circuit_A.qpy\n"
     ]
    },
    {
     "name": "stdout",
     "output_type": "stream",
     "text": [
      "Transpiled and saved: circuits\\217\\transpiled_circuit_Q.qpy\n",
      "Transpiled and saved: circuits\\218\\transpiled_circuit_A.qpy\n"
     ]
    },
    {
     "name": "stdout",
     "output_type": "stream",
     "text": [
      "Transpiled and saved: circuits\\218\\transpiled_circuit_Q.qpy\n",
      "Transpiled and saved: circuits\\219\\transpiled_circuit_A.qpy\n"
     ]
    },
    {
     "name": "stdout",
     "output_type": "stream",
     "text": [
      "Transpiled and saved: circuits\\219\\transpiled_circuit_Q.qpy\n",
      "Transpiled and saved: circuits\\22\\transpiled_circuit_A.qpy\n"
     ]
    },
    {
     "name": "stdout",
     "output_type": "stream",
     "text": [
      "Transpiled and saved: circuits\\22\\transpiled_circuit_Q.qpy\n",
      "Transpiled and saved: circuits\\220\\transpiled_circuit_A.qpy\n"
     ]
    },
    {
     "name": "stdout",
     "output_type": "stream",
     "text": [
      "Transpiled and saved: circuits\\220\\transpiled_circuit_Q.qpy\n",
      "Transpiled and saved: circuits\\221\\transpiled_circuit_A.qpy\n"
     ]
    },
    {
     "name": "stdout",
     "output_type": "stream",
     "text": [
      "Transpiled and saved: circuits\\221\\transpiled_circuit_Q.qpy\n",
      "Transpiled and saved: circuits\\222\\transpiled_circuit_A.qpy\n"
     ]
    },
    {
     "name": "stdout",
     "output_type": "stream",
     "text": [
      "Transpiled and saved: circuits\\222\\transpiled_circuit_Q.qpy\n",
      "Transpiled and saved: circuits\\223\\transpiled_circuit_A.qpy\n"
     ]
    },
    {
     "name": "stdout",
     "output_type": "stream",
     "text": [
      "Transpiled and saved: circuits\\223\\transpiled_circuit_Q.qpy\n",
      "Transpiled and saved: circuits\\224\\transpiled_circuit_A.qpy\n"
     ]
    },
    {
     "name": "stdout",
     "output_type": "stream",
     "text": [
      "Transpiled and saved: circuits\\224\\transpiled_circuit_Q.qpy\n",
      "Transpiled and saved: circuits\\225\\transpiled_circuit_A.qpy\n"
     ]
    },
    {
     "name": "stdout",
     "output_type": "stream",
     "text": [
      "Transpiled and saved: circuits\\225\\transpiled_circuit_Q.qpy\n",
      "Transpiled and saved: circuits\\226\\transpiled_circuit_A.qpy\n"
     ]
    },
    {
     "name": "stdout",
     "output_type": "stream",
     "text": [
      "Transpiled and saved: circuits\\226\\transpiled_circuit_Q.qpy\n",
      "Transpiled and saved: circuits\\227\\transpiled_circuit_A.qpy\n"
     ]
    },
    {
     "name": "stdout",
     "output_type": "stream",
     "text": [
      "Transpiled and saved: circuits\\227\\transpiled_circuit_Q.qpy\n",
      "Transpiled and saved: circuits\\228\\transpiled_circuit_A.qpy\n"
     ]
    },
    {
     "name": "stdout",
     "output_type": "stream",
     "text": [
      "Transpiled and saved: circuits\\228\\transpiled_circuit_Q.qpy\n",
      "Transpiled and saved: circuits\\229\\transpiled_circuit_A.qpy\n"
     ]
    },
    {
     "name": "stdout",
     "output_type": "stream",
     "text": [
      "Transpiled and saved: circuits\\229\\transpiled_circuit_Q.qpy\n",
      "Transpiled and saved: circuits\\23\\transpiled_circuit_A.qpy\n"
     ]
    },
    {
     "name": "stdout",
     "output_type": "stream",
     "text": [
      "Transpiled and saved: circuits\\23\\transpiled_circuit_Q.qpy\n",
      "Transpiled and saved: circuits\\230\\transpiled_circuit_A.qpy\n"
     ]
    },
    {
     "name": "stdout",
     "output_type": "stream",
     "text": [
      "Transpiled and saved: circuits\\230\\transpiled_circuit_Q.qpy\n",
      "Transpiled and saved: circuits\\24\\transpiled_circuit_A.qpy\n"
     ]
    },
    {
     "name": "stdout",
     "output_type": "stream",
     "text": [
      "Transpiled and saved: circuits\\24\\transpiled_circuit_Q.qpy\n",
      "Transpiled and saved: circuits\\25\\transpiled_circuit_A.qpy\n"
     ]
    },
    {
     "name": "stdout",
     "output_type": "stream",
     "text": [
      "Transpiled and saved: circuits\\25\\transpiled_circuit_Q.qpy\n",
      "Transpiled and saved: circuits\\26\\transpiled_circuit_A.qpy\n"
     ]
    },
    {
     "name": "stdout",
     "output_type": "stream",
     "text": [
      "Transpiled and saved: circuits\\26\\transpiled_circuit_Q.qpy\n",
      "Transpiled and saved: circuits\\27\\transpiled_circuit_A.qpy\n"
     ]
    },
    {
     "name": "stdout",
     "output_type": "stream",
     "text": [
      "Transpiled and saved: circuits\\27\\transpiled_circuit_Q.qpy\n",
      "Transpiled and saved: circuits\\28\\transpiled_circuit_A.qpy\n"
     ]
    },
    {
     "name": "stdout",
     "output_type": "stream",
     "text": [
      "Transpiled and saved: circuits\\28\\transpiled_circuit_Q.qpy\n",
      "Transpiled and saved: circuits\\29\\transpiled_circuit_A.qpy\n"
     ]
    },
    {
     "name": "stdout",
     "output_type": "stream",
     "text": [
      "Transpiled and saved: circuits\\29\\transpiled_circuit_Q.qpy\n",
      "Transpiled and saved: circuits\\3\\transpiled_circuit_A.qpy\n"
     ]
    },
    {
     "name": "stdout",
     "output_type": "stream",
     "text": [
      "Transpiled and saved: circuits\\3\\transpiled_circuit_Q.qpy\n",
      "Transpiled and saved: circuits\\30\\transpiled_circuit_A.qpy\n"
     ]
    },
    {
     "name": "stdout",
     "output_type": "stream",
     "text": [
      "Transpiled and saved: circuits\\30\\transpiled_circuit_Q.qpy\n",
      "Transpiled and saved: circuits\\31\\transpiled_circuit_A.qpy\n"
     ]
    },
    {
     "name": "stdout",
     "output_type": "stream",
     "text": [
      "Transpiled and saved: circuits\\31\\transpiled_circuit_Q.qpy\n",
      "Transpiled and saved: circuits\\32\\transpiled_circuit_A.qpy\n"
     ]
    },
    {
     "name": "stdout",
     "output_type": "stream",
     "text": [
      "Transpiled and saved: circuits\\32\\transpiled_circuit_Q.qpy\n",
      "Transpiled and saved: circuits\\33\\transpiled_circuit_A.qpy\n"
     ]
    },
    {
     "name": "stdout",
     "output_type": "stream",
     "text": [
      "Transpiled and saved: circuits\\33\\transpiled_circuit_Q.qpy\n",
      "Transpiled and saved: circuits\\34\\transpiled_circuit_A.qpy\n"
     ]
    },
    {
     "name": "stdout",
     "output_type": "stream",
     "text": [
      "Transpiled and saved: circuits\\34\\transpiled_circuit_Q.qpy\n",
      "Transpiled and saved: circuits\\35\\transpiled_circuit_A.qpy\n"
     ]
    },
    {
     "name": "stdout",
     "output_type": "stream",
     "text": [
      "Transpiled and saved: circuits\\35\\transpiled_circuit_Q.qpy\n",
      "Transpiled and saved: circuits\\36\\transpiled_circuit_A.qpy\n"
     ]
    },
    {
     "name": "stdout",
     "output_type": "stream",
     "text": [
      "Transpiled and saved: circuits\\36\\transpiled_circuit_Q.qpy\n",
      "Transpiled and saved: circuits\\37\\transpiled_circuit_A.qpy\n"
     ]
    },
    {
     "name": "stdout",
     "output_type": "stream",
     "text": [
      "Transpiled and saved: circuits\\37\\transpiled_circuit_Q.qpy\n",
      "Transpiled and saved: circuits\\38\\transpiled_circuit_A.qpy\n"
     ]
    },
    {
     "name": "stdout",
     "output_type": "stream",
     "text": [
      "Transpiled and saved: circuits\\38\\transpiled_circuit_Q.qpy\n",
      "Transpiled and saved: circuits\\39\\transpiled_circuit_A.qpy\n"
     ]
    },
    {
     "name": "stdout",
     "output_type": "stream",
     "text": [
      "Transpiled and saved: circuits\\39\\transpiled_circuit_Q.qpy\n",
      "Transpiled and saved: circuits\\4\\transpiled_circuit_A.qpy\n"
     ]
    },
    {
     "name": "stdout",
     "output_type": "stream",
     "text": [
      "Transpiled and saved: circuits\\4\\transpiled_circuit_Q.qpy\n",
      "Transpiled and saved: circuits\\40\\transpiled_circuit_A.qpy\n"
     ]
    },
    {
     "name": "stdout",
     "output_type": "stream",
     "text": [
      "Transpiled and saved: circuits\\40\\transpiled_circuit_Q.qpy\n",
      "Transpiled and saved: circuits\\41\\transpiled_circuit_A.qpy\n"
     ]
    },
    {
     "name": "stdout",
     "output_type": "stream",
     "text": [
      "Transpiled and saved: circuits\\41\\transpiled_circuit_Q.qpy\n",
      "Transpiled and saved: circuits\\42\\transpiled_circuit_A.qpy\n"
     ]
    },
    {
     "name": "stdout",
     "output_type": "stream",
     "text": [
      "Transpiled and saved: circuits\\42\\transpiled_circuit_Q.qpy\n",
      "Transpiled and saved: circuits\\43\\transpiled_circuit_A.qpy\n"
     ]
    },
    {
     "name": "stdout",
     "output_type": "stream",
     "text": [
      "Transpiled and saved: circuits\\43\\transpiled_circuit_Q.qpy\n",
      "Transpiled and saved: circuits\\44\\transpiled_circuit_A.qpy\n"
     ]
    },
    {
     "name": "stdout",
     "output_type": "stream",
     "text": [
      "Transpiled and saved: circuits\\44\\transpiled_circuit_Q.qpy\n",
      "Transpiled and saved: circuits\\45\\transpiled_circuit_A.qpy\n"
     ]
    },
    {
     "name": "stdout",
     "output_type": "stream",
     "text": [
      "Transpiled and saved: circuits\\45\\transpiled_circuit_Q.qpy\n",
      "Transpiled and saved: circuits\\46\\transpiled_circuit_A.qpy\n"
     ]
    },
    {
     "name": "stdout",
     "output_type": "stream",
     "text": [
      "Transpiled and saved: circuits\\46\\transpiled_circuit_Q.qpy\n",
      "Transpiled and saved: circuits\\47\\transpiled_circuit_A.qpy\n"
     ]
    },
    {
     "name": "stdout",
     "output_type": "stream",
     "text": [
      "Transpiled and saved: circuits\\47\\transpiled_circuit_Q.qpy\n",
      "Transpiled and saved: circuits\\48\\transpiled_circuit_A.qpy\n"
     ]
    },
    {
     "name": "stdout",
     "output_type": "stream",
     "text": [
      "Transpiled and saved: circuits\\48\\transpiled_circuit_Q.qpy\n",
      "Transpiled and saved: circuits\\49\\transpiled_circuit_A.qpy\n"
     ]
    },
    {
     "name": "stdout",
     "output_type": "stream",
     "text": [
      "Transpiled and saved: circuits\\49\\transpiled_circuit_Q.qpy\n",
      "Transpiled and saved: circuits\\5\\transpiled_circuit_A.qpy\n"
     ]
    },
    {
     "name": "stdout",
     "output_type": "stream",
     "text": [
      "Transpiled and saved: circuits\\5\\transpiled_circuit_Q.qpy\n",
      "Transpiled and saved: circuits\\50\\transpiled_circuit_A.qpy\n"
     ]
    },
    {
     "name": "stdout",
     "output_type": "stream",
     "text": [
      "Transpiled and saved: circuits\\50\\transpiled_circuit_Q.qpy\n",
      "Transpiled and saved: circuits\\51\\transpiled_circuit_A.qpy\n"
     ]
    },
    {
     "name": "stdout",
     "output_type": "stream",
     "text": [
      "Transpiled and saved: circuits\\51\\transpiled_circuit_Q.qpy\n",
      "Transpiled and saved: circuits\\52\\transpiled_circuit_A.qpy\n"
     ]
    },
    {
     "name": "stdout",
     "output_type": "stream",
     "text": [
      "Transpiled and saved: circuits\\52\\transpiled_circuit_Q.qpy\n",
      "Transpiled and saved: circuits\\53\\transpiled_circuit_A.qpy\n"
     ]
    },
    {
     "name": "stdout",
     "output_type": "stream",
     "text": [
      "Transpiled and saved: circuits\\53\\transpiled_circuit_Q.qpy\n",
      "Transpiled and saved: circuits\\54\\transpiled_circuit_A.qpy\n"
     ]
    },
    {
     "name": "stdout",
     "output_type": "stream",
     "text": [
      "Transpiled and saved: circuits\\54\\transpiled_circuit_Q.qpy\n",
      "Transpiled and saved: circuits\\55\\transpiled_circuit_A.qpy\n"
     ]
    },
    {
     "name": "stdout",
     "output_type": "stream",
     "text": [
      "Transpiled and saved: circuits\\55\\transpiled_circuit_Q.qpy\n",
      "Transpiled and saved: circuits\\56\\transpiled_circuit_A.qpy\n"
     ]
    },
    {
     "name": "stdout",
     "output_type": "stream",
     "text": [
      "Transpiled and saved: circuits\\56\\transpiled_circuit_Q.qpy\n",
      "Transpiled and saved: circuits\\57\\transpiled_circuit_A.qpy\n"
     ]
    },
    {
     "name": "stdout",
     "output_type": "stream",
     "text": [
      "Transpiled and saved: circuits\\57\\transpiled_circuit_Q.qpy\n",
      "Transpiled and saved: circuits\\58\\transpiled_circuit_A.qpy\n"
     ]
    },
    {
     "name": "stdout",
     "output_type": "stream",
     "text": [
      "Transpiled and saved: circuits\\58\\transpiled_circuit_Q.qpy\n",
      "Transpiled and saved: circuits\\59\\transpiled_circuit_A.qpy\n"
     ]
    },
    {
     "name": "stdout",
     "output_type": "stream",
     "text": [
      "Transpiled and saved: circuits\\59\\transpiled_circuit_Q.qpy\n",
      "Transpiled and saved: circuits\\6\\transpiled_circuit_A.qpy\n"
     ]
    },
    {
     "name": "stdout",
     "output_type": "stream",
     "text": [
      "Transpiled and saved: circuits\\6\\transpiled_circuit_Q.qpy\n",
      "Transpiled and saved: circuits\\60\\transpiled_circuit_A.qpy\n"
     ]
    },
    {
     "name": "stdout",
     "output_type": "stream",
     "text": [
      "Transpiled and saved: circuits\\60\\transpiled_circuit_Q.qpy\n",
      "Transpiled and saved: circuits\\61\\transpiled_circuit_A.qpy\n"
     ]
    },
    {
     "name": "stdout",
     "output_type": "stream",
     "text": [
      "Transpiled and saved: circuits\\61\\transpiled_circuit_Q.qpy\n",
      "Transpiled and saved: circuits\\62\\transpiled_circuit_A.qpy\n"
     ]
    },
    {
     "name": "stdout",
     "output_type": "stream",
     "text": [
      "Transpiled and saved: circuits\\62\\transpiled_circuit_Q.qpy\n",
      "Transpiled and saved: circuits\\63\\transpiled_circuit_A.qpy\n"
     ]
    },
    {
     "name": "stdout",
     "output_type": "stream",
     "text": [
      "Transpiled and saved: circuits\\63\\transpiled_circuit_Q.qpy\n",
      "Transpiled and saved: circuits\\64\\transpiled_circuit_A.qpy\n"
     ]
    },
    {
     "name": "stdout",
     "output_type": "stream",
     "text": [
      "Transpiled and saved: circuits\\64\\transpiled_circuit_Q.qpy\n",
      "Transpiled and saved: circuits\\65\\transpiled_circuit_A.qpy\n"
     ]
    },
    {
     "name": "stdout",
     "output_type": "stream",
     "text": [
      "Transpiled and saved: circuits\\65\\transpiled_circuit_Q.qpy\n",
      "Transpiled and saved: circuits\\66\\transpiled_circuit_A.qpy\n"
     ]
    },
    {
     "name": "stdout",
     "output_type": "stream",
     "text": [
      "Transpiled and saved: circuits\\66\\transpiled_circuit_Q.qpy\n",
      "Transpiled and saved: circuits\\67\\transpiled_circuit_A.qpy\n"
     ]
    },
    {
     "name": "stdout",
     "output_type": "stream",
     "text": [
      "Transpiled and saved: circuits\\67\\transpiled_circuit_Q.qpy\n",
      "Transpiled and saved: circuits\\68\\transpiled_circuit_A.qpy\n"
     ]
    },
    {
     "name": "stdout",
     "output_type": "stream",
     "text": [
      "Transpiled and saved: circuits\\68\\transpiled_circuit_Q.qpy\n",
      "Transpiled and saved: circuits\\69\\transpiled_circuit_A.qpy\n"
     ]
    },
    {
     "name": "stdout",
     "output_type": "stream",
     "text": [
      "Transpiled and saved: circuits\\69\\transpiled_circuit_Q.qpy\n",
      "Transpiled and saved: circuits\\7\\transpiled_circuit_A.qpy\n"
     ]
    },
    {
     "name": "stdout",
     "output_type": "stream",
     "text": [
      "Transpiled and saved: circuits\\7\\transpiled_circuit_Q.qpy\n",
      "Transpiled and saved: circuits\\70\\transpiled_circuit_A.qpy\n"
     ]
    },
    {
     "name": "stdout",
     "output_type": "stream",
     "text": [
      "Transpiled and saved: circuits\\70\\transpiled_circuit_Q.qpy\n",
      "Transpiled and saved: circuits\\71\\transpiled_circuit_A.qpy\n"
     ]
    },
    {
     "name": "stdout",
     "output_type": "stream",
     "text": [
      "Transpiled and saved: circuits\\71\\transpiled_circuit_Q.qpy\n",
      "Transpiled and saved: circuits\\72\\transpiled_circuit_A.qpy\n"
     ]
    },
    {
     "name": "stdout",
     "output_type": "stream",
     "text": [
      "Transpiled and saved: circuits\\72\\transpiled_circuit_Q.qpy\n",
      "Transpiled and saved: circuits\\73\\transpiled_circuit_A.qpy\n"
     ]
    },
    {
     "name": "stdout",
     "output_type": "stream",
     "text": [
      "Transpiled and saved: circuits\\73\\transpiled_circuit_Q.qpy\n",
      "Transpiled and saved: circuits\\74\\transpiled_circuit_A.qpy\n"
     ]
    },
    {
     "name": "stdout",
     "output_type": "stream",
     "text": [
      "Transpiled and saved: circuits\\74\\transpiled_circuit_Q.qpy\n",
      "Transpiled and saved: circuits\\75\\transpiled_circuit_A.qpy\n"
     ]
    },
    {
     "name": "stdout",
     "output_type": "stream",
     "text": [
      "Transpiled and saved: circuits\\75\\transpiled_circuit_Q.qpy\n",
      "Transpiled and saved: circuits\\76\\transpiled_circuit_A.qpy\n"
     ]
    },
    {
     "name": "stdout",
     "output_type": "stream",
     "text": [
      "Transpiled and saved: circuits\\76\\transpiled_circuit_Q.qpy\n",
      "Transpiled and saved: circuits\\77\\transpiled_circuit_A.qpy\n"
     ]
    },
    {
     "name": "stdout",
     "output_type": "stream",
     "text": [
      "Transpiled and saved: circuits\\77\\transpiled_circuit_Q.qpy\n",
      "Transpiled and saved: circuits\\78\\transpiled_circuit_A.qpy\n"
     ]
    },
    {
     "name": "stdout",
     "output_type": "stream",
     "text": [
      "Transpiled and saved: circuits\\78\\transpiled_circuit_Q.qpy\n",
      "Transpiled and saved: circuits\\79\\transpiled_circuit_A.qpy\n"
     ]
    },
    {
     "name": "stdout",
     "output_type": "stream",
     "text": [
      "Transpiled and saved: circuits\\79\\transpiled_circuit_Q.qpy\n",
      "Transpiled and saved: circuits\\8\\transpiled_circuit_A.qpy\n"
     ]
    },
    {
     "name": "stdout",
     "output_type": "stream",
     "text": [
      "Transpiled and saved: circuits\\8\\transpiled_circuit_Q.qpy\n",
      "Transpiled and saved: circuits\\80\\transpiled_circuit_A.qpy\n"
     ]
    },
    {
     "name": "stdout",
     "output_type": "stream",
     "text": [
      "Transpiled and saved: circuits\\80\\transpiled_circuit_Q.qpy\n",
      "Transpiled and saved: circuits\\81\\transpiled_circuit_A.qpy\n"
     ]
    },
    {
     "name": "stdout",
     "output_type": "stream",
     "text": [
      "Transpiled and saved: circuits\\81\\transpiled_circuit_Q.qpy\n",
      "Transpiled and saved: circuits\\82\\transpiled_circuit_A.qpy\n"
     ]
    },
    {
     "name": "stdout",
     "output_type": "stream",
     "text": [
      "Transpiled and saved: circuits\\82\\transpiled_circuit_Q.qpy\n",
      "Transpiled and saved: circuits\\83\\transpiled_circuit_A.qpy\n"
     ]
    },
    {
     "name": "stdout",
     "output_type": "stream",
     "text": [
      "Transpiled and saved: circuits\\83\\transpiled_circuit_Q.qpy\n",
      "Transpiled and saved: circuits\\84\\transpiled_circuit_A.qpy\n"
     ]
    },
    {
     "name": "stdout",
     "output_type": "stream",
     "text": [
      "Transpiled and saved: circuits\\84\\transpiled_circuit_Q.qpy\n",
      "Transpiled and saved: circuits\\85\\transpiled_circuit_A.qpy\n"
     ]
    },
    {
     "name": "stdout",
     "output_type": "stream",
     "text": [
      "Transpiled and saved: circuits\\85\\transpiled_circuit_Q.qpy\n",
      "Transpiled and saved: circuits\\86\\transpiled_circuit_A.qpy\n"
     ]
    },
    {
     "name": "stdout",
     "output_type": "stream",
     "text": [
      "Transpiled and saved: circuits\\86\\transpiled_circuit_Q.qpy\n",
      "Transpiled and saved: circuits\\87\\transpiled_circuit_A.qpy\n"
     ]
    },
    {
     "name": "stdout",
     "output_type": "stream",
     "text": [
      "Transpiled and saved: circuits\\87\\transpiled_circuit_Q.qpy\n",
      "Transpiled and saved: circuits\\88\\transpiled_circuit_A.qpy\n"
     ]
    },
    {
     "name": "stdout",
     "output_type": "stream",
     "text": [
      "Transpiled and saved: circuits\\88\\transpiled_circuit_Q.qpy\n",
      "Transpiled and saved: circuits\\89\\transpiled_circuit_A.qpy\n"
     ]
    },
    {
     "name": "stdout",
     "output_type": "stream",
     "text": [
      "Transpiled and saved: circuits\\89\\transpiled_circuit_Q.qpy\n",
      "Transpiled and saved: circuits\\9\\transpiled_circuit_A.qpy\n"
     ]
    },
    {
     "name": "stdout",
     "output_type": "stream",
     "text": [
      "Transpiled and saved: circuits\\9\\transpiled_circuit_Q.qpy\n",
      "Transpiled and saved: circuits\\90\\transpiled_circuit_A.qpy\n"
     ]
    },
    {
     "name": "stdout",
     "output_type": "stream",
     "text": [
      "Transpiled and saved: circuits\\90\\transpiled_circuit_Q.qpy\n",
      "Transpiled and saved: circuits\\91\\transpiled_circuit_A.qpy\n"
     ]
    },
    {
     "name": "stdout",
     "output_type": "stream",
     "text": [
      "Transpiled and saved: circuits\\91\\transpiled_circuit_Q.qpy\n",
      "Transpiled and saved: circuits\\92\\transpiled_circuit_A.qpy\n"
     ]
    },
    {
     "name": "stdout",
     "output_type": "stream",
     "text": [
      "Transpiled and saved: circuits\\92\\transpiled_circuit_Q.qpy\n",
      "Transpiled and saved: circuits\\93\\transpiled_circuit_A.qpy\n"
     ]
    },
    {
     "name": "stdout",
     "output_type": "stream",
     "text": [
      "Transpiled and saved: circuits\\93\\transpiled_circuit_Q.qpy\n",
      "Transpiled and saved: circuits\\94\\transpiled_circuit_A.qpy\n"
     ]
    },
    {
     "name": "stdout",
     "output_type": "stream",
     "text": [
      "Transpiled and saved: circuits\\94\\transpiled_circuit_Q.qpy\n",
      "Transpiled and saved: circuits\\95\\transpiled_circuit_A.qpy\n"
     ]
    },
    {
     "name": "stdout",
     "output_type": "stream",
     "text": [
      "Transpiled and saved: circuits\\95\\transpiled_circuit_Q.qpy\n",
      "Transpiled and saved: circuits\\96\\transpiled_circuit_A.qpy\n"
     ]
    },
    {
     "name": "stdout",
     "output_type": "stream",
     "text": [
      "Transpiled and saved: circuits\\96\\transpiled_circuit_Q.qpy\n",
      "Transpiled and saved: circuits\\97\\transpiled_circuit_A.qpy\n"
     ]
    },
    {
     "name": "stdout",
     "output_type": "stream",
     "text": [
      "Transpiled and saved: circuits\\97\\transpiled_circuit_Q.qpy\n",
      "Transpiled and saved: circuits\\98\\transpiled_circuit_A.qpy\n"
     ]
    },
    {
     "name": "stdout",
     "output_type": "stream",
     "text": [
      "Transpiled and saved: circuits\\98\\transpiled_circuit_Q.qpy\n",
      "Transpiled and saved: circuits\\99\\transpiled_circuit_A.qpy\n"
     ]
    },
    {
     "name": "stdout",
     "output_type": "stream",
     "text": [
      "Transpiled and saved: circuits\\99\\transpiled_circuit_Q.qpy\n",
      "All circuits have been transpiled and saved.\n",
      "For the 1th Pauli string:\n",
      "  The depth of circuit A is 88\n",
      "  The depth of circuit Q is 177\n",
      "For the 2th Pauli string:\n",
      "  The depth of circuit A is 91\n",
      "  The depth of circuit Q is 183\n",
      "For the 3th Pauli string:\n",
      "  The depth of circuit A is 90\n",
      "  The depth of circuit Q is 182\n",
      "For the 4th Pauli string:\n",
      "  The depth of circuit A is 90\n",
      "  The depth of circuit Q is 181\n",
      "For the 5th Pauli string:\n",
      "  The depth of circuit A is 88\n",
      "  The depth of circuit Q is 177\n",
      "For the 6th Pauli string:\n",
      "  The depth of circuit A is 90\n",
      "  The depth of circuit Q is 184\n",
      "For the 7th Pauli string:\n",
      "  The depth of circuit A is 89\n",
      "  The depth of circuit Q is 180\n",
      "For the 8th Pauli string:\n",
      "  The depth of circuit A is 88\n",
      "  The depth of circuit Q is 177\n",
      "For the 9th Pauli string:\n",
      "  The depth of circuit A is 88\n",
      "  The depth of circuit Q is 177\n",
      "For the 10th Pauli string:\n",
      "  The depth of circuit A is 90\n",
      "  The depth of circuit Q is 182\n",
      "For the 11th Pauli string:\n",
      "  The depth of circuit A is 91\n",
      "  The depth of circuit Q is 184\n",
      "For the 12th Pauli string:\n",
      "  The depth of circuit A is 91\n",
      "  The depth of circuit Q is 184\n",
      "For the 13th Pauli string:\n",
      "  The depth of circuit A is 90\n",
      "  The depth of circuit Q is 183\n",
      "For the 14th Pauli string:\n",
      "  The depth of circuit A is 90\n",
      "  The depth of circuit Q is 183\n",
      "For the 15th Pauli string:\n",
      "  The depth of circuit A is 90\n",
      "  The depth of circuit Q is 183\n",
      "For the 16th Pauli string:\n",
      "  The depth of circuit A is 91\n",
      "  The depth of circuit Q is 184\n",
      "For the 17th Pauli string:\n",
      "  The depth of circuit A is 91\n",
      "  The depth of circuit Q is 184\n",
      "For the 18th Pauli string:\n",
      "  The depth of circuit A is 90\n",
      "  The depth of circuit Q is 181\n",
      "For the 19th Pauli string:\n",
      "  The depth of circuit A is 91\n",
      "  The depth of circuit Q is 185\n",
      "For the 20th Pauli string:\n",
      "  The depth of circuit A is 90\n",
      "  The depth of circuit Q is 184\n",
      "For the 21th Pauli string:\n",
      "  The depth of circuit A is 90\n",
      "  The depth of circuit Q is 182\n",
      "For the 22th Pauli string:\n",
      "  The depth of circuit A is 91\n",
      "  The depth of circuit Q is 185\n",
      "For the 23th Pauli string:\n",
      "  The depth of circuit A is 88\n",
      "  The depth of circuit Q is 178\n",
      "For the 24th Pauli string:\n",
      "  The depth of circuit A is 90\n",
      "  The depth of circuit Q is 182\n",
      "For the 25th Pauli string:\n",
      "  The depth of circuit A is 88\n",
      "  The depth of circuit Q is 178\n",
      "For the 26th Pauli string:\n",
      "  The depth of circuit A is 90\n",
      "  The depth of circuit Q is 182\n",
      "For the 27th Pauli string:\n",
      "  The depth of circuit A is 90\n",
      "  The depth of circuit Q is 184\n",
      "For the 28th Pauli string:\n",
      "  The depth of circuit A is 88\n",
      "  The depth of circuit Q is 177\n",
      "For the 29th Pauli string:\n",
      "  The depth of circuit A is 90\n",
      "  The depth of circuit Q is 182\n",
      "For the 30th Pauli string:\n",
      "  The depth of circuit A is 89\n",
      "  The depth of circuit Q is 181\n",
      "For the 31th Pauli string:\n",
      "  The depth of circuit A is 90\n",
      "  The depth of circuit Q is 185\n",
      "For the 32th Pauli string:\n",
      "  The depth of circuit A is 89\n",
      "  The depth of circuit Q is 181\n",
      "For the 33th Pauli string:\n",
      "  The depth of circuit A is 89\n",
      "  The depth of circuit Q is 181\n",
      "For the 34th Pauli string:\n",
      "  The depth of circuit A is 90\n",
      "  The depth of circuit Q is 183\n",
      "For the 35th Pauli string:\n",
      "  The depth of circuit A is 89\n",
      "  The depth of circuit Q is 179\n",
      "For the 36th Pauli string:\n",
      "  The depth of circuit A is 88\n",
      "  The depth of circuit Q is 177\n",
      "For the 37th Pauli string:\n",
      "  The depth of circuit A is 88\n",
      "  The depth of circuit Q is 177\n",
      "For the 38th Pauli string:\n",
      "  The depth of circuit A is 91\n",
      "  The depth of circuit Q is 185\n",
      "For the 39th Pauli string:\n",
      "  The depth of circuit A is 91\n",
      "  The depth of circuit Q is 185\n",
      "For the 40th Pauli string:\n",
      "  The depth of circuit A is 90\n",
      "  The depth of circuit Q is 183\n",
      "For the 41th Pauli string:\n",
      "  The depth of circuit A is 90\n",
      "  The depth of circuit Q is 183\n",
      "For the 42th Pauli string:\n",
      "  The depth of circuit A is 91\n",
      "  The depth of circuit Q is 186\n",
      "For the 43th Pauli string:\n",
      "  The depth of circuit A is 91\n",
      "  The depth of circuit Q is 186\n",
      "For the 44th Pauli string:\n",
      "  The depth of circuit A is 88\n",
      "  The depth of circuit Q is 179\n",
      "For the 45th Pauli string:\n",
      "  The depth of circuit A is 88\n",
      "  The depth of circuit Q is 179\n",
      "For the 46th Pauli string:\n",
      "  The depth of circuit A is 90\n",
      "  The depth of circuit Q is 183\n",
      "For the 47th Pauli string:\n",
      "  The depth of circuit A is 90\n",
      "  The depth of circuit Q is 183\n",
      "For the 48th Pauli string:\n",
      "  The depth of circuit A is 91\n",
      "  The depth of circuit Q is 186\n",
      "For the 49th Pauli string:\n",
      "  The depth of circuit A is 91\n",
      "  The depth of circuit Q is 186\n",
      "For the 50th Pauli string:\n",
      "  The depth of circuit A is 91\n",
      "  The depth of circuit Q is 187\n",
      "For the 51th Pauli string:\n",
      "  The depth of circuit A is 91\n",
      "  The depth of circuit Q is 187\n",
      "For the 52th Pauli string:\n",
      "  The depth of circuit A is 91\n",
      "  The depth of circuit Q is 187\n",
      "For the 53th Pauli string:\n",
      "  The depth of circuit A is 91\n",
      "  The depth of circuit Q is 187\n",
      "For the 54th Pauli string:\n",
      "  The depth of circuit A is 90\n",
      "  The depth of circuit Q is 184\n",
      "For the 55th Pauli string:\n",
      "  The depth of circuit A is 90\n",
      "  The depth of circuit Q is 184\n",
      "For the 56th Pauli string:\n",
      "  The depth of circuit A is 91\n",
      "  The depth of circuit Q is 185\n",
      "For the 57th Pauli string:\n",
      "  The depth of circuit A is 91\n",
      "  The depth of circuit Q is 185\n",
      "For the 58th Pauli string:\n",
      "  The depth of circuit A is 91\n",
      "  The depth of circuit Q is 185\n",
      "For the 59th Pauli string:\n",
      "  The depth of circuit A is 91\n",
      "  The depth of circuit Q is 185\n",
      "For the 60th Pauli string:\n",
      "  The depth of circuit A is 91\n",
      "  The depth of circuit Q is 185\n",
      "For the 61th Pauli string:\n",
      "  The depth of circuit A is 91\n",
      "  The depth of circuit Q is 185\n",
      "For the 62th Pauli string:\n",
      "  The depth of circuit A is 91\n",
      "  The depth of circuit Q is 185\n",
      "For the 63th Pauli string:\n",
      "  The depth of circuit A is 91\n",
      "  The depth of circuit Q is 184\n",
      "For the 64th Pauli string:\n",
      "  The depth of circuit A is 88\n",
      "  The depth of circuit Q is 177\n",
      "For the 65th Pauli string:\n",
      "  The depth of circuit A is 90\n",
      "  The depth of circuit Q is 183\n",
      "For the 66th Pauli string:\n",
      "  The depth of circuit A is 90\n",
      "  The depth of circuit Q is 184\n",
      "For the 67th Pauli string:\n",
      "  The depth of circuit A is 88\n",
      "  The depth of circuit Q is 177\n",
      "For the 68th Pauli string:\n",
      "  The depth of circuit A is 89\n",
      "  The depth of circuit Q is 180\n",
      "For the 69th Pauli string:\n",
      "  The depth of circuit A is 88\n",
      "  The depth of circuit Q is 177\n",
      "For the 70th Pauli string:\n",
      "  The depth of circuit A is 91\n",
      "  The depth of circuit Q is 186\n",
      "For the 71th Pauli string:\n",
      "  The depth of circuit A is 91\n",
      "  The depth of circuit Q is 185\n",
      "For the 72th Pauli string:\n",
      "  The depth of circuit A is 88\n",
      "  The depth of circuit Q is 179\n",
      "For the 73th Pauli string:\n",
      "  The depth of circuit A is 90\n",
      "  The depth of circuit Q is 184\n",
      "For the 74th Pauli string:\n",
      "  The depth of circuit A is 90\n",
      "  The depth of circuit Q is 185\n",
      "For the 75th Pauli string:\n",
      "  The depth of circuit A is 91\n",
      "  The depth of circuit Q is 186\n",
      "For the 76th Pauli string:\n",
      "  The depth of circuit A is 90\n",
      "  The depth of circuit Q is 183\n",
      "For the 77th Pauli string:\n",
      "  The depth of circuit A is 89\n",
      "  The depth of circuit Q is 179\n",
      "For the 78th Pauli string:\n",
      "  The depth of circuit A is 91\n",
      "  The depth of circuit Q is 187\n",
      "For the 79th Pauli string:\n",
      "  The depth of circuit A is 90\n",
      "  The depth of circuit Q is 184\n",
      "For the 80th Pauli string:\n",
      "  The depth of circuit A is 91\n",
      "  The depth of circuit Q is 185\n",
      "For the 81th Pauli string:\n",
      "  The depth of circuit A is 90\n",
      "  The depth of circuit Q is 182\n",
      "For the 82th Pauli string:\n",
      "  The depth of circuit A is 90\n",
      "  The depth of circuit Q is 183\n",
      "For the 83th Pauli string:\n",
      "  The depth of circuit A is 89\n",
      "  The depth of circuit Q is 180\n",
      "For the 84th Pauli string:\n",
      "  The depth of circuit A is 91\n",
      "  The depth of circuit Q is 186\n",
      "For the 85th Pauli string:\n",
      "  The depth of circuit A is 91\n",
      "  The depth of circuit Q is 185\n",
      "For the 86th Pauli string:\n",
      "  The depth of circuit A is 91\n",
      "  The depth of circuit Q is 187\n",
      "For the 87th Pauli string:\n",
      "  The depth of circuit A is 91\n",
      "  The depth of circuit Q is 186\n",
      "For the 88th Pauli string:\n",
      "  The depth of circuit A is 89\n",
      "  The depth of circuit Q is 182\n",
      "For the 89th Pauli string:\n",
      "  The depth of circuit A is 90\n",
      "  The depth of circuit Q is 183\n",
      "For the 90th Pauli string:\n",
      "  The depth of circuit A is 89\n",
      "  The depth of circuit Q is 181\n",
      "For the 91th Pauli string:\n",
      "  The depth of circuit A is 90\n",
      "  The depth of circuit Q is 182\n",
      "For the 92th Pauli string:\n",
      "  The depth of circuit A is 89\n",
      "  The depth of circuit Q is 181\n",
      "For the 93th Pauli string:\n",
      "  The depth of circuit A is 88\n",
      "  The depth of circuit Q is 178\n",
      "For the 94th Pauli string:\n",
      "  The depth of circuit A is 89\n",
      "  The depth of circuit Q is 181\n",
      "For the 95th Pauli string:\n",
      "  The depth of circuit A is 88\n",
      "  The depth of circuit Q is 178\n",
      "For the 96th Pauli string:\n",
      "  The depth of circuit A is 90\n",
      "  The depth of circuit Q is 185\n",
      "For the 97th Pauli string:\n",
      "  The depth of circuit A is 88\n",
      "  The depth of circuit Q is 178\n",
      "For the 98th Pauli string:\n",
      "  The depth of circuit A is 90\n",
      "  The depth of circuit Q is 181\n",
      "For the 99th Pauli string:\n",
      "  The depth of circuit A is 91\n",
      "  The depth of circuit Q is 184\n",
      "For the 100th Pauli string:\n",
      "  The depth of circuit A is 91\n",
      "  The depth of circuit Q is 187\n",
      "For the 101th Pauli string:\n",
      "  The depth of circuit A is 90\n",
      "  The depth of circuit Q is 185\n",
      "For the 102th Pauli string:\n",
      "  The depth of circuit A is 90\n",
      "  The depth of circuit Q is 185\n",
      "For the 103th Pauli string:\n",
      "  The depth of circuit A is 91\n",
      "  The depth of circuit Q is 187\n",
      "For the 104th Pauli string:\n",
      "  The depth of circuit A is 90\n",
      "  The depth of circuit Q is 185\n",
      "For the 105th Pauli string:\n",
      "  The depth of circuit A is 91\n",
      "  The depth of circuit Q is 187\n",
      "For the 106th Pauli string:\n",
      "  The depth of circuit A is 91\n",
      "  The depth of circuit Q is 187\n",
      "For the 107th Pauli string:\n",
      "  The depth of circuit A is 90\n",
      "  The depth of circuit Q is 185\n",
      "For the 108th Pauli string:\n",
      "  The depth of circuit A is 89\n",
      "  The depth of circuit Q is 182\n",
      "For the 109th Pauli string:\n",
      "  The depth of circuit A is 89\n",
      "  The depth of circuit Q is 182\n",
      "For the 110th Pauli string:\n",
      "  The depth of circuit A is 91\n",
      "  The depth of circuit Q is 187\n",
      "For the 111th Pauli string:\n",
      "  The depth of circuit A is 91\n",
      "  The depth of circuit Q is 187\n",
      "For the 112th Pauli string:\n",
      "  The depth of circuit A is 91\n",
      "  The depth of circuit Q is 187\n",
      "For the 113th Pauli string:\n",
      "  The depth of circuit A is 91\n",
      "  The depth of circuit Q is 186\n",
      "For the 114th Pauli string:\n",
      "  The depth of circuit A is 91\n",
      "  The depth of circuit Q is 187\n",
      "For the 115th Pauli string:\n",
      "  The depth of circuit A is 91\n",
      "  The depth of circuit Q is 186\n",
      "For the 116th Pauli string:\n",
      "  The depth of circuit A is 91\n",
      "  The depth of circuit Q is 187\n",
      "For the 117th Pauli string:\n",
      "  The depth of circuit A is 91\n",
      "  The depth of circuit Q is 187\n",
      "For the 118th Pauli string:\n",
      "  The depth of circuit A is 91\n",
      "  The depth of circuit Q is 186\n",
      "For the 119th Pauli string:\n",
      "  The depth of circuit A is 91\n",
      "  The depth of circuit Q is 186\n",
      "For the 120th Pauli string:\n",
      "  The depth of circuit A is 91\n",
      "  The depth of circuit Q is 187\n",
      "For the 121th Pauli string:\n",
      "  The depth of circuit A is 91\n",
      "  The depth of circuit Q is 186\n",
      "For the 122th Pauli string:\n",
      "  The depth of circuit A is 91\n",
      "  The depth of circuit Q is 186\n",
      "For the 123th Pauli string:\n",
      "  The depth of circuit A is 91\n",
      "  The depth of circuit Q is 185\n",
      "For the 124th Pauli string:\n",
      "  The depth of circuit A is 91\n",
      "  The depth of circuit Q is 187\n",
      "For the 125th Pauli string:\n",
      "  The depth of circuit A is 91\n",
      "  The depth of circuit Q is 187\n",
      "For the 126th Pauli string:\n",
      "  The depth of circuit A is 91\n",
      "  The depth of circuit Q is 186\n",
      "For the 127th Pauli string:\n",
      "  The depth of circuit A is 91\n",
      "  The depth of circuit Q is 186\n",
      "For the 128th Pauli string:\n",
      "  The depth of circuit A is 89\n",
      "  The depth of circuit Q is 182\n",
      "For the 129th Pauli string:\n",
      "  The depth of circuit A is 88\n",
      "  The depth of circuit Q is 179\n",
      "For the 130th Pauli string:\n",
      "  The depth of circuit A is 89\n",
      "  The depth of circuit Q is 182\n",
      "For the 131th Pauli string:\n",
      "  The depth of circuit A is 88\n",
      "  The depth of circuit Q is 179\n",
      "For the 132th Pauli string:\n",
      "  The depth of circuit A is 90\n",
      "  The depth of circuit Q is 184\n",
      "For the 133th Pauli string:\n",
      "  The depth of circuit A is 90\n",
      "  The depth of circuit Q is 184\n",
      "For the 134th Pauli string:\n",
      "  The depth of circuit A is 91\n",
      "  The depth of circuit Q is 185\n",
      "For the 135th Pauli string:\n",
      "  The depth of circuit A is 91\n",
      "  The depth of circuit Q is 185\n",
      "For the 136th Pauli string:\n",
      "  The depth of circuit A is 91\n",
      "  The depth of circuit Q is 185\n",
      "For the 137th Pauli string:\n",
      "  The depth of circuit A is 90\n",
      "  The depth of circuit Q is 183\n",
      "For the 138th Pauli string:\n",
      "  The depth of circuit A is 90\n",
      "  The depth of circuit Q is 182\n",
      "For the 139th Pauli string:\n",
      "  The depth of circuit A is 90\n",
      "  The depth of circuit Q is 183\n",
      "For the 140th Pauli string:\n",
      "  The depth of circuit A is 90\n",
      "  The depth of circuit Q is 184\n",
      "For the 141th Pauli string:\n",
      "  The depth of circuit A is 91\n",
      "  The depth of circuit Q is 184\n",
      "For the 142th Pauli string:\n",
      "  The depth of circuit A is 91\n",
      "  The depth of circuit Q is 185\n",
      "For the 143th Pauli string:\n",
      "  The depth of circuit A is 91\n",
      "  The depth of circuit Q is 184\n",
      "For the 144th Pauli string:\n",
      "  The depth of circuit A is 90\n",
      "  The depth of circuit Q is 185\n",
      "For the 145th Pauli string:\n",
      "  The depth of circuit A is 91\n",
      "  The depth of circuit Q is 186\n",
      "For the 146th Pauli string:\n",
      "  The depth of circuit A is 91\n",
      "  The depth of circuit Q is 187\n",
      "For the 147th Pauli string:\n",
      "  The depth of circuit A is 90\n",
      "  The depth of circuit Q is 184\n",
      "For the 148th Pauli string:\n",
      "  The depth of circuit A is 91\n",
      "  The depth of circuit Q is 187\n",
      "For the 149th Pauli string:\n",
      "  The depth of circuit A is 90\n",
      "  The depth of circuit Q is 184\n",
      "For the 150th Pauli string:\n",
      "  The depth of circuit A is 90\n",
      "  The depth of circuit Q is 185\n",
      "For the 151th Pauli string:\n",
      "  The depth of circuit A is 91\n",
      "  The depth of circuit Q is 186\n",
      "For the 152th Pauli string:\n",
      "  The depth of circuit A is 90\n",
      "  The depth of circuit Q is 185\n",
      "For the 153th Pauli string:\n",
      "  The depth of circuit A is 91\n",
      "  The depth of circuit Q is 187\n",
      "For the 154th Pauli string:\n",
      "  The depth of circuit A is 90\n",
      "  The depth of circuit Q is 183\n",
      "For the 155th Pauli string:\n",
      "  The depth of circuit A is 89\n",
      "  The depth of circuit Q is 180\n",
      "For the 156th Pauli string:\n",
      "  The depth of circuit A is 91\n",
      "  The depth of circuit Q is 187\n",
      "For the 157th Pauli string:\n",
      "  The depth of circuit A is 90\n",
      "  The depth of circuit Q is 185\n",
      "For the 158th Pauli string:\n",
      "  The depth of circuit A is 91\n",
      "  The depth of circuit Q is 185\n",
      "For the 159th Pauli string:\n",
      "  The depth of circuit A is 90\n",
      "  The depth of circuit Q is 183\n",
      "For the 160th Pauli string:\n",
      "  The depth of circuit A is 88\n",
      "  The depth of circuit Q is 177\n",
      "For the 161th Pauli string:\n",
      "  The depth of circuit A is 90\n",
      "  The depth of circuit Q is 184\n",
      "For the 162th Pauli string:\n",
      "  The depth of circuit A is 91\n",
      "  The depth of circuit Q is 184\n",
      "For the 163th Pauli string:\n",
      "  The depth of circuit A is 91\n",
      "  The depth of circuit Q is 185\n",
      "For the 164th Pauli string:\n",
      "  The depth of circuit A is 91\n",
      "  The depth of circuit Q is 186\n",
      "For the 165th Pauli string:\n",
      "  The depth of circuit A is 91\n",
      "  The depth of circuit Q is 185\n",
      "For the 166th Pauli string:\n",
      "  The depth of circuit A is 91\n",
      "  The depth of circuit Q is 185\n",
      "For the 167th Pauli string:\n",
      "  The depth of circuit A is 91\n",
      "  The depth of circuit Q is 186\n",
      "For the 168th Pauli string:\n",
      "  The depth of circuit A is 91\n",
      "  The depth of circuit Q is 185\n",
      "For the 169th Pauli string:\n",
      "  The depth of circuit A is 90\n",
      "  The depth of circuit Q is 183\n",
      "For the 170th Pauli string:\n",
      "  The depth of circuit A is 90\n",
      "  The depth of circuit Q is 183\n",
      "For the 171th Pauli string:\n",
      "  The depth of circuit A is 91\n",
      "  The depth of circuit Q is 185\n",
      "For the 172th Pauli string:\n",
      "  The depth of circuit A is 91\n",
      "  The depth of circuit Q is 186\n",
      "For the 173th Pauli string:\n",
      "  The depth of circuit A is 90\n",
      "  The depth of circuit Q is 184\n",
      "For the 174th Pauli string:\n",
      "  The depth of circuit A is 90\n",
      "  The depth of circuit Q is 184\n",
      "For the 175th Pauli string:\n",
      "  The depth of circuit A is 91\n",
      "  The depth of circuit Q is 186\n",
      "For the 176th Pauli string:\n",
      "  The depth of circuit A is 90\n",
      "  The depth of circuit Q is 184\n",
      "For the 177th Pauli string:\n",
      "  The depth of circuit A is 91\n",
      "  The depth of circuit Q is 186\n",
      "For the 178th Pauli string:\n",
      "  The depth of circuit A is 91\n",
      "  The depth of circuit Q is 186\n",
      "For the 179th Pauli string:\n",
      "  The depth of circuit A is 90\n",
      "  The depth of circuit Q is 184\n",
      "For the 180th Pauli string:\n",
      "  The depth of circuit A is 91\n",
      "  The depth of circuit Q is 184\n",
      "For the 181th Pauli string:\n",
      "  The depth of circuit A is 91\n",
      "  The depth of circuit Q is 185\n",
      "For the 182th Pauli string:\n",
      "  The depth of circuit A is 91\n",
      "  The depth of circuit Q is 185\n",
      "For the 183th Pauli string:\n",
      "  The depth of circuit A is 91\n",
      "  The depth of circuit Q is 184\n",
      "For the 184th Pauli string:\n",
      "  The depth of circuit A is 90\n",
      "  The depth of circuit Q is 182\n",
      "For the 185th Pauli string:\n",
      "  The depth of circuit A is 91\n",
      "  The depth of circuit Q is 184\n",
      "For the 186th Pauli string:\n",
      "  The depth of circuit A is 91\n",
      "  The depth of circuit Q is 184\n",
      "For the 187th Pauli string:\n",
      "  The depth of circuit A is 90\n",
      "  The depth of circuit Q is 182\n",
      "For the 188th Pauli string:\n",
      "  The depth of circuit A is 90\n",
      "  The depth of circuit Q is 184\n",
      "For the 189th Pauli string:\n",
      "  The depth of circuit A is 91\n",
      "  The depth of circuit Q is 184\n",
      "For the 190th Pauli string:\n",
      "  The depth of circuit A is 91\n",
      "  The depth of circuit Q is 185\n",
      "For the 191th Pauli string:\n",
      "  The depth of circuit A is 91\n",
      "  The depth of circuit Q is 184\n",
      "For the 192th Pauli string:\n",
      "  The depth of circuit A is 91\n",
      "  The depth of circuit Q is 185\n",
      "For the 193th Pauli string:\n",
      "  The depth of circuit A is 90\n",
      "  The depth of circuit Q is 183\n",
      "For the 194th Pauli string:\n",
      "  The depth of circuit A is 91\n",
      "  The depth of circuit Q is 185\n",
      "For the 195th Pauli string:\n",
      "  The depth of circuit A is 91\n",
      "  The depth of circuit Q is 184\n",
      "For the 196th Pauli string:\n",
      "  The depth of circuit A is 91\n",
      "  The depth of circuit Q is 186\n",
      "For the 197th Pauli string:\n",
      "  The depth of circuit A is 91\n",
      "  The depth of circuit Q is 185\n",
      "For the 198th Pauli string:\n",
      "  The depth of circuit A is 91\n",
      "  The depth of circuit Q is 184\n",
      "For the 199th Pauli string:\n",
      "  The depth of circuit A is 91\n",
      "  The depth of circuit Q is 183\n",
      "For the 200th Pauli string:\n",
      "  The depth of circuit A is 91\n",
      "  The depth of circuit Q is 185\n",
      "For the 201th Pauli string:\n",
      "  The depth of circuit A is 90\n",
      "  The depth of circuit Q is 183\n",
      "For the 202th Pauli string:\n",
      "  The depth of circuit A is 90\n",
      "  The depth of circuit Q is 182\n",
      "For the 203th Pauli string:\n",
      "  The depth of circuit A is 91\n",
      "  The depth of circuit Q is 184\n",
      "For the 204th Pauli string:\n",
      "  The depth of circuit A is 91\n",
      "  The depth of circuit Q is 186\n",
      "For the 205th Pauli string:\n",
      "  The depth of circuit A is 90\n",
      "  The depth of circuit Q is 183\n",
      "For the 206th Pauli string:\n",
      "  The depth of circuit A is 90\n",
      "  The depth of circuit Q is 184\n",
      "For the 207th Pauli string:\n",
      "  The depth of circuit A is 91\n",
      "  The depth of circuit Q is 185\n",
      "For the 208th Pauli string:\n",
      "  The depth of circuit A is 90\n",
      "  The depth of circuit Q is 184\n",
      "For the 209th Pauli string:\n",
      "  The depth of circuit A is 91\n",
      "  The depth of circuit Q is 185\n",
      "For the 210th Pauli string:\n",
      "  The depth of circuit A is 91\n",
      "  The depth of circuit Q is 186\n",
      "For the 211th Pauli string:\n",
      "  The depth of circuit A is 90\n",
      "  The depth of circuit Q is 183\n",
      "For the 212th Pauli string:\n",
      "  The depth of circuit A is 90\n",
      "  The depth of circuit Q is 184\n",
      "For the 213th Pauli string:\n",
      "  The depth of circuit A is 90\n",
      "  The depth of circuit Q is 185\n",
      "For the 214th Pauli string:\n",
      "  The depth of circuit A is 89\n",
      "  The depth of circuit Q is 181\n",
      "For the 215th Pauli string:\n",
      "  The depth of circuit A is 88\n",
      "  The depth of circuit Q is 178\n",
      "For the 216th Pauli string:\n",
      "  The depth of circuit A is 90\n",
      "  The depth of circuit Q is 183\n",
      "For the 217th Pauli string:\n",
      "  The depth of circuit A is 88\n",
      "  The depth of circuit Q is 177\n",
      "For the 218th Pauli string:\n",
      "  The depth of circuit A is 90\n",
      "  The depth of circuit Q is 183\n",
      "For the 219th Pauli string:\n",
      "  The depth of circuit A is 90\n",
      "  The depth of circuit Q is 182\n",
      "For the 220th Pauli string:\n",
      "  The depth of circuit A is 90\n",
      "  The depth of circuit Q is 184\n",
      "For the 221th Pauli string:\n",
      "  The depth of circuit A is 89\n",
      "  The depth of circuit Q is 181\n",
      "For the 222th Pauli string:\n",
      "  The depth of circuit A is 90\n",
      "  The depth of circuit Q is 184\n",
      "For the 223th Pauli string:\n",
      "  The depth of circuit A is 90\n",
      "  The depth of circuit Q is 185\n",
      "For the 224th Pauli string:\n",
      "  The depth of circuit A is 91\n",
      "  The depth of circuit Q is 187\n",
      "For the 225th Pauli string:\n",
      "  The depth of circuit A is 91\n",
      "  The depth of circuit Q is 186\n",
      "For the 226th Pauli string:\n",
      "  The depth of circuit A is 91\n",
      "  The depth of circuit Q is 186\n",
      "For the 227th Pauli string:\n",
      "  The depth of circuit A is 91\n",
      "  The depth of circuit Q is 185\n",
      "For the 228th Pauli string:\n",
      "  The depth of circuit A is 89\n",
      "  The depth of circuit Q is 182\n",
      "For the 229th Pauli string:\n",
      "  The depth of circuit A is 88\n",
      "  The depth of circuit Q is 179\n",
      "For the 230th Pauli string:\n",
      "  The depth of circuit A is 90\n",
      "  The depth of circuit Q is 183\n",
      "For the 231th Pauli string:\n",
      "  The depth of circuit A is 90\n",
      "  The depth of circuit Q is 184\n"
     ]
    }
   ],
   "source": [
    "# Create an instance of the AerSimulator\n",
    "aer_sim = AerSimulator()\n",
    "\n",
    "# Dictionary to store depths of transpiled circuits\n",
    "transpiled_depths = {}\n",
    "\n",
    "# Walk through the numbered folders in circuits\n",
    "for folder in os.listdir('circuits'):\n",
    "    folder_path = os.path.join('circuits', folder)\n",
    "    if os.path.isdir(folder_path):\n",
    "        # Process circuit_A.qpy and circuit_Q.qpy\n",
    "        for circuit_file in ['circuit_A.qpy', 'circuit_Q.qpy']:\n",
    "            input_path = os.path.join(folder_path, circuit_file)\n",
    "            if os.path.exists(input_path):\n",
    "                # Load the circuit\n",
    "                with open(input_path, 'rb') as f:\n",
    "                    circuit = qpy_load(f)[0]\n",
    "                \n",
    "                # Transpile the circuit\n",
    "                transpiled_circuit = transpile(circuit, backend=aer_sim, optimization_level=3)\n",
    "                \n",
    "                # Save the transpiled circuit\n",
    "                transpiled_output_path = os.path.join(folder_path, f'transpiled_{circuit_file}')\n",
    "                \n",
    "                with open(transpiled_output_path, 'wb') as f:\n",
    "                    qpy_dump(transpiled_circuit, f)\n",
    "                \n",
    "                print(f\"Transpiled and saved: {transpiled_output_path}\")\n",
    "                \n",
    "                # Store the depth of the transpiled circuit\n",
    "                circuit_key = f\"{folder}_{circuit_file.split('.')[0]}\"\n",
    "                transpiled_depths[circuit_key] = transpiled_circuit.depth()\n",
    "    \n",
    "print(\"All circuits have been transpiled and saved.\")\n",
    "\n",
    "# Print depths for both circuit A and Q\n",
    "for folder in sorted([d for d in os.listdir('circuits') if os.path.isdir(os.path.join('circuits', d))], key=int):\n",
    "    circuit_A_key = f\"{folder}_circuit_A\"\n",
    "    circuit_Q_key = f\"{folder}_circuit_Q\"\n",
    "    if circuit_A_key in transpiled_depths and circuit_Q_key in transpiled_depths:\n",
    "        print(f\"For the {int(folder) + 1}th Pauli string:\")\n",
    "        print(f\"  The depth of circuit A is {transpiled_depths[circuit_A_key]}\")\n",
    "        print(f\"  The depth of circuit Q is {transpiled_depths[circuit_Q_key]}\")\n",
    "\n"
   ]
  },
  {
   "cell_type": "markdown",
   "id": "a462d9ce",
   "metadata": {
    "papermill": {
     "duration": 0.014007,
     "end_time": "2025-01-23T06:18:26.682758",
     "exception": false,
     "start_time": "2025-01-23T06:18:26.668751",
     "status": "completed"
    },
    "tags": []
   },
   "source": [
    "### 3 Plot all circuits"
   ]
  },
  {
   "cell_type": "code",
   "execution_count": 5,
   "id": "3a5768ce",
   "metadata": {
    "execution": {
     "iopub.execute_input": "2025-01-23T06:18:26.713757Z",
     "iopub.status.busy": "2025-01-23T06:18:26.713757Z",
     "iopub.status.idle": "2025-01-23T06:18:26.727889Z",
     "shell.execute_reply": "2025-01-23T06:18:26.727889Z"
    },
    "papermill": {
     "duration": 0.032133,
     "end_time": "2025-01-23T06:18:26.729890",
     "exception": false,
     "start_time": "2025-01-23T06:18:26.697757",
     "status": "completed"
    },
    "tags": []
   },
   "outputs": [],
   "source": [
    "# # Walk through the numbered folders in circuits\n",
    "# for folder in os.listdir('circuits'):\n",
    "#     folder_path = os.path.join('circuits', folder)\n",
    "#     if os.path.isdir(folder_path):\n",
    "#         # Process all circuit files in the folder\n",
    "#         for circuit_file in os.listdir(folder_path):\n",
    "#             if circuit_file.endswith('.qpy'):\n",
    "#                 input_path = os.path.join(folder_path, circuit_file)\n",
    "                \n",
    "#                 # Load the circuit\n",
    "#                 with open(input_path, 'rb') as f:\n",
    "#                     circuit = qpy_load(f)[0]\n",
    "                \n",
    "#                 # Draw the circuit\n",
    "#                 circuit_img = circuit.draw(output='mpl', style={\n",
    "#                     'dpi': 150,\n",
    "#                     'font_size': 20,\n",
    "#                     'backgroundcolor': '#EEEEEE'\n",
    "#                 })\n",
    "#                 circuit_img.figure.set_size_inches(30, 15)\n",
    "                \n",
    "#                 # Save the plot\n",
    "#                 output_filename = f\"{os.path.splitext(circuit_file)[0]}.png\"\n",
    "#                 output_path = os.path.join(folder_path, output_filename)\n",
    "#                 circuit_img.figure.savefig(output_path, dpi=300, bbox_inches='tight')\n",
    "#                 plt.close(circuit_img.figure)\n",
    "                \n",
    "#                 print(f\"Saved circuit plot: {output_path}\")\n",
    "\n",
    "# print(\"All circuit plots have been generated and saved.\")"
   ]
  },
  {
   "cell_type": "code",
   "execution_count": null,
   "id": "84168f51",
   "metadata": {
    "papermill": {
     "duration": 0.015006,
     "end_time": "2025-01-23T06:18:26.758896",
     "exception": false,
     "start_time": "2025-01-23T06:18:26.743890",
     "status": "completed"
    },
    "tags": []
   },
   "outputs": [],
   "source": []
  }
 ],
 "metadata": {
  "kernelspec": {
   "display_name": "Python 3 (ipykernel)",
   "language": "python",
   "name": "python3"
  },
  "language_info": {
   "codemirror_mode": {
    "name": "ipython",
    "version": 3
   },
   "file_extension": ".py",
   "mimetype": "text/x-python",
   "name": "python",
   "nbconvert_exporter": "python",
   "pygments_lexer": "ipython3",
   "version": "3.9.20"
  },
  "papermill": {
   "default_parameters": {},
   "duration": 99.703289,
   "end_time": "2025-01-23T06:18:27.334800",
   "environment_variables": {},
   "exception": null,
   "input_path": "all_str_A_Q.ipynb",
   "output_path": "d:\\lql\\2025Winter\\corrected_vqe_simul\\corrected_LiH\\BondLengths\\processing_BL_0p80000\\all_str_A_Q\\all_str_A_Q_out.ipynb",
   "parameters": {},
   "start_time": "2025-01-23T06:16:47.631511",
   "version": "2.6.0"
  }
 },
 "nbformat": 4,
 "nbformat_minor": 5
}