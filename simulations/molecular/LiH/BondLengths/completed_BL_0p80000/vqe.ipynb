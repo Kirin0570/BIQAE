{
 "cells": [
  {
   "cell_type": "code",
   "execution_count": 1,
   "id": "a91004bd-003e-48ec-9deb-a4b4712546d4",
   "metadata": {
    "execution": {
     "iopub.execute_input": "2025-01-23T04:54:57.980292Z",
     "iopub.status.busy": "2025-01-23T04:54:57.979560Z",
     "iopub.status.idle": "2025-01-23T04:54:59.626346Z",
     "shell.execute_reply": "2025-01-23T04:54:59.625416Z"
    },
    "papermill": {
     "duration": 1.653978,
     "end_time": "2025-01-23T04:54:59.628510",
     "exception": false,
     "start_time": "2025-01-23T04:54:57.974532",
     "status": "completed"
    },
    "tags": []
   },
   "outputs": [],
   "source": [
    "from qiskit_nature.second_q.formats.molecule_info import MoleculeInfo\n",
    "from qiskit_nature.second_q.drivers import PySCFDriver\n",
    "from qiskit_nature.second_q.transformers import FreezeCoreTransformer\n",
    "from qiskit_nature.second_q.mappers import ParityMapper\n",
    "import dill\n",
    "import numpy as np\n",
    "from qiskit_algorithms.optimizers import SPSA, SLSQP, COBYLA\n",
    "from qiskit_aer.primitives import Estimator\n",
    "from qiskit_nature.second_q.circuit.library import HartreeFock\n",
    "from qiskit.circuit.library import EfficientSU2"
   ]
  },
  {
   "cell_type": "code",
   "execution_count": 2,
   "id": "bfd3f46b-c8ad-478b-a8c3-6169683131c5",
   "metadata": {
    "editable": true,
    "execution": {
     "iopub.execute_input": "2025-01-23T04:54:59.637534Z",
     "iopub.status.busy": "2025-01-23T04:54:59.636988Z",
     "iopub.status.idle": "2025-01-23T04:54:59.644412Z",
     "shell.execute_reply": "2025-01-23T04:54:59.643569Z"
    },
    "papermill": {
     "duration": 0.013562,
     "end_time": "2025-01-23T04:54:59.646002",
     "exception": false,
     "start_time": "2025-01-23T04:54:59.632440",
     "status": "completed"
    },
    "slideshow": {
     "slide_type": ""
    },
    "tags": [
     "parameters"
    ]
   },
   "outputs": [],
   "source": [
    "BL = 0.6"
   ]
  },
  {
   "cell_type": "code",
   "execution_count": 3,
   "id": "969ea400",
   "metadata": {
    "execution": {
     "iopub.execute_input": "2025-01-23T04:54:59.653338Z",
     "iopub.status.busy": "2025-01-23T04:54:59.652826Z",
     "iopub.status.idle": "2025-01-23T04:54:59.656602Z",
     "shell.execute_reply": "2025-01-23T04:54:59.655839Z"
    },
    "papermill": {
     "duration": 0.009083,
     "end_time": "2025-01-23T04:54:59.658139",
     "exception": false,
     "start_time": "2025-01-23T04:54:59.649056",
     "status": "completed"
    },
    "tags": [
     "injected-parameters"
    ]
   },
   "outputs": [],
   "source": [
    "# Parameters\n",
    "BL = 0.8\n"
   ]
  },
  {
   "cell_type": "markdown",
   "id": "9ffc8cb9-ba3d-4fee-a312-3f8fb750c8d0",
   "metadata": {
    "papermill": {
     "duration": 0.00289,
     "end_time": "2025-01-23T04:54:59.664014",
     "exception": false,
     "start_time": "2025-01-23T04:54:59.661124",
     "status": "completed"
    },
    "tags": []
   },
   "source": [
    "### 1 Construct the Hamiltonian"
   ]
  },
  {
   "cell_type": "markdown",
   "id": "35e8153b-d82c-4377-81d8-4eb4bd758b04",
   "metadata": {
    "papermill": {
     "duration": 0.002801,
     "end_time": "2025-01-23T04:54:59.669602",
     "exception": false,
     "start_time": "2025-01-23T04:54:59.666801",
     "status": "completed"
    },
    "tags": []
   },
   "source": [
    "Helper function to construct the Hamiltonian represented as a Pauli decomposition stored in `qubit_op`, while also returning the `nuclear_repulsion_energy` and `core_electron_energy`."
   ]
  },
  {
   "cell_type": "code",
   "execution_count": 4,
   "id": "9df416a1-f5f5-4093-97ea-339e028187a0",
   "metadata": {
    "editable": true,
    "execution": {
     "iopub.execute_input": "2025-01-23T04:54:59.677479Z",
     "iopub.status.busy": "2025-01-23T04:54:59.676759Z",
     "iopub.status.idle": "2025-01-23T04:54:59.683728Z",
     "shell.execute_reply": "2025-01-23T04:54:59.682899Z"
    },
    "papermill": {
     "duration": 0.012848,
     "end_time": "2025-01-23T04:54:59.685351",
     "exception": false,
     "start_time": "2025-01-23T04:54:59.672503",
     "status": "completed"
    },
    "slideshow": {
     "slide_type": ""
    },
    "tags": []
   },
   "outputs": [],
   "source": [
    "def get_qubit_op(BL):\n",
    "    # Define Molecule\n",
    "    molecule = MoleculeInfo(\n",
    "        # Coordinates in Angstrom\n",
    "        symbols=[\"Li\", \"H\"],\n",
    "        coords=([0.0, 0.0, 0.0], [BL, 0.0, 0.0]),\n",
    "        multiplicity=1,  # = 2*spin + 1\n",
    "        charge=0,\n",
    "    )\n",
    "    \n",
    "    # molecule = MoleculeInfo(\n",
    "    #     # Coordinates in Angstrom\n",
    "    #     symbols=[\"Be\", \"H\", \"H\"],  # Beryllium and two hydrogens\n",
    "    #     coords=([0.0, 0.0, 0.0], [BL, 0.0, 0.0], [-BL, 0.0, 0.0]),  # Linear geometry\n",
    "    #     multiplicity=1,  # = 2*spin + 1, for singlet state\n",
    "    #     charge=0,  # Neutral molecule\n",
    "    # )\n",
    "\n",
    "    driver = PySCFDriver.from_molecule(molecule)\n",
    "\n",
    "    # Get properties\n",
    "    properties = driver.run()\n",
    "\n",
    "    # Now you can get the reduced electronic structure problem\n",
    "    problem = FreezeCoreTransformer(\n",
    "        freeze_core=True, remove_orbitals=[-3, -2]\n",
    "    ).transform(properties)\n",
    "    fermionic_op = problem.hamiltonian.second_q_op()\n",
    "    \n",
    "    num_particles = problem.num_particles\n",
    "    num_spatial_orbitals = problem.num_spatial_orbitals\n",
    "\n",
    "    mapper = ParityMapper(num_particles=problem.num_particles)\n",
    "    tapered_mapper = problem.get_tapered_mapper(mapper)\n",
    "    qubit_op = tapered_mapper.map(fermionic_op)\n",
    "\n",
    "    core_electron_energy = problem.hamiltonian.constants['FreezeCoreTransformer']\n",
    "    nuclear_repulsion_energy = problem.nuclear_repulsion_energy\n",
    "    \n",
    "    return qubit_op, num_particles, num_spatial_orbitals, problem, tapered_mapper, nuclear_repulsion_energy, core_electron_energy\n",
    "    "
   ]
  },
  {
   "cell_type": "code",
   "execution_count": 5,
   "id": "8d4f9c50-d5cd-4ccc-8fa8-30dd529576c9",
   "metadata": {
    "execution": {
     "iopub.execute_input": "2025-01-23T04:54:59.692983Z",
     "iopub.status.busy": "2025-01-23T04:54:59.692580Z",
     "iopub.status.idle": "2025-01-23T04:55:01.412149Z",
     "shell.execute_reply": "2025-01-23T04:55:01.410542Z"
    },
    "papermill": {
     "duration": 1.726056,
     "end_time": "2025-01-23T04:55:01.414490",
     "exception": false,
     "start_time": "2025-01-23T04:54:59.688434",
     "status": "completed"
    },
    "tags": []
   },
   "outputs": [],
   "source": [
    "(qubit_op, num_particles, num_spatial_orbitals, problem, mapper,nuclear_repulsion_energy, core_electron_energy) = get_qubit_op(BL)\n",
    "\n"
   ]
  },
  {
   "cell_type": "code",
   "execution_count": 6,
   "id": "40076bcf-f30d-4de7-a55b-1ab865f084fb",
   "metadata": {
    "execution": {
     "iopub.execute_input": "2025-01-23T04:55:01.424328Z",
     "iopub.status.busy": "2025-01-23T04:55:01.423747Z",
     "iopub.status.idle": "2025-01-23T04:55:01.510709Z",
     "shell.execute_reply": "2025-01-23T04:55:01.509807Z"
    },
    "papermill": {
     "duration": 0.093637,
     "end_time": "2025-01-23T04:55:01.512660",
     "exception": false,
     "start_time": "2025-01-23T04:55:01.419023",
     "status": "completed"
    },
    "tags": []
   },
   "outputs": [],
   "source": [
    "# Extract terms and coefficients\n",
    "pauli_list = list(zip(qubit_op.paulis, qubit_op.coeffs))\n",
    "\n",
    "# Sort terms by absolute coefficient magnitude (largest first)\n",
    "sorted_pauli_list = sorted(pauli_list, key=lambda x: abs(x[1]), reverse=True)\n",
    "\n",
    "# Print sorted terms\n",
    "# for pauli, coef in sorted_pauli_list:\n",
    "#     print(f\"Pauli: {pauli}, Coefficient: {coef}\")\n",
    "\n",
    "# Save the list\n",
    "with open(\"sorted_pauli_list.pkl\", \"wb\") as f:\n",
    "    dill.dump(sorted_pauli_list, f)"
   ]
  },
  {
   "cell_type": "code",
   "execution_count": 7,
   "id": "851f13b2-5ffb-4dcb-91ad-d8a39084227b",
   "metadata": {
    "execution": {
     "iopub.execute_input": "2025-01-23T04:55:01.520567Z",
     "iopub.status.busy": "2025-01-23T04:55:01.520079Z",
     "iopub.status.idle": "2025-01-23T04:55:01.529121Z",
     "shell.execute_reply": "2025-01-23T04:55:01.528236Z"
    },
    "papermill": {
     "duration": 0.014589,
     "end_time": "2025-01-23T04:55:01.530520",
     "exception": false,
     "start_time": "2025-01-23T04:55:01.515931",
     "status": "completed"
    },
    "tags": []
   },
   "outputs": [],
   "source": [
    "dd = np.real(min(np.linalg.eigvals(qubit_op.to_matrix())))"
   ]
  },
  {
   "cell_type": "markdown",
   "id": "3529886c-e59d-4734-a005-ebcc2151d9c2",
   "metadata": {
    "papermill": {
     "duration": 0.003544,
     "end_time": "2025-01-23T04:55:01.538139",
     "exception": false,
     "start_time": "2025-01-23T04:55:01.534595",
     "status": "completed"
    },
    "tags": []
   },
   "source": [
    "### 2 Perform VQE"
   ]
  },
  {
   "cell_type": "markdown",
   "id": "9a26e439-1fcb-4e5e-a0f6-dcb73b25a7e9",
   "metadata": {
    "papermill": {
     "duration": 0.003295,
     "end_time": "2025-01-23T04:55:01.544642",
     "exception": false,
     "start_time": "2025-01-23T04:55:01.541347",
     "status": "completed"
    },
    "tags": []
   },
   "source": [
    "Define a class to perform VQE."
   ]
  },
  {
   "cell_type": "code",
   "execution_count": 8,
   "id": "86303f16-512b-4947-8dcb-3ddb12dcdf79",
   "metadata": {
    "execution": {
     "iopub.execute_input": "2025-01-23T04:55:01.552472Z",
     "iopub.status.busy": "2025-01-23T04:55:01.551931Z",
     "iopub.status.idle": "2025-01-23T04:55:01.559996Z",
     "shell.execute_reply": "2025-01-23T04:55:01.559061Z"
    },
    "papermill": {
     "duration": 0.013831,
     "end_time": "2025-01-23T04:55:01.561525",
     "exception": false,
     "start_time": "2025-01-23T04:55:01.547694",
     "status": "completed"
    },
    "tags": []
   },
   "outputs": [],
   "source": [
    "# Define the custom VQE\n",
    "class CustomVQE:\n",
    "    def __init__(self, estimator, ansatz, optimizer, qubit_op, dd, NREplusCEE, custom_function, initial_point=None):\n",
    "        self.estimator = estimator\n",
    "        self.ansatz = ansatz\n",
    "        self.optimizer = optimizer\n",
    "        self.qubit_op = qubit_op\n",
    "        self.NREplusCEE = NREplusCEE\n",
    "        self.dd = dd\n",
    "        self.custom_function = custom_function\n",
    "        self.initial_point = initial_point  or [0] * ansatz.num_parameters\n",
    "\n",
    "    def compute_minimum_eigenvalue(self):\n",
    "        # Define the function to minimize\n",
    "        def objective_function(params):\n",
    "            # Evaluate the expectation value of the qubit operator\n",
    "            expectation = self.estimator.run([self.ansatz], [self.qubit_op], [params]).result().values[0]\n",
    "            # Evaluate the custom objective function\n",
    "            return self.custom_function(expectation, params)\n",
    "\n",
    "        # Use the `minimize` method for optimization\n",
    "        opt_result = self.optimizer.minimize(\n",
    "            fun=objective_function,\n",
    "            x0=self.initial_point\n",
    "        )\n",
    "\n",
    "        result = {\n",
    "            'x': [float(value) for value in opt_result.x],\n",
    "            'fun': opt_result.fun,\n",
    "            'dd': self.dd,\n",
    "            'NREplusCEE': self.NREplusCEE\n",
    "        }\n",
    "\n",
    "        \n",
    "        return result\n"
   ]
  },
  {
   "cell_type": "code",
   "execution_count": 9,
   "id": "c171cc3c-701c-4c56-bdbd-4f2090e20e13",
   "metadata": {
    "execution": {
     "iopub.execute_input": "2025-01-23T04:55:01.569730Z",
     "iopub.status.busy": "2025-01-23T04:55:01.569006Z",
     "iopub.status.idle": "2025-01-23T04:55:01.572994Z",
     "shell.execute_reply": "2025-01-23T04:55:01.572106Z"
    },
    "papermill": {
     "duration": 0.009732,
     "end_time": "2025-01-23T04:55:01.574657",
     "exception": false,
     "start_time": "2025-01-23T04:55:01.564925",
     "status": "completed"
    },
    "tags": []
   },
   "outputs": [],
   "source": [
    "# l=12 and maxiter = 200 works for LiH and HF"
   ]
  },
  {
   "cell_type": "code",
   "execution_count": 10,
   "id": "5b37e8b3-a55f-4153-85d3-475522a8210d",
   "metadata": {
    "execution": {
     "iopub.execute_input": "2025-01-23T04:55:01.582469Z",
     "iopub.status.busy": "2025-01-23T04:55:01.581968Z",
     "iopub.status.idle": "2025-01-23T04:55:01.606664Z",
     "shell.execute_reply": "2025-01-23T04:55:01.605760Z"
    },
    "papermill": {
     "duration": 0.030406,
     "end_time": "2025-01-23T04:55:01.608281",
     "exception": false,
     "start_time": "2025-01-23T04:55:01.577875",
     "status": "completed"
    },
    "tags": []
   },
   "outputs": [],
   "source": [
    "optimizer = SLSQP(maxiter=300)\n",
    "noiseless_estimator = Estimator(approximation=True)\n",
    "\n",
    "\n",
    "# Define ansatz\n",
    "init_state = HartreeFock(num_spatial_orbitals, num_particles, mapper)\n",
    "var_form = EfficientSU2(qubit_op.num_qubits, reps=12, entanglement='full', skip_unentangled_qubits=False, parameter_prefix='a')\n",
    "\n",
    "\n",
    "# Example Custom Objective Function\n",
    "def custom_objective_function(expectation_value, parameters):\n",
    "    # penalty_term = 0.1 * sum(param**2 for param in parameters)  # Example regularization\n",
    "    return expectation_value \n",
    "\n",
    "\n",
    "# Create an instance of CustomVQE\n",
    "custom_vqe = CustomVQE(\n",
    "    estimator=noiseless_estimator,\n",
    "    ansatz=var_form,\n",
    "    optimizer=optimizer,\n",
    "    qubit_op=qubit_op,\n",
    "    dd = dd,\n",
    "    NREplusCEE = nuclear_repulsion_energy + core_electron_energy,\n",
    "    custom_function=custom_objective_function,\n",
    "    initial_point = list(np.random.uniform(-np.pi, np.pi, var_form.num_parameters))\n",
    ")\n"
   ]
  },
  {
   "cell_type": "code",
   "execution_count": 11,
   "id": "ecc88820-8d40-44ce-84c7-20bd12d28db4",
   "metadata": {
    "execution": {
     "iopub.execute_input": "2025-01-23T04:55:01.617357Z",
     "iopub.status.busy": "2025-01-23T04:55:01.616469Z",
     "iopub.status.idle": "2025-01-23T04:59:05.700839Z",
     "shell.execute_reply": "2025-01-23T04:59:05.699668Z"
    },
    "papermill": {
     "duration": 244.090685,
     "end_time": "2025-01-23T04:59:05.702690",
     "exception": false,
     "start_time": "2025-01-23T04:55:01.612005",
     "status": "completed"
    },
    "tags": []
   },
   "outputs": [],
   "source": [
    "vqe_result = custom_vqe.compute_minimum_eigenvalue()\n"
   ]
  },
  {
   "cell_type": "code",
   "execution_count": 12,
   "id": "4dff00bc-3905-43b7-8f7c-9200e0b73af0",
   "metadata": {
    "execution": {
     "iopub.execute_input": "2025-01-23T04:59:05.713728Z",
     "iopub.status.busy": "2025-01-23T04:59:05.712835Z",
     "iopub.status.idle": "2025-01-23T04:59:05.721850Z",
     "shell.execute_reply": "2025-01-23T04:59:05.721081Z"
    },
    "papermill": {
     "duration": 0.015897,
     "end_time": "2025-01-23T04:59:05.723181",
     "exception": false,
     "start_time": "2025-01-23T04:59:05.707284",
     "status": "completed"
    },
    "tags": []
   },
   "outputs": [
    {
     "data": {
      "text/plain": [
       "156"
      ]
     },
     "execution_count": 12,
     "metadata": {},
     "output_type": "execute_result"
    }
   ],
   "source": [
    "len(vqe_result['x'])"
   ]
  },
  {
   "cell_type": "code",
   "execution_count": 13,
   "id": "09b66dae-9046-4cd5-9bd8-e800a48d0f42",
   "metadata": {
    "execution": {
     "iopub.execute_input": "2025-01-23T04:59:05.732240Z",
     "iopub.status.busy": "2025-01-23T04:59:05.731447Z",
     "iopub.status.idle": "2025-01-23T04:59:05.736544Z",
     "shell.execute_reply": "2025-01-23T04:59:05.735700Z"
    },
    "papermill": {
     "duration": 0.010887,
     "end_time": "2025-01-23T04:59:05.737790",
     "exception": false,
     "start_time": "2025-01-23T04:59:05.726903",
     "status": "completed"
    },
    "tags": []
   },
   "outputs": [
    {
     "name": "stdout",
     "output_type": "stream",
     "text": [
      "5.435142647725044e-06\n"
     ]
    }
   ],
   "source": [
    "print(vqe_result['fun'] - vqe_result['dd'])"
   ]
  },
  {
   "cell_type": "code",
   "execution_count": 14,
   "id": "bb7804b1-5bfe-4442-8a91-49614a312f54",
   "metadata": {
    "execution": {
     "iopub.execute_input": "2025-01-23T04:59:05.747300Z",
     "iopub.status.busy": "2025-01-23T04:59:05.746540Z",
     "iopub.status.idle": "2025-01-23T04:59:05.751791Z",
     "shell.execute_reply": "2025-01-23T04:59:05.751032Z"
    },
    "papermill": {
     "duration": 0.011304,
     "end_time": "2025-01-23T04:59:05.753041",
     "exception": false,
     "start_time": "2025-01-23T04:59:05.741737",
     "status": "completed"
    },
    "tags": []
   },
   "outputs": [],
   "source": [
    "with open(\"vqe_result.pkl\", \"wb\") as f:\n",
    "    dill.dump(vqe_result, f)"
   ]
  }
 ],
 "metadata": {
  "kernelspec": {
   "display_name": "Python 3 (ipykernel)",
   "language": "python",
   "name": "python3"
  },
  "language_info": {
   "codemirror_mode": {
    "name": "ipython",
    "version": 3
   },
   "file_extension": ".py",
   "mimetype": "text/x-python",
   "name": "python",
   "nbconvert_exporter": "python",
   "pygments_lexer": "ipython3",
   "version": "3.9.18"
  },
  "papermill": {
   "default_parameters": {},
   "duration": 248.994583,
   "end_time": "2025-01-23T04:59:06.278522",
   "environment_variables": {},
   "exception": null,
   "input_path": "vqe.ipynb",
   "output_path": "/tmp/BondLengths/processing_BL_0p80000/vqe.ipynb",
   "parameters": {
    "BL": 0.8
   },
   "start_time": "2025-01-23T04:54:57.283939",
   "version": "2.6.0"
  }
 },
 "nbformat": 4,
 "nbformat_minor": 5
}