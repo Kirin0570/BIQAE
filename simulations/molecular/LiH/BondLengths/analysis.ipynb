{
 "cells": [
  {
   "cell_type": "code",
   "execution_count": 1,
   "id": "186fb9d1",
   "metadata": {
    "papermill": {
     "duration": 0.446878,
     "end_time": "2024-11-04T19:34:54.980444",
     "exception": false,
     "start_time": "2024-11-04T19:34:54.533566",
     "status": "completed"
    },
    "tags": []
   },
   "outputs": [],
   "source": [
    "import os\n",
    "import numpy as np\n",
    "import dill\n",
    "import matplotlib.pyplot as plt\n",
    "from matplotlib.ticker import ScalarFormatter, FuncFormatter, MaxNLocator\n",
    "from mpl_toolkits.axes_grid1.inset_locator import inset_axes\n",
    "import pandas as pd\n"
   ]
  },
  {
   "cell_type": "markdown",
   "id": "b5e3a079",
   "metadata": {
    "papermill": {
     "duration": 0.002466,
     "end_time": "2024-11-04T19:34:54.986122",
     "exception": false,
     "start_time": "2024-11-04T19:34:54.983656",
     "status": "completed"
    },
    "tags": []
   },
   "source": [
    "### 1 Compute the Linear Combination"
   ]
  },
  {
   "cell_type": "code",
   "execution_count": null,
   "id": "8a7afd76",
   "metadata": {
    "papermill": {
     "duration": 0.010466,
     "end_time": "2024-11-04T19:34:54.998906",
     "exception": false,
     "start_time": "2024-11-04T19:34:54.988440",
     "status": "completed"
    },
    "tags": []
   },
   "outputs": [],
   "source": [
    "file = './sorted_pauli_list.pkl'\n",
    "with open(file, 'rb') as f:\n",
    "    sorted_pauli_list = dill.load(f)\n",
    "\n",
    "coefficient_list = [coef for pauli_str, coef in sorted_pauli_list]\n"
   ]
  },
  {
   "cell_type": "code",
   "execution_count": null,
   "id": "93569017",
   "metadata": {
    "papermill": {
     "duration": 0.011141,
     "end_time": "2024-11-04T19:34:55.012547",
     "exception": false,
     "start_time": "2024-11-04T19:34:55.001406",
     "status": "completed"
    },
    "tags": []
   },
   "outputs": [],
   "source": [
    "file = './aggregate_results/all_results.pkl'\n",
    "with open(file, 'rb') as f:\n",
    "    results = dill.load(f)\n",
    "\n",
    "# Display the results\n",
    "# print(\"Results:\")\n",
    "# for folder, folder_results in results.items():\n",
    "#     print(f\"\\nFolder: {folder}\")\n",
    "#     for method, method_results in folder_results.items():\n",
    "#         print(f\"  {method}:\")\n",
    "#         for metric, value in method_results.items():\n",
    "#             print(f\"    {metric}: {value:.4f}\")"
   ]
  },
  {
   "cell_type": "code",
   "execution_count": null,
   "id": "bc711a99",
   "metadata": {
    "papermill": {
     "duration": 0.009321,
     "end_time": "2024-11-04T19:34:55.024549",
     "exception": false,
     "start_time": "2024-11-04T19:34:55.015228",
     "status": "completed"
    },
    "tags": []
   },
   "outputs": [],
   "source": [
    "# Initialize a dictionary to store the linear combination results for each method\n",
    "linear_combinations = {}\n",
    "err_bound = {}\n",
    "\n",
    "methods = list(results['0'].keys())\n",
    "\n",
    "# Initialize the linear combination to 0 for each method\n",
    "for method in methods:\n",
    "    linear_combinations[method] = 0\n",
    "    err_bound[method] = 0\n",
    "\n",
    "# Process each folder one by one\n",
    "for i in range(len(results)):\n",
    "    key = str(i)\n",
    "    result = results[key]\n",
    "    \n",
    "    # Compute and update the linear combination for each method\n",
    "    for method in methods:\n",
    "        avg_center = result[method]['avg_interval_center']\n",
    "        \n",
    "        # Update the linear combination incrementally\n",
    "        linear_combinations[method] += coefficient_list[i] * (2 * (1 - avg_center) - 1)\n",
    "        err_bound[method] += abs(coefficient_list[i]) * result[method]['avg_interval_half_length']\n",
    "    \n",
    "    # Optional: print intermediate results if needed\n",
    "    # print(f\"After processing folder {i}, linear combinations so far:\")\n",
    "    # for method, result in linear_combinations.items():\n",
    "    #     print(f\"  {method}: {result:.6f}\")\n",
    "\n",
    "# Final display of the linear combination results with error bounds\n",
    "print(\"\\nFinal Linear Combination Results with Error Bounds:\")\n",
    "for method in linear_combinations:\n",
    "    result = linear_combinations[method]\n",
    "    error = err_bound[method]\n",
    "    print(f\"  {method}: {result:.6f} ± {error:.6f}\")\n",
    "\n"
   ]
  },
  {
   "cell_type": "markdown",
   "id": "930046ae",
   "metadata": {
    "papermill": {
     "duration": 0.002698,
     "end_time": "2024-11-04T19:34:55.030022",
     "exception": false,
     "start_time": "2024-11-04T19:34:55.027324",
     "status": "completed"
    },
    "tags": []
   },
   "source": [
    "### 2 Plots"
   ]
  },
  {
   "cell_type": "code",
   "execution_count": null,
   "id": "d51e4e21",
   "metadata": {
    "papermill": {
     "duration": 0.008518,
     "end_time": "2024-11-04T19:34:55.041056",
     "exception": false,
     "start_time": "2024-11-04T19:34:55.032538",
     "status": "completed"
    },
    "tags": []
   },
   "outputs": [],
   "source": [
    "x1 = range(len(results))\n",
    "x2 = [results[str(x)]['Naive']['avg_interval_center'] for x in x1]\n",
    "x2, x1 = zip(*sorted(zip(x2, x1)))\n",
    "\n",
    "y_sc_naive = [results[str(x)]['Naive']['avg_sample_complexity'] for x in x1]\n",
    "y_sc_iae = [results[str(x)]['IAE without Bayesian']['avg_sample_complexity'] for x in x1]\n",
    "y_sc_bayes = [results[str(x)]['IAE with Bayesian']['avg_sample_complexity'] for x in x1]\n",
    "\n",
    "y_dep_naive = [results[str(x)]['Naive']['avg_max_num_Q'] for x in x1]\n",
    "y_dep_iae = [results[str(x)]['IAE without Bayesian']['avg_max_num_Q'] for x in x1]\n",
    "y_dep_bayes = [results[str(x)]['IAE with Bayesian']['avg_max_num_Q'] for x in x1]"
   ]
  },
  {
   "cell_type": "code",
   "execution_count": null,
   "id": "c4d420eb",
   "metadata": {},
   "outputs": [],
   "source": [
    "import matplotlib.pyplot as plt\n",
    "from matplotlib.ticker import ScalarFormatter, MaxNLocator\n",
    "from mpl_toolkits.axes_grid1.inset_locator import inset_axes\n",
    "\n",
    "# Create the main plot\n",
    "fig, ax = plt.subplots(figsize=(9, 6))\n",
    "\n",
    "# Plot the sample complexities for Naive, IAE without Bayesian, and IAE with Bayesian\n",
    "ax.plot(range(len(x1)), y_sc_naive, label='Classical QAE', marker='o', color='#00008b', linewidth=1, markersize=3)\n",
    "ax.plot(range(len(x1)), y_sc_iae, label='IQAE-CP', marker='s', color='#add8e6', linewidth=1, markersize=4)\n",
    "ax.plot(range(len(x1)), y_sc_bayes, label='Beta-BIQAE', marker='^', color='#4682b4', linestyle='-.', linewidth=1, markersize=2)\n",
    "\n",
    "# Reduce the number of x-axis ticks\n",
    "step = 135\n",
    "ax.set_xticks([0,225])\n",
    "ax.set_xticklabels([0,225],fontsize=11)\n",
    "ax.set_yticks([0*10**6,1*10**6])\n",
    "ax.set_yticklabels([0*10**6,1*10**6],fontsize=11)\n",
    "\n",
    "# Enable scientific notation on the y-axis\n",
    "ax.yaxis.set_major_formatter(ScalarFormatter(useMathText=True))\n",
    "ax.ticklabel_format(style='sci', axis='y', scilimits=(0, 0))\n",
    "\n",
    "# Add labels, title, and legend with smaller font size\n",
    "ax.set_xlabel('Pauli String Index', fontsize=12)\n",
    "ax.set_ylabel('Average Quantum Sample Complexity', fontsize=12)\n",
    "ax.set_title('Pauli Term Quantum Sample Complexity Comparison for LiH', fontsize=13)\n",
    "ax.legend(loc='upper left', fontsize=12)\n",
    "\n",
    "# Create the first zoomed-in inset\n",
    "ax_inset1 = inset_axes(ax, width=\"100%\", height=\"100%\", loc=\"upper left\",\n",
    "                       bbox_to_anchor=(0.225, 0.15, 0.3, 0.65), bbox_transform=ax.transAxes)\n",
    "\n",
    "ax_inset1.plot(range(len(x1)), y_sc_iae, label='IQAE-CP', marker='s', color='#add8e6', linewidth=1, markersize=2)\n",
    "ax_inset1.plot(range(len(x1)), y_sc_bayes, label='Beta-BIQAE', marker='^', color='#4682b4', linestyle='-.', linewidth=1, markersize=2)\n",
    "\n",
    "# Reduce x-axis labels for the inset\n",
    "ax_inset1.set_xticks([0,225])\n",
    "ax_inset1.set_xticklabels([0,225], fontsize=11)\n",
    "ax_inset1.set_yticks([2*10**3,9*10**3])\n",
    "ax_inset1.set_yticklabels([2*10**3,9*10**3], fontsize=11)\n",
    "\n",
    "\n",
    "ax_inset1.yaxis.set_major_formatter(ScalarFormatter(useMathText=True))\n",
    "ax_inset1.ticklabel_format(style='sci', axis='y', scilimits=(0, 0))\n",
    "ax_inset1.yaxis.tick_right()\n",
    "ax_inset1.tick_params(axis='y', direction='in', pad=-12, labelsize=11)\n",
    "ax_inset1.set_ylim(min(y_sc_bayes) - 100, max(y_sc_iae) + 600)\n",
    "\n",
    "# Create the second zoomed-in inset\n",
    "ax_inset2 = inset_axes(ax, width=\"100%\", height=\"100%\", loc=\"upper right\",\n",
    "                       bbox_to_anchor=(0.55, 0.15, 0.295, 0.65), bbox_transform=ax.transAxes)\n",
    "\n",
    "# Calculate improvement percentages and plot a line\n",
    "improvement_percentages = [(iae - bayes) / iae * 100 for iae, bayes in zip(y_sc_iae, y_sc_bayes)]\n",
    "ax_inset2.plot(range(len(x1)), improvement_percentages, color='orange', linewidth=0.5)\n",
    "\n",
    "# Fill the area below the line\n",
    "ax_inset2.fill_between(range(len(x1)), improvement_percentages, color='orange', alpha=0.3)\n",
    "\n",
    "# Reduce x-axis labels for the line plot\n",
    "ax_inset2.set_xticks([0,225])\n",
    "ax_inset2.set_xticklabels([0,225], fontsize=11)\n",
    "ax_inset2.set_yticks([0,20])\n",
    "ax_inset2.set_yticklabels([0,20], fontsize=11)\n",
    "\n",
    "# Set integer y-axis ticks for the line plot\n",
    "ax_inset2.yaxis.set_label_position(\"right\")  # 将 y 轴标签移动到右侧\n",
    "# ax_inset2.yaxis.set_major_locator(MaxNLocator(integer=True))\n",
    "ax_inset2.yaxis.tick_right()\n",
    "ax_inset2.tick_params(axis='y', direction='in', pad=5, labelsize=14)\n",
    "# ax_inset2.set_ylim(min(improvement_percentages) - 1, max(improvement_percentages) + 2)\n",
    "\n",
    "ax_inset2.set_ylabel('Improvement (%)', fontsize=14, labelpad=-5)\n",
    "\n",
    "# save and how\n",
    "plt.savefig('sc.png', format='png', dpi=300)\n",
    "plt.show()\n"
   ]
  },
  {
   "cell_type": "code",
   "execution_count": null,
   "id": "314b0c76",
   "metadata": {
    "papermill": {
     "duration": 0.367975,
     "end_time": "2024-11-04T19:34:57.201947",
     "exception": false,
     "start_time": "2024-11-04T19:34:56.833972",
     "status": "completed"
    },
    "tags": []
   },
   "outputs": [],
   "source": [
    "# Plot the depths for IQAE and Bayesian IQAE\n",
    "plt.plot(range(len(x1)), y_dep_iae, label='IQAE-CP', marker='s', color='#add8e6', linewidth=1, markersize=4)\n",
    "plt.plot(range(len(x1)), y_dep_bayes, label='Beta-BIQAE', marker='^', color='#4682b4', linestyle='-.', linewidth=1, markersize=4)\n",
    "\n",
    "# Set x-axis ticks and labels based on x1\n",
    "step = 15   # Reduce the number of x-axis ticks\n",
    "plt.xticks(ticks=[0,225], labels=[0,225], fontsize=11)\n",
    "plt.yticks(ticks=[0,2.5*10**2], labels=[0,2*10**2], fontsize=11)\n",
    "\n",
    "# Enable scientific notation on the y-axis\n",
    "plt.gca().yaxis.set_major_formatter(ScalarFormatter(useMathText=True))\n",
    "plt.ticklabel_format(style='sci', axis='y', scilimits=(0,0))\n",
    "\n",
    "# Add labels, title, and legend\n",
    "plt.xlabel('Pauli String Index',fontsize=14)\n",
    "plt.ylabel(r\"Average Number of $\\mathcal{Q}$ Operators\",fontsize=14)\n",
    "plt.title('Circuit Depth Comparison for LiH',fontsize=15)\n",
    "plt.legend(fontsize=12)\n",
    "\n",
    "plt.savefig('dep.png', format='png', dpi=300)  # dpi=300 for high quality\n",
    "\n",
    "# Show the plot\n",
    "plt.show()"
   ]
  },
  {
   "cell_type": "markdown",
   "id": "dce89a7e",
   "metadata": {
    "papermill": {
     "duration": 0.006105,
     "end_time": "2024-11-04T19:34:57.214609",
     "exception": false,
     "start_time": "2024-11-04T19:34:57.208504",
     "status": "completed"
    },
    "tags": []
   },
   "source": [
    "### 3 Summary"
   ]
  },
  {
   "cell_type": "code",
   "execution_count": null,
   "id": "92426862",
   "metadata": {
    "papermill": {
     "duration": 0.01066,
     "end_time": "2024-11-04T19:34:57.232085",
     "exception": false,
     "start_time": "2024-11-04T19:34:57.221425",
     "status": "completed"
    },
    "tags": []
   },
   "outputs": [],
   "source": [
    "# Final display of the linear combination results with error bounds\n",
    "print(\"\\nFinal Linear Combination Results with Error Bounds:\")\n",
    "for method in linear_combinations:\n",
    "    result = linear_combinations[method]\n",
    "    error = err_bound[method]\n",
    "    print(f\"  {method}: {result.real:.6f} ± {error:.6f}\")"
   ]
  },
  {
   "cell_type": "code",
   "execution_count": null,
   "id": "c4f841bd",
   "metadata": {
    "papermill": {
     "duration": 0.011586,
     "end_time": "2024-11-04T19:34:57.249955",
     "exception": false,
     "start_time": "2024-11-04T19:34:57.238369",
     "status": "completed"
    },
    "tags": []
   },
   "outputs": [],
   "source": [
    "print(\"Total Quantum Sample Complexity Resutls:\")\n",
    "print(f\"Naive: {sum(y_sc_naive):.0f}\")\n",
    "print(f\"IAE without Bayesian: {sum(y_sc_iae):.0f}\")\n",
    "print(f\"IAE with Bayesian: {sum(y_sc_bayes):.0f}\")"
   ]
  },
  {
   "cell_type": "code",
   "execution_count": null,
   "id": "6af30d7a",
   "metadata": {},
   "outputs": [],
   "source": [
    "# Define the storage directory and file path\n",
    "output_dir = \"../plot\"\n",
    "os.makedirs(output_dir, exist_ok=True)\n",
    "file_path = os.path.join(output_dir, \"summary.csv\")\n",
    "\n",
    "# Create a data structure to store the results\n",
    "data = {}\n",
    "methods = list(linear_combinations.keys())\n",
    "\n",
    "# Store the results of each method in the corresponding column\n",
    "for method in methods:\n",
    "    data[f\"{method} (est)\"] = [linear_combinations[method].real]\n",
    "    data[f\"{method} (err_bound)\"] = [err_bound[method]]\n",
    "\n",
    "# Store the total results in the corresponding columns\n",
    "data[\"Naive (total_sc)\"] = [sum(y_sc_naive)]\n",
    "data[\"IAE without Bayesian (total_sc)\"] = [sum(y_sc_iae)]\n",
    "data[\"IAE with Bayesian (total_sc)\"] = [sum(y_sc_bayes)]\n",
    "\n",
    "# Create a DataFrame\n",
    "df = pd.DataFrame(data)\n",
    "\n",
    "# If the file already exists, append a new row\n",
    "if os.path.exists(file_path):\n",
    "    existing_df = pd.read_csv(file_path)\n",
    "    combined_df = pd.concat([existing_df, df], ignore_index=True)\n",
    "else:\n",
    "    combined_df = df\n",
    "\n",
    "# Save the results to a CSV file\n",
    "combined_df.to_csv(file_path, index=False)"
   ]
  }
 ],
 "metadata": {
  "kernelspec": {
   "display_name": "Python 3 (ipykernel)",
   "language": "python",
   "name": "python3"
  },
  "language_info": {
   "codemirror_mode": {
    "name": "ipython",
    "version": 3
   },
   "file_extension": ".py",
   "mimetype": "text/x-python",
   "name": "python",
   "nbconvert_exporter": "python",
   "pygments_lexer": "ipython3",
   "version": "3.12.4"
  },
  "papermill": {
   "default_parameters": {},
   "duration": 4.360953,
   "end_time": "2024-11-04T19:34:57.608738",
   "environment_variables": {},
   "exception": null,
   "input_path": "analysis.ipynb",
   "output_path": "d:\\lql\\2024Spring\\AAE\\vqe_simul\\exp5_H2_diff_bond_length\\D0\\analysis_out.ipynb",
   "parameters": {},
   "start_time": "2024-11-04T19:34:53.247785",
   "version": "2.6.0"
  }
 },
 "nbformat": 4,
 "nbformat_minor": 5
}
