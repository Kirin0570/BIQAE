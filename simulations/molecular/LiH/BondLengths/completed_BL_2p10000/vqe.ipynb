{
 "cells": [
  {
   "cell_type": "code",
   "execution_count": 1,
   "id": "a91004bd-003e-48ec-9deb-a4b4712546d4",
   "metadata": {
    "execution": {
     "iopub.execute_input": "2025-01-23T05:11:06.433470Z",
     "iopub.status.busy": "2025-01-23T05:11:06.432702Z",
     "iopub.status.idle": "2025-01-23T05:11:08.101344Z",
     "shell.execute_reply": "2025-01-23T05:11:08.100252Z"
    },
    "papermill": {
     "duration": 1.674934,
     "end_time": "2025-01-23T05:11:08.103056",
     "exception": false,
     "start_time": "2025-01-23T05:11:06.428122",
     "status": "completed"
    },
    "tags": []
   },
   "outputs": [],
   "source": [
    "from qiskit_nature.second_q.formats.molecule_info import MoleculeInfo\n",
    "from qiskit_nature.second_q.drivers import PySCFDriver\n",
    "from qiskit_nature.second_q.transformers import FreezeCoreTransformer\n",
    "from qiskit_nature.second_q.mappers import ParityMapper\n",
    "import dill\n",
    "import numpy as np\n",
    "from qiskit_algorithms.optimizers import SPSA, SLSQP, COBYLA\n",
    "from qiskit_aer.primitives import Estimator\n",
    "from qiskit_nature.second_q.circuit.library import HartreeFock\n",
    "from qiskit.circuit.library import EfficientSU2"
   ]
  },
  {
   "cell_type": "code",
   "execution_count": 2,
   "id": "bfd3f46b-c8ad-478b-a8c3-6169683131c5",
   "metadata": {
    "editable": true,
    "execution": {
     "iopub.execute_input": "2025-01-23T05:11:08.111972Z",
     "iopub.status.busy": "2025-01-23T05:11:08.111340Z",
     "iopub.status.idle": "2025-01-23T05:11:08.118495Z",
     "shell.execute_reply": "2025-01-23T05:11:08.117737Z"
    },
    "papermill": {
     "duration": 0.012749,
     "end_time": "2025-01-23T05:11:08.119605",
     "exception": false,
     "start_time": "2025-01-23T05:11:08.106856",
     "status": "completed"
    },
    "slideshow": {
     "slide_type": ""
    },
    "tags": [
     "parameters"
    ]
   },
   "outputs": [],
   "source": [
    "BL = 0.6"
   ]
  },
  {
   "cell_type": "code",
   "execution_count": 3,
   "id": "b116adab",
   "metadata": {
    "execution": {
     "iopub.execute_input": "2025-01-23T05:11:08.126638Z",
     "iopub.status.busy": "2025-01-23T05:11:08.125982Z",
     "iopub.status.idle": "2025-01-23T05:11:08.129458Z",
     "shell.execute_reply": "2025-01-23T05:11:08.128756Z"
    },
    "papermill": {
     "duration": 0.008321,
     "end_time": "2025-01-23T05:11:08.130804",
     "exception": false,
     "start_time": "2025-01-23T05:11:08.122483",
     "status": "completed"
    },
    "tags": [
     "injected-parameters"
    ]
   },
   "outputs": [],
   "source": [
    "# Parameters\n",
    "BL = 2.1\n"
   ]
  },
  {
   "cell_type": "markdown",
   "id": "9ffc8cb9-ba3d-4fee-a312-3f8fb750c8d0",
   "metadata": {
    "papermill": {
     "duration": 0.002835,
     "end_time": "2025-01-23T05:11:08.136474",
     "exception": false,
     "start_time": "2025-01-23T05:11:08.133639",
     "status": "completed"
    },
    "tags": []
   },
   "source": [
    "### 1 Construct the Hamiltonian"
   ]
  },
  {
   "cell_type": "markdown",
   "id": "35e8153b-d82c-4377-81d8-4eb4bd758b04",
   "metadata": {
    "papermill": {
     "duration": 0.002763,
     "end_time": "2025-01-23T05:11:08.141949",
     "exception": false,
     "start_time": "2025-01-23T05:11:08.139186",
     "status": "completed"
    },
    "tags": []
   },
   "source": [
    "Helper function to construct the Hamiltonian represented as a Pauli decomposition stored in `qubit_op`, while also returning the `nuclear_repulsion_energy` and `core_electron_energy`."
   ]
  },
  {
   "cell_type": "code",
   "execution_count": 4,
   "id": "9df416a1-f5f5-4093-97ea-339e028187a0",
   "metadata": {
    "editable": true,
    "execution": {
     "iopub.execute_input": "2025-01-23T05:11:08.149489Z",
     "iopub.status.busy": "2025-01-23T05:11:08.148753Z",
     "iopub.status.idle": "2025-01-23T05:11:08.155535Z",
     "shell.execute_reply": "2025-01-23T05:11:08.154783Z"
    },
    "papermill": {
     "duration": 0.011959,
     "end_time": "2025-01-23T05:11:08.156820",
     "exception": false,
     "start_time": "2025-01-23T05:11:08.144861",
     "status": "completed"
    },
    "slideshow": {
     "slide_type": ""
    },
    "tags": []
   },
   "outputs": [],
   "source": [
    "def get_qubit_op(BL):\n",
    "    # Define Molecule\n",
    "    molecule = MoleculeInfo(\n",
    "        # Coordinates in Angstrom\n",
    "        symbols=[\"Li\", \"H\"],\n",
    "        coords=([0.0, 0.0, 0.0], [BL, 0.0, 0.0]),\n",
    "        multiplicity=1,  # = 2*spin + 1\n",
    "        charge=0,\n",
    "    )\n",
    "    \n",
    "    # molecule = MoleculeInfo(\n",
    "    #     # Coordinates in Angstrom\n",
    "    #     symbols=[\"Be\", \"H\", \"H\"],  # Beryllium and two hydrogens\n",
    "    #     coords=([0.0, 0.0, 0.0], [BL, 0.0, 0.0], [-BL, 0.0, 0.0]),  # Linear geometry\n",
    "    #     multiplicity=1,  # = 2*spin + 1, for singlet state\n",
    "    #     charge=0,  # Neutral molecule\n",
    "    # )\n",
    "\n",
    "    driver = PySCFDriver.from_molecule(molecule)\n",
    "\n",
    "    # Get properties\n",
    "    properties = driver.run()\n",
    "\n",
    "    # Now you can get the reduced electronic structure problem\n",
    "    problem = FreezeCoreTransformer(\n",
    "        freeze_core=True, remove_orbitals=[-3, -2]\n",
    "    ).transform(properties)\n",
    "    fermionic_op = problem.hamiltonian.second_q_op()\n",
    "    \n",
    "    num_particles = problem.num_particles\n",
    "    num_spatial_orbitals = problem.num_spatial_orbitals\n",
    "\n",
    "    mapper = ParityMapper(num_particles=problem.num_particles)\n",
    "    tapered_mapper = problem.get_tapered_mapper(mapper)\n",
    "    qubit_op = tapered_mapper.map(fermionic_op)\n",
    "\n",
    "    core_electron_energy = problem.hamiltonian.constants['FreezeCoreTransformer']\n",
    "    nuclear_repulsion_energy = problem.nuclear_repulsion_energy\n",
    "    \n",
    "    return qubit_op, num_particles, num_spatial_orbitals, problem, tapered_mapper, nuclear_repulsion_energy, core_electron_energy\n",
    "    "
   ]
  },
  {
   "cell_type": "code",
   "execution_count": 5,
   "id": "8d4f9c50-d5cd-4ccc-8fa8-30dd529576c9",
   "metadata": {
    "execution": {
     "iopub.execute_input": "2025-01-23T05:11:08.163970Z",
     "iopub.status.busy": "2025-01-23T05:11:08.163329Z",
     "iopub.status.idle": "2025-01-23T05:11:09.742509Z",
     "shell.execute_reply": "2025-01-23T05:11:09.741593Z"
    },
    "papermill": {
     "duration": 1.584413,
     "end_time": "2025-01-23T05:11:09.744164",
     "exception": false,
     "start_time": "2025-01-23T05:11:08.159751",
     "status": "completed"
    },
    "tags": []
   },
   "outputs": [],
   "source": [
    "(qubit_op, num_particles, num_spatial_orbitals, problem, mapper,nuclear_repulsion_energy, core_electron_energy) = get_qubit_op(BL)\n",
    "\n"
   ]
  },
  {
   "cell_type": "code",
   "execution_count": 6,
   "id": "40076bcf-f30d-4de7-a55b-1ab865f084fb",
   "metadata": {
    "execution": {
     "iopub.execute_input": "2025-01-23T05:11:09.752669Z",
     "iopub.status.busy": "2025-01-23T05:11:09.752217Z",
     "iopub.status.idle": "2025-01-23T05:11:09.834224Z",
     "shell.execute_reply": "2025-01-23T05:11:09.833389Z"
    },
    "papermill": {
     "duration": 0.087977,
     "end_time": "2025-01-23T05:11:09.835954",
     "exception": false,
     "start_time": "2025-01-23T05:11:09.747977",
     "status": "completed"
    },
    "tags": []
   },
   "outputs": [],
   "source": [
    "# Extract terms and coefficients\n",
    "pauli_list = list(zip(qubit_op.paulis, qubit_op.coeffs))\n",
    "\n",
    "# Sort terms by absolute coefficient magnitude (largest first)\n",
    "sorted_pauli_list = sorted(pauli_list, key=lambda x: abs(x[1]), reverse=True)\n",
    "\n",
    "# Print sorted terms\n",
    "# for pauli, coef in sorted_pauli_list:\n",
    "#     print(f\"Pauli: {pauli}, Coefficient: {coef}\")\n",
    "\n",
    "# Save the list\n",
    "with open(\"sorted_pauli_list.pkl\", \"wb\") as f:\n",
    "    dill.dump(sorted_pauli_list, f)"
   ]
  },
  {
   "cell_type": "code",
   "execution_count": 7,
   "id": "851f13b2-5ffb-4dcb-91ad-d8a39084227b",
   "metadata": {
    "execution": {
     "iopub.execute_input": "2025-01-23T05:11:09.844366Z",
     "iopub.status.busy": "2025-01-23T05:11:09.843631Z",
     "iopub.status.idle": "2025-01-23T05:11:09.851556Z",
     "shell.execute_reply": "2025-01-23T05:11:09.850752Z"
    },
    "papermill": {
     "duration": 0.013829,
     "end_time": "2025-01-23T05:11:09.852941",
     "exception": false,
     "start_time": "2025-01-23T05:11:09.839112",
     "status": "completed"
    },
    "tags": []
   },
   "outputs": [],
   "source": [
    "dd = np.real(min(np.linalg.eigvals(qubit_op.to_matrix())))"
   ]
  },
  {
   "cell_type": "markdown",
   "id": "3529886c-e59d-4734-a005-ebcc2151d9c2",
   "metadata": {
    "papermill": {
     "duration": 0.003477,
     "end_time": "2025-01-23T05:11:09.860321",
     "exception": false,
     "start_time": "2025-01-23T05:11:09.856844",
     "status": "completed"
    },
    "tags": []
   },
   "source": [
    "### 2 Perform VQE"
   ]
  },
  {
   "cell_type": "markdown",
   "id": "9a26e439-1fcb-4e5e-a0f6-dcb73b25a7e9",
   "metadata": {
    "papermill": {
     "duration": 0.002952,
     "end_time": "2025-01-23T05:11:09.866217",
     "exception": false,
     "start_time": "2025-01-23T05:11:09.863265",
     "status": "completed"
    },
    "tags": []
   },
   "source": [
    "Define a class to perform VQE."
   ]
  },
  {
   "cell_type": "code",
   "execution_count": 8,
   "id": "86303f16-512b-4947-8dcb-3ddb12dcdf79",
   "metadata": {
    "execution": {
     "iopub.execute_input": "2025-01-23T05:11:09.874000Z",
     "iopub.status.busy": "2025-01-23T05:11:09.873405Z",
     "iopub.status.idle": "2025-01-23T05:11:09.880641Z",
     "shell.execute_reply": "2025-01-23T05:11:09.879895Z"
    },
    "papermill": {
     "duration": 0.012648,
     "end_time": "2025-01-23T05:11:09.881960",
     "exception": false,
     "start_time": "2025-01-23T05:11:09.869312",
     "status": "completed"
    },
    "tags": []
   },
   "outputs": [],
   "source": [
    "# Define the custom VQE\n",
    "class CustomVQE:\n",
    "    def __init__(self, estimator, ansatz, optimizer, qubit_op, dd, NREplusCEE, custom_function, initial_point=None):\n",
    "        self.estimator = estimator\n",
    "        self.ansatz = ansatz\n",
    "        self.optimizer = optimizer\n",
    "        self.qubit_op = qubit_op\n",
    "        self.NREplusCEE = NREplusCEE\n",
    "        self.dd = dd\n",
    "        self.custom_function = custom_function\n",
    "        self.initial_point = initial_point  or [0] * ansatz.num_parameters\n",
    "\n",
    "    def compute_minimum_eigenvalue(self):\n",
    "        # Define the function to minimize\n",
    "        def objective_function(params):\n",
    "            # Evaluate the expectation value of the qubit operator\n",
    "            expectation = self.estimator.run([self.ansatz], [self.qubit_op], [params]).result().values[0]\n",
    "            # Evaluate the custom objective function\n",
    "            return self.custom_function(expectation, params)\n",
    "\n",
    "        # Use the `minimize` method for optimization\n",
    "        opt_result = self.optimizer.minimize(\n",
    "            fun=objective_function,\n",
    "            x0=self.initial_point\n",
    "        )\n",
    "\n",
    "        result = {\n",
    "            'x': [float(value) for value in opt_result.x],\n",
    "            'fun': opt_result.fun,\n",
    "            'dd': self.dd,\n",
    "            'NREplusCEE': self.NREplusCEE\n",
    "        }\n",
    "\n",
    "        \n",
    "        return result\n"
   ]
  },
  {
   "cell_type": "code",
   "execution_count": 9,
   "id": "c171cc3c-701c-4c56-bdbd-4f2090e20e13",
   "metadata": {
    "execution": {
     "iopub.execute_input": "2025-01-23T05:11:09.889510Z",
     "iopub.status.busy": "2025-01-23T05:11:09.889094Z",
     "iopub.status.idle": "2025-01-23T05:11:09.892709Z",
     "shell.execute_reply": "2025-01-23T05:11:09.891930Z"
    },
    "papermill": {
     "duration": 0.008808,
     "end_time": "2025-01-23T05:11:09.894074",
     "exception": false,
     "start_time": "2025-01-23T05:11:09.885266",
     "status": "completed"
    },
    "tags": []
   },
   "outputs": [],
   "source": [
    "# l=12 and maxiter = 200 works for LiH and HF"
   ]
  },
  {
   "cell_type": "code",
   "execution_count": 10,
   "id": "5b37e8b3-a55f-4153-85d3-475522a8210d",
   "metadata": {
    "execution": {
     "iopub.execute_input": "2025-01-23T05:11:09.901494Z",
     "iopub.status.busy": "2025-01-23T05:11:09.900945Z",
     "iopub.status.idle": "2025-01-23T05:11:09.923065Z",
     "shell.execute_reply": "2025-01-23T05:11:09.922232Z"
    },
    "papermill": {
     "duration": 0.027411,
     "end_time": "2025-01-23T05:11:09.924511",
     "exception": false,
     "start_time": "2025-01-23T05:11:09.897100",
     "status": "completed"
    },
    "tags": []
   },
   "outputs": [],
   "source": [
    "optimizer = SLSQP(maxiter=300)\n",
    "noiseless_estimator = Estimator(approximation=True)\n",
    "\n",
    "\n",
    "# Define ansatz\n",
    "init_state = HartreeFock(num_spatial_orbitals, num_particles, mapper)\n",
    "var_form = EfficientSU2(qubit_op.num_qubits, reps=12, entanglement='full', skip_unentangled_qubits=False, parameter_prefix='a')\n",
    "\n",
    "\n",
    "# Example Custom Objective Function\n",
    "def custom_objective_function(expectation_value, parameters):\n",
    "    # penalty_term = 0.1 * sum(param**2 for param in parameters)  # Example regularization\n",
    "    return expectation_value \n",
    "\n",
    "\n",
    "# Create an instance of CustomVQE\n",
    "custom_vqe = CustomVQE(\n",
    "    estimator=noiseless_estimator,\n",
    "    ansatz=var_form,\n",
    "    optimizer=optimizer,\n",
    "    qubit_op=qubit_op,\n",
    "    dd = dd,\n",
    "    NREplusCEE = nuclear_repulsion_energy + core_electron_energy,\n",
    "    custom_function=custom_objective_function,\n",
    "    initial_point = list(np.random.uniform(-np.pi, np.pi, var_form.num_parameters))\n",
    ")\n"
   ]
  },
  {
   "cell_type": "code",
   "execution_count": 11,
   "id": "ecc88820-8d40-44ce-84c7-20bd12d28db4",
   "metadata": {
    "execution": {
     "iopub.execute_input": "2025-01-23T05:11:09.932421Z",
     "iopub.status.busy": "2025-01-23T05:11:09.931763Z",
     "iopub.status.idle": "2025-01-23T05:14:19.525860Z",
     "shell.execute_reply": "2025-01-23T05:14:19.524799Z"
    },
    "papermill": {
     "duration": 189.599818,
     "end_time": "2025-01-23T05:14:19.527620",
     "exception": false,
     "start_time": "2025-01-23T05:11:09.927802",
     "status": "completed"
    },
    "tags": []
   },
   "outputs": [],
   "source": [
    "vqe_result = custom_vqe.compute_minimum_eigenvalue()\n"
   ]
  },
  {
   "cell_type": "code",
   "execution_count": 12,
   "id": "4dff00bc-3905-43b7-8f7c-9200e0b73af0",
   "metadata": {
    "execution": {
     "iopub.execute_input": "2025-01-23T05:14:19.537634Z",
     "iopub.status.busy": "2025-01-23T05:14:19.537137Z",
     "iopub.status.idle": "2025-01-23T05:14:19.545433Z",
     "shell.execute_reply": "2025-01-23T05:14:19.544620Z"
    },
    "papermill": {
     "duration": 0.014433,
     "end_time": "2025-01-23T05:14:19.546756",
     "exception": false,
     "start_time": "2025-01-23T05:14:19.532323",
     "status": "completed"
    },
    "tags": []
   },
   "outputs": [
    {
     "data": {
      "text/plain": [
       "156"
      ]
     },
     "execution_count": 12,
     "metadata": {},
     "output_type": "execute_result"
    }
   ],
   "source": [
    "len(vqe_result['x'])"
   ]
  },
  {
   "cell_type": "code",
   "execution_count": 13,
   "id": "09b66dae-9046-4cd5-9bd8-e800a48d0f42",
   "metadata": {
    "execution": {
     "iopub.execute_input": "2025-01-23T05:14:19.555007Z",
     "iopub.status.busy": "2025-01-23T05:14:19.554376Z",
     "iopub.status.idle": "2025-01-23T05:14:19.559165Z",
     "shell.execute_reply": "2025-01-23T05:14:19.558414Z"
    },
    "papermill": {
     "duration": 0.010344,
     "end_time": "2025-01-23T05:14:19.560592",
     "exception": false,
     "start_time": "2025-01-23T05:14:19.550248",
     "status": "completed"
    },
    "tags": []
   },
   "outputs": [
    {
     "name": "stdout",
     "output_type": "stream",
     "text": [
      "8.590987045309362e-06\n"
     ]
    }
   ],
   "source": [
    "print(vqe_result['fun'] - vqe_result['dd'])"
   ]
  },
  {
   "cell_type": "code",
   "execution_count": 14,
   "id": "bb7804b1-5bfe-4442-8a91-49614a312f54",
   "metadata": {
    "execution": {
     "iopub.execute_input": "2025-01-23T05:14:19.569482Z",
     "iopub.status.busy": "2025-01-23T05:14:19.568924Z",
     "iopub.status.idle": "2025-01-23T05:14:19.573894Z",
     "shell.execute_reply": "2025-01-23T05:14:19.573152Z"
    },
    "papermill": {
     "duration": 0.011046,
     "end_time": "2025-01-23T05:14:19.575080",
     "exception": false,
     "start_time": "2025-01-23T05:14:19.564034",
     "status": "completed"
    },
    "tags": []
   },
   "outputs": [],
   "source": [
    "with open(\"vqe_result.pkl\", \"wb\") as f:\n",
    "    dill.dump(vqe_result, f)"
   ]
  }
 ],
 "metadata": {
  "kernelspec": {
   "display_name": "Python 3 (ipykernel)",
   "language": "python",
   "name": "python3"
  },
  "language_info": {
   "codemirror_mode": {
    "name": "ipython",
    "version": 3
   },
   "file_extension": ".py",
   "mimetype": "text/x-python",
   "name": "python",
   "nbconvert_exporter": "python",
   "pygments_lexer": "ipython3",
   "version": "3.9.18"
  },
  "papermill": {
   "default_parameters": {},
   "duration": 194.335777,
   "end_time": "2025-01-23T05:14:20.098127",
   "environment_variables": {},
   "exception": null,
   "input_path": "vqe.ipynb",
   "output_path": "/tmp/BondLengths/processing_BL_2p10000/vqe.ipynb",
   "parameters": {
    "BL": 2.1
   },
   "start_time": "2025-01-23T05:11:05.762350",
   "version": "2.6.0"
  }
 },
 "nbformat": 4,
 "nbformat_minor": 5
}