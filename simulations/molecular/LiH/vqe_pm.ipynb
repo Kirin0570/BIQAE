{
 "cells": [
  {
   "cell_type": "code",
   "execution_count": 1,
   "id": "2023bd15-296f-4874-b051-4b0bea0d659e",
   "metadata": {},
   "outputs": [],
   "source": [
    "import pandas as pd\n",
    "import os\n",
    "import papermill as pm\n",
    "import re"
   ]
  },
  {
   "cell_type": "markdown",
   "id": "934d85a7-2f98-4c48-8384-52faf788bd68",
   "metadata": {},
   "source": [
    "### 1 Create the `processing_BL_*` folders"
   ]
  },
  {
   "cell_type": "code",
   "execution_count": 2,
   "id": "8d7367b8-4939-4900-9451-781da982545f",
   "metadata": {},
   "outputs": [
    {
     "data": {
      "text/plain": [
       "0     0.60\n",
       "1     0.68\n",
       "2     0.80\n",
       "3     1.15\n",
       "4     1.55\n",
       "5     1.63\n",
       "6     2.10\n",
       "7     2.58\n",
       "8     3.05\n",
       "9     3.52\n",
       "10    4.00\n",
       "Name: BL, dtype: float64"
      ]
     },
     "execution_count": 2,
     "metadata": {},
     "output_type": "execute_result"
    }
   ],
   "source": [
    "# Load the BL\n",
    "file_path = os.path.join(\".\", \"select_BL\", \"selected.csv\")\n",
    "\n",
    "# Read the CSV file\n",
    "df = pd.read_csv(file_path)\n",
    "\n",
    "BLs = df[\"BL\"]\n",
    "BLs"
   ]
  },
  {
   "cell_type": "code",
   "execution_count": 3,
   "id": "83716834-4c8e-4661-98bc-0b1ffc18655a",
   "metadata": {},
   "outputs": [
    {
     "name": "stdout",
     "output_type": "stream",
     "text": [
      "Folders created successfully!\n"
     ]
    }
   ],
   "source": [
    "# Create the `BL` directory\n",
    "# Path to the BondLengths directory\n",
    "BLs_dir = os.path.join(os.getcwd(), \"BondLengths\")\n",
    "os.makedirs(BLs_dir, exist_ok=True)\n",
    "\n",
    "# Create subdirectories with formatted names\n",
    "for bl in BLs:\n",
    "    folder_name = f\"processing_BL_{bl:.5f}\".replace(\".\", \"p\")\n",
    "    folder_path = os.path.join(BLs_dir, folder_name)\n",
    "    os.makedirs(folder_path, exist_ok=True)\n",
    "\n",
    "print(\"Folders created successfully!\")"
   ]
  },
  {
   "cell_type": "markdown",
   "id": "a2415da7-ffe1-46a7-9b40-93114e1431b8",
   "metadata": {},
   "source": [
    "### 2 Run `vqe.ipynb`"
   ]
  },
  {
   "cell_type": "code",
   "execution_count": 4,
   "id": "57d2f78c-e407-4ffb-bdc4-919e949278b6",
   "metadata": {},
   "outputs": [
    {
     "name": "stderr",
     "output_type": "stream",
     "text": [
      "/usr/local/lib/python3.9/site-packages/tqdm/auto.py:21: TqdmWarning: IProgress not found. Please update jupyter and ipywidgets. See https://ipywidgets.readthedocs.io/en/stable/user_install.html\n",
      "  from .autonotebook import tqdm as notebook_tqdm\n",
      "Executing: 100%|███████████████████████████████████████████████████████████████████| 18/18 [04:35<00:00, 15.31s/cell]\n"
     ]
    },
    {
     "name": "stdout",
     "output_type": "stream",
     "text": [
      "Executed notebook for folder: processing_BL_0p60000 with BL=0.6\n"
     ]
    },
    {
     "name": "stderr",
     "output_type": "stream",
     "text": [
      "Executing: 100%|███████████████████████████████████████████████████████████████████| 18/18 [05:12<00:00, 17.38s/cell]\n"
     ]
    },
    {
     "name": "stdout",
     "output_type": "stream",
     "text": [
      "Executed notebook for folder: processing_BL_0p68000 with BL=0.68\n"
     ]
    },
    {
     "name": "stderr",
     "output_type": "stream",
     "text": [
      "Executing: 100%|███████████████████████████████████████████████████████████████████| 18/18 [04:08<00:00, 13.83s/cell]\n"
     ]
    },
    {
     "name": "stdout",
     "output_type": "stream",
     "text": [
      "Executed notebook for folder: processing_BL_0p80000 with BL=0.8\n"
     ]
    },
    {
     "name": "stderr",
     "output_type": "stream",
     "text": [
      "Executing: 100%|███████████████████████████████████████████████████████████████████| 18/18 [03:22<00:00, 11.27s/cell]\n"
     ]
    },
    {
     "name": "stdout",
     "output_type": "stream",
     "text": [
      "Executed notebook for folder: processing_BL_1p15000 with BL=1.15\n"
     ]
    },
    {
     "name": "stderr",
     "output_type": "stream",
     "text": [
      "Executing: 100%|███████████████████████████████████████████████████████████████████| 18/18 [03:53<00:00, 12.97s/cell]\n"
     ]
    },
    {
     "name": "stdout",
     "output_type": "stream",
     "text": [
      "Executed notebook for folder: processing_BL_1p55000 with BL=1.55\n"
     ]
    },
    {
     "name": "stderr",
     "output_type": "stream",
     "text": [
      "Executing: 100%|███████████████████████████████████████████████████████████████████| 18/18 [04:43<00:00, 15.73s/cell]\n"
     ]
    },
    {
     "name": "stdout",
     "output_type": "stream",
     "text": [
      "Executed notebook for folder: processing_BL_1p63000 with BL=1.63\n"
     ]
    },
    {
     "name": "stderr",
     "output_type": "stream",
     "text": [
      "Executing: 100%|███████████████████████████████████████████████████████████████████| 18/18 [03:14<00:00, 10.80s/cell]\n"
     ]
    },
    {
     "name": "stdout",
     "output_type": "stream",
     "text": [
      "Executed notebook for folder: processing_BL_2p10000 with BL=2.1\n"
     ]
    },
    {
     "name": "stderr",
     "output_type": "stream",
     "text": [
      "Executing: 100%|███████████████████████████████████████████████████████████████████| 18/18 [03:41<00:00, 12.28s/cell]\n"
     ]
    },
    {
     "name": "stdout",
     "output_type": "stream",
     "text": [
      "Executed notebook for folder: processing_BL_2p58000 with BL=2.58\n"
     ]
    },
    {
     "name": "stderr",
     "output_type": "stream",
     "text": [
      "Executing: 100%|███████████████████████████████████████████████████████████████████| 18/18 [03:51<00:00, 12.86s/cell]\n"
     ]
    },
    {
     "name": "stdout",
     "output_type": "stream",
     "text": [
      "Executed notebook for folder: processing_BL_3p05000 with BL=3.05\n"
     ]
    },
    {
     "name": "stderr",
     "output_type": "stream",
     "text": [
      "Executing: 100%|███████████████████████████████████████████████████████████████████| 18/18 [06:00<00:00, 20.03s/cell]\n"
     ]
    },
    {
     "name": "stdout",
     "output_type": "stream",
     "text": [
      "Executed notebook for folder: processing_BL_3p52000 with BL=3.52\n"
     ]
    },
    {
     "name": "stderr",
     "output_type": "stream",
     "text": [
      "Executing: 100%|███████████████████████████████████████████████████████████████████| 18/18 [06:15<00:00, 20.88s/cell]"
     ]
    },
    {
     "name": "stdout",
     "output_type": "stream",
     "text": [
      "Executed notebook for folder: processing_BL_4p00000 with BL=4.0\n"
     ]
    },
    {
     "name": "stderr",
     "output_type": "stream",
     "text": [
      "\n"
     ]
    }
   ],
   "source": [
    "# Define the path to the notebook you want to run\n",
    "notebook_path = \"vqe.ipynb\"\n",
    "\n",
    "# Regex pattern to match folders in the format \"processing_BL_XpY\"\n",
    "pattern = re.compile(r\"^processing_BL_(\\d+)p(\\d+)$\")\n",
    "\n",
    "# Iterate through all items in the BondLengths directory\n",
    "for item in sorted(os.listdir(BLs_dir)):\n",
    "    match = pattern.match(item)  # Check if the folder matches the pattern\n",
    "    folder_path = os.path.join(BLs_dir, item)\n",
    "    \n",
    "    if match and os.path.isdir(folder_path):\n",
    "        # Extract BL value from folder name (convert \"processing_BL_XpY\" to float X.Y)\n",
    "        BL = float(f\"{match.group(1)}.{match.group(2)}\")\n",
    "\n",
    "        output_notebook = os.path.join(folder_path, \"vqe.ipynb\")\n",
    "\n",
    "        # Run the notebook with the extracted BL as a parameter\n",
    "        pm.execute_notebook(\n",
    "            notebook_path,\n",
    "            output_notebook,\n",
    "            cwd=folder_path,\n",
    "            parameters={\"BL\": BL}\n",
    "        )\n",
    "\n",
    "        print(f\"Executed notebook for folder: {item} with BL={BL}\")"
   ]
  }
 ],
 "metadata": {
  "kernelspec": {
   "display_name": "Python 3 (ipykernel)",
   "language": "python",
   "name": "python3"
  },
  "language_info": {
   "codemirror_mode": {
    "name": "ipython",
    "version": 3
   },
   "file_extension": ".py",
   "mimetype": "text/x-python",
   "name": "python",
   "nbconvert_exporter": "python",
   "pygments_lexer": "ipython3",
   "version": "3.9.18"
  }
 },
 "nbformat": 4,
 "nbformat_minor": 5
}
