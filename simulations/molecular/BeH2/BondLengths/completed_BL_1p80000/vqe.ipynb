{
 "cells": [
  {
   "cell_type": "code",
   "execution_count": 1,
   "id": "a91004bd-003e-48ec-9deb-a4b4712546d4",
   "metadata": {
    "execution": {
     "iopub.execute_input": "2025-01-26T04:11:19.811297Z",
     "iopub.status.busy": "2025-01-26T04:11:19.810531Z",
     "iopub.status.idle": "2025-01-26T04:11:21.475268Z",
     "shell.execute_reply": "2025-01-26T04:11:21.473485Z"
    },
    "papermill": {
     "duration": 1.677749,
     "end_time": "2025-01-26T04:11:21.476878",
     "exception": false,
     "start_time": "2025-01-26T04:11:19.799129",
     "status": "completed"
    },
    "tags": []
   },
   "outputs": [],
   "source": [
    "from qiskit_nature.second_q.formats.molecule_info import MoleculeInfo\n",
    "from qiskit_nature.second_q.drivers import PySCFDriver\n",
    "from qiskit_nature.second_q.transformers import FreezeCoreTransformer\n",
    "from qiskit_nature.second_q.mappers import ParityMapper\n",
    "import dill\n",
    "import numpy as np\n",
    "from qiskit_algorithms.optimizers import SPSA, SLSQP, COBYLA\n",
    "from qiskit_aer.primitives import Estimator\n",
    "from qiskit_nature.second_q.circuit.library import HartreeFock\n",
    "from qiskit.circuit.library import EfficientSU2"
   ]
  },
  {
   "cell_type": "code",
   "execution_count": 2,
   "id": "bfd3f46b-c8ad-478b-a8c3-6169683131c5",
   "metadata": {
    "editable": true,
    "execution": {
     "iopub.execute_input": "2025-01-26T04:11:21.504007Z",
     "iopub.status.busy": "2025-01-26T04:11:21.503118Z",
     "iopub.status.idle": "2025-01-26T04:11:21.507729Z",
     "shell.execute_reply": "2025-01-26T04:11:21.506639Z"
    },
    "papermill": {
     "duration": 0.02518,
     "end_time": "2025-01-26T04:11:21.509029",
     "exception": false,
     "start_time": "2025-01-26T04:11:21.483849",
     "status": "completed"
    },
    "slideshow": {
     "slide_type": ""
    },
    "tags": [
     "parameters"
    ]
   },
   "outputs": [],
   "source": [
    "BL = 0.6"
   ]
  },
  {
   "cell_type": "code",
   "execution_count": 3,
   "id": "a5ba338b",
   "metadata": {
    "execution": {
     "iopub.execute_input": "2025-01-26T04:11:21.532260Z",
     "iopub.status.busy": "2025-01-26T04:11:21.531897Z",
     "iopub.status.idle": "2025-01-26T04:11:21.535813Z",
     "shell.execute_reply": "2025-01-26T04:11:21.534814Z"
    },
    "papermill": {
     "duration": 0.020432,
     "end_time": "2025-01-26T04:11:21.536943",
     "exception": false,
     "start_time": "2025-01-26T04:11:21.516511",
     "status": "completed"
    },
    "tags": [
     "injected-parameters"
    ]
   },
   "outputs": [],
   "source": [
    "# Parameters\n",
    "BL = 1.8\n"
   ]
  },
  {
   "cell_type": "markdown",
   "id": "9ffc8cb9-ba3d-4fee-a312-3f8fb750c8d0",
   "metadata": {
    "papermill": {
     "duration": 0.015401,
     "end_time": "2025-01-26T04:11:21.559606",
     "exception": false,
     "start_time": "2025-01-26T04:11:21.544205",
     "status": "completed"
    },
    "tags": []
   },
   "source": [
    "### 1 Construct the Hamiltonian"
   ]
  },
  {
   "cell_type": "markdown",
   "id": "35e8153b-d82c-4377-81d8-4eb4bd758b04",
   "metadata": {
    "papermill": {
     "duration": 0.015301,
     "end_time": "2025-01-26T04:11:21.589768",
     "exception": false,
     "start_time": "2025-01-26T04:11:21.574467",
     "status": "completed"
    },
    "tags": []
   },
   "source": [
    "Helper function to construct the Hamiltonian represented as a Pauli decomposition stored in `qubit_op`, while also returning the `nuclear_repulsion_energy` and `core_electron_energy`."
   ]
  },
  {
   "cell_type": "code",
   "execution_count": 4,
   "id": "9df416a1-f5f5-4093-97ea-339e028187a0",
   "metadata": {
    "editable": true,
    "execution": {
     "iopub.execute_input": "2025-01-26T04:11:21.620447Z",
     "iopub.status.busy": "2025-01-26T04:11:21.619897Z",
     "iopub.status.idle": "2025-01-26T04:11:21.626920Z",
     "shell.execute_reply": "2025-01-26T04:11:21.625788Z"
    },
    "papermill": {
     "duration": 0.023745,
     "end_time": "2025-01-26T04:11:21.628196",
     "exception": false,
     "start_time": "2025-01-26T04:11:21.604451",
     "status": "completed"
    },
    "slideshow": {
     "slide_type": ""
    },
    "tags": []
   },
   "outputs": [],
   "source": [
    "def get_qubit_op(BL):\n",
    "    # Define Molecule\n",
    "    # molecule = MoleculeInfo(\n",
    "    #     # Coordinates in Angstrom\n",
    "    #     symbols=[\"Li\", \"H\"],\n",
    "    #     coords=([0.0, 0.0, 0.0], [BL, 0.0, 0.0]),\n",
    "    #     multiplicity=1,  # = 2*spin + 1\n",
    "    #     charge=0,\n",
    "    # )\n",
    "    \n",
    "    molecule = MoleculeInfo(\n",
    "        # Coordinates in Angstrom\n",
    "        symbols=[\"Be\", \"H\", \"H\"],  # Beryllium and two hydrogens\n",
    "        coords=([0.0, 0.0, 0.0], [BL, 0.0, 0.0], [-BL, 0.0, 0.0]),  # Linear geometry\n",
    "        multiplicity=1,  # = 2*spin + 1, for singlet state\n",
    "        charge=0,  # Neutral molecule\n",
    "    )\n",
    "\n",
    "    driver = PySCFDriver.from_molecule(molecule)\n",
    "\n",
    "    # Get properties\n",
    "    properties = driver.run()\n",
    "\n",
    "    # Now you can get the reduced electronic structure problem\n",
    "    problem = FreezeCoreTransformer(\n",
    "        freeze_core=True, remove_orbitals=[-3, -2]\n",
    "    ).transform(properties)\n",
    "    fermionic_op = problem.hamiltonian.second_q_op()\n",
    "    \n",
    "    num_particles = problem.num_particles\n",
    "    num_spatial_orbitals = problem.num_spatial_orbitals\n",
    "\n",
    "    mapper = ParityMapper(num_particles=problem.num_particles)\n",
    "    tapered_mapper = problem.get_tapered_mapper(mapper)\n",
    "    qubit_op = tapered_mapper.map(fermionic_op)\n",
    "\n",
    "    core_electron_energy = problem.hamiltonian.constants['FreezeCoreTransformer']\n",
    "    nuclear_repulsion_energy = problem.nuclear_repulsion_energy\n",
    "    \n",
    "    return qubit_op, num_particles, num_spatial_orbitals, problem, tapered_mapper, nuclear_repulsion_energy, core_electron_energy\n",
    "    "
   ]
  },
  {
   "cell_type": "code",
   "execution_count": 5,
   "id": "8d4f9c50-d5cd-4ccc-8fa8-30dd529576c9",
   "metadata": {
    "execution": {
     "iopub.execute_input": "2025-01-26T04:11:21.651482Z",
     "iopub.status.busy": "2025-01-26T04:11:21.651014Z",
     "iopub.status.idle": "2025-01-26T04:11:23.285769Z",
     "shell.execute_reply": "2025-01-26T04:11:23.284705Z"
    },
    "papermill": {
     "duration": 1.65338,
     "end_time": "2025-01-26T04:11:23.287553",
     "exception": false,
     "start_time": "2025-01-26T04:11:21.634173",
     "status": "completed"
    },
    "tags": []
   },
   "outputs": [],
   "source": [
    "(qubit_op, num_particles, num_spatial_orbitals, problem, mapper,nuclear_repulsion_energy, core_electron_energy) = get_qubit_op(BL)"
   ]
  },
  {
   "cell_type": "code",
   "execution_count": 6,
   "id": "40076bcf-f30d-4de7-a55b-1ab865f084fb",
   "metadata": {
    "execution": {
     "iopub.execute_input": "2025-01-26T04:11:23.315737Z",
     "iopub.status.busy": "2025-01-26T04:11:23.315440Z",
     "iopub.status.idle": "2025-01-26T04:11:23.452549Z",
     "shell.execute_reply": "2025-01-26T04:11:23.451632Z"
    },
    "papermill": {
     "duration": 0.159757,
     "end_time": "2025-01-26T04:11:23.454401",
     "exception": false,
     "start_time": "2025-01-26T04:11:23.294644",
     "status": "completed"
    },
    "tags": []
   },
   "outputs": [],
   "source": [
    "# Extract terms and coefficients\n",
    "pauli_list = list(zip(qubit_op.paulis, qubit_op.coeffs))\n",
    "\n",
    "# Sort terms by absolute coefficient magnitude (largest first)\n",
    "sorted_pauli_list = sorted(pauli_list, key=lambda x: abs(x[1]), reverse=True)\n",
    "\n",
    "# Print sorted terms\n",
    "# for pauli, coef in sorted_pauli_list:\n",
    "#     print(f\"Pauli: {pauli}, Coefficient: {coef}\")\n",
    "\n",
    "# Save the list\n",
    "with open(\"sorted_pauli_list.pkl\", \"wb\") as f:\n",
    "    dill.dump(sorted_pauli_list, f)"
   ]
  },
  {
   "cell_type": "code",
   "execution_count": 7,
   "id": "851f13b2-5ffb-4dcb-91ad-d8a39084227b",
   "metadata": {
    "execution": {
     "iopub.execute_input": "2025-01-26T04:11:23.478913Z",
     "iopub.status.busy": "2025-01-26T04:11:23.478481Z",
     "iopub.status.idle": "2025-01-26T04:11:23.940993Z",
     "shell.execute_reply": "2025-01-26T04:11:23.940315Z"
    },
    "papermill": {
     "duration": 0.480999,
     "end_time": "2025-01-26T04:11:23.941970",
     "exception": false,
     "start_time": "2025-01-26T04:11:23.460971",
     "status": "completed"
    },
    "tags": []
   },
   "outputs": [],
   "source": [
    "dd = np.real(min(np.linalg.eigvals(qubit_op.to_matrix())))"
   ]
  },
  {
   "cell_type": "markdown",
   "id": "3529886c-e59d-4734-a005-ebcc2151d9c2",
   "metadata": {
    "papermill": {
     "duration": 0.013603,
     "end_time": "2025-01-26T04:11:23.972010",
     "exception": false,
     "start_time": "2025-01-26T04:11:23.958407",
     "status": "completed"
    },
    "tags": []
   },
   "source": [
    "### 2 Perform VQE"
   ]
  },
  {
   "cell_type": "markdown",
   "id": "9a26e439-1fcb-4e5e-a0f6-dcb73b25a7e9",
   "metadata": {
    "papermill": {
     "duration": 0.009553,
     "end_time": "2025-01-26T04:11:23.996015",
     "exception": false,
     "start_time": "2025-01-26T04:11:23.986462",
     "status": "completed"
    },
    "tags": []
   },
   "source": [
    "Define a class to perform VQE."
   ]
  },
  {
   "cell_type": "code",
   "execution_count": 8,
   "id": "86303f16-512b-4947-8dcb-3ddb12dcdf79",
   "metadata": {
    "execution": {
     "iopub.execute_input": "2025-01-26T04:11:24.026488Z",
     "iopub.status.busy": "2025-01-26T04:11:24.025558Z",
     "iopub.status.idle": "2025-01-26T04:11:24.034761Z",
     "shell.execute_reply": "2025-01-26T04:11:24.033149Z"
    },
    "papermill": {
     "duration": 0.026991,
     "end_time": "2025-01-26T04:11:24.036618",
     "exception": false,
     "start_time": "2025-01-26T04:11:24.009627",
     "status": "completed"
    },
    "tags": []
   },
   "outputs": [],
   "source": [
    "# Define the custom VQE\n",
    "class CustomVQE:\n",
    "    def __init__(self, estimator, ansatz, optimizer, qubit_op, dd, NREplusCEE, custom_function, initial_point=None):\n",
    "        self.estimator = estimator\n",
    "        self.ansatz = ansatz\n",
    "        self.optimizer = optimizer\n",
    "        self.qubit_op = qubit_op\n",
    "        self.NREplusCEE = NREplusCEE\n",
    "        self.dd = dd\n",
    "        self.custom_function = custom_function\n",
    "        self.initial_point = initial_point  or [0] * ansatz.num_parameters\n",
    "\n",
    "    def compute_minimum_eigenvalue(self):\n",
    "        # Define the function to minimize\n",
    "        def objective_function(params):\n",
    "            # Evaluate the expectation value of the qubit operator\n",
    "            expectation = self.estimator.run([self.ansatz], [self.qubit_op], [params]).result().values[0]\n",
    "            # Evaluate the custom objective function\n",
    "            return self.custom_function(expectation, params)\n",
    "\n",
    "        # Use the `minimize` method for optimization\n",
    "        opt_result = self.optimizer.minimize(\n",
    "            fun=objective_function,\n",
    "            x0=self.initial_point\n",
    "        )\n",
    "\n",
    "        result = {\n",
    "            'x': [float(value) for value in opt_result.x],\n",
    "            'fun': opt_result.fun,\n",
    "            'dd': self.dd,\n",
    "            'NREplusCEE': self.NREplusCEE\n",
    "        }\n",
    "\n",
    "        \n",
    "        return result\n"
   ]
  },
  {
   "cell_type": "code",
   "execution_count": 9,
   "id": "c171cc3c-701c-4c56-bdbd-4f2090e20e13",
   "metadata": {
    "execution": {
     "iopub.execute_input": "2025-01-26T04:11:24.060691Z",
     "iopub.status.busy": "2025-01-26T04:11:24.060364Z",
     "iopub.status.idle": "2025-01-26T04:11:24.065321Z",
     "shell.execute_reply": "2025-01-26T04:11:24.064268Z"
    },
    "papermill": {
     "duration": 0.024022,
     "end_time": "2025-01-26T04:11:24.067518",
     "exception": false,
     "start_time": "2025-01-26T04:11:24.043496",
     "status": "completed"
    },
    "tags": []
   },
   "outputs": [],
   "source": [
    "# l=12 and maxiter = 200 works for LiH and HF"
   ]
  },
  {
   "cell_type": "code",
   "execution_count": 10,
   "id": "5b37e8b3-a55f-4153-85d3-475522a8210d",
   "metadata": {
    "execution": {
     "iopub.execute_input": "2025-01-26T04:11:24.095558Z",
     "iopub.status.busy": "2025-01-26T04:11:24.095048Z",
     "iopub.status.idle": "2025-01-26T04:11:24.123740Z",
     "shell.execute_reply": "2025-01-26T04:11:24.122221Z"
    },
    "papermill": {
     "duration": 0.04944,
     "end_time": "2025-01-26T04:11:24.125726",
     "exception": false,
     "start_time": "2025-01-26T04:11:24.076286",
     "status": "completed"
    },
    "tags": []
   },
   "outputs": [],
   "source": [
    "optimizer = SLSQP(maxiter=500)\n",
    "noiseless_estimator = Estimator(approximation=True)\n",
    "\n",
    "\n",
    "# Define ansatz\n",
    "init_state = HartreeFock(num_spatial_orbitals, num_particles, mapper)\n",
    "var_form = EfficientSU2(qubit_op.num_qubits, reps=15, entanglement='full', skip_unentangled_qubits=False, parameter_prefix='a')\n",
    "\n",
    "\n",
    "# Example Custom Objective Function\n",
    "def custom_objective_function(expectation_value, parameters):\n",
    "    # penalty_term = 0.1 * sum(param**2 for param in parameters)  # Example regularization\n",
    "    return expectation_value \n",
    "\n",
    "\n",
    "# Create an instance of CustomVQE\n",
    "custom_vqe = CustomVQE(\n",
    "    estimator=noiseless_estimator,\n",
    "    ansatz=var_form,\n",
    "    optimizer=optimizer,\n",
    "    qubit_op=qubit_op,\n",
    "    dd = dd,\n",
    "    NREplusCEE = nuclear_repulsion_energy + core_electron_energy,\n",
    "    custom_function=custom_objective_function,\n",
    "    initial_point = list(np.random.uniform(-np.pi, np.pi, var_form.num_parameters))\n",
    ")\n"
   ]
  },
  {
   "cell_type": "code",
   "execution_count": 11,
   "id": "ecc88820-8d40-44ce-84c7-20bd12d28db4",
   "metadata": {
    "execution": {
     "iopub.execute_input": "2025-01-26T04:11:24.154534Z",
     "iopub.status.busy": "2025-01-26T04:11:24.154194Z",
     "iopub.status.idle": "2025-01-26T04:59:55.005570Z",
     "shell.execute_reply": "2025-01-26T04:59:55.004642Z"
    },
    "papermill": {
     "duration": 2910.873501,
     "end_time": "2025-01-26T04:59:55.007457",
     "exception": false,
     "start_time": "2025-01-26T04:11:24.133956",
     "status": "completed"
    },
    "tags": []
   },
   "outputs": [],
   "source": [
    "vqe_result = custom_vqe.compute_minimum_eigenvalue()\n"
   ]
  },
  {
   "cell_type": "code",
   "execution_count": 12,
   "id": "4dff00bc-3905-43b7-8f7c-9200e0b73af0",
   "metadata": {
    "execution": {
     "iopub.execute_input": "2025-01-26T04:59:55.037477Z",
     "iopub.status.busy": "2025-01-26T04:59:55.036500Z",
     "iopub.status.idle": "2025-01-26T04:59:55.044369Z",
     "shell.execute_reply": "2025-01-26T04:59:55.043648Z"
    },
    "papermill": {
     "duration": 0.032006,
     "end_time": "2025-01-26T04:59:55.045575",
     "exception": false,
     "start_time": "2025-01-26T04:59:55.013569",
     "status": "completed"
    },
    "tags": []
   },
   "outputs": [
    {
     "data": {
      "text/plain": [
       "224"
      ]
     },
     "execution_count": 12,
     "metadata": {},
     "output_type": "execute_result"
    }
   ],
   "source": [
    "len(vqe_result['x'])"
   ]
  },
  {
   "cell_type": "code",
   "execution_count": 13,
   "id": "09b66dae-9046-4cd5-9bd8-e800a48d0f42",
   "metadata": {
    "execution": {
     "iopub.execute_input": "2025-01-26T04:59:55.065100Z",
     "iopub.status.busy": "2025-01-26T04:59:55.064762Z",
     "iopub.status.idle": "2025-01-26T04:59:55.069333Z",
     "shell.execute_reply": "2025-01-26T04:59:55.068683Z"
    },
    "papermill": {
     "duration": 0.019986,
     "end_time": "2025-01-26T04:59:55.070623",
     "exception": false,
     "start_time": "2025-01-26T04:59:55.050637",
     "status": "completed"
    },
    "tags": []
   },
   "outputs": [
    {
     "name": "stdout",
     "output_type": "stream",
     "text": [
      "0.0028203243729865157\n"
     ]
    }
   ],
   "source": [
    "print(vqe_result['fun'] - vqe_result['dd'])"
   ]
  },
  {
   "cell_type": "code",
   "execution_count": 14,
   "id": "bb7804b1-5bfe-4442-8a91-49614a312f54",
   "metadata": {
    "execution": {
     "iopub.execute_input": "2025-01-26T04:59:55.097885Z",
     "iopub.status.busy": "2025-01-26T04:59:55.097218Z",
     "iopub.status.idle": "2025-01-26T04:59:55.104452Z",
     "shell.execute_reply": "2025-01-26T04:59:55.103750Z"
    },
    "papermill": {
     "duration": 0.029878,
     "end_time": "2025-01-26T04:59:55.105843",
     "exception": false,
     "start_time": "2025-01-26T04:59:55.075965",
     "status": "completed"
    },
    "tags": []
   },
   "outputs": [],
   "source": [
    "with open(\"vqe_result.pkl\", \"wb\") as f:\n",
    "    dill.dump(vqe_result, f)"
   ]
  }
 ],
 "metadata": {
  "kernelspec": {
   "display_name": "Python 3 (ipykernel)",
   "language": "python",
   "name": "python3"
  },
  "language_info": {
   "codemirror_mode": {
    "name": "ipython",
    "version": 3
   },
   "file_extension": ".py",
   "mimetype": "text/x-python",
   "name": "python",
   "nbconvert_exporter": "python",
   "pygments_lexer": "ipython3",
   "version": "3.10.15"
  },
  "papermill": {
   "default_parameters": {},
   "duration": 2916.928548,
   "end_time": "2025-01-26T04:59:55.733138",
   "environment_variables": {},
   "exception": null,
   "input_path": "vqe.ipynb",
   "output_path": "/usr/src/app/SoleyGroup/lab_data/Notebooks/Statistics/Corrected_plots/corrected_BeH2/BondLengths/processing_BL_1p80000/vqe.ipynb",
   "parameters": {
    "BL": 1.8
   },
   "start_time": "2025-01-26T04:11:18.804590",
   "version": "2.6.0"
  }
 },
 "nbformat": 4,
 "nbformat_minor": 5
}