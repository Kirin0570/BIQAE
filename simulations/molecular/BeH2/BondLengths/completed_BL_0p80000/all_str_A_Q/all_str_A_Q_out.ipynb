{
 "cells": [
  {
   "cell_type": "code",
   "execution_count": 1,
   "id": "58bdd58c",
   "metadata": {
    "execution": {
     "iopub.execute_input": "2025-02-21T23:17:44.712758Z",
     "iopub.status.busy": "2025-02-21T23:17:44.711568Z",
     "iopub.status.idle": "2025-02-21T23:17:47.238158Z",
     "shell.execute_reply": "2025-02-21T23:17:47.236882Z"
    },
    "papermill": {
     "duration": 2.535153,
     "end_time": "2025-02-21T23:17:47.240666",
     "exception": false,
     "start_time": "2025-02-21T23:17:44.705513",
     "status": "completed"
    },
    "tags": []
   },
   "outputs": [],
   "source": [
    "import sys\n",
    "import os\n",
    "import dill\n",
    "import matplotlib.pyplot as plt\n",
    "\n",
    "from qiskit import transpile\n",
    "from qiskit_aer import AerSimulator\n",
    "from qiskit.qpy import load as qpy_load, dump as qpy_dump\n",
    "\n",
    "# Add the path to the parent of the parent directory\n",
    "sys.path.append(os.path.abspath(os.path.join(os.getcwd(), \"../../\")))\n",
    "\n",
    "# Now you can import your modules\n",
    "from circuit_constructors import construct_A, construct_Q"
   ]
  },
  {
   "cell_type": "markdown",
   "id": "c501559c",
   "metadata": {
    "papermill": {
     "duration": 0.016305,
     "end_time": "2025-02-21T23:17:47.267165",
     "exception": false,
     "start_time": "2025-02-21T23:17:47.250860",
     "status": "completed"
    },
    "tags": []
   },
   "source": [
    "### 1 Construct A and Q for all Pauli strings"
   ]
  },
  {
   "cell_type": "code",
   "execution_count": 2,
   "id": "04c1daff",
   "metadata": {
    "execution": {
     "iopub.execute_input": "2025-02-21T23:17:47.303821Z",
     "iopub.status.busy": "2025-02-21T23:17:47.302879Z",
     "iopub.status.idle": "2025-02-21T23:17:47.322649Z",
     "shell.execute_reply": "2025-02-21T23:17:47.321022Z"
    },
    "papermill": {
     "duration": 0.042194,
     "end_time": "2025-02-21T23:17:47.324821",
     "exception": false,
     "start_time": "2025-02-21T23:17:47.282627",
     "status": "completed"
    },
    "tags": []
   },
   "outputs": [],
   "source": [
    "# Load decomp and optim_res\n",
    "with open('../sorted_pauli_list.pkl', 'rb') as f:\n",
    "    sorted_pauli_list = dill.load(f)\n",
    "with open('../vqe_result.pkl', 'rb') as f:\n",
    "    vqe_res = dill.load(f)\n"
   ]
  },
  {
   "cell_type": "code",
   "execution_count": 3,
   "id": "3034ad4d",
   "metadata": {
    "execution": {
     "iopub.execute_input": "2025-02-21T23:17:47.352176Z",
     "iopub.status.busy": "2025-02-21T23:17:47.351053Z",
     "iopub.status.idle": "2025-02-21T23:18:12.745917Z",
     "shell.execute_reply": "2025-02-21T23:18:12.745089Z"
    },
    "papermill": {
     "duration": 25.4178,
     "end_time": "2025-02-21T23:18:12.747547",
     "exception": false,
     "start_time": "2025-02-21T23:17:47.329747",
     "status": "completed"
    },
    "tags": []
   },
   "outputs": [
    {
     "name": "stdout",
     "output_type": "stream",
     "text": [
      "Processed Pauli string 0: IIIIIZI\n",
      "Processed Pauli string 1: ZIIIIII\n",
      "Processed Pauli string 2: IIZZIII\n"
     ]
    },
    {
     "name": "stdout",
     "output_type": "stream",
     "text": [
      "Processed Pauli string 3: IZZIIII\n",
      "Processed Pauli string 4: ZZIIIII\n",
      "Processed Pauli string 5: IIIIIZZ\n"
     ]
    },
    {
     "name": "stdout",
     "output_type": "stream",
     "text": [
      "Processed Pauli string 6: IIIIIII\n",
      "Processed Pauli string 7: IZIZIII\n",
      "Processed Pauli string 8: ZIIIIZI\n"
     ]
    },
    {
     "name": "stdout",
     "output_type": "stream",
     "text": [
      "Processed Pauli string 9: IIIIZZI\n",
      "Processed Pauli string 10: ZIIIZZI\n",
      "Processed Pauli string 11: IIIIZII\n"
     ]
    },
    {
     "name": "stdout",
     "output_type": "stream",
     "text": [
      "Processed Pauli string 12: ZZIZZZZ\n",
      "Processed Pauli string 13: IIIZZII\n",
      "Processed Pauli string 14: ZZIIIZZ\n"
     ]
    },
    {
     "name": "stdout",
     "output_type": "stream",
     "text": [
      "Processed Pauli string 15: IIIZZZZ\n",
      "Processed Pauli string 16: ZIIIZII\n"
     ]
    },
    {
     "name": "stdout",
     "output_type": "stream",
     "text": [
      "Processed Pauli string 17: ZZZIZZI\n",
      "Processed Pauli string 18: IZZIZII\n",
      "Processed Pauli string 19: ZIZZZZI\n"
     ]
    },
    {
     "name": "stdout",
     "output_type": "stream",
     "text": [
      "Processed Pauli string 20: IIZZZII\n",
      "Processed Pauli string 21: IZZIIZI\n",
      "Processed Pauli string 22: ZZZIIII\n"
     ]
    },
    {
     "name": "stdout",
     "output_type": "stream",
     "text": [
      "Processed Pauli string 23: IIZZIZI\n",
      "Processed Pauli string 24: ZIZZIII\n",
      "Processed Pauli string 25: ZIZZZZZ\n"
     ]
    },
    {
     "name": "stdout",
     "output_type": "stream",
     "text": [
      "Processed Pauli string 26: IZZZZII\n",
      "Processed Pauli string 27: ZZZIZZZ\n",
      "Processed Pauli string 28: IIZIZII\n"
     ]
    },
    {
     "name": "stdout",
     "output_type": "stream",
     "text": [
      "Processed Pauli string 29: ZZIZZII\n",
      "Processed Pauli string 30: IZZIIZZ\n",
      "Processed Pauli string 31: ZIZIIII\n"
     ]
    },
    {
     "name": "stdout",
     "output_type": "stream",
     "text": [
      "Processed Pauli string 32: IIZZIZZ\n",
      "Processed Pauli string 33: ZZZZIII\n"
     ]
    },
    {
     "name": "stdout",
     "output_type": "stream",
     "text": [
      "Processed Pauli string 34: ZIIZIZI\n",
      "Processed Pauli string 35: ZZIZIZZ\n",
      "Processed Pauli string 36: ZIIIIZZ\n"
     ]
    },
    {
     "name": "stdout",
     "output_type": "stream",
     "text": [
      "Processed Pauli string 37: ZZIIIZI\n",
      "Processed Pauli string 38: IZIZZZZ\n",
      "Processed Pauli string 39: IIIZZZI\n"
     ]
    },
    {
     "name": "stdout",
     "output_type": "stream",
     "text": [
      "Processed Pauli string 40: IZIIZZI\n",
      "Processed Pauli string 41: IIIIZZZ\n",
      "Processed Pauli string 42: ZZIZZIZ\n"
     ]
    },
    {
     "name": "stdout",
     "output_type": "stream",
     "text": [
      "Processed Pauli string 43: ZIIZZII\n",
      "Processed Pauli string 44: ZIIIZIZ\n",
      "Processed Pauli string 45: ZZIIZII\n"
     ]
    },
    {
     "name": "stdout",
     "output_type": "stream",
     "text": [
      "Processed Pauli string 46: IIIIIIZ\n",
      "Processed Pauli string 47: IZIIIII\n",
      "Processed Pauli string 48: IZIZIIZ\n"
     ]
    },
    {
     "name": "stdout",
     "output_type": "stream",
     "text": [
      "Processed Pauli string 49: IIIZIII\n",
      "Processed Pauli string 50: ZIIIZIX\n"
     ]
    },
    {
     "name": "stdout",
     "output_type": "stream",
     "text": [
      "Processed Pauli string 51: IZIZIIX\n",
      "Processed Pauli string 52: ZXXXZII\n",
      "Processed Pauli string 53: IYXYIII\n"
     ]
    },
    {
     "name": "stdout",
     "output_type": "stream",
     "text": [
      "Processed Pauli string 54: IZIIXIZ\n",
      "Processed Pauli string 55: IZIZXIZ\n",
      "Processed Pauli string 56: IIIZXII\n"
     ]
    },
    {
     "name": "stdout",
     "output_type": "stream",
     "text": [
      "Processed Pauli string 57: IIIIXII\n",
      "Processed Pauli string 58: XZIIIXZ\n",
      "Processed Pauli string 59: XIIIIXZ\n"
     ]
    },
    {
     "name": "stdout",
     "output_type": "stream",
     "text": [
      "Processed Pauli string 60: XZIIIXI\n",
      "Processed Pauli string 61: XIIIIXI\n",
      "Processed Pauli string 62: XXXXXXX\n"
     ]
    },
    {
     "name": "stdout",
     "output_type": "stream",
     "text": [
      "Processed Pauli string 63: YXXXYXX\n",
      "Processed Pauli string 64: XIIZIIZ\n",
      "Processed Pauli string 65: XZIZIIZ\n"
     ]
    },
    {
     "name": "stdout",
     "output_type": "stream",
     "text": [
      "Processed Pauli string 66: XZIIIII\n",
      "Processed Pauli string 67: XIIIIII\n",
      "Processed Pauli string 68: IIIZXXZ\n"
     ]
    },
    {
     "name": "stdout",
     "output_type": "stream",
     "text": [
      "Processed Pauli string 69: IIIIXXZ\n",
      "Processed Pauli string 70: IIIZXXI\n",
      "Processed Pauli string 71: IIIIXXI\n"
     ]
    },
    {
     "name": "stdout",
     "output_type": "stream",
     "text": [
      "Processed Pauli string 72: IXXXIIX\n",
      "Processed Pauli string 73: ZYXYZIX\n",
      "Processed Pauli string 74: XZIIIZX\n"
     ]
    },
    {
     "name": "stdout",
     "output_type": "stream",
     "text": [
      "Processed Pauli string 75: XIIIIZX\n",
      "Processed Pauli string 76: YZIIZZY\n",
      "Processed Pauli string 77: YIIIZZY\n"
     ]
    },
    {
     "name": "stdout",
     "output_type": "stream",
     "text": [
      "Processed Pauli string 78: ZXXXXXZ\n",
      "Processed Pauli string 79: IYXXYXZ\n",
      "Processed Pauli string 80: ZXXXXXI\n"
     ]
    },
    {
     "name": "stdout",
     "output_type": "stream",
     "text": [
      "Processed Pauli string 81: IYXXYXI\n",
      "Processed Pauli string 82: ZYXYXIZ\n",
      "Processed Pauli string 83: IXXYYIZ\n"
     ]
    },
    {
     "name": "stdout",
     "output_type": "stream",
     "text": [
      "Processed Pauli string 84: ZXXXXII\n",
      "Processed Pauli string 85: IYXXYII\n"
     ]
    },
    {
     "name": "stdout",
     "output_type": "stream",
     "text": [
      "Processed Pauli string 86: IIIZXZX\n",
      "Processed Pauli string 87: IIIIXZX\n"
     ]
    },
    {
     "name": "stdout",
     "output_type": "stream",
     "text": [
      "Processed Pauli string 88: ZIIZYZY\n",
      "Processed Pauli string 89: ZIIIYZY\n"
     ]
    },
    {
     "name": "stdout",
     "output_type": "stream",
     "text": [
      "Processed Pauli string 90: IIIIZIX\n",
      "Processed Pauli string 91: ZZIZIIX\n",
      "Processed Pauli string 92: ZXXXZZI\n"
     ]
    },
    {
     "name": "stdout",
     "output_type": "stream",
     "text": [
      "Processed Pauli string 93: IYXYIZI\n",
      "Processed Pauli string 94: ZXXXXZX\n",
      "Processed Pauli string 95: IYXXYZX\n"
     ]
    },
    {
     "name": "stdout",
     "output_type": "stream",
     "text": [
      "Processed Pauli string 96: IXXXYZY\n",
      "Processed Pauli string 97: ZYXXXZY\n",
      "Processed Pauli string 98: IXXXIZI\n"
     ]
    },
    {
     "name": "stdout",
     "output_type": "stream",
     "text": [
      "Processed Pauli string 99: ZYXYZZI\n",
      "Processed Pauli string 100: ZIIIIIX\n",
      "Processed Pauli string 101: IZIZZIX\n"
     ]
    },
    {
     "name": "stdout",
     "output_type": "stream",
     "text": [
      "Processed Pauli string 102: ZZIIIXX\n"
     ]
    },
    {
     "name": "stdout",
     "output_type": "stream",
     "text": [
      "Processed Pauli string 103: IZIIZXX\n",
      "Processed Pauli string 104: XXXXXZZ\n",
      "Processed Pauli string 105: YXXXYZZ\n"
     ]
    },
    {
     "name": "stdout",
     "output_type": "stream",
     "text": [
      "Processed Pauli string 106: IZIZIXI\n",
      "Processed Pauli string 107: IIIIIXI\n",
      "Processed Pauli string 108: XZIZXII\n"
     ]
    },
    {
     "name": "stdout",
     "output_type": "stream",
     "text": [
      "Processed Pauli string 109: XIIIXII\n",
      "Processed Pauli string 110: IZIZIXZ\n",
      "Processed Pauli string 111: IIIIIXZ\n"
     ]
    },
    {
     "name": "stdout",
     "output_type": "stream",
     "text": [
      "Processed Pauli string 112: XIIZXII\n",
      "Processed Pauli string 113: XZIIXII\n",
      "Processed Pauli string 114: YZIIZYX\n"
     ]
    },
    {
     "name": "stdout",
     "output_type": "stream",
     "text": [
      "Processed Pauli string 115: YIIIZYX\n",
      "Processed Pauli string 116: XIIZIYY\n",
      "Processed Pauli string 117: XZIZIYY\n"
     ]
    },
    {
     "name": "stdout",
     "output_type": "stream",
     "text": [
      "Processed Pauli string 118: XXXXZXZ\n",
      "Processed Pauli string 119: YXXYIXZ\n"
     ]
    },
    {
     "name": "stdout",
     "output_type": "stream",
     "text": [
      "Processed Pauli string 120: XXXXZXI\n",
      "Processed Pauli string 121: YXXYIXI\n",
      "Processed Pauli string 122: XXXXZZX\n"
     ]
    },
    {
     "name": "stdout",
     "output_type": "stream",
     "text": [
      "Processed Pauli string 123: YXXYIZX\n",
      "Processed Pauli string 124: YXXXIZY\n",
      "Processed Pauli string 125: XXXYZZY\n"
     ]
    },
    {
     "name": "stdout",
     "output_type": "stream",
     "text": [
      "Processed Pauli string 126: IXXXYYX\n",
      "Processed Pauli string 127: ZYXXXYX\n",
      "Processed Pauli string 128: ZYXYXYY\n"
     ]
    },
    {
     "name": "stdout",
     "output_type": "stream",
     "text": [
      "Processed Pauli string 129: IXXYYYY\n",
      "Processed Pauli string 130: ZXXXZXX\n",
      "Processed Pauli string 131: IYXYIXX\n"
     ]
    },
    {
     "name": "stdout",
     "output_type": "stream",
     "text": [
      "Processed Pauli string 132: IXXXIXX\n",
      "Processed Pauli string 133: ZYXYZXX\n",
      "Processed Pauli string 134: YXXXYIX\n"
     ]
    },
    {
     "name": "stdout",
     "output_type": "stream",
     "text": [
      "Processed Pauli string 135: XXXXXIX\n",
      "Processed Pauli string 136: XYXYXIX\n"
     ]
    },
    {
     "name": "stdout",
     "output_type": "stream",
     "text": [
      "Processed Pauli string 137: YYXYYIX\n",
      "Processed Pauli string 138: ZZXXIZZ\n",
      "Processed Pauli string 139: ZIYYZZZ\n"
     ]
    },
    {
     "name": "stdout",
     "output_type": "stream",
     "text": [
      "Processed Pauli string 140: IZYYZII\n",
      "Processed Pauli string 141: IIXXIII\n",
      "Processed Pauli string 142: ZZIXIZZ\n"
     ]
    },
    {
     "name": "stdout",
     "output_type": "stream",
     "text": [
      "Processed Pauli string 143: ZZZXZZZ\n",
      "Processed Pauli string 144: IIZXZII\n",
      "Processed Pauli string 145: IIIXIII\n"
     ]
    },
    {
     "name": "stdout",
     "output_type": "stream",
     "text": [
      "Processed Pauli string 146: IIIIIXX\n",
      "Processed Pauli string 147: ZIIIZXX\n",
      "Processed Pauli string 148: XXXXXII\n"
     ]
    },
    {
     "name": "stdout",
     "output_type": "stream",
     "text": [
      "Processed Pauli string 149: YXXXYII\n",
      "Processed Pauli string 150: IIIZZXX\n",
      "Processed Pauli string 151: ZIIZIXX\n"
     ]
    },
    {
     "name": "stdout",
     "output_type": "stream",
     "text": [
      "Processed Pauli string 152: YYXYYZZ\n",
      "Processed Pauli string 153: XYXYXZZ\n",
      "Processed Pauli string 154: XYXYZIZ\n"
     ]
    },
    {
     "name": "stdout",
     "output_type": "stream",
     "text": [
      "Processed Pauli string 155: YYXXIIZ\n",
      "Processed Pauli string 156: XXXXZII\n",
      "Processed Pauli string 157: YXXYIII\n"
     ]
    },
    {
     "name": "stdout",
     "output_type": "stream",
     "text": [
      "Processed Pauli string 158: ZIIZYYX\n",
      "Processed Pauli string 159: ZIIIYYX\n",
      "Processed Pauli string 160: IZIIXYY\n"
     ]
    },
    {
     "name": "stdout",
     "output_type": "stream",
     "text": [
      "Processed Pauli string 161: IZIZXYY\n",
      "Processed Pauli string 162: ZZZIZIX\n",
      "Processed Pauli string 163: IIZZIIX\n"
     ]
    },
    {
     "name": "stdout",
     "output_type": "stream",
     "text": [
      "Processed Pauli string 164: ZYYXZII\n",
      "Processed Pauli string 165: IXYYIII\n",
      "Processed Pauli string 166: ZIZZZIX\n"
     ]
    },
    {
     "name": "stdout",
     "output_type": "stream",
     "text": [
      "Processed Pauli string 167: IZZIIIX\n",
      "Processed Pauli string 168: ZXYYZII\n",
      "Processed Pauli string 169: IYYXIII\n"
     ]
    },
    {
     "name": "stdout",
     "output_type": "stream",
     "text": [
      "Processed Pauli string 170: YXXXIYX\n",
      "Processed Pauli string 171: XXXYZYX\n"
     ]
    },
    {
     "name": "stdout",
     "output_type": "stream",
     "text": [
      "Processed Pauli string 172: XYXYZYY\n",
      "Processed Pauli string 173: YYXXIYY\n",
      "Processed Pauli string 174: IIXIIII\n"
     ]
    },
    {
     "name": "stdout",
     "output_type": "stream",
     "text": [
      "Processed Pauli string 175: IZXZIII\n",
      "Processed Pauli string 176: IXZIZZZ\n",
      "Processed Pauli string 177: ZXIIZZZ\n"
     ]
    },
    {
     "name": "stdout",
     "output_type": "stream",
     "text": [
      "Processed Pauli string 178: ZXIZIII\n",
      "Processed Pauli string 179: IXZZIII\n",
      "Processed Pauli string 180: IIYXZZY\n"
     ]
    },
    {
     "name": "stdout",
     "output_type": "stream",
     "text": [
      "Processed Pauli string 181: IZXYIZY\n",
      "Processed Pauli string 182: IZXXZIX\n",
      "Processed Pauli string 183: IIYYIIX\n"
     ]
    },
    {
     "name": "stdout",
     "output_type": "stream",
     "text": [
      "Processed Pauli string 184: IYYZZZZ\n",
      "Processed Pauli string 185: ZXXIZZZ\n",
      "Processed Pauli string 186: ZXXZIII\n"
     ]
    },
    {
     "name": "stdout",
     "output_type": "stream",
     "text": [
      "Processed Pauli string 187: IYYIIII\n",
      "Processed Pauli string 188: IZZYZZY\n"
     ]
    },
    {
     "name": "stdout",
     "output_type": "stream",
     "text": [
      "Processed Pauli string 189: IZIYIZY\n",
      "Processed Pauli string 190: IZIXZIX\n",
      "Processed Pauli string 191: IZZXIIX\n"
     ]
    },
    {
     "name": "stdout",
     "output_type": "stream",
     "text": [
      "Processed Pauli string 192: ZYIIIZY\n",
      "Processed Pauli string 193: IYZIIZY\n",
      "Processed Pauli string 194: ZXZIIIX\n"
     ]
    },
    {
     "name": "stdout",
     "output_type": "stream",
     "text": [
      "Processed Pauli string 195: IXIIIIX\n",
      "Processed Pauli string 196: ZYXIIZY\n"
     ]
    },
    {
     "name": "stdout",
     "output_type": "stream",
     "text": [
      "Processed Pauli string 197: IXYZIZY\n",
      "Processed Pauli string 198: ZYYZIIX\n",
      "Processed Pauli string 199: IXXIIIX\n"
     ]
    },
    {
     "name": "stdout",
     "output_type": "stream",
     "text": [
      "Processed Pauli string 200: IIIIIYY\n",
      "Processed Pauli string 201: ZIIIZYY\n",
      "Processed Pauli string 202: YYXXXII\n"
     ]
    },
    {
     "name": "stdout",
     "output_type": "stream",
     "text": [
      "Processed Pauli string 203: XYXXYII\n",
      "Processed Pauli string 204: ZIIIZZX\n",
      "Processed Pauli string 205: IZIZIZX\n"
     ]
    },
    {
     "name": "stdout",
     "output_type": "stream",
     "text": [
      "Processed Pauli string 206: IXXXZII\n",
      "Processed Pauli string 207: ZYXYIII\n",
      "Processed Pauli string 208: YXXXYZI\n"
     ]
    },
    {
     "name": "stdout",
     "output_type": "stream",
     "text": [
      "Processed Pauli string 209: XXXXXZI\n",
      "Processed Pauli string 210: IIIIZXX\n",
      "Processed Pauli string 211: ZIIIIXX\n"
     ]
    },
    {
     "name": "stdout",
     "output_type": "stream",
     "text": [
      "Processed Pauli string 212: IZZIIXX\n",
      "Processed Pauli string 213: ZZZIZXX\n",
      "Processed Pauli string 214: XYYXXII\n"
     ]
    },
    {
     "name": "stdout",
     "output_type": "stream",
     "text": [
      "Processed Pauli string 215: YYYXYII\n",
      "Processed Pauli string 216: IIZZIXX\n",
      "Processed Pauli string 217: ZIZZZXX\n"
     ]
    },
    {
     "name": "stdout",
     "output_type": "stream",
     "text": [
      "Processed Pauli string 218: XXYYXII\n",
      "Processed Pauli string 219: YXYYYII\n",
      "Processed Pauli string 220: IZXXXIZ\n"
     ]
    },
    {
     "name": "stdout",
     "output_type": "stream",
     "text": [
      "Processed Pauli string 221: IIYXYIZ\n",
      "Processed Pauli string 222: ZIYXYZZ\n"
     ]
    },
    {
     "name": "stdout",
     "output_type": "stream",
     "text": [
      "Processed Pauli string 223: ZZXXXZZ\n",
      "Processed Pauli string 224: IZIXXIZ\n",
      "Processed Pauli string 225: IZZYYIZ\n"
     ]
    },
    {
     "name": "stdout",
     "output_type": "stream",
     "text": [
      "Processed Pauli string 226: ZZZYYZZ\n",
      "Processed Pauli string 227: ZZIXXZZ\n",
      "Processed Pauli string 228: IIIIIZX\n"
     ]
    },
    {
     "name": "stdout",
     "output_type": "stream",
     "text": [
      "Processed Pauli string 229: ZZIZZZX\n",
      "Processed Pauli string 230: ZXXXIII\n",
      "Processed Pauli string 231: IYXYZII\n"
     ]
    },
    {
     "name": "stdout",
     "output_type": "stream",
     "text": [
      "Processed Pauli string 232: XXZIIIZ\n",
      "Processed Pauli string 233: YYIIIIZ\n",
      "Processed Pauli string 234: YYIIZZZ\n"
     ]
    },
    {
     "name": "stdout",
     "output_type": "stream",
     "text": [
      "Processed Pauli string 235: XXZIZZZ\n",
      "Processed Pauli string 236: IIYXXXY\n",
      "Processed Pauli string 237: IZXXYXY\n"
     ]
    },
    {
     "name": "stdout",
     "output_type": "stream",
     "text": [
      "Processed Pauli string 238: IZXXXYY\n",
      "Processed Pauli string 239: IIYXYYY\n",
      "Processed Pauli string 240: XYYZIIZ\n"
     ]
    },
    {
     "name": "stdout",
     "output_type": "stream",
     "text": [
      "Processed Pauli string 241: YYXIIIZ\n",
      "Processed Pauli string 242: YYXIZZZ\n",
      "Processed Pauli string 243: XYYZZZZ\n"
     ]
    },
    {
     "name": "stdout",
     "output_type": "stream",
     "text": [
      "Processed Pauli string 244: IZZYXXY\n",
      "Processed Pauli string 245: IZIXYXY\n",
      "Processed Pauli string 246: IZIXXYY\n"
     ]
    },
    {
     "name": "stdout",
     "output_type": "stream",
     "text": [
      "Processed Pauli string 247: IZZYYYY\n",
      "Processed Pauli string 248: XYXIIXY\n",
      "Processed Pauli string 249: YYYZIXY\n"
     ]
    },
    {
     "name": "stdout",
     "output_type": "stream",
     "text": [
      "Processed Pauli string 250: XYYZIYY\n",
      "Processed Pauli string 251: YYXIIYY\n",
      "Processed Pauli string 252: XYIIIXY\n"
     ]
    },
    {
     "name": "stdout",
     "output_type": "stream",
     "text": [
      "Processed Pauli string 253: YXZIIXY\n",
      "Processed Pauli string 254: XXZIIYY\n",
      "Processed Pauli string 255: YYIIIYY\n"
     ]
    },
    {
     "name": "stdout",
     "output_type": "stream",
     "text": [
      "Processed Pauli string 256: IYXYIZZ\n"
     ]
    },
    {
     "name": "stdout",
     "output_type": "stream",
     "text": [
      "Processed Pauli string 257: ZXXXZZZ\n",
      "Processed Pauli string 258: ZIIZIIX\n",
      "Processed Pauli string 259: IZIIZIX\n"
     ]
    },
    {
     "name": "stdout",
     "output_type": "stream",
     "text": [
      "Processed Pauli string 260: ZZIZZYY\n",
      "Processed Pauli string 261: IZIZIYY\n",
      "Processed Pauli string 262: XXXYYII\n"
     ]
    },
    {
     "name": "stdout",
     "output_type": "stream",
     "text": [
      "Processed Pauli string 263: YXXYXII\n",
      "Processed Pauli string 264: ZIIIZXI\n",
      "Processed Pauli string 265: ZZIZZXI\n"
     ]
    },
    {
     "name": "stdout",
     "output_type": "stream",
     "text": [
      "Processed Pauli string 266: YIIIYII\n",
      "Processed Pauli string 267: YZIZYII\n",
      "All circuits generated and saved.\n"
     ]
    }
   ],
   "source": [
    "# Extract opt_params\n",
    "opt_params = vqe_res['x']\n",
    "\n",
    "# Set l\n",
    "l = 15\n",
    "\n",
    "# Create the main folder if it doesn't exist\n",
    "if not os.path.exists('circuits'):\n",
    "    os.makedirs('circuits')\n",
    "\n",
    "# Traverse the Pauli strings\n",
    "for i, (pauli_string, coeff) in enumerate(sorted_pauli_list):\n",
    "    # Create a folder for this Pauli string\n",
    "    folder_path = os.path.join('circuits', str(i))\n",
    "    if not os.path.exists(folder_path):\n",
    "        os.makedirs(folder_path)\n",
    "    \n",
    "    # Construct A\n",
    "    A = construct_A(l, opt_params, pauli_string)\n",
    "\n",
    "    # Construct Q\n",
    "    Q = construct_Q(A)\n",
    "\n",
    "    # Save A\n",
    "    with open(os.path.join(folder_path, 'circuit_A.qpy'), 'wb') as f:\n",
    "        qpy_dump(A, f)\n",
    "    \n",
    "    # Save Q\n",
    "    with open(os.path.join(folder_path, 'circuit_Q.qpy'), 'wb') as f:\n",
    "        qpy_dump(Q, f)\n",
    "    \n",
    "    print(f\"Processed Pauli string {i}: {pauli_string}\")\n",
    "    \n",
    "print(\"All circuits generated and saved.\")"
   ]
  },
  {
   "cell_type": "markdown",
   "id": "fcf4f86b",
   "metadata": {
    "papermill": {
     "duration": 0.014894,
     "end_time": "2025-02-21T23:18:12.773154",
     "exception": false,
     "start_time": "2025-02-21T23:18:12.758260",
     "status": "completed"
    },
    "tags": []
   },
   "source": [
    "### 2 Transpilation"
   ]
  },
  {
   "cell_type": "code",
   "execution_count": 4,
   "id": "48c05892",
   "metadata": {
    "execution": {
     "iopub.execute_input": "2025-02-21T23:18:12.809932Z",
     "iopub.status.busy": "2025-02-21T23:18:12.808915Z",
     "iopub.status.idle": "2025-02-21T23:20:50.868692Z",
     "shell.execute_reply": "2025-02-21T23:20:50.867596Z"
    },
    "papermill": {
     "duration": 156.866043,
     "end_time": "2025-02-21T23:20:49.654795",
     "exception": false,
     "start_time": "2025-02-21T23:18:12.788752",
     "status": "completed"
    },
    "tags": []
   },
   "outputs": [
    {
     "name": "stdout",
     "output_type": "stream",
     "text": [
      "Transpiled and saved: circuits/0/transpiled_circuit_A.qpy\n"
     ]
    },
    {
     "name": "stdout",
     "output_type": "stream",
     "text": [
      "Transpiled and saved: circuits/0/transpiled_circuit_Q.qpy\n"
     ]
    },
    {
     "name": "stdout",
     "output_type": "stream",
     "text": [
      "Transpiled and saved: circuits/1/transpiled_circuit_A.qpy\n"
     ]
    },
    {
     "name": "stdout",
     "output_type": "stream",
     "text": [
      "Transpiled and saved: circuits/1/transpiled_circuit_Q.qpy\n"
     ]
    },
    {
     "name": "stdout",
     "output_type": "stream",
     "text": [
      "Transpiled and saved: circuits/10/transpiled_circuit_A.qpy\n"
     ]
    },
    {
     "name": "stdout",
     "output_type": "stream",
     "text": [
      "Transpiled and saved: circuits/10/transpiled_circuit_Q.qpy\n"
     ]
    },
    {
     "name": "stdout",
     "output_type": "stream",
     "text": [
      "Transpiled and saved: circuits/100/transpiled_circuit_A.qpy\n"
     ]
    },
    {
     "name": "stdout",
     "output_type": "stream",
     "text": [
      "Transpiled and saved: circuits/100/transpiled_circuit_Q.qpy\n"
     ]
    },
    {
     "name": "stdout",
     "output_type": "stream",
     "text": [
      "Transpiled and saved: circuits/101/transpiled_circuit_A.qpy\n"
     ]
    },
    {
     "name": "stdout",
     "output_type": "stream",
     "text": [
      "Transpiled and saved: circuits/101/transpiled_circuit_Q.qpy\n"
     ]
    },
    {
     "name": "stdout",
     "output_type": "stream",
     "text": [
      "Transpiled and saved: circuits/102/transpiled_circuit_A.qpy\n"
     ]
    },
    {
     "name": "stdout",
     "output_type": "stream",
     "text": [
      "Transpiled and saved: circuits/102/transpiled_circuit_Q.qpy\n"
     ]
    },
    {
     "name": "stdout",
     "output_type": "stream",
     "text": [
      "Transpiled and saved: circuits/103/transpiled_circuit_A.qpy\n"
     ]
    },
    {
     "name": "stdout",
     "output_type": "stream",
     "text": [
      "Transpiled and saved: circuits/103/transpiled_circuit_Q.qpy\n"
     ]
    },
    {
     "name": "stdout",
     "output_type": "stream",
     "text": [
      "Transpiled and saved: circuits/104/transpiled_circuit_A.qpy\n"
     ]
    },
    {
     "name": "stdout",
     "output_type": "stream",
     "text": [
      "Transpiled and saved: circuits/104/transpiled_circuit_Q.qpy\n"
     ]
    },
    {
     "name": "stdout",
     "output_type": "stream",
     "text": [
      "Transpiled and saved: circuits/105/transpiled_circuit_A.qpy\n"
     ]
    },
    {
     "name": "stdout",
     "output_type": "stream",
     "text": [
      "Transpiled and saved: circuits/105/transpiled_circuit_Q.qpy\n"
     ]
    },
    {
     "name": "stdout",
     "output_type": "stream",
     "text": [
      "Transpiled and saved: circuits/106/transpiled_circuit_A.qpy\n"
     ]
    },
    {
     "name": "stdout",
     "output_type": "stream",
     "text": [
      "Transpiled and saved: circuits/106/transpiled_circuit_Q.qpy\n"
     ]
    },
    {
     "name": "stdout",
     "output_type": "stream",
     "text": [
      "Transpiled and saved: circuits/107/transpiled_circuit_A.qpy\n"
     ]
    },
    {
     "name": "stdout",
     "output_type": "stream",
     "text": [
      "Transpiled and saved: circuits/107/transpiled_circuit_Q.qpy\n"
     ]
    },
    {
     "name": "stdout",
     "output_type": "stream",
     "text": [
      "Transpiled and saved: circuits/108/transpiled_circuit_A.qpy\n"
     ]
    },
    {
     "name": "stdout",
     "output_type": "stream",
     "text": [
      "Transpiled and saved: circuits/108/transpiled_circuit_Q.qpy\n"
     ]
    },
    {
     "name": "stdout",
     "output_type": "stream",
     "text": [
      "Transpiled and saved: circuits/109/transpiled_circuit_A.qpy\n"
     ]
    },
    {
     "name": "stdout",
     "output_type": "stream",
     "text": [
      "Transpiled and saved: circuits/109/transpiled_circuit_Q.qpy\n"
     ]
    },
    {
     "name": "stdout",
     "output_type": "stream",
     "text": [
      "Transpiled and saved: circuits/11/transpiled_circuit_A.qpy\n"
     ]
    },
    {
     "name": "stdout",
     "output_type": "stream",
     "text": [
      "Transpiled and saved: circuits/11/transpiled_circuit_Q.qpy\n"
     ]
    },
    {
     "name": "stdout",
     "output_type": "stream",
     "text": [
      "Transpiled and saved: circuits/110/transpiled_circuit_A.qpy\n"
     ]
    },
    {
     "name": "stdout",
     "output_type": "stream",
     "text": [
      "Transpiled and saved: circuits/110/transpiled_circuit_Q.qpy\n"
     ]
    },
    {
     "name": "stdout",
     "output_type": "stream",
     "text": [
      "Transpiled and saved: circuits/111/transpiled_circuit_A.qpy\n"
     ]
    },
    {
     "name": "stdout",
     "output_type": "stream",
     "text": [
      "Transpiled and saved: circuits/111/transpiled_circuit_Q.qpy\n"
     ]
    },
    {
     "name": "stdout",
     "output_type": "stream",
     "text": [
      "Transpiled and saved: circuits/112/transpiled_circuit_A.qpy\n"
     ]
    },
    {
     "name": "stdout",
     "output_type": "stream",
     "text": [
      "Transpiled and saved: circuits/112/transpiled_circuit_Q.qpy\n"
     ]
    },
    {
     "name": "stdout",
     "output_type": "stream",
     "text": [
      "Transpiled and saved: circuits/113/transpiled_circuit_A.qpy\n"
     ]
    },
    {
     "name": "stdout",
     "output_type": "stream",
     "text": [
      "Transpiled and saved: circuits/113/transpiled_circuit_Q.qpy\n"
     ]
    },
    {
     "name": "stdout",
     "output_type": "stream",
     "text": [
      "Transpiled and saved: circuits/114/transpiled_circuit_A.qpy\n"
     ]
    },
    {
     "name": "stdout",
     "output_type": "stream",
     "text": [
      "Transpiled and saved: circuits/114/transpiled_circuit_Q.qpy\n"
     ]
    },
    {
     "name": "stdout",
     "output_type": "stream",
     "text": [
      "Transpiled and saved: circuits/115/transpiled_circuit_A.qpy\n"
     ]
    },
    {
     "name": "stdout",
     "output_type": "stream",
     "text": [
      "Transpiled and saved: circuits/115/transpiled_circuit_Q.qpy\n"
     ]
    },
    {
     "name": "stdout",
     "output_type": "stream",
     "text": [
      "Transpiled and saved: circuits/116/transpiled_circuit_A.qpy\n"
     ]
    },
    {
     "name": "stdout",
     "output_type": "stream",
     "text": [
      "Transpiled and saved: circuits/116/transpiled_circuit_Q.qpy\n"
     ]
    },
    {
     "name": "stdout",
     "output_type": "stream",
     "text": [
      "Transpiled and saved: circuits/117/transpiled_circuit_A.qpy\n"
     ]
    },
    {
     "name": "stdout",
     "output_type": "stream",
     "text": [
      "Transpiled and saved: circuits/117/transpiled_circuit_Q.qpy\n"
     ]
    },
    {
     "name": "stdout",
     "output_type": "stream",
     "text": [
      "Transpiled and saved: circuits/118/transpiled_circuit_A.qpy\n"
     ]
    },
    {
     "name": "stdout",
     "output_type": "stream",
     "text": [
      "Transpiled and saved: circuits/118/transpiled_circuit_Q.qpy\n"
     ]
    },
    {
     "name": "stdout",
     "output_type": "stream",
     "text": [
      "Transpiled and saved: circuits/119/transpiled_circuit_A.qpy\n"
     ]
    },
    {
     "name": "stdout",
     "output_type": "stream",
     "text": [
      "Transpiled and saved: circuits/119/transpiled_circuit_Q.qpy\n"
     ]
    },
    {
     "name": "stdout",
     "output_type": "stream",
     "text": [
      "Transpiled and saved: circuits/12/transpiled_circuit_A.qpy\n"
     ]
    },
    {
     "name": "stdout",
     "output_type": "stream",
     "text": [
      "Transpiled and saved: circuits/12/transpiled_circuit_Q.qpy\n"
     ]
    },
    {
     "name": "stdout",
     "output_type": "stream",
     "text": [
      "Transpiled and saved: circuits/120/transpiled_circuit_A.qpy\n"
     ]
    },
    {
     "name": "stdout",
     "output_type": "stream",
     "text": [
      "Transpiled and saved: circuits/120/transpiled_circuit_Q.qpy\n"
     ]
    },
    {
     "name": "stdout",
     "output_type": "stream",
     "text": [
      "Transpiled and saved: circuits/121/transpiled_circuit_A.qpy\n"
     ]
    },
    {
     "name": "stdout",
     "output_type": "stream",
     "text": [
      "Transpiled and saved: circuits/121/transpiled_circuit_Q.qpy\n"
     ]
    },
    {
     "name": "stdout",
     "output_type": "stream",
     "text": [
      "Transpiled and saved: circuits/122/transpiled_circuit_A.qpy\n"
     ]
    },
    {
     "name": "stdout",
     "output_type": "stream",
     "text": [
      "Transpiled and saved: circuits/122/transpiled_circuit_Q.qpy\n"
     ]
    },
    {
     "name": "stdout",
     "output_type": "stream",
     "text": [
      "Transpiled and saved: circuits/123/transpiled_circuit_A.qpy\n"
     ]
    },
    {
     "name": "stdout",
     "output_type": "stream",
     "text": [
      "Transpiled and saved: circuits/123/transpiled_circuit_Q.qpy\n"
     ]
    },
    {
     "name": "stdout",
     "output_type": "stream",
     "text": [
      "Transpiled and saved: circuits/124/transpiled_circuit_A.qpy\n"
     ]
    },
    {
     "name": "stdout",
     "output_type": "stream",
     "text": [
      "Transpiled and saved: circuits/124/transpiled_circuit_Q.qpy\n"
     ]
    },
    {
     "name": "stdout",
     "output_type": "stream",
     "text": [
      "Transpiled and saved: circuits/125/transpiled_circuit_A.qpy\n"
     ]
    },
    {
     "name": "stdout",
     "output_type": "stream",
     "text": [
      "Transpiled and saved: circuits/125/transpiled_circuit_Q.qpy\n"
     ]
    },
    {
     "name": "stdout",
     "output_type": "stream",
     "text": [
      "Transpiled and saved: circuits/126/transpiled_circuit_A.qpy\n"
     ]
    },
    {
     "name": "stdout",
     "output_type": "stream",
     "text": [
      "Transpiled and saved: circuits/126/transpiled_circuit_Q.qpy\n"
     ]
    },
    {
     "name": "stdout",
     "output_type": "stream",
     "text": [
      "Transpiled and saved: circuits/127/transpiled_circuit_A.qpy\n"
     ]
    },
    {
     "name": "stdout",
     "output_type": "stream",
     "text": [
      "Transpiled and saved: circuits/127/transpiled_circuit_Q.qpy\n"
     ]
    },
    {
     "name": "stdout",
     "output_type": "stream",
     "text": [
      "Transpiled and saved: circuits/128/transpiled_circuit_A.qpy\n"
     ]
    },
    {
     "name": "stdout",
     "output_type": "stream",
     "text": [
      "Transpiled and saved: circuits/128/transpiled_circuit_Q.qpy\n"
     ]
    },
    {
     "name": "stdout",
     "output_type": "stream",
     "text": [
      "Transpiled and saved: circuits/129/transpiled_circuit_A.qpy\n"
     ]
    },
    {
     "name": "stdout",
     "output_type": "stream",
     "text": [
      "Transpiled and saved: circuits/129/transpiled_circuit_Q.qpy\n"
     ]
    },
    {
     "name": "stdout",
     "output_type": "stream",
     "text": [
      "Transpiled and saved: circuits/13/transpiled_circuit_A.qpy\n"
     ]
    },
    {
     "name": "stdout",
     "output_type": "stream",
     "text": [
      "Transpiled and saved: circuits/13/transpiled_circuit_Q.qpy\n"
     ]
    },
    {
     "name": "stdout",
     "output_type": "stream",
     "text": [
      "Transpiled and saved: circuits/130/transpiled_circuit_A.qpy\n"
     ]
    },
    {
     "name": "stdout",
     "output_type": "stream",
     "text": [
      "Transpiled and saved: circuits/130/transpiled_circuit_Q.qpy\n"
     ]
    },
    {
     "name": "stdout",
     "output_type": "stream",
     "text": [
      "Transpiled and saved: circuits/131/transpiled_circuit_A.qpy\n"
     ]
    },
    {
     "name": "stdout",
     "output_type": "stream",
     "text": [
      "Transpiled and saved: circuits/131/transpiled_circuit_Q.qpy\n"
     ]
    },
    {
     "name": "stdout",
     "output_type": "stream",
     "text": [
      "Transpiled and saved: circuits/132/transpiled_circuit_A.qpy\n"
     ]
    },
    {
     "name": "stdout",
     "output_type": "stream",
     "text": [
      "Transpiled and saved: circuits/132/transpiled_circuit_Q.qpy\n"
     ]
    },
    {
     "name": "stdout",
     "output_type": "stream",
     "text": [
      "Transpiled and saved: circuits/133/transpiled_circuit_A.qpy\n"
     ]
    },
    {
     "name": "stdout",
     "output_type": "stream",
     "text": [
      "Transpiled and saved: circuits/133/transpiled_circuit_Q.qpy\n"
     ]
    },
    {
     "name": "stdout",
     "output_type": "stream",
     "text": [
      "Transpiled and saved: circuits/134/transpiled_circuit_A.qpy\n"
     ]
    },
    {
     "name": "stdout",
     "output_type": "stream",
     "text": [
      "Transpiled and saved: circuits/134/transpiled_circuit_Q.qpy\n"
     ]
    },
    {
     "name": "stdout",
     "output_type": "stream",
     "text": [
      "Transpiled and saved: circuits/135/transpiled_circuit_A.qpy\n"
     ]
    },
    {
     "name": "stdout",
     "output_type": "stream",
     "text": [
      "Transpiled and saved: circuits/135/transpiled_circuit_Q.qpy\n"
     ]
    },
    {
     "name": "stdout",
     "output_type": "stream",
     "text": [
      "Transpiled and saved: circuits/136/transpiled_circuit_A.qpy\n"
     ]
    },
    {
     "name": "stdout",
     "output_type": "stream",
     "text": [
      "Transpiled and saved: circuits/136/transpiled_circuit_Q.qpy\n"
     ]
    },
    {
     "name": "stdout",
     "output_type": "stream",
     "text": [
      "Transpiled and saved: circuits/137/transpiled_circuit_A.qpy\n"
     ]
    },
    {
     "name": "stdout",
     "output_type": "stream",
     "text": [
      "Transpiled and saved: circuits/137/transpiled_circuit_Q.qpy\n"
     ]
    },
    {
     "name": "stdout",
     "output_type": "stream",
     "text": [
      "Transpiled and saved: circuits/138/transpiled_circuit_A.qpy\n"
     ]
    },
    {
     "name": "stdout",
     "output_type": "stream",
     "text": [
      "Transpiled and saved: circuits/138/transpiled_circuit_Q.qpy\n"
     ]
    },
    {
     "name": "stdout",
     "output_type": "stream",
     "text": [
      "Transpiled and saved: circuits/139/transpiled_circuit_A.qpy\n"
     ]
    },
    {
     "name": "stdout",
     "output_type": "stream",
     "text": [
      "Transpiled and saved: circuits/139/transpiled_circuit_Q.qpy\n"
     ]
    },
    {
     "name": "stdout",
     "output_type": "stream",
     "text": [
      "Transpiled and saved: circuits/14/transpiled_circuit_A.qpy\n"
     ]
    },
    {
     "name": "stdout",
     "output_type": "stream",
     "text": [
      "Transpiled and saved: circuits/14/transpiled_circuit_Q.qpy\n"
     ]
    },
    {
     "name": "stdout",
     "output_type": "stream",
     "text": [
      "Transpiled and saved: circuits/140/transpiled_circuit_A.qpy\n"
     ]
    },
    {
     "name": "stdout",
     "output_type": "stream",
     "text": [
      "Transpiled and saved: circuits/140/transpiled_circuit_Q.qpy\n"
     ]
    },
    {
     "name": "stdout",
     "output_type": "stream",
     "text": [
      "Transpiled and saved: circuits/141/transpiled_circuit_A.qpy\n"
     ]
    },
    {
     "name": "stdout",
     "output_type": "stream",
     "text": [
      "Transpiled and saved: circuits/141/transpiled_circuit_Q.qpy\n"
     ]
    },
    {
     "name": "stdout",
     "output_type": "stream",
     "text": [
      "Transpiled and saved: circuits/142/transpiled_circuit_A.qpy\n"
     ]
    },
    {
     "name": "stdout",
     "output_type": "stream",
     "text": [
      "Transpiled and saved: circuits/142/transpiled_circuit_Q.qpy\n"
     ]
    },
    {
     "name": "stdout",
     "output_type": "stream",
     "text": [
      "Transpiled and saved: circuits/143/transpiled_circuit_A.qpy\n"
     ]
    },
    {
     "name": "stdout",
     "output_type": "stream",
     "text": [
      "Transpiled and saved: circuits/143/transpiled_circuit_Q.qpy\n"
     ]
    },
    {
     "name": "stdout",
     "output_type": "stream",
     "text": [
      "Transpiled and saved: circuits/144/transpiled_circuit_A.qpy\n"
     ]
    },
    {
     "name": "stdout",
     "output_type": "stream",
     "text": [
      "Transpiled and saved: circuits/144/transpiled_circuit_Q.qpy\n"
     ]
    },
    {
     "name": "stdout",
     "output_type": "stream",
     "text": [
      "Transpiled and saved: circuits/145/transpiled_circuit_A.qpy\n"
     ]
    },
    {
     "name": "stdout",
     "output_type": "stream",
     "text": [
      "Transpiled and saved: circuits/145/transpiled_circuit_Q.qpy\n"
     ]
    },
    {
     "name": "stdout",
     "output_type": "stream",
     "text": [
      "Transpiled and saved: circuits/146/transpiled_circuit_A.qpy\n"
     ]
    },
    {
     "name": "stdout",
     "output_type": "stream",
     "text": [
      "Transpiled and saved: circuits/146/transpiled_circuit_Q.qpy\n"
     ]
    },
    {
     "name": "stdout",
     "output_type": "stream",
     "text": [
      "Transpiled and saved: circuits/147/transpiled_circuit_A.qpy\n"
     ]
    },
    {
     "name": "stdout",
     "output_type": "stream",
     "text": [
      "Transpiled and saved: circuits/147/transpiled_circuit_Q.qpy\n"
     ]
    },
    {
     "name": "stdout",
     "output_type": "stream",
     "text": [
      "Transpiled and saved: circuits/148/transpiled_circuit_A.qpy\n"
     ]
    },
    {
     "name": "stdout",
     "output_type": "stream",
     "text": [
      "Transpiled and saved: circuits/148/transpiled_circuit_Q.qpy\n"
     ]
    },
    {
     "name": "stdout",
     "output_type": "stream",
     "text": [
      "Transpiled and saved: circuits/149/transpiled_circuit_A.qpy\n"
     ]
    },
    {
     "name": "stdout",
     "output_type": "stream",
     "text": [
      "Transpiled and saved: circuits/149/transpiled_circuit_Q.qpy\n"
     ]
    },
    {
     "name": "stdout",
     "output_type": "stream",
     "text": [
      "Transpiled and saved: circuits/15/transpiled_circuit_A.qpy\n"
     ]
    },
    {
     "name": "stdout",
     "output_type": "stream",
     "text": [
      "Transpiled and saved: circuits/15/transpiled_circuit_Q.qpy\n"
     ]
    },
    {
     "name": "stdout",
     "output_type": "stream",
     "text": [
      "Transpiled and saved: circuits/150/transpiled_circuit_A.qpy\n"
     ]
    },
    {
     "name": "stdout",
     "output_type": "stream",
     "text": [
      "Transpiled and saved: circuits/150/transpiled_circuit_Q.qpy\n"
     ]
    },
    {
     "ename": "KeyboardInterrupt",
     "evalue": "",
     "output_type": "error",
     "traceback": [
      "\u001b[0;31m---------------------------------------------------------------------------\u001b[0m",
      "\u001b[0;31mKeyboardInterrupt\u001b[0m                         Traceback (most recent call last)",
      "Cell \u001b[0;32mIn[4], line 20\u001b[0m\n\u001b[1;32m     17\u001b[0m     circuit \u001b[38;5;241m=\u001b[39m qpy_load(f)[\u001b[38;5;241m0\u001b[39m]\n\u001b[1;32m     19\u001b[0m \u001b[38;5;66;03m# Transpile the circuit\u001b[39;00m\n\u001b[0;32m---> 20\u001b[0m transpiled_circuit \u001b[38;5;241m=\u001b[39m \u001b[43mtranspile\u001b[49m\u001b[43m(\u001b[49m\u001b[43mcircuit\u001b[49m\u001b[43m,\u001b[49m\u001b[43m \u001b[49m\u001b[43mbackend\u001b[49m\u001b[38;5;241;43m=\u001b[39;49m\u001b[43maer_sim\u001b[49m\u001b[43m,\u001b[49m\u001b[43m \u001b[49m\u001b[43moptimization_level\u001b[49m\u001b[38;5;241;43m=\u001b[39;49m\u001b[38;5;241;43m3\u001b[39;49m\u001b[43m)\u001b[49m\n\u001b[1;32m     22\u001b[0m \u001b[38;5;66;03m# Save the transpiled circuit\u001b[39;00m\n\u001b[1;32m     23\u001b[0m transpiled_output_path \u001b[38;5;241m=\u001b[39m os\u001b[38;5;241m.\u001b[39mpath\u001b[38;5;241m.\u001b[39mjoin(folder_path, \u001b[38;5;124mf\u001b[39m\u001b[38;5;124m'\u001b[39m\u001b[38;5;124mtranspiled_\u001b[39m\u001b[38;5;132;01m{\u001b[39;00mcircuit_file\u001b[38;5;132;01m}\u001b[39;00m\u001b[38;5;124m'\u001b[39m)\n",
      "File \u001b[0;32m/usr/local/lib/python3.10/site-packages/qiskit/compiler/transpiler.py:391\u001b[0m, in \u001b[0;36mtranspile\u001b[0;34m(circuits, backend, basis_gates, inst_map, coupling_map, backend_properties, initial_layout, layout_method, routing_method, translation_method, scheduling_method, instruction_durations, dt, approximation_degree, timing_constraints, seed_transpiler, optimization_level, callback, output_name, unitary_synthesis_method, unitary_synthesis_plugin_config, target, hls_config, init_method, optimization_method, ignore_backend_supplied_default_methods, num_processes)\u001b[0m\n\u001b[1;32m    363\u001b[0m \u001b[38;5;66;03m# Edge cases require using the old model (loose constraints) instead of building a target,\u001b[39;00m\n\u001b[1;32m    364\u001b[0m \u001b[38;5;66;03m# but we don't populate the passmanager config with loose constraints unless it's one of\u001b[39;00m\n\u001b[1;32m    365\u001b[0m \u001b[38;5;66;03m# the known edge cases to control the execution path.\u001b[39;00m\n\u001b[1;32m    366\u001b[0m pm \u001b[38;5;241m=\u001b[39m generate_preset_pass_manager(\n\u001b[1;32m    367\u001b[0m     optimization_level,\n\u001b[1;32m    368\u001b[0m     target\u001b[38;5;241m=\u001b[39mtarget,\n\u001b[0;32m   (...)\u001b[0m\n\u001b[1;32m    388\u001b[0m     dt\u001b[38;5;241m=\u001b[39mdt,\n\u001b[1;32m    389\u001b[0m )\n\u001b[0;32m--> 391\u001b[0m out_circuits \u001b[38;5;241m=\u001b[39m \u001b[43mpm\u001b[49m\u001b[38;5;241;43m.\u001b[39;49m\u001b[43mrun\u001b[49m\u001b[43m(\u001b[49m\u001b[43mcircuits\u001b[49m\u001b[43m,\u001b[49m\u001b[43m \u001b[49m\u001b[43mcallback\u001b[49m\u001b[38;5;241;43m=\u001b[39;49m\u001b[43mcallback\u001b[49m\u001b[43m,\u001b[49m\u001b[43m \u001b[49m\u001b[43mnum_processes\u001b[49m\u001b[38;5;241;43m=\u001b[39;49m\u001b[43mnum_processes\u001b[49m\u001b[43m)\u001b[49m\n\u001b[1;32m    393\u001b[0m \u001b[38;5;28;01mfor\u001b[39;00m name, circ \u001b[38;5;129;01min\u001b[39;00m \u001b[38;5;28mzip\u001b[39m(output_name, out_circuits):\n\u001b[1;32m    394\u001b[0m     circ\u001b[38;5;241m.\u001b[39mname \u001b[38;5;241m=\u001b[39m name\n",
      "File \u001b[0;32m/usr/local/lib/python3.10/site-packages/qiskit/transpiler/passmanager.py:441\u001b[0m, in \u001b[0;36mStagedPassManager.run\u001b[0;34m(self, circuits, output_name, callback, num_processes)\u001b[0m\n\u001b[1;32m    433\u001b[0m \u001b[38;5;28;01mdef\u001b[39;00m \u001b[38;5;21mrun\u001b[39m(\n\u001b[1;32m    434\u001b[0m     \u001b[38;5;28mself\u001b[39m,\n\u001b[1;32m    435\u001b[0m     circuits: _CircuitsT,\n\u001b[0;32m   (...)\u001b[0m\n\u001b[1;32m    438\u001b[0m     num_processes: \u001b[38;5;28mint\u001b[39m \u001b[38;5;241m=\u001b[39m \u001b[38;5;28;01mNone\u001b[39;00m,\n\u001b[1;32m    439\u001b[0m ) \u001b[38;5;241m-\u001b[39m\u001b[38;5;241m>\u001b[39m _CircuitsT:\n\u001b[1;32m    440\u001b[0m     \u001b[38;5;28mself\u001b[39m\u001b[38;5;241m.\u001b[39m_update_passmanager()\n\u001b[0;32m--> 441\u001b[0m     \u001b[38;5;28;01mreturn\u001b[39;00m \u001b[38;5;28;43msuper\u001b[39;49m\u001b[43m(\u001b[49m\u001b[43m)\u001b[49m\u001b[38;5;241;43m.\u001b[39;49m\u001b[43mrun\u001b[49m\u001b[43m(\u001b[49m\u001b[43mcircuits\u001b[49m\u001b[43m,\u001b[49m\u001b[43m \u001b[49m\u001b[43moutput_name\u001b[49m\u001b[43m,\u001b[49m\u001b[43m \u001b[49m\u001b[43mcallback\u001b[49m\u001b[43m,\u001b[49m\u001b[43m \u001b[49m\u001b[43mnum_processes\u001b[49m\u001b[38;5;241;43m=\u001b[39;49m\u001b[43mnum_processes\u001b[49m\u001b[43m)\u001b[49m\n",
      "File \u001b[0;32m/usr/local/lib/python3.10/site-packages/qiskit/transpiler/passmanager.py:464\u001b[0m, in \u001b[0;36m_replace_error.<locals>.wrapper\u001b[0;34m(*meth_args, **meth_kwargs)\u001b[0m\n\u001b[1;32m    461\u001b[0m \u001b[38;5;129m@wraps\u001b[39m(meth)\n\u001b[1;32m    462\u001b[0m \u001b[38;5;28;01mdef\u001b[39;00m \u001b[38;5;21mwrapper\u001b[39m(\u001b[38;5;241m*\u001b[39mmeth_args, \u001b[38;5;241m*\u001b[39m\u001b[38;5;241m*\u001b[39mmeth_kwargs):\n\u001b[1;32m    463\u001b[0m     \u001b[38;5;28;01mtry\u001b[39;00m:\n\u001b[0;32m--> 464\u001b[0m         \u001b[38;5;28;01mreturn\u001b[39;00m \u001b[43mmeth\u001b[49m\u001b[43m(\u001b[49m\u001b[38;5;241;43m*\u001b[39;49m\u001b[43mmeth_args\u001b[49m\u001b[43m,\u001b[49m\u001b[43m \u001b[49m\u001b[38;5;241;43m*\u001b[39;49m\u001b[38;5;241;43m*\u001b[39;49m\u001b[43mmeth_kwargs\u001b[49m\u001b[43m)\u001b[49m\n\u001b[1;32m    465\u001b[0m     \u001b[38;5;28;01mexcept\u001b[39;00m PassManagerError \u001b[38;5;28;01mas\u001b[39;00m ex:\n\u001b[1;32m    466\u001b[0m         \u001b[38;5;28;01mraise\u001b[39;00m TranspilerError(ex\u001b[38;5;241m.\u001b[39mmessage) \u001b[38;5;28;01mfrom\u001b[39;00m \u001b[38;5;21;01mex\u001b[39;00m\n",
      "File \u001b[0;32m/usr/local/lib/python3.10/site-packages/qiskit/transpiler/passmanager.py:226\u001b[0m, in \u001b[0;36mPassManager.run\u001b[0;34m(self, circuits, output_name, callback, num_processes)\u001b[0m\n\u001b[1;32m    223\u001b[0m \u001b[38;5;28;01mif\u001b[39;00m callback \u001b[38;5;129;01mis\u001b[39;00m \u001b[38;5;129;01mnot\u001b[39;00m \u001b[38;5;28;01mNone\u001b[39;00m:\n\u001b[1;32m    224\u001b[0m     callback \u001b[38;5;241m=\u001b[39m _legacy_style_callback(callback)\n\u001b[0;32m--> 226\u001b[0m \u001b[38;5;28;01mreturn\u001b[39;00m \u001b[38;5;28;43msuper\u001b[39;49m\u001b[43m(\u001b[49m\u001b[43m)\u001b[49m\u001b[38;5;241;43m.\u001b[39;49m\u001b[43mrun\u001b[49m\u001b[43m(\u001b[49m\n\u001b[1;32m    227\u001b[0m \u001b[43m    \u001b[49m\u001b[43min_programs\u001b[49m\u001b[38;5;241;43m=\u001b[39;49m\u001b[43mcircuits\u001b[49m\u001b[43m,\u001b[49m\n\u001b[1;32m    228\u001b[0m \u001b[43m    \u001b[49m\u001b[43mcallback\u001b[49m\u001b[38;5;241;43m=\u001b[39;49m\u001b[43mcallback\u001b[49m\u001b[43m,\u001b[49m\n\u001b[1;32m    229\u001b[0m \u001b[43m    \u001b[49m\u001b[43moutput_name\u001b[49m\u001b[38;5;241;43m=\u001b[39;49m\u001b[43moutput_name\u001b[49m\u001b[43m,\u001b[49m\n\u001b[1;32m    230\u001b[0m \u001b[43m    \u001b[49m\u001b[43mnum_processes\u001b[49m\u001b[38;5;241;43m=\u001b[39;49m\u001b[43mnum_processes\u001b[49m\u001b[43m,\u001b[49m\n\u001b[1;32m    231\u001b[0m \u001b[43m\u001b[49m\u001b[43m)\u001b[49m\n",
      "File \u001b[0;32m/usr/local/lib/python3.10/site-packages/qiskit/passmanager/passmanager.py:231\u001b[0m, in \u001b[0;36mBasePassManager.run\u001b[0;34m(self, in_programs, callback, num_processes, **kwargs)\u001b[0m\n\u001b[1;32m    228\u001b[0m \u001b[38;5;66;03m# If we're not going to run in parallel, we want to avoid spending time `dill` serializing\u001b[39;00m\n\u001b[1;32m    229\u001b[0m \u001b[38;5;66;03m# ourselves, since that can be quite expensive.\u001b[39;00m\n\u001b[1;32m    230\u001b[0m \u001b[38;5;28;01mif\u001b[39;00m \u001b[38;5;28mlen\u001b[39m(in_programs) \u001b[38;5;241m==\u001b[39m \u001b[38;5;241m1\u001b[39m \u001b[38;5;129;01mor\u001b[39;00m \u001b[38;5;129;01mnot\u001b[39;00m should_run_in_parallel(num_processes):\n\u001b[0;32m--> 231\u001b[0m     out \u001b[38;5;241m=\u001b[39m [\n\u001b[1;32m    232\u001b[0m         _run_workflow(program\u001b[38;5;241m=\u001b[39mprogram, pass_manager\u001b[38;5;241m=\u001b[39m\u001b[38;5;28mself\u001b[39m, callback\u001b[38;5;241m=\u001b[39mcallback, \u001b[38;5;241m*\u001b[39m\u001b[38;5;241m*\u001b[39mkwargs)\n\u001b[1;32m    233\u001b[0m         \u001b[38;5;28;01mfor\u001b[39;00m program \u001b[38;5;129;01min\u001b[39;00m in_programs\n\u001b[1;32m    234\u001b[0m     ]\n\u001b[1;32m    235\u001b[0m     \u001b[38;5;28;01mif\u001b[39;00m \u001b[38;5;28mlen\u001b[39m(in_programs) \u001b[38;5;241m==\u001b[39m \u001b[38;5;241m1\u001b[39m \u001b[38;5;129;01mand\u001b[39;00m \u001b[38;5;129;01mnot\u001b[39;00m is_list:\n\u001b[1;32m    236\u001b[0m         \u001b[38;5;28;01mreturn\u001b[39;00m out[\u001b[38;5;241m0\u001b[39m]\n",
      "File \u001b[0;32m/usr/local/lib/python3.10/site-packages/qiskit/passmanager/passmanager.py:232\u001b[0m, in \u001b[0;36m<listcomp>\u001b[0;34m(.0)\u001b[0m\n\u001b[1;32m    228\u001b[0m \u001b[38;5;66;03m# If we're not going to run in parallel, we want to avoid spending time `dill` serializing\u001b[39;00m\n\u001b[1;32m    229\u001b[0m \u001b[38;5;66;03m# ourselves, since that can be quite expensive.\u001b[39;00m\n\u001b[1;32m    230\u001b[0m \u001b[38;5;28;01mif\u001b[39;00m \u001b[38;5;28mlen\u001b[39m(in_programs) \u001b[38;5;241m==\u001b[39m \u001b[38;5;241m1\u001b[39m \u001b[38;5;129;01mor\u001b[39;00m \u001b[38;5;129;01mnot\u001b[39;00m should_run_in_parallel(num_processes):\n\u001b[1;32m    231\u001b[0m     out \u001b[38;5;241m=\u001b[39m [\n\u001b[0;32m--> 232\u001b[0m         \u001b[43m_run_workflow\u001b[49m\u001b[43m(\u001b[49m\u001b[43mprogram\u001b[49m\u001b[38;5;241;43m=\u001b[39;49m\u001b[43mprogram\u001b[49m\u001b[43m,\u001b[49m\u001b[43m \u001b[49m\u001b[43mpass_manager\u001b[49m\u001b[38;5;241;43m=\u001b[39;49m\u001b[38;5;28;43mself\u001b[39;49m\u001b[43m,\u001b[49m\u001b[43m \u001b[49m\u001b[43mcallback\u001b[49m\u001b[38;5;241;43m=\u001b[39;49m\u001b[43mcallback\u001b[49m\u001b[43m,\u001b[49m\u001b[43m \u001b[49m\u001b[38;5;241;43m*\u001b[39;49m\u001b[38;5;241;43m*\u001b[39;49m\u001b[43mkwargs\u001b[49m\u001b[43m)\u001b[49m\n\u001b[1;32m    233\u001b[0m         \u001b[38;5;28;01mfor\u001b[39;00m program \u001b[38;5;129;01min\u001b[39;00m in_programs\n\u001b[1;32m    234\u001b[0m     ]\n\u001b[1;32m    235\u001b[0m     \u001b[38;5;28;01mif\u001b[39;00m \u001b[38;5;28mlen\u001b[39m(in_programs) \u001b[38;5;241m==\u001b[39m \u001b[38;5;241m1\u001b[39m \u001b[38;5;129;01mand\u001b[39;00m \u001b[38;5;129;01mnot\u001b[39;00m is_list:\n\u001b[1;32m    236\u001b[0m         \u001b[38;5;28;01mreturn\u001b[39;00m out[\u001b[38;5;241m0\u001b[39m]\n",
      "File \u001b[0;32m/usr/local/lib/python3.10/site-packages/qiskit/passmanager/passmanager.py:292\u001b[0m, in \u001b[0;36m_run_workflow\u001b[0;34m(program, pass_manager, **kwargs)\u001b[0m\n\u001b[1;32m    286\u001b[0m initial_status \u001b[38;5;241m=\u001b[39m WorkflowStatus()\n\u001b[1;32m    288\u001b[0m passmanager_ir \u001b[38;5;241m=\u001b[39m pass_manager\u001b[38;5;241m.\u001b[39m_passmanager_frontend(\n\u001b[1;32m    289\u001b[0m     input_program\u001b[38;5;241m=\u001b[39mprogram,\n\u001b[1;32m    290\u001b[0m     \u001b[38;5;241m*\u001b[39m\u001b[38;5;241m*\u001b[39mkwargs,\n\u001b[1;32m    291\u001b[0m )\n\u001b[0;32m--> 292\u001b[0m passmanager_ir, final_state \u001b[38;5;241m=\u001b[39m \u001b[43mflow_controller\u001b[49m\u001b[38;5;241;43m.\u001b[39;49m\u001b[43mexecute\u001b[49m\u001b[43m(\u001b[49m\n\u001b[1;32m    293\u001b[0m \u001b[43m    \u001b[49m\u001b[43mpassmanager_ir\u001b[49m\u001b[38;5;241;43m=\u001b[39;49m\u001b[43mpassmanager_ir\u001b[49m\u001b[43m,\u001b[49m\n\u001b[1;32m    294\u001b[0m \u001b[43m    \u001b[49m\u001b[43mstate\u001b[49m\u001b[38;5;241;43m=\u001b[39;49m\u001b[43mPassManagerState\u001b[49m\u001b[43m(\u001b[49m\n\u001b[1;32m    295\u001b[0m \u001b[43m        \u001b[49m\u001b[43mworkflow_status\u001b[49m\u001b[38;5;241;43m=\u001b[39;49m\u001b[43minitial_status\u001b[49m\u001b[43m,\u001b[49m\n\u001b[1;32m    296\u001b[0m \u001b[43m        \u001b[49m\u001b[43mproperty_set\u001b[49m\u001b[38;5;241;43m=\u001b[39;49m\u001b[43mPropertySet\u001b[49m\u001b[43m(\u001b[49m\u001b[43m)\u001b[49m\u001b[43m,\u001b[49m\n\u001b[1;32m    297\u001b[0m \u001b[43m    \u001b[49m\u001b[43m)\u001b[49m\u001b[43m,\u001b[49m\n\u001b[1;32m    298\u001b[0m \u001b[43m    \u001b[49m\u001b[43mcallback\u001b[49m\u001b[38;5;241;43m=\u001b[39;49m\u001b[43mkwargs\u001b[49m\u001b[38;5;241;43m.\u001b[39;49m\u001b[43mget\u001b[49m\u001b[43m(\u001b[49m\u001b[38;5;124;43m\"\u001b[39;49m\u001b[38;5;124;43mcallback\u001b[39;49m\u001b[38;5;124;43m\"\u001b[39;49m\u001b[43m,\u001b[49m\u001b[43m \u001b[49m\u001b[38;5;28;43;01mNone\u001b[39;49;00m\u001b[43m)\u001b[49m\u001b[43m,\u001b[49m\n\u001b[1;32m    299\u001b[0m \u001b[43m\u001b[49m\u001b[43m)\u001b[49m\n\u001b[1;32m    300\u001b[0m \u001b[38;5;66;03m# The `property_set` has historically been returned as a mutable attribute on `PassManager`\u001b[39;00m\n\u001b[1;32m    301\u001b[0m \u001b[38;5;66;03m# This makes us non-reentrant (though `PassManager` would be dependent on its internal tasks to\u001b[39;00m\n\u001b[1;32m    302\u001b[0m \u001b[38;5;66;03m# be re-entrant if that was required), but is consistent with previous interfaces.  We're still\u001b[39;00m\n\u001b[1;32m    303\u001b[0m \u001b[38;5;66;03m# safe to be called in a serial loop, again assuming internal tasks are re-runnable.  The\u001b[39;00m\n\u001b[1;32m    304\u001b[0m \u001b[38;5;66;03m# conversion to the backend language is also allowed to use the property set, so it must be set\u001b[39;00m\n\u001b[1;32m    305\u001b[0m \u001b[38;5;66;03m# before calling it.\u001b[39;00m\n\u001b[1;32m    306\u001b[0m pass_manager\u001b[38;5;241m.\u001b[39mproperty_set \u001b[38;5;241m=\u001b[39m final_state\u001b[38;5;241m.\u001b[39mproperty_set\n",
      "File \u001b[0;32m/usr/local/lib/python3.10/site-packages/qiskit/passmanager/base_tasks.py:218\u001b[0m, in \u001b[0;36mBaseController.execute\u001b[0;34m(self, passmanager_ir, state, callback)\u001b[0m\n\u001b[1;32m    216\u001b[0m     \u001b[38;5;28;01mreturn\u001b[39;00m passmanager_ir, state\n\u001b[1;32m    217\u001b[0m \u001b[38;5;28;01mwhile\u001b[39;00m \u001b[38;5;28;01mTrue\u001b[39;00m:\n\u001b[0;32m--> 218\u001b[0m     passmanager_ir, state \u001b[38;5;241m=\u001b[39m \u001b[43mnext_task\u001b[49m\u001b[38;5;241;43m.\u001b[39;49m\u001b[43mexecute\u001b[49m\u001b[43m(\u001b[49m\n\u001b[1;32m    219\u001b[0m \u001b[43m        \u001b[49m\u001b[43mpassmanager_ir\u001b[49m\u001b[38;5;241;43m=\u001b[39;49m\u001b[43mpassmanager_ir\u001b[49m\u001b[43m,\u001b[49m\n\u001b[1;32m    220\u001b[0m \u001b[43m        \u001b[49m\u001b[43mstate\u001b[49m\u001b[38;5;241;43m=\u001b[39;49m\u001b[43mstate\u001b[49m\u001b[43m,\u001b[49m\n\u001b[1;32m    221\u001b[0m \u001b[43m        \u001b[49m\u001b[43mcallback\u001b[49m\u001b[38;5;241;43m=\u001b[39;49m\u001b[43mcallback\u001b[49m\u001b[43m,\u001b[49m\n\u001b[1;32m    222\u001b[0m \u001b[43m    \u001b[49m\u001b[43m)\u001b[49m\n\u001b[1;32m    223\u001b[0m     \u001b[38;5;28;01mtry\u001b[39;00m:\n\u001b[1;32m    224\u001b[0m         \u001b[38;5;66;03m# Sending the object through the generator implies the custom controllers\u001b[39;00m\n\u001b[1;32m    225\u001b[0m         \u001b[38;5;66;03m# can always rely on the latest data to choose the next task to run.\u001b[39;00m\n\u001b[1;32m    226\u001b[0m         next_task \u001b[38;5;241m=\u001b[39m task_generator\u001b[38;5;241m.\u001b[39msend(state)\n",
      "File \u001b[0;32m/usr/local/lib/python3.10/site-packages/qiskit/passmanager/base_tasks.py:218\u001b[0m, in \u001b[0;36mBaseController.execute\u001b[0;34m(self, passmanager_ir, state, callback)\u001b[0m\n\u001b[1;32m    216\u001b[0m     \u001b[38;5;28;01mreturn\u001b[39;00m passmanager_ir, state\n\u001b[1;32m    217\u001b[0m \u001b[38;5;28;01mwhile\u001b[39;00m \u001b[38;5;28;01mTrue\u001b[39;00m:\n\u001b[0;32m--> 218\u001b[0m     passmanager_ir, state \u001b[38;5;241m=\u001b[39m \u001b[43mnext_task\u001b[49m\u001b[38;5;241;43m.\u001b[39;49m\u001b[43mexecute\u001b[49m\u001b[43m(\u001b[49m\n\u001b[1;32m    219\u001b[0m \u001b[43m        \u001b[49m\u001b[43mpassmanager_ir\u001b[49m\u001b[38;5;241;43m=\u001b[39;49m\u001b[43mpassmanager_ir\u001b[49m\u001b[43m,\u001b[49m\n\u001b[1;32m    220\u001b[0m \u001b[43m        \u001b[49m\u001b[43mstate\u001b[49m\u001b[38;5;241;43m=\u001b[39;49m\u001b[43mstate\u001b[49m\u001b[43m,\u001b[49m\n\u001b[1;32m    221\u001b[0m \u001b[43m        \u001b[49m\u001b[43mcallback\u001b[49m\u001b[38;5;241;43m=\u001b[39;49m\u001b[43mcallback\u001b[49m\u001b[43m,\u001b[49m\n\u001b[1;32m    222\u001b[0m \u001b[43m    \u001b[49m\u001b[43m)\u001b[49m\n\u001b[1;32m    223\u001b[0m     \u001b[38;5;28;01mtry\u001b[39;00m:\n\u001b[1;32m    224\u001b[0m         \u001b[38;5;66;03m# Sending the object through the generator implies the custom controllers\u001b[39;00m\n\u001b[1;32m    225\u001b[0m         \u001b[38;5;66;03m# can always rely on the latest data to choose the next task to run.\u001b[39;00m\n\u001b[1;32m    226\u001b[0m         next_task \u001b[38;5;241m=\u001b[39m task_generator\u001b[38;5;241m.\u001b[39msend(state)\n",
      "File \u001b[0;32m/usr/local/lib/python3.10/site-packages/qiskit/transpiler/basepasses.py:195\u001b[0m, in \u001b[0;36mTransformationPass.execute\u001b[0;34m(self, passmanager_ir, state, callback)\u001b[0m\n\u001b[1;32m    189\u001b[0m \u001b[38;5;28;01mdef\u001b[39;00m \u001b[38;5;21mexecute\u001b[39m(\n\u001b[1;32m    190\u001b[0m     \u001b[38;5;28mself\u001b[39m,\n\u001b[1;32m    191\u001b[0m     passmanager_ir: PassManagerIR,\n\u001b[1;32m    192\u001b[0m     state: PassManagerState,\n\u001b[1;32m    193\u001b[0m     callback: Callable \u001b[38;5;241m=\u001b[39m \u001b[38;5;28;01mNone\u001b[39;00m,\n\u001b[1;32m    194\u001b[0m ) \u001b[38;5;241m-\u001b[39m\u001b[38;5;241m>\u001b[39m \u001b[38;5;28mtuple\u001b[39m[PassManagerIR, PassManagerState]:\n\u001b[0;32m--> 195\u001b[0m     new_dag, state \u001b[38;5;241m=\u001b[39m \u001b[38;5;28;43msuper\u001b[39;49m\u001b[43m(\u001b[49m\u001b[43m)\u001b[49m\u001b[38;5;241;43m.\u001b[39;49m\u001b[43mexecute\u001b[49m\u001b[43m(\u001b[49m\n\u001b[1;32m    196\u001b[0m \u001b[43m        \u001b[49m\u001b[43mpassmanager_ir\u001b[49m\u001b[38;5;241;43m=\u001b[39;49m\u001b[43mpassmanager_ir\u001b[49m\u001b[43m,\u001b[49m\n\u001b[1;32m    197\u001b[0m \u001b[43m        \u001b[49m\u001b[43mstate\u001b[49m\u001b[38;5;241;43m=\u001b[39;49m\u001b[43mstate\u001b[49m\u001b[43m,\u001b[49m\n\u001b[1;32m    198\u001b[0m \u001b[43m        \u001b[49m\u001b[43mcallback\u001b[49m\u001b[38;5;241;43m=\u001b[39;49m\u001b[43mcallback\u001b[49m\u001b[43m,\u001b[49m\n\u001b[1;32m    199\u001b[0m \u001b[43m    \u001b[49m\u001b[43m)\u001b[49m\n\u001b[1;32m    201\u001b[0m     \u001b[38;5;28;01mif\u001b[39;00m state\u001b[38;5;241m.\u001b[39mworkflow_status\u001b[38;5;241m.\u001b[39mprevious_run \u001b[38;5;241m==\u001b[39m RunState\u001b[38;5;241m.\u001b[39mSUCCESS:\n\u001b[1;32m    202\u001b[0m         \u001b[38;5;28;01mif\u001b[39;00m \u001b[38;5;28misinstance\u001b[39m(new_dag, DAGCircuit):\n\u001b[1;32m    203\u001b[0m             \u001b[38;5;66;03m# Copy calibration data from the original program\u001b[39;00m\n",
      "File \u001b[0;32m/usr/local/lib/python3.10/site-packages/qiskit/passmanager/base_tasks.py:98\u001b[0m, in \u001b[0;36mGenericPass.execute\u001b[0;34m(self, passmanager_ir, state, callback)\u001b[0m\n\u001b[1;32m     96\u001b[0m \u001b[38;5;28;01mtry\u001b[39;00m:\n\u001b[1;32m     97\u001b[0m     \u001b[38;5;28;01mif\u001b[39;00m \u001b[38;5;28mself\u001b[39m \u001b[38;5;129;01mnot\u001b[39;00m \u001b[38;5;129;01min\u001b[39;00m state\u001b[38;5;241m.\u001b[39mworkflow_status\u001b[38;5;241m.\u001b[39mcompleted_passes:\n\u001b[0;32m---> 98\u001b[0m         ret \u001b[38;5;241m=\u001b[39m \u001b[38;5;28;43mself\u001b[39;49m\u001b[38;5;241;43m.\u001b[39;49m\u001b[43mrun\u001b[49m\u001b[43m(\u001b[49m\u001b[43mpassmanager_ir\u001b[49m\u001b[43m)\u001b[49m\n\u001b[1;32m     99\u001b[0m         run_state \u001b[38;5;241m=\u001b[39m RunState\u001b[38;5;241m.\u001b[39mSUCCESS\n\u001b[1;32m    100\u001b[0m     \u001b[38;5;28;01melse\u001b[39;00m:\n",
      "File \u001b[0;32m/usr/local/lib/python3.10/site-packages/qiskit/transpiler/passes/optimization/consolidate_blocks.py:141\u001b[0m, in \u001b[0;36mConsolidateBlocks.run\u001b[0;34m(self, dag)\u001b[0m\n\u001b[1;32m    135\u001b[0m     unitary \u001b[38;5;241m=\u001b[39m UnitaryGate(matrix, check_input\u001b[38;5;241m=\u001b[39m\u001b[38;5;28;01mFalse\u001b[39;00m)\n\u001b[1;32m    137\u001b[0m max_2q_depth \u001b[38;5;241m=\u001b[39m \u001b[38;5;241m20\u001b[39m  \u001b[38;5;66;03m# If depth > 20, there will be 1q gates to consolidate.\u001b[39;00m\n\u001b[1;32m    138\u001b[0m \u001b[38;5;28;01mif\u001b[39;00m (  \u001b[38;5;66;03m# pylint: disable=too-many-boolean-expressions\u001b[39;00m\n\u001b[1;32m    139\u001b[0m     \u001b[38;5;28mself\u001b[39m\u001b[38;5;241m.\u001b[39mforce_consolidate\n\u001b[1;32m    140\u001b[0m     \u001b[38;5;129;01mor\u001b[39;00m unitary\u001b[38;5;241m.\u001b[39mnum_qubits \u001b[38;5;241m>\u001b[39m \u001b[38;5;241m2\u001b[39m\n\u001b[0;32m--> 141\u001b[0m     \u001b[38;5;129;01mor\u001b[39;00m \u001b[38;5;28;43mself\u001b[39;49m\u001b[38;5;241;43m.\u001b[39;49m\u001b[43mdecomposer\u001b[49m\u001b[38;5;241;43m.\u001b[39;49m\u001b[43mnum_basis_gates\u001b[49m\u001b[43m(\u001b[49m\u001b[43mmatrix\u001b[49m\u001b[43m)\u001b[49m \u001b[38;5;241m<\u001b[39m basis_count\n\u001b[1;32m    142\u001b[0m     \u001b[38;5;129;01mor\u001b[39;00m \u001b[38;5;28mlen\u001b[39m(block) \u001b[38;5;241m>\u001b[39m max_2q_depth\n\u001b[1;32m    143\u001b[0m     \u001b[38;5;129;01mor\u001b[39;00m ((\u001b[38;5;28mself\u001b[39m\u001b[38;5;241m.\u001b[39mbasis_gates \u001b[38;5;129;01mis\u001b[39;00m \u001b[38;5;129;01mnot\u001b[39;00m \u001b[38;5;28;01mNone\u001b[39;00m) \u001b[38;5;129;01mand\u001b[39;00m outside_basis)\n\u001b[1;32m    144\u001b[0m     \u001b[38;5;129;01mor\u001b[39;00m ((\u001b[38;5;28mself\u001b[39m\u001b[38;5;241m.\u001b[39mtarget \u001b[38;5;129;01mis\u001b[39;00m \u001b[38;5;129;01mnot\u001b[39;00m \u001b[38;5;28;01mNone\u001b[39;00m) \u001b[38;5;129;01mand\u001b[39;00m outside_basis)\n\u001b[1;32m    145\u001b[0m ):\n\u001b[1;32m    146\u001b[0m     identity \u001b[38;5;241m=\u001b[39m np\u001b[38;5;241m.\u001b[39meye(\u001b[38;5;241m2\u001b[39m\u001b[38;5;241m*\u001b[39m\u001b[38;5;241m*\u001b[39munitary\u001b[38;5;241m.\u001b[39mnum_qubits)\n\u001b[1;32m    147\u001b[0m     \u001b[38;5;28;01mif\u001b[39;00m np\u001b[38;5;241m.\u001b[39mallclose(identity, unitary\u001b[38;5;241m.\u001b[39mto_matrix()):\n",
      "File \u001b[0;32m/usr/local/lib/python3.10/site-packages/qiskit/synthesis/two_qubit/xx_decompose/decomposer.py:200\u001b[0m, in \u001b[0;36mXXDecomposer.num_basis_gates\u001b[0;34m(self, unitary)\u001b[0m\n\u001b[1;32m    197\u001b[0m \u001b[38;5;28;01mif\u001b[39;00m target[\u001b[38;5;241m-\u001b[39m\u001b[38;5;241m1\u001b[39m] \u001b[38;5;241m<\u001b[39m \u001b[38;5;241m-\u001b[39mEPSILON:\n\u001b[1;32m    198\u001b[0m     target \u001b[38;5;241m=\u001b[39m [np\u001b[38;5;241m.\u001b[39mpi \u001b[38;5;241m/\u001b[39m \u001b[38;5;241m2\u001b[39m \u001b[38;5;241m-\u001b[39m target[\u001b[38;5;241m0\u001b[39m], target[\u001b[38;5;241m1\u001b[39m], \u001b[38;5;241m-\u001b[39mtarget[\u001b[38;5;241m2\u001b[39m]]\n\u001b[0;32m--> 200\u001b[0m best_sequence \u001b[38;5;241m=\u001b[39m \u001b[38;5;28;43mself\u001b[39;49m\u001b[38;5;241;43m.\u001b[39;49m\u001b[43m_best_decomposition\u001b[49m\u001b[43m(\u001b[49m\u001b[43mtarget\u001b[49m\u001b[43m,\u001b[49m\u001b[43m \u001b[49m\u001b[43mstrengths\u001b[49m\u001b[43m)\u001b[49m[\u001b[38;5;124m\"\u001b[39m\u001b[38;5;124msequence\u001b[39m\u001b[38;5;124m\"\u001b[39m]\n\u001b[1;32m    201\u001b[0m \u001b[38;5;28;01mreturn\u001b[39;00m \u001b[38;5;28mlen\u001b[39m(best_sequence)\n",
      "File \u001b[0;32m/usr/local/lib/python3.10/site-packages/qiskit/synthesis/two_qubit/xx_decompose/decomposer.py:166\u001b[0m, in \u001b[0;36mXXDecomposer._best_decomposition\u001b[0;34m(canonical_coordinate, available_strengths)\u001b[0m\n\u001b[1;32m    163\u001b[0m sequence_cost, sequence \u001b[38;5;241m=\u001b[39m heapq\u001b[38;5;241m.\u001b[39mheappop(priority_queue)\n\u001b[1;32m    165\u001b[0m strength_polytope \u001b[38;5;241m=\u001b[39m XXPolytope\u001b[38;5;241m.\u001b[39mfrom_strengths(\u001b[38;5;241m*\u001b[39m[x \u001b[38;5;241m/\u001b[39m \u001b[38;5;241m2\u001b[39m \u001b[38;5;28;01mfor\u001b[39;00m x \u001b[38;5;129;01min\u001b[39;00m sequence])\n\u001b[0;32m--> 166\u001b[0m candidate_point \u001b[38;5;241m=\u001b[39m \u001b[43mstrength_polytope\u001b[49m\u001b[38;5;241;43m.\u001b[39;49m\u001b[43mnearest\u001b[49m\u001b[43m(\u001b[49m\u001b[43mcanonical_coordinate\u001b[49m\u001b[43m)\u001b[49m\n\u001b[1;32m    167\u001b[0m candidate_cost \u001b[38;5;241m=\u001b[39m sequence_cost \u001b[38;5;241m+\u001b[39m _average_infidelity(\n\u001b[1;32m    168\u001b[0m     canonical_coordinate, candidate_point\n\u001b[1;32m    169\u001b[0m )\n\u001b[1;32m    171\u001b[0m \u001b[38;5;28;01mif\u001b[39;00m candidate_cost \u001b[38;5;241m<\u001b[39m best_cost:\n",
      "File \u001b[0;32m/usr/local/lib/python3.10/site-packages/qiskit/synthesis/two_qubit/xx_decompose/polytopes.py:232\u001b[0m, in \u001b[0;36mXXPolytope.nearest\u001b[0;34m(self, point)\u001b[0m\n\u001b[1;32m    230\u001b[0m \u001b[38;5;66;03m# pick the nearest\u001b[39;00m\n\u001b[1;32m    231\u001b[0m nearest \u001b[38;5;241m=\u001b[39m \u001b[38;5;241m-\u001b[39mnp\u001b[38;5;241m.\u001b[39mconcatenate([nearest1, nearest2, nearest3])\n\u001b[0;32m--> 232\u001b[0m nearest \u001b[38;5;241m=\u001b[39m nearest[\u001b[38;5;28;43mself\u001b[39;49m\u001b[38;5;241;43m.\u001b[39;49m\u001b[43mmember\u001b[49m\u001b[43m(\u001b[49m\u001b[43mnearest\u001b[49m\u001b[43m)\u001b[49m]\n\u001b[1;32m    233\u001b[0m smallest_index \u001b[38;5;241m=\u001b[39m np\u001b[38;5;241m.\u001b[39margmin(np\u001b[38;5;241m.\u001b[39mlinalg\u001b[38;5;241m.\u001b[39mnorm(nearest \u001b[38;5;241m-\u001b[39m y0, axis\u001b[38;5;241m=\u001b[39m\u001b[38;5;241m1\u001b[39m))\n\u001b[1;32m    235\u001b[0m \u001b[38;5;28;01mif\u001b[39;00m reflected_p:\n",
      "File \u001b[0;32m/usr/local/lib/python3.10/site-packages/qiskit/synthesis/two_qubit/xx_decompose/polytopes.py:178\u001b[0m, in \u001b[0;36mXXPolytope.member\u001b[0;34m(self, point)\u001b[0m\n\u001b[1;32m    175\u001b[0m reflected_point[rows, \u001b[38;5;241m0\u001b[39m] \u001b[38;5;241m=\u001b[39m np\u001b[38;5;241m.\u001b[39mpi \u001b[38;5;241m/\u001b[39m \u001b[38;5;241m2\u001b[39m \u001b[38;5;241m-\u001b[39m reflected_point[rows, \u001b[38;5;241m0\u001b[39m]\n\u001b[1;32m    176\u001b[0m reflected_point \u001b[38;5;241m=\u001b[39m reflected_point\u001b[38;5;241m.\u001b[39mreshape(point\u001b[38;5;241m.\u001b[39mshape)\n\u001b[0;32m--> 178\u001b[0m \u001b[38;5;28;01mreturn\u001b[39;00m \u001b[43mnp\u001b[49m\u001b[38;5;241;43m.\u001b[39;49m\u001b[43mall\u001b[49m\u001b[43m(\u001b[49m\n\u001b[1;32m    179\u001b[0m \u001b[43m    \u001b[49m\u001b[38;5;28;43mself\u001b[39;49m\u001b[38;5;241;43m.\u001b[39;49m\u001b[43m_offsets\u001b[49m\u001b[43m \u001b[49m\u001b[38;5;241;43m+\u001b[39;49m\u001b[43m \u001b[49m\u001b[43mnp\u001b[49m\u001b[38;5;241;43m.\u001b[39;49m\u001b[43meinsum\u001b[49m\u001b[43m(\u001b[49m\u001b[38;5;124;43m\"\u001b[39;49m\u001b[38;5;124;43mij,...j->...i\u001b[39;49m\u001b[38;5;124;43m\"\u001b[39;49m\u001b[43m,\u001b[49m\u001b[43m \u001b[49m\u001b[43mA\u001b[49m\u001b[43m,\u001b[49m\u001b[43m \u001b[49m\u001b[43mreflected_point\u001b[49m\u001b[43m)\u001b[49m\u001b[43m \u001b[49m\u001b[38;5;241;43m>\u001b[39;49m\u001b[38;5;241;43m=\u001b[39;49m\u001b[43m \u001b[49m\u001b[38;5;241;43m-\u001b[39;49m\u001b[43mEPSILON\u001b[49m\u001b[43m,\u001b[49m\u001b[43m \u001b[49m\u001b[43maxis\u001b[49m\u001b[38;5;241;43m=\u001b[39;49m\u001b[38;5;241;43m-\u001b[39;49m\u001b[38;5;241;43m1\u001b[39;49m\n\u001b[1;32m    180\u001b[0m \u001b[43m\u001b[49m\u001b[43m)\u001b[49m\n",
      "File \u001b[0;32m/usr/local/lib/python3.10/site-packages/numpy/_core/fromnumeric.py:2606\u001b[0m, in \u001b[0;36m_all_dispatcher\u001b[0;34m(a, axis, out, keepdims, where)\u001b[0m\n\u001b[1;32m   2498\u001b[0m \u001b[38;5;250m    \u001b[39m\u001b[38;5;124;03m\"\"\"\u001b[39;00m\n\u001b[1;32m   2499\u001b[0m \u001b[38;5;124;03m    Test whether any array element along a given axis evaluates to True.\u001b[39;00m\n\u001b[1;32m   2500\u001b[0m \n\u001b[0;32m   (...)\u001b[0m\n\u001b[1;32m   2600\u001b[0m \n\u001b[1;32m   2601\u001b[0m \u001b[38;5;124;03m    \"\"\"\u001b[39;00m\n\u001b[1;32m   2602\u001b[0m     \u001b[38;5;28;01mreturn\u001b[39;00m _wrapreduction_any_all(a, np\u001b[38;5;241m.\u001b[39mlogical_or, \u001b[38;5;124m'\u001b[39m\u001b[38;5;124many\u001b[39m\u001b[38;5;124m'\u001b[39m, axis, out,\n\u001b[1;32m   2603\u001b[0m                                   keepdims\u001b[38;5;241m=\u001b[39mkeepdims, where\u001b[38;5;241m=\u001b[39mwhere)\n\u001b[0;32m-> 2606\u001b[0m \u001b[38;5;28;01mdef\u001b[39;00m \u001b[38;5;21m_all_dispatcher\u001b[39m(a, axis\u001b[38;5;241m=\u001b[39m\u001b[38;5;28;01mNone\u001b[39;00m, out\u001b[38;5;241m=\u001b[39m\u001b[38;5;28;01mNone\u001b[39;00m, keepdims\u001b[38;5;241m=\u001b[39m\u001b[38;5;28;01mNone\u001b[39;00m, \u001b[38;5;241m*\u001b[39m,\n\u001b[1;32m   2607\u001b[0m                     where\u001b[38;5;241m=\u001b[39m\u001b[38;5;28;01mNone\u001b[39;00m):\n\u001b[1;32m   2608\u001b[0m     \u001b[38;5;28;01mreturn\u001b[39;00m (a, where, out)\n\u001b[1;32m   2611\u001b[0m \u001b[38;5;129m@array_function_dispatch\u001b[39m(_all_dispatcher)\n\u001b[1;32m   2612\u001b[0m \u001b[38;5;28;01mdef\u001b[39;00m \u001b[38;5;21mall\u001b[39m(a, axis\u001b[38;5;241m=\u001b[39m\u001b[38;5;28;01mNone\u001b[39;00m, out\u001b[38;5;241m=\u001b[39m\u001b[38;5;28;01mNone\u001b[39;00m, keepdims\u001b[38;5;241m=\u001b[39mnp\u001b[38;5;241m.\u001b[39m_NoValue, \u001b[38;5;241m*\u001b[39m, where\u001b[38;5;241m=\u001b[39mnp\u001b[38;5;241m.\u001b[39m_NoValue):\n",
      "\u001b[0;31mKeyboardInterrupt\u001b[0m: "
     ]
    }
   ],
   "source": [
    "# Create an instance of the AerSimulator\n",
    "aer_sim = AerSimulator()\n",
    "\n",
    "# Dictionary to store depths of transpiled circuits\n",
    "transpiled_depths = {}\n",
    "\n",
    "# Walk through the numbered folders in circuits\n",
    "for folder in os.listdir('circuits'):\n",
    "    folder_path = os.path.join('circuits', folder)\n",
    "    if os.path.isdir(folder_path):\n",
    "        # Process circuit_A.qpy and circuit_Q.qpy\n",
    "        for circuit_file in ['circuit_A.qpy', 'circuit_Q.qpy']:\n",
    "            input_path = os.path.join(folder_path, circuit_file)\n",
    "            if os.path.exists(input_path):\n",
    "                # Load the circuit\n",
    "                with open(input_path, 'rb') as f:\n",
    "                    circuit = qpy_load(f)[0]\n",
    "                \n",
    "                # Transpile the circuit\n",
    "                transpiled_circuit = transpile(circuit, backend=aer_sim, optimization_level=3)\n",
    "                \n",
    "                # Save the transpiled circuit\n",
    "                transpiled_output_path = os.path.join(folder_path, f'transpiled_{circuit_file}')\n",
    "                \n",
    "                with open(transpiled_output_path, 'wb') as f:\n",
    "                    qpy_dump(transpiled_circuit, f)\n",
    "                \n",
    "                print(f\"Transpiled and saved: {transpiled_output_path}\")\n",
    "                \n",
    "                # Store the depth of the transpiled circuit\n",
    "                circuit_key = f\"{folder}_{circuit_file.split('.')[0]}\"\n",
    "                transpiled_depths[circuit_key] = transpiled_circuit.depth()\n",
    "    \n",
    "print(\"All circuits have been transpiled and saved.\")\n",
    "\n",
    "# Print depths for both circuit A and Q\n",
    "for folder in sorted([d for d in os.listdir('circuits') if os.path.isdir(os.path.join('circuits', d))], key=int):\n",
    "    circuit_A_key = f\"{folder}_circuit_A\"\n",
    "    circuit_Q_key = f\"{folder}_circuit_Q\"\n",
    "    if circuit_A_key in transpiled_depths and circuit_Q_key in transpiled_depths:\n",
    "        print(f\"For the {int(folder) + 1}th Pauli string:\")\n",
    "        print(f\"  The depth of circuit A is {transpiled_depths[circuit_A_key]}\")\n",
    "        print(f\"  The depth of circuit Q is {transpiled_depths[circuit_Q_key]}\")\n",
    "\n"
   ]
  },
  {
   "cell_type": "markdown",
   "id": "189ab7a2",
   "metadata": {
    "papermill": {
     "duration": null,
     "end_time": null,
     "exception": null,
     "start_time": null,
     "status": "completed"
    },
    "tags": []
   },
   "source": [
    "### 3 Plot all circuits"
   ]
  },
  {
   "cell_type": "code",
   "execution_count": null,
   "id": "8ba86e1f",
   "metadata": {
    "papermill": {
     "duration": null,
     "end_time": null,
     "exception": null,
     "start_time": null,
     "status": "completed"
    },
    "tags": []
   },
   "outputs": [],
   "source": [
    "# # Walk through the numbered folders in circuits\n",
    "# for folder in os.listdir('circuits'):\n",
    "#     folder_path = os.path.join('circuits', folder)\n",
    "#     if os.path.isdir(folder_path):\n",
    "#         # Process all circuit files in the folder\n",
    "#         for circuit_file in os.listdir(folder_path):\n",
    "#             if circuit_file.endswith('.qpy'):\n",
    "#                 input_path = os.path.join(folder_path, circuit_file)\n",
    "                \n",
    "#                 # Load the circuit\n",
    "#                 with open(input_path, 'rb') as f:\n",
    "#                     circuit = qpy_load(f)[0]\n",
    "                \n",
    "#                 # Draw the circuit\n",
    "#                 circuit_img = circuit.draw(output='mpl', style={\n",
    "#                     'dpi': 150,\n",
    "#                     'font_size': 20,\n",
    "#                     'backgroundcolor': '#EEEEEE'\n",
    "#                 })\n",
    "#                 circuit_img.figure.set_size_inches(30, 15)\n",
    "                \n",
    "#                 # Save the plot\n",
    "#                 output_filename = f\"{os.path.splitext(circuit_file)[0]}.png\"\n",
    "#                 output_path = os.path.join(folder_path, output_filename)\n",
    "#                 circuit_img.figure.savefig(output_path, dpi=300, bbox_inches='tight')\n",
    "#                 plt.close(circuit_img.figure)\n",
    "                \n",
    "#                 print(f\"Saved circuit plot: {output_path}\")\n",
    "\n",
    "# print(\"All circuit plots have been generated and saved.\")"
   ]
  },
  {
   "cell_type": "code",
   "execution_count": null,
   "id": "ae8b49de",
   "metadata": {
    "papermill": {
     "duration": null,
     "end_time": null,
     "exception": null,
     "start_time": null,
     "status": "completed"
    },
    "tags": []
   },
   "outputs": [],
   "source": []
  }
 ],
 "metadata": {
  "kernelspec": {
   "display_name": "Python 3 (ipykernel)",
   "language": "python",
   "name": "python3"
  },
  "language_info": {
   "codemirror_mode": {
    "name": "ipython",
    "version": 3
   },
   "file_extension": ".py",
   "mimetype": "text/x-python",
   "name": "python",
   "nbconvert_exporter": "python",
   "pygments_lexer": "ipython3",
   "version": "3.10.15"
  },
  "papermill": {
   "default_parameters": {},
   "duration": 188.657965,
   "end_time": "2025-02-21T23:20:52.531361",
   "environment_variables": {},
   "exception": null,
   "input_path": "all_str_A_Q.ipynb",
   "output_path": "/usr/src/app/SoleyGroup/lab_data/Notebooks/Statistics/Corrected_plots/jingcheng/corrected_BeH2/corrected_BeH2/BondLengths/completed_BL_0p80000/all_str_A_Q/all_str_A_Q_out.ipynb",
   "parameters": {},
   "start_time": "2025-02-21T23:17:43.873396",
   "version": "2.6.0"
  }
 },
 "nbformat": 4,
 "nbformat_minor": 5
}