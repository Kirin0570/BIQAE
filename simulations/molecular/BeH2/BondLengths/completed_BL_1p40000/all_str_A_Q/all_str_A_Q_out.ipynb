{
 "cells": [
  {
   "cell_type": "code",
   "execution_count": 1,
   "id": "3a9e64dd",
   "metadata": {
    "execution": {
     "iopub.execute_input": "2025-01-26T16:36:22.101914Z",
     "iopub.status.busy": "2025-01-26T16:36:22.101446Z",
     "iopub.status.idle": "2025-01-26T16:36:23.366625Z",
     "shell.execute_reply": "2025-01-26T16:36:23.364737Z"
    },
    "papermill": {
     "duration": 1.273474,
     "end_time": "2025-01-26T16:36:23.368108",
     "exception": false,
     "start_time": "2025-01-26T16:36:22.094634",
     "status": "completed"
    },
    "tags": []
   },
   "outputs": [],
   "source": [
    "import sys\n",
    "import os\n",
    "import dill\n",
    "import matplotlib.pyplot as plt\n",
    "\n",
    "from qiskit import transpile\n",
    "from qiskit_aer import AerSimulator\n",
    "from qiskit.qpy import load as qpy_load, dump as qpy_dump\n",
    "\n",
    "# Add the path to the parent of the parent directory\n",
    "sys.path.append(os.path.abspath(os.path.join(os.getcwd(), \"../../\")))\n",
    "\n",
    "# Now you can import your modules\n",
    "from circuit_constructors import construct_A, construct_Q"
   ]
  },
  {
   "cell_type": "markdown",
   "id": "2e3809d8",
   "metadata": {
    "papermill": {
     "duration": 0.011876,
     "end_time": "2025-01-26T16:36:23.386254",
     "exception": false,
     "start_time": "2025-01-26T16:36:23.374378",
     "status": "completed"
    },
    "tags": []
   },
   "source": [
    "### 1 Construct A and Q for all Pauli strings"
   ]
  },
  {
   "cell_type": "code",
   "execution_count": 2,
   "id": "d60a6515",
   "metadata": {
    "execution": {
     "iopub.execute_input": "2025-01-26T16:36:23.409265Z",
     "iopub.status.busy": "2025-01-26T16:36:23.408682Z",
     "iopub.status.idle": "2025-01-26T16:36:23.459061Z",
     "shell.execute_reply": "2025-01-26T16:36:23.458166Z"
    },
    "papermill": {
     "duration": 0.063246,
     "end_time": "2025-01-26T16:36:23.460363",
     "exception": false,
     "start_time": "2025-01-26T16:36:23.397117",
     "status": "completed"
    },
    "tags": []
   },
   "outputs": [],
   "source": [
    "# Load decomp and optim_res\n",
    "with open('../sorted_pauli_list.pkl', 'rb') as f:\n",
    "    sorted_pauli_list = dill.load(f)\n",
    "with open('../vqe_result.pkl', 'rb') as f:\n",
    "    vqe_res = dill.load(f)\n"
   ]
  },
  {
   "cell_type": "code",
   "execution_count": 3,
   "id": "f07f2eb4",
   "metadata": {
    "execution": {
     "iopub.execute_input": "2025-01-26T16:36:23.479106Z",
     "iopub.status.busy": "2025-01-26T16:36:23.478640Z",
     "iopub.status.idle": "2025-01-26T16:36:48.782343Z",
     "shell.execute_reply": "2025-01-26T16:36:48.781279Z"
    },
    "papermill": {
     "duration": 25.319076,
     "end_time": "2025-01-26T16:36:48.784104",
     "exception": false,
     "start_time": "2025-01-26T16:36:23.465028",
     "status": "completed"
    },
    "tags": []
   },
   "outputs": [
    {
     "name": "stdout",
     "output_type": "stream",
     "text": [
      "Processed Pauli string 0: IZZIIII\n",
      "Processed Pauli string 1: IIZZIII\n",
      "Processed Pauli string 2: IIIIIII\n"
     ]
    },
    {
     "name": "stdout",
     "output_type": "stream",
     "text": [
      "Processed Pauli string 3: IIIIIZI\n",
      "Processed Pauli string 4: ZIIIIII\n",
      "Processed Pauli string 5: IIIIIZZ\n"
     ]
    },
    {
     "name": "stdout",
     "output_type": "stream",
     "text": [
      "Processed Pauli string 6: ZZIIIII\n",
      "Processed Pauli string 7: IZIZIII\n",
      "Processed Pauli string 8: ZIIZZZI\n"
     ]
    },
    {
     "name": "stdout",
     "output_type": "stream",
     "text": [
      "Processed Pauli string 9: IIIZZII\n",
      "Processed Pauli string 10: ZZIIZZZ\n",
      "Processed Pauli string 11: IIIIZII\n"
     ]
    },
    {
     "name": "stdout",
     "output_type": "stream",
     "text": [
      "Processed Pauli string 12: ZIIIIZI\n",
      "Processed Pauli string 13: IIIZZZI\n",
      "Processed Pauli string 14: ZZIIIZZ\n"
     ]
    },
    {
     "name": "stdout",
     "output_type": "stream",
     "text": [
      "Processed Pauli string 15: IIIIZZZ\n",
      "Processed Pauli string 16: IZZIIZI\n"
     ]
    },
    {
     "name": "stdout",
     "output_type": "stream",
     "text": [
      "Processed Pauli string 17: ZZZIIII\n",
      "Processed Pauli string 18: IIZZIZI\n",
      "Processed Pauli string 19: ZIZZIII\n"
     ]
    },
    {
     "name": "stdout",
     "output_type": "stream",
     "text": [
      "Processed Pauli string 20: ZIIZZII\n",
      "Processed Pauli string 21: ZZZZZZI\n",
      "Processed Pauli string 22: IZZZZII\n"
     ]
    },
    {
     "name": "stdout",
     "output_type": "stream",
     "text": [
      "Processed Pauli string 23: ZIZIZZI\n",
      "Processed Pauli string 24: IIZIZII\n",
      "Processed Pauli string 25: ZIZIZZZ\n"
     ]
    },
    {
     "name": "stdout",
     "output_type": "stream",
     "text": [
      "Processed Pauli string 26: IZZIZII\n",
      "Processed Pauli string 27: ZZZZZZZ\n",
      "Processed Pauli string 28: IIZZZII\n"
     ]
    },
    {
     "name": "stdout",
     "output_type": "stream",
     "text": [
      "Processed Pauli string 29: IZZIIZZ\n",
      "Processed Pauli string 30: ZIZIIII\n",
      "Processed Pauli string 31: IIZZIZZ\n"
     ]
    },
    {
     "name": "stdout",
     "output_type": "stream",
     "text": [
      "Processed Pauli string 32: ZZZZIII\n",
      "Processed Pauli string 33: ZZIIZII\n"
     ]
    },
    {
     "name": "stdout",
     "output_type": "stream",
     "text": [
      "Processed Pauli string 34: ZIIIIZZ\n",
      "Processed Pauli string 35: ZZIIIZI\n",
      "Processed Pauli string 36: IZIIZZZ\n"
     ]
    },
    {
     "name": "stdout",
     "output_type": "stream",
     "text": [
      "Processed Pauli string 37: IIIIZZI\n",
      "Processed Pauli string 38: ZZIZIZZ\n",
      "Processed Pauli string 39: ZIIZIZI\n"
     ]
    },
    {
     "name": "stdout",
     "output_type": "stream",
     "text": [
      "Processed Pauli string 40: IZIZZZI\n",
      "Processed Pauli string 41: IIIZZZZ\n",
      "Processed Pauli string 42: ZZIIZIZ\n"
     ]
    },
    {
     "name": "stdout",
     "output_type": "stream",
     "text": [
      "Processed Pauli string 43: ZIIIZII\n",
      "Processed Pauli string 44: ZIIZZIZ\n",
      "Processed Pauli string 45: ZZIZZII\n"
     ]
    },
    {
     "name": "stdout",
     "output_type": "stream",
     "text": [
      "Processed Pauli string 46: IIIIIIZ\n",
      "Processed Pauli string 47: IZIIIII\n",
      "Processed Pauli string 48: ZZIIZYY\n"
     ]
    },
    {
     "name": "stdout",
     "output_type": "stream",
     "text": [
      "Processed Pauli string 49: IZIZIYY\n",
      "Processed Pauli string 50: XXXXZII\n"
     ]
    },
    {
     "name": "stdout",
     "output_type": "stream",
     "text": [
      "Processed Pauli string 51: YXXYIII\n",
      "Processed Pauli string 52: IZIZIIZ\n",
      "Processed Pauli string 53: IIIZIII\n"
     ]
    },
    {
     "name": "stdout",
     "output_type": "stream",
     "text": [
      "Processed Pauli string 54: YYXXIYY\n",
      "Processed Pauli string 55: XYXYZYY\n",
      "Processed Pauli string 56: IZIIXIZ\n"
     ]
    },
    {
     "name": "stdout",
     "output_type": "stream",
     "text": [
      "Processed Pauli string 57: IZIZXIZ\n",
      "Processed Pauli string 58: IIIZXII\n",
      "Processed Pauli string 59: IIIIXII\n"
     ]
    },
    {
     "name": "stdout",
     "output_type": "stream",
     "text": [
      "Processed Pauli string 60: ZXXXXZX\n",
      "Processed Pauli string 61: IYXXYZX\n",
      "Processed Pauli string 62: XIIZIIZ\n"
     ]
    },
    {
     "name": "stdout",
     "output_type": "stream",
     "text": [
      "Processed Pauli string 63: XZIZIIZ\n",
      "Processed Pauli string 64: XZIIIII\n",
      "Processed Pauli string 65: XIIIIII\n"
     ]
    },
    {
     "name": "stdout",
     "output_type": "stream",
     "text": [
      "Processed Pauli string 66: IIIZXXZ\n",
      "Processed Pauli string 67: IIIIXXZ\n"
     ]
    },
    {
     "name": "stdout",
     "output_type": "stream",
     "text": [
      "Processed Pauli string 68: IIIZXXI\n",
      "Processed Pauli string 69: IIIIXXI\n",
      "Processed Pauli string 70: XZIIIXZ\n"
     ]
    },
    {
     "name": "stdout",
     "output_type": "stream",
     "text": [
      "Processed Pauli string 71: XIIIIXZ\n",
      "Processed Pauli string 72: XZIIIXI\n",
      "Processed Pauli string 73: XIIIIXI\n"
     ]
    },
    {
     "name": "stdout",
     "output_type": "stream",
     "text": [
      "Processed Pauli string 74: ZIZIZYY\n",
      "Processed Pauli string 75: IIZZIYY\n",
      "Processed Pauli string 76: XYYXZII\n"
     ]
    },
    {
     "name": "stdout",
     "output_type": "stream",
     "text": [
      "Processed Pauli string 77: YYYYIII\n",
      "Processed Pauli string 78: ZZZZZYY\n",
      "Processed Pauli string 79: IZZIIYY\n"
     ]
    },
    {
     "name": "stdout",
     "output_type": "stream",
     "text": [
      "Processed Pauli string 80: XXYYZII\n",
      "Processed Pauli string 81: YXYXIII\n",
      "Processed Pauli string 82: ZXXXXII\n"
     ]
    },
    {
     "name": "stdout",
     "output_type": "stream",
     "text": [
      "Processed Pauli string 83: IYXXYII\n",
      "Processed Pauli string 84: IIIIIZX\n",
      "Processed Pauli string 85: ZZIIZZX\n"
     ]
    },
    {
     "name": "stdout",
     "output_type": "stream",
     "text": [
      "Processed Pauli string 86: YIIIZIY\n",
      "Processed Pauli string 87: YZIIZIY\n"
     ]
    },
    {
     "name": "stdout",
     "output_type": "stream",
     "text": [
      "Processed Pauli string 88: XIIZIIX\n",
      "Processed Pauli string 89: XZIZIIX\n"
     ]
    },
    {
     "name": "stdout",
     "output_type": "stream",
     "text": [
      "Processed Pauli string 90: ZXXXZXZ\n",
      "Processed Pauli string 91: IYXYIXZ\n",
      "Processed Pauli string 92: ZXXXZXI\n"
     ]
    },
    {
     "name": "stdout",
     "output_type": "stream",
     "text": [
      "Processed Pauli string 93: IYXYIXI\n",
      "Processed Pauli string 94: ZYXYZIZ\n",
      "Processed Pauli string 95: IXXXIIZ\n"
     ]
    },
    {
     "name": "stdout",
     "output_type": "stream",
     "text": [
      "Processed Pauli string 96: ZXXXZII\n",
      "Processed Pauli string 97: IYXYIII\n",
      "Processed Pauli string 98: ZZIZYIY\n"
     ]
    },
    {
     "name": "stdout",
     "output_type": "stream",
     "text": [
      "Processed Pauli string 99: ZZIIYIY\n",
      "Processed Pauli string 100: IZIIXIX\n",
      "Processed Pauli string 101: IZIZXIX\n"
     ]
    },
    {
     "name": "stdout",
     "output_type": "stream",
     "text": [
      "Processed Pauli string 102: IYXXIIY\n"
     ]
    },
    {
     "name": "stdout",
     "output_type": "stream",
     "text": [
      "Processed Pauli string 103: ZXXYZIY\n",
      "Processed Pauli string 104: ZYXYZIX\n",
      "Processed Pauli string 105: IXXXIIX\n"
     ]
    },
    {
     "name": "stdout",
     "output_type": "stream",
     "text": [
      "Processed Pauli string 106: IZIZIXI\n",
      "Processed Pauli string 107: IIIIIXI\n",
      "Processed Pauli string 108: XZIZXII\n"
     ]
    },
    {
     "name": "stdout",
     "output_type": "stream",
     "text": [
      "Processed Pauli string 109: XIIIXII\n",
      "Processed Pauli string 110: XXXXZZX\n",
      "Processed Pauli string 111: YXXYIZX\n"
     ]
    },
    {
     "name": "stdout",
     "output_type": "stream",
     "text": [
      "Processed Pauli string 112: YYXXIZX\n",
      "Processed Pauli string 113: XYXYZZX\n",
      "Processed Pauli string 114: IYXXYYY\n"
     ]
    },
    {
     "name": "stdout",
     "output_type": "stream",
     "text": [
      "Processed Pauli string 115: ZXXXXYY\n",
      "Processed Pauli string 116: ZYXYXYY\n",
      "Processed Pauli string 117: IXXYYYY\n"
     ]
    },
    {
     "name": "stdout",
     "output_type": "stream",
     "text": [
      "Processed Pauli string 118: ZZIIZXX\n",
      "Processed Pauli string 119: IZIZIXX\n"
     ]
    },
    {
     "name": "stdout",
     "output_type": "stream",
     "text": [
      "Processed Pauli string 120: YYXXZII\n",
      "Processed Pauli string 121: XYXYIII\n",
      "Processed Pauli string 122: IZIZIXZ\n"
     ]
    },
    {
     "name": "stdout",
     "output_type": "stream",
     "text": [
      "Processed Pauli string 123: IIIIIXZ\n",
      "Processed Pauli string 124: XIIZXII\n",
      "Processed Pauli string 125: XZIIXII\n"
     ]
    },
    {
     "name": "stdout",
     "output_type": "stream",
     "text": [
      "Processed Pauli string 126: IZZIIZX\n",
      "Processed Pauli string 127: ZIZIZZX\n",
      "Processed Pauli string 128: ZYYXXII\n"
     ]
    },
    {
     "name": "stdout",
     "output_type": "stream",
     "text": [
      "Processed Pauli string 129: IXYXYII\n",
      "Processed Pauli string 130: IIZZIZX\n",
      "Processed Pauli string 131: ZZZZZZX\n"
     ]
    },
    {
     "name": "stdout",
     "output_type": "stream",
     "text": [
      "Processed Pauli string 132: ZXYYXII\n",
      "Processed Pauli string 133: IYYYYII\n",
      "Processed Pauli string 134: ZXXXZXX\n"
     ]
    },
    {
     "name": "stdout",
     "output_type": "stream",
     "text": [
      "Processed Pauli string 135: IYXYIXX\n",
      "Processed Pauli string 136: IYXXIXY\n"
     ]
    },
    {
     "name": "stdout",
     "output_type": "stream",
     "text": [
      "Processed Pauli string 137: ZXXYZXY\n",
      "Processed Pauli string 138: YYXXYIY\n"
     ]
    },
    {
     "name": "stdout",
     "output_type": "stream",
     "text": [
      "Processed Pauli string 139: XYXXXIY\n",
      "Processed Pauli string 140: XYXYXIX\n"
     ]
    },
    {
     "name": "stdout",
     "output_type": "stream",
     "text": [
      "Processed Pauli string 141: YYXYYIX\n",
      "Processed Pauli string 142: XXXXXXX\n",
      "Processed Pauli string 143: YXXXYXX\n"
     ]
    },
    {
     "name": "stdout",
     "output_type": "stream",
     "text": [
      "Processed Pauli string 144: YYXXYXY\n",
      "Processed Pauli string 145: XYXXXXY\n",
      "Processed Pauli string 146: XZIIIXX\n"
     ]
    },
    {
     "name": "stdout",
     "output_type": "stream",
     "text": [
      "Processed Pauli string 147: XIIIIXX\n",
      "Processed Pauli string 148: YIIIZXY\n",
      "Processed Pauli string 149: YZIIZXY\n"
     ]
    },
    {
     "name": "stdout",
     "output_type": "stream",
     "text": [
      "Processed Pauli string 150: XXXXXXZ\n",
      "Processed Pauli string 151: YXXXYXZ\n",
      "Processed Pauli string 152: XXXXXXI\n"
     ]
    },
    {
     "name": "stdout",
     "output_type": "stream",
     "text": [
      "Processed Pauli string 153: YXXXYXI\n"
     ]
    },
    {
     "name": "stdout",
     "output_type": "stream",
     "text": [
      "Processed Pauli string 154: ZYIIIZY\n",
      "Processed Pauli string 155: IYZIIZY\n",
      "Processed Pauli string 156: ZXZIIIX\n"
     ]
    },
    {
     "name": "stdout",
     "output_type": "stream",
     "text": [
      "Processed Pauli string 157: IXIIIIX\n",
      "Processed Pauli string 158: ZYXIIZY\n"
     ]
    },
    {
     "name": "stdout",
     "output_type": "stream",
     "text": [
      "Processed Pauli string 159: IXYZIZY\n",
      "Processed Pauli string 160: ZYYZIIX\n",
      "Processed Pauli string 161: IXXIIIX\n"
     ]
    },
    {
     "name": "stdout",
     "output_type": "stream",
     "text": [
      "Processed Pauli string 162: IZXXXIZ\n",
      "Processed Pauli string 163: IIYXYIZ\n"
     ]
    },
    {
     "name": "stdout",
     "output_type": "stream",
     "text": [
      "Processed Pauli string 164: ZZYXYZI\n",
      "Processed Pauli string 165: ZIXXXZI\n",
      "Processed Pauli string 166: IZIXXIZ\n"
     ]
    },
    {
     "name": "stdout",
     "output_type": "stream",
     "text": [
      "Processed Pauli string 167: IZZYYIZ\n",
      "Processed Pauli string 168: ZIZYYZI\n",
      "Processed Pauli string 169: ZIIXXZI\n"
     ]
    },
    {
     "name": "stdout",
     "output_type": "stream",
     "text": [
      "Processed Pauli string 170: IIXIIII\n",
      "Processed Pauli string 171: IZXZIII\n"
     ]
    },
    {
     "name": "stdout",
     "output_type": "stream",
     "text": [
      "Processed Pauli string 172: ZIIZZIX\n",
      "Processed Pauli string 173: IZIZIIX\n",
      "Processed Pauli string 174: ZXXYYII\n"
     ]
    },
    {
     "name": "stdout",
     "output_type": "stream",
     "text": [
      "Processed Pauli string 175: IYXYXII\n",
      "Processed Pauli string 176: ZXZIIIZ\n",
      "Processed Pauli string 177: IXIIIIZ\n"
     ]
    },
    {
     "name": "stdout",
     "output_type": "stream",
     "text": [
      "Processed Pauli string 178: IXIIZZI\n",
      "Processed Pauli string 179: ZXZIZZI\n",
      "Processed Pauli string 180: IIYXXZY\n"
     ]
    },
    {
     "name": "stdout",
     "output_type": "stream",
     "text": [
      "Processed Pauli string 181: IZXXYZY\n",
      "Processed Pauli string 182: IZXXXIX\n",
      "Processed Pauli string 183: IIYXYIX\n"
     ]
    },
    {
     "name": "stdout",
     "output_type": "stream",
     "text": [
      "Processed Pauli string 184: ZYYZIIZ\n",
      "Processed Pauli string 185: IXXIIIZ\n",
      "Processed Pauli string 186: IXXIZZI\n"
     ]
    },
    {
     "name": "stdout",
     "output_type": "stream",
     "text": [
      "Processed Pauli string 187: ZYYZZZI\n",
      "Processed Pauli string 188: IZZYXZY\n"
     ]
    },
    {
     "name": "stdout",
     "output_type": "stream",
     "text": [
      "Processed Pauli string 189: IZIXYZY\n",
      "Processed Pauli string 190: IZIXXIX\n",
      "Processed Pauli string 191: IZZYYIX\n"
     ]
    },
    {
     "name": "stdout",
     "output_type": "stream",
     "text": [
      "Processed Pauli string 192: IIIZZZX\n",
      "Processed Pauli string 193: ZZIZIZX\n"
     ]
    },
    {
     "name": "stdout",
     "output_type": "stream",
     "text": [
      "Processed Pauli string 194: IXXYYZI\n",
      "Processed Pauli string 195: ZYXYXZI\n",
      "Processed Pauli string 196: XYXYXIZ\n"
     ]
    },
    {
     "name": "stdout",
     "output_type": "stream",
     "text": [
      "Processed Pauli string 197: YYXYYIZ\n",
      "Processed Pauli string 198: XXXXXII\n"
     ]
    },
    {
     "name": "stdout",
     "output_type": "stream",
     "text": [
      "Processed Pauli string 199: YXXXYII\n",
      "Processed Pauli string 200: IIIZXXX\n",
      "Processed Pauli string 201: IIIIXXX\n"
     ]
    },
    {
     "name": "stdout",
     "output_type": "stream",
     "text": [
      "Processed Pauli string 202: ZZIZYXY\n",
      "Processed Pauli string 203: ZZIIYXY\n",
      "Processed Pauli string 204: IIIIIXX\n"
     ]
    },
    {
     "name": "stdout",
     "output_type": "stream",
     "text": [
      "Processed Pauli string 205: ZIIZZXX\n"
     ]
    },
    {
     "name": "stdout",
     "output_type": "stream",
     "text": [
      "Processed Pauli string 206: XXXXIII\n",
      "Processed Pauli string 207: YXXYZII\n",
      "Processed Pauli string 208: ZIIIIZX\n"
     ]
    },
    {
     "name": "stdout",
     "output_type": "stream",
     "text": [
      "Processed Pauli string 209: IZIIZZX\n",
      "Processed Pauli string 210: ZXXXXZI\n",
      "Processed Pauli string 211: IYXXYZI\n"
     ]
    },
    {
     "name": "stdout",
     "output_type": "stream",
     "text": [
      "Processed Pauli string 212: IIIIZYY\n",
      "Processed Pauli string 213: ZIIZIYY\n",
      "Processed Pauli string 214: XXXXZZZ\n"
     ]
    },
    {
     "name": "stdout",
     "output_type": "stream",
     "text": [
      "Processed Pauli string 215: YXXYIZZ\n",
      "Processed Pauli string 216: IIIIIIX\n",
      "Processed Pauli string 217: ZZIIZIX\n"
     ]
    },
    {
     "name": "stdout",
     "output_type": "stream",
     "text": [
      "Processed Pauli string 218: IXXXXII\n",
      "Processed Pauli string 219: ZYXXYII\n",
      "Processed Pauli string 220: XYIIIXY\n"
     ]
    },
    {
     "name": "stdout",
     "output_type": "stream",
     "text": [
      "Processed Pauli string 221: YXZIIXY\n",
      "Processed Pauli string 222: XXZIIYY\n"
     ]
    },
    {
     "name": "stdout",
     "output_type": "stream",
     "text": [
      "Processed Pauli string 223: YYIIIYY\n",
      "Processed Pauli string 224: XYXIIXY\n",
      "Processed Pauli string 225: YYYZIXY\n"
     ]
    },
    {
     "name": "stdout",
     "output_type": "stream",
     "text": [
      "Processed Pauli string 226: XYYZIYY\n",
      "Processed Pauli string 227: YYXIIYY\n",
      "Processed Pauli string 228: ZIXXIZI\n"
     ]
    },
    {
     "name": "stdout",
     "output_type": "stream",
     "text": [
      "Processed Pauli string 229: ZZYYZZI\n",
      "Processed Pauli string 230: IZYYZII\n",
      "Processed Pauli string 231: IIXXIII\n"
     ]
    },
    {
     "name": "stdout",
     "output_type": "stream",
     "text": [
      "Processed Pauli string 232: ZIIXIZI\n",
      "Processed Pauli string 233: ZIZXZZI\n",
      "Processed Pauli string 234: IIZXZII\n"
     ]
    },
    {
     "name": "stdout",
     "output_type": "stream",
     "text": [
      "Processed Pauli string 235: IIIXIII\n",
      "Processed Pauli string 236: YYZIZZI\n",
      "Processed Pauli string 237: XXIIZZI\n"
     ]
    },
    {
     "name": "stdout",
     "output_type": "stream",
     "text": [
      "Processed Pauli string 238: XXIZIII\n",
      "Processed Pauli string 239: YYZZIII\n"
     ]
    },
    {
     "name": "stdout",
     "output_type": "stream",
     "text": [
      "Processed Pauli string 240: IIYXZXY\n",
      "Processed Pauli string 241: IZXYIXY\n"
     ]
    },
    {
     "name": "stdout",
     "output_type": "stream",
     "text": [
      "Processed Pauli string 242: IZXXZYY\n",
      "Processed Pauli string 243: IIYYIYY\n"
     ]
    },
    {
     "name": "stdout",
     "output_type": "stream",
     "text": [
      "Processed Pauli string 244: YXYZZZI\n",
      "Processed Pauli string 245: XXXIZZI\n",
      "Processed Pauli string 246: XXXZIII\n"
     ]
    },
    {
     "name": "stdout",
     "output_type": "stream",
     "text": [
      "Processed Pauli string 247: YXYIIII\n",
      "Processed Pauli string 248: IZZYZXY\n",
      "Processed Pauli string 249: IZIYIXY\n"
     ]
    },
    {
     "name": "stdout",
     "output_type": "stream",
     "text": [
      "Processed Pauli string 250: IZIXZYY\n",
      "Processed Pauli string 251: IZZXIYY\n",
      "Processed Pauli string 252: YXXYIZI\n"
     ]
    },
    {
     "name": "stdout",
     "output_type": "stream",
     "text": [
      "Processed Pauli string 253: XXXXZZI\n",
      "Processed Pauli string 254: ZZIZIYY\n",
      "Processed Pauli string 255: IZIIZYY\n"
     ]
    },
    {
     "name": "stdout",
     "output_type": "stream",
     "text": [
      "Processed Pauli string 256: ZZIIZXZ\n",
      "Processed Pauli string 257: ZIIZZXZ\n"
     ]
    },
    {
     "name": "stdout",
     "output_type": "stream",
     "text": [
      "Processed Pauli string 258: YIIIYII\n",
      "Processed Pauli string 259: YZIZYII\n",
      "Processed Pauli string 260: IYXXYZZ\n"
     ]
    },
    {
     "name": "stdout",
     "output_type": "stream",
     "text": [
      "Processed Pauli string 261: ZXXXXZZ\n",
      "Processed Pauli string 262: IIIIZZX\n",
      "Processed Pauli string 263: ZZIIIZX\n"
     ]
    },
    {
     "name": "stdout",
     "output_type": "stream",
     "text": [
      "Processed Pauli string 264: YYXXIZZ\n",
      "Processed Pauli string 265: XYXYZZZ\n",
      "Processed Pauli string 266: ZZIIIYY\n"
     ]
    },
    {
     "name": "stdout",
     "output_type": "stream",
     "text": [
      "Processed Pauli string 267: IZIZZYY\n",
      "All circuits generated and saved.\n"
     ]
    }
   ],
   "source": [
    "# Extract opt_params\n",
    "opt_params = vqe_res['x']\n",
    "\n",
    "# Set l\n",
    "l = 15\n",
    "\n",
    "# Create the main folder if it doesn't exist\n",
    "if not os.path.exists('circuits'):\n",
    "    os.makedirs('circuits')\n",
    "\n",
    "# Traverse the Pauli strings\n",
    "for i, (pauli_string, coeff) in enumerate(sorted_pauli_list):\n",
    "    # Create a folder for this Pauli string\n",
    "    folder_path = os.path.join('circuits', str(i))\n",
    "    if not os.path.exists(folder_path):\n",
    "        os.makedirs(folder_path)\n",
    "    \n",
    "    # Construct A\n",
    "    A = construct_A(l, opt_params, pauli_string)\n",
    "\n",
    "    # Construct Q\n",
    "    Q = construct_Q(A)\n",
    "\n",
    "    # Save A\n",
    "    with open(os.path.join(folder_path, 'circuit_A.qpy'), 'wb') as f:\n",
    "        qpy_dump(A, f)\n",
    "    \n",
    "    # Save Q\n",
    "    with open(os.path.join(folder_path, 'circuit_Q.qpy'), 'wb') as f:\n",
    "        qpy_dump(Q, f)\n",
    "    \n",
    "    print(f\"Processed Pauli string {i}: {pauli_string}\")\n",
    "    \n",
    "print(\"All circuits generated and saved.\")"
   ]
  },
  {
   "cell_type": "markdown",
   "id": "1c572258",
   "metadata": {
    "papermill": {
     "duration": 0.013764,
     "end_time": "2025-01-26T16:36:48.810210",
     "exception": false,
     "start_time": "2025-01-26T16:36:48.796446",
     "status": "completed"
    },
    "tags": []
   },
   "source": [
    "### 2 Transpilation"
   ]
  },
  {
   "cell_type": "code",
   "execution_count": 4,
   "id": "a1e5ca8c",
   "metadata": {
    "execution": {
     "iopub.execute_input": "2025-01-26T16:36:48.843068Z",
     "iopub.status.busy": "2025-01-26T16:36:48.842714Z",
     "iopub.status.idle": "2025-01-26T16:39:59.488158Z",
     "shell.execute_reply": "2025-01-26T16:39:59.487190Z"
    },
    "papermill": {
     "duration": 190.66409,
     "end_time": "2025-01-26T16:39:59.489289",
     "exception": false,
     "start_time": "2025-01-26T16:36:48.825199",
     "status": "completed"
    },
    "tags": []
   },
   "outputs": [
    {
     "name": "stdout",
     "output_type": "stream",
     "text": [
      "Transpiled and saved: circuits/0/transpiled_circuit_A.qpy\n"
     ]
    },
    {
     "name": "stdout",
     "output_type": "stream",
     "text": [
      "Transpiled and saved: circuits/0/transpiled_circuit_Q.qpy\n"
     ]
    },
    {
     "name": "stdout",
     "output_type": "stream",
     "text": [
      "Transpiled and saved: circuits/1/transpiled_circuit_A.qpy\n"
     ]
    },
    {
     "name": "stdout",
     "output_type": "stream",
     "text": [
      "Transpiled and saved: circuits/1/transpiled_circuit_Q.qpy\n"
     ]
    },
    {
     "name": "stdout",
     "output_type": "stream",
     "text": [
      "Transpiled and saved: circuits/10/transpiled_circuit_A.qpy\n"
     ]
    },
    {
     "name": "stdout",
     "output_type": "stream",
     "text": [
      "Transpiled and saved: circuits/10/transpiled_circuit_Q.qpy\n"
     ]
    },
    {
     "name": "stdout",
     "output_type": "stream",
     "text": [
      "Transpiled and saved: circuits/100/transpiled_circuit_A.qpy\n"
     ]
    },
    {
     "name": "stdout",
     "output_type": "stream",
     "text": [
      "Transpiled and saved: circuits/100/transpiled_circuit_Q.qpy\n"
     ]
    },
    {
     "name": "stdout",
     "output_type": "stream",
     "text": [
      "Transpiled and saved: circuits/101/transpiled_circuit_A.qpy\n"
     ]
    },
    {
     "name": "stdout",
     "output_type": "stream",
     "text": [
      "Transpiled and saved: circuits/101/transpiled_circuit_Q.qpy\n"
     ]
    },
    {
     "name": "stdout",
     "output_type": "stream",
     "text": [
      "Transpiled and saved: circuits/102/transpiled_circuit_A.qpy\n"
     ]
    },
    {
     "name": "stdout",
     "output_type": "stream",
     "text": [
      "Transpiled and saved: circuits/102/transpiled_circuit_Q.qpy\n"
     ]
    },
    {
     "name": "stdout",
     "output_type": "stream",
     "text": [
      "Transpiled and saved: circuits/103/transpiled_circuit_A.qpy\n"
     ]
    },
    {
     "name": "stdout",
     "output_type": "stream",
     "text": [
      "Transpiled and saved: circuits/103/transpiled_circuit_Q.qpy\n"
     ]
    },
    {
     "name": "stdout",
     "output_type": "stream",
     "text": [
      "Transpiled and saved: circuits/104/transpiled_circuit_A.qpy\n"
     ]
    },
    {
     "name": "stdout",
     "output_type": "stream",
     "text": [
      "Transpiled and saved: circuits/104/transpiled_circuit_Q.qpy\n"
     ]
    },
    {
     "name": "stdout",
     "output_type": "stream",
     "text": [
      "Transpiled and saved: circuits/105/transpiled_circuit_A.qpy\n"
     ]
    },
    {
     "name": "stdout",
     "output_type": "stream",
     "text": [
      "Transpiled and saved: circuits/105/transpiled_circuit_Q.qpy\n"
     ]
    },
    {
     "name": "stdout",
     "output_type": "stream",
     "text": [
      "Transpiled and saved: circuits/106/transpiled_circuit_A.qpy\n"
     ]
    },
    {
     "name": "stdout",
     "output_type": "stream",
     "text": [
      "Transpiled and saved: circuits/106/transpiled_circuit_Q.qpy\n"
     ]
    },
    {
     "name": "stdout",
     "output_type": "stream",
     "text": [
      "Transpiled and saved: circuits/107/transpiled_circuit_A.qpy\n"
     ]
    },
    {
     "name": "stdout",
     "output_type": "stream",
     "text": [
      "Transpiled and saved: circuits/107/transpiled_circuit_Q.qpy\n"
     ]
    },
    {
     "name": "stdout",
     "output_type": "stream",
     "text": [
      "Transpiled and saved: circuits/108/transpiled_circuit_A.qpy\n"
     ]
    },
    {
     "name": "stdout",
     "output_type": "stream",
     "text": [
      "Transpiled and saved: circuits/108/transpiled_circuit_Q.qpy\n"
     ]
    },
    {
     "name": "stdout",
     "output_type": "stream",
     "text": [
      "Transpiled and saved: circuits/109/transpiled_circuit_A.qpy\n"
     ]
    },
    {
     "name": "stdout",
     "output_type": "stream",
     "text": [
      "Transpiled and saved: circuits/109/transpiled_circuit_Q.qpy\n"
     ]
    },
    {
     "name": "stdout",
     "output_type": "stream",
     "text": [
      "Transpiled and saved: circuits/11/transpiled_circuit_A.qpy\n"
     ]
    },
    {
     "name": "stdout",
     "output_type": "stream",
     "text": [
      "Transpiled and saved: circuits/11/transpiled_circuit_Q.qpy\n"
     ]
    },
    {
     "name": "stdout",
     "output_type": "stream",
     "text": [
      "Transpiled and saved: circuits/110/transpiled_circuit_A.qpy\n"
     ]
    },
    {
     "name": "stdout",
     "output_type": "stream",
     "text": [
      "Transpiled and saved: circuits/110/transpiled_circuit_Q.qpy\n"
     ]
    },
    {
     "name": "stdout",
     "output_type": "stream",
     "text": [
      "Transpiled and saved: circuits/111/transpiled_circuit_A.qpy\n"
     ]
    },
    {
     "name": "stdout",
     "output_type": "stream",
     "text": [
      "Transpiled and saved: circuits/111/transpiled_circuit_Q.qpy\n"
     ]
    },
    {
     "name": "stdout",
     "output_type": "stream",
     "text": [
      "Transpiled and saved: circuits/112/transpiled_circuit_A.qpy\n"
     ]
    },
    {
     "name": "stdout",
     "output_type": "stream",
     "text": [
      "Transpiled and saved: circuits/112/transpiled_circuit_Q.qpy\n"
     ]
    },
    {
     "name": "stdout",
     "output_type": "stream",
     "text": [
      "Transpiled and saved: circuits/113/transpiled_circuit_A.qpy\n"
     ]
    },
    {
     "name": "stdout",
     "output_type": "stream",
     "text": [
      "Transpiled and saved: circuits/113/transpiled_circuit_Q.qpy\n"
     ]
    },
    {
     "name": "stdout",
     "output_type": "stream",
     "text": [
      "Transpiled and saved: circuits/114/transpiled_circuit_A.qpy\n"
     ]
    },
    {
     "name": "stdout",
     "output_type": "stream",
     "text": [
      "Transpiled and saved: circuits/114/transpiled_circuit_Q.qpy\n"
     ]
    },
    {
     "name": "stdout",
     "output_type": "stream",
     "text": [
      "Transpiled and saved: circuits/115/transpiled_circuit_A.qpy\n"
     ]
    },
    {
     "name": "stdout",
     "output_type": "stream",
     "text": [
      "Transpiled and saved: circuits/115/transpiled_circuit_Q.qpy\n"
     ]
    },
    {
     "name": "stdout",
     "output_type": "stream",
     "text": [
      "Transpiled and saved: circuits/116/transpiled_circuit_A.qpy\n"
     ]
    },
    {
     "name": "stdout",
     "output_type": "stream",
     "text": [
      "Transpiled and saved: circuits/116/transpiled_circuit_Q.qpy\n"
     ]
    },
    {
     "name": "stdout",
     "output_type": "stream",
     "text": [
      "Transpiled and saved: circuits/117/transpiled_circuit_A.qpy\n"
     ]
    },
    {
     "name": "stdout",
     "output_type": "stream",
     "text": [
      "Transpiled and saved: circuits/117/transpiled_circuit_Q.qpy\n"
     ]
    },
    {
     "name": "stdout",
     "output_type": "stream",
     "text": [
      "Transpiled and saved: circuits/118/transpiled_circuit_A.qpy\n"
     ]
    },
    {
     "name": "stdout",
     "output_type": "stream",
     "text": [
      "Transpiled and saved: circuits/118/transpiled_circuit_Q.qpy\n"
     ]
    },
    {
     "name": "stdout",
     "output_type": "stream",
     "text": [
      "Transpiled and saved: circuits/119/transpiled_circuit_A.qpy\n"
     ]
    },
    {
     "name": "stdout",
     "output_type": "stream",
     "text": [
      "Transpiled and saved: circuits/119/transpiled_circuit_Q.qpy\n"
     ]
    },
    {
     "name": "stdout",
     "output_type": "stream",
     "text": [
      "Transpiled and saved: circuits/12/transpiled_circuit_A.qpy\n"
     ]
    },
    {
     "name": "stdout",
     "output_type": "stream",
     "text": [
      "Transpiled and saved: circuits/12/transpiled_circuit_Q.qpy\n"
     ]
    },
    {
     "name": "stdout",
     "output_type": "stream",
     "text": [
      "Transpiled and saved: circuits/120/transpiled_circuit_A.qpy\n"
     ]
    },
    {
     "name": "stdout",
     "output_type": "stream",
     "text": [
      "Transpiled and saved: circuits/120/transpiled_circuit_Q.qpy\n"
     ]
    },
    {
     "name": "stdout",
     "output_type": "stream",
     "text": [
      "Transpiled and saved: circuits/121/transpiled_circuit_A.qpy\n"
     ]
    },
    {
     "name": "stdout",
     "output_type": "stream",
     "text": [
      "Transpiled and saved: circuits/121/transpiled_circuit_Q.qpy\n"
     ]
    },
    {
     "name": "stdout",
     "output_type": "stream",
     "text": [
      "Transpiled and saved: circuits/122/transpiled_circuit_A.qpy\n"
     ]
    },
    {
     "name": "stdout",
     "output_type": "stream",
     "text": [
      "Transpiled and saved: circuits/122/transpiled_circuit_Q.qpy\n"
     ]
    },
    {
     "name": "stdout",
     "output_type": "stream",
     "text": [
      "Transpiled and saved: circuits/123/transpiled_circuit_A.qpy\n"
     ]
    },
    {
     "name": "stdout",
     "output_type": "stream",
     "text": [
      "Transpiled and saved: circuits/123/transpiled_circuit_Q.qpy\n"
     ]
    },
    {
     "name": "stdout",
     "output_type": "stream",
     "text": [
      "Transpiled and saved: circuits/124/transpiled_circuit_A.qpy\n"
     ]
    },
    {
     "name": "stdout",
     "output_type": "stream",
     "text": [
      "Transpiled and saved: circuits/124/transpiled_circuit_Q.qpy\n"
     ]
    },
    {
     "name": "stdout",
     "output_type": "stream",
     "text": [
      "Transpiled and saved: circuits/125/transpiled_circuit_A.qpy\n"
     ]
    },
    {
     "name": "stdout",
     "output_type": "stream",
     "text": [
      "Transpiled and saved: circuits/125/transpiled_circuit_Q.qpy\n"
     ]
    },
    {
     "name": "stdout",
     "output_type": "stream",
     "text": [
      "Transpiled and saved: circuits/126/transpiled_circuit_A.qpy\n"
     ]
    },
    {
     "name": "stdout",
     "output_type": "stream",
     "text": [
      "Transpiled and saved: circuits/126/transpiled_circuit_Q.qpy\n"
     ]
    },
    {
     "name": "stdout",
     "output_type": "stream",
     "text": [
      "Transpiled and saved: circuits/127/transpiled_circuit_A.qpy\n"
     ]
    },
    {
     "name": "stdout",
     "output_type": "stream",
     "text": [
      "Transpiled and saved: circuits/127/transpiled_circuit_Q.qpy\n"
     ]
    },
    {
     "name": "stdout",
     "output_type": "stream",
     "text": [
      "Transpiled and saved: circuits/128/transpiled_circuit_A.qpy\n"
     ]
    },
    {
     "name": "stdout",
     "output_type": "stream",
     "text": [
      "Transpiled and saved: circuits/128/transpiled_circuit_Q.qpy\n"
     ]
    },
    {
     "name": "stdout",
     "output_type": "stream",
     "text": [
      "Transpiled and saved: circuits/129/transpiled_circuit_A.qpy\n"
     ]
    },
    {
     "name": "stdout",
     "output_type": "stream",
     "text": [
      "Transpiled and saved: circuits/129/transpiled_circuit_Q.qpy\n"
     ]
    },
    {
     "name": "stdout",
     "output_type": "stream",
     "text": [
      "Transpiled and saved: circuits/13/transpiled_circuit_A.qpy\n"
     ]
    },
    {
     "name": "stdout",
     "output_type": "stream",
     "text": [
      "Transpiled and saved: circuits/13/transpiled_circuit_Q.qpy\n"
     ]
    },
    {
     "name": "stdout",
     "output_type": "stream",
     "text": [
      "Transpiled and saved: circuits/130/transpiled_circuit_A.qpy\n"
     ]
    },
    {
     "name": "stdout",
     "output_type": "stream",
     "text": [
      "Transpiled and saved: circuits/130/transpiled_circuit_Q.qpy\n"
     ]
    },
    {
     "name": "stdout",
     "output_type": "stream",
     "text": [
      "Transpiled and saved: circuits/131/transpiled_circuit_A.qpy\n"
     ]
    },
    {
     "name": "stdout",
     "output_type": "stream",
     "text": [
      "Transpiled and saved: circuits/131/transpiled_circuit_Q.qpy\n"
     ]
    },
    {
     "name": "stdout",
     "output_type": "stream",
     "text": [
      "Transpiled and saved: circuits/132/transpiled_circuit_A.qpy\n"
     ]
    },
    {
     "name": "stdout",
     "output_type": "stream",
     "text": [
      "Transpiled and saved: circuits/132/transpiled_circuit_Q.qpy\n"
     ]
    },
    {
     "name": "stdout",
     "output_type": "stream",
     "text": [
      "Transpiled and saved: circuits/133/transpiled_circuit_A.qpy\n"
     ]
    },
    {
     "name": "stdout",
     "output_type": "stream",
     "text": [
      "Transpiled and saved: circuits/133/transpiled_circuit_Q.qpy\n"
     ]
    },
    {
     "name": "stdout",
     "output_type": "stream",
     "text": [
      "Transpiled and saved: circuits/134/transpiled_circuit_A.qpy\n"
     ]
    },
    {
     "name": "stdout",
     "output_type": "stream",
     "text": [
      "Transpiled and saved: circuits/134/transpiled_circuit_Q.qpy\n"
     ]
    },
    {
     "name": "stdout",
     "output_type": "stream",
     "text": [
      "Transpiled and saved: circuits/135/transpiled_circuit_A.qpy\n"
     ]
    },
    {
     "name": "stdout",
     "output_type": "stream",
     "text": [
      "Transpiled and saved: circuits/135/transpiled_circuit_Q.qpy\n"
     ]
    },
    {
     "name": "stdout",
     "output_type": "stream",
     "text": [
      "Transpiled and saved: circuits/136/transpiled_circuit_A.qpy\n"
     ]
    },
    {
     "name": "stdout",
     "output_type": "stream",
     "text": [
      "Transpiled and saved: circuits/136/transpiled_circuit_Q.qpy\n"
     ]
    },
    {
     "name": "stdout",
     "output_type": "stream",
     "text": [
      "Transpiled and saved: circuits/137/transpiled_circuit_A.qpy\n"
     ]
    },
    {
     "name": "stdout",
     "output_type": "stream",
     "text": [
      "Transpiled and saved: circuits/137/transpiled_circuit_Q.qpy\n"
     ]
    },
    {
     "name": "stdout",
     "output_type": "stream",
     "text": [
      "Transpiled and saved: circuits/138/transpiled_circuit_A.qpy\n"
     ]
    },
    {
     "name": "stdout",
     "output_type": "stream",
     "text": [
      "Transpiled and saved: circuits/138/transpiled_circuit_Q.qpy\n"
     ]
    },
    {
     "name": "stdout",
     "output_type": "stream",
     "text": [
      "Transpiled and saved: circuits/139/transpiled_circuit_A.qpy\n"
     ]
    },
    {
     "name": "stdout",
     "output_type": "stream",
     "text": [
      "Transpiled and saved: circuits/139/transpiled_circuit_Q.qpy\n"
     ]
    },
    {
     "name": "stdout",
     "output_type": "stream",
     "text": [
      "Transpiled and saved: circuits/14/transpiled_circuit_A.qpy\n"
     ]
    },
    {
     "name": "stdout",
     "output_type": "stream",
     "text": [
      "Transpiled and saved: circuits/14/transpiled_circuit_Q.qpy\n"
     ]
    },
    {
     "name": "stdout",
     "output_type": "stream",
     "text": [
      "Transpiled and saved: circuits/140/transpiled_circuit_A.qpy\n"
     ]
    },
    {
     "name": "stdout",
     "output_type": "stream",
     "text": [
      "Transpiled and saved: circuits/140/transpiled_circuit_Q.qpy\n"
     ]
    },
    {
     "name": "stdout",
     "output_type": "stream",
     "text": [
      "Transpiled and saved: circuits/141/transpiled_circuit_A.qpy\n"
     ]
    },
    {
     "name": "stdout",
     "output_type": "stream",
     "text": [
      "Transpiled and saved: circuits/141/transpiled_circuit_Q.qpy\n"
     ]
    },
    {
     "name": "stdout",
     "output_type": "stream",
     "text": [
      "Transpiled and saved: circuits/142/transpiled_circuit_A.qpy\n"
     ]
    },
    {
     "name": "stdout",
     "output_type": "stream",
     "text": [
      "Transpiled and saved: circuits/142/transpiled_circuit_Q.qpy\n"
     ]
    },
    {
     "name": "stdout",
     "output_type": "stream",
     "text": [
      "Transpiled and saved: circuits/143/transpiled_circuit_A.qpy\n"
     ]
    },
    {
     "name": "stdout",
     "output_type": "stream",
     "text": [
      "Transpiled and saved: circuits/143/transpiled_circuit_Q.qpy\n"
     ]
    },
    {
     "name": "stdout",
     "output_type": "stream",
     "text": [
      "Transpiled and saved: circuits/144/transpiled_circuit_A.qpy\n"
     ]
    },
    {
     "name": "stdout",
     "output_type": "stream",
     "text": [
      "Transpiled and saved: circuits/144/transpiled_circuit_Q.qpy\n"
     ]
    },
    {
     "name": "stdout",
     "output_type": "stream",
     "text": [
      "Transpiled and saved: circuits/145/transpiled_circuit_A.qpy\n"
     ]
    },
    {
     "name": "stdout",
     "output_type": "stream",
     "text": [
      "Transpiled and saved: circuits/145/transpiled_circuit_Q.qpy\n"
     ]
    },
    {
     "name": "stdout",
     "output_type": "stream",
     "text": [
      "Transpiled and saved: circuits/146/transpiled_circuit_A.qpy\n"
     ]
    },
    {
     "name": "stdout",
     "output_type": "stream",
     "text": [
      "Transpiled and saved: circuits/146/transpiled_circuit_Q.qpy\n"
     ]
    },
    {
     "name": "stdout",
     "output_type": "stream",
     "text": [
      "Transpiled and saved: circuits/147/transpiled_circuit_A.qpy\n"
     ]
    },
    {
     "name": "stdout",
     "output_type": "stream",
     "text": [
      "Transpiled and saved: circuits/147/transpiled_circuit_Q.qpy\n"
     ]
    },
    {
     "name": "stdout",
     "output_type": "stream",
     "text": [
      "Transpiled and saved: circuits/148/transpiled_circuit_A.qpy\n"
     ]
    },
    {
     "name": "stdout",
     "output_type": "stream",
     "text": [
      "Transpiled and saved: circuits/148/transpiled_circuit_Q.qpy\n"
     ]
    },
    {
     "name": "stdout",
     "output_type": "stream",
     "text": [
      "Transpiled and saved: circuits/149/transpiled_circuit_A.qpy\n"
     ]
    },
    {
     "name": "stdout",
     "output_type": "stream",
     "text": [
      "Transpiled and saved: circuits/149/transpiled_circuit_Q.qpy\n"
     ]
    },
    {
     "name": "stdout",
     "output_type": "stream",
     "text": [
      "Transpiled and saved: circuits/15/transpiled_circuit_A.qpy\n"
     ]
    },
    {
     "name": "stdout",
     "output_type": "stream",
     "text": [
      "Transpiled and saved: circuits/15/transpiled_circuit_Q.qpy\n"
     ]
    },
    {
     "name": "stdout",
     "output_type": "stream",
     "text": [
      "Transpiled and saved: circuits/150/transpiled_circuit_A.qpy\n"
     ]
    },
    {
     "name": "stdout",
     "output_type": "stream",
     "text": [
      "Transpiled and saved: circuits/150/transpiled_circuit_Q.qpy\n"
     ]
    },
    {
     "name": "stdout",
     "output_type": "stream",
     "text": [
      "Transpiled and saved: circuits/151/transpiled_circuit_A.qpy\n"
     ]
    },
    {
     "name": "stdout",
     "output_type": "stream",
     "text": [
      "Transpiled and saved: circuits/151/transpiled_circuit_Q.qpy\n"
     ]
    },
    {
     "name": "stdout",
     "output_type": "stream",
     "text": [
      "Transpiled and saved: circuits/152/transpiled_circuit_A.qpy\n"
     ]
    },
    {
     "name": "stdout",
     "output_type": "stream",
     "text": [
      "Transpiled and saved: circuits/152/transpiled_circuit_Q.qpy\n"
     ]
    },
    {
     "name": "stdout",
     "output_type": "stream",
     "text": [
      "Transpiled and saved: circuits/153/transpiled_circuit_A.qpy\n"
     ]
    },
    {
     "name": "stdout",
     "output_type": "stream",
     "text": [
      "Transpiled and saved: circuits/153/transpiled_circuit_Q.qpy\n"
     ]
    },
    {
     "name": "stdout",
     "output_type": "stream",
     "text": [
      "Transpiled and saved: circuits/154/transpiled_circuit_A.qpy\n"
     ]
    },
    {
     "name": "stdout",
     "output_type": "stream",
     "text": [
      "Transpiled and saved: circuits/154/transpiled_circuit_Q.qpy\n"
     ]
    },
    {
     "name": "stdout",
     "output_type": "stream",
     "text": [
      "Transpiled and saved: circuits/155/transpiled_circuit_A.qpy\n"
     ]
    },
    {
     "name": "stdout",
     "output_type": "stream",
     "text": [
      "Transpiled and saved: circuits/155/transpiled_circuit_Q.qpy\n"
     ]
    },
    {
     "name": "stdout",
     "output_type": "stream",
     "text": [
      "Transpiled and saved: circuits/156/transpiled_circuit_A.qpy\n"
     ]
    },
    {
     "name": "stdout",
     "output_type": "stream",
     "text": [
      "Transpiled and saved: circuits/156/transpiled_circuit_Q.qpy\n"
     ]
    },
    {
     "name": "stdout",
     "output_type": "stream",
     "text": [
      "Transpiled and saved: circuits/157/transpiled_circuit_A.qpy\n"
     ]
    },
    {
     "name": "stdout",
     "output_type": "stream",
     "text": [
      "Transpiled and saved: circuits/157/transpiled_circuit_Q.qpy\n"
     ]
    },
    {
     "name": "stdout",
     "output_type": "stream",
     "text": [
      "Transpiled and saved: circuits/158/transpiled_circuit_A.qpy\n"
     ]
    },
    {
     "name": "stdout",
     "output_type": "stream",
     "text": [
      "Transpiled and saved: circuits/158/transpiled_circuit_Q.qpy\n"
     ]
    },
    {
     "name": "stdout",
     "output_type": "stream",
     "text": [
      "Transpiled and saved: circuits/159/transpiled_circuit_A.qpy\n"
     ]
    },
    {
     "name": "stdout",
     "output_type": "stream",
     "text": [
      "Transpiled and saved: circuits/159/transpiled_circuit_Q.qpy\n"
     ]
    },
    {
     "name": "stdout",
     "output_type": "stream",
     "text": [
      "Transpiled and saved: circuits/16/transpiled_circuit_A.qpy\n"
     ]
    },
    {
     "name": "stdout",
     "output_type": "stream",
     "text": [
      "Transpiled and saved: circuits/16/transpiled_circuit_Q.qpy\n"
     ]
    },
    {
     "name": "stdout",
     "output_type": "stream",
     "text": [
      "Transpiled and saved: circuits/160/transpiled_circuit_A.qpy\n"
     ]
    },
    {
     "name": "stdout",
     "output_type": "stream",
     "text": [
      "Transpiled and saved: circuits/160/transpiled_circuit_Q.qpy\n"
     ]
    },
    {
     "name": "stdout",
     "output_type": "stream",
     "text": [
      "Transpiled and saved: circuits/161/transpiled_circuit_A.qpy\n"
     ]
    },
    {
     "name": "stdout",
     "output_type": "stream",
     "text": [
      "Transpiled and saved: circuits/161/transpiled_circuit_Q.qpy\n"
     ]
    },
    {
     "name": "stdout",
     "output_type": "stream",
     "text": [
      "Transpiled and saved: circuits/162/transpiled_circuit_A.qpy\n"
     ]
    },
    {
     "name": "stdout",
     "output_type": "stream",
     "text": [
      "Transpiled and saved: circuits/162/transpiled_circuit_Q.qpy\n"
     ]
    },
    {
     "name": "stdout",
     "output_type": "stream",
     "text": [
      "Transpiled and saved: circuits/163/transpiled_circuit_A.qpy\n"
     ]
    },
    {
     "name": "stdout",
     "output_type": "stream",
     "text": [
      "Transpiled and saved: circuits/163/transpiled_circuit_Q.qpy\n"
     ]
    },
    {
     "name": "stdout",
     "output_type": "stream",
     "text": [
      "Transpiled and saved: circuits/164/transpiled_circuit_A.qpy\n"
     ]
    },
    {
     "name": "stdout",
     "output_type": "stream",
     "text": [
      "Transpiled and saved: circuits/164/transpiled_circuit_Q.qpy\n"
     ]
    },
    {
     "name": "stdout",
     "output_type": "stream",
     "text": [
      "Transpiled and saved: circuits/165/transpiled_circuit_A.qpy\n"
     ]
    },
    {
     "name": "stdout",
     "output_type": "stream",
     "text": [
      "Transpiled and saved: circuits/165/transpiled_circuit_Q.qpy\n"
     ]
    },
    {
     "name": "stdout",
     "output_type": "stream",
     "text": [
      "Transpiled and saved: circuits/166/transpiled_circuit_A.qpy\n"
     ]
    },
    {
     "name": "stdout",
     "output_type": "stream",
     "text": [
      "Transpiled and saved: circuits/166/transpiled_circuit_Q.qpy\n"
     ]
    },
    {
     "name": "stdout",
     "output_type": "stream",
     "text": [
      "Transpiled and saved: circuits/167/transpiled_circuit_A.qpy\n"
     ]
    },
    {
     "name": "stdout",
     "output_type": "stream",
     "text": [
      "Transpiled and saved: circuits/167/transpiled_circuit_Q.qpy\n"
     ]
    },
    {
     "name": "stdout",
     "output_type": "stream",
     "text": [
      "Transpiled and saved: circuits/168/transpiled_circuit_A.qpy\n"
     ]
    },
    {
     "name": "stdout",
     "output_type": "stream",
     "text": [
      "Transpiled and saved: circuits/168/transpiled_circuit_Q.qpy\n"
     ]
    },
    {
     "name": "stdout",
     "output_type": "stream",
     "text": [
      "Transpiled and saved: circuits/169/transpiled_circuit_A.qpy\n"
     ]
    },
    {
     "name": "stdout",
     "output_type": "stream",
     "text": [
      "Transpiled and saved: circuits/169/transpiled_circuit_Q.qpy\n"
     ]
    },
    {
     "name": "stdout",
     "output_type": "stream",
     "text": [
      "Transpiled and saved: circuits/17/transpiled_circuit_A.qpy\n"
     ]
    },
    {
     "name": "stdout",
     "output_type": "stream",
     "text": [
      "Transpiled and saved: circuits/17/transpiled_circuit_Q.qpy\n"
     ]
    },
    {
     "name": "stdout",
     "output_type": "stream",
     "text": [
      "Transpiled and saved: circuits/170/transpiled_circuit_A.qpy\n"
     ]
    },
    {
     "name": "stdout",
     "output_type": "stream",
     "text": [
      "Transpiled and saved: circuits/170/transpiled_circuit_Q.qpy\n"
     ]
    },
    {
     "name": "stdout",
     "output_type": "stream",
     "text": [
      "Transpiled and saved: circuits/171/transpiled_circuit_A.qpy\n"
     ]
    },
    {
     "name": "stdout",
     "output_type": "stream",
     "text": [
      "Transpiled and saved: circuits/171/transpiled_circuit_Q.qpy\n"
     ]
    },
    {
     "name": "stdout",
     "output_type": "stream",
     "text": [
      "Transpiled and saved: circuits/172/transpiled_circuit_A.qpy\n"
     ]
    },
    {
     "name": "stdout",
     "output_type": "stream",
     "text": [
      "Transpiled and saved: circuits/172/transpiled_circuit_Q.qpy\n"
     ]
    },
    {
     "name": "stdout",
     "output_type": "stream",
     "text": [
      "Transpiled and saved: circuits/173/transpiled_circuit_A.qpy\n"
     ]
    },
    {
     "name": "stdout",
     "output_type": "stream",
     "text": [
      "Transpiled and saved: circuits/173/transpiled_circuit_Q.qpy\n"
     ]
    },
    {
     "name": "stdout",
     "output_type": "stream",
     "text": [
      "Transpiled and saved: circuits/174/transpiled_circuit_A.qpy\n"
     ]
    },
    {
     "name": "stdout",
     "output_type": "stream",
     "text": [
      "Transpiled and saved: circuits/174/transpiled_circuit_Q.qpy\n"
     ]
    },
    {
     "name": "stdout",
     "output_type": "stream",
     "text": [
      "Transpiled and saved: circuits/175/transpiled_circuit_A.qpy\n"
     ]
    },
    {
     "name": "stdout",
     "output_type": "stream",
     "text": [
      "Transpiled and saved: circuits/175/transpiled_circuit_Q.qpy\n"
     ]
    },
    {
     "name": "stdout",
     "output_type": "stream",
     "text": [
      "Transpiled and saved: circuits/176/transpiled_circuit_A.qpy\n"
     ]
    },
    {
     "name": "stdout",
     "output_type": "stream",
     "text": [
      "Transpiled and saved: circuits/176/transpiled_circuit_Q.qpy\n"
     ]
    },
    {
     "name": "stdout",
     "output_type": "stream",
     "text": [
      "Transpiled and saved: circuits/177/transpiled_circuit_A.qpy\n"
     ]
    },
    {
     "name": "stdout",
     "output_type": "stream",
     "text": [
      "Transpiled and saved: circuits/177/transpiled_circuit_Q.qpy\n"
     ]
    },
    {
     "name": "stdout",
     "output_type": "stream",
     "text": [
      "Transpiled and saved: circuits/178/transpiled_circuit_A.qpy\n"
     ]
    },
    {
     "name": "stdout",
     "output_type": "stream",
     "text": [
      "Transpiled and saved: circuits/178/transpiled_circuit_Q.qpy\n"
     ]
    },
    {
     "name": "stdout",
     "output_type": "stream",
     "text": [
      "Transpiled and saved: circuits/179/transpiled_circuit_A.qpy\n"
     ]
    },
    {
     "name": "stdout",
     "output_type": "stream",
     "text": [
      "Transpiled and saved: circuits/179/transpiled_circuit_Q.qpy\n"
     ]
    },
    {
     "name": "stdout",
     "output_type": "stream",
     "text": [
      "Transpiled and saved: circuits/18/transpiled_circuit_A.qpy\n"
     ]
    },
    {
     "name": "stdout",
     "output_type": "stream",
     "text": [
      "Transpiled and saved: circuits/18/transpiled_circuit_Q.qpy\n"
     ]
    },
    {
     "name": "stdout",
     "output_type": "stream",
     "text": [
      "Transpiled and saved: circuits/180/transpiled_circuit_A.qpy\n"
     ]
    },
    {
     "name": "stdout",
     "output_type": "stream",
     "text": [
      "Transpiled and saved: circuits/180/transpiled_circuit_Q.qpy\n"
     ]
    },
    {
     "name": "stdout",
     "output_type": "stream",
     "text": [
      "Transpiled and saved: circuits/181/transpiled_circuit_A.qpy\n"
     ]
    },
    {
     "name": "stdout",
     "output_type": "stream",
     "text": [
      "Transpiled and saved: circuits/181/transpiled_circuit_Q.qpy\n"
     ]
    },
    {
     "name": "stdout",
     "output_type": "stream",
     "text": [
      "Transpiled and saved: circuits/182/transpiled_circuit_A.qpy\n"
     ]
    },
    {
     "name": "stdout",
     "output_type": "stream",
     "text": [
      "Transpiled and saved: circuits/182/transpiled_circuit_Q.qpy\n"
     ]
    },
    {
     "name": "stdout",
     "output_type": "stream",
     "text": [
      "Transpiled and saved: circuits/183/transpiled_circuit_A.qpy\n"
     ]
    },
    {
     "name": "stdout",
     "output_type": "stream",
     "text": [
      "Transpiled and saved: circuits/183/transpiled_circuit_Q.qpy\n"
     ]
    },
    {
     "name": "stdout",
     "output_type": "stream",
     "text": [
      "Transpiled and saved: circuits/184/transpiled_circuit_A.qpy\n"
     ]
    },
    {
     "name": "stdout",
     "output_type": "stream",
     "text": [
      "Transpiled and saved: circuits/184/transpiled_circuit_Q.qpy\n"
     ]
    },
    {
     "name": "stdout",
     "output_type": "stream",
     "text": [
      "Transpiled and saved: circuits/185/transpiled_circuit_A.qpy\n"
     ]
    },
    {
     "name": "stdout",
     "output_type": "stream",
     "text": [
      "Transpiled and saved: circuits/185/transpiled_circuit_Q.qpy\n"
     ]
    },
    {
     "name": "stdout",
     "output_type": "stream",
     "text": [
      "Transpiled and saved: circuits/186/transpiled_circuit_A.qpy\n"
     ]
    },
    {
     "name": "stdout",
     "output_type": "stream",
     "text": [
      "Transpiled and saved: circuits/186/transpiled_circuit_Q.qpy\n"
     ]
    },
    {
     "name": "stdout",
     "output_type": "stream",
     "text": [
      "Transpiled and saved: circuits/187/transpiled_circuit_A.qpy\n"
     ]
    },
    {
     "name": "stdout",
     "output_type": "stream",
     "text": [
      "Transpiled and saved: circuits/187/transpiled_circuit_Q.qpy\n"
     ]
    },
    {
     "name": "stdout",
     "output_type": "stream",
     "text": [
      "Transpiled and saved: circuits/188/transpiled_circuit_A.qpy\n"
     ]
    },
    {
     "name": "stdout",
     "output_type": "stream",
     "text": [
      "Transpiled and saved: circuits/188/transpiled_circuit_Q.qpy\n"
     ]
    },
    {
     "name": "stdout",
     "output_type": "stream",
     "text": [
      "Transpiled and saved: circuits/189/transpiled_circuit_A.qpy\n"
     ]
    },
    {
     "name": "stdout",
     "output_type": "stream",
     "text": [
      "Transpiled and saved: circuits/189/transpiled_circuit_Q.qpy\n"
     ]
    },
    {
     "name": "stdout",
     "output_type": "stream",
     "text": [
      "Transpiled and saved: circuits/19/transpiled_circuit_A.qpy\n"
     ]
    },
    {
     "name": "stdout",
     "output_type": "stream",
     "text": [
      "Transpiled and saved: circuits/19/transpiled_circuit_Q.qpy\n"
     ]
    },
    {
     "name": "stdout",
     "output_type": "stream",
     "text": [
      "Transpiled and saved: circuits/190/transpiled_circuit_A.qpy\n"
     ]
    },
    {
     "name": "stdout",
     "output_type": "stream",
     "text": [
      "Transpiled and saved: circuits/190/transpiled_circuit_Q.qpy\n"
     ]
    },
    {
     "name": "stdout",
     "output_type": "stream",
     "text": [
      "Transpiled and saved: circuits/191/transpiled_circuit_A.qpy\n"
     ]
    },
    {
     "name": "stdout",
     "output_type": "stream",
     "text": [
      "Transpiled and saved: circuits/191/transpiled_circuit_Q.qpy\n"
     ]
    },
    {
     "name": "stdout",
     "output_type": "stream",
     "text": [
      "Transpiled and saved: circuits/192/transpiled_circuit_A.qpy\n"
     ]
    },
    {
     "name": "stdout",
     "output_type": "stream",
     "text": [
      "Transpiled and saved: circuits/192/transpiled_circuit_Q.qpy\n"
     ]
    },
    {
     "name": "stdout",
     "output_type": "stream",
     "text": [
      "Transpiled and saved: circuits/193/transpiled_circuit_A.qpy\n"
     ]
    },
    {
     "name": "stdout",
     "output_type": "stream",
     "text": [
      "Transpiled and saved: circuits/193/transpiled_circuit_Q.qpy\n"
     ]
    },
    {
     "name": "stdout",
     "output_type": "stream",
     "text": [
      "Transpiled and saved: circuits/194/transpiled_circuit_A.qpy\n"
     ]
    },
    {
     "name": "stdout",
     "output_type": "stream",
     "text": [
      "Transpiled and saved: circuits/194/transpiled_circuit_Q.qpy\n"
     ]
    },
    {
     "name": "stdout",
     "output_type": "stream",
     "text": [
      "Transpiled and saved: circuits/195/transpiled_circuit_A.qpy\n"
     ]
    },
    {
     "name": "stdout",
     "output_type": "stream",
     "text": [
      "Transpiled and saved: circuits/195/transpiled_circuit_Q.qpy\n"
     ]
    },
    {
     "name": "stdout",
     "output_type": "stream",
     "text": [
      "Transpiled and saved: circuits/196/transpiled_circuit_A.qpy\n"
     ]
    },
    {
     "name": "stdout",
     "output_type": "stream",
     "text": [
      "Transpiled and saved: circuits/196/transpiled_circuit_Q.qpy\n"
     ]
    },
    {
     "name": "stdout",
     "output_type": "stream",
     "text": [
      "Transpiled and saved: circuits/197/transpiled_circuit_A.qpy\n"
     ]
    },
    {
     "name": "stdout",
     "output_type": "stream",
     "text": [
      "Transpiled and saved: circuits/197/transpiled_circuit_Q.qpy\n"
     ]
    },
    {
     "name": "stdout",
     "output_type": "stream",
     "text": [
      "Transpiled and saved: circuits/198/transpiled_circuit_A.qpy\n"
     ]
    },
    {
     "name": "stdout",
     "output_type": "stream",
     "text": [
      "Transpiled and saved: circuits/198/transpiled_circuit_Q.qpy\n"
     ]
    },
    {
     "name": "stdout",
     "output_type": "stream",
     "text": [
      "Transpiled and saved: circuits/199/transpiled_circuit_A.qpy\n"
     ]
    },
    {
     "name": "stdout",
     "output_type": "stream",
     "text": [
      "Transpiled and saved: circuits/199/transpiled_circuit_Q.qpy\n"
     ]
    },
    {
     "name": "stdout",
     "output_type": "stream",
     "text": [
      "Transpiled and saved: circuits/2/transpiled_circuit_A.qpy\n"
     ]
    },
    {
     "name": "stdout",
     "output_type": "stream",
     "text": [
      "Transpiled and saved: circuits/2/transpiled_circuit_Q.qpy\n"
     ]
    },
    {
     "name": "stdout",
     "output_type": "stream",
     "text": [
      "Transpiled and saved: circuits/20/transpiled_circuit_A.qpy\n"
     ]
    },
    {
     "name": "stdout",
     "output_type": "stream",
     "text": [
      "Transpiled and saved: circuits/20/transpiled_circuit_Q.qpy\n"
     ]
    },
    {
     "name": "stdout",
     "output_type": "stream",
     "text": [
      "Transpiled and saved: circuits/200/transpiled_circuit_A.qpy\n"
     ]
    },
    {
     "name": "stdout",
     "output_type": "stream",
     "text": [
      "Transpiled and saved: circuits/200/transpiled_circuit_Q.qpy\n"
     ]
    },
    {
     "name": "stdout",
     "output_type": "stream",
     "text": [
      "Transpiled and saved: circuits/201/transpiled_circuit_A.qpy\n"
     ]
    },
    {
     "name": "stdout",
     "output_type": "stream",
     "text": [
      "Transpiled and saved: circuits/201/transpiled_circuit_Q.qpy\n"
     ]
    },
    {
     "name": "stdout",
     "output_type": "stream",
     "text": [
      "Transpiled and saved: circuits/202/transpiled_circuit_A.qpy\n"
     ]
    },
    {
     "name": "stdout",
     "output_type": "stream",
     "text": [
      "Transpiled and saved: circuits/202/transpiled_circuit_Q.qpy\n"
     ]
    },
    {
     "name": "stdout",
     "output_type": "stream",
     "text": [
      "Transpiled and saved: circuits/203/transpiled_circuit_A.qpy\n"
     ]
    },
    {
     "name": "stdout",
     "output_type": "stream",
     "text": [
      "Transpiled and saved: circuits/203/transpiled_circuit_Q.qpy\n"
     ]
    },
    {
     "name": "stdout",
     "output_type": "stream",
     "text": [
      "Transpiled and saved: circuits/204/transpiled_circuit_A.qpy\n"
     ]
    },
    {
     "name": "stdout",
     "output_type": "stream",
     "text": [
      "Transpiled and saved: circuits/204/transpiled_circuit_Q.qpy\n"
     ]
    },
    {
     "name": "stdout",
     "output_type": "stream",
     "text": [
      "Transpiled and saved: circuits/205/transpiled_circuit_A.qpy\n"
     ]
    },
    {
     "name": "stdout",
     "output_type": "stream",
     "text": [
      "Transpiled and saved: circuits/205/transpiled_circuit_Q.qpy\n"
     ]
    },
    {
     "name": "stdout",
     "output_type": "stream",
     "text": [
      "Transpiled and saved: circuits/206/transpiled_circuit_A.qpy\n"
     ]
    },
    {
     "name": "stdout",
     "output_type": "stream",
     "text": [
      "Transpiled and saved: circuits/206/transpiled_circuit_Q.qpy\n"
     ]
    },
    {
     "name": "stdout",
     "output_type": "stream",
     "text": [
      "Transpiled and saved: circuits/207/transpiled_circuit_A.qpy\n"
     ]
    },
    {
     "name": "stdout",
     "output_type": "stream",
     "text": [
      "Transpiled and saved: circuits/207/transpiled_circuit_Q.qpy\n"
     ]
    },
    {
     "name": "stdout",
     "output_type": "stream",
     "text": [
      "Transpiled and saved: circuits/208/transpiled_circuit_A.qpy\n"
     ]
    },
    {
     "name": "stdout",
     "output_type": "stream",
     "text": [
      "Transpiled and saved: circuits/208/transpiled_circuit_Q.qpy\n"
     ]
    },
    {
     "name": "stdout",
     "output_type": "stream",
     "text": [
      "Transpiled and saved: circuits/209/transpiled_circuit_A.qpy\n"
     ]
    },
    {
     "name": "stdout",
     "output_type": "stream",
     "text": [
      "Transpiled and saved: circuits/209/transpiled_circuit_Q.qpy\n"
     ]
    },
    {
     "name": "stdout",
     "output_type": "stream",
     "text": [
      "Transpiled and saved: circuits/21/transpiled_circuit_A.qpy\n"
     ]
    },
    {
     "name": "stdout",
     "output_type": "stream",
     "text": [
      "Transpiled and saved: circuits/21/transpiled_circuit_Q.qpy\n"
     ]
    },
    {
     "name": "stdout",
     "output_type": "stream",
     "text": [
      "Transpiled and saved: circuits/210/transpiled_circuit_A.qpy\n"
     ]
    },
    {
     "name": "stdout",
     "output_type": "stream",
     "text": [
      "Transpiled and saved: circuits/210/transpiled_circuit_Q.qpy\n"
     ]
    },
    {
     "name": "stdout",
     "output_type": "stream",
     "text": [
      "Transpiled and saved: circuits/211/transpiled_circuit_A.qpy\n"
     ]
    },
    {
     "name": "stdout",
     "output_type": "stream",
     "text": [
      "Transpiled and saved: circuits/211/transpiled_circuit_Q.qpy\n"
     ]
    },
    {
     "name": "stdout",
     "output_type": "stream",
     "text": [
      "Transpiled and saved: circuits/212/transpiled_circuit_A.qpy\n"
     ]
    },
    {
     "name": "stdout",
     "output_type": "stream",
     "text": [
      "Transpiled and saved: circuits/212/transpiled_circuit_Q.qpy\n"
     ]
    },
    {
     "name": "stdout",
     "output_type": "stream",
     "text": [
      "Transpiled and saved: circuits/213/transpiled_circuit_A.qpy\n"
     ]
    },
    {
     "name": "stdout",
     "output_type": "stream",
     "text": [
      "Transpiled and saved: circuits/213/transpiled_circuit_Q.qpy\n"
     ]
    },
    {
     "name": "stdout",
     "output_type": "stream",
     "text": [
      "Transpiled and saved: circuits/214/transpiled_circuit_A.qpy\n"
     ]
    },
    {
     "name": "stdout",
     "output_type": "stream",
     "text": [
      "Transpiled and saved: circuits/214/transpiled_circuit_Q.qpy\n"
     ]
    },
    {
     "name": "stdout",
     "output_type": "stream",
     "text": [
      "Transpiled and saved: circuits/215/transpiled_circuit_A.qpy\n"
     ]
    },
    {
     "name": "stdout",
     "output_type": "stream",
     "text": [
      "Transpiled and saved: circuits/215/transpiled_circuit_Q.qpy\n"
     ]
    },
    {
     "name": "stdout",
     "output_type": "stream",
     "text": [
      "Transpiled and saved: circuits/216/transpiled_circuit_A.qpy\n"
     ]
    },
    {
     "name": "stdout",
     "output_type": "stream",
     "text": [
      "Transpiled and saved: circuits/216/transpiled_circuit_Q.qpy\n"
     ]
    },
    {
     "name": "stdout",
     "output_type": "stream",
     "text": [
      "Transpiled and saved: circuits/217/transpiled_circuit_A.qpy\n"
     ]
    },
    {
     "name": "stdout",
     "output_type": "stream",
     "text": [
      "Transpiled and saved: circuits/217/transpiled_circuit_Q.qpy\n"
     ]
    },
    {
     "name": "stdout",
     "output_type": "stream",
     "text": [
      "Transpiled and saved: circuits/218/transpiled_circuit_A.qpy\n"
     ]
    },
    {
     "name": "stdout",
     "output_type": "stream",
     "text": [
      "Transpiled and saved: circuits/218/transpiled_circuit_Q.qpy\n"
     ]
    },
    {
     "name": "stdout",
     "output_type": "stream",
     "text": [
      "Transpiled and saved: circuits/219/transpiled_circuit_A.qpy\n"
     ]
    },
    {
     "name": "stdout",
     "output_type": "stream",
     "text": [
      "Transpiled and saved: circuits/219/transpiled_circuit_Q.qpy\n"
     ]
    },
    {
     "name": "stdout",
     "output_type": "stream",
     "text": [
      "Transpiled and saved: circuits/22/transpiled_circuit_A.qpy\n"
     ]
    },
    {
     "name": "stdout",
     "output_type": "stream",
     "text": [
      "Transpiled and saved: circuits/22/transpiled_circuit_Q.qpy\n"
     ]
    },
    {
     "name": "stdout",
     "output_type": "stream",
     "text": [
      "Transpiled and saved: circuits/220/transpiled_circuit_A.qpy\n"
     ]
    },
    {
     "name": "stdout",
     "output_type": "stream",
     "text": [
      "Transpiled and saved: circuits/220/transpiled_circuit_Q.qpy\n"
     ]
    },
    {
     "name": "stdout",
     "output_type": "stream",
     "text": [
      "Transpiled and saved: circuits/221/transpiled_circuit_A.qpy\n"
     ]
    },
    {
     "name": "stdout",
     "output_type": "stream",
     "text": [
      "Transpiled and saved: circuits/221/transpiled_circuit_Q.qpy\n"
     ]
    },
    {
     "name": "stdout",
     "output_type": "stream",
     "text": [
      "Transpiled and saved: circuits/222/transpiled_circuit_A.qpy\n"
     ]
    },
    {
     "name": "stdout",
     "output_type": "stream",
     "text": [
      "Transpiled and saved: circuits/222/transpiled_circuit_Q.qpy\n"
     ]
    },
    {
     "name": "stdout",
     "output_type": "stream",
     "text": [
      "Transpiled and saved: circuits/223/transpiled_circuit_A.qpy\n"
     ]
    },
    {
     "name": "stdout",
     "output_type": "stream",
     "text": [
      "Transpiled and saved: circuits/223/transpiled_circuit_Q.qpy\n"
     ]
    },
    {
     "name": "stdout",
     "output_type": "stream",
     "text": [
      "Transpiled and saved: circuits/224/transpiled_circuit_A.qpy\n"
     ]
    },
    {
     "name": "stdout",
     "output_type": "stream",
     "text": [
      "Transpiled and saved: circuits/224/transpiled_circuit_Q.qpy\n"
     ]
    },
    {
     "name": "stdout",
     "output_type": "stream",
     "text": [
      "Transpiled and saved: circuits/225/transpiled_circuit_A.qpy\n"
     ]
    },
    {
     "name": "stdout",
     "output_type": "stream",
     "text": [
      "Transpiled and saved: circuits/225/transpiled_circuit_Q.qpy\n"
     ]
    },
    {
     "name": "stdout",
     "output_type": "stream",
     "text": [
      "Transpiled and saved: circuits/226/transpiled_circuit_A.qpy\n"
     ]
    },
    {
     "name": "stdout",
     "output_type": "stream",
     "text": [
      "Transpiled and saved: circuits/226/transpiled_circuit_Q.qpy\n"
     ]
    },
    {
     "name": "stdout",
     "output_type": "stream",
     "text": [
      "Transpiled and saved: circuits/227/transpiled_circuit_A.qpy\n"
     ]
    },
    {
     "name": "stdout",
     "output_type": "stream",
     "text": [
      "Transpiled and saved: circuits/227/transpiled_circuit_Q.qpy\n"
     ]
    },
    {
     "name": "stdout",
     "output_type": "stream",
     "text": [
      "Transpiled and saved: circuits/228/transpiled_circuit_A.qpy\n"
     ]
    },
    {
     "name": "stdout",
     "output_type": "stream",
     "text": [
      "Transpiled and saved: circuits/228/transpiled_circuit_Q.qpy\n"
     ]
    },
    {
     "name": "stdout",
     "output_type": "stream",
     "text": [
      "Transpiled and saved: circuits/229/transpiled_circuit_A.qpy\n"
     ]
    },
    {
     "name": "stdout",
     "output_type": "stream",
     "text": [
      "Transpiled and saved: circuits/229/transpiled_circuit_Q.qpy\n"
     ]
    },
    {
     "name": "stdout",
     "output_type": "stream",
     "text": [
      "Transpiled and saved: circuits/23/transpiled_circuit_A.qpy\n"
     ]
    },
    {
     "name": "stdout",
     "output_type": "stream",
     "text": [
      "Transpiled and saved: circuits/23/transpiled_circuit_Q.qpy\n"
     ]
    },
    {
     "name": "stdout",
     "output_type": "stream",
     "text": [
      "Transpiled and saved: circuits/230/transpiled_circuit_A.qpy\n"
     ]
    },
    {
     "name": "stdout",
     "output_type": "stream",
     "text": [
      "Transpiled and saved: circuits/230/transpiled_circuit_Q.qpy\n"
     ]
    },
    {
     "name": "stdout",
     "output_type": "stream",
     "text": [
      "Transpiled and saved: circuits/231/transpiled_circuit_A.qpy\n"
     ]
    },
    {
     "name": "stdout",
     "output_type": "stream",
     "text": [
      "Transpiled and saved: circuits/231/transpiled_circuit_Q.qpy\n"
     ]
    },
    {
     "name": "stdout",
     "output_type": "stream",
     "text": [
      "Transpiled and saved: circuits/232/transpiled_circuit_A.qpy\n"
     ]
    },
    {
     "name": "stdout",
     "output_type": "stream",
     "text": [
      "Transpiled and saved: circuits/232/transpiled_circuit_Q.qpy\n"
     ]
    },
    {
     "name": "stdout",
     "output_type": "stream",
     "text": [
      "Transpiled and saved: circuits/233/transpiled_circuit_A.qpy\n"
     ]
    },
    {
     "name": "stdout",
     "output_type": "stream",
     "text": [
      "Transpiled and saved: circuits/233/transpiled_circuit_Q.qpy\n"
     ]
    },
    {
     "name": "stdout",
     "output_type": "stream",
     "text": [
      "Transpiled and saved: circuits/234/transpiled_circuit_A.qpy\n"
     ]
    },
    {
     "name": "stdout",
     "output_type": "stream",
     "text": [
      "Transpiled and saved: circuits/234/transpiled_circuit_Q.qpy\n"
     ]
    },
    {
     "name": "stdout",
     "output_type": "stream",
     "text": [
      "Transpiled and saved: circuits/235/transpiled_circuit_A.qpy\n"
     ]
    },
    {
     "name": "stdout",
     "output_type": "stream",
     "text": [
      "Transpiled and saved: circuits/235/transpiled_circuit_Q.qpy\n"
     ]
    },
    {
     "name": "stdout",
     "output_type": "stream",
     "text": [
      "Transpiled and saved: circuits/236/transpiled_circuit_A.qpy\n"
     ]
    },
    {
     "name": "stdout",
     "output_type": "stream",
     "text": [
      "Transpiled and saved: circuits/236/transpiled_circuit_Q.qpy\n"
     ]
    },
    {
     "name": "stdout",
     "output_type": "stream",
     "text": [
      "Transpiled and saved: circuits/237/transpiled_circuit_A.qpy\n"
     ]
    },
    {
     "name": "stdout",
     "output_type": "stream",
     "text": [
      "Transpiled and saved: circuits/237/transpiled_circuit_Q.qpy\n"
     ]
    },
    {
     "name": "stdout",
     "output_type": "stream",
     "text": [
      "Transpiled and saved: circuits/238/transpiled_circuit_A.qpy\n"
     ]
    },
    {
     "name": "stdout",
     "output_type": "stream",
     "text": [
      "Transpiled and saved: circuits/238/transpiled_circuit_Q.qpy\n"
     ]
    },
    {
     "name": "stdout",
     "output_type": "stream",
     "text": [
      "Transpiled and saved: circuits/239/transpiled_circuit_A.qpy\n"
     ]
    },
    {
     "name": "stdout",
     "output_type": "stream",
     "text": [
      "Transpiled and saved: circuits/239/transpiled_circuit_Q.qpy\n"
     ]
    },
    {
     "name": "stdout",
     "output_type": "stream",
     "text": [
      "Transpiled and saved: circuits/24/transpiled_circuit_A.qpy\n"
     ]
    },
    {
     "name": "stdout",
     "output_type": "stream",
     "text": [
      "Transpiled and saved: circuits/24/transpiled_circuit_Q.qpy\n"
     ]
    },
    {
     "name": "stdout",
     "output_type": "stream",
     "text": [
      "Transpiled and saved: circuits/240/transpiled_circuit_A.qpy\n"
     ]
    },
    {
     "name": "stdout",
     "output_type": "stream",
     "text": [
      "Transpiled and saved: circuits/240/transpiled_circuit_Q.qpy\n"
     ]
    },
    {
     "name": "stdout",
     "output_type": "stream",
     "text": [
      "Transpiled and saved: circuits/241/transpiled_circuit_A.qpy\n"
     ]
    },
    {
     "name": "stdout",
     "output_type": "stream",
     "text": [
      "Transpiled and saved: circuits/241/transpiled_circuit_Q.qpy\n"
     ]
    },
    {
     "name": "stdout",
     "output_type": "stream",
     "text": [
      "Transpiled and saved: circuits/242/transpiled_circuit_A.qpy\n"
     ]
    },
    {
     "name": "stdout",
     "output_type": "stream",
     "text": [
      "Transpiled and saved: circuits/242/transpiled_circuit_Q.qpy\n"
     ]
    },
    {
     "name": "stdout",
     "output_type": "stream",
     "text": [
      "Transpiled and saved: circuits/243/transpiled_circuit_A.qpy\n"
     ]
    },
    {
     "name": "stdout",
     "output_type": "stream",
     "text": [
      "Transpiled and saved: circuits/243/transpiled_circuit_Q.qpy\n"
     ]
    },
    {
     "name": "stdout",
     "output_type": "stream",
     "text": [
      "Transpiled and saved: circuits/244/transpiled_circuit_A.qpy\n"
     ]
    },
    {
     "name": "stdout",
     "output_type": "stream",
     "text": [
      "Transpiled and saved: circuits/244/transpiled_circuit_Q.qpy\n"
     ]
    },
    {
     "name": "stdout",
     "output_type": "stream",
     "text": [
      "Transpiled and saved: circuits/245/transpiled_circuit_A.qpy\n"
     ]
    },
    {
     "name": "stdout",
     "output_type": "stream",
     "text": [
      "Transpiled and saved: circuits/245/transpiled_circuit_Q.qpy\n"
     ]
    },
    {
     "name": "stdout",
     "output_type": "stream",
     "text": [
      "Transpiled and saved: circuits/246/transpiled_circuit_A.qpy\n"
     ]
    },
    {
     "name": "stdout",
     "output_type": "stream",
     "text": [
      "Transpiled and saved: circuits/246/transpiled_circuit_Q.qpy\n"
     ]
    },
    {
     "name": "stdout",
     "output_type": "stream",
     "text": [
      "Transpiled and saved: circuits/247/transpiled_circuit_A.qpy\n"
     ]
    },
    {
     "name": "stdout",
     "output_type": "stream",
     "text": [
      "Transpiled and saved: circuits/247/transpiled_circuit_Q.qpy\n"
     ]
    },
    {
     "name": "stdout",
     "output_type": "stream",
     "text": [
      "Transpiled and saved: circuits/248/transpiled_circuit_A.qpy\n"
     ]
    },
    {
     "name": "stdout",
     "output_type": "stream",
     "text": [
      "Transpiled and saved: circuits/248/transpiled_circuit_Q.qpy\n"
     ]
    },
    {
     "name": "stdout",
     "output_type": "stream",
     "text": [
      "Transpiled and saved: circuits/249/transpiled_circuit_A.qpy\n"
     ]
    },
    {
     "name": "stdout",
     "output_type": "stream",
     "text": [
      "Transpiled and saved: circuits/249/transpiled_circuit_Q.qpy\n"
     ]
    },
    {
     "name": "stdout",
     "output_type": "stream",
     "text": [
      "Transpiled and saved: circuits/25/transpiled_circuit_A.qpy\n"
     ]
    },
    {
     "name": "stdout",
     "output_type": "stream",
     "text": [
      "Transpiled and saved: circuits/25/transpiled_circuit_Q.qpy\n"
     ]
    },
    {
     "name": "stdout",
     "output_type": "stream",
     "text": [
      "Transpiled and saved: circuits/250/transpiled_circuit_A.qpy\n"
     ]
    },
    {
     "name": "stdout",
     "output_type": "stream",
     "text": [
      "Transpiled and saved: circuits/250/transpiled_circuit_Q.qpy\n"
     ]
    },
    {
     "name": "stdout",
     "output_type": "stream",
     "text": [
      "Transpiled and saved: circuits/251/transpiled_circuit_A.qpy\n"
     ]
    },
    {
     "name": "stdout",
     "output_type": "stream",
     "text": [
      "Transpiled and saved: circuits/251/transpiled_circuit_Q.qpy\n"
     ]
    },
    {
     "name": "stdout",
     "output_type": "stream",
     "text": [
      "Transpiled and saved: circuits/252/transpiled_circuit_A.qpy\n"
     ]
    },
    {
     "name": "stdout",
     "output_type": "stream",
     "text": [
      "Transpiled and saved: circuits/252/transpiled_circuit_Q.qpy\n"
     ]
    },
    {
     "name": "stdout",
     "output_type": "stream",
     "text": [
      "Transpiled and saved: circuits/253/transpiled_circuit_A.qpy\n"
     ]
    },
    {
     "name": "stdout",
     "output_type": "stream",
     "text": [
      "Transpiled and saved: circuits/253/transpiled_circuit_Q.qpy\n"
     ]
    },
    {
     "name": "stdout",
     "output_type": "stream",
     "text": [
      "Transpiled and saved: circuits/254/transpiled_circuit_A.qpy\n"
     ]
    },
    {
     "name": "stdout",
     "output_type": "stream",
     "text": [
      "Transpiled and saved: circuits/254/transpiled_circuit_Q.qpy\n"
     ]
    },
    {
     "name": "stdout",
     "output_type": "stream",
     "text": [
      "Transpiled and saved: circuits/255/transpiled_circuit_A.qpy\n"
     ]
    },
    {
     "name": "stdout",
     "output_type": "stream",
     "text": [
      "Transpiled and saved: circuits/255/transpiled_circuit_Q.qpy\n"
     ]
    },
    {
     "name": "stdout",
     "output_type": "stream",
     "text": [
      "Transpiled and saved: circuits/256/transpiled_circuit_A.qpy\n"
     ]
    },
    {
     "name": "stdout",
     "output_type": "stream",
     "text": [
      "Transpiled and saved: circuits/256/transpiled_circuit_Q.qpy\n"
     ]
    },
    {
     "name": "stdout",
     "output_type": "stream",
     "text": [
      "Transpiled and saved: circuits/257/transpiled_circuit_A.qpy\n"
     ]
    },
    {
     "name": "stdout",
     "output_type": "stream",
     "text": [
      "Transpiled and saved: circuits/257/transpiled_circuit_Q.qpy\n"
     ]
    },
    {
     "name": "stdout",
     "output_type": "stream",
     "text": [
      "Transpiled and saved: circuits/258/transpiled_circuit_A.qpy\n"
     ]
    },
    {
     "name": "stdout",
     "output_type": "stream",
     "text": [
      "Transpiled and saved: circuits/258/transpiled_circuit_Q.qpy\n"
     ]
    },
    {
     "name": "stdout",
     "output_type": "stream",
     "text": [
      "Transpiled and saved: circuits/259/transpiled_circuit_A.qpy\n"
     ]
    },
    {
     "name": "stdout",
     "output_type": "stream",
     "text": [
      "Transpiled and saved: circuits/259/transpiled_circuit_Q.qpy\n"
     ]
    },
    {
     "name": "stdout",
     "output_type": "stream",
     "text": [
      "Transpiled and saved: circuits/26/transpiled_circuit_A.qpy\n"
     ]
    },
    {
     "name": "stdout",
     "output_type": "stream",
     "text": [
      "Transpiled and saved: circuits/26/transpiled_circuit_Q.qpy\n"
     ]
    },
    {
     "name": "stdout",
     "output_type": "stream",
     "text": [
      "Transpiled and saved: circuits/260/transpiled_circuit_A.qpy\n"
     ]
    },
    {
     "name": "stdout",
     "output_type": "stream",
     "text": [
      "Transpiled and saved: circuits/260/transpiled_circuit_Q.qpy\n"
     ]
    },
    {
     "name": "stdout",
     "output_type": "stream",
     "text": [
      "Transpiled and saved: circuits/261/transpiled_circuit_A.qpy\n"
     ]
    },
    {
     "name": "stdout",
     "output_type": "stream",
     "text": [
      "Transpiled and saved: circuits/261/transpiled_circuit_Q.qpy\n"
     ]
    },
    {
     "name": "stdout",
     "output_type": "stream",
     "text": [
      "Transpiled and saved: circuits/262/transpiled_circuit_A.qpy\n"
     ]
    },
    {
     "name": "stdout",
     "output_type": "stream",
     "text": [
      "Transpiled and saved: circuits/262/transpiled_circuit_Q.qpy\n"
     ]
    },
    {
     "name": "stdout",
     "output_type": "stream",
     "text": [
      "Transpiled and saved: circuits/263/transpiled_circuit_A.qpy\n"
     ]
    },
    {
     "name": "stdout",
     "output_type": "stream",
     "text": [
      "Transpiled and saved: circuits/263/transpiled_circuit_Q.qpy\n"
     ]
    },
    {
     "name": "stdout",
     "output_type": "stream",
     "text": [
      "Transpiled and saved: circuits/264/transpiled_circuit_A.qpy\n"
     ]
    },
    {
     "name": "stdout",
     "output_type": "stream",
     "text": [
      "Transpiled and saved: circuits/264/transpiled_circuit_Q.qpy\n"
     ]
    },
    {
     "name": "stdout",
     "output_type": "stream",
     "text": [
      "Transpiled and saved: circuits/265/transpiled_circuit_A.qpy\n"
     ]
    },
    {
     "name": "stdout",
     "output_type": "stream",
     "text": [
      "Transpiled and saved: circuits/265/transpiled_circuit_Q.qpy\n"
     ]
    },
    {
     "name": "stdout",
     "output_type": "stream",
     "text": [
      "Transpiled and saved: circuits/266/transpiled_circuit_A.qpy\n"
     ]
    },
    {
     "name": "stdout",
     "output_type": "stream",
     "text": [
      "Transpiled and saved: circuits/266/transpiled_circuit_Q.qpy\n"
     ]
    },
    {
     "name": "stdout",
     "output_type": "stream",
     "text": [
      "Transpiled and saved: circuits/267/transpiled_circuit_A.qpy\n"
     ]
    },
    {
     "name": "stdout",
     "output_type": "stream",
     "text": [
      "Transpiled and saved: circuits/267/transpiled_circuit_Q.qpy\n"
     ]
    },
    {
     "name": "stdout",
     "output_type": "stream",
     "text": [
      "Transpiled and saved: circuits/27/transpiled_circuit_A.qpy\n"
     ]
    },
    {
     "name": "stdout",
     "output_type": "stream",
     "text": [
      "Transpiled and saved: circuits/27/transpiled_circuit_Q.qpy\n"
     ]
    },
    {
     "name": "stdout",
     "output_type": "stream",
     "text": [
      "Transpiled and saved: circuits/28/transpiled_circuit_A.qpy\n"
     ]
    },
    {
     "name": "stdout",
     "output_type": "stream",
     "text": [
      "Transpiled and saved: circuits/28/transpiled_circuit_Q.qpy\n"
     ]
    },
    {
     "name": "stdout",
     "output_type": "stream",
     "text": [
      "Transpiled and saved: circuits/29/transpiled_circuit_A.qpy\n"
     ]
    },
    {
     "name": "stdout",
     "output_type": "stream",
     "text": [
      "Transpiled and saved: circuits/29/transpiled_circuit_Q.qpy\n"
     ]
    },
    {
     "name": "stdout",
     "output_type": "stream",
     "text": [
      "Transpiled and saved: circuits/3/transpiled_circuit_A.qpy\n"
     ]
    },
    {
     "name": "stdout",
     "output_type": "stream",
     "text": [
      "Transpiled and saved: circuits/3/transpiled_circuit_Q.qpy\n"
     ]
    },
    {
     "name": "stdout",
     "output_type": "stream",
     "text": [
      "Transpiled and saved: circuits/30/transpiled_circuit_A.qpy\n"
     ]
    },
    {
     "name": "stdout",
     "output_type": "stream",
     "text": [
      "Transpiled and saved: circuits/30/transpiled_circuit_Q.qpy\n"
     ]
    },
    {
     "name": "stdout",
     "output_type": "stream",
     "text": [
      "Transpiled and saved: circuits/31/transpiled_circuit_A.qpy\n"
     ]
    },
    {
     "name": "stdout",
     "output_type": "stream",
     "text": [
      "Transpiled and saved: circuits/31/transpiled_circuit_Q.qpy\n"
     ]
    },
    {
     "name": "stdout",
     "output_type": "stream",
     "text": [
      "Transpiled and saved: circuits/32/transpiled_circuit_A.qpy\n"
     ]
    },
    {
     "name": "stdout",
     "output_type": "stream",
     "text": [
      "Transpiled and saved: circuits/32/transpiled_circuit_Q.qpy\n"
     ]
    },
    {
     "name": "stdout",
     "output_type": "stream",
     "text": [
      "Transpiled and saved: circuits/33/transpiled_circuit_A.qpy\n"
     ]
    },
    {
     "name": "stdout",
     "output_type": "stream",
     "text": [
      "Transpiled and saved: circuits/33/transpiled_circuit_Q.qpy\n"
     ]
    },
    {
     "name": "stdout",
     "output_type": "stream",
     "text": [
      "Transpiled and saved: circuits/34/transpiled_circuit_A.qpy\n"
     ]
    },
    {
     "name": "stdout",
     "output_type": "stream",
     "text": [
      "Transpiled and saved: circuits/34/transpiled_circuit_Q.qpy\n"
     ]
    },
    {
     "name": "stdout",
     "output_type": "stream",
     "text": [
      "Transpiled and saved: circuits/35/transpiled_circuit_A.qpy\n"
     ]
    },
    {
     "name": "stdout",
     "output_type": "stream",
     "text": [
      "Transpiled and saved: circuits/35/transpiled_circuit_Q.qpy\n"
     ]
    },
    {
     "name": "stdout",
     "output_type": "stream",
     "text": [
      "Transpiled and saved: circuits/36/transpiled_circuit_A.qpy\n"
     ]
    },
    {
     "name": "stdout",
     "output_type": "stream",
     "text": [
      "Transpiled and saved: circuits/36/transpiled_circuit_Q.qpy\n"
     ]
    },
    {
     "name": "stdout",
     "output_type": "stream",
     "text": [
      "Transpiled and saved: circuits/37/transpiled_circuit_A.qpy\n"
     ]
    },
    {
     "name": "stdout",
     "output_type": "stream",
     "text": [
      "Transpiled and saved: circuits/37/transpiled_circuit_Q.qpy\n"
     ]
    },
    {
     "name": "stdout",
     "output_type": "stream",
     "text": [
      "Transpiled and saved: circuits/38/transpiled_circuit_A.qpy\n"
     ]
    },
    {
     "name": "stdout",
     "output_type": "stream",
     "text": [
      "Transpiled and saved: circuits/38/transpiled_circuit_Q.qpy\n"
     ]
    },
    {
     "name": "stdout",
     "output_type": "stream",
     "text": [
      "Transpiled and saved: circuits/39/transpiled_circuit_A.qpy\n"
     ]
    },
    {
     "name": "stdout",
     "output_type": "stream",
     "text": [
      "Transpiled and saved: circuits/39/transpiled_circuit_Q.qpy\n"
     ]
    },
    {
     "name": "stdout",
     "output_type": "stream",
     "text": [
      "Transpiled and saved: circuits/4/transpiled_circuit_A.qpy\n"
     ]
    },
    {
     "name": "stdout",
     "output_type": "stream",
     "text": [
      "Transpiled and saved: circuits/4/transpiled_circuit_Q.qpy\n"
     ]
    },
    {
     "name": "stdout",
     "output_type": "stream",
     "text": [
      "Transpiled and saved: circuits/40/transpiled_circuit_A.qpy\n"
     ]
    },
    {
     "name": "stdout",
     "output_type": "stream",
     "text": [
      "Transpiled and saved: circuits/40/transpiled_circuit_Q.qpy\n"
     ]
    },
    {
     "name": "stdout",
     "output_type": "stream",
     "text": [
      "Transpiled and saved: circuits/41/transpiled_circuit_A.qpy\n"
     ]
    },
    {
     "name": "stdout",
     "output_type": "stream",
     "text": [
      "Transpiled and saved: circuits/41/transpiled_circuit_Q.qpy\n"
     ]
    },
    {
     "name": "stdout",
     "output_type": "stream",
     "text": [
      "Transpiled and saved: circuits/42/transpiled_circuit_A.qpy\n"
     ]
    },
    {
     "name": "stdout",
     "output_type": "stream",
     "text": [
      "Transpiled and saved: circuits/42/transpiled_circuit_Q.qpy\n"
     ]
    },
    {
     "name": "stdout",
     "output_type": "stream",
     "text": [
      "Transpiled and saved: circuits/43/transpiled_circuit_A.qpy\n"
     ]
    },
    {
     "name": "stdout",
     "output_type": "stream",
     "text": [
      "Transpiled and saved: circuits/43/transpiled_circuit_Q.qpy\n"
     ]
    },
    {
     "name": "stdout",
     "output_type": "stream",
     "text": [
      "Transpiled and saved: circuits/44/transpiled_circuit_A.qpy\n"
     ]
    },
    {
     "name": "stdout",
     "output_type": "stream",
     "text": [
      "Transpiled and saved: circuits/44/transpiled_circuit_Q.qpy\n"
     ]
    },
    {
     "name": "stdout",
     "output_type": "stream",
     "text": [
      "Transpiled and saved: circuits/45/transpiled_circuit_A.qpy\n"
     ]
    },
    {
     "name": "stdout",
     "output_type": "stream",
     "text": [
      "Transpiled and saved: circuits/45/transpiled_circuit_Q.qpy\n"
     ]
    },
    {
     "name": "stdout",
     "output_type": "stream",
     "text": [
      "Transpiled and saved: circuits/46/transpiled_circuit_A.qpy\n"
     ]
    },
    {
     "name": "stdout",
     "output_type": "stream",
     "text": [
      "Transpiled and saved: circuits/46/transpiled_circuit_Q.qpy\n"
     ]
    },
    {
     "name": "stdout",
     "output_type": "stream",
     "text": [
      "Transpiled and saved: circuits/47/transpiled_circuit_A.qpy\n"
     ]
    },
    {
     "name": "stdout",
     "output_type": "stream",
     "text": [
      "Transpiled and saved: circuits/47/transpiled_circuit_Q.qpy\n"
     ]
    },
    {
     "name": "stdout",
     "output_type": "stream",
     "text": [
      "Transpiled and saved: circuits/48/transpiled_circuit_A.qpy\n"
     ]
    },
    {
     "name": "stdout",
     "output_type": "stream",
     "text": [
      "Transpiled and saved: circuits/48/transpiled_circuit_Q.qpy\n"
     ]
    },
    {
     "name": "stdout",
     "output_type": "stream",
     "text": [
      "Transpiled and saved: circuits/49/transpiled_circuit_A.qpy\n"
     ]
    },
    {
     "name": "stdout",
     "output_type": "stream",
     "text": [
      "Transpiled and saved: circuits/49/transpiled_circuit_Q.qpy\n"
     ]
    },
    {
     "name": "stdout",
     "output_type": "stream",
     "text": [
      "Transpiled and saved: circuits/5/transpiled_circuit_A.qpy\n"
     ]
    },
    {
     "name": "stdout",
     "output_type": "stream",
     "text": [
      "Transpiled and saved: circuits/5/transpiled_circuit_Q.qpy\n"
     ]
    },
    {
     "name": "stdout",
     "output_type": "stream",
     "text": [
      "Transpiled and saved: circuits/50/transpiled_circuit_A.qpy\n"
     ]
    },
    {
     "name": "stdout",
     "output_type": "stream",
     "text": [
      "Transpiled and saved: circuits/50/transpiled_circuit_Q.qpy\n"
     ]
    },
    {
     "name": "stdout",
     "output_type": "stream",
     "text": [
      "Transpiled and saved: circuits/51/transpiled_circuit_A.qpy\n"
     ]
    },
    {
     "name": "stdout",
     "output_type": "stream",
     "text": [
      "Transpiled and saved: circuits/51/transpiled_circuit_Q.qpy\n"
     ]
    },
    {
     "name": "stdout",
     "output_type": "stream",
     "text": [
      "Transpiled and saved: circuits/52/transpiled_circuit_A.qpy\n"
     ]
    },
    {
     "name": "stdout",
     "output_type": "stream",
     "text": [
      "Transpiled and saved: circuits/52/transpiled_circuit_Q.qpy\n"
     ]
    },
    {
     "name": "stdout",
     "output_type": "stream",
     "text": [
      "Transpiled and saved: circuits/53/transpiled_circuit_A.qpy\n"
     ]
    },
    {
     "name": "stdout",
     "output_type": "stream",
     "text": [
      "Transpiled and saved: circuits/53/transpiled_circuit_Q.qpy\n"
     ]
    },
    {
     "name": "stdout",
     "output_type": "stream",
     "text": [
      "Transpiled and saved: circuits/54/transpiled_circuit_A.qpy\n"
     ]
    },
    {
     "name": "stdout",
     "output_type": "stream",
     "text": [
      "Transpiled and saved: circuits/54/transpiled_circuit_Q.qpy\n"
     ]
    },
    {
     "name": "stdout",
     "output_type": "stream",
     "text": [
      "Transpiled and saved: circuits/55/transpiled_circuit_A.qpy\n"
     ]
    },
    {
     "name": "stdout",
     "output_type": "stream",
     "text": [
      "Transpiled and saved: circuits/55/transpiled_circuit_Q.qpy\n"
     ]
    },
    {
     "name": "stdout",
     "output_type": "stream",
     "text": [
      "Transpiled and saved: circuits/56/transpiled_circuit_A.qpy\n"
     ]
    },
    {
     "name": "stdout",
     "output_type": "stream",
     "text": [
      "Transpiled and saved: circuits/56/transpiled_circuit_Q.qpy\n"
     ]
    },
    {
     "name": "stdout",
     "output_type": "stream",
     "text": [
      "Transpiled and saved: circuits/57/transpiled_circuit_A.qpy\n"
     ]
    },
    {
     "name": "stdout",
     "output_type": "stream",
     "text": [
      "Transpiled and saved: circuits/57/transpiled_circuit_Q.qpy\n"
     ]
    },
    {
     "name": "stdout",
     "output_type": "stream",
     "text": [
      "Transpiled and saved: circuits/58/transpiled_circuit_A.qpy\n"
     ]
    },
    {
     "name": "stdout",
     "output_type": "stream",
     "text": [
      "Transpiled and saved: circuits/58/transpiled_circuit_Q.qpy\n"
     ]
    },
    {
     "name": "stdout",
     "output_type": "stream",
     "text": [
      "Transpiled and saved: circuits/59/transpiled_circuit_A.qpy\n"
     ]
    },
    {
     "name": "stdout",
     "output_type": "stream",
     "text": [
      "Transpiled and saved: circuits/59/transpiled_circuit_Q.qpy\n"
     ]
    },
    {
     "name": "stdout",
     "output_type": "stream",
     "text": [
      "Transpiled and saved: circuits/6/transpiled_circuit_A.qpy\n"
     ]
    },
    {
     "name": "stdout",
     "output_type": "stream",
     "text": [
      "Transpiled and saved: circuits/6/transpiled_circuit_Q.qpy\n"
     ]
    },
    {
     "name": "stdout",
     "output_type": "stream",
     "text": [
      "Transpiled and saved: circuits/60/transpiled_circuit_A.qpy\n"
     ]
    },
    {
     "name": "stdout",
     "output_type": "stream",
     "text": [
      "Transpiled and saved: circuits/60/transpiled_circuit_Q.qpy\n"
     ]
    },
    {
     "name": "stdout",
     "output_type": "stream",
     "text": [
      "Transpiled and saved: circuits/61/transpiled_circuit_A.qpy\n"
     ]
    },
    {
     "name": "stdout",
     "output_type": "stream",
     "text": [
      "Transpiled and saved: circuits/61/transpiled_circuit_Q.qpy\n"
     ]
    },
    {
     "name": "stdout",
     "output_type": "stream",
     "text": [
      "Transpiled and saved: circuits/62/transpiled_circuit_A.qpy\n"
     ]
    },
    {
     "name": "stdout",
     "output_type": "stream",
     "text": [
      "Transpiled and saved: circuits/62/transpiled_circuit_Q.qpy\n"
     ]
    },
    {
     "name": "stdout",
     "output_type": "stream",
     "text": [
      "Transpiled and saved: circuits/63/transpiled_circuit_A.qpy\n"
     ]
    },
    {
     "name": "stdout",
     "output_type": "stream",
     "text": [
      "Transpiled and saved: circuits/63/transpiled_circuit_Q.qpy\n"
     ]
    },
    {
     "name": "stdout",
     "output_type": "stream",
     "text": [
      "Transpiled and saved: circuits/64/transpiled_circuit_A.qpy\n"
     ]
    },
    {
     "name": "stdout",
     "output_type": "stream",
     "text": [
      "Transpiled and saved: circuits/64/transpiled_circuit_Q.qpy\n"
     ]
    },
    {
     "name": "stdout",
     "output_type": "stream",
     "text": [
      "Transpiled and saved: circuits/65/transpiled_circuit_A.qpy\n"
     ]
    },
    {
     "name": "stdout",
     "output_type": "stream",
     "text": [
      "Transpiled and saved: circuits/65/transpiled_circuit_Q.qpy\n"
     ]
    },
    {
     "name": "stdout",
     "output_type": "stream",
     "text": [
      "Transpiled and saved: circuits/66/transpiled_circuit_A.qpy\n"
     ]
    },
    {
     "name": "stdout",
     "output_type": "stream",
     "text": [
      "Transpiled and saved: circuits/66/transpiled_circuit_Q.qpy\n"
     ]
    },
    {
     "name": "stdout",
     "output_type": "stream",
     "text": [
      "Transpiled and saved: circuits/67/transpiled_circuit_A.qpy\n"
     ]
    },
    {
     "name": "stdout",
     "output_type": "stream",
     "text": [
      "Transpiled and saved: circuits/67/transpiled_circuit_Q.qpy\n"
     ]
    },
    {
     "name": "stdout",
     "output_type": "stream",
     "text": [
      "Transpiled and saved: circuits/68/transpiled_circuit_A.qpy\n"
     ]
    },
    {
     "name": "stdout",
     "output_type": "stream",
     "text": [
      "Transpiled and saved: circuits/68/transpiled_circuit_Q.qpy\n"
     ]
    },
    {
     "name": "stdout",
     "output_type": "stream",
     "text": [
      "Transpiled and saved: circuits/69/transpiled_circuit_A.qpy\n"
     ]
    },
    {
     "name": "stdout",
     "output_type": "stream",
     "text": [
      "Transpiled and saved: circuits/69/transpiled_circuit_Q.qpy\n"
     ]
    },
    {
     "name": "stdout",
     "output_type": "stream",
     "text": [
      "Transpiled and saved: circuits/7/transpiled_circuit_A.qpy\n"
     ]
    },
    {
     "name": "stdout",
     "output_type": "stream",
     "text": [
      "Transpiled and saved: circuits/7/transpiled_circuit_Q.qpy\n"
     ]
    },
    {
     "name": "stdout",
     "output_type": "stream",
     "text": [
      "Transpiled and saved: circuits/70/transpiled_circuit_A.qpy\n"
     ]
    },
    {
     "name": "stdout",
     "output_type": "stream",
     "text": [
      "Transpiled and saved: circuits/70/transpiled_circuit_Q.qpy\n"
     ]
    },
    {
     "name": "stdout",
     "output_type": "stream",
     "text": [
      "Transpiled and saved: circuits/71/transpiled_circuit_A.qpy\n"
     ]
    },
    {
     "name": "stdout",
     "output_type": "stream",
     "text": [
      "Transpiled and saved: circuits/71/transpiled_circuit_Q.qpy\n"
     ]
    },
    {
     "name": "stdout",
     "output_type": "stream",
     "text": [
      "Transpiled and saved: circuits/72/transpiled_circuit_A.qpy\n"
     ]
    },
    {
     "name": "stdout",
     "output_type": "stream",
     "text": [
      "Transpiled and saved: circuits/72/transpiled_circuit_Q.qpy\n"
     ]
    },
    {
     "name": "stdout",
     "output_type": "stream",
     "text": [
      "Transpiled and saved: circuits/73/transpiled_circuit_A.qpy\n"
     ]
    },
    {
     "name": "stdout",
     "output_type": "stream",
     "text": [
      "Transpiled and saved: circuits/73/transpiled_circuit_Q.qpy\n"
     ]
    },
    {
     "name": "stdout",
     "output_type": "stream",
     "text": [
      "Transpiled and saved: circuits/74/transpiled_circuit_A.qpy\n"
     ]
    },
    {
     "name": "stdout",
     "output_type": "stream",
     "text": [
      "Transpiled and saved: circuits/74/transpiled_circuit_Q.qpy\n"
     ]
    },
    {
     "name": "stdout",
     "output_type": "stream",
     "text": [
      "Transpiled and saved: circuits/75/transpiled_circuit_A.qpy\n"
     ]
    },
    {
     "name": "stdout",
     "output_type": "stream",
     "text": [
      "Transpiled and saved: circuits/75/transpiled_circuit_Q.qpy\n"
     ]
    },
    {
     "name": "stdout",
     "output_type": "stream",
     "text": [
      "Transpiled and saved: circuits/76/transpiled_circuit_A.qpy\n"
     ]
    },
    {
     "name": "stdout",
     "output_type": "stream",
     "text": [
      "Transpiled and saved: circuits/76/transpiled_circuit_Q.qpy\n"
     ]
    },
    {
     "name": "stdout",
     "output_type": "stream",
     "text": [
      "Transpiled and saved: circuits/77/transpiled_circuit_A.qpy\n"
     ]
    },
    {
     "name": "stdout",
     "output_type": "stream",
     "text": [
      "Transpiled and saved: circuits/77/transpiled_circuit_Q.qpy\n"
     ]
    },
    {
     "name": "stdout",
     "output_type": "stream",
     "text": [
      "Transpiled and saved: circuits/78/transpiled_circuit_A.qpy\n"
     ]
    },
    {
     "name": "stdout",
     "output_type": "stream",
     "text": [
      "Transpiled and saved: circuits/78/transpiled_circuit_Q.qpy\n"
     ]
    },
    {
     "name": "stdout",
     "output_type": "stream",
     "text": [
      "Transpiled and saved: circuits/79/transpiled_circuit_A.qpy\n"
     ]
    },
    {
     "name": "stdout",
     "output_type": "stream",
     "text": [
      "Transpiled and saved: circuits/79/transpiled_circuit_Q.qpy\n"
     ]
    },
    {
     "name": "stdout",
     "output_type": "stream",
     "text": [
      "Transpiled and saved: circuits/8/transpiled_circuit_A.qpy\n"
     ]
    },
    {
     "name": "stdout",
     "output_type": "stream",
     "text": [
      "Transpiled and saved: circuits/8/transpiled_circuit_Q.qpy\n"
     ]
    },
    {
     "name": "stdout",
     "output_type": "stream",
     "text": [
      "Transpiled and saved: circuits/80/transpiled_circuit_A.qpy\n"
     ]
    },
    {
     "name": "stdout",
     "output_type": "stream",
     "text": [
      "Transpiled and saved: circuits/80/transpiled_circuit_Q.qpy\n"
     ]
    },
    {
     "name": "stdout",
     "output_type": "stream",
     "text": [
      "Transpiled and saved: circuits/81/transpiled_circuit_A.qpy\n"
     ]
    },
    {
     "name": "stdout",
     "output_type": "stream",
     "text": [
      "Transpiled and saved: circuits/81/transpiled_circuit_Q.qpy\n"
     ]
    },
    {
     "name": "stdout",
     "output_type": "stream",
     "text": [
      "Transpiled and saved: circuits/82/transpiled_circuit_A.qpy\n"
     ]
    },
    {
     "name": "stdout",
     "output_type": "stream",
     "text": [
      "Transpiled and saved: circuits/82/transpiled_circuit_Q.qpy\n"
     ]
    },
    {
     "name": "stdout",
     "output_type": "stream",
     "text": [
      "Transpiled and saved: circuits/83/transpiled_circuit_A.qpy\n"
     ]
    },
    {
     "name": "stdout",
     "output_type": "stream",
     "text": [
      "Transpiled and saved: circuits/83/transpiled_circuit_Q.qpy\n"
     ]
    },
    {
     "name": "stdout",
     "output_type": "stream",
     "text": [
      "Transpiled and saved: circuits/84/transpiled_circuit_A.qpy\n"
     ]
    },
    {
     "name": "stdout",
     "output_type": "stream",
     "text": [
      "Transpiled and saved: circuits/84/transpiled_circuit_Q.qpy\n"
     ]
    },
    {
     "name": "stdout",
     "output_type": "stream",
     "text": [
      "Transpiled and saved: circuits/85/transpiled_circuit_A.qpy\n"
     ]
    },
    {
     "name": "stdout",
     "output_type": "stream",
     "text": [
      "Transpiled and saved: circuits/85/transpiled_circuit_Q.qpy\n"
     ]
    },
    {
     "name": "stdout",
     "output_type": "stream",
     "text": [
      "Transpiled and saved: circuits/86/transpiled_circuit_A.qpy\n"
     ]
    },
    {
     "name": "stdout",
     "output_type": "stream",
     "text": [
      "Transpiled and saved: circuits/86/transpiled_circuit_Q.qpy\n"
     ]
    },
    {
     "name": "stdout",
     "output_type": "stream",
     "text": [
      "Transpiled and saved: circuits/87/transpiled_circuit_A.qpy\n"
     ]
    },
    {
     "name": "stdout",
     "output_type": "stream",
     "text": [
      "Transpiled and saved: circuits/87/transpiled_circuit_Q.qpy\n"
     ]
    },
    {
     "name": "stdout",
     "output_type": "stream",
     "text": [
      "Transpiled and saved: circuits/88/transpiled_circuit_A.qpy\n"
     ]
    },
    {
     "name": "stdout",
     "output_type": "stream",
     "text": [
      "Transpiled and saved: circuits/88/transpiled_circuit_Q.qpy\n"
     ]
    },
    {
     "name": "stdout",
     "output_type": "stream",
     "text": [
      "Transpiled and saved: circuits/89/transpiled_circuit_A.qpy\n"
     ]
    },
    {
     "name": "stdout",
     "output_type": "stream",
     "text": [
      "Transpiled and saved: circuits/89/transpiled_circuit_Q.qpy\n"
     ]
    },
    {
     "name": "stdout",
     "output_type": "stream",
     "text": [
      "Transpiled and saved: circuits/9/transpiled_circuit_A.qpy\n"
     ]
    },
    {
     "name": "stdout",
     "output_type": "stream",
     "text": [
      "Transpiled and saved: circuits/9/transpiled_circuit_Q.qpy\n"
     ]
    },
    {
     "name": "stdout",
     "output_type": "stream",
     "text": [
      "Transpiled and saved: circuits/90/transpiled_circuit_A.qpy\n"
     ]
    },
    {
     "name": "stdout",
     "output_type": "stream",
     "text": [
      "Transpiled and saved: circuits/90/transpiled_circuit_Q.qpy\n"
     ]
    },
    {
     "name": "stdout",
     "output_type": "stream",
     "text": [
      "Transpiled and saved: circuits/91/transpiled_circuit_A.qpy\n"
     ]
    },
    {
     "name": "stdout",
     "output_type": "stream",
     "text": [
      "Transpiled and saved: circuits/91/transpiled_circuit_Q.qpy\n"
     ]
    },
    {
     "name": "stdout",
     "output_type": "stream",
     "text": [
      "Transpiled and saved: circuits/92/transpiled_circuit_A.qpy\n"
     ]
    },
    {
     "name": "stdout",
     "output_type": "stream",
     "text": [
      "Transpiled and saved: circuits/92/transpiled_circuit_Q.qpy\n"
     ]
    },
    {
     "name": "stdout",
     "output_type": "stream",
     "text": [
      "Transpiled and saved: circuits/93/transpiled_circuit_A.qpy\n"
     ]
    },
    {
     "name": "stdout",
     "output_type": "stream",
     "text": [
      "Transpiled and saved: circuits/93/transpiled_circuit_Q.qpy\n"
     ]
    },
    {
     "name": "stdout",
     "output_type": "stream",
     "text": [
      "Transpiled and saved: circuits/94/transpiled_circuit_A.qpy\n"
     ]
    },
    {
     "name": "stdout",
     "output_type": "stream",
     "text": [
      "Transpiled and saved: circuits/94/transpiled_circuit_Q.qpy\n"
     ]
    },
    {
     "name": "stdout",
     "output_type": "stream",
     "text": [
      "Transpiled and saved: circuits/95/transpiled_circuit_A.qpy\n"
     ]
    },
    {
     "name": "stdout",
     "output_type": "stream",
     "text": [
      "Transpiled and saved: circuits/95/transpiled_circuit_Q.qpy\n"
     ]
    },
    {
     "name": "stdout",
     "output_type": "stream",
     "text": [
      "Transpiled and saved: circuits/96/transpiled_circuit_A.qpy\n"
     ]
    },
    {
     "name": "stdout",
     "output_type": "stream",
     "text": [
      "Transpiled and saved: circuits/96/transpiled_circuit_Q.qpy\n"
     ]
    },
    {
     "name": "stdout",
     "output_type": "stream",
     "text": [
      "Transpiled and saved: circuits/97/transpiled_circuit_A.qpy\n"
     ]
    },
    {
     "name": "stdout",
     "output_type": "stream",
     "text": [
      "Transpiled and saved: circuits/97/transpiled_circuit_Q.qpy\n"
     ]
    },
    {
     "name": "stdout",
     "output_type": "stream",
     "text": [
      "Transpiled and saved: circuits/98/transpiled_circuit_A.qpy\n"
     ]
    },
    {
     "name": "stdout",
     "output_type": "stream",
     "text": [
      "Transpiled and saved: circuits/98/transpiled_circuit_Q.qpy\n"
     ]
    },
    {
     "name": "stdout",
     "output_type": "stream",
     "text": [
      "Transpiled and saved: circuits/99/transpiled_circuit_A.qpy\n"
     ]
    },
    {
     "name": "stdout",
     "output_type": "stream",
     "text": [
      "Transpiled and saved: circuits/99/transpiled_circuit_Q.qpy\n",
      "All circuits have been transpiled and saved.\n"
     ]
    },
    {
     "name": "stdout",
     "output_type": "stream",
     "text": [
      "For the 1th Pauli string:\n",
      "  The depth of circuit A is 127\n",
      "  The depth of circuit Q is 256\n",
      "For the 2th Pauli string:\n",
      "  The depth of circuit A is 126\n",
      "  The depth of circuit Q is 254\n",
      "For the 3th Pauli string:\n",
      "  The depth of circuit A is 125\n",
      "  The depth of circuit Q is 251\n",
      "For the 4th Pauli string:\n",
      "  The depth of circuit A is 125\n",
      "  The depth of circuit Q is 251\n",
      "For the 5th Pauli string:\n",
      "  The depth of circuit A is 127\n",
      "  The depth of circuit Q is 255\n",
      "For the 6th Pauli string:\n",
      "  The depth of circuit A is 125\n",
      "  The depth of circuit Q is 251\n",
      "For the 7th Pauli string:\n",
      "  The depth of circuit A is 128\n",
      "  The depth of circuit Q is 257\n",
      "For the 8th Pauli string:\n",
      "  The depth of circuit A is 127\n",
      "  The depth of circuit Q is 256\n",
      "For the 9th Pauli string:\n",
      "  The depth of circuit A is 127\n",
      "  The depth of circuit Q is 258\n",
      "For the 10th Pauli string:\n",
      "  The depth of circuit A is 125\n",
      "  The depth of circuit Q is 252\n",
      "For the 11th Pauli string:\n",
      "  The depth of circuit A is 128\n",
      "  The depth of circuit Q is 260\n",
      "For the 12th Pauli string:\n",
      "  The depth of circuit A is 125\n",
      "  The depth of circuit Q is 251\n",
      "For the 13th Pauli string:\n",
      "  The depth of circuit A is 127\n",
      "  The depth of circuit Q is 256\n",
      "For the 14th Pauli string:\n",
      "  The depth of circuit A is 125\n",
      "  The depth of circuit Q is 253\n",
      "For the 15th Pauli string:\n",
      "  The depth of circuit A is 128\n",
      "  The depth of circuit Q is 259\n",
      "For the 16th Pauli string:\n",
      "  The depth of circuit A is 125\n",
      "  The depth of circuit Q is 252\n",
      "For the 17th Pauli string:\n",
      "  The depth of circuit A is 127\n",
      "  The depth of circuit Q is 257\n",
      "For the 18th Pauli string:\n",
      "  The depth of circuit A is 128\n",
      "  The depth of circuit Q is 258\n",
      "For the 19th Pauli string:\n",
      "  The depth of circuit A is 126\n",
      "  The depth of circuit Q is 255\n",
      "For the 20th Pauli string:\n",
      "  The depth of circuit A is 127\n",
      "  The depth of circuit Q is 257\n",
      "For the 21th Pauli string:\n",
      "  The depth of circuit A is 127\n",
      "  The depth of circuit Q is 257\n",
      "For the 22th Pauli string:\n",
      "  The depth of circuit A is 128\n",
      "  The depth of circuit Q is 261\n",
      "For the 23th Pauli string:\n",
      "  The depth of circuit A is 127\n",
      "  The depth of circuit Q is 258\n",
      "For the 24th Pauli string:\n",
      "  The depth of circuit A is 127\n",
      "  The depth of circuit Q is 258\n",
      "For the 25th Pauli string:\n",
      "  The depth of circuit A is 126\n",
      "  The depth of circuit Q is 254\n",
      "For the 26th Pauli string:\n",
      "  The depth of circuit A is 127\n",
      "  The depth of circuit Q is 259\n",
      "For the 27th Pauli string:\n",
      "  The depth of circuit A is 127\n",
      "  The depth of circuit Q is 257\n",
      "For the 28th Pauli string:\n",
      "  The depth of circuit A is 128\n",
      "  The depth of circuit Q is 262\n",
      "For the 29th Pauli string:\n",
      "  The depth of circuit A is 126\n",
      "  The depth of circuit Q is 255\n",
      "For the 30th Pauli string:\n",
      "  The depth of circuit A is 127\n",
      "  The depth of circuit Q is 258\n",
      "For the 31th Pauli string:\n",
      "  The depth of circuit A is 127\n",
      "  The depth of circuit Q is 256\n",
      "For the 32th Pauli string:\n",
      "  The depth of circuit A is 126\n",
      "  The depth of circuit Q is 256\n",
      "For the 33th Pauli string:\n",
      "  The depth of circuit A is 128\n",
      "  The depth of circuit Q is 259\n",
      "For the 34th Pauli string:\n",
      "  The depth of circuit A is 128\n",
      "  The depth of circuit Q is 258\n",
      "For the 35th Pauli string:\n",
      "  The depth of circuit A is 127\n",
      "  The depth of circuit Q is 257\n",
      "For the 36th Pauli string:\n",
      "  The depth of circuit A is 128\n",
      "  The depth of circuit Q is 258\n",
      "For the 37th Pauli string:\n",
      "  The depth of circuit A is 127\n",
      "  The depth of circuit Q is 258\n",
      "For the 38th Pauli string:\n",
      "  The depth of circuit A is 125\n",
      "  The depth of circuit Q is 251\n",
      "For the 39th Pauli string:\n",
      "  The depth of circuit A is 128\n",
      "  The depth of circuit Q is 260\n",
      "For the 40th Pauli string:\n",
      "  The depth of circuit A is 127\n",
      "  The depth of circuit Q is 257\n",
      "For the 41th Pauli string:\n",
      "  The depth of circuit A is 127\n",
      "  The depth of circuit Q is 258\n",
      "For the 42th Pauli string:\n",
      "  The depth of circuit A is 125\n",
      "  The depth of circuit Q is 254\n",
      "For the 43th Pauli string:\n",
      "  The depth of circuit A is 128\n",
      "  The depth of circuit Q is 259\n",
      "For the 44th Pauli string:\n",
      "  The depth of circuit A is 127\n",
      "  The depth of circuit Q is 256\n",
      "For the 45th Pauli string:\n",
      "  The depth of circuit A is 127\n",
      "  The depth of circuit Q is 258\n",
      "For the 46th Pauli string:\n",
      "  The depth of circuit A is 128\n",
      "  The depth of circuit Q is 259\n",
      "For the 47th Pauli string:\n",
      "  The depth of circuit A is 125\n",
      "  The depth of circuit Q is 251\n",
      "For the 48th Pauli string:\n",
      "  The depth of circuit A is 127\n",
      "  The depth of circuit Q is 255\n",
      "For the 49th Pauli string:\n",
      "  The depth of circuit A is 128\n",
      "  The depth of circuit Q is 260\n",
      "For the 50th Pauli string:\n",
      "  The depth of circuit A is 127\n",
      "  The depth of circuit Q is 258\n",
      "For the 51th Pauli string:\n",
      "  The depth of circuit A is 128\n",
      "  The depth of circuit Q is 260\n",
      "For the 52th Pauli string:\n",
      "  The depth of circuit A is 128\n",
      "  The depth of circuit Q is 259\n",
      "For the 53th Pauli string:\n",
      "  The depth of circuit A is 127\n",
      "  The depth of circuit Q is 257\n",
      "For the 54th Pauli string:\n",
      "  The depth of circuit A is 125\n",
      "  The depth of circuit Q is 251\n",
      "For the 55th Pauli string:\n",
      "  The depth of circuit A is 128\n",
      "  The depth of circuit Q is 261\n",
      "For the 56th Pauli string:\n",
      "  The depth of circuit A is 128\n",
      "  The depth of circuit Q is 262\n",
      "For the 57th Pauli string:\n",
      "  The depth of circuit A is 127\n",
      "  The depth of circuit Q is 257\n",
      "For the 58th Pauli string:\n",
      "  The depth of circuit A is 127\n",
      "  The depth of circuit Q is 258\n",
      "For the 59th Pauli string:\n",
      "  The depth of circuit A is 125\n",
      "  The depth of circuit Q is 252\n",
      "For the 60th Pauli string:\n",
      "  The depth of circuit A is 125\n",
      "  The depth of circuit Q is 251\n",
      "For the 61th Pauli string:\n",
      "  The depth of circuit A is 128\n",
      "  The depth of circuit Q is 262\n",
      "For the 62th Pauli string:\n",
      "  The depth of circuit A is 127\n",
      "  The depth of circuit Q is 260\n",
      "For the 63th Pauli string:\n",
      "  The depth of circuit A is 127\n",
      "  The depth of circuit Q is 257\n",
      "For the 64th Pauli string:\n",
      "  The depth of circuit A is 128\n",
      "  The depth of circuit Q is 259\n",
      "For the 65th Pauli string:\n",
      "  The depth of circuit A is 128\n",
      "  The depth of circuit Q is 257\n",
      "For the 66th Pauli string:\n",
      "  The depth of circuit A is 127\n",
      "  The depth of circuit Q is 255\n",
      "For the 67th Pauli string:\n",
      "  The depth of circuit A is 125\n",
      "  The depth of circuit Q is 254\n",
      "For the 68th Pauli string:\n",
      "  The depth of circuit A is 125\n",
      "  The depth of circuit Q is 252\n",
      "For the 69th Pauli string:\n",
      "  The depth of circuit A is 125\n",
      "  The depth of circuit Q is 253\n",
      "For the 70th Pauli string:\n",
      "  The depth of circuit A is 125\n",
      "  The depth of circuit Q is 251\n",
      "For the 71th Pauli string:\n",
      "  The depth of circuit A is 128\n",
      "  The depth of circuit Q is 259\n",
      "For the 72th Pauli string:\n",
      "  The depth of circuit A is 127\n",
      "  The depth of circuit Q is 257\n",
      "For the 73th Pauli string:\n",
      "  The depth of circuit A is 128\n",
      "  The depth of circuit Q is 258\n",
      "For the 74th Pauli string:\n",
      "  The depth of circuit A is 127\n",
      "  The depth of circuit Q is 256\n",
      "For the 75th Pauli string:\n",
      "  The depth of circuit A is 127\n",
      "  The depth of circuit Q is 259\n",
      "For the 76th Pauli string:\n",
      "  The depth of circuit A is 126\n",
      "  The depth of circuit Q is 256\n",
      "For the 77th Pauli string:\n",
      "  The depth of circuit A is 128\n",
      "  The depth of circuit Q is 260\n",
      "For the 78th Pauli string:\n",
      "  The depth of circuit A is 128\n",
      "  The depth of circuit Q is 259\n",
      "For the 79th Pauli string:\n",
      "  The depth of circuit A is 128\n",
      "  The depth of circuit Q is 262\n",
      "For the 80th Pauli string:\n",
      "  The depth of circuit A is 127\n",
      "  The depth of circuit Q is 258\n",
      "For the 81th Pauli string:\n",
      "  The depth of circuit A is 128\n",
      "  The depth of circuit Q is 260\n",
      "For the 82th Pauli string:\n",
      "  The depth of circuit A is 128\n",
      "  The depth of circuit Q is 259\n",
      "For the 83th Pauli string:\n",
      "  The depth of circuit A is 128\n",
      "  The depth of circuit Q is 260\n",
      "For the 84th Pauli string:\n",
      "  The depth of circuit A is 127\n",
      "  The depth of circuit Q is 258\n",
      "For the 85th Pauli string:\n",
      "  The depth of circuit A is 125\n",
      "  The depth of circuit Q is 251\n",
      "For the 86th Pauli string:\n",
      "  The depth of circuit A is 128\n",
      "  The depth of circuit Q is 260\n",
      "For the 87th Pauli string:\n",
      "  The depth of circuit A is 127\n",
      "  The depth of circuit Q is 257\n",
      "For the 88th Pauli string:\n",
      "  The depth of circuit A is 128\n",
      "  The depth of circuit Q is 259\n",
      "For the 89th Pauli string:\n",
      "  The depth of circuit A is 127\n",
      "  The depth of circuit Q is 257\n",
      "For the 90th Pauli string:\n",
      "  The depth of circuit A is 128\n",
      "  The depth of circuit Q is 259\n",
      "For the 91th Pauli string:\n",
      "  The depth of circuit A is 128\n",
      "  The depth of circuit Q is 262\n",
      "For the 92th Pauli string:\n",
      "  The depth of circuit A is 127\n",
      "  The depth of circuit Q is 259\n",
      "For the 93th Pauli string:\n",
      "  The depth of circuit A is 128\n",
      "  The depth of circuit Q is 261\n",
      "For the 94th Pauli string:\n",
      "  The depth of circuit A is 127\n",
      "  The depth of circuit Q is 258\n",
      "For the 95th Pauli string:\n",
      "  The depth of circuit A is 128\n",
      "  The depth of circuit Q is 261\n",
      "For the 96th Pauli string:\n",
      "  The depth of circuit A is 127\n",
      "  The depth of circuit Q is 258\n",
      "For the 97th Pauli string:\n",
      "  The depth of circuit A is 128\n",
      "  The depth of circuit Q is 260\n",
      "For the 98th Pauli string:\n",
      "  The depth of circuit A is 127\n",
      "  The depth of circuit Q is 257\n",
      "For the 99th Pauli string:\n",
      "  The depth of circuit A is 128\n",
      "  The depth of circuit Q is 260\n",
      "For the 100th Pauli string:\n",
      "  The depth of circuit A is 128\n",
      "  The depth of circuit Q is 259\n",
      "For the 101th Pauli string:\n",
      "  The depth of circuit A is 127\n",
      "  The depth of circuit Q is 257\n",
      "For the 102th Pauli string:\n",
      "  The depth of circuit A is 127\n",
      "  The depth of circuit Q is 258\n",
      "For the 103th Pauli string:\n",
      "  The depth of circuit A is 127\n",
      "  The depth of circuit Q is 258\n",
      "For the 104th Pauli string:\n",
      "  The depth of circuit A is 128\n",
      "  The depth of circuit Q is 261\n",
      "For the 105th Pauli string:\n",
      "  The depth of circuit A is 128\n",
      "  The depth of circuit Q is 261\n",
      "For the 106th Pauli string:\n",
      "  The depth of circuit A is 127\n",
      "  The depth of circuit Q is 258\n",
      "For the 107th Pauli string:\n",
      "  The depth of circuit A is 127\n",
      "  The depth of circuit Q is 257\n",
      "For the 108th Pauli string:\n",
      "  The depth of circuit A is 125\n",
      "  The depth of circuit Q is 251\n",
      "For the 109th Pauli string:\n",
      "  The depth of circuit A is 128\n",
      "  The depth of circuit Q is 259\n",
      "For the 110th Pauli string:\n",
      "  The depth of circuit A is 127\n",
      "  The depth of circuit Q is 256\n",
      "For the 111th Pauli string:\n",
      "  The depth of circuit A is 128\n",
      "  The depth of circuit Q is 262\n",
      "For the 112th Pauli string:\n",
      "  The depth of circuit A is 128\n",
      "  The depth of circuit Q is 261\n",
      "For the 113th Pauli string:\n",
      "  The depth of circuit A is 128\n",
      "  The depth of circuit Q is 261\n",
      "For the 114th Pauli string:\n",
      "  The depth of circuit A is 128\n",
      "  The depth of circuit Q is 262\n",
      "For the 115th Pauli string:\n",
      "  The depth of circuit A is 127\n",
      "  The depth of circuit Q is 260\n",
      "For the 116th Pauli string:\n",
      "  The depth of circuit A is 128\n",
      "  The depth of circuit Q is 262\n",
      "For the 117th Pauli string:\n",
      "  The depth of circuit A is 128\n",
      "  The depth of circuit Q is 262\n",
      "For the 118th Pauli string:\n",
      "  The depth of circuit A is 127\n",
      "  The depth of circuit Q is 260\n",
      "For the 119th Pauli string:\n",
      "  The depth of circuit A is 128\n",
      "  The depth of circuit Q is 260\n",
      "For the 120th Pauli string:\n",
      "  The depth of circuit A is 127\n",
      "  The depth of circuit Q is 258\n",
      "For the 121th Pauli string:\n",
      "  The depth of circuit A is 128\n",
      "  The depth of circuit Q is 260\n",
      "For the 122th Pauli string:\n",
      "  The depth of circuit A is 128\n",
      "  The depth of circuit Q is 259\n",
      "For the 123th Pauli string:\n",
      "  The depth of circuit A is 127\n",
      "  The depth of circuit Q is 258\n",
      "For the 124th Pauli string:\n",
      "  The depth of circuit A is 125\n",
      "  The depth of circuit Q is 251\n",
      "For the 125th Pauli string:\n",
      "  The depth of circuit A is 127\n",
      "  The depth of circuit Q is 257\n",
      "For the 126th Pauli string:\n",
      "  The depth of circuit A is 128\n",
      "  The depth of circuit Q is 258\n",
      "For the 127th Pauli string:\n",
      "  The depth of circuit A is 127\n",
      "  The depth of circuit Q is 258\n",
      "For the 128th Pauli string:\n",
      "  The depth of circuit A is 127\n",
      "  The depth of circuit Q is 259\n",
      "For the 129th Pauli string:\n",
      "  The depth of circuit A is 128\n",
      "  The depth of circuit Q is 260\n",
      "For the 130th Pauli string:\n",
      "  The depth of circuit A is 127\n",
      "  The depth of circuit Q is 258\n",
      "For the 131th Pauli string:\n",
      "  The depth of circuit A is 126\n",
      "  The depth of circuit Q is 256\n",
      "For the 132th Pauli string:\n",
      "  The depth of circuit A is 128\n",
      "  The depth of circuit Q is 262\n",
      "For the 133th Pauli string:\n",
      "  The depth of circuit A is 128\n",
      "  The depth of circuit Q is 260\n",
      "For the 134th Pauli string:\n",
      "  The depth of circuit A is 127\n",
      "  The depth of circuit Q is 258\n",
      "For the 135th Pauli string:\n",
      "  The depth of circuit A is 128\n",
      "  The depth of circuit Q is 262\n",
      "For the 136th Pauli string:\n",
      "  The depth of circuit A is 127\n",
      "  The depth of circuit Q is 259\n",
      "For the 137th Pauli string:\n",
      "  The depth of circuit A is 127\n",
      "  The depth of circuit Q is 259\n",
      "For the 138th Pauli string:\n",
      "  The depth of circuit A is 128\n",
      "  The depth of circuit Q is 262\n",
      "For the 139th Pauli string:\n",
      "  The depth of circuit A is 128\n",
      "  The depth of circuit Q is 261\n",
      "For the 140th Pauli string:\n",
      "  The depth of circuit A is 128\n",
      "  The depth of circuit Q is 261\n",
      "For the 141th Pauli string:\n",
      "  The depth of circuit A is 128\n",
      "  The depth of circuit Q is 261\n",
      "For the 142th Pauli string:\n",
      "  The depth of circuit A is 128\n",
      "  The depth of circuit Q is 261\n",
      "For the 143th Pauli string:\n",
      "  The depth of circuit A is 128\n",
      "  The depth of circuit Q is 262\n",
      "For the 144th Pauli string:\n",
      "  The depth of circuit A is 128\n",
      "  The depth of circuit Q is 262\n",
      "For the 145th Pauli string:\n",
      "  The depth of circuit A is 128\n",
      "  The depth of circuit Q is 262\n",
      "For the 146th Pauli string:\n",
      "  The depth of circuit A is 128\n",
      "  The depth of circuit Q is 262\n",
      "For the 147th Pauli string:\n",
      "  The depth of circuit A is 128\n",
      "  The depth of circuit Q is 259\n",
      "For the 148th Pauli string:\n",
      "  The depth of circuit A is 127\n",
      "  The depth of circuit Q is 257\n",
      "For the 149th Pauli string:\n",
      "  The depth of circuit A is 127\n",
      "  The depth of circuit Q is 258\n",
      "For the 150th Pauli string:\n",
      "  The depth of circuit A is 128\n",
      "  The depth of circuit Q is 260\n",
      "For the 151th Pauli string:\n",
      "  The depth of circuit A is 128\n",
      "  The depth of circuit Q is 262\n",
      "For the 152th Pauli string:\n",
      "  The depth of circuit A is 128\n",
      "  The depth of circuit Q is 262\n",
      "For the 153th Pauli string:\n",
      "  The depth of circuit A is 128\n",
      "  The depth of circuit Q is 261\n",
      "For the 154th Pauli string:\n",
      "  The depth of circuit A is 128\n",
      "  The depth of circuit Q is 261\n",
      "For the 155th Pauli string:\n",
      "  The depth of circuit A is 128\n",
      "  The depth of circuit Q is 259\n",
      "For the 156th Pauli string:\n",
      "  The depth of circuit A is 127\n",
      "  The depth of circuit Q is 258\n",
      "For the 157th Pauli string:\n",
      "  The depth of circuit A is 128\n",
      "  The depth of circuit Q is 259\n",
      "For the 158th Pauli string:\n",
      "  The depth of circuit A is 127\n",
      "  The depth of circuit Q is 256\n",
      "For the 159th Pauli string:\n",
      "  The depth of circuit A is 128\n",
      "  The depth of circuit Q is 260\n",
      "For the 160th Pauli string:\n",
      "  The depth of circuit A is 127\n",
      "  The depth of circuit Q is 259\n",
      "For the 161th Pauli string:\n",
      "  The depth of circuit A is 128\n",
      "  The depth of circuit Q is 260\n",
      "For the 162th Pauli string:\n",
      "  The depth of circuit A is 127\n",
      "  The depth of circuit Q is 257\n",
      "For the 163th Pauli string:\n",
      "  The depth of circuit A is 127\n",
      "  The depth of circuit Q is 259\n",
      "For the 164th Pauli string:\n",
      "  The depth of circuit A is 126\n",
      "  The depth of circuit Q is 256\n",
      "For the 165th Pauli string:\n",
      "  The depth of circuit A is 128\n",
      "  The depth of circuit Q is 261\n",
      "For the 166th Pauli string:\n",
      "  The depth of circuit A is 127\n",
      "  The depth of circuit Q is 259\n",
      "For the 167th Pauli string:\n",
      "  The depth of circuit A is 127\n",
      "  The depth of circuit Q is 258\n",
      "For the 168th Pauli string:\n",
      "  The depth of circuit A is 127\n",
      "  The depth of circuit Q is 259\n",
      "For the 169th Pauli string:\n",
      "  The depth of circuit A is 127\n",
      "  The depth of circuit Q is 259\n",
      "For the 170th Pauli string:\n",
      "  The depth of circuit A is 127\n",
      "  The depth of circuit Q is 258\n",
      "For the 171th Pauli string:\n",
      "  The depth of circuit A is 126\n",
      "  The depth of circuit Q is 253\n",
      "For the 172th Pauli string:\n",
      "  The depth of circuit A is 127\n",
      "  The depth of circuit Q is 257\n",
      "For the 173th Pauli string:\n",
      "  The depth of circuit A is 127\n",
      "  The depth of circuit Q is 258\n",
      "For the 174th Pauli string:\n",
      "  The depth of circuit A is 127\n",
      "  The depth of circuit Q is 257\n",
      "For the 175th Pauli string:\n",
      "  The depth of circuit A is 128\n",
      "  The depth of circuit Q is 260\n",
      "For the 176th Pauli string:\n",
      "  The depth of circuit A is 127\n",
      "  The depth of circuit Q is 258\n",
      "For the 177th Pauli string:\n",
      "  The depth of circuit A is 128\n",
      "  The depth of circuit Q is 259\n",
      "For the 178th Pauli string:\n",
      "  The depth of circuit A is 127\n",
      "  The depth of circuit Q is 256\n",
      "For the 179th Pauli string:\n",
      "  The depth of circuit A is 127\n",
      "  The depth of circuit Q is 257\n",
      "For the 180th Pauli string:\n",
      "  The depth of circuit A is 128\n",
      "  The depth of circuit Q is 260\n",
      "For the 181th Pauli string:\n",
      "  The depth of circuit A is 126\n",
      "  The depth of circuit Q is 257\n",
      "For the 182th Pauli string:\n",
      "  The depth of circuit A is 127\n",
      "  The depth of circuit Q is 260\n",
      "For the 183th Pauli string:\n",
      "  The depth of circuit A is 127\n",
      "  The depth of circuit Q is 259\n",
      "For the 184th Pauli string:\n",
      "  The depth of circuit A is 126\n",
      "  The depth of circuit Q is 256\n",
      "For the 185th Pauli string:\n",
      "  The depth of circuit A is 128\n",
      "  The depth of circuit Q is 260\n",
      "For the 186th Pauli string:\n",
      "  The depth of circuit A is 127\n",
      "  The depth of circuit Q is 257\n",
      "For the 187th Pauli string:\n",
      "  The depth of circuit A is 127\n",
      "  The depth of circuit Q is 258\n",
      "For the 188th Pauli string:\n",
      "  The depth of circuit A is 128\n",
      "  The depth of circuit Q is 261\n",
      "For the 189th Pauli string:\n",
      "  The depth of circuit A is 127\n",
      "  The depth of circuit Q is 260\n",
      "For the 190th Pauli string:\n",
      "  The depth of circuit A is 127\n",
      "  The depth of circuit Q is 259\n",
      "For the 191th Pauli string:\n",
      "  The depth of circuit A is 127\n",
      "  The depth of circuit Q is 258\n",
      "For the 192th Pauli string:\n",
      "  The depth of circuit A is 127\n",
      "  The depth of circuit Q is 259\n",
      "For the 193th Pauli string:\n",
      "  The depth of circuit A is 125\n",
      "  The depth of circuit Q is 254\n",
      "For the 194th Pauli string:\n",
      "  The depth of circuit A is 128\n",
      "  The depth of circuit Q is 260\n",
      "For the 195th Pauli string:\n",
      "  The depth of circuit A is 127\n",
      "  The depth of circuit Q is 259\n",
      "For the 196th Pauli string:\n",
      "  The depth of circuit A is 128\n",
      "  The depth of circuit Q is 261\n",
      "For the 197th Pauli string:\n",
      "  The depth of circuit A is 128\n",
      "  The depth of circuit Q is 261\n",
      "For the 198th Pauli string:\n",
      "  The depth of circuit A is 128\n",
      "  The depth of circuit Q is 261\n",
      "For the 199th Pauli string:\n",
      "  The depth of circuit A is 128\n",
      "  The depth of circuit Q is 260\n",
      "For the 200th Pauli string:\n",
      "  The depth of circuit A is 128\n",
      "  The depth of circuit Q is 260\n",
      "For the 201th Pauli string:\n",
      "  The depth of circuit A is 125\n",
      "  The depth of circuit Q is 254\n",
      "For the 202th Pauli string:\n",
      "  The depth of circuit A is 125\n",
      "  The depth of circuit Q is 252\n",
      "For the 203th Pauli string:\n",
      "  The depth of circuit A is 128\n",
      "  The depth of circuit Q is 261\n",
      "For the 204th Pauli string:\n",
      "  The depth of circuit A is 128\n",
      "  The depth of circuit Q is 260\n",
      "For the 205th Pauli string:\n",
      "  The depth of circuit A is 125\n",
      "  The depth of circuit Q is 251\n",
      "For the 206th Pauli string:\n",
      "  The depth of circuit A is 127\n",
      "  The depth of circuit Q is 259\n",
      "For the 207th Pauli string:\n",
      "  The depth of circuit A is 128\n",
      "  The depth of circuit Q is 259\n",
      "For the 208th Pauli string:\n",
      "  The depth of circuit A is 128\n",
      "  The depth of circuit Q is 260\n",
      "For the 209th Pauli string:\n",
      "  The depth of circuit A is 127\n",
      "  The depth of circuit Q is 257\n",
      "For the 210th Pauli string:\n",
      "  The depth of circuit A is 127\n",
      "  The depth of circuit Q is 258\n",
      "For the 211th Pauli string:\n",
      "  The depth of circuit A is 128\n",
      "  The depth of circuit Q is 261\n",
      "For the 212th Pauli string:\n",
      "  The depth of circuit A is 127\n",
      "  The depth of circuit Q is 259\n",
      "For the 213th Pauli string:\n",
      "  The depth of circuit A is 125\n",
      "  The depth of circuit Q is 252\n",
      "For the 214th Pauli string:\n",
      "  The depth of circuit A is 127\n",
      "  The depth of circuit Q is 258\n",
      "For the 215th Pauli string:\n",
      "  The depth of circuit A is 128\n",
      "  The depth of circuit Q is 262\n",
      "For the 216th Pauli string:\n",
      "  The depth of circuit A is 128\n",
      "  The depth of circuit Q is 261\n",
      "For the 217th Pauli string:\n",
      "  The depth of circuit A is 125\n",
      "  The depth of circuit Q is 251\n",
      "For the 218th Pauli string:\n",
      "  The depth of circuit A is 128\n",
      "  The depth of circuit Q is 259\n",
      "For the 219th Pauli string:\n",
      "  The depth of circuit A is 127\n",
      "  The depth of circuit Q is 258\n",
      "For the 220th Pauli string:\n",
      "  The depth of circuit A is 128\n",
      "  The depth of circuit Q is 260\n",
      "For the 221th Pauli string:\n",
      "  The depth of circuit A is 128\n",
      "  The depth of circuit Q is 259\n",
      "For the 222th Pauli string:\n",
      "  The depth of circuit A is 128\n",
      "  The depth of circuit Q is 260\n",
      "For the 223th Pauli string:\n",
      "  The depth of circuit A is 128\n",
      "  The depth of circuit Q is 260\n",
      "For the 224th Pauli string:\n",
      "  The depth of circuit A is 128\n",
      "  The depth of circuit Q is 259\n",
      "For the 225th Pauli string:\n",
      "  The depth of circuit A is 128\n",
      "  The depth of circuit Q is 260\n",
      "For the 226th Pauli string:\n",
      "  The depth of circuit A is 128\n",
      "  The depth of circuit Q is 261\n",
      "For the 227th Pauli string:\n",
      "  The depth of circuit A is 128\n",
      "  The depth of circuit Q is 261\n",
      "For the 228th Pauli string:\n",
      "  The depth of circuit A is 128\n",
      "  The depth of circuit Q is 260\n",
      "For the 229th Pauli string:\n",
      "  The depth of circuit A is 127\n",
      "  The depth of circuit Q is 258\n",
      "For the 230th Pauli string:\n",
      "  The depth of circuit A is 128\n",
      "  The depth of circuit Q is 261\n",
      "For the 231th Pauli string:\n",
      "  The depth of circuit A is 127\n",
      "  The depth of circuit Q is 258\n",
      "For the 232th Pauli string:\n",
      "  The depth of circuit A is 126\n",
      "  The depth of circuit Q is 254\n",
      "For the 233th Pauli string:\n",
      "  The depth of circuit A is 127\n",
      "  The depth of circuit Q is 257\n",
      "For the 234th Pauli string:\n",
      "  The depth of circuit A is 127\n",
      "  The depth of circuit Q is 259\n",
      "For the 235th Pauli string:\n",
      "  The depth of circuit A is 126\n",
      "  The depth of circuit Q is 255\n",
      "For the 236th Pauli string:\n",
      "  The depth of circuit A is 125\n",
      "  The depth of circuit Q is 251\n",
      "For the 237th Pauli string:\n",
      "  The depth of circuit A is 128\n",
      "  The depth of circuit Q is 260\n",
      "For the 238th Pauli string:\n",
      "  The depth of circuit A is 128\n",
      "  The depth of circuit Q is 259\n",
      "For the 239th Pauli string:\n",
      "  The depth of circuit A is 128\n",
      "  The depth of circuit Q is 258\n",
      "For the 240th Pauli string:\n",
      "  The depth of circuit A is 128\n",
      "  The depth of circuit Q is 259\n",
      "For the 241th Pauli string:\n",
      "  The depth of circuit A is 126\n",
      "  The depth of circuit Q is 257\n",
      "For the 242th Pauli string:\n",
      "  The depth of circuit A is 127\n",
      "  The depth of circuit Q is 259\n",
      "For the 243th Pauli string:\n",
      "  The depth of circuit A is 127\n",
      "  The depth of circuit Q is 260\n",
      "For the 244th Pauli string:\n",
      "  The depth of circuit A is 126\n",
      "  The depth of circuit Q is 256\n",
      "For the 245th Pauli string:\n",
      "  The depth of circuit A is 128\n",
      "  The depth of circuit Q is 261\n",
      "For the 246th Pauli string:\n",
      "  The depth of circuit A is 128\n",
      "  The depth of circuit Q is 260\n",
      "For the 247th Pauli string:\n",
      "  The depth of circuit A is 128\n",
      "  The depth of circuit Q is 259\n",
      "For the 248th Pauli string:\n",
      "  The depth of circuit A is 128\n",
      "  The depth of circuit Q is 258\n",
      "For the 249th Pauli string:\n",
      "  The depth of circuit A is 127\n",
      "  The depth of circuit Q is 260\n",
      "For the 250th Pauli string:\n",
      "  The depth of circuit A is 127\n",
      "  The depth of circuit Q is 258\n",
      "For the 251th Pauli string:\n",
      "  The depth of circuit A is 127\n",
      "  The depth of circuit Q is 259\n",
      "For the 252th Pauli string:\n",
      "  The depth of circuit A is 127\n",
      "  The depth of circuit Q is 259\n",
      "For the 253th Pauli string:\n",
      "  The depth of circuit A is 128\n",
      "  The depth of circuit Q is 260\n",
      "For the 254th Pauli string:\n",
      "  The depth of circuit A is 128\n",
      "  The depth of circuit Q is 261\n",
      "For the 255th Pauli string:\n",
      "  The depth of circuit A is 128\n",
      "  The depth of circuit Q is 260\n",
      "For the 256th Pauli string:\n",
      "  The depth of circuit A is 127\n",
      "  The depth of circuit Q is 258\n",
      "For the 257th Pauli string:\n",
      "  The depth of circuit A is 128\n",
      "  The depth of circuit Q is 260\n",
      "For the 258th Pauli string:\n",
      "  The depth of circuit A is 127\n",
      "  The depth of circuit Q is 259\n",
      "For the 259th Pauli string:\n",
      "  The depth of circuit A is 127\n",
      "  The depth of circuit Q is 256\n",
      "For the 260th Pauli string:\n",
      "  The depth of circuit A is 128\n",
      "  The depth of circuit Q is 259\n",
      "For the 261th Pauli string:\n",
      "  The depth of circuit A is 127\n",
      "  The depth of circuit Q is 260\n",
      "For the 262th Pauli string:\n",
      "  The depth of circuit A is 128\n",
      "  The depth of circuit Q is 262\n",
      "For the 263th Pauli string:\n",
      "  The depth of circuit A is 125\n",
      "  The depth of circuit Q is 252\n",
      "For the 264th Pauli string:\n",
      "  The depth of circuit A is 128\n",
      "  The depth of circuit Q is 259\n",
      "For the 265th Pauli string:\n",
      "  The depth of circuit A is 128\n",
      "  The depth of circuit Q is 261\n",
      "For the 266th Pauli string:\n",
      "  The depth of circuit A is 128\n",
      "  The depth of circuit Q is 262\n",
      "For the 267th Pauli string:\n",
      "  The depth of circuit A is 128\n",
      "  The depth of circuit Q is 259\n",
      "For the 268th Pauli string:\n",
      "  The depth of circuit A is 127\n",
      "  The depth of circuit Q is 259\n"
     ]
    }
   ],
   "source": [
    "# Create an instance of the AerSimulator\n",
    "aer_sim = AerSimulator()\n",
    "\n",
    "# Dictionary to store depths of transpiled circuits\n",
    "transpiled_depths = {}\n",
    "\n",
    "# Walk through the numbered folders in circuits\n",
    "for folder in os.listdir('circuits'):\n",
    "    folder_path = os.path.join('circuits', folder)\n",
    "    if os.path.isdir(folder_path):\n",
    "        # Process circuit_A.qpy and circuit_Q.qpy\n",
    "        for circuit_file in ['circuit_A.qpy', 'circuit_Q.qpy']:\n",
    "            input_path = os.path.join(folder_path, circuit_file)\n",
    "            if os.path.exists(input_path):\n",
    "                # Load the circuit\n",
    "                with open(input_path, 'rb') as f:\n",
    "                    circuit = qpy_load(f)[0]\n",
    "                \n",
    "                # Transpile the circuit\n",
    "                transpiled_circuit = transpile(circuit, backend=aer_sim, optimization_level=3)\n",
    "                \n",
    "                # Save the transpiled circuit\n",
    "                transpiled_output_path = os.path.join(folder_path, f'transpiled_{circuit_file}')\n",
    "                \n",
    "                with open(transpiled_output_path, 'wb') as f:\n",
    "                    qpy_dump(transpiled_circuit, f)\n",
    "                \n",
    "                print(f\"Transpiled and saved: {transpiled_output_path}\")\n",
    "                \n",
    "                # Store the depth of the transpiled circuit\n",
    "                circuit_key = f\"{folder}_{circuit_file.split('.')[0]}\"\n",
    "                transpiled_depths[circuit_key] = transpiled_circuit.depth()\n",
    "    \n",
    "print(\"All circuits have been transpiled and saved.\")\n",
    "\n",
    "# Print depths for both circuit A and Q\n",
    "for folder in sorted([d for d in os.listdir('circuits') if os.path.isdir(os.path.join('circuits', d))], key=int):\n",
    "    circuit_A_key = f\"{folder}_circuit_A\"\n",
    "    circuit_Q_key = f\"{folder}_circuit_Q\"\n",
    "    if circuit_A_key in transpiled_depths and circuit_Q_key in transpiled_depths:\n",
    "        print(f\"For the {int(folder) + 1}th Pauli string:\")\n",
    "        print(f\"  The depth of circuit A is {transpiled_depths[circuit_A_key]}\")\n",
    "        print(f\"  The depth of circuit Q is {transpiled_depths[circuit_Q_key]}\")\n",
    "\n"
   ]
  },
  {
   "cell_type": "markdown",
   "id": "a699c541",
   "metadata": {
    "papermill": {
     "duration": 0.039263,
     "end_time": "2025-01-26T16:39:59.567753",
     "exception": false,
     "start_time": "2025-01-26T16:39:59.528490",
     "status": "completed"
    },
    "tags": []
   },
   "source": [
    "### 3 Plot all circuits"
   ]
  },
  {
   "cell_type": "code",
   "execution_count": 5,
   "id": "f9d17223",
   "metadata": {
    "execution": {
     "iopub.execute_input": "2025-01-26T16:39:59.647645Z",
     "iopub.status.busy": "2025-01-26T16:39:59.647098Z",
     "iopub.status.idle": "2025-01-26T16:39:59.651686Z",
     "shell.execute_reply": "2025-01-26T16:39:59.650868Z"
    },
    "papermill": {
     "duration": 0.04788,
     "end_time": "2025-01-26T16:39:59.652956",
     "exception": false,
     "start_time": "2025-01-26T16:39:59.605076",
     "status": "completed"
    },
    "tags": []
   },
   "outputs": [],
   "source": [
    "# # Walk through the numbered folders in circuits\n",
    "# for folder in os.listdir('circuits'):\n",
    "#     folder_path = os.path.join('circuits', folder)\n",
    "#     if os.path.isdir(folder_path):\n",
    "#         # Process all circuit files in the folder\n",
    "#         for circuit_file in os.listdir(folder_path):\n",
    "#             if circuit_file.endswith('.qpy'):\n",
    "#                 input_path = os.path.join(folder_path, circuit_file)\n",
    "                \n",
    "#                 # Load the circuit\n",
    "#                 with open(input_path, 'rb') as f:\n",
    "#                     circuit = qpy_load(f)[0]\n",
    "                \n",
    "#                 # Draw the circuit\n",
    "#                 circuit_img = circuit.draw(output='mpl', style={\n",
    "#                     'dpi': 150,\n",
    "#                     'font_size': 20,\n",
    "#                     'backgroundcolor': '#EEEEEE'\n",
    "#                 })\n",
    "#                 circuit_img.figure.set_size_inches(30, 15)\n",
    "                \n",
    "#                 # Save the plot\n",
    "#                 output_filename = f\"{os.path.splitext(circuit_file)[0]}.png\"\n",
    "#                 output_path = os.path.join(folder_path, output_filename)\n",
    "#                 circuit_img.figure.savefig(output_path, dpi=300, bbox_inches='tight')\n",
    "#                 plt.close(circuit_img.figure)\n",
    "                \n",
    "#                 print(f\"Saved circuit plot: {output_path}\")\n",
    "\n",
    "# print(\"All circuit plots have been generated and saved.\")"
   ]
  },
  {
   "cell_type": "code",
   "execution_count": null,
   "id": "d40316d1",
   "metadata": {
    "papermill": {
     "duration": 0.040536,
     "end_time": "2025-01-26T16:39:59.735147",
     "exception": false,
     "start_time": "2025-01-26T16:39:59.694611",
     "status": "completed"
    },
    "tags": []
   },
   "outputs": [],
   "source": []
  }
 ],
 "metadata": {
  "kernelspec": {
   "display_name": "Python 3 (ipykernel)",
   "language": "python",
   "name": "python3"
  },
  "language_info": {
   "codemirror_mode": {
    "name": "ipython",
    "version": 3
   },
   "file_extension": ".py",
   "mimetype": "text/x-python",
   "name": "python",
   "nbconvert_exporter": "python",
   "pygments_lexer": "ipython3",
   "version": "3.10.15"
  },
  "papermill": {
   "default_parameters": {},
   "duration": 219.065286,
   "end_time": "2025-01-26T16:40:00.395613",
   "environment_variables": {},
   "exception": null,
   "input_path": "all_str_A_Q.ipynb",
   "output_path": "/usr/src/app/SoleyGroup/lab_data/Notebooks/Statistics/Corrected_plots/corrected_BeH2/BondLengths/processing_BL_1p40000/all_str_A_Q/all_str_A_Q_out.ipynb",
   "parameters": {},
   "start_time": "2025-01-26T16:36:21.330327",
   "version": "2.6.0"
  }
 },
 "nbformat": 4,
 "nbformat_minor": 5
}