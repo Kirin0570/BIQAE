{
 "cells": [
  {
   "cell_type": "code",
   "execution_count": 1,
   "id": "2023bd15-296f-4874-b051-4b0bea0d659e",
   "metadata": {},
   "outputs": [],
   "source": [
    "import pandas as pd\n",
    "import os\n",
    "import papermill as pm\n",
    "import re"
   ]
  },
  {
   "cell_type": "markdown",
   "id": "934d85a7-2f98-4c48-8384-52faf788bd68",
   "metadata": {},
   "source": [
    "### 1 Create the `processing_BL_*` folders"
   ]
  },
  {
   "cell_type": "code",
   "execution_count": 2,
   "id": "8d7367b8-4939-4900-9451-781da982545f",
   "metadata": {},
   "outputs": [
    {
     "data": {
      "text/plain": [
       "0    0.8000\n",
       "1    0.8800\n",
       "2    1.0000\n",
       "3    1.3264\n",
       "4    1.4000\n",
       "5    1.8000\n",
       "6    2.2000\n",
       "7    2.6000\n",
       "8    3.0000\n",
       "9    3.5000\n",
       "Name: BL, dtype: float64"
      ]
     },
     "execution_count": 2,
     "metadata": {},
     "output_type": "execute_result"
    }
   ],
   "source": [
    "# Load the BL\n",
    "file_path = os.path.join(\".\", \"select_BL\", \"selected.csv\")\n",
    "\n",
    "# Read the CSV file\n",
    "df = pd.read_csv(file_path)\n",
    "\n",
    "BLs = df[\"BL\"]\n",
    "BLs"
   ]
  },
  {
   "cell_type": "code",
   "execution_count": 3,
   "id": "83716834-4c8e-4661-98bc-0b1ffc18655a",
   "metadata": {},
   "outputs": [
    {
     "name": "stdout",
     "output_type": "stream",
     "text": [
      "Folders created successfully!\n"
     ]
    }
   ],
   "source": [
    "# Create the `BL` directory\n",
    "# Path to the BondLengths directory\n",
    "BLs_dir = os.path.join(os.getcwd(), \"BondLengths\")\n",
    "os.makedirs(BLs_dir, exist_ok=True)\n",
    "\n",
    "# Create subdirectories with formatted names\n",
    "for bl in BLs:\n",
    "    folder_name = f\"processing_BL_{bl:.5f}\".replace(\".\", \"p\")\n",
    "    folder_path = os.path.join(BLs_dir, folder_name)\n",
    "    os.makedirs(folder_path, exist_ok=True)\n",
    "\n",
    "print(\"Folders created successfully!\")"
   ]
  },
  {
   "cell_type": "markdown",
   "id": "a2415da7-ffe1-46a7-9b40-93114e1431b8",
   "metadata": {},
   "source": [
    "### 2 Run `vqe.ipynb`"
   ]
  },
  {
   "cell_type": "code",
   "execution_count": 4,
   "id": "57d2f78c-e407-4ffb-bdc4-919e949278b6",
   "metadata": {},
   "outputs": [
    {
     "data": {
      "application/vnd.jupyter.widget-view+json": {
       "model_id": "a17a84ad70934034b377d93e41bd59cd",
       "version_major": 2,
       "version_minor": 0
      },
      "text/plain": [
       "Executing:   0%|          | 0/18 [00:00<?, ?cell/s]"
      ]
     },
     "metadata": {},
     "output_type": "display_data"
    },
    {
     "name": "stdout",
     "output_type": "stream",
     "text": [
      "Executed notebook for folder: processing_BL_0p80000 with BL=0.8\n"
     ]
    },
    {
     "data": {
      "application/vnd.jupyter.widget-view+json": {
       "model_id": "eb0abad298bb404695747aed162acb79",
       "version_major": 2,
       "version_minor": 0
      },
      "text/plain": [
       "Executing:   0%|          | 0/18 [00:00<?, ?cell/s]"
      ]
     },
     "metadata": {},
     "output_type": "display_data"
    },
    {
     "name": "stdout",
     "output_type": "stream",
     "text": [
      "Executed notebook for folder: processing_BL_0p88000 with BL=0.88\n"
     ]
    },
    {
     "data": {
      "application/vnd.jupyter.widget-view+json": {
       "model_id": "8000f90410d348ddbd2db791193ace1a",
       "version_major": 2,
       "version_minor": 0
      },
      "text/plain": [
       "Executing:   0%|          | 0/18 [00:00<?, ?cell/s]"
      ]
     },
     "metadata": {},
     "output_type": "display_data"
    },
    {
     "name": "stdout",
     "output_type": "stream",
     "text": [
      "Executed notebook for folder: processing_BL_1p00000 with BL=1.0\n"
     ]
    },
    {
     "data": {
      "application/vnd.jupyter.widget-view+json": {
       "model_id": "265e3f9d80584aa2a1d6b3ff09098934",
       "version_major": 2,
       "version_minor": 0
      },
      "text/plain": [
       "Executing:   0%|          | 0/18 [00:00<?, ?cell/s]"
      ]
     },
     "metadata": {},
     "output_type": "display_data"
    },
    {
     "name": "stdout",
     "output_type": "stream",
     "text": [
      "Executed notebook for folder: processing_BL_1p32640 with BL=1.3264\n"
     ]
    },
    {
     "data": {
      "application/vnd.jupyter.widget-view+json": {
       "model_id": "8d115ca9d837433ba9e0a75338c4c6cb",
       "version_major": 2,
       "version_minor": 0
      },
      "text/plain": [
       "Executing:   0%|          | 0/18 [00:00<?, ?cell/s]"
      ]
     },
     "metadata": {},
     "output_type": "display_data"
    },
    {
     "name": "stdout",
     "output_type": "stream",
     "text": [
      "Executed notebook for folder: processing_BL_1p40000 with BL=1.4\n"
     ]
    },
    {
     "data": {
      "application/vnd.jupyter.widget-view+json": {
       "model_id": "68ff2b0e514e49b58321bb1c32ff9780",
       "version_major": 2,
       "version_minor": 0
      },
      "text/plain": [
       "Executing:   0%|          | 0/18 [00:00<?, ?cell/s]"
      ]
     },
     "metadata": {},
     "output_type": "display_data"
    },
    {
     "name": "stdout",
     "output_type": "stream",
     "text": [
      "Executed notebook for folder: processing_BL_1p80000 with BL=1.8\n"
     ]
    },
    {
     "data": {
      "application/vnd.jupyter.widget-view+json": {
       "model_id": "dda0d1301232494489e5057f803d81f6",
       "version_major": 2,
       "version_minor": 0
      },
      "text/plain": [
       "Executing:   0%|          | 0/18 [00:00<?, ?cell/s]"
      ]
     },
     "metadata": {},
     "output_type": "display_data"
    },
    {
     "name": "stdout",
     "output_type": "stream",
     "text": [
      "Executed notebook for folder: processing_BL_2p20000 with BL=2.2\n"
     ]
    },
    {
     "data": {
      "application/vnd.jupyter.widget-view+json": {
       "model_id": "e246ee00959c4be89e4a616553b08563",
       "version_major": 2,
       "version_minor": 0
      },
      "text/plain": [
       "Executing:   0%|          | 0/18 [00:00<?, ?cell/s]"
      ]
     },
     "metadata": {},
     "output_type": "display_data"
    },
    {
     "name": "stdout",
     "output_type": "stream",
     "text": [
      "Executed notebook for folder: processing_BL_2p60000 with BL=2.6\n"
     ]
    },
    {
     "data": {
      "application/vnd.jupyter.widget-view+json": {
       "model_id": "2ea852acdca7452eaabbd340b6650ab6",
       "version_major": 2,
       "version_minor": 0
      },
      "text/plain": [
       "Executing:   0%|          | 0/18 [00:00<?, ?cell/s]"
      ]
     },
     "metadata": {},
     "output_type": "display_data"
    },
    {
     "name": "stdout",
     "output_type": "stream",
     "text": [
      "Executed notebook for folder: processing_BL_3p00000 with BL=3.0\n"
     ]
    },
    {
     "data": {
      "application/vnd.jupyter.widget-view+json": {
       "model_id": "818771877def4283bdf53c3084752b34",
       "version_major": 2,
       "version_minor": 0
      },
      "text/plain": [
       "Executing:   0%|          | 0/18 [00:00<?, ?cell/s]"
      ]
     },
     "metadata": {},
     "output_type": "display_data"
    },
    {
     "name": "stdout",
     "output_type": "stream",
     "text": [
      "Executed notebook for folder: processing_BL_3p50000 with BL=3.5\n"
     ]
    }
   ],
   "source": [
    "# Define the path to the notebook you want to run\n",
    "notebook_path = \"vqe.ipynb\"\n",
    "\n",
    "# Regex pattern to match folders in the format \"processing_BL_XpY\"\n",
    "pattern = re.compile(r\"^processing_BL_(\\d+)p(\\d+)$\")\n",
    "\n",
    "# Iterate through all items in the BondLengths directory\n",
    "for item in sorted(os.listdir(BLs_dir)):\n",
    "    match = pattern.match(item)  # Check if the folder matches the pattern\n",
    "    folder_path = os.path.join(BLs_dir, item)\n",
    "    \n",
    "    if match and os.path.isdir(folder_path):\n",
    "        # Extract BL value from folder name (convert \"processing_BL_XpY\" to float X.Y)\n",
    "        BL = float(f\"{match.group(1)}.{match.group(2)}\")\n",
    "\n",
    "        output_notebook = os.path.join(folder_path, \"vqe.ipynb\")\n",
    "\n",
    "        # Run the notebook with the extracted BL as a parameter\n",
    "        pm.execute_notebook(\n",
    "            notebook_path,\n",
    "            output_notebook,\n",
    "            cwd=folder_path,\n",
    "            parameters={\"BL\": BL}\n",
    "        )\n",
    "\n",
    "        print(f\"Executed notebook for folder: {item} with BL={BL}\")"
   ]
  },
  {
   "cell_type": "code",
   "execution_count": null,
   "id": "edcb497f-3e54-4530-8af1-ac84dfc18913",
   "metadata": {},
   "outputs": [],
   "source": []
  }
 ],
 "metadata": {
  "kernelspec": {
   "display_name": "Python 3 (ipykernel)",
   "language": "python",
   "name": "python3"
  },
  "language_info": {
   "codemirror_mode": {
    "name": "ipython",
    "version": 3
   },
   "file_extension": ".py",
   "mimetype": "text/x-python",
   "name": "python",
   "nbconvert_exporter": "python",
   "pygments_lexer": "ipython3",
   "version": "3.10.15"
  }
 },
 "nbformat": 4,
 "nbformat_minor": 5
}
